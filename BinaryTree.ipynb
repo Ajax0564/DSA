{
 "cells": [
  {
   "cell_type": "code",
   "execution_count": 1,
   "metadata": {},
   "outputs": [
    {
     "name": "stdout",
     "output_type": "stream",
     "text": [
      "7 —> 3 —> 1\n",
      "9 —> 6 —> 3 —> 1\n",
      "8 —> 6 —> 3 —> 1\n",
      "5 —> 2 —> 1\n",
      "4 —> 2 —> 1\n"
     ]
    }
   ],
   "source": [
    "from collections import deque\n",
    "\n",
    "\n",
    "# A class to store a binary tree node\n",
    "class Node:\n",
    "    def __init__(self, data, left=None, right=None):\n",
    "        self.data = data\n",
    "        self.left = left\n",
    "        self.right = right\n",
    "\n",
    "\n",
    "# Function to check if a given node is a leaf node or not\n",
    "def isLeaf(node):\n",
    "    return node.left is None and node.right is None\n",
    "\n",
    "\n",
    "# Recursive function to print the root-to-leaf path for a given leaf\n",
    "def printPathRecursive(curr, d):\n",
    "\n",
    "    # base case: `curr` is the root node (parent of the root node is None)\n",
    "    if curr is None:\n",
    "        return\n",
    "\n",
    "    # recursively call the parent node\n",
    "    printPathRecursive(d[curr], d)\n",
    "    print(curr.data, end=\" —> \")\n",
    "\n",
    "\n",
    "# Iterative function to print the leaf-to-root path for a given leaf.\n",
    "# For printing root-to-leaf path, we can use `printPathRecursive()` or a stack\n",
    "def printPathIterative(leafNode, d):\n",
    "\n",
    "    # start from the leaf node\n",
    "    curr = leafNode\n",
    "\n",
    "    # loop till the root node is reached and print each node in the path\n",
    "    while d[curr]:\n",
    "        print(curr.data, end=\" —> \")\n",
    "        curr = d[curr]\n",
    "\n",
    "    print(curr.data)\n",
    "\n",
    "\n",
    "# Iterative function to print the leaf-to-root path for every leaf node\n",
    "def postorderIterative(root):\n",
    "\n",
    "    # base case\n",
    "    if not root:\n",
    "        return\n",
    "\n",
    "    # create an empty stack\n",
    "    s = deque()\n",
    "\n",
    "    # create an empty dictionary to store (child, parent) pairs\n",
    "    d = {}\n",
    "\n",
    "    # parent of the root node is None\n",
    "    d[root] = None\n",
    "\n",
    "    # push the root node\n",
    "    s.append(root)\n",
    "\n",
    "    # loop till stack is empty\n",
    "    while s:\n",
    "\n",
    "        # pop the top node from the stack\n",
    "        curr = s.pop()\n",
    "\n",
    "        # if a leaf node is found, print the path\n",
    "        if isLeaf(curr):\n",
    "            # print the leaf-to-root path for the current leaf\n",
    "            printPathIterative(curr, d)\n",
    "\n",
    "        # print root-to-leaf path for the current leaf\n",
    "        # printPathRecursive(curr, d)\n",
    "\n",
    "        # Push the left and right child of the popped node into the stack.\n",
    "        # Include the current node's left and right child in a dictionary\n",
    "        if curr.left:\n",
    "            s.append(curr.left)\n",
    "            d[curr.left] = curr\n",
    "\n",
    "        if curr.right:\n",
    "            s.append(curr.right)\n",
    "            d[curr.right] = curr\n",
    "\n",
    "\n",
    "if __name__ == \"__main__\":\n",
    "\n",
    "    \"\"\" Construct the following tree\n",
    "                1\n",
    "              /   \\\n",
    "             /     \\\n",
    "            /       \\\n",
    "           2         3\n",
    "          / \\       / \\\n",
    "         /   \\     /   \\\n",
    "        4     5   6     7\n",
    "                 / \\\n",
    "                /   \\\n",
    "               8     9\n",
    "    \"\"\"\n",
    "\n",
    "    root = Node(1)\n",
    "    root.left = Node(2)\n",
    "    root.right = Node(3)\n",
    "    root.left.left = Node(4)\n",
    "    root.left.right = Node(5)\n",
    "    root.right.left = Node(6)\n",
    "    root.right.right = Node(7)\n",
    "    root.right.left.left = Node(8)\n",
    "    root.right.left.right = Node(9)\n",
    "\n",
    "    postorderIterative(root)"
   ]
  },
  {
   "cell_type": "code",
   "execution_count": 2,
   "metadata": {},
   "outputs": [],
   "source": [
    "root = Node(1)\n",
    "root.left = Node(2)\n",
    "root.right = Node(3)"
   ]
  },
  {
   "cell_type": "code",
   "execution_count": 3,
   "metadata": {},
   "outputs": [
    {
     "data": {
      "text/plain": [
       "True"
      ]
     },
     "execution_count": 3,
     "metadata": {},
     "output_type": "execute_result"
    }
   ],
   "source": [
    "def solve(root, path, s, check):\n",
    "    if root == None:\n",
    "        return\n",
    "    path.append(root.data)\n",
    "    if root.left == None and root.right == None:\n",
    "        if sum(path) == s:\n",
    "            check.data = True\n",
    "    solve(root.left, path, s, check)\n",
    "    solve(root.right, path, s, check)\n",
    "    path.pop()\n",
    "\n",
    "\n",
    "check = Node(False)\n",
    "path = []\n",
    "solve(root, path, 3, check)\n",
    "check.data"
   ]
  },
  {
   "cell_type": "code",
   "execution_count": 4,
   "metadata": {},
   "outputs": [
    {
     "name": "stdout",
     "output_type": "stream",
     "text": [
      "1 2 4 3 5 7 8 6 "
     ]
    }
   ],
   "source": [
    "from collections import deque\n",
    "\n",
    "\n",
    "# Data structure to store a binary tree node\n",
    "class Node:\n",
    "    def __init__(self, data=None, left=None, right=None):\n",
    "        self.data = data\n",
    "        self.left = left\n",
    "        self.right = right\n",
    "\n",
    "\n",
    "# Iterative function to perform preorder traversal on the tree\n",
    "def preorderIterative(root):\n",
    "\n",
    "    # return if the tree is empty\n",
    "    if root is None:\n",
    "        return\n",
    "\n",
    "    # create an empty stack and push the root node\n",
    "    stack = deque()\n",
    "    stack.append(root)\n",
    "\n",
    "    # loop till stack is empty\n",
    "    while stack:\n",
    "\n",
    "        # pop a node from the stack and print it\n",
    "        curr = stack.pop()\n",
    "\n",
    "        print(curr.data, end=\" \")\n",
    "\n",
    "        # push the right child of the popped node into the stack\n",
    "        if curr.right:\n",
    "            stack.append(curr.right)\n",
    "\n",
    "        # push the left child of the popped node into the stack\n",
    "        if curr.left:\n",
    "            stack.append(curr.left)\n",
    "\n",
    "    # the right child must be pushed first so that the left child\n",
    "    # is processed first (LIFO order)\n",
    "\n",
    "\n",
    "if __name__ == \"__main__\":\n",
    "\n",
    "    \"\"\" Construct the following tree\n",
    "               1\n",
    "             /   \\\n",
    "            /     \\\n",
    "           2       3\n",
    "          /      /   \\\n",
    "         /      /     \\\n",
    "        4      5       6\n",
    "              / \\\n",
    "             /   \\\n",
    "            7     8\n",
    "    \"\"\"\n",
    "\n",
    "    root = Node(1)\n",
    "    root.left = Node(2)\n",
    "    root.right = Node(3)\n",
    "    root.left.left = Node(4)\n",
    "    root.right.left = Node(5)\n",
    "    root.right.right = Node(6)\n",
    "    root.right.left.left = Node(7)\n",
    "    root.right.left.right = Node(8)\n",
    "\n",
    "    preorderIterative(root)"
   ]
  },
  {
   "cell_type": "code",
   "execution_count": 5,
   "metadata": {},
   "outputs": [],
   "source": [
    "def inorder(root):\n",
    "    if root == None:\n",
    "        return\n",
    "    inorder(root.left)\n",
    "    print(root.data, end=\" \")\n",
    "    inorder(root.right)\n",
    "\n",
    "\n",
    "class Node:\n",
    "    def __init__(self, data, left=None, right=None):\n",
    "        self.data = data\n",
    "        self.left = left\n",
    "        self.right = right"
   ]
  },
  {
   "cell_type": "code",
   "execution_count": 6,
   "metadata": {},
   "outputs": [],
   "source": [
    "def construct_bst(arr, l, r):\n",
    "    if l > r:\n",
    "        return None\n",
    "    mid = l + (r - l) // 2\n",
    "    root = Node(arr[mid])\n",
    "    root.left = construct_bst(arr, l, mid - 1)\n",
    "    root.right = construct_bst(arr, mid + 1, r)\n",
    "    return root"
   ]
  },
  {
   "cell_type": "code",
   "execution_count": 7,
   "metadata": {},
   "outputs": [
    {
     "name": "stdout",
     "output_type": "stream",
     "text": [
      "2 3 4 5 6 7 8 "
     ]
    }
   ],
   "source": [
    "arr = [2, 3, 4, 5, 6, 7, 8]\n",
    "arr.sort()\n",
    "root1 = construct_bst(arr, 0, len(arr) - 1)\n",
    "inorder(root1)"
   ]
  },
  {
   "cell_type": "code",
   "execution_count": 8,
   "metadata": {},
   "outputs": [
    {
     "name": "stdout",
     "output_type": "stream",
     "text": [
      "3 6 8 10 11 15 18 "
     ]
    }
   ],
   "source": [
    "arr = [3, 6, 8, 10, 11, 15, 18]\n",
    "arr.sort()\n",
    "root2 = construct_bst(arr, 0, len(arr) - 1)\n",
    "inorder(root2)"
   ]
  },
  {
   "cell_type": "code",
   "execution_count": 9,
   "metadata": {},
   "outputs": [],
   "source": [
    "def count_sum(r1, r2, x):\n",
    "    if r1 == None or r2 == None:\n",
    "        return\n",
    "    count_sum(r1.left, r2.right, x)\n",
    "    if r1.data + r2.data == x:\n",
    "        print(r1.data, r2.data)"
   ]
  },
  {
   "cell_type": "code",
   "execution_count": 10,
   "metadata": {},
   "outputs": [],
   "source": [
    "\"\"\" Construct the following tree\n",
    "           1\n",
    "         /   \\\n",
    "        2     3\n",
    "       / \\     \\\n",
    "      4   5     6\n",
    "       \\       /\n",
    "        7     8\n",
    "    \"\"\"\n",
    "\n",
    "\n",
    "class Node:\n",
    "    def __init__(self, data, left=None, right=None, next=None):\n",
    "        self.data = data\n",
    "        self.left = left\n",
    "        self.right = right\n",
    "        self.next = next\n",
    "\n",
    "\n",
    "root = Node(1)\n",
    "root.left = Node(2)\n",
    "root.right = Node(3)\n",
    "root.left.left = Node(4)\n",
    "root.left.right = Node(5)\n",
    "root.right.right = Node(6)\n",
    "root.left.left.right = Node(7)\n",
    "root.right.right.left = Node(8)"
   ]
  },
  {
   "cell_type": "code",
   "execution_count": 11,
   "metadata": {},
   "outputs": [],
   "source": [
    "def find_node_root(root, node, ans, path):\n",
    "    if root == None:\n",
    "        return\n",
    "    path.append(root.data)\n",
    "    if root == node:\n",
    "        ans.append(path.copy())\n",
    "    find_node_root(root.left, node, ans, path)\n",
    "    find_node_root(root.right, node, ans, path)\n",
    "    path.pop()"
   ]
  },
  {
   "cell_type": "code",
   "execution_count": 12,
   "metadata": {},
   "outputs": [
    {
     "data": {
      "text/plain": [
       "[[1, 3, 6]]"
      ]
     },
     "execution_count": 12,
     "metadata": {},
     "output_type": "execute_result"
    }
   ],
   "source": [
    "ans = []\n",
    "find_node_root(root, root.right.right, ans, [])\n",
    "ans"
   ]
  },
  {
   "cell_type": "code",
   "execution_count": 13,
   "metadata": {},
   "outputs": [
    {
     "name": "stdout",
     "output_type": "stream",
     "text": [
      "[10, 12, 14, 8]\n"
     ]
    }
   ],
   "source": [
    "from collections import deque\n",
    "\n",
    "\n",
    "class TreeNode:\n",
    "    def __init__(self, val):\n",
    "        self.val = val\n",
    "        self.left = None\n",
    "        self.right = None\n",
    "\n",
    "\n",
    "def distanceK(root, target, K):\n",
    "    ans = []\n",
    "    q = deque()\n",
    "    q.append(root)\n",
    "    need = None\n",
    "    m = {}  # to store the parent of each node\n",
    "\n",
    "    # BFS traversal to find the target node and populate the parent map\n",
    "    while q:\n",
    "        s = len(q)\n",
    "        for i in range(s):\n",
    "            temp = q.popleft()\n",
    "            if temp == target:\n",
    "                need = temp  # found the target node\n",
    "\n",
    "            if temp.left:\n",
    "                q.append(temp.left)\n",
    "                m[temp.left] = temp  # map the parent of the left child\n",
    "\n",
    "            if temp.right:\n",
    "                q.append(temp.right)\n",
    "                m[temp.right] = temp  # map the parent of the right child\n",
    "\n",
    "    mm = {}  # to store whether a node has been visited or not\n",
    "    q.append(need)\n",
    "    c = 0  # current distance from the target node\n",
    "\n",
    "    # BFS traversal to find nodes at distance K from the target node\n",
    "    while q:\n",
    "        s = len(q)\n",
    "        for i in range(s):\n",
    "            temp = q.popleft()\n",
    "            mm[temp] = 1  # mark the current node as visited\n",
    "\n",
    "            if c <= K:\n",
    "                ans.append(\n",
    "                    temp.val\n",
    "                )  # add the node value to the result if it's at distance less than equal to  K\n",
    "\n",
    "            if temp.left and mm.get(temp.left, 0) == 0:\n",
    "                q.append(temp.left)  # move left if the left child is not visited\n",
    "\n",
    "            if temp.right and mm.get(temp.right, 0) == 0:\n",
    "                q.append(temp.right)  # move right if the right child is not visited\n",
    "\n",
    "            if m.get(temp) and mm.get(m[temp], 0) == 0:\n",
    "                q.append(m[temp])  # move to the parent if the parent is not visited\n",
    "\n",
    "        c += 1\n",
    "        if c > K:\n",
    "            break  # break if the current distance exceeds K (no need to go further)\n",
    "\n",
    "    return ans\n",
    "\n",
    "\n",
    "# driver program to test the above functions\n",
    "if __name__ == \"__main__\":\n",
    "    root = TreeNode(20)\n",
    "    root.left = TreeNode(8)\n",
    "    root.right = TreeNode(22)\n",
    "    root.left.left = TreeNode(4)\n",
    "    root.left.right = TreeNode(12)\n",
    "    root.left.right.left = TreeNode(10)\n",
    "    root.left.right.right = TreeNode(14)\n",
    "    target = root.left.right.left\n",
    "    result = distanceK(root, target, 2)\n",
    "    print(result)  # Output: [4, 20]"
   ]
  },
  {
   "cell_type": "code",
   "execution_count": 14,
   "metadata": {},
   "outputs": [
    {
     "data": {
      "text/plain": [
       "4"
      ]
     },
     "execution_count": 14,
     "metadata": {},
     "output_type": "execute_result"
    }
   ],
   "source": [
    "def get_height(root):\n",
    "    if root == None:\n",
    "        return 0\n",
    "    if root.left == None and root.right == None:\n",
    "        return 1\n",
    "    l = get_height(root.left) + 1\n",
    "    r = get_height(root.right) + 1\n",
    "    return max(l, r)\n",
    "\n",
    "\n",
    "get_height(root)"
   ]
  },
  {
   "cell_type": "code",
   "execution_count": 15,
   "metadata": {},
   "outputs": [],
   "source": [
    "def connect_level(root):\n",
    "    q = deque([])\n",
    "    q.append(root)\n",
    "    while q:\n",
    "        n = len(q)\n",
    "        if n > 1:\n",
    "            prev = q.popleft()\n",
    "            if prev.left:\n",
    "                q.append(prev.left)\n",
    "            if prev.right:\n",
    "                q.append(prev.right)\n",
    "            for i in range(1, n):\n",
    "                curr = q.popleft()\n",
    "                prev.next = curr\n",
    "                prev = curr\n",
    "                if curr.left:\n",
    "                    q.append(curr.left)\n",
    "                if curr.right:\n",
    "                    q.append(curr.right)\n",
    "        else:\n",
    "            curr = q.popleft()\n",
    "            if curr.left:\n",
    "                q.append(curr.left)\n",
    "            if curr.right:\n",
    "                q.append(curr.right)"
   ]
  },
  {
   "cell_type": "code",
   "execution_count": 16,
   "metadata": {},
   "outputs": [],
   "source": [
    "connect_level(root)"
   ]
  },
  {
   "cell_type": "code",
   "execution_count": 17,
   "metadata": {},
   "outputs": [],
   "source": [
    "import heapq\n",
    "from heapq import heappop, heappush\n",
    "\n",
    "\n",
    "class Man:\n",
    "    def __init__(self, name, age) -> None:\n",
    "        self.name = name\n",
    "        self.age = age\n",
    "\n",
    "    def __repr__(self) -> str:\n",
    "        return f\"name :{self.name} age {self.age}\"\n",
    "\n",
    "    def __lt__(self, other):\n",
    "        return self.age > other.age\n",
    "\n",
    "    # def __gt__(self, other):\n",
    "    #     self.age > other.age\n",
    "\n",
    "    # def __eq__(self, other) -> bool:\n",
    "    #     self.age == other.age"
   ]
  },
  {
   "cell_type": "code",
   "execution_count": 18,
   "metadata": {},
   "outputs": [
    {
     "data": {
      "text/plain": [
       "name :ankit age 25"
      ]
     },
     "execution_count": 18,
     "metadata": {},
     "output_type": "execute_result"
    }
   ],
   "source": [
    "a = Man(\"ankit\", 25)\n",
    "b = Man(\"b\", 20)\n",
    "c = Man(\"c\", 10)\n",
    "h = [a, b, c]\n",
    "heapq.heapify(h)\n",
    "heappop(h)"
   ]
  },
  {
   "cell_type": "code",
   "execution_count": 19,
   "metadata": {},
   "outputs": [
    {
     "data": {
      "text/plain": [
       "name :b age 20"
      ]
     },
     "execution_count": 19,
     "metadata": {},
     "output_type": "execute_result"
    }
   ],
   "source": [
    "heappop(h)"
   ]
  },
  {
   "cell_type": "code",
   "execution_count": 20,
   "metadata": {},
   "outputs": [
    {
     "name": "stdout",
     "output_type": "stream",
     "text": [
      "freq {'o': 4, 'u': 1, 'r': 2, 'a': 5, 't': 2, 'p': 1, 'h': 1, 'g': 2, 'e': 1, 'n': 3, 'c': 2, 'l': 1, 'm': 3, 's': 3, '.': 1, 'f': 2, 'H': 1, 'i': 4, ' ': 6, 'd': 2}\n",
      "None:47  \n",
      "None:28 None:16  \n",
      "None:8 None:4 f:2 None:2  \n",
      "H:1 e:1 o:4 None:8 None:4 t:2  \n",
      "c:2 i:4 None:12  :6  \n",
      "None:6 None:3  \n",
      "r:2 u:1 s:3 None:19  \n",
      "None:11 None:6  \n",
      "m:3 n:3 a:5 None:8  \n",
      "None:4 None:2  \n",
      "h:1 .:1 d:2 None:4  \n",
      "g:2 None:2  \n",
      "p:1 l:1  \n",
      "Huffman Codes are: {'l': '00000', 'p': '00001', 'g': '0001', 'd': '0010', '.': '00110', 'h': '00111', 'a': '010', 'n': '0110', 'm': '0111', 's': '1000', 'u': '10010', 'r': '10011', ' ': '101', 'i': '1100', 'c': '11010', 't': '11011', 'o': '1110', 'e': '111100', 'H': '111101', 'f': '11111'}\n",
      "The original string is: Huffman coding is a data compression algorithm.\n",
      "The encoded string is: 11110110010111111111101110100110101110101110001011000110000110111001000101010101001001011011010101110101110011100001100111111001000100011001110011010101000000000111101001111001101100111011100110\n",
      "The decoded string is: Huffman coding is a data compression algorithm."
     ]
    }
   ],
   "source": [
    "import heapq\n",
    "from heapq import heappop, heappush\n",
    "from collections import deque\n",
    "\n",
    "\n",
    "def isLeaf(root):\n",
    "    return root.left is None and root.right is None\n",
    "\n",
    "\n",
    "# A Tree node\n",
    "class Node:\n",
    "    def __init__(self, ch, freq, left=None, right=None):\n",
    "        self.ch = ch\n",
    "        self.freq = freq\n",
    "        self.left = left\n",
    "        self.right = right\n",
    "\n",
    "    # Override the `__lt__()` function to make `Node` class work with priority queue\n",
    "    # such that the highest priority item has the lowest frequency\n",
    "    def __lt__(self, other):\n",
    "        return self.freq < other.freq\n",
    "\n",
    "    def __repr__(self) -> str:\n",
    "        return f\"{self.ch}:{self.freq}\"\n",
    "\n",
    "    def __str__(self) -> str:\n",
    "        return f\"{self.ch}:{self.freq}\"\n",
    "\n",
    "\n",
    "def levelorder(root):\n",
    "    q = deque([])\n",
    "    q.append(root)\n",
    "    while q:\n",
    "        n = len(q)\n",
    "        for _ in range(n):\n",
    "            curr = q.popleft()\n",
    "            print(curr, end=\" \")\n",
    "            if curr.left:\n",
    "                q.appendleft(curr.left)\n",
    "            if curr.right:\n",
    "                q.appendleft(curr.right)\n",
    "        print(\" \")\n",
    "\n",
    "\n",
    "# Traverse the Huffman Tree and store Huffman Codes in a dictionary\n",
    "def encode(root, s, huffman_code):\n",
    "\n",
    "    if root is None:\n",
    "        return\n",
    "\n",
    "    # found a leaf node\n",
    "    if isLeaf(root):\n",
    "        huffman_code[root.ch] = s if len(s) > 0 else \"1\"\n",
    "\n",
    "    encode(root.left, s + \"0\", huffman_code)\n",
    "    encode(root.right, s + \"1\", huffman_code)\n",
    "\n",
    "\n",
    "# Traverse the Huffman Tree and decode the encoded string\n",
    "def decode(root, index, s):\n",
    "\n",
    "    if root is None:\n",
    "        return index\n",
    "\n",
    "    # found a leaf node\n",
    "    if isLeaf(root):\n",
    "        print(root.ch, end=\"\")\n",
    "        return index\n",
    "\n",
    "    index = index + 1\n",
    "    root = root.left if s[index] == \"0\" else root.right\n",
    "    return decode(root, index, s)\n",
    "\n",
    "\n",
    "# Builds Huffman Tree and decodes the given input text\n",
    "def buildHuffmanTree(text):\n",
    "\n",
    "    # base case: empty string\n",
    "    if len(text) == 0:\n",
    "        return\n",
    "\n",
    "    # count the frequency of appearance of each character\n",
    "    # and store it in a dictionary\n",
    "    freq = {i: text.count(i) for i in set(text)}\n",
    "    print(\"freq\", freq)\n",
    "    # Create a priority queue to store live nodes of the Huffman tree.\n",
    "    pq = [Node(k, v) for k, v in freq.items()]\n",
    "    heapq.heapify(pq)\n",
    "\n",
    "    # do till there is more than one node in the queue\n",
    "    while len(pq) != 1:\n",
    "\n",
    "        # Remove the two nodes of the highest priority\n",
    "        # (the lowest frequency) from the queue\n",
    "\n",
    "        left = heappop(pq)\n",
    "        right = heappop(pq)\n",
    "\n",
    "        # create a new internal node with these two nodes as children and\n",
    "        # with a frequency equal to the sum of the two nodes' frequencies.\n",
    "        # Add the new node to the priority queue.\n",
    "\n",
    "        total = left.freq + right.freq\n",
    "        heappush(pq, Node(None, total, left, right))\n",
    "\n",
    "    # `root` stores pointer to the root of Huffman Tree\n",
    "    root = pq[0]\n",
    "    levelorder(root)\n",
    "    # traverse the Huffman tree and store the Huffman codes in a dictionary\n",
    "    huffmanCode = {}\n",
    "    encode(root, \"\", huffmanCode)\n",
    "\n",
    "    # print the Huffman codes\n",
    "    print(\"Huffman Codes are:\", huffmanCode)\n",
    "    print(\"The original string is:\", text)\n",
    "\n",
    "    # print the encoded string\n",
    "    s = \"\"\n",
    "    for c in text:\n",
    "        s += huffmanCode.get(c)\n",
    "\n",
    "    print(\"The encoded string is:\", s)\n",
    "    print(\"The decoded string is:\", end=\" \")\n",
    "\n",
    "    if isLeaf(root):\n",
    "        # Special case: For input like a, aa, aaa, etc.\n",
    "        while root.freq > 0:\n",
    "            print(root.ch, end=\"\")\n",
    "            root.freq = root.freq - 1\n",
    "    else:\n",
    "        # traverse the Huffman Tree again and this time,\n",
    "        # decode the encoded string\n",
    "        index = -1\n",
    "        while index < len(s) - 1:\n",
    "            index = decode(root, index, s)\n",
    "\n",
    "    # levelorder(root)\n",
    "\n",
    "\n",
    "# Huffman coding algorithm implementation in Python\n",
    "if __name__ == \"__main__\":\n",
    "\n",
    "    text = \"Huffman coding is a data compression algorithm.\"\n",
    "    buildHuffmanTree(text)"
   ]
  },
  {
   "cell_type": "code",
   "execution_count": 21,
   "metadata": {},
   "outputs": [],
   "source": [
    "# Print the given doubly linked list from left to right\n",
    "\n",
    "\n",
    "class Node:\n",
    "    def __init__(self, data, left=None, right=None):\n",
    "        self.data = data\n",
    "        self.left = left\n",
    "        self.right = right\n",
    "\n",
    "\n",
    "def printDDL(head):\n",
    "    while head:\n",
    "        print(head.data, end=\" \")\n",
    "        head = head.right\n",
    "\n",
    "\n",
    "root = Node(1)\n",
    "root.left = Node(2)\n",
    "root.right = Node(3)\n",
    "root.left.left = Node(4)\n",
    "root.left.right = Node(5)\n",
    "root.right.left = Node(6)\n",
    "root.right.right = Node(7)\n",
    "\n",
    "root.left.left.left = Node(8)\n",
    "root.left.left.right = Node(9)\n",
    "\n",
    "root.right.left.left = Node(10)\n",
    "root.right.left.right = Node(11)\n",
    "\n",
    "\n",
    "def addDLL_start(root, head):\n",
    "    if head:\n",
    "        root.right = head\n",
    "        head.left = root\n",
    "    head = root\n",
    "    return head\n",
    "\n",
    "\n",
    "def addDLL_end(root, head, tail):\n",
    "    if head == None:\n",
    "        head = tail = root\n",
    "    else:\n",
    "        tail.right = root\n",
    "        root.left = tail\n",
    "        tail = root\n",
    "    return head, tail\n",
    "\n",
    "\n",
    "def leafDLL(root, head):\n",
    "    if root == None:\n",
    "        return head\n",
    "\n",
    "    if root.left == None and root.right == None:\n",
    "        return addDLL_start(root, head)\n",
    "\n",
    "    head = leafDLL(root.left, head)\n",
    "    head = leafDLL(root.right, head)\n",
    "\n",
    "    return head\n",
    "\n",
    "\n",
    "out = leafDLL(root, None)"
   ]
  },
  {
   "cell_type": "code",
   "execution_count": 22,
   "metadata": {},
   "outputs": [
    {
     "name": "stdout",
     "output_type": "stream",
     "text": [
      "7 11 10 5 9 8 "
     ]
    }
   ],
   "source": [
    "printDDL(out)"
   ]
  },
  {
   "cell_type": "code",
   "execution_count": 23,
   "metadata": {},
   "outputs": [
    {
     "name": "stdout",
     "output_type": "stream",
     "text": [
      "8 9 5 10 11 7 "
     ]
    }
   ],
   "source": [
    "root = Node(1)\n",
    "root.left = Node(2)\n",
    "root.right = Node(3)\n",
    "root.left.left = Node(4)\n",
    "root.left.right = Node(5)\n",
    "root.right.left = Node(6)\n",
    "root.right.right = Node(7)\n",
    "\n",
    "root.left.left.left = Node(8)\n",
    "root.left.left.right = Node(9)\n",
    "\n",
    "root.right.left.left = Node(10)\n",
    "root.right.left.right = Node(11)\n",
    "\n",
    "\n",
    "def leafDLL(root, head, tail):\n",
    "    if root == None:\n",
    "        return head, tail\n",
    "\n",
    "    if root.left == None and root.right == None:\n",
    "        return addDLL_end(root, head, tail)\n",
    "\n",
    "    head, tail = leafDLL(root.left, head, tail)\n",
    "    head, tail = leafDLL(root.right, head, tail)\n",
    "\n",
    "    return head, tail\n",
    "\n",
    "\n",
    "out, _ = leafDLL(root, None, None)\n",
    "printDDL(out)"
   ]
  },
  {
   "cell_type": "code",
   "execution_count": 24,
   "metadata": {},
   "outputs": [],
   "source": [
    "root = Node(1)\n",
    "root.left = Node(2)\n",
    "root.right = Node(3)\n",
    "root.left.left = Node(4)\n",
    "root.left.right = Node(5)\n",
    "root.right.left = Node(6)\n",
    "root.right.right = Node(7)\n",
    "\n",
    "root.left.left.left = Node(8)\n",
    "root.left.left.right = Node(9)\n",
    "\n",
    "root.right.left.left = Node(10)\n",
    "root.right.left.right = Node(11)\n",
    "\n",
    "\n",
    "def addDLL_start(root, head):\n",
    "    if head:\n",
    "        root.right = head\n",
    "        head.left = root\n",
    "    head = root\n",
    "    return head\n",
    "\n",
    "\n",
    "def addDLL_end(root, head, tail):\n",
    "    if head == None:\n",
    "        head = tail = root\n",
    "    else:\n",
    "        tail.right = root\n",
    "        root.left = tail\n",
    "        tail = root\n",
    "    # tail.right = None\n",
    "    return head, tail\n",
    "\n",
    "\n",
    "def leafDLL(root, head):\n",
    "    if root == None:\n",
    "        return head\n",
    "\n",
    "    # if root.left == None and root.right == None:\n",
    "    # return addDLL_start(root, head)\n",
    "\n",
    "    head = leafDLL(root.left, head)\n",
    "    head = leafDLL(root.right, head)\n",
    "    head = addDLL_start(root, head)\n",
    "\n",
    "    return head"
   ]
  },
  {
   "cell_type": "code",
   "execution_count": 25,
   "metadata": {},
   "outputs": [],
   "source": [
    "out = leafDLL(root, None)\n",
    "# printDDL(out)"
   ]
  },
  {
   "cell_type": "code",
   "execution_count": 26,
   "metadata": {},
   "outputs": [
    {
     "name": "stdout",
     "output_type": "stream",
     "text": [
      "1 3 7 6 11 10 2 5 4 9 8 "
     ]
    }
   ],
   "source": [
    "printDDL(out)"
   ]
  },
  {
   "cell_type": "code",
   "execution_count": 27,
   "metadata": {},
   "outputs": [],
   "source": [
    "# out = leafDLL(root, None)\n",
    "root = Node(1)\n",
    "root.left = Node(2)\n",
    "root.right = Node(3)\n",
    "root.left.left = Node(4)\n",
    "root.left.right = Node(5)\n",
    "root.right.left = Node(6)\n",
    "root.right.right = Node(7)\n",
    "\n",
    "root.left.left.left = Node(8)\n",
    "root.left.left.right = Node(9)\n",
    "\n",
    "root.right.left.left = Node(10)\n",
    "root.right.left.right = Node(11)\n",
    "\n",
    "\n",
    "def leafDLL(root, head, tail):\n",
    "    if root == None:\n",
    "        return head, tail\n",
    "\n",
    "    # if root.left == None and root.right == None:\n",
    "    #     return\n",
    "\n",
    "    head, tail = leafDLL(root.left, head, tail)\n",
    "    # head, tail = addDLL_end(root, head, tail)\n",
    "    head, tail = leafDLL(root.right, head, tail)\n",
    "    head, tail = addDLL_end(root, head, tail)\n",
    "\n",
    "    return head, tail"
   ]
  },
  {
   "cell_type": "code",
   "execution_count": 28,
   "metadata": {},
   "outputs": [],
   "source": [
    "out, tail = leafDLL(root, None, None)\n",
    "tail.right = None"
   ]
  },
  {
   "cell_type": "code",
   "execution_count": 29,
   "metadata": {},
   "outputs": [
    {
     "name": "stdout",
     "output_type": "stream",
     "text": [
      "8 9 4 5 2 10 11 6 7 3 1 "
     ]
    }
   ],
   "source": [
    "printDDL(out)"
   ]
  },
  {
   "cell_type": "code",
   "execution_count": 30,
   "metadata": {},
   "outputs": [
    {
     "data": {
      "text/plain": [
       "{4: 0, 2: 1, 5: 2, 1: 3, 3: 4, 6: 5}"
      ]
     },
     "execution_count": 30,
     "metadata": {},
     "output_type": "execute_result"
    }
   ],
   "source": [
    "ino = [4, 2, 5, 1, 3, 6]\n",
    "pre = [1, 2, 4, 5, 3, 6]\n",
    "d = dict()\n",
    "for i, x in enumerate(ino):\n",
    "    d[x] = i\n",
    "d"
   ]
  },
  {
   "cell_type": "code",
   "execution_count": 31,
   "metadata": {},
   "outputs": [],
   "source": [
    "def solve(pre, d, index, l, r):\n",
    "    if l > r:\n",
    "        return None, index\n",
    "    root = Node(pre[index])\n",
    "    lpart = d[pre[index]]\n",
    "    index = index + 1\n",
    "    root.left, index = solve(pre, d, index, l, lpart - 1)\n",
    "    root.right, index = solve(pre, d, index, lpart + 1, r)\n",
    "    return root, index"
   ]
  },
  {
   "cell_type": "code",
   "execution_count": 32,
   "metadata": {},
   "outputs": [],
   "source": [
    "root, _ = solve(pre, d, 0, 0, len(pre) - 1)"
   ]
  },
  {
   "cell_type": "code",
   "execution_count": 33,
   "metadata": {},
   "outputs": [
    {
     "data": {
      "text/plain": [
       "[4, 5, 2, 6, 3, 1]"
      ]
     },
     "execution_count": 33,
     "metadata": {},
     "output_type": "execute_result"
    }
   ],
   "source": [
    "def post(root, ans):\n",
    "    if root == None:\n",
    "        return\n",
    "    post(root.left, ans)\n",
    "    post(root.right, ans)\n",
    "    ans.append(root.data)\n",
    "\n",
    "\n",
    "ans = []\n",
    "post(root, ans)\n",
    "ans"
   ]
  },
  {
   "cell_type": "code",
   "execution_count": 34,
   "metadata": {},
   "outputs": [
    {
     "name": "stdout",
     "output_type": "stream",
     "text": [
      "The total number of subtrees is 6\n"
     ]
    }
   ],
   "source": [
    "# A class to store a BST node\n",
    "class Node:\n",
    "    def __init__(self, data, left=None, right=None):\n",
    "        self.data = data\n",
    "        self.left = left\n",
    "        self.right = right\n",
    "\n",
    "\n",
    "# Recursive function to insert a key into a BST\n",
    "def insert(root, key):\n",
    "\n",
    "    # if the root is None, create a new node and return it\n",
    "    if root is None:\n",
    "        return Node(key)\n",
    "\n",
    "    # if the given key is less than the root node, recur for the left subtree\n",
    "    if key < root.data:\n",
    "        root.left = insert(root.left, key)\n",
    "\n",
    "    # otherwise, recur for the right subtree\n",
    "    else:\n",
    "        root.right = insert(root.right, key)\n",
    "\n",
    "    # return root node\n",
    "    return root\n",
    "\n",
    "\n",
    "# Function to count subtrees in a BST whose nodes lie within a given range.\n",
    "# It returns true if the whole subtree rooted at the given node is within range\n",
    "def findSubTrees(root, low, high, count=0):\n",
    "\n",
    "    # base case\n",
    "    if root is None:\n",
    "        return True, count\n",
    "    if root.left == None and root.right == None:\n",
    "        if low <= root.data <= high:\n",
    "            count += 1\n",
    "            return True, count\n",
    "        return False, count\n",
    "\n",
    "    # increment the subtree count by 1 and return true if the root node,\n",
    "    # both left and right subtrees are within the range\n",
    "    left, count = findSubTrees(root.left, low, high, count)\n",
    "    right, count = findSubTrees(root.right, low, high, count)\n",
    "\n",
    "    if left and right and (low <= root.data <= high):\n",
    "        return True, count + 1\n",
    "\n",
    "    return False, count\n",
    "\n",
    "\n",
    "if __name__ == \"__main__\":\n",
    "\n",
    "    # input range\n",
    "    low, high = 5, 20\n",
    "\n",
    "    # BST keys to construct BST shown in the diagram\n",
    "    keys = [15, 25, 20, 22, 30, 18, 10, 8, 9, 12, 6]\n",
    "\n",
    "    # construct BST\n",
    "    root = None\n",
    "    for key in keys:\n",
    "        root = insert(root, key)\n",
    "\n",
    "    # get count of subtrees\n",
    "    val, count = findSubTrees(root, low, high)\n",
    "\n",
    "    print(\"The total number of subtrees is\", count)"
   ]
  },
  {
   "cell_type": "code",
   "execution_count": 35,
   "metadata": {},
   "outputs": [],
   "source": [
    "\"\"\" Construct the following tree\n",
    "            1\n",
    "        /   \\\n",
    "        /     \\\n",
    "        2       3\n",
    "        / \\     / \\\n",
    "    4   5   6   7\n",
    "\"\"\"\n",
    "\n",
    "root = Node(1)\n",
    "root.left = Node(2)\n",
    "root.right = Node(3)\n",
    "root.left.left = Node(4)\n",
    "root.left.right = Node(5)\n",
    "root.right.left = Node(6)\n",
    "root.right.right = Node(7)"
   ]
  },
  {
   "cell_type": "code",
   "execution_count": 36,
   "metadata": {},
   "outputs": [],
   "source": [
    "def solve(root, k, a):\n",
    "    if root == None:\n",
    "        return 0\n",
    "    if root.left == None and root.right == None:\n",
    "        return 1\n",
    "    l = solve(root.left, k, a)\n",
    "    r = solve(root.right, k, a)\n",
    "    if (l + r) == k:\n",
    "        # print(root.data, end=\" \")\n",
    "        a.append(root.data)\n",
    "    return l + r"
   ]
  },
  {
   "cell_type": "code",
   "execution_count": 37,
   "metadata": {},
   "outputs": [
    {
     "data": {
      "text/plain": [
       "[2, 3]"
      ]
     },
     "execution_count": 37,
     "metadata": {},
     "output_type": "execute_result"
    }
   ],
   "source": [
    "a = []\n",
    "solve(root, 2, a)\n",
    "a"
   ]
  },
  {
   "cell_type": "code",
   "execution_count": 38,
   "metadata": {},
   "outputs": [],
   "source": [
    "root = Node(1)\n",
    "root.left = Node(2)\n",
    "root.right = Node(3)\n",
    "root.left.left = Node(4)\n",
    "root.left.right = Node(5)\n",
    "root.right.left = Node(6)\n",
    "root.right.right = Node(7)\n",
    "\n",
    "root.left.left.left = Node(8)\n",
    "root.left.left.right = Node(9)\n",
    "\n",
    "root.right.left.left = Node(10)\n",
    "root.right.left.right = Node(11)"
   ]
  },
  {
   "cell_type": "code",
   "execution_count": 39,
   "metadata": {},
   "outputs": [],
   "source": [
    "def addDLL_end(root, head, tail):\n",
    "    if head == None:\n",
    "        head = tail = root\n",
    "    else:\n",
    "        tail.right = root\n",
    "        root.left = tail\n",
    "        tail = root\n",
    "    # tail.right = None\n",
    "    return head, tail\n",
    "\n",
    "\n",
    "def leafDLL(root, head, tail):\n",
    "    if root == None:\n",
    "        return head, tail\n",
    "\n",
    "    # if root.left == None and root.right == None:\n",
    "    # return addDLL_start(root, head)\n",
    "\n",
    "    head, tail = leafDLL(root.left, head, tail)\n",
    "    head, tail = addDLL_end(root, head, tail)\n",
    "    head, tail = leafDLL(root.right, head, tail)\n",
    "    # head = addDLL_start(root, head)\n",
    "\n",
    "    return head, tail"
   ]
  },
  {
   "cell_type": "code",
   "execution_count": 40,
   "metadata": {},
   "outputs": [],
   "source": [
    "root = Node(1)\n",
    "root.left = Node(3)\n",
    "root.right = Node(2)"
   ]
  },
  {
   "cell_type": "code",
   "execution_count": 41,
   "metadata": {},
   "outputs": [],
   "source": [
    "head, tail = leafDLL(root, None, None)\n",
    "tail.right = None"
   ]
  },
  {
   "cell_type": "code",
   "execution_count": 42,
   "metadata": {},
   "outputs": [
    {
     "name": "stdout",
     "output_type": "stream",
     "text": [
      "3 1 2 "
     ]
    }
   ],
   "source": [
    "curr = head\n",
    "while curr:\n",
    "    print(curr.data, end=\" \")\n",
    "    curr = curr.right"
   ]
  },
  {
   "cell_type": "code",
   "execution_count": 43,
   "metadata": {},
   "outputs": [
    {
     "name": "stdout",
     "output_type": "stream",
     "text": [
      "2 1 3 "
     ]
    }
   ],
   "source": [
    "curr = tail\n",
    "while curr:\n",
    "    print(curr.data, end=\" \")\n",
    "    curr = curr.left"
   ]
  },
  {
   "cell_type": "code",
   "execution_count": 44,
   "metadata": {},
   "outputs": [
    {
     "name": "stdout",
     "output_type": "stream",
     "text": [
      "3 1 2\n"
     ]
    }
   ],
   "source": [
    "tail.right = head\n",
    "head.left = tail\n",
    "curr = head\n",
    "while curr.right != head:\n",
    "    print(curr.data, end=\" \")\n",
    "    curr = curr.right\n",
    "print(curr.data)"
   ]
  },
  {
   "cell_type": "code",
   "execution_count": 45,
   "metadata": {},
   "outputs": [
    {
     "name": "stdout",
     "output_type": "stream",
     "text": [
      "2 1 3\n"
     ]
    }
   ],
   "source": [
    "head = curr\n",
    "curr1 = curr\n",
    "while curr1.left != head:\n",
    "    print(curr1.data, end=\" \")\n",
    "    curr1 = curr1.left\n",
    "print(curr1.data)"
   ]
  },
  {
   "cell_type": "code",
   "execution_count": 46,
   "metadata": {},
   "outputs": [
    {
     "name": "stdout",
     "output_type": "stream",
     "text": [
      "The maximum path sum is 15\n"
     ]
    }
   ],
   "source": [
    "import sys\n",
    "\n",
    "\n",
    "# A class to store a binary tree node\n",
    "class Node:\n",
    "    def __init__(self, data, left=None, right=None):\n",
    "        self.data = data\n",
    "        self.left = left\n",
    "        self.right = right\n",
    "\n",
    "\n",
    "# Recursive function to find the maximum path sum \"starting\" from the\n",
    "# given node in a binary tree. The maximum path sum between two nodes\n",
    "# in a binary tree is updated in the `result`\n",
    "def findMaxPathSum(node, result=-sys.maxsize):\n",
    "\n",
    "    # base case: empty tree\n",
    "    if node is None:\n",
    "        return 0, result\n",
    "\n",
    "    # find maximum path sum \"starting\" from the left child\n",
    "    if root.left == None and root.right == None:\n",
    "        return root.data, result\n",
    "    left, result = findMaxPathSum(node.left, result)\n",
    "\n",
    "    # find maximum path sum \"starting\" from the right child\n",
    "    right, result = findMaxPathSum(node.right, result)\n",
    "\n",
    "    # Try all possible combinations to get the optimal result\n",
    "    result = max(result, node.data)\n",
    "    result = max(result, node.data + left)\n",
    "    result = max(result, node.data + right)\n",
    "    result = max(result, node.data + left + right)\n",
    "\n",
    "    # return the maximum path sum \"starting\" from the given node\n",
    "    return max(node.data, node.data + max(left, right)), result\n",
    "\n",
    "\n",
    "if __name__ == \"__main__\":\n",
    "\n",
    "    root = None\n",
    "\n",
    "    \"\"\" Construct the following tree\n",
    "            1\n",
    "          /   \\\n",
    "         /     \\\n",
    "        2      10\n",
    "       / \\    /  \\\n",
    "     -1  -4  -5   -6\n",
    "         /   / \\\n",
    "        3   7   4\n",
    "             \\\n",
    "             -2\n",
    "    \"\"\"\n",
    "\n",
    "    root = Node(1)\n",
    "    root.left = Node(2)\n",
    "    root.right = Node(10)\n",
    "    root.left.left = Node(-1)\n",
    "    root.left.right = Node(-4)\n",
    "    root.right.left = Node(-5)\n",
    "    root.right.right = Node(-6)\n",
    "    root.left.right.left = Node(4)\n",
    "    root.right.left.left = Node(7)\n",
    "    root.right.left.right = Node(4)\n",
    "    root.right.left.left.right = Node(-2)\n",
    "\n",
    "    print(\"The maximum path sum is\", findMaxPathSum(root)[1])"
   ]
  },
  {
   "cell_type": "code",
   "execution_count": 58,
   "metadata": {},
   "outputs": [
    {
     "name": "stdout",
     "output_type": "stream",
     "text": [
      "LCA(4, 5) = 2\n",
      "LCA(4, 6) = 1\n",
      "LCA(3, 4) = 1\n",
      "LCA(2, 4) = 2\n"
     ]
    }
   ],
   "source": [
    "# Python Program for Lowest Common Ancestor in a Binary Tree\n",
    "# O(n) solution to find LCS of two given values n1 and n2\n",
    "\n",
    "\n",
    "# A binary tree node\n",
    "class Node:\n",
    "    # Constructor to create a new binary node\n",
    "    def __init__(self, key):\n",
    "        self.key = key\n",
    "        self.left = None\n",
    "        self.right = None\n",
    "\n",
    "\n",
    "# Finds the path from root node to given root of the tree.\n",
    "# Stores the path in a list path[], returns true if path\n",
    "# exists otherwise false\n",
    "def findPath(root, path, k):\n",
    "\n",
    "    # Baes Case\n",
    "    if root is None:\n",
    "        return False\n",
    "\n",
    "    # Store this node is path vector. The node will be\n",
    "    # removed if not in path from root to k\n",
    "    path.append(root.key)\n",
    "\n",
    "    # See if the k is same as root's key\n",
    "    if root.key == k:\n",
    "        return True\n",
    "\n",
    "    # Check if k is found in left or right sub-tree\n",
    "    if (root.left != None and findPath(root.left, path, k)) or (\n",
    "        root.right != None and findPath(root.right, path, k)\n",
    "    ):\n",
    "        return True\n",
    "\n",
    "    # If not present in subtree rooted with root, remove\n",
    "    # root from path and return False\n",
    "\n",
    "    path.pop()\n",
    "    return False\n",
    "\n",
    "\n",
    "# Returns LCA if node n1 , n2 are present in the given\n",
    "# binary tree otherwise return -1\n",
    "def findLCA(root, n1, n2):\n",
    "\n",
    "    # To store paths to n1 and n2 fromthe root\n",
    "    path1 = []\n",
    "    path2 = []\n",
    "\n",
    "    # Find paths from root to n1 and root to n2.\n",
    "    # If either n1 or n2 is not present , return -1\n",
    "    if not findPath(root, path1, n1) or not findPath(root, path2, n2):\n",
    "        return -1\n",
    "\n",
    "    # Compare the paths to get the first different value\n",
    "    i = 0\n",
    "    while i < len(path1) and i < len(path2):\n",
    "        if path1[i] != path2[i]:\n",
    "            break\n",
    "        i += 1\n",
    "    return path1[i - 1]\n",
    "\n",
    "\n",
    "# Driver program to test above function\n",
    "if __name__ == \"__main__\":\n",
    "\n",
    "    # Let's create the Binary Tree shown in above diagram\n",
    "    root = Node(1)\n",
    "    root.left = Node(2)\n",
    "    root.right = Node(3)\n",
    "    root.left.left = Node(4)\n",
    "    root.left.right = Node(5)\n",
    "    root.right.left = Node(6)\n",
    "    root.right.right = Node(7)\n",
    "\n",
    "    print(\n",
    "        \"LCA(4, 5) = %d\"\n",
    "        % (\n",
    "            findLCA(\n",
    "                root,\n",
    "                4,\n",
    "                5,\n",
    "            )\n",
    "        )\n",
    "    )\n",
    "    print(\"LCA(4, 6) = %d\" % (findLCA(root, 4, 6)))\n",
    "    print(\"LCA(3, 4) = %d\" % (findLCA(root, 3, 4)))\n",
    "    print(\"LCA(2, 4) = %d\" % (findLCA(root, 2, 4)))\n",
    "\n",
    "# This code is contributed by Nikhil Kumar Singh(nickzuck_007)"
   ]
  },
  {
   "cell_type": "code",
   "execution_count": 59,
   "metadata": {},
   "outputs": [],
   "source": [
    "root = Node(1)\n",
    "root.left = Node(2)\n",
    "root.right = Node(3)\n",
    "root.left.left = Node(4)\n",
    "root.left.right = Node(5)\n",
    "root.right.left = Node(6)\n",
    "root.right.right = Node(7)"
   ]
  },
  {
   "cell_type": "code",
   "execution_count": 71,
   "metadata": {},
   "outputs": [
    {
     "data": {
      "text/plain": [
       "2"
      ]
     },
     "execution_count": 71,
     "metadata": {},
     "output_type": "execute_result"
    }
   ],
   "source": [
    "def find_level(root, k, level, ans, t):\n",
    "    if root == None:\n",
    "        return -1\n",
    "    if root.key == k:\n",
    "        ans = level\n",
    "        return ans\n",
    "        # print(t)\n",
    "    ans = find_level(root.left, k, level + 1, ans, t)\n",
    "    if ans != -1:\n",
    "        return ans\n",
    "\n",
    "    return find_level(root.right, k, level + 1, ans, t)\n",
    "\n",
    "\n",
    "t = []\n",
    "find_level(root, 4, 0, -1, t)\n",
    "# print(t)"
   ]
  },
  {
   "cell_type": "code",
   "execution_count": 94,
   "metadata": {},
   "outputs": [
    {
     "name": "stdout",
     "output_type": "stream",
     "text": [
      "There is a root-to-leaf path with sum 23\n"
     ]
    }
   ],
   "source": [
    "class Node:\n",
    "    def __init__(self, val):\n",
    "        self.data = val\n",
    "        self.left = None\n",
    "        self.right = None\n",
    "\n",
    "\n",
    "def hasPathSum(root, targetSum):\n",
    "    if not root:\n",
    "        return False\n",
    "    s = [root]\n",
    "    sums = [root.data]\n",
    "    while s:\n",
    "        node = s.pop()\n",
    "        sum_val = sums.pop()\n",
    "        if not node.left and not node.right:\n",
    "            if sum_val == targetSum:\n",
    "                return True\n",
    "        if node.left:\n",
    "            s.append(node.left)\n",
    "            sums.append(sum_val + node.left.data)\n",
    "        if node.right:\n",
    "            s.append(node.right)\n",
    "            sums.append(sum_val + node.right.data)\n",
    "    return False\n",
    "\n",
    "\n",
    "if __name__ == \"__main__\":\n",
    "    root = Node(10)\n",
    "    root.left = Node(8)\n",
    "    root.right = Node(2)\n",
    "    root.left.left = Node(3)\n",
    "    root.left.right = Node(5)\n",
    "    root.right.left = Node(2)\n",
    "\n",
    "    targetSum = 23\n",
    "    if hasPathSum(root, targetSum):\n",
    "        print(\"There is a root-to-leaf path with sum\", targetSum)\n",
    "    else:\n",
    "        print(\"There is no root-to-leaf path with sum\", targetSum)"
   ]
  },
  {
   "cell_type": "code",
   "execution_count": 92,
   "metadata": {},
   "outputs": [],
   "source": [
    "def root_leaf(root, path, key):\n",
    "    if root == None:\n",
    "        return False\n",
    "    path.append(root.key)\n",
    "    if root.key == key:\n",
    "        return True\n",
    "    if root.left != None and root_leaf(root.left, path, key):\n",
    "        return True\n",
    "    if root.right != None and root_leaf(root.right, path, key):\n",
    "        return True\n",
    "    path.pop()\n",
    "    return False"
   ]
  },
  {
   "cell_type": "code",
   "execution_count": 93,
   "metadata": {},
   "outputs": [
    {
     "data": {
      "text/plain": [
       "[1, 3, 7]"
      ]
     },
     "execution_count": 93,
     "metadata": {},
     "output_type": "execute_result"
    }
   ],
   "source": [
    "path = []\n",
    "root_leaf(root, path, 7)\n",
    "path"
   ]
  },
  {
   "cell_type": "code",
   "execution_count": 53,
   "metadata": {},
   "outputs": [
    {
     "name": "stdout",
     "output_type": "stream",
     "text": [
      "5 0 6 4 7 "
     ]
    }
   ],
   "source": [
    "# A class to store a binary tree node\n",
    "class Node:\n",
    "    def __init__(self, data, left=None, right=None):\n",
    "        self.data = data\n",
    "        self.left = left\n",
    "        self.right = right\n",
    "\n",
    "\n",
    "# Function to perform inorder traversal on the tree\n",
    "def inorder(root):\n",
    "\n",
    "    if root is None:\n",
    "        return\n",
    "\n",
    "    inorder(root.left)\n",
    "    print(root.data, end=\" \")\n",
    "    inorder(root.right)\n",
    "\n",
    "\n",
    "# Function to check if a given node is a leaf node or not\n",
    "def isLeaf(node):\n",
    "    return node.left is None and node.right is None\n",
    "\n",
    "\n",
    "# Function to convert a binary tree into a full tree by removing half nodes\n",
    "def truncate(root):\n",
    "\n",
    "    # base case: empty tree\n",
    "    if root is None:\n",
    "        return None\n",
    "\n",
    "    # recursively truncate the left subtree and subtree first\n",
    "    root.left = truncate(root.left)\n",
    "    root.right = truncate(root.right)\n",
    "\n",
    "    # do nothing if the current node is a leaf node or has two children\n",
    "    if (root.left and root.right) or isLeaf(root):\n",
    "        return root\n",
    "\n",
    "    child = root.left if root.left else root.right\n",
    "    return child\n",
    "\n",
    "    # if the current node has exactly one child, delete it and replace\n",
    "    # it with the child node\n",
    "\n",
    "\n",
    "if __name__ == \"__main__\":\n",
    "\n",
    "    \"\"\" Construct the following tree\n",
    "                 0\n",
    "               /   \\\n",
    "              /     \\\n",
    "             1       2\n",
    "            /        /\n",
    "           /        /\n",
    "          3        4\n",
    "         /        / \\\n",
    "        /        /   \\\n",
    "       5        6     7\n",
    "    \"\"\"\n",
    "\n",
    "    root = Node(0)\n",
    "    root.left = Node(1)\n",
    "    root.right = Node(2)\n",
    "    root.left.left = Node(3)\n",
    "    root.right.left = Node(4)\n",
    "    root.left.left.left = Node(5)\n",
    "    root.right.left.left = Node(6)\n",
    "    root.right.left.right = Node(7)\n",
    "\n",
    "    root = truncate(root)\n",
    "    inorder(root)"
   ]
  },
  {
   "cell_type": "code",
   "execution_count": 89,
   "metadata": {},
   "outputs": [
    {
     "name": "stdout",
     "output_type": "stream",
     "text": [
      "2 2\n"
     ]
    }
   ],
   "source": [
    "root = Node(1)\n",
    "root.left = Node(2)\n",
    "root.right = Node(3)\n",
    "root.left.left = Node(4)\n",
    "root.left.right = Node(5)\n",
    "root.right.left = Node(6)\n",
    "root.right.right = Node(7)\n",
    "k = root.left.right\n",
    "\n",
    "\n",
    "def find_level(root, parent, kparent, k, level, ans):\n",
    "    if root == None:\n",
    "        return ans, kparent\n",
    "    if root == k:\n",
    "        ans = level\n",
    "        kparent = parent\n",
    "        # print(kparent.data)\n",
    "        return ans, kparent\n",
    "    ans, kparent = find_level(root.left, root, kparent, k, level + 1, ans)\n",
    "    if ans != None:\n",
    "        return ans, kparent\n",
    "    return find_level(root.right, root, kparent, k, level + 1, ans)\n",
    "\n",
    "\n",
    "(\n",
    "    l,\n",
    "    parent,\n",
    ") = find_level(root, None, None, k, 0, None)\n",
    "print(l, parent.key)"
   ]
  },
  {
   "cell_type": "code",
   "execution_count": 87,
   "metadata": {},
   "outputs": [
    {
     "data": {
      "text/plain": [
       "4"
      ]
     },
     "execution_count": 87,
     "metadata": {},
     "output_type": "execute_result"
    }
   ],
   "source": [
    "def find_root_path(root, k):\n",
    "    if root == None:\n",
    "        return 0\n",
    "    if root.left == None and root.right == None:\n",
    "        return 1\n",
    "    left = find_root_path(root.left, k)\n",
    "    right = find_root_path(root.right, k)\n",
    "    return max(left, right) + 1\n",
    "\n",
    "\n",
    "root = Node(1)\n",
    "root.left = Node(2)\n",
    "root.right = Node(3)\n",
    "root.left.right = Node(4)\n",
    "root.right.left = Node(5)\n",
    "root.right.right = Node(6)\n",
    "root.right.left.left = Node(7)\n",
    "root.right.left.right = Node(8)\n",
    "find_root_path(root, 0)"
   ]
  },
  {
   "cell_type": "code",
   "execution_count": 95,
   "metadata": {},
   "outputs": [
    {
     "name": "stdout",
     "output_type": "stream",
     "text": [
      "The maximum sum is 18\n",
      "The maximum sum path is 9 5 3 1 "
     ]
    }
   ],
   "source": [
    "import sys\n",
    "\n",
    "\n",
    "# A class to store a binary tree node\n",
    "class Node:\n",
    "    def __init__(self, data, left=None, right=None):\n",
    "        self.data = data\n",
    "        self.left = left\n",
    "        self.right = right\n",
    "\n",
    "\n",
    "# Function to print the root-to-leaf path with a given sum in a binary tree\n",
    "def printPath(root, total):\n",
    "\n",
    "    # base case\n",
    "    if total == 0 and root is None:\n",
    "        return True\n",
    "\n",
    "    # base case\n",
    "    if root is None:\n",
    "        return False\n",
    "\n",
    "    # recur for the left and right subtree with reduced sum\n",
    "    left = printPath(root.left, total - root.data)\n",
    "\n",
    "    right = False\n",
    "    if not left:\n",
    "        right = printPath(root.right, total - root.data)\n",
    "\n",
    "    # print the current node if it lies on a path with a given sum\n",
    "    if left or right:\n",
    "        print(root.data, end=\" \")\n",
    "\n",
    "    return left or right\n",
    "\n",
    "\n",
    "# Function to calculate the maximum root-to-leaf sum in a binary tree\n",
    "def getRootToLeafSum(root):\n",
    "\n",
    "    # base case: tree is empty\n",
    "    if root is None:\n",
    "        return -sys.maxsize\n",
    "\n",
    "    # base case: current node is a leaf node\n",
    "    if root.left is None and root.right is None:\n",
    "        return root.data\n",
    "\n",
    "    # calculate the maximum node-to-leaf sum for the left child\n",
    "    left = getRootToLeafSum(root.left)\n",
    "\n",
    "    # calculate the maximum node-to-leaf sum for the right child\n",
    "    right = getRootToLeafSum(root.right)\n",
    "\n",
    "    # consider the maximum sum child\n",
    "    return (left if left > right else right) + root.data\n",
    "\n",
    "\n",
    "# Function to print maximum sum root-to-leaf path in a given binary tree\n",
    "def findMaxSumPath(root):\n",
    "\n",
    "    total = getRootToLeafSum(root)\n",
    "    print(\"The maximum sum is\", total)\n",
    "    print(\"The maximum sum path is \", end=\"\")\n",
    "\n",
    "    printPath(root, total)\n",
    "\n",
    "\n",
    "if __name__ == \"__main__\":\n",
    "\n",
    "    root = None\n",
    "    \"\"\" Construct the following tree\n",
    "              1\n",
    "            /   \\\n",
    "           /     \\\n",
    "          2       3\n",
    "         / \\     / \\\n",
    "        8   4   5   6\n",
    "           /   / \\   \\\n",
    "         10   7   9   5\n",
    "    \"\"\"\n",
    "\n",
    "    root = Node(1)\n",
    "    root.left = Node(2)\n",
    "    root.right = Node(3)\n",
    "    root.left.left = Node(8)\n",
    "    root.left.right = Node(4)\n",
    "    root.right.left = Node(5)\n",
    "    root.right.right = Node(6)\n",
    "    root.left.right.left = Node(10)\n",
    "    root.right.left.left = Node(7)\n",
    "    root.right.left.right = Node(9)\n",
    "    root.right.right.right = Node(5)\n",
    "\n",
    "    findMaxSumPath(root)"
   ]
  },
  {
   "cell_type": "code",
   "execution_count": 98,
   "metadata": {},
   "outputs": [
    {
     "name": "stdout",
     "output_type": "stream",
     "text": [
      "22\n"
     ]
    }
   ],
   "source": [
    "import sys\n",
    "\n",
    "\n",
    "# A class to store a binary tree node\n",
    "class Node:\n",
    "    def __init__(self, data, left=None, right=None):\n",
    "        self.data = data\n",
    "        self.left = left\n",
    "        self.right = right\n",
    "\n",
    "\n",
    "# Recursive function to find the maximum sum path between two leaves\n",
    "# in a binary tree\n",
    "def findMaxSumPath(root, max_sum=-sys.maxsize):\n",
    "\n",
    "    # base case: empty tree\n",
    "    if root is None:\n",
    "        return 0, max_sum\n",
    "\n",
    "    if root.left == None and root.right == None:\n",
    "        return root.data, max_sum\n",
    "    # find the maximum sum node-to-leaf path starting from the left child\n",
    "    left, max_sum = findMaxSumPath(root.left, max_sum)\n",
    "\n",
    "    # find the maximum sum node-to-leaf path starting from the right child\n",
    "    right, max_sum = findMaxSumPath(root.right, max_sum)\n",
    "\n",
    "    # it is important to return the maximum sum node-to-leaf path starting from the\n",
    "    # current node\n",
    "\n",
    "    # case 1: left child is None\n",
    "    # if root.left is None:\n",
    "    #     return (right + root.data), max_sum\n",
    "\n",
    "    # # case 2: right child is None\n",
    "    # if root.right is None:\n",
    "    #     return (left + root.data), max_sum\n",
    "\n",
    "    # find the maximum sum path \"through\" the current node\n",
    "    cur_sum = left + right + root.data\n",
    "\n",
    "    # update the maximum sum path found so far (Note that maximum sum path\n",
    "    # \"excluding\" the current node in the subtree rooted at the current node\n",
    "    # is already updated as we are doing postorder traversal)\n",
    "\n",
    "    max_sum = max(cur_sum, max_sum)\n",
    "\n",
    "    # case 3: both left and right child exists\n",
    "    return (max(left, right) + root.data), max_sum\n",
    "\n",
    "\n",
    "if __name__ == \"__main__\":\n",
    "\n",
    "    \"\"\" Construct the following tree\n",
    "          1\n",
    "        /   \\\n",
    "       /     \\\n",
    "      2       3\n",
    "       \\     / \\\n",
    "       -4   5   6\n",
    "           / \\\n",
    "          7   8\n",
    "    \"\"\"\n",
    "\n",
    "    root = Node(1)\n",
    "    root.left = Node(2)\n",
    "    root.right = Node(3)\n",
    "    root.left.right = Node(-4)\n",
    "    root.right.left = Node(5)\n",
    "    root.right.right = Node(6)\n",
    "    root.right.left.left = Node(7)\n",
    "    root.right.left.right = Node(8)\n",
    "\n",
    "    print(findMaxSumPath(root)[1])"
   ]
  },
  {
   "cell_type": "code",
   "execution_count": 115,
   "metadata": {},
   "outputs": [
    {
     "name": "stdout",
     "output_type": "stream",
     "text": [
      "The inorder successor of 4 is 2\n",
      "The inorder successor of 2 is 1\n",
      "The inorder successor of 1 is 7\n",
      "The inorder successor of 7 is 5\n",
      "The inorder successor of 5 is 8\n",
      "The inorder successor of 8 is 3\n",
      "The inorder successor of 3 is 6\n"
     ]
    }
   ],
   "source": [
    "# A class to store a binary tree node\n",
    "class Node:\n",
    "    def __init__(self, data, left=None, right=None, next=None):\n",
    "        self.data = data\n",
    "        self.left = left\n",
    "        self.right = right\n",
    "        self.next = next\n",
    "\n",
    "\n",
    "# Function to set the next pointer of all nodes in a binary tree.\n",
    "# curr —> current node\n",
    "# prev —> previously processed node\n",
    "def setNextNode(curr, prev=None):\n",
    "\n",
    "    # return if the tree is empty\n",
    "    if curr is None:\n",
    "        return\n",
    "\n",
    "    # recur for the left subtree\n",
    "    setNextNode(curr.left, prev)\n",
    "\n",
    "    # set the previous node's next pointer to the current node\n",
    "    if prev[0]:\n",
    "        prev[0].next = curr\n",
    "\n",
    "    # update the previous node to the current node\n",
    "    prev[0] = curr\n",
    "\n",
    "    # recur for the right subtree\n",
    "    return setNextNode(curr.right, prev)\n",
    "\n",
    "\n",
    "# Function to print inorder successor of all nodes of\n",
    "# binary tree using the next pointer\n",
    "def printInorderSuccessors(root):\n",
    "\n",
    "    # go to the leftmost node\n",
    "    curr = root\n",
    "    while curr.left:\n",
    "        curr = curr.left\n",
    "\n",
    "    # print inorder successor of all nodes\n",
    "    while curr.next:\n",
    "        print(f\"The inorder successor of {curr.data} is {curr.next.data}\")\n",
    "        curr = curr.next\n",
    "\n",
    "\n",
    "if __name__ == \"__main__\":\n",
    "\n",
    "    \"\"\" Construct the following tree\n",
    "              1\n",
    "            /   \\\n",
    "           /     \\\n",
    "          2       3\n",
    "         /      /  \\\n",
    "        /      /    \\\n",
    "       4      5      6\n",
    "             / \\\n",
    "            /   \\\n",
    "           7     8\n",
    "    \"\"\"\n",
    "\n",
    "    root = Node(1)\n",
    "    root.left = Node(2)\n",
    "    root.right = Node(3)\n",
    "    root.left.left = Node(4)\n",
    "    root.right.left = Node(5)\n",
    "    root.right.right = Node(6)\n",
    "    root.right.left.left = Node(7)\n",
    "    root.right.left.right = Node(8)\n",
    "    prev = [None]\n",
    "    setNextNode(root, prev)\n",
    "    printInorderSuccessors(root)"
   ]
  },
  {
   "cell_type": "code",
   "execution_count": 1,
   "metadata": {},
   "outputs": [],
   "source": [
    "class Node:\n",
    "    def __init__(self, data, left=None, right=None):\n",
    "        self.data = data\n",
    "        self.left = left\n",
    "        self.right = right\n",
    "\n",
    "\n",
    "# Recursive function to insert a key into a BST\n",
    "def insert(root, key):\n",
    "\n",
    "    # if the root is None, create a new node and return it\n",
    "    if root is None:\n",
    "        return Node(key)\n",
    "\n",
    "    # if the given key is less than the root node, recur for the left subtree\n",
    "    if key < root.data:\n",
    "        root.left = insert(root.left, key)\n",
    "\n",
    "    # if the given key is more than the root node, recur for the right subtree\n",
    "    else:\n",
    "        root.right = insert(root.right, key)\n",
    "\n",
    "    return root"
   ]
  },
  {
   "cell_type": "code",
   "execution_count": 2,
   "metadata": {},
   "outputs": [],
   "source": [
    "keys = [15, 10, 20, 8, 12, 16, 25]\n",
    "\n",
    "\"\"\" Construct the following tree\n",
    "            15\n",
    "            /    \\\n",
    "        /      \\\n",
    "        10       20\n",
    "        / \\      /  \\\n",
    "        /   \\    /    \\\n",
    "    8    12  16    25\n",
    "\"\"\"\n",
    "\n",
    "root = None\n",
    "for key in keys:\n",
    "    root = insert(root, key)"
   ]
  },
  {
   "cell_type": "code",
   "execution_count": 10,
   "metadata": {},
   "outputs": [
    {
     "data": {
      "text/plain": [
       "(15, <__main__.Node at 0x1d4f7a67dd0>)"
      ]
     },
     "execution_count": 10,
     "metadata": {},
     "output_type": "execute_result"
    }
   ],
   "source": [
    "def find_succ(root, key, ans, prev):\n",
    "    if root == None:\n",
    "        return ans, prev\n",
    "\n",
    "    ans, prev = find_succ(root.right, key, ans, prev)\n",
    "    if root.data <= key and ans == -1:\n",
    "        ans = prev.data\n",
    "    prev = root\n",
    "    return find_succ(root.left, key, ans, prev)\n",
    "\n",
    "\n",
    "find_succ(root, 12, -1, None)"
   ]
  },
  {
   "cell_type": "code",
   "execution_count": null,
   "metadata": {},
   "outputs": [],
   "source": []
  }
 ],
 "metadata": {
  "kernelspec": {
   "display_name": "Python 3",
   "language": "python",
   "name": "python3"
  },
  "language_info": {
   "codemirror_mode": {
    "name": "ipython",
    "version": 3
   },
   "file_extension": ".py",
   "mimetype": "text/x-python",
   "name": "python",
   "nbconvert_exporter": "python",
   "pygments_lexer": "ipython3",
   "version": "3.11.6"
  }
 },
 "nbformat": 4,
 "nbformat_minor": 2
}
