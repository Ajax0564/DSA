{
 "cells": [
  {
   "cell_type": "markdown",
   "metadata": {},
   "source": [
    "Find a pair with the given sum in an array"
   ]
  },
  {
   "cell_type": "markdown",
   "metadata": {},
   "source": [
    "https://www.geeksforgeeks.org/top-50-problems-on-hash-data-structure-asked-in-sde-interviews/"
   ]
  },
  {
   "cell_type": "code",
   "execution_count": 3,
   "metadata": {},
   "outputs": [
    {
     "data": {
      "text/plain": [
       "True"
      ]
     },
     "execution_count": 3,
     "metadata": {},
     "output_type": "execute_result"
    }
   ],
   "source": [
    "a = [3, 4, -7, 3, 1, 3, 1, -4, -2, -2]\n",
    "\n",
    "\n",
    "def solve(a):\n",
    "    s = 0\n",
    "    n = len(a)\n",
    "    d = set()\n",
    "    for i in range(n):\n",
    "        s += a[i]\n",
    "        if s == 0 or s in d:\n",
    "            return True\n",
    "        d.add(s)\n",
    "    return False\n",
    "\n",
    "\n",
    "solve(a)"
   ]
  },
  {
   "cell_type": "markdown",
   "metadata": {},
   "source": [
    "Find pairs with difference `k` in an array"
   ]
  },
  {
   "cell_type": "code",
   "execution_count": 24,
   "metadata": {},
   "outputs": [
    {
     "name": "stdout",
     "output_type": "stream",
     "text": [
      "(5, 2)\n",
      "(5, 2)\n",
      "(5, 2)\n",
      "(5, 2)\n",
      "(5, 2)\n",
      "(4, 1)\n"
     ]
    }
   ],
   "source": [
    "def findPair(A, diff):\n",
    "\n",
    "    # list is unsorted\n",
    "\n",
    "    # take an empty set\n",
    "    s = set()\n",
    "\n",
    "    # do for every element in the list\n",
    "    for i in A:\n",
    "\n",
    "        # check if pair with the given difference `(i, i-diff)` exists\n",
    "        if i - diff in s:\n",
    "            print((i, i - diff))\n",
    "\n",
    "        # check if pair with the given difference `(i + diff, i)` exists\n",
    "        if i + diff in s:\n",
    "            print((i + diff, i))\n",
    "\n",
    "        # insert the current element into the set\n",
    "        s.add(i)\n",
    "\n",
    "\n",
    "if __name__ == \"__main__\":\n",
    "\n",
    "    A = [1, 5, 2, 2, 2, 5, 5, 4]\n",
    "    diff = 3\n",
    "\n",
    "    findPair(A, diff)"
   ]
  },
  {
   "cell_type": "code",
   "execution_count": 23,
   "metadata": {},
   "outputs": [
    {
     "name": "stdout",
     "output_type": "stream",
     "text": [
      "(1, 4)\n",
      "(2, 5)\n"
     ]
    }
   ],
   "source": [
    "# Function to find a pair with the given difference in the list.\n",
    "# This method handles duplicates in the list\n",
    "def findPair(A, diff):\n",
    "\n",
    "    # sort list in ascending order\n",
    "    A.sort()\n",
    "\n",
    "    # take an empty set\n",
    "    s = set()\n",
    "\n",
    "    # do for every element in the list\n",
    "    i = 0\n",
    "    while i < len(A):\n",
    "\n",
    "        # to avoid printing duplicates (skip adjacent duplicates)\n",
    "        while i + 1 < len(A) and A[i] == A[i + 1]:\n",
    "            i = i + 1\n",
    "\n",
    "        # check if pair with the given difference `(A[i], A[i]-diff)` exists\n",
    "        if A[i] - diff in s:\n",
    "            print((A[i], A[i] - diff))\n",
    "\n",
    "        # check if pair with the given difference `(A[i]+diff, A[i])` exists\n",
    "        if A[i] + diff in s:\n",
    "            print((A[i] + diff, A[i]))\n",
    "\n",
    "        # insert the current element into the set\n",
    "        s.add(A[i])\n",
    "\n",
    "        i = i + 1\n",
    "\n",
    "\n",
    "if __name__ == \"__main__\":\n",
    "\n",
    "    A = [1, 5, 2, 2, 2, 5, 5, 4]\n",
    "    diff = -3\n",
    "\n",
    "    findPair(A, diff)"
   ]
  },
  {
   "cell_type": "markdown",
   "metadata": {},
   "source": [
    "find all subarray with zero sum"
   ]
  },
  {
   "cell_type": "code",
   "execution_count": 6,
   "metadata": {},
   "outputs": [
    {
     "name": "stdout",
     "output_type": "stream",
     "text": [
      "[3, 4, -7]\n",
      "[4, -7, 3]\n",
      "[-7, 3, 1, 3]\n",
      "[3, 1, -4]\n",
      "[3, 4, -7, 3, 1, 3, 1, -4, -2, -2]\n",
      "[3, 1, 3, 1, -4, -2, -2]\n"
     ]
    }
   ],
   "source": [
    "a = [3, 4, -7, 3, 1, 3, 1, -4, -2, -2]\n",
    "from collections import defaultdict\n",
    "\n",
    "\n",
    "def solve(a):\n",
    "    n = len(a)\n",
    "    s = 0\n",
    "    d = defaultdict(list)\n",
    "    for i in range(n):\n",
    "        s += a[i]\n",
    "        if s == 0:\n",
    "            print(a[: i + 1])\n",
    "        if s in d:\n",
    "            for j in d[s]:\n",
    "                print(a[j + 1 : i + 1])\n",
    "        d[s].append(i)\n",
    "\n",
    "\n",
    "solve(a)"
   ]
  },
  {
   "cell_type": "markdown",
   "metadata": {},
   "source": [
    "Find a pair with the given sum in an array"
   ]
  },
  {
   "cell_type": "code",
   "execution_count": 7,
   "metadata": {},
   "outputs": [
    {
     "data": {
      "text/plain": [
       "True"
      ]
     },
     "execution_count": 7,
     "metadata": {},
     "output_type": "execute_result"
    }
   ],
   "source": [
    "a = [8, 7, 2, 5, 3, 1]\n",
    "s = 10\n",
    "\n",
    "\n",
    "def solve(a, s):\n",
    "    n = len(a)\n",
    "    d = {}\n",
    "    for i in range(n):\n",
    "        if s - a[i] in d:\n",
    "            return True\n",
    "        d[a[i]] = i\n",
    "    return False\n",
    "\n",
    "\n",
    "solve(a, s)"
   ]
  },
  {
   "cell_type": "code",
   "execution_count": 9,
   "metadata": {},
   "outputs": [
    {
     "name": "stdout",
     "output_type": "stream",
     "text": [
      "8 2\n",
      "7 3\n"
     ]
    }
   ],
   "source": [
    "a = [8, 7, 2, 5, 3, 1]\n",
    "s = 10\n",
    "\n",
    "\n",
    "def solve(a, s):\n",
    "    n = len(a)\n",
    "    d = defaultdict(list)\n",
    "    for i in range(n):\n",
    "        if s - a[i] in d:\n",
    "            for j in d[s - a[i]]:\n",
    "                print(a[j], a[i])\n",
    "        d[a[i]].append(i)\n",
    "\n",
    "\n",
    "solve(a, s)"
   ]
  },
  {
   "cell_type": "markdown",
   "metadata": {},
   "source": [
    "Find maximum length subarray having a given sum"
   ]
  },
  {
   "cell_type": "code",
   "execution_count": 10,
   "metadata": {},
   "outputs": [
    {
     "name": "stdout",
     "output_type": "stream",
     "text": [
      "[5, 3]\n",
      "[-5, 5, 3, 5]\n",
      "[3, 5]\n",
      "[5, 3]\n"
     ]
    }
   ],
   "source": [
    "a = [5, 6, -5, 5, 3, 5, 3, -2, 0]\n",
    "s = 8\n",
    "\n",
    "\n",
    "def solve(a, k):\n",
    "    n = len(a)\n",
    "    s = 0\n",
    "    d = defaultdict(list)\n",
    "    for i in range(n):\n",
    "        s += a[i]\n",
    "        if s == k:\n",
    "            print(a[: i + 1])\n",
    "        if s - k in d:\n",
    "            for j in d[s - k]:\n",
    "                print(a[j + 1 : i + 1])\n",
    "        d[s].append(i)\n",
    "\n",
    "\n",
    "solve(a, s)"
   ]
  },
  {
   "cell_type": "code",
   "execution_count": 15,
   "metadata": {},
   "outputs": [
    {
     "name": "stdout",
     "output_type": "stream",
     "text": [
      "Sublist found (1, 3)\n",
      "Sublist found (4, 7)\n",
      "Sublist found (7, 9)\n"
     ]
    }
   ],
   "source": [
    "# will only work for postive numbers\n",
    "def findSublist(nums, target):\n",
    "\n",
    "    # maintains the sum of the current window\n",
    "    windowSum = 0\n",
    "\n",
    "    # maintain a window [low, high-1]\n",
    "    start = 0\n",
    "\n",
    "    # consider every sublist starting from `low` index\n",
    "    for i in range(len(nums)):\n",
    "        windowSum += nums[i]\n",
    "        while windowSum > target:\n",
    "            windowSum -= nums[start]\n",
    "            start += 1\n",
    "        if windowSum == target:\n",
    "            print(\"Sublist found\", (start, i))\n",
    "\n",
    "\n",
    "if __name__ == \"__main__\":\n",
    "\n",
    "    # a list of positive integers\n",
    "    nums = [2, 6, 0, 9, 7, 3, 1, 4, 1, 10]\n",
    "    target = 15\n",
    "\n",
    "    findSublist(nums, target)"
   ]
  },
  {
   "cell_type": "markdown",
   "metadata": {},
   "source": [
    "Find the largest subarray having an equal number of 0’s and 1’s"
   ]
  },
  {
   "cell_type": "code",
   "execution_count": null,
   "metadata": {},
   "outputs": [],
   "source": []
  },
  {
   "cell_type": "markdown",
   "metadata": {},
   "source": [
    "Find the largest subarray formed by consecutive integers\n",
    "\n",
    "they can be of any order"
   ]
  },
  {
   "cell_type": "code",
   "execution_count": 13,
   "metadata": {},
   "outputs": [
    {
     "data": {
      "text/plain": [
       "5"
      ]
     },
     "execution_count": 13,
     "metadata": {},
     "output_type": "execute_result"
    }
   ],
   "source": [
    "a = [2, 0, 2, 1, 4, 3, 1, 0]\n",
    "\n",
    "\n",
    "def solve(a):\n",
    "    n = len(a)\n",
    "    d = set(a)\n",
    "    ans = 1\n",
    "    for i in range(n):\n",
    "        if a[i] - 1 not in d:\n",
    "            j = 1\n",
    "\n",
    "            while j + a[i] in d:\n",
    "                j += 1\n",
    "            ans = max(ans, j)\n",
    "\n",
    "    return ans\n",
    "\n",
    "\n",
    "solve(a)"
   ]
  },
  {
   "cell_type": "markdown",
   "metadata": {},
   "source": []
  },
  {
   "cell_type": "code",
   "execution_count": 16,
   "metadata": {},
   "outputs": [
    {
     "name": "stdout",
     "output_type": "stream",
     "text": [
      "(0, 1, 5)\n",
      "(0, 2, 4)\n",
      "(1, 2, 3)\n"
     ]
    }
   ],
   "source": [
    "# Function to print all distinct triplet in the list with the given sum\n",
    "def printAllTriplets(nums, target):\n",
    "\n",
    "    # sort the list in ascending order\n",
    "    nums.sort()\n",
    "\n",
    "    n = len(nums)\n",
    "\n",
    "    # check if triplet is formed by nums[i] and a pair from\n",
    "    # sublist nums[i+1…n)\n",
    "    for i in range(n - 2):\n",
    "\n",
    "        # remaining sum\n",
    "        k = target - nums[i]\n",
    "\n",
    "        # maintain two indices pointing to endpoints of the\n",
    "        # sublist nums[i+1…n)\n",
    "        (low, high) = (i + 1, n - 1)\n",
    "\n",
    "        # loop if `low` is less than `high`\n",
    "        while low < high:\n",
    "\n",
    "            # increment `low` index if the total is less than the remaining sum\n",
    "            if nums[low] + nums[high] < k:\n",
    "                low = low + 1\n",
    "\n",
    "            # decrement `high` index if the total is more than the remaining sum\n",
    "            elif nums[low] + nums[high] > k:\n",
    "                high = high - 1\n",
    "\n",
    "            # triplet with the given sum is found\n",
    "            else:\n",
    "                # print the triplet\n",
    "                print((nums[i], nums[low], nums[high]))\n",
    "\n",
    "                # increment `low` index and decrement `high` index\n",
    "                low = low + 1\n",
    "                high = high - 1\n",
    "\n",
    "\n",
    "if __name__ == \"__main__\":\n",
    "\n",
    "    nums = [2, 7, 4, 0, 9, 5, 1, 3]\n",
    "    target = 6\n",
    "\n",
    "    printAllTriplets(nums, target)"
   ]
  },
  {
   "cell_type": "code",
   "execution_count": 17,
   "metadata": {},
   "outputs": [
    {
     "name": "stdout",
     "output_type": "stream",
     "text": [
      "Triplet exists\n"
     ]
    }
   ],
   "source": [
    "# Function to check if triplet exists in a list with the given sum\n",
    "def isTripletExist(nums, target):\n",
    "\n",
    "    # create an empty dictionary\n",
    "    d = {}\n",
    "\n",
    "    # insert (element, index) pair into the dictionary for each input element\n",
    "    for i, e in enumerate(nums):\n",
    "        d[e] = i\n",
    "\n",
    "    # consider each element except the last element\n",
    "    for i in range(len(nums) - 1):\n",
    "\n",
    "        # start from the i'th element until the last element\n",
    "        for j in range(i + 1, len(nums)):\n",
    "            # remaining sum\n",
    "            val = target - (nums[i] + nums[j])\n",
    "\n",
    "            # if the remaining sum is found, we have found a triplet\n",
    "            if val in d:\n",
    "                # if the triplet doesn't overlap, return true\n",
    "                if d[val] != i and d[val] != j:\n",
    "                    return True\n",
    "\n",
    "    # return false if triplet doesn't exist\n",
    "    return False\n",
    "\n",
    "\n",
    "if __name__ == \"__main__\":\n",
    "\n",
    "    nums = [2, 7, 4, 0, 9, 5, 1, 3]\n",
    "    target = 6\n",
    "\n",
    "    if isTripletExist(nums, target):\n",
    "        print(\"Triplet exists\")\n",
    "    else:\n",
    "        print(\"Triplet doesn't exist\")"
   ]
  },
  {
   "cell_type": "markdown",
   "metadata": {},
   "source": [
    "Find the longest continuous sequence length with the same sum in given binary arrays.\n",
    "\n",
    "Given two binary arrays, X and Y, find the length of the longest continuous sequence that starts and ends at the same index in both arrays and have the same sum"
   ]
  },
  {
   "cell_type": "code",
   "execution_count": 19,
   "metadata": {},
   "outputs": [
    {
     "name": "stdout",
     "output_type": "stream",
     "text": [
      "The length of the longest continuous sequence with the same sum is 5\n"
     ]
    }
   ],
   "source": [
    "def findMaxSublistLength(X, Y):\n",
    "\n",
    "    # create an empty dictionary\n",
    "    d = {}\n",
    "\n",
    "    # stores length of the longest continuous sequence\n",
    "    result = 0\n",
    "\n",
    "    # `sum_x` and `sum_y` stores the sum of elements of `X` and `Y`,\n",
    "    # respectively, till the current index\n",
    "    sum_x = sum_y = 0\n",
    "\n",
    "    # traverse both lists simultaneously\n",
    "    for i in range(len(X)):\n",
    "\n",
    "        # update `sum_x` and `sum_y`\n",
    "        sum_x += X[i]\n",
    "        sum_y += Y[i]\n",
    "\n",
    "        # calculate the difference between the sum of elements in two lists\n",
    "        diff = sum_x - sum_y\n",
    "        if diff == 0:\n",
    "            result = i + 1\n",
    "\n",
    "        # if the difference is seen for the first time, store the\n",
    "        # difference and current index in a dictionary\n",
    "        if diff not in d:\n",
    "            d[diff] = i\n",
    "\n",
    "        # if the difference is seen before, then update the result\n",
    "        else:\n",
    "            result = max(result, i - d[diff])\n",
    "\n",
    "    return result\n",
    "\n",
    "\n",
    "if __name__ == \"__main__\":\n",
    "\n",
    "    X = [0, 0, 1, 1, 1, 1]\n",
    "    Y = [0, 1, 1, 0, 1, 0]\n",
    "\n",
    "    print(\n",
    "        \"The length of the longest continuous sequence with the same sum is\",\n",
    "        findMaxSublistLength(X, Y),\n",
    "    )"
   ]
  },
  {
   "cell_type": "code",
   "execution_count": 20,
   "metadata": {},
   "outputs": [
    {
     "name": "stdout",
     "output_type": "stream",
     "text": [
      "The longest common span is: 4\n"
     ]
    }
   ],
   "source": [
    "from collections import defaultdict\n",
    "\n",
    "\n",
    "class Solution:\n",
    "    def longestCommonSum(self, arr1, arr2, n):\n",
    "        mymap = defaultdict(int)\n",
    "        arr = [arr1[i] - arr2[i] for i in range(n)]\n",
    "        sum = 0\n",
    "        ans = 0\n",
    "\n",
    "        for i in range(n):\n",
    "            sum += arr[i]\n",
    "            if sum == 0:\n",
    "                ans = i + 1\n",
    "            elif sum in mymap:\n",
    "                ans = max(ans, i - mymap[sum])\n",
    "            else:\n",
    "                mymap[sum] = i\n",
    "\n",
    "        return ans\n",
    "\n",
    "\n",
    "if __name__ == \"__main__\":\n",
    "    n = 6\n",
    "    arr1 = [0, 1, 0, 0, 0, 0]\n",
    "    arr2 = [1, 0, 1, 0, 0, 1]\n",
    "    ob = Solution()\n",
    "    ans = ob.longestCommonSum(arr1, arr2, n)\n",
    "    print(\"The longest common span is:\", ans)"
   ]
  },
  {
   "cell_type": "markdown",
   "metadata": {},
   "source": [
    "find the maximum sequence of continuous 1’s that can be formed by replacing at most k zeros by ones."
   ]
  },
  {
   "cell_type": "code",
   "execution_count": 22,
   "metadata": {},
   "outputs": [
    {
     "name": "stdout",
     "output_type": "stream",
     "text": [
      "The longest sequence has length 10 from index 0 to 9\n"
     ]
    }
   ],
   "source": [
    "def findLongestSequence(A, k):\n",
    "\n",
    "    start = 0  # represents the current window's starting index\n",
    "    count = 0  # stores the total number of zeros in the current window\n",
    "    window = 0  # stores the maximum number of continuous 1's found\n",
    "    # so far (including `k` zeros)\n",
    "\n",
    "    index = 0  # stores the left index of maximum window found so far\n",
    "\n",
    "    # maintain a window `[left…right]` containing at most `k` zeros\n",
    "    for i in range(len(A)):\n",
    "\n",
    "        # if the current element is 0, increase the count of zeros in the\n",
    "        # current window by 1\n",
    "        if A[i] == 0:\n",
    "            count = count + 1\n",
    "\n",
    "        # the window becomes unstable if the total number of zeros in it becomes\n",
    "        # more than `k`\n",
    "        while count > k:\n",
    "            # if we have found zero, decrement the number of zeros in the\n",
    "            # current window by 1\n",
    "            if A[start] == 0:\n",
    "                count = count - 1\n",
    "\n",
    "            # remove elements from the window's left side till the window\n",
    "            # becomes stable again\n",
    "            start = start + 1\n",
    "\n",
    "        # when we reach here, window `[left…right]` contains at most\n",
    "        # `k` zeros, and we update max window size and leftmost index\n",
    "        # of the window\n",
    "        if i - start + 1 > window:\n",
    "            window = i - start + 1\n",
    "            index = start\n",
    "\n",
    "    # no sequence found\n",
    "    if window == 0:\n",
    "        return\n",
    "\n",
    "    # print the maximum sequence of continuous 1's\n",
    "    print(\n",
    "        \"The longest sequence has length\",\n",
    "        window,\n",
    "        \"from index\",\n",
    "        index,\n",
    "        \"to\",\n",
    "        (index + window - 1),\n",
    "    )\n",
    "\n",
    "\n",
    "if __name__ == \"__main__\":\n",
    "\n",
    "    A = [1, 1, 0, 1, 1, 0, 1, 1, 1, 1, 0, 0]\n",
    "    k = 2\n",
    "\n",
    "    findLongestSequence(A, k)"
   ]
  },
  {
   "cell_type": "code",
   "execution_count": 25,
   "metadata": {},
   "outputs": [
    {
     "name": "stdout",
     "output_type": "stream",
     "text": [
      "The maximum sum is 199\n"
     ]
    }
   ],
   "source": [
    "#  Function to find the maximum sum path in two given lists.\n",
    "# The code is similar to the merge routine of the merge sort algorithm\n",
    "# Given two sorted arrays of integers, find a maximum sum path involving elements of both arrays whose sum is maximum.\n",
    "# We can start from either array, but we can switch between arrays only through its common elements.\n",
    "\n",
    "\n",
    "def findMaxSum(X, Y):\n",
    "\n",
    "    total = sum_x = sum_y = 0\n",
    "\n",
    "    m = len(X)\n",
    "    n = len(Y)\n",
    "\n",
    "    # `i` and `j` denotes the current index of `X` and `Y`, respectively\n",
    "    i = j = 0\n",
    "\n",
    "    # loop till `X` and `Y` are empty\n",
    "    while i < m and j < n:\n",
    "\n",
    "        # to handle the duplicate elements in `X`\n",
    "        while i < m - 1 and X[i] == X[i + 1]:\n",
    "            sum_x += X[i]\n",
    "            i = i + 1\n",
    "\n",
    "        # to handle the duplicate elements in `Y`\n",
    "        while j < n - 1 and Y[j] == Y[j + 1]:\n",
    "            sum_y += Y[j]\n",
    "            j = j + 1\n",
    "\n",
    "        # if the current element of `Y` is less than the current element of `X`\n",
    "        if Y[j] < X[i]:\n",
    "            sum_y += Y[j]\n",
    "            j = j + 1\n",
    "\n",
    "        # if the current element of `X` is less than the current element of `Y`\n",
    "        elif X[i] < Y[j]:\n",
    "            sum_x += X[i]\n",
    "            i = i + 1\n",
    "\n",
    "        else:  # if X[i] == Y[j]\n",
    "            # consider the maximum sum and include the current cell's value\n",
    "            total += max(sum_x, sum_y) + X[i]\n",
    "\n",
    "            # move both indices by 1 position\n",
    "            i = i + 1\n",
    "            j = j + 1\n",
    "\n",
    "            # reset both sums\n",
    "            sum_x = 0\n",
    "            sum_y = 0\n",
    "\n",
    "    # process the remaining elements of `X` (if any)\n",
    "    while i < m:\n",
    "        sum_x += X[i]\n",
    "        i = i + 1\n",
    "\n",
    "    # process the remaining elements of `Y` (if any)\n",
    "    while j < n:\n",
    "        sum_y += Y[j]\n",
    "        j = j + 1\n",
    "\n",
    "    total += max(sum_x, sum_y)\n",
    "    return total\n",
    "\n",
    "\n",
    "if __name__ == \"__main__\":\n",
    "\n",
    "    X = [3, 6, 7, 8, 10, 12, 15, 18, 100]\n",
    "    Y = [1, 2, 3, 5, 7, 9, 10, 11, 15, 16, 18, 25, 50]\n",
    "\n",
    "    print(\"The maximum sum is\", findMaxSum(X, Y))"
   ]
  },
  {
   "cell_type": "markdown",
   "metadata": {},
   "source": [
    "Given an array and an integer k, find the count of distinct elements in every subarray of size k."
   ]
  },
  {
   "cell_type": "code",
   "execution_count": 28,
   "metadata": {},
   "outputs": [
    {
     "name": "stdout",
     "output_type": "stream",
     "text": [
      "3 3 4 5 "
     ]
    }
   ],
   "source": [
    "a = [2, 1, 2, 3, 2, 1, 4, 5]\n",
    "d = dict()\n",
    "start = 0\n",
    "k = 5\n",
    "for i in range(len(a)):\n",
    "    d[a[i]] = d.get(a[i], 0) + 1\n",
    "    if i - start > k:\n",
    "        d[a[start]] -= 1\n",
    "        if d[a[start]] == 0:\n",
    "            del d[a[start]]\n",
    "        start += 1\n",
    "    if i >= k - 1:\n",
    "        print(len(d), end=\" \")"
   ]
  },
  {
   "cell_type": "markdown",
   "metadata": {},
   "source": [
    "Given an integer array, print all maximum size subarrays having all distinct elements in them"
   ]
  },
  {
   "cell_type": "code",
   "execution_count": 30,
   "metadata": {},
   "outputs": [
    {
     "name": "stdout",
     "output_type": "stream",
     "text": [
      "[5] [5, 2] [5, 2, 3] [2, 3, 5] [2, 3, 5, 4] [5, 4, 3] "
     ]
    }
   ],
   "source": [
    "a = [5, 2, 3, 5, 4, 3]\n",
    "\n",
    "\n",
    "def solve(a):\n",
    "    n = len(a)\n",
    "    start = 0\n",
    "    check = set()\n",
    "    for i in range(n):\n",
    "        if a[i] in check:\n",
    "            while a[i] in check:\n",
    "                check.remove(a[start])\n",
    "                start += 1\n",
    "\n",
    "        else:\n",
    "            check.add(a[i])\n",
    "\n",
    "        # if len(d) == i - start + 1:\n",
    "        print(a[start : i + 1], end=\" \")\n",
    "\n",
    "\n",
    "solve(a)"
   ]
  },
  {
   "cell_type": "markdown",
   "metadata": {},
   "source": [
    "Count subarrays having total distinct elements same as original array\n",
    "\n",
    " atmost k - atmost k-1"
   ]
  },
  {
   "cell_type": "code",
   "execution_count": 33,
   "metadata": {},
   "outputs": [
    {
     "data": {
      "text/plain": [
       "5"
      ]
     },
     "execution_count": 33,
     "metadata": {},
     "output_type": "execute_result"
    }
   ],
   "source": [
    "# find for atmost k distinct elements\n",
    "def help(nums, k):\n",
    "    start = 0\n",
    "    ans = 0\n",
    "    d = dict()\n",
    "    for i in range(len(nums)):\n",
    "        d[nums[i]] = d.get(nums[i], 0) + 1\n",
    "        while len(d) > k:\n",
    "            d[nums[start]] -= 1\n",
    "            if d[nums[start]] == 0:\n",
    "                del d[nums[start]]\n",
    "            start += 1\n",
    "        ans += i - start + 1\n",
    "    return ans\n",
    "\n",
    "\n",
    "nums = [2, 1, 3, 2, 3]\n",
    "k = len(set(nums))\n",
    "help(nums, k) - help(nums, k - 1)"
   ]
  },
  {
   "cell_type": "markdown",
   "metadata": {},
   "source": [
    "Find two non-overlapping pairs having the same sum in an array"
   ]
  },
  {
   "cell_type": "code",
   "execution_count": 34,
   "metadata": {},
   "outputs": [
    {
     "name": "stdout",
     "output_type": "stream",
     "text": [
      "First Pair (4, 3)\n",
      "Second Pair (3, 4)\n"
     ]
    }
   ],
   "source": [
    "# Function to find two non-overlapping pairs with the same sum in a list\n",
    "def findPairs(nums):\n",
    "\n",
    "    # create an empty dictionary\n",
    "    # key —> sum of a pair of elements in the list\n",
    "    # value —> list storing an index of every pair having that sum\n",
    "    d = {}\n",
    "\n",
    "    # consider every pair (nums[i], nums[j]), where `j > i`\n",
    "    for i in range(len(nums) - 1):\n",
    "        for j in range(i + 1, len(nums)):\n",
    "            # calculate the sum of the current pair\n",
    "            total = nums[i] + nums[j]\n",
    "\n",
    "            # if the sum is already present on the dictionary\n",
    "            if total in d:\n",
    "                # check every pair for the desired sum\n",
    "                for m, n in d[total]:\n",
    "\n",
    "                    # if pairs don't overlap, print and return them\n",
    "                    if (m != i and m != j) and (n != i and n != j):\n",
    "                        print(\"First Pair\", (nums[i], nums[j]))\n",
    "                        print(\"Second Pair\", (nums[m], nums[n]))\n",
    "                        return\n",
    "\n",
    "            # insert the current pair into the dictionary\n",
    "            d.setdefault(total, []).append((i, j))\n",
    "\n",
    "    print(\"No non-overlapping pairs present\")\n",
    "\n",
    "\n",
    "if __name__ == \"__main__\":\n",
    "\n",
    "    nums = [3, 4, 7, 3, 4]\n",
    "    findPairs(nums)"
   ]
  },
  {
   "cell_type": "markdown",
   "metadata": {},
   "source": [
    "\n",
    "Input: arr[] = {2, -1, 4, 3, 6, 4, 5, 1}, target = 6\n",
    "Output: 3\n",
    "Explanation: \n",
    "Subarrays {-1, 4, 3}, {6} and {5, 1} have sum equal to target(= 6)."
   ]
  },
  {
   "cell_type": "code",
   "execution_count": 35,
   "metadata": {},
   "outputs": [
    {
     "name": "stdout",
     "output_type": "stream",
     "text": [
      "3\n"
     ]
    }
   ],
   "source": [
    "# Python3 program for the above approach\n",
    "\n",
    "\n",
    "# Function to count maximum number\n",
    "# of non-overlapping subarrays with\n",
    "# sum equals to the target\n",
    "def maximumSubarrays(arr, N, target):\n",
    "\n",
    "    # Stores the final count\n",
    "    ans = 0\n",
    "\n",
    "    # Next subarray should start\n",
    "    # from index >= availIdx\n",
    "    availIdx = -1\n",
    "\n",
    "    # Tracks the prefix sum\n",
    "    cur_sum = 0\n",
    "\n",
    "    # Map to store the prefix sum\n",
    "    # for respective indices\n",
    "    mp = {}\n",
    "    mp[0] = -1\n",
    "\n",
    "    for i in range(N):\n",
    "        cur_sum += arr[i]\n",
    "\n",
    "        # Check if cur_sum - target is\n",
    "        # present in the array or not\n",
    "        if (cur_sum - target) in mp and mp[cur_sum - target] >= availIdx:\n",
    "            ans += 1\n",
    "            availIdx = i\n",
    "\n",
    "        # Update the index of\n",
    "        # current prefix sum\n",
    "        mp[cur_sum] = i\n",
    "\n",
    "    # Return the count of subarrays\n",
    "    return ans\n",
    "\n",
    "\n",
    "# Driver Code\n",
    "if __name__ == \"__main__\":\n",
    "\n",
    "    # Given array arr[]\n",
    "    arr = [2, -1, 4, 3, 6, 4, 5, 1]\n",
    "\n",
    "    N = len(arr)\n",
    "\n",
    "    # Given sum target\n",
    "    target = 6\n",
    "\n",
    "    # Function call\n",
    "    print(maximumSubarrays(arr, N, target))"
   ]
  },
  {
   "cell_type": "markdown",
   "metadata": {},
   "source": [
    "longest string wo repeating"
   ]
  },
  {
   "cell_type": "code",
   "execution_count": 1,
   "metadata": {},
   "outputs": [
    {
     "data": {
      "text/plain": [
       "3"
      ]
     },
     "execution_count": 1,
     "metadata": {},
     "output_type": "execute_result"
    }
   ],
   "source": [
    "s = \"abcabcbb\"\n",
    "\n",
    "\n",
    "def solve(s):\n",
    "    n = len(s)\n",
    "    d = {}\n",
    "    start = 0\n",
    "    ans = 0\n",
    "    for i in range(n):\n",
    "        if s[i] in d:\n",
    "            start = max(start, d[s[i]] + 1)\n",
    "        d[s[i]] = i\n",
    "        ans = max(ans, i - start + 1)\n",
    "    return ans\n",
    "\n",
    "\n",
    "solve(s)"
   ]
  },
  {
   "cell_type": "code",
   "execution_count": 9,
   "metadata": {},
   "outputs": [
    {
     "name": "stdout",
     "output_type": "stream",
     "text": [
      " \n",
      " g\n",
      " ge\n",
      "eksf\n",
      "eksfo\n",
      "eksfor\n",
      "eksforg\n"
     ]
    },
    {
     "data": {
      "text/plain": [
       "7"
      ]
     },
     "execution_count": 9,
     "metadata": {},
     "output_type": "execute_result"
    }
   ],
   "source": [
    "def solve(s):\n",
    "    n = len(s)\n",
    "    d = set()\n",
    "    start = 0\n",
    "    ans = 0\n",
    "    for i in range(n):\n",
    "        if s[i] in d:\n",
    "            while s[i] in d:\n",
    "                d.discard(s[start])\n",
    "                start += 1\n",
    "\n",
    "        d.add(s[i])\n",
    "\n",
    "        if ans < (i - start + 1):\n",
    "            print(s[start : i + 1])\n",
    "            ans = i - start + 1\n",
    "    return ans\n",
    "\n",
    "\n",
    "s = \" geeksforgeeks\"\n",
    "solve(s)"
   ]
  },
  {
   "cell_type": "code",
   "execution_count": 10,
   "metadata": {},
   "outputs": [],
   "source": [
    "def lengthOfLongestSubstring(s: str) -> int:\n",
    "    if len(s) < 1:\n",
    "        return 0\n",
    "    ans = 0\n",
    "    start = 0\n",
    "    d = dict()\n",
    "    for i in range(len(s)):\n",
    "        if s[i] in d:\n",
    "            start = max(start, d[s[i]] + 1)\n",
    "        ans = max(ans, i - start + 1)\n",
    "        d[s[i]] = i\n",
    "    return ans"
   ]
  },
  {
   "cell_type": "markdown",
   "metadata": {},
   "source": [
    "substring with excatly k distinct char"
   ]
  },
  {
   "cell_type": "code",
   "execution_count": 11,
   "metadata": {},
   "outputs": [
    {
     "name": "stdout",
     "output_type": "stream",
     "text": [
      "aabac\n",
      "aabacb\n",
      "cbebebe\n"
     ]
    },
    {
     "data": {
      "text/plain": [
       "7"
      ]
     },
     "execution_count": 11,
     "metadata": {},
     "output_type": "execute_result"
    }
   ],
   "source": [
    "s = \"aabacbebebe\"\n",
    "\n",
    "\n",
    "def solve(s, k):\n",
    "    n = len(s)\n",
    "    start = 0\n",
    "    ans = 0\n",
    "    d = dict()\n",
    "    for i in range(n):\n",
    "        d[s[i]] = d.get(s[i], 0) + 1\n",
    "        while len(d) > k:\n",
    "            d[s[start]] -= 1\n",
    "            if d[s[start]] == 0:\n",
    "                del d[s[start]]\n",
    "            start += 1\n",
    "        if len(d) == k and ans < i - start + 1:\n",
    "            ans = i - start + 1\n",
    "            print(s[start : i + 1])\n",
    "    return ans\n",
    "\n",
    "\n",
    "solve(s, k=3)"
   ]
  },
  {
   "cell_type": "markdown",
   "metadata": {},
   "source": []
  },
  {
   "cell_type": "code",
   "execution_count": 20,
   "metadata": {},
   "outputs": [
    {
     "data": {
      "text/plain": [
       "4"
      ]
     },
     "execution_count": 20,
     "metadata": {},
     "output_type": "execute_result"
    }
   ],
   "source": [
    "# find for atmost k distinct elements\n",
    "# the number of subarrays with at most K distinct elements\n",
    "def most_k_chars(s, k):\n",
    "    if not s:\n",
    "        return 0\n",
    "    d = {}\n",
    "    num = 0\n",
    "    start = 0\n",
    "\n",
    "    for i in range(len(s)):\n",
    "        d[s[i]] = d.get(s[i], 0) + 1\n",
    "        while len(d) > k:\n",
    "            d[s[start]] -= 1\n",
    "            if d[s[start]] == 0:\n",
    "                d.pop(s[start])\n",
    "            start += 1\n",
    "        num += i - start + 1\n",
    "    return num\n",
    "\n",
    "\n",
    "def exact_k_chars(s, k):\n",
    "    return most_k_chars(s, k) - most_k_chars(s, k - 1)\n",
    "\n",
    "\n",
    "s = \"abcad\"\n",
    "k = 2\n",
    "exact_k_chars(s, k)"
   ]
  },
  {
   "cell_type": "code",
   "execution_count": 21,
   "metadata": {},
   "outputs": [
    {
     "name": "stdout",
     "output_type": "stream",
     "text": [
      "2\n"
     ]
    }
   ],
   "source": [
    "# Python3 program to find substring with equal\n",
    "# number of 0's, 1's and 2's\n",
    "\n",
    "\n",
    "# Method to count number of substring which\n",
    "# has equal 0, 1 and 2\n",
    "def getSubstringWithEqual012(string):\n",
    "    N = len(string)\n",
    "\n",
    "    # map to store, how many times a difference\n",
    "    # pair has occurred previously\n",
    "    mp = dict()\n",
    "    mp[(0, 0)] = 1\n",
    "\n",
    "    # zc (Count of zeroes), oc(Count of 1s)\n",
    "    # and tc(count of twos)\n",
    "    # In starting all counts are zero\n",
    "    zc, oc, tc = 0, 0, 0\n",
    "\n",
    "    # looping into string\n",
    "    res = 0  # Initialize result\n",
    "    for i in range(N):\n",
    "\n",
    "        # increasing the count of current character\n",
    "        if string[i] == \"0\":\n",
    "            zc += 1\n",
    "        elif string[i] == \"1\":\n",
    "            oc += 1\n",
    "        else:\n",
    "            tc += 1  # Assuming that string doesn't contain\n",
    "            # other characters\n",
    "\n",
    "        # making pair of differences (z[i] - o[i],\n",
    "        # z[i] - t[i])\n",
    "        tmp = (zc - oc, zc - tc)\n",
    "\n",
    "        # Count of previous occurrences of above pair\n",
    "        # indicates that the subarrays forming from\n",
    "        # every previous occurrence to this occurrence\n",
    "        # is a subarray with equal number of 0's, 1's\n",
    "        # and 2's\n",
    "        if tmp not in mp:\n",
    "            res += 0\n",
    "        else:\n",
    "            res += mp[tmp]\n",
    "\n",
    "        # increasing the count of current difference\n",
    "        # pair by 1\n",
    "        if tmp in mp:\n",
    "            mp[tmp] += 1\n",
    "        else:\n",
    "            mp[tmp] = 1\n",
    "\n",
    "    return res\n",
    "\n",
    "\n",
    "# Driver's Code\n",
    "if __name__ == \"__main__\":\n",
    "    string = \"0102010\"\n",
    "    print(getSubstringWithEqual012(string))"
   ]
  },
  {
   "cell_type": "code",
   "execution_count": 22,
   "metadata": {},
   "outputs": [
    {
     "name": "stdout",
     "output_type": "stream",
     "text": [
      "7\n"
     ]
    }
   ],
   "source": [
    "# Python Code to Count Subarrays With Sum Divisible By K\n",
    "# using Prefix Sum and Dictionary\n",
    "\n",
    "from collections import defaultdict\n",
    "\n",
    "\n",
    "def subCount(arr, k):\n",
    "    n = len(arr)\n",
    "    res = 0\n",
    "    prefCnt = defaultdict(int)\n",
    "    sum = 0\n",
    "\n",
    "    # Iterate over all ending points\n",
    "    for i in range(n):\n",
    "        sum = (sum + arr[i]) % k\n",
    "\n",
    "        # If sum == 0, then increment the result by 1\n",
    "        # to count subarray arr[0...i]\n",
    "        if sum == 0:\n",
    "            res += 1\n",
    "\n",
    "        # Add count of all starting points for index i\n",
    "        res += prefCnt[sum]\n",
    "\n",
    "        prefCnt[sum] += 1\n",
    "\n",
    "    return res\n",
    "\n",
    "\n",
    "if __name__ == \"__main__\":\n",
    "    arr = [4, 5, 0, -2, -3, 1]\n",
    "    k = 5\n",
    "\n",
    "    print(subCount(arr, k))"
   ]
  },
  {
   "cell_type": "markdown",
   "metadata": {},
   "source": []
  },
  {
   "cell_type": "code",
   "execution_count": 23,
   "metadata": {},
   "outputs": [
    {
     "name": "stdout",
     "output_type": "stream",
     "text": [
      "a abc b aaabc aab c aabc aa aaa bc aaab ab "
     ]
    }
   ],
   "source": [
    "# Python3 implementation of the approach\n",
    "\n",
    "\n",
    "# Function to return the count of\n",
    "# valid sub-Strings\n",
    "def printSubStrings(s):\n",
    "\n",
    "    # To store distinct output subStrings\n",
    "    us = set()\n",
    "\n",
    "    # Traverse through the given String and\n",
    "    # one by one generate subStrings beginning\n",
    "    # from s[i].\n",
    "    for i in range(len(s)):\n",
    "\n",
    "        # One by one generate subStrings ending\n",
    "        # with s[j]\n",
    "        ss = \"\"\n",
    "        for j in range(i, len(s)):\n",
    "            ss = ss + s[j]\n",
    "            us.add(ss)\n",
    "\n",
    "    # Print all subStrings one by one\n",
    "    for str in us:\n",
    "        print(str, end=\" \")\n",
    "\n",
    "\n",
    "# Driver code\n",
    "if __name__ == \"__main__\":\n",
    "    str = \"aaabc\"\n",
    "    printSubStrings(str)"
   ]
  },
  {
   "cell_type": "markdown",
   "metadata": {},
   "source": [
    "Remove minimum elements such that no common elements exist in two arrays"
   ]
  },
  {
   "cell_type": "markdown",
   "metadata": {},
   "source": [
    "A palindromic string can have one odd character only when the length of the string is odd otherwise all characters occur an even number of times. So, we have to find characters that occur at odd times in a string."
   ]
  },
  {
   "cell_type": "code",
   "execution_count": 24,
   "metadata": {},
   "outputs": [
    {
     "name": "stdout",
     "output_type": "stream",
     "text": [
      "2\n"
     ]
    }
   ],
   "source": [
    "# Python3 program to find minimum number\n",
    "# of insertions to make a string\n",
    "# palindrome\n",
    "import math as mt\n",
    "\n",
    "\n",
    "# Function will return number of\n",
    "# characters to be added\n",
    "def minInsertion(tr1):\n",
    "\n",
    "    # To store string length\n",
    "    n = len(str1)\n",
    "\n",
    "    # To store number of characters\n",
    "    # occurring odd number of times\n",
    "    res = 0\n",
    "\n",
    "    # To store count of each\n",
    "    # character\n",
    "    count = [0 for i in range(26)]\n",
    "\n",
    "    # To store occurrence of each\n",
    "    # character\n",
    "    for i in range(n):\n",
    "        count[ord(str1[i]) - ord(\"a\")] += 1\n",
    "\n",
    "    # To count characters with odd\n",
    "    # occurrence\n",
    "    for i in range(26):\n",
    "        if count[i] % 2 == 1:\n",
    "            res += 1\n",
    "\n",
    "    # As one character can be odd return\n",
    "    # res - 1 but if string is already\n",
    "    # palindrome return 0\n",
    "    if res == 0:\n",
    "        return 0\n",
    "    else:\n",
    "        return res - 1\n",
    "\n",
    "\n",
    "# Driver Code\n",
    "str1 = \"geeksforgeeks\"\n",
    "print(minInsertion(str1))"
   ]
  },
  {
   "cell_type": "markdown",
   "metadata": {},
   "source": [
    "Given an integer array nums, return an integer array counts where counts[i] is the number of smaller elements to the right of nums[i]."
   ]
  },
  {
   "cell_type": "code",
   "execution_count": null,
   "metadata": {},
   "outputs": [],
   "source": [
    "import bisect\n",
    "\n",
    "\n",
    "def countSmaller(nums):\n",
    "    temp = []\n",
    "    ans = [0] * len(nums)\n",
    "    for i in reversed(range(len(nums))):\n",
    "        index = bisect.bisect_left(temp, nums[i])\n",
    "        ans[i] = index\n",
    "        temp[index:index] = [nums[i]]\n",
    "    return ans"
   ]
  },
  {
   "cell_type": "code",
   "execution_count": 1,
   "metadata": {},
   "outputs": [
    {
     "name": "stdout",
     "output_type": "stream",
     "text": [
      "The common elements are: [1, 6]\n"
     ]
    }
   ],
   "source": [
    "# Function to find all common elements present in every row of a given matrix\n",
    "def findCommonElements(mat):\n",
    "\n",
    "    # base case\n",
    "    if not mat or not len(mat):\n",
    "        return set()\n",
    "\n",
    "    # `M × N` matrix\n",
    "    M = len(mat)\n",
    "    N = len(mat[0])\n",
    "\n",
    "    # Create an empty dictionary\n",
    "    d = {}\n",
    "\n",
    "    # Insert all elements of the first row into the dictionary\n",
    "    # with their value set as 1\n",
    "    for c in range(N):\n",
    "        d[mat[0][c]] = 1\n",
    "\n",
    "    # Do for remaining rows\n",
    "    for r in range(1, M):\n",
    "        for c in range(N):\n",
    "            # Get the current element\n",
    "            curr = mat[r][c]\n",
    "\n",
    "            # if the current element is present in the dictionary and its value\n",
    "            # is the same as the row index, increment its value by 1.\n",
    "            # This check also handles duplicate entries in the same row.\n",
    "            if curr in d and d[curr] == r:\n",
    "                d[curr] = r + 1\n",
    "\n",
    "    # Iterate over each entry in the dictionary and print keys having\n",
    "    # their value equal to `M` (number of rows in the matrix)\n",
    "    print(\"The common elements are:\", [k for k in d.keys() if d.get(k) == M])\n",
    "\n",
    "\n",
    "if __name__ == \"__main__\":\n",
    "\n",
    "    mat = [\n",
    "        [7, 1, 3, 5, 3, 6],\n",
    "        [2, 3, 6, 1, 1, 6],\n",
    "        [6, 1, 7, 2, 1, 4],\n",
    "        [6, 6, 7, 1, 3, 3],\n",
    "        [5, 5, 6, 1, 5, 4],\n",
    "        [3, 5, 6, 2, 7, 1],\n",
    "        [4, 1, 4, 3, 6, 4],\n",
    "        [4, 6, 1, 7, 4, 3],\n",
    "    ]\n",
    "\n",
    "    findCommonElements(mat)"
   ]
  },
  {
   "cell_type": "code",
   "execution_count": 2,
   "metadata": {},
   "outputs": [
    {
     "name": "stdout",
     "output_type": "stream",
     "text": [
      "ACAB and XCXY are Isomorphic\n"
     ]
    }
   ],
   "source": [
    "#  Find if strings 'X' and 'Y' are Isomorphic or not\n",
    "# isomorphic if all occurrences of each character in X can be replaced with another character to get Y and vice-versa.\n",
    "def isIsomorphic(X, Y):\n",
    "\n",
    "    # if 'X' and 'Y' have different lengths, they cannot be isomorphic\n",
    "    if len(X) != len(Y):\n",
    "        return False\n",
    "\n",
    "    # use a dictionary to store a mapping from characters of string 'X' to string 'Y'\n",
    "    d = {}\n",
    "\n",
    "    # use set to store a pool of already mapped characters\n",
    "    s = set()\n",
    "\n",
    "    for i in range(len(X)):\n",
    "        x = X[i]\n",
    "        y = Y[i]\n",
    "\n",
    "        # if 'x' is seen before\n",
    "        if x in d:\n",
    "            # return false if the first occurrence of `x` is mapped to a\n",
    "            # different character\n",
    "            if d[x] != y:\n",
    "                return False\n",
    "\n",
    "        # if 'x' is seen for the first time (i.e., it isn't mapped yet)\n",
    "        else:\n",
    "            # return false if 'y' is already mapped to some other char in 'X'\n",
    "            if y in s:\n",
    "                return False\n",
    "\n",
    "            # map 'y' to 'x' and mark it as mapped\n",
    "            d[x] = y\n",
    "            s.add(y)\n",
    "\n",
    "    return True\n",
    "\n",
    "\n",
    "if __name__ == \"__main__\":\n",
    "\n",
    "    X = \"ACAB\"\n",
    "    Y = \"XCXY\"\n",
    "\n",
    "    if isIsomorphic(X, Y):\n",
    "        print(f\"{X} and {Y} are Isomorphic\")\n",
    "    else:\n",
    "        print(f\"{X} and {Y} are not Isomorphic\")"
   ]
  },
  {
   "cell_type": "code",
   "execution_count": null,
   "metadata": {},
   "outputs": [],
   "source": []
  }
 ],
 "metadata": {
  "kernelspec": {
   "display_name": "Python 3",
   "language": "python",
   "name": "python3"
  },
  "language_info": {
   "codemirror_mode": {
    "name": "ipython",
    "version": 3
   },
   "file_extension": ".py",
   "mimetype": "text/x-python",
   "name": "python",
   "nbconvert_exporter": "python",
   "pygments_lexer": "ipython3",
   "version": "3.11.6"
  }
 },
 "nbformat": 4,
 "nbformat_minor": 2
}
