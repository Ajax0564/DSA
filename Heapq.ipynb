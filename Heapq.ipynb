{
 "cells": [
  {
   "cell_type": "code",
   "execution_count": 45,
   "metadata": {},
   "outputs": [],
   "source": [
    "class MinHeap:\n",
    "    def __init__(self) -> None:\n",
    "        self.hlist = []\n",
    "\n",
    "    def heap_push(self, val):\n",
    "        self.hlist.append(val)\n",
    "        self.shift_up(len(self.hlist) - 1)\n",
    "\n",
    "    def heap_pop(self):\n",
    "        if len(self.hlist) <= 0:\n",
    "            return None\n",
    "        item = self.hlist[0]\n",
    "        litem = self.hlist[-1]\n",
    "        self.hlist[0] = litem\n",
    "        self.hlist.pop()\n",
    "\n",
    "        self.shift_down(0)\n",
    "        return item\n",
    "\n",
    "    def shift_up(self, index):\n",
    "        parent = index // 2\n",
    "        if index <= 0:\n",
    "            return\n",
    "        if self.hlist[index] < self.hlist[parent]:\n",
    "            self.hlist[parent], self.hlist[index] = (\n",
    "                self.hlist[index],\n",
    "                self.hlist[parent],\n",
    "            )\n",
    "            self.shift_up(parent)\n",
    "\n",
    "    def shift_down(self, index):\n",
    "        smallest = index\n",
    "        left = 2 * index + 1\n",
    "        right = 2 * index + 2\n",
    "        if left < len(self.hlist) and self.hlist[left] < self.hlist[smallest]:\n",
    "            smallest = left\n",
    "\n",
    "        if right < len(self.hlist) and self.hlist[right] < self.hlist[smallest]:\n",
    "            smallest = right\n",
    "\n",
    "        if smallest != index:\n",
    "            self.hlist[index], self.hlist[smallest] = (\n",
    "                self.hlist[smallest],\n",
    "                self.hlist[index],\n",
    "            )\n",
    "            self.shift_down(smallest)"
   ]
  },
  {
   "cell_type": "code",
   "execution_count": 46,
   "metadata": {},
   "outputs": [
    {
     "name": "stdout",
     "output_type": "stream",
     "text": [
      "2 2 3 5 6 7 "
     ]
    }
   ],
   "source": [
    "heap = MinHeap()\n",
    "heap.heap_push(5)\n",
    "heap.heap_push(7)\n",
    "heap.heap_push(6)\n",
    "heap.heap_push(2)\n",
    "heap.heap_push(3)\n",
    "heap.heap_push(2)\n",
    "\n",
    "while len(heap.hlist) > 0:\n",
    "    print(heap.heap_pop(), end=\" \")"
   ]
  },
  {
   "cell_type": "code",
   "execution_count": 40,
   "metadata": {},
   "outputs": [],
   "source": [
    "class MinHeap:\n",
    "    def __init__(self) -> None:\n",
    "        self.hlist = []\n",
    "        self.count = 0\n",
    "\n",
    "    def heap_push(self, val):\n",
    "        self.hlist.append(val)\n",
    "        self.shift_up(len(self.hlist) - 1)\n",
    "\n",
    "    def heap_pop(self):\n",
    "        if len(self.hlist) <= 0:\n",
    "            return None\n",
    "        item = self.hlist[0]\n",
    "        litem = self.hlist[-1]\n",
    "        self.hlist[0] = litem\n",
    "        self.hlist.pop()\n",
    "        self.shift_down(0)\n",
    "        return item\n",
    "\n",
    "    def shift_up(self, index):\n",
    "        # parent = index // 2\n",
    "\n",
    "        while index > 0:\n",
    "            parent = index // 2\n",
    "\n",
    "            if self.hlist[index] < self.hlist[parent]:\n",
    "                self.hlist[parent], self.hlist[index] = (\n",
    "                    self.hlist[index],\n",
    "                    self.hlist[parent],\n",
    "                )\n",
    "            index = parent\n",
    "            # self.shift_up(parent)\n",
    "\n",
    "    def shift_down(self, index):\n",
    "        while index < len(self.hlist):\n",
    "            smallest = index\n",
    "            left = 2 * index + 1\n",
    "            right = 2 * index + 2\n",
    "            if left < len(self.hlist) and self.hlist[left] < self.hlist[smallest]:\n",
    "                smallest = left\n",
    "\n",
    "            if right < len(self.hlist) and self.hlist[right] < self.hlist[smallest]:\n",
    "                smallest = right\n",
    "\n",
    "            if smallest != index:\n",
    "                self.hlist[index], self.hlist[smallest] = (\n",
    "                    self.hlist[smallest],\n",
    "                    self.hlist[index],\n",
    "                )\n",
    "                index = smallest\n",
    "            else:\n",
    "                break"
   ]
  },
  {
   "cell_type": "code",
   "execution_count": 3,
   "metadata": {},
   "outputs": [
    {
     "name": "stdout",
     "output_type": "stream",
     "text": [
      "-10\n"
     ]
    }
   ],
   "source": [
    "import heapq\n",
    "\n",
    "\n",
    "# Given an array of integers, find the Kth largest sum subarray\n",
    "def solve(arr, k):\n",
    "    n = len(arr)\n",
    "\n",
    "    prefixSum = [0] * (n + 1)\n",
    "    for i in range(1, n + 1):\n",
    "        prefixSum[i] = prefixSum[i - 1] + arr[i - 1]\n",
    "\n",
    "    subarraySums = []\n",
    "    heapq.heapify(subarraySums)\n",
    "    for i in range(n + 1):\n",
    "        for j in range(i + 1, n + 1):\n",
    "            subarraySum = prefixSum[j] - prefixSum[i]\n",
    "            heapq.heappush(subarraySums, subarraySum)\n",
    "            if len(subarraySums) > k:\n",
    "                heapq.heappop(subarraySums)\n",
    "\n",
    "    # Return the K-th largest sum of contiguous subarray.\n",
    "    return subarraySums[0]\n",
    "\n",
    "\n",
    "arr = [10, -10, 20, -40]\n",
    "k = 6\n",
    "print(solve(arr, k))"
   ]
  },
  {
   "cell_type": "code",
   "execution_count": 12,
   "metadata": {},
   "outputs": [
    {
     "name": "stdout",
     "output_type": "stream",
     "text": [
      "-40\n"
     ]
    }
   ],
   "source": [
    "import heapq\n",
    "\n",
    "\n",
    "# Given an array of integers, find the Kth largest sum subarray\n",
    "def solve(arr, k):\n",
    "    n = len(arr)\n",
    "\n",
    "    prefixSum = [0] * (n)\n",
    "    for i in range(1, n):\n",
    "        prefixSum[i] = prefixSum[i - 1] + arr[i]\n",
    "\n",
    "    subarraySums = []\n",
    "    heapq.heapify(subarraySums)\n",
    "    for i in range(n):\n",
    "        for j in range(i + 1, n):\n",
    "            subarraySum = prefixSum[j] - prefixSum[i - 1]\n",
    "            heapq.heappush(subarraySums, subarraySum)\n",
    "            if len(subarraySums) > k:\n",
    "                heapq.heappop(subarraySums)\n",
    "\n",
    "    # Return the K-th largest sum of contiguous subarray.\n",
    "    return subarraySums[0]\n",
    "\n",
    "\n",
    "arr = [10, -10, 20, -40]\n",
    "k = 6\n",
    "print(solve(arr, k))"
   ]
  },
  {
   "cell_type": "code",
   "execution_count": 14,
   "metadata": {},
   "outputs": [
    {
     "name": "stdout",
     "output_type": "stream",
     "text": [
      "[0, 10, 0, 20, -20]\n",
      "(0, 1) 10\n",
      "(0, 2) 0\n",
      "(0, 3) 20\n",
      "(1, 2) -10\n",
      "(1, 3) 10\n",
      "(2, 3) 20\n"
     ]
    }
   ],
   "source": [
    "arr = [10, -10, 20, -40]\n",
    "n = len(arr)\n",
    "\n",
    "# Create a prefix sum array.\n",
    "prefixSum = [0] * (n + 1)\n",
    "for i in range(1, n + 1):\n",
    "    prefixSum[i] = prefixSum[i - 1] + arr[i - 1]\n",
    "\n",
    "print(prefixSum)\n",
    "for i in range(n):\n",
    "    for j in range(i + 1, n):\n",
    "        subarraySum = prefixSum[j] - prefixSum[i]\n",
    "        print((i, j), subarraySum)"
   ]
  },
  {
   "cell_type": "code",
   "execution_count": 13,
   "metadata": {},
   "outputs": [
    {
     "name": "stdout",
     "output_type": "stream",
     "text": [
      "[10, 0, 20, -20]\n",
      "(0, 1) -10\n",
      "(0, 2) 10\n",
      "(0, 3) -30\n",
      "(1, 2) 20\n",
      "(1, 3) -20\n",
      "(2, 3) -40\n"
     ]
    }
   ],
   "source": [
    "arr = [10, -10, 20, -40]\n",
    "n = len(arr)\n",
    "\n",
    "# Create a prefix sum array.\n",
    "prefixSum = [0] * (n)\n",
    "prefixSum[0] = arr[0]\n",
    "for i in range(1, n):\n",
    "    prefixSum[i] = prefixSum[i - 1] + arr[i]\n",
    "\n",
    "print(prefixSum)\n",
    "\n",
    "for i in range(n):\n",
    "    for j in range(i + 1, n):\n",
    "        subarraySum = prefixSum[j] - prefixSum[i]\n",
    "        print((i, j), subarraySum)"
   ]
  },
  {
   "cell_type": "code",
   "execution_count": 41,
   "metadata": {},
   "outputs": [],
   "source": [
    "heap = MinHeap()\n",
    "heap.heap_push(5)\n",
    "heap.heap_push(7)\n",
    "heap.heap_push(6)\n",
    "heap.heap_push(2)\n",
    "heap.heap_push(3)\n",
    "heap.heap_push(2)"
   ]
  },
  {
   "cell_type": "code",
   "execution_count": 42,
   "metadata": {},
   "outputs": [
    {
     "data": {
      "text/plain": [
       "[2, 2, 3, 6, 7, 5]"
      ]
     },
     "execution_count": 42,
     "metadata": {},
     "output_type": "execute_result"
    }
   ],
   "source": [
    "heap.hlist"
   ]
  },
  {
   "cell_type": "code",
   "execution_count": 43,
   "metadata": {},
   "outputs": [
    {
     "name": "stdout",
     "output_type": "stream",
     "text": [
      "2 2 3 5 6 7 "
     ]
    }
   ],
   "source": [
    "while len(heap.hlist) > 0:\n",
    "    print(heap.heap_pop(), end=\" \")"
   ]
  },
  {
   "cell_type": "code",
   "execution_count": 18,
   "metadata": {},
   "outputs": [],
   "source": [
    "def heapify_(arr, N, i):\n",
    "\n",
    "    largest = i  # Initialize largest as root\n",
    "    l = 2 * i + 1  # left = 2*i + 1\n",
    "    r = 2 * i + 2  # right = 2*i + 2\n",
    "\n",
    "    # If left child is larger than root\n",
    "    if l < N and arr[l] > arr[largest]:\n",
    "        largest = l\n",
    "\n",
    "    # If right child is larger than largest so far\n",
    "    if r < N and arr[r] > arr[largest]:\n",
    "        largest = r\n",
    "\n",
    "    # If largest is not root\n",
    "    if largest != i:\n",
    "        arr[i], arr[largest] = arr[largest], arr[i]\n",
    "\n",
    "        # Recursively heapify the affected sub-tree\n",
    "        heapify_(arr, N, largest)"
   ]
  },
  {
   "cell_type": "code",
   "execution_count": 19,
   "metadata": {},
   "outputs": [
    {
     "data": {
      "text/plain": [
       "[12, 10, 9, 2, 5, 7, 6]"
      ]
     },
     "execution_count": 19,
     "metadata": {},
     "output_type": "execute_result"
    }
   ],
   "source": [
    "a = [10, 5, 6, 2]\n",
    "b = [12, 7, 9]\n",
    "A = a + b\n",
    "n = int((len(A) // 2) - 1)\n",
    "for k in range(n, -1, -1):\n",
    "    heapify_(A, len(A), k)\n",
    "\n",
    "A"
   ]
  },
  {
   "cell_type": "code",
   "execution_count": 1,
   "metadata": {},
   "outputs": [
    {
     "name": "stdout",
     "output_type": "stream",
     "text": [
      "[1, 3, 2, 9, 4, 5]\n"
     ]
    }
   ],
   "source": [
    "def min_heapify(A, k):\n",
    "    l = left(k)\n",
    "    r = right(k)\n",
    "    if l < len(A) and A[l] < A[k]:\n",
    "        smallest = l\n",
    "    else:\n",
    "        smallest = k\n",
    "    if r < len(A) and A[r] < A[smallest]:\n",
    "        smallest = r\n",
    "    if smallest != k:\n",
    "        A[k], A[smallest] = A[smallest], A[k]\n",
    "        min_heapify(A, smallest)\n",
    "\n",
    "\n",
    "def left(k):\n",
    "    return 2 * k + 1\n",
    "\n",
    "\n",
    "def right(k):\n",
    "    return 2 * k + 2\n",
    "\n",
    "\n",
    "def build_min_heap(A):\n",
    "    n = int((len(A) // 2) - 1)\n",
    "    for k in range(n, -1, -1):\n",
    "        min_heapify(A, k)\n",
    "\n",
    "\n",
    "A = [3, 9, 2, 1, 4, 5]\n",
    "build_min_heap(A)\n",
    "print(A)"
   ]
  },
  {
   "cell_type": "code",
   "execution_count": null,
   "metadata": {},
   "outputs": [],
   "source": []
  },
  {
   "cell_type": "markdown",
   "metadata": {},
   "source": [
    "**K maximum sum combinations from two arrays**"
   ]
  },
  {
   "cell_type": "code",
   "execution_count": 6,
   "metadata": {},
   "outputs": [
    {
     "name": "stdout",
     "output_type": "stream",
     "text": [
      "10\n",
      "9\n",
      "9\n",
      "8\n"
     ]
    }
   ],
   "source": [
    "import heapq\n",
    "\n",
    "\n",
    "# Function prints k maximum possible combinations\n",
    "def KMaxCombinations(a, b, k):\n",
    "\n",
    "    # Sorting the arrays.\n",
    "    a.sort()\n",
    "    b.sort()\n",
    "\n",
    "    n = len(a)\n",
    "\n",
    "    # Using a max-heap.\n",
    "    pq = []\n",
    "    heapq.heapify(pq)\n",
    "    pq.append((-a[n - 1] - b[n - 1], (n - 1, n - 1)))\n",
    "\n",
    "    # Using a set.\n",
    "    my_set = set()\n",
    "    my_set.add((n - 1, n - 1))\n",
    "\n",
    "    for count in range(K):\n",
    "\n",
    "        #  tuple format (sum, (i, j)).\n",
    "        temp = heapq.heappop(pq)\n",
    "\n",
    "        print(-temp[0])\n",
    "\n",
    "        i = temp[1][0]\n",
    "        j = temp[1][1]\n",
    "        sum = a[i - 1] + b[j]\n",
    "\n",
    "        temp1 = (i - 1, j)\n",
    "\n",
    "        # insert (A[i - 1] + B[j], (i - 1, j))\n",
    "        # into max heap.\n",
    "\n",
    "        #  insert only if the pair (i - 1, j) is\n",
    "        # not already present inside the map i.e.\n",
    "        # no repeating pair should be present inside\n",
    "        # the heap.\n",
    "        if temp1 not in my_set:\n",
    "            heapq.heappush(pq, (-sum, temp1))\n",
    "            my_set.add(temp1)\n",
    "\n",
    "        sum = a[i] + b[j - 1]\n",
    "\n",
    "        temp1 = (i, j - 1)\n",
    "\n",
    "        # insert (A[i1] + B[j = 1], (i, j - 1))\n",
    "        # into max heap.\n",
    "\n",
    "        # insert only if the pair (i, j - 1)\n",
    "        # is not present inside the heap.\n",
    "        if temp1 not in my_set:\n",
    "            heapq.heappush(pq, (-sum, temp1))\n",
    "            my_set.add(temp1)\n",
    "\n",
    "\n",
    "# Driver Code.\n",
    "A = [1, 4, 2, 3]\n",
    "B = [2, 5, 1, 6]\n",
    "K = 4\n",
    "\n",
    "# Function call\n",
    "KMaxCombinations(A, B, K)"
   ]
  },
  {
   "cell_type": "markdown",
   "metadata": {},
   "source": [
    "**Maximum sum of at most two non-overlapping intervals in a list of Intervals**"
   ]
  },
  {
   "cell_type": "code",
   "execution_count": 2,
   "metadata": {},
   "outputs": [
    {
     "name": "stdout",
     "output_type": "stream",
     "text": [
      "5\n"
     ]
    }
   ],
   "source": [
    "from heapq import heappop, heappush\n",
    "\n",
    "\n",
    "def maxTwoNonOverLapping(interval):\n",
    "    ## Sorting the given array\n",
    "    ## on the basis of startTime\n",
    "    interval.sort()\n",
    "\n",
    "    ## Initializing Priority Queue\n",
    "    ## which stores endTime\n",
    "    ## and value and sort\n",
    "    ## on the basis of endTime\n",
    "    pq = []\n",
    "\n",
    "    ## Initializing max\n",
    "    ## and ans variables\n",
    "    ma = 0\n",
    "    ans = 0\n",
    "\n",
    "    ## Traversing the given array\n",
    "    for e in interval:\n",
    "        while pq:\n",
    "\n",
    "            ## If endTime from priority\n",
    "            ## queue is greater\n",
    "            ## than startTime of\n",
    "            ## traversing interval\n",
    "            ## then break the loop\n",
    "            if pq[0][0] >= e[0]:\n",
    "                break\n",
    "            qu = heappop(pq)\n",
    "\n",
    "            ## Updating max variable\n",
    "            ma = max(ma, qu[1])\n",
    "\n",
    "        ## Updating ans variable\n",
    "        ans = max(ans, ma + e[2])\n",
    "        heappush(pq, ([e[1], e[2]]))\n",
    "\n",
    "    ## Returning ans\n",
    "    return ans\n",
    "\n",
    "\n",
    "## Driver code\n",
    "if __name__ == \"__main__\":\n",
    "\n",
    "    interval = [[1, 3, 2], [4, 5, 2], [1, 5, 5]]\n",
    "\n",
    "    maxValue = maxTwoNonOverLapping(interval)\n",
    "    print(maxValue)"
   ]
  },
  {
   "cell_type": "markdown",
   "metadata": {},
   "source": [
    "**Rearrange characters in a String such that no two adjacent characters are same**"
   ]
  },
  {
   "cell_type": "code",
   "execution_count": 4,
   "metadata": {},
   "outputs": [
    {
     "data": {
      "text/plain": [
       "'ekegseogsekfr'"
      ]
     },
     "execution_count": 4,
     "metadata": {},
     "output_type": "execute_result"
    }
   ],
   "source": [
    "from heapq import heappush, heappop\n",
    "from collections import Counter\n",
    "\n",
    "\n",
    "# A key class for readability\n",
    "class Key:\n",
    "    def __init__(self, character: str, freq: int) -> None:\n",
    "        self.character = character\n",
    "        self.freq = freq\n",
    "\n",
    "    def __lt__(self, other: \"Key\") -> bool:\n",
    "        # Comparing based on frequency\n",
    "        return self.freq > other.freq\n",
    "\n",
    "\n",
    "# Function to rearrange character of a string\n",
    "# so that no char repeat twice\n",
    "def rearrangestring(s: str):\n",
    "    n = len(s)\n",
    "    # Creating a frequency hashmap\n",
    "    count = Counter(s)\n",
    "\n",
    "    pq = []\n",
    "    for c, freq in count.items():\n",
    "        heappush(pq, Key(c, freq))\n",
    "\n",
    "    # null character for default previous checking\n",
    "    prev = Key(\"#\", -1)\n",
    "    result = []\n",
    "\n",
    "    while pq:\n",
    "        key = heappop(pq)\n",
    "        result.append(key.character)\n",
    "\n",
    "        # Since one character is already added\n",
    "        key.freq -= 1\n",
    "\n",
    "        # We avoid inserting if the frequency drops to 0\n",
    "        if prev.freq > 0:\n",
    "            heappush(pq, prev)\n",
    "\n",
    "        prev = key\n",
    "\n",
    "    if len(result) != n:\n",
    "        return \"-1\"\n",
    "    else:\n",
    "        return \"\".join(result)\n",
    "\n",
    "\n",
    "rearrangestring(\"geeksforgeeks\")"
   ]
  },
  {
   "cell_type": "code",
   "execution_count": 28,
   "metadata": {},
   "outputs": [
    {
     "data": {
      "text/plain": [
       "1"
      ]
     },
     "execution_count": 28,
     "metadata": {},
     "output_type": "execute_result"
    }
   ],
   "source": [
    "import heapq\n",
    "\n",
    "A = [[5, 4, 5], [1, 2, 6], [7, 4, 6]]\n",
    "import heapq\n",
    "\n",
    "\n",
    "def maximumMinimumPath(A):\n",
    "    if A is None or len(A) == 0 or A[0] is None or len(A[0]) == 0:\n",
    "        return 0\n",
    "\n",
    "    row, col = len(A), len(A[0])\n",
    "    # Max heap\n",
    "    pq = []\n",
    "    # Init\n",
    "    dir = [(0, 1), (0, -1), (1, 0), (-1, 0)]\n",
    "    visited = [[False] * col for _ in range(row)]\n",
    "    score = float(\"inf\")  # must be updated if A is not empty\n",
    "    heapq.heappush(pq, (A[0][0], 0, 0))  # push (value, row, col)\n",
    "\n",
    "    # PQ\n",
    "    while pq:\n",
    "        value, r, c = heapq.heappop(pq)\n",
    "        visited[r][c] = True\n",
    "        score = min(score, value)\n",
    "        # check if reach the end point\n",
    "        if r == row - 1 and c == col - 1:\n",
    "            break\n",
    "        # 4 directions\n",
    "        for d in dir:\n",
    "            new_r, new_c = r + d[0], c + d[1]\n",
    "            if 0 <= new_r < row and 0 <= new_c < col and not visited[new_r][new_c]:\n",
    "                heapq.heappush(pq, (A[new_r][new_c], new_r, new_c))\n",
    "\n",
    "    return score\n",
    "\n",
    "\n",
    "maximumMinimumPath(A)"
   ]
  },
  {
   "cell_type": "code",
   "execution_count": 27,
   "metadata": {},
   "outputs": [
    {
     "data": {
      "text/plain": [
       "[[5, inf, inf], [inf, 2, inf], [inf, inf, 6]]"
      ]
     },
     "execution_count": 27,
     "metadata": {},
     "output_type": "execute_result"
    }
   ],
   "source": [
    "dist"
   ]
  },
  {
   "cell_type": "markdown",
   "metadata": {},
   "source": [
    "Given K sorted lists of integers of size N each, find the smallest range that includes at least one element from each of the K lists."
   ]
  },
  {
   "cell_type": "code",
   "execution_count": 30,
   "metadata": {},
   "outputs": [
    {
     "name": "stdout",
     "output_type": "stream",
     "text": [
      "1 2\n"
     ]
    }
   ],
   "source": [
    "import heapq\n",
    "\n",
    "\n",
    "class Node:\n",
    "    def __init__(self, data, row, next_col):\n",
    "        self.data = data\n",
    "        self.row = row\n",
    "        self.next_col = next_col\n",
    "\n",
    "    def __lt__(self, other):\n",
    "        return self.data < other.data\n",
    "\n",
    "\n",
    "def find_smallest_range(arr, n, k):\n",
    "    min_heap = (\n",
    "        []\n",
    "    )  # Create a min-heap to store elements from different arrays in sorted order\n",
    "    max_value = 0  # Initialize the maximum value found so far in the min_heap\n",
    "    smallest_range = float(\n",
    "        \"inf\"\n",
    "    )  # Initialize the smallest range found so far as infinity\n",
    "    start = -1  # Initialize the start of the smallest range\n",
    "    end = -1  # Initialize the end of the smallest range\n",
    "\n",
    "    # Add the first element from each array to the min_heap\n",
    "    for i in range(k):\n",
    "        heapq.heappush(min_heap, Node(arr[i][0], i, 0))\n",
    "        max_value = max(max_value, arr[i][0])  # Update the maximum value found so far\n",
    "\n",
    "    # Process the min_heap until it is empty\n",
    "    while min_heap:\n",
    "        node = heapq.heappop(min_heap)  # Get the minimum element from the min_heap\n",
    "        min_value = node.data  # Get the value of the minimum element\n",
    "\n",
    "        # Check if the range formed by the current element and the maximum element in min_heap is smaller\n",
    "        # than the smallest range found so far.\n",
    "        if smallest_range > max_value - min_value:\n",
    "            smallest_range = max_value - min_value\n",
    "            start = min_value\n",
    "            end = max_value\n",
    "\n",
    "        row = node.row  # Get the row of the current element\n",
    "        next_col = node.next_col  # Get the next column index of the current element\n",
    "\n",
    "        # If the current row has more elements, add the next element to the min_heap and update max_value\n",
    "        if next_col + 1 < n:\n",
    "            heapq.heappush(min_heap, Node(arr[row][next_col + 1], row, next_col + 1))\n",
    "            max_value = max(max_value, arr[row][next_col + 1])\n",
    "        else:\n",
    "            break  # If the current row has no more elements, exit the loop\n",
    "\n",
    "    print(start, end)  # Print the smallest range found\n",
    "\n",
    "\n",
    "if __name__ == \"__main__\":\n",
    "    arr = [[1, 3, 5, 7, 9], [0, 2, 4, 6, 8], [2, 3, 5, 7, 11]]\n",
    "    k = 3\n",
    "    find_smallest_range(arr, k, 3)"
   ]
  },
  {
   "cell_type": "markdown",
   "metadata": {},
   "source": [
    "Given an array heights[] of size N, where heights[i] is the height of the ith tower. We are standing at the 0th tower with B blocks and L ladders and we\n",
    "\n",
    " have to reach the furthest tower possible by jumping on adjacent towers. For ith tower,\n",
    "\n",
    "If heights[i + 1] <= heights[i], then we can simply jump to the next tower. Else,\n",
    "\n",
    "If heights[i + 1] > heights[i], then we can either use a single ladder or use (heights[i + 1] – heights[i]) blocks to jump to the next tower."
   ]
  },
  {
   "cell_type": "code",
   "execution_count": 32,
   "metadata": {},
   "outputs": [
    {
     "name": "stdout",
     "output_type": "stream",
     "text": [
      "3\n"
     ]
    }
   ],
   "source": [
    "# code by Flutterfly\n",
    "import heapq\n",
    "\n",
    "# Input\n",
    "# N, B, L = 9, 10, 2\n",
    "# heights = [4, 12, 2, 7, 3, 18, 20, 3, 19]\n",
    "N, B, L = 4, 8, 1\n",
    "heights = [6, 5, 4, 8]\n",
    "# Max heap to store the difference between two adjacent\n",
    "# towers, which we have covered using blocks\n",
    "maxB = []\n",
    "currentTower = 0\n",
    "\n",
    "while currentTower < N - 1:\n",
    "    # Calculate the difference between the current\n",
    "    # tower and the next tower\n",
    "    diff = heights[currentTower + 1] - heights[currentTower]\n",
    "\n",
    "    if diff > 0:\n",
    "        B -= diff\n",
    "        # Use blocks to cover the difference between\n",
    "        # the current and the next tower\n",
    "        heapq.heappush(maxB, -diff)\n",
    "\n",
    "        # If all the blocks are used, start using ladders\n",
    "        if B < 0:\n",
    "            B += -heapq.heappop(maxB)\n",
    "            L -= 1\n",
    "\n",
    "        # If all the ladders and blocks are used, break\n",
    "        if L < 0:\n",
    "            break\n",
    "\n",
    "    currentTower += 1\n",
    "\n",
    "print(currentTower)"
   ]
  },
  {
   "cell_type": "markdown",
   "metadata": {},
   "source": [
    "Return the maximum number of bags that could have full capacity after placing the additional rocks in some bags."
   ]
  },
  {
   "cell_type": "code",
   "execution_count": 43,
   "metadata": {},
   "outputs": [
    {
     "data": {
      "text/plain": [
       "3"
      ]
     },
     "execution_count": 43,
     "metadata": {},
     "output_type": "execute_result"
    }
   ],
   "source": [
    "missing_rocks = []\n",
    "num_full_bags = 0\n",
    "capacity = [2, 3, 4, 5]\n",
    "rocks = [1, 2, 4, 4]\n",
    "additionalRocks = 2\n",
    "for idx, bag in enumerate(capacity):\n",
    "    heapq.heappush(missing_rocks, bag - rocks[idx])\n",
    "\n",
    "while missing_rocks:\n",
    "    additionalRocks -= heapq.heappop(missing_rocks)\n",
    "    if additionalRocks >= 0:\n",
    "        num_full_bags += 1\n",
    "\n",
    "num_full_bags"
   ]
  },
  {
   "cell_type": "markdown",
   "metadata": {},
   "source": [
    "You are supposed to divide the ‘M’ tanks to ‘N’ battalions such that the maximum ratio of soldiers in a battalion to the number of tanks allotted to that battalion is minimised."
   ]
  },
  {
   "cell_type": "code",
   "execution_count": 54,
   "metadata": {},
   "outputs": [],
   "source": [
    "def getMinimumRatio(arr, n, m):\n",
    "    pq = []\n",
    "    ts = 0\n",
    "    for x in arr:\n",
    "        heapq.heappush(pq, [-x, x, 1])\n",
    "        ts += 1\n",
    "    t = m - ts\n",
    "    # print(pq, t)\n",
    "    while t:\n",
    "        curr = heapq.heappop(pq)\n",
    "        curr[2] += 1\n",
    "        curr[0] = -(curr[1] / curr[2])\n",
    "        heapq.heappush(pq, curr)\n",
    "        t -= 1\n",
    "    curr = min(pq, key=lambda x: x[0])\n",
    "    return -curr[0]\n",
    "\n",
    "\n",
    "n, m = 3, 6\n",
    "arr = [1000, 2000, 10000]"
   ]
  },
  {
   "cell_type": "markdown",
   "metadata": {},
   "source": [
    "The performance of a team is the sum of its engineers' speeds multiplied by the minimum efficiency among its engineers.\n",
    "\n",
    "Choose at most k different engineers out of the n engineers to form a team with the maximum performance."
   ]
  },
  {
   "cell_type": "code",
   "execution_count": 56,
   "metadata": {},
   "outputs": [],
   "source": [
    "# Time Complexity: O(N * (logN + logK))\n",
    "# Space Complexity: O(N + K)\n",
    "# where N is the total number of candidates and K is the size of team\n",
    "class Solution:\n",
    "    def maxPerformance(self, n: int, speed, efficiency, k: int) -> int:\n",
    "        MOD = 10**9 + 7\n",
    "        # build tuples ( efficiency, speed ) so that we can sort it later\n",
    "        candidates = zip(efficiency, speed)\n",
    "        # default sort mode is ascending. use `reverse = True` to sort in descending\n",
    "        candidates = sorted(candidates, key=lambda x: x[0], reverse=True)\n",
    "        # Using Example 1:\n",
    "        # speed: [2, 10, 3, 1 ,5, 8] and efficiency: [5, 4, 3, 9, 7, 2]\n",
    "        # after sort, it becomes\n",
    "        # candidates: [(9, 1), (7 ,5), (5, 2), (4, 10), (3, 3), (2, 8)]\n",
    "        speedSum, ans = 0, 0\n",
    "        # in python, it usually refers to heap\n",
    "        heap = []\n",
    "        # iterate each tuple\n",
    "        for e, s in candidates:\n",
    "            # put the speed to heap\n",
    "            heapq.heappush(heap, s)\n",
    "            # add to speedSum\n",
    "            speedSum += s\n",
    "            # we only need to choose at most k engineers\n",
    "            # hence if the queue size is greater than k\n",
    "            # we need to remove a candidate\n",
    "            if len(heap) > k:\n",
    "                # who to remove? of course the one with smallest speed\n",
    "                speedSum -= heapq.heappop(heap)\n",
    "            # calculate the performance\n",
    "            ans = max(ans, speedSum * e)\n",
    "        return ans % MOD\n",
    "\n",
    "\n",
    "n = 6\n",
    "speed = [2, 10, 3, 1, 5, 8]\n",
    "efficiency = [5, 4, 3, 9, 7, 2]\n",
    "k = 2"
   ]
  },
  {
   "cell_type": "markdown",
   "metadata": {},
   "source": [
    "Find Kth number from sorted array formed by multiplying any two numbers in the array"
   ]
  },
  {
   "cell_type": "code",
   "execution_count": null,
   "metadata": {},
   "outputs": [],
   "source": []
  },
  {
   "cell_type": "markdown",
   "metadata": {},
   "source": [
    "Given a string s and an integer k, rearrange s such that the same characters are at least distance k from each other."
   ]
  },
  {
   "cell_type": "code",
   "execution_count": 41,
   "metadata": {},
   "outputs": [
    {
     "data": {
      "text/plain": [
       "'abacabcd'"
      ]
     },
     "execution_count": 41,
     "metadata": {},
     "output_type": "execute_result"
    }
   ],
   "source": [
    "from heapq import heapify, heappop, heappush\n",
    "from collections import deque, Counter\n",
    "\n",
    "\n",
    "def rearrangeString(s: str, k: int) -> str:\n",
    "    h = [(-v, c) for c, v in Counter(s).items()]\n",
    "    heapify(h)\n",
    "    q = deque()\n",
    "    ans = []\n",
    "    while h:\n",
    "        v, c = heappop(h)\n",
    "        v *= -1\n",
    "        ans.append(c)\n",
    "        q.append((v - 1, c))  # enqueue even if 'v-1==0'\n",
    "        # not '>='\n",
    "        # use example k=1, then q size is 2, then q can pop one out\n",
    "        if (\n",
    "            len(q) >= k\n",
    "        ):  # @note: this is avoid you pick up same char in the same k-segment.\n",
    "            w, c = q.popleft()\n",
    "            if w:  # w!=0\n",
    "                heappush(h, (-w, c))\n",
    "    return \"\" if len(ans) != len(s) else \"\".join(ans)\n",
    "\n",
    "\n",
    "s = \"aaadbbcc\"\n",
    "k = 2\n",
    "rearrangeString(s, k)"
   ]
  },
  {
   "cell_type": "code",
   "execution_count": 40,
   "metadata": {},
   "outputs": [
    {
     "data": {
      "text/plain": [
       "(1, 'abacabcd')"
      ]
     },
     "execution_count": 40,
     "metadata": {},
     "output_type": "execute_result"
    }
   ],
   "source": [
    "def favString(s, k):\n",
    "    mp = {}\n",
    "    leng = len(s)\n",
    "    for i in range(leng):\n",
    "        if s[i] in mp.keys():\n",
    "            mp[s[i]] += 1\n",
    "        else:\n",
    "            mp[s[i]] = 1\n",
    "\n",
    "    # Making a max-heap using heapq multiply with -1 ad construct min heap.\n",
    "    pq = []\n",
    "    ans = \"\"\n",
    "    for x in mp.keys():\n",
    "        heapq.heappush(pq, [-1 * mp[x], x])\n",
    "\n",
    "    while len(pq) > 0:\n",
    "        changes = []\n",
    "        c = min(k, leng)\n",
    "\n",
    "        # Creating a string of length 'K' of unique characters.\n",
    "        for i in range(c):\n",
    "            if len(pq) == 0:\n",
    "                return 0\n",
    "\n",
    "            t = heapq.heappop(pq)\n",
    "            ans += t[1]\n",
    "            t[0] *= -1\n",
    "            t[0] -= 1\n",
    "            # If frequency of a character is still not zero then we insert it back in heap.\n",
    "            if t[0] > 0:\n",
    "                changes.append(t)\n",
    "\n",
    "            leng -= 1\n",
    "\n",
    "        for i in changes:\n",
    "            heapq.heappush(pq, [-1 * i[0], i[1]])\n",
    "\n",
    "    # Found a string.\n",
    "    return 1, ans\n",
    "\n",
    "\n",
    "s = \"aaadbbcc\"\n",
    "k = 2\n",
    "favString(s, k)"
   ]
  },
  {
   "cell_type": "markdown",
   "metadata": {},
   "source": []
  },
  {
   "cell_type": "markdown",
   "metadata": {},
   "source": [
    "Rearrange characters of the given string such that the same characters become d distance away from each other.\n",
    "\n",
    "aacbbc\", d = 3\n",
    "Output: \"abcabc\""
   ]
  },
  {
   "cell_type": "code",
   "execution_count": 42,
   "metadata": {},
   "outputs": [
    {
     "data": {
      "text/plain": [
       "'abcabc'"
      ]
     },
     "execution_count": 42,
     "metadata": {},
     "output_type": "execute_result"
    }
   ],
   "source": [
    "from heapq import heapify, heappop, heappush\n",
    "from collections import deque, Counter\n",
    "\n",
    "\n",
    "def rearrangeString(s: str, k: int) -> str:\n",
    "    h = [(-v, c) for c, v in Counter(s).items()]\n",
    "    heapify(h)\n",
    "    q = deque()\n",
    "    ans = []\n",
    "    while h:\n",
    "        v, c = heappop(h)\n",
    "        v *= -1\n",
    "        ans.append(c)\n",
    "        q.append((v - 1, c))  # enqueue even if 'v-1==0'\n",
    "        # not '>='\n",
    "        # use example k=1, then q size is 2, then q can pop one out\n",
    "        if (\n",
    "            len(q) == k\n",
    "        ):  # @note: this is avoid you pick up same char in the same k-segment.\n",
    "            w, c = q.popleft()\n",
    "            if w:  # w!=0\n",
    "                heappush(h, (-w, c))\n",
    "    return \"\" if len(ans) != len(s) else \"\".join(ans)\n",
    "\n",
    "\n",
    "s = \"aacbbc\"\n",
    "k = 3\n",
    "rearrangeString(s, k)"
   ]
  },
  {
   "cell_type": "code",
   "execution_count": null,
   "metadata": {},
   "outputs": [],
   "source": []
  },
  {
   "cell_type": "code",
   "execution_count": null,
   "metadata": {},
   "outputs": [],
   "source": []
  },
  {
   "cell_type": "code",
   "execution_count": null,
   "metadata": {},
   "outputs": [],
   "source": []
  },
  {
   "cell_type": "markdown",
   "metadata": {},
   "source": [
    "**Find Median from Running Data Stream using**\n",
    "\n",
    "Similar to above balancing BST Method, we can use a max heap on the left side to represent elements that are less\n",
    "\n",
    "than effective median, and a min-heap on the right side to represent elements that are greater than effective median"
   ]
  },
  {
   "cell_type": "code",
   "execution_count": 3,
   "metadata": {},
   "outputs": [
    {
     "name": "stdout",
     "output_type": "stream",
     "text": [
      "5\n",
      "10.0\n",
      "5\n",
      "4.0\n",
      "3\n",
      "4.0\n",
      "5\n",
      "6.0\n",
      "7\n",
      "6.5\n",
      "7\n",
      "6.5\n"
     ]
    }
   ],
   "source": [
    "# Python code to implement the approach\n",
    "\n",
    "from heapq import heappush, heappop, heapify\n",
    "import math\n",
    "\n",
    "\n",
    "# Function to find the median of stream of data\n",
    "def streamMed(arr, N):\n",
    "\n",
    "    # Declaring two min heap\n",
    "    g = []\n",
    "    s = []\n",
    "    for i in range(len(arr)):\n",
    "\n",
    "        # Negation for treating it as max heap\n",
    "        heappush(s, -arr[i])\n",
    "        heappush(g, -heappop(s))\n",
    "        if len(g) > len(s):\n",
    "            heappush(s, -heappop(g))\n",
    "\n",
    "        if len(g) != len(s):\n",
    "            print(-s[0])\n",
    "        else:\n",
    "            print((g[0] - s[0]) / 2)\n",
    "\n",
    "\n",
    "# Driver code\n",
    "if __name__ == \"__main__\":\n",
    "    A = [5, 15, 1, 3, 2, 8, 7, 9, 10, 6, 11, 4]\n",
    "    N = len(A)\n",
    "\n",
    "    # Function call\n",
    "    streamMed(A, N)"
   ]
  },
  {
   "cell_type": "code",
   "execution_count": 5,
   "metadata": {},
   "outputs": [
    {
     "name": "stdout",
     "output_type": "stream",
     "text": [
      "0 1 2 3 4 5 6 7 8 9 10 11 \n"
     ]
    }
   ],
   "source": [
    "import heapq\n",
    "\n",
    "\n",
    "class Node:\n",
    "    def __init__(self, data):\n",
    "        self.data = data\n",
    "        self.next = None\n",
    "\n",
    "\n",
    "def mergeKList(arr, K):\n",
    "    # Priority_queue 'queue' implemented\n",
    "    # as min heap with the help of\n",
    "    # 'compare' function\n",
    "    queue = []\n",
    "    for i in range(K):\n",
    "        if arr[i] != None:\n",
    "            heapq.heappush(queue, (arr[i].data, arr[i]))\n",
    "    dummy = Node(0)\n",
    "    last = dummy\n",
    "    while queue:\n",
    "        curr = heapq.heappop(queue)[1]\n",
    "        last.next = curr\n",
    "        last = last.next\n",
    "        if curr.next != None:\n",
    "            heapq.heappush(queue, (curr.next.data, curr.next))\n",
    "    return dummy.next\n",
    "\n",
    "\n",
    "def printList(node):\n",
    "    while node != None:\n",
    "        print(node.data, end=\" \")\n",
    "        node = node.next\n",
    "    print()\n",
    "\n",
    "\n",
    "if __name__ == \"__main__\":\n",
    "    N = 3\n",
    "    a = [None] * N\n",
    "    # Linkedlist1\n",
    "    head1 = Node(1)\n",
    "    a[0] = head1\n",
    "    head1.next = Node(3)\n",
    "    head1.next.next = Node(5)\n",
    "    head1.next.next.next = Node(7)\n",
    "    # Limkedlist2\n",
    "    head2 = Node(2)\n",
    "    a[1] = head2\n",
    "    head2.next = Node(4)\n",
    "    head2.next.next = Node(6)\n",
    "    head2.next.next.next = Node(8)\n",
    "    # Linkedlist3\n",
    "    head3 = Node(0)\n",
    "    a[2] = head3\n",
    "    head3.next = Node(9)\n",
    "    head3.next.next = Node(10)\n",
    "    head3.next.next.next = Node(11)\n",
    "    res = mergeKList(a, N)\n",
    "    if res != None:\n",
    "        printList(res)"
   ]
  },
  {
   "cell_type": "markdown",
   "metadata": {},
   "source": []
  },
  {
   "cell_type": "code",
   "execution_count": 7,
   "metadata": {},
   "outputs": [
    {
     "name": "stdout",
     "output_type": "stream",
     "text": [
      "f -> 0\n",
      "c -> 100\n",
      "d -> 101\n",
      "a -> 1100\n",
      "b -> 1101\n",
      "e -> 111\n"
     ]
    }
   ],
   "source": [
    "# A Huffman Tree Node\n",
    "import heapq\n",
    "\n",
    "\n",
    "class node:\n",
    "    def __init__(self, freq, symbol, left=None, right=None):\n",
    "        # frequency of symbol\n",
    "        self.freq = freq\n",
    "\n",
    "        # symbol name (character)\n",
    "        self.symbol = symbol\n",
    "\n",
    "        # node left of current node\n",
    "        self.left = left\n",
    "\n",
    "        # node right of current node\n",
    "        self.right = right\n",
    "\n",
    "        # tree direction (0/1)\n",
    "        self.huff = \"\"\n",
    "\n",
    "    def __lt__(self, nxt):\n",
    "        return self.freq < nxt.freq\n",
    "\n",
    "\n",
    "# utility function to print huffman\n",
    "# codes for all symbols in the newly\n",
    "# created Huffman tree\n",
    "def printNodes(node, val=\"\"):\n",
    "\n",
    "    # huffman code for current node\n",
    "    newVal = val + str(node.huff)\n",
    "\n",
    "    # if node is not an edge node\n",
    "    # then traverse inside it\n",
    "    if node.left:\n",
    "        printNodes(node.left, newVal)\n",
    "    if node.right:\n",
    "        printNodes(node.right, newVal)\n",
    "\n",
    "        # if node is edge node then\n",
    "        # display its huffman code\n",
    "    if not node.left and not node.right:\n",
    "        print(f\"{node.symbol} -> {newVal}\")\n",
    "\n",
    "\n",
    "# characters for huffman tree\n",
    "chars = [\"a\", \"b\", \"c\", \"d\", \"e\", \"f\"]\n",
    "\n",
    "# frequency of characters\n",
    "freq = [5, 9, 12, 13, 16, 45]\n",
    "\n",
    "# list containing unused nodes\n",
    "nodes = []\n",
    "\n",
    "# converting characters and frequencies\n",
    "# into huffman tree nodes\n",
    "for x in range(len(chars)):\n",
    "    heapq.heappush(nodes, node(freq[x], chars[x]))\n",
    "\n",
    "while len(nodes) > 1:\n",
    "\n",
    "    # sort all the nodes in ascending order\n",
    "    # based on their frequency\n",
    "    left = heapq.heappop(nodes)\n",
    "    right = heapq.heappop(nodes)\n",
    "\n",
    "    # assign directional value to these nodes\n",
    "    left.huff = 0\n",
    "    right.huff = 1\n",
    "\n",
    "    # combine the 2 smallest nodes to create\n",
    "    # new node as their parent\n",
    "    newNode = node(left.freq + right.freq, left.symbol + right.symbol, left, right)\n",
    "\n",
    "    heapq.heappush(nodes, newNode)\n",
    "\n",
    "# Huffman Tree is ready!\n",
    "printNodes(nodes[0])"
   ]
  },
  {
   "cell_type": "code",
   "execution_count": null,
   "metadata": {},
   "outputs": [],
   "source": [
    "import heapq\n",
    "\n",
    "\n",
    "class Solution:\n",
    "    def kthSmallest(self, matrix, k: int) -> int:\n",
    "        heap = []\n",
    "        n, m = len(matrix), len(matrix[0])\n",
    "        for i in range(0, n):\n",
    "            heapq.heappush(heap, [matrix[i][0], i, 0])\n",
    "\n",
    "        count = 0\n",
    "        while count < k - 1:\n",
    "            _, idx, idy = heapq.heappop(heap)\n",
    "            if idy + 1 < m:\n",
    "                heapq.heappush(heap, [matrix[idx][idy + 1], idx, idy + 1])\n",
    "            count += 1\n",
    "        return heap[0][0]\n",
    "\n",
    "\n",
    "# matrix = [[1,5,9],[10,11,13],[12,13,15]], k = 8\n",
    "# Output: 13"
   ]
  },
  {
   "attachments": {
    "image.png": {
     "image/png": "[encoded data removed]"
    }
   },
   "cell_type": "markdown",
   "metadata": {},
   "source": [
    "![image.png](attachment:image.png)"
   ]
  },
  {
   "cell_type": "markdown",
   "metadata": {},
   "source": [
    "Nearly everyone has used the Multiplication Table. The multiplication table of size m x n is an integer matrix mat where mat[i][j] == i * j (1-indexed).\n",
    "\n",
    "Given three integers m, n, and k, return the kth smallest element in the m x n multiplication table."
   ]
  },
  {
   "cell_type": "code",
   "execution_count": null,
   "metadata": {},
   "outputs": [],
   "source": [
    "def findKthNumber(m: int, n: int, k: int) -> int:\n",
    "    heap = []\n",
    "    # n,m = len(matrix),len(matrix[0])\n",
    "    for i in range(1, n + 1):\n",
    "        heapq.heappush(heap, [i * 1, i, 1])\n",
    "\n",
    "    count = 0\n",
    "    while count < k - 1:\n",
    "        _, idx, idy = heapq.heappop(heap)\n",
    "        if idy + 1 < m + 1:\n",
    "            heapq.heappush(heap, [idx * (idy + 1), idx, idy + 1])\n",
    "        count += 1\n",
    "    return heap[0][0]\n",
    "\n",
    "\n",
    "#  m = 3, n = 3, k = 5"
   ]
  },
  {
   "cell_type": "code",
   "execution_count": null,
   "metadata": {},
   "outputs": [],
   "source": [
    "class Solution:\n",
    "    def findKthNumber(self, m: int, n: int, k: int) -> int:\n",
    "        # since rows and columns will be sorted, use BS\n",
    "        def count_small(val):\n",
    "            j = n\n",
    "            cnt = 0\n",
    "            for i in range(1, m + 1):\n",
    "                while j > 0 and (i * j) > val:\n",
    "                    j -= 1\n",
    "                cnt += j\n",
    "            return cnt\n",
    "\n",
    "        left = 1\n",
    "        right = m * n\n",
    "        ans = 0\n",
    "        while left <= right:\n",
    "            mid = (left + right) // 2\n",
    "            if count_small(mid) >= k:\n",
    "                right = mid - 1\n",
    "                ans = mid\n",
    "            else:\n",
    "                left = mid + 1\n",
    "        return ans"
   ]
  },
  {
   "cell_type": "code",
   "execution_count": null,
   "metadata": {},
   "outputs": [],
   "source": []
  },
  {
   "cell_type": "markdown",
   "metadata": {},
   "source": [
    "**KMP**\n",
    "\n",
    "O(n+m)\n",
    "\n",
    "The basic idea behind KMP’s algorithm is: whenever we detect a mismatch (after some matches), we already know some of the characters in the \n",
    "\n",
    "text of the next window. We take advantage of this information to avoid matching the characters that we know will anyway match. "
   ]
  },
  {
   "cell_type": "markdown",
   "metadata": {},
   "source": [
    "For the pattern “AAAA”, lps[] is [0, 1, 2, 3]\n",
    "\n",
    "For the pattern “ABCDE”, lps[] is [0, 0, 0, 0, 0]\n",
    "\n",
    "For the pattern “AABAACAABAA”, lps[] is [0, 1, 0, 1, 2, 0, 1, 2, 3, 4, 5]\n",
    "\n",
    "For the pattern “AAACAAAAAC”, lps[] is [0, 1, 2, 0, 1, 2, 3, 3, 3, 4] \n",
    "\n",
    "For the pattern “AAABAAA”, lps[] is [0, 1, 2, 0, 1, 2, 3]"
   ]
  },
  {
   "cell_type": "code",
   "execution_count": 3,
   "metadata": {},
   "outputs": [
    {
     "name": "stdout",
     "output_type": "stream",
     "text": [
      "1 9 "
     ]
    }
   ],
   "source": [
    "def computeLPSArray(pat):\n",
    "    M = len(pat)\n",
    "    lps = [0] * M\n",
    "\n",
    "    # Length of the previous longest prefix suffix\n",
    "    length = 0\n",
    "    i = 1\n",
    "\n",
    "    # Loop calculates lps[i] for i = 1 to M-1\n",
    "    while i < M:\n",
    "        if pat[i] == pat[length]:\n",
    "            length += 1\n",
    "            lps[i] = length\n",
    "            i += 1\n",
    "        else:\n",
    "            if length != 0:\n",
    "                length = lps[length - 1]\n",
    "            else:\n",
    "                lps[i] = 0\n",
    "                i += 1\n",
    "    return lps\n",
    "\n",
    "\n",
    "def KMPSearch(pat, txt):\n",
    "    M = len(pat)\n",
    "    N = len(txt)\n",
    "\n",
    "    # Create lps[] that will hold the longest prefix\n",
    "    # suffix values for pattern\n",
    "    lps = computeLPSArray(pat)\n",
    "    result = []\n",
    "\n",
    "    i = 0  # index for txt\n",
    "    j = 0  # index for pat\n",
    "    while (N - i) >= (M - j):\n",
    "        if pat[j] == txt[i]:\n",
    "            j += 1\n",
    "            i += 1\n",
    "\n",
    "        if j == M:\n",
    "            result.append(i - j + 1)\n",
    "            j = lps[j - 1]\n",
    "        elif i < N and pat[j] != txt[i]:\n",
    "            if j != 0:\n",
    "                j = lps[j - 1]\n",
    "            else:\n",
    "                i += 1\n",
    "    return result\n",
    "\n",
    "\n",
    "# Driver code\n",
    "txt = \"geeksforgeeks\"\n",
    "pat = \"geeks\"\n",
    "result = KMPSearch(pat, txt)\n",
    "\n",
    "# Print all the occurrences (1-based indices)\n",
    "for index in result:\n",
    "    print(index, end=\" \")"
   ]
  },
  {
   "cell_type": "code",
   "execution_count": null,
   "metadata": {},
   "outputs": [],
   "source": []
  },
  {
   "cell_type": "markdown",
   "metadata": {},
   "source": [
    "**next-permutation**"
   ]
  },
  {
   "cell_type": "code",
   "execution_count": 8,
   "metadata": {},
   "outputs": [
    {
     "name": "stdout",
     "output_type": "stream",
     "text": [
      "break-point 1 2\n",
      "before-reverse 1 [1, 3, 2]\n",
      "[1, 3, 2]\n",
      "break-point 2 3\n",
      "before-reverse 2 [1, 2, 4, 3]\n",
      "[1, 2, 4, 3]\n",
      "[1, 2, 3]\n"
     ]
    }
   ],
   "source": [
    "def nextPermutation(nums):\n",
    "    index = None  # Step 1: Find the break point:\n",
    "    for i in range(len(nums) - 2, -1, -1):\n",
    "        if nums[i] < nums[i + 1]:\n",
    "            index = i\n",
    "            break\n",
    "\n",
    "    # If break point does not exist:\n",
    "    if index is None:\n",
    "        nums[:] = nums[::-1]\n",
    "    else:\n",
    "        # Step 2: Find the next greater element\n",
    "        #         and swap it with arr[ind]:\n",
    "        print(\"break-point\", index, nums[index])\n",
    "        for i in range(len(nums) - 1, index, -1):\n",
    "            if nums[i] > nums[index]:\n",
    "                nums[index], nums[i] = nums[i], nums[index]\n",
    "                break\n",
    "        # Step 3: reverse the right half:\n",
    "        print(\"before-reverse\", index, nums)\n",
    "        nums[index + 1 :] = nums[index + 1 :][::-1]\n",
    "    return nums\n",
    "\n",
    "\n",
    "print(nextPermutation([1, 2, 3]))\n",
    "print(nextPermutation([1, 2, 3, 4]))\n",
    "print(nextPermutation([3, 2, 1]))"
   ]
  },
  {
   "cell_type": "code",
   "execution_count": null,
   "metadata": {},
   "outputs": [],
   "source": [
    "str = \"4321\"\n",
    "str = \"4321\""
   ]
  },
  {
   "cell_type": "code",
   "execution_count": 10,
   "metadata": {},
   "outputs": [
    {
     "name": "stdout",
     "output_type": "stream",
     "text": [
      "break-point 2 2\n",
      "before-reverse 2 [4, 3, 1, 2]\n",
      "break-point 1 3\n",
      "before-reverse 1 [4, 2, 1, 3]\n"
     ]
    },
    {
     "data": {
      "text/plain": [
       "[4, 2, 3, 1]"
      ]
     },
     "execution_count": 10,
     "metadata": {},
     "output_type": "execute_result"
    }
   ],
   "source": [
    "def prevPermutation(nums):\n",
    "    index = None  # Step 1: Find the break point:\n",
    "    for i in range(len(nums) - 2, -1, -1):\n",
    "        if nums[i] > nums[i + 1]:\n",
    "            index = i\n",
    "            break\n",
    "\n",
    "    # If break point does not exist:\n",
    "    if index is None:\n",
    "        nums[:] = nums[::-1]\n",
    "    else:\n",
    "        # Step 2: Find the next greater element\n",
    "        #         and swap it with arr[ind]:\n",
    "        print(\"break-point\", index, nums[index])\n",
    "        for i in range(len(nums) - 1, index, -1):\n",
    "            if nums[i] < nums[index]:\n",
    "                nums[index], nums[i] = nums[i], nums[index]\n",
    "                break\n",
    "        # Step 3: reverse the right half:\n",
    "        print(\"before-reverse\", index, nums)\n",
    "        nums[index + 1 :] = nums[index + 1 :][::-1]\n",
    "    return nums\n",
    "\n",
    "\n",
    "prevPermutation([4, 3, 2, 1])\n",
    "prevPermutation(nums=[4, 3, 1, 2])"
   ]
  },
  {
   "cell_type": "markdown",
   "metadata": {},
   "source": [
    "**Trie Or Prefix Tree**\n",
    "\n",
    "Search or insert is O(n)\n",
    "\n",
    "where n is length of string"
   ]
  },
  {
   "cell_type": "code",
   "execution_count": 21,
   "metadata": {},
   "outputs": [],
   "source": [
    "# A class to store a Trie node\n",
    "class Trie:\n",
    "    # Constructor\n",
    "    def __init__(self):\n",
    "        self.isLeaf = False\n",
    "        self.children = {}\n",
    "\n",
    "\n",
    "def insert(root, word):\n",
    "    current = root\n",
    "    for char in word:\n",
    "        if char not in current.children:\n",
    "            current.children[char] = Trie()\n",
    "        current = current.children[char]\n",
    "    current.isLeaf = True\n",
    "    return root\n",
    "\n",
    "\n",
    "def search(root, word):\n",
    "    current = root\n",
    "    for char in word:\n",
    "        if char not in current.children:\n",
    "            return False\n",
    "        current = current.children[char]\n",
    "\n",
    "    return current.isLeaf\n",
    "\n",
    "\n",
    "# not a good solution but work for now\n",
    "# will leave some redundent keys in trie\n",
    "def delete(root, data):\n",
    "    current_node = root\n",
    "\n",
    "    for ch in data:\n",
    "        if ch in current_node.children.keys():\n",
    "            current_node = current_node.children[ch]\n",
    "        else:\n",
    "            current_node = None\n",
    "            break\n",
    "\n",
    "    if current_node:\n",
    "        current_node.is_end = False"
   ]
  },
  {
   "attachments": {
    "image.png": {
     "image/png": "[encoded data removed]"
    }
   },
   "cell_type": "markdown",
   "metadata": {},
   "source": [
    "![image.png](attachment:image.png)"
   ]
  },
  {
   "cell_type": "code",
   "execution_count": 22,
   "metadata": {},
   "outputs": [],
   "source": [
    "word_trie = Trie()\n",
    "\n",
    "\n",
    "word_trie = insert(word_trie, \"car\")\n",
    "word_trie = insert(word_trie, \"card\")\n",
    "word_trie = insert(word_trie, \"chip\")\n",
    "word_trie = insert(word_trie, \"trie\")\n",
    "word_trie = insert(word_trie, \"try\")"
   ]
  },
  {
   "cell_type": "code",
   "execution_count": 23,
   "metadata": {},
   "outputs": [
    {
     "name": "stdout",
     "output_type": "stream",
     "text": [
      "True\n",
      "True\n",
      "False\n",
      "False\n"
     ]
    }
   ],
   "source": [
    "print(search(word_trie, \"car\"))  # True\n",
    "print(search(word_trie, \"card\"))  # True\n",
    "print(search(word_trie, \"ca\"))  # False, just a prefix\n",
    "print(search(word_trie, \"cat\"))  # False, word does not exist"
   ]
  },
  {
   "cell_type": "markdown",
   "metadata": {},
   "source": [
    "**all word with given prefix**"
   ]
  },
  {
   "cell_type": "code",
   "execution_count": 24,
   "metadata": {},
   "outputs": [],
   "source": [
    "def __child_words_for(node, words, curr):\n",
    "    \"\"\"\n",
    "    Private helper function. Cycles through all children\n",
    "    of node recursively, adding them to words if they\n",
    "    constitute whole words (as opposed to merely prefixes).\n",
    "    \"\"\"\n",
    "    if node.isLeaf:\n",
    "        words.append(curr)\n",
    "    for letter in node.children:\n",
    "        __child_words_for(node.children[letter], words, curr + letter)\n",
    "\n",
    "\n",
    "def starts_with(root, prefix):\n",
    "    \"\"\"\n",
    "    Returns a list of all words beginning with the given prefix, or\n",
    "    an empty list if no words begin with that prefix.\n",
    "    \"\"\"\n",
    "    words = list()\n",
    "    current = root\n",
    "    for char in prefix:\n",
    "        if char not in current.children:\n",
    "            # Could also just return words since it's empty by default\n",
    "            return list()\n",
    "        current = current.children[char]\n",
    "\n",
    "    # Step 2\n",
    "    __child_words_for(current, words, prefix)\n",
    "    return words"
   ]
  },
  {
   "cell_type": "code",
   "execution_count": 25,
   "metadata": {},
   "outputs": [
    {
     "data": {
      "text/plain": [
       "['trie', 'try']"
      ]
     },
     "execution_count": 25,
     "metadata": {},
     "output_type": "execute_result"
    }
   ],
   "source": [
    "starts_with(word_trie, \"tr\")"
   ]
  },
  {
   "cell_type": "markdown",
   "metadata": {},
   "source": []
  },
  {
   "cell_type": "code",
   "execution_count": 26,
   "metadata": {},
   "outputs": [
    {
     "name": "stdout",
     "output_type": "stream",
     "text": [
      "longest common prefix is: cod\n"
     ]
    }
   ],
   "source": [
    "def findLCP(words):\n",
    "\n",
    "    # insert all keys into a Trie\n",
    "    head = Trie()\n",
    "    for s in words:\n",
    "        insert(head, s)\n",
    "\n",
    "    # traverse the Trie and find the longest common prefix\n",
    "\n",
    "    lcp = \"\"\n",
    "    curr = head\n",
    "\n",
    "    # loop until we find a leaf node or a node has more than 1 child\n",
    "    while curr and not curr.isLeaf and len(curr.children) == 1:\n",
    "\n",
    "        for k, v in curr.children.items():\n",
    "            # append current char to LCP\n",
    "            lcp += k\n",
    "\n",
    "            # update `curr` pointer to the child node\n",
    "            curr = v\n",
    "\n",
    "    return lcp\n",
    "\n",
    "\n",
    "if __name__ == \"__main__\":\n",
    "\n",
    "    # given set of keys\n",
    "    words = [\n",
    "        \"code\",\n",
    "        \"coder\",\n",
    "        \"coding\",\n",
    "        \"codable\",\n",
    "        \"codec\",\n",
    "        \"codecs\",\n",
    "        \"coded\",\n",
    "        \"codeless\",\n",
    "        \"codependence\",\n",
    "        \"codependency\",\n",
    "        \"codependent\",\n",
    "        \"codependents\",\n",
    "        \"codes\",\n",
    "        \"codesign\",\n",
    "        \"codesigned\",\n",
    "        \"codeveloped\",\n",
    "        \"codeveloper\",\n",
    "        \"codex\",\n",
    "        \"codify\",\n",
    "        \"codiscovered\",\n",
    "        \"codrive\",\n",
    "    ]\n",
    "\n",
    "    print(\"longest common prefix is:\", findLCP(words))"
   ]
  },
  {
   "cell_type": "code",
   "execution_count": 27,
   "metadata": {},
   "outputs": [],
   "source": [
    "\"\"\"\n",
    "    Time Complexity: O(N*M)\n",
    "    Space Complexity: O(M*log(N))\n",
    "\n",
    "    where N is the number of strings in the array and M is the length of the stortest string present in the array.\n",
    "\"\"\"\n",
    "\n",
    "\n",
    "def commonPrefix(str1, str2):\n",
    "\n",
    "    # Storing the minimum length\n",
    "    minLength = min(len(str1), len(str2))\n",
    "\n",
    "    # A string to store the longest common prefix\n",
    "    ans = \"\"\n",
    "\n",
    "    for idx in range(minLength):\n",
    "\n",
    "        if str1[idx] == str2[idx]:\n",
    "            ans += str1[idx]\n",
    "\n",
    "        else:\n",
    "            break\n",
    "\n",
    "    return ans\n",
    "\n",
    "\n",
    "def commonPrefixUtil(arr, start, end):\n",
    "\n",
    "    # If range contains only one string, return that string.\n",
    "    if start == end:\n",
    "        return arr[start]\n",
    "\n",
    "    mid = (start + end) // 2\n",
    "\n",
    "    # The string left to store the longest common prefix for the left half of the range\n",
    "    left = commonPrefixUtil(arr, start, mid)\n",
    "\n",
    "    # The string right to store the longest common prefix for the right half of the range\n",
    "    right = commonPrefixUtil(arr, mid + 1, end)\n",
    "\n",
    "    # The variable ans to store the longest common prefix for the range from start to end\n",
    "    ans = commonPrefix(left, right)\n",
    "\n",
    "    return ans\n",
    "\n",
    "\n",
    "def longestCommonPrefix(arr, n):\n",
    "\n",
    "    # A variable to store longest common prefix for the range from 0 to n-1\n",
    "    longestPrefix = commonPrefixUtil(arr, 0, n - 1)\n",
    "\n",
    "    return longestPrefix"
   ]
  },
  {
   "cell_type": "markdown",
   "metadata": {},
   "source": [
    "**Find the shortest unique prefix for every word in an array**"
   ]
  },
  {
   "cell_type": "code",
   "execution_count": 35,
   "metadata": {},
   "outputs": [
    {
     "name": "stdout",
     "output_type": "stream",
     "text": [
      "A\n",
      "BON\n",
      "BOO\n",
      "CAS\n",
      "CAT\n",
      "CH\n"
     ]
    }
   ],
   "source": [
    "# A class to store a Trie node\n",
    "class TrieNode:\n",
    "    def __init__(self):\n",
    "        # each node stores a dictionary to its child nodes\n",
    "        self.child = {}\n",
    "\n",
    "        # keep track of the total number of times the current node is visited\n",
    "        # while inserting data in Trie\n",
    "        self.freq = 0\n",
    "\n",
    "\n",
    "# Function to insert a given string into a Trie\n",
    "def insert(root, word):\n",
    "\n",
    "    # start from the root node\n",
    "    curr = root\n",
    "    for c in word:\n",
    "        # create a new node if the path doesn't exist\n",
    "        curr.child.setdefault(c, TrieNode())\n",
    "\n",
    "        # increment frequency\n",
    "        curr.child[c].freq += 1\n",
    "\n",
    "        # go to the next node\n",
    "        curr = curr.child[c]\n",
    "\n",
    "\n",
    "# Function to recursively traverse the Trie in a preorder fashion and\n",
    "# print the shortest unique prefix for each word in the Trie\n",
    "def printShortestPrefix(root, word_so_far):\n",
    "    if root is None:\n",
    "        return\n",
    "\n",
    "    # print `word_so_far` if the current Trie node is visited only once\n",
    "    if root.freq == 1:\n",
    "        print(word_so_far)\n",
    "        return\n",
    "\n",
    "    # recur for all child nodes\n",
    "    for k, v in root.child.items():\n",
    "        printShortestPrefix(v, word_so_far + k)\n",
    "\n",
    "\n",
    "# Find the shortest unique prefix for every word in a given array\n",
    "def findShortestPrefix(words):\n",
    "\n",
    "    # construct a Trie from the given items\n",
    "    root = TrieNode()\n",
    "    for s in words:\n",
    "        insert(root, s)\n",
    "\n",
    "    # Recursively traverse the Trie in a preorder fashion to list all prefixes\n",
    "    printShortestPrefix(root, \"\")\n",
    "\n",
    "\n",
    "if __name__ == \"__main__\":\n",
    "\n",
    "    words = [\"AND\", \"BONFIRE\", \"BOOL\", \"CASE\", \"CATCH\", \"CHAR\"]\n",
    "    findShortestPrefix(words)"
   ]
  },
  {
   "cell_type": "code",
   "execution_count": 36,
   "metadata": {},
   "outputs": [
    {
     "name": "stdout",
     "output_type": "stream",
     "text": [
      "{'STONED', 'NOTE', 'SAND'}\n"
     ]
    }
   ],
   "source": [
    "# A class to store a Trie node\n",
    "class Trie:\n",
    "    # Constructor\n",
    "    def __init__(self):\n",
    "        self.character = {}\n",
    "        self.isLeaf = False  # true when the node is a leaf node\n",
    "\n",
    "\n",
    "# Iterative function to insert a string into a Trie\n",
    "def insert(root, s):\n",
    "    # start from the root node\n",
    "    curr = root\n",
    "\n",
    "    for ch in s:\n",
    "        # go to the next node (create if the path doesn't exist)\n",
    "        curr = curr.character.setdefault(ch, Trie())\n",
    "\n",
    "    curr.isLeaf = True\n",
    "\n",
    "\n",
    "# Below lists detail all eight possible movements from a cell\n",
    "# (top, right, bottom, left, and four diagonal moves)\n",
    "row = [-1, -1, -1, 0, 1, 0, 1, 1]\n",
    "col = [-1, 1, 0, -1, -1, 1, 0, 1]\n",
    "\n",
    "\n",
    "# The function returns false if (x, y) is not valid matrix coordinates\n",
    "# or cell (x, y) is already processed or doesn't lead to the solution\n",
    "def isSafe(x, y, processed, board, ch):\n",
    "    return (\n",
    "        (0 <= x < len(processed))\n",
    "        and (0 <= y < len(processed[0]))\n",
    "        and not processed[x][y]\n",
    "        and (board[x][y] == ch)\n",
    "    )\n",
    "\n",
    "\n",
    "# A recursive function to search valid words present in a boggle using trie\n",
    "def searchBoggle(root, board, i, j, processed, path, result):\n",
    "    # if a leaf node is encountered\n",
    "    if root.isLeaf:\n",
    "        # update result with the current word\n",
    "        result.add(path)\n",
    "\n",
    "    # mark the current cell as processed\n",
    "    processed[i][j] = True\n",
    "\n",
    "    # traverse all children of the current Trie node\n",
    "    for key, value in root.character.items():\n",
    "\n",
    "        # check for all eight possible movements from the current cell\n",
    "        for k in range(len(row)):\n",
    "\n",
    "            # skip if a cell is invalid, or it is already processed\n",
    "            # or doesn't lead to any path in the Trie\n",
    "            if isSafe(i + row[k], j + col[k], processed, board, key):\n",
    "                searchBoggle(\n",
    "                    value, board, i + row[k], j + col[k], processed, path + key, result\n",
    "                )\n",
    "\n",
    "    # backtrack: mark the current cell as unprocessed\n",
    "    processed[i][j] = False\n",
    "\n",
    "\n",
    "# Function to search for a given set of words in a boggle\n",
    "def searchInBoggle(board, words):\n",
    "    # construct a set for storing the result\n",
    "    result = set()\n",
    "\n",
    "    # base case\n",
    "    if not board or not len(board):\n",
    "        return\n",
    "\n",
    "    # insert all words into a trie\n",
    "    root = Trie()\n",
    "    for word in words:\n",
    "        insert(root, word)\n",
    "\n",
    "    # `M × N` board\n",
    "    (M, N) = (len(board), len(board[0]))\n",
    "\n",
    "    # construct a matrix to store whether a cell is processed or not\n",
    "    processed = [[False for x in range(N)] for y in range(M)]\n",
    "\n",
    "    # consider each character in the matrix\n",
    "    for i in range(M):\n",
    "        for j in range(N):\n",
    "            ch = board[i][j]  # current character\n",
    "\n",
    "            # proceed only if the current character is a child of the Trie root node\n",
    "            if ch in root.character:\n",
    "                searchBoggle(root.character[ch], board, i, j, processed, ch, result)\n",
    "\n",
    "    # return the result set\n",
    "    return result\n",
    "\n",
    "\n",
    "if __name__ == \"__main__\":\n",
    "    board = [\n",
    "        [\"M\", \"S\", \"E\", \"F\"],\n",
    "        [\"R\", \"A\", \"T\", \"D\"],\n",
    "        [\"L\", \"O\", \"N\", \"E\"],\n",
    "        [\"K\", \"A\", \"F\", \"B\"],\n",
    "    ]\n",
    "\n",
    "    words = [\"START\", \"NOTE\", \"SAND\", \"STONED\"]\n",
    "    searchInBoggle(board, words)\n",
    "\n",
    "    validWords = searchInBoggle(board, words)\n",
    "    print(validWords)"
   ]
  },
  {
   "cell_type": "code",
   "execution_count": 1,
   "metadata": {},
   "outputs": [
    {
     "name": "stdout",
     "output_type": "stream",
     "text": [
      "{'HiTech'}\n",
      "{'HiTechCity'}\n",
      "{'HiTechLab'}\n"
     ]
    }
   ],
   "source": [
    "# A class to store a Trie node\n",
    "class TrieNode:\n",
    "    def __init__(self):\n",
    "        # each node stores a dictionary to its child nodes\n",
    "        self.d = {}\n",
    "\n",
    "        # true when the node is a leaf node\n",
    "        self.isLeaf = False\n",
    "\n",
    "        # collection to store a complete list of words in the leaf node\n",
    "        self.word = set()\n",
    "\n",
    "\n",
    "# Function to insert a string into a Trie\n",
    "def insert(head, word):\n",
    "    if head is None:\n",
    "        head = TrieNode()\n",
    "\n",
    "    # start from the head node\n",
    "    curr = head\n",
    "    for c in word:\n",
    "        # insert only uppercase characters\n",
    "        if c.isupper():\n",
    "            # create a new node if the path doesn't exist\n",
    "            curr.d.setdefault(c, TrieNode())\n",
    "            # go to the next node\n",
    "            curr = curr.d[c]\n",
    "\n",
    "    # mark the current node as a leaf\n",
    "    curr.isLeaf = True\n",
    "\n",
    "    # push the current word into the set associated with a leaf node\n",
    "    curr.word.add(word)\n",
    "\n",
    "    return head\n",
    "\n",
    "\n",
    "# Function to print all children of a given Trie node\n",
    "def printAllWords(root):\n",
    "\n",
    "    # base case\n",
    "    if root is None:\n",
    "        return\n",
    "\n",
    "    # if the current node is a leaf, print all words associated with it\n",
    "    if root.isLeaf:\n",
    "        print(root.word)\n",
    "\n",
    "    # recur for all children of the root node\n",
    "    for val in root.d.values():\n",
    "        printAllWords(val)\n",
    "\n",
    "\n",
    "# Function to print all words in the CamelCase dictionary, which\n",
    "# matches the given pattern\n",
    "def findAllWords(dictionary, pattern):\n",
    "\n",
    "    # base case\n",
    "    if not dictionary:\n",
    "        return\n",
    "\n",
    "    # Trie head node\n",
    "    head = None\n",
    "\n",
    "    # construct a Trie from the given dictionary\n",
    "    for s in dictionary:\n",
    "        head = insert(head, s)\n",
    "\n",
    "    # search for the given pattern in the Trie\n",
    "    curr = head\n",
    "    for c in pattern:\n",
    "\n",
    "        # if the given pattern is not found (reached end of a path in the Trie)\n",
    "        if c not in curr.d:\n",
    "            return\n",
    "\n",
    "        # move to the child node\n",
    "        curr = curr.d[c]\n",
    "\n",
    "    # print all words matching the given pattern\n",
    "    printAllWords(curr)\n",
    "\n",
    "\n",
    "if __name__ == \"__main__\":\n",
    "\n",
    "    dictionary = [\n",
    "        \"Hi\",\n",
    "        \"HiTech\",\n",
    "        \"HiTechCity\",\n",
    "        \"Techie\",\n",
    "        \"TechieDelight\",\n",
    "        \"Hello\",\n",
    "        \"HelloWorld\",\n",
    "        \"HiTechLab\",\n",
    "    ]\n",
    "    pattern = \"HT\"\n",
    "\n",
    "    findAllWords(dictionary, pattern)"
   ]
  },
  {
   "cell_type": "code",
   "execution_count": 14,
   "metadata": {},
   "outputs": [],
   "source": [
    "class Node:\n",
    "    # Constructor\n",
    "    def __init__(self):\n",
    "        self.isLeaf = False\n",
    "        self.children = {}\n",
    "\n",
    "\n",
    "def insert(root, string):\n",
    "    curr = root\n",
    "    for c in string:\n",
    "        if c not in curr.children:\n",
    "            curr.children[c] = Node()\n",
    "        curr = curr.children[c]\n",
    "    curr.isLeaf = True\n",
    "    return root\n",
    "\n",
    "\n",
    "def search(root, word):\n",
    "    curr = root\n",
    "    for w in word:\n",
    "        if w not in curr.children:\n",
    "            return False\n",
    "        curr = curr.children[w]\n",
    "    return curr.isLeaf\n",
    "\n",
    "\n",
    "arr = [\"n\", \"ni\", \"nin\", \"ninj\", \"ninja\", \"ninga\"]\n",
    "root = Node()\n",
    "for w in arr:\n",
    "    root = insert(root, w)"
   ]
  },
  {
   "cell_type": "code",
   "execution_count": 15,
   "metadata": {},
   "outputs": [
    {
     "data": {
      "text/plain": [
       "['ninga', 'ninja', 'ninj', 'nin', 'ni', 'n']"
      ]
     },
     "execution_count": 15,
     "metadata": {},
     "output_type": "execute_result"
    }
   ],
   "source": [
    "arr = sorted(arr, key=lambda x: (-len(x), x))\n",
    "arr"
   ]
  },
  {
   "cell_type": "code",
   "execution_count": 16,
   "metadata": {},
   "outputs": [
    {
     "name": "stdout",
     "output_type": "stream",
     "text": [
      "ninja\n"
     ]
    }
   ],
   "source": [
    "for w in arr:\n",
    "    curr = \"\"\n",
    "    for c in w:\n",
    "        curr += c\n",
    "        if not search(root, curr):\n",
    "            break\n",
    "    if curr == w:\n",
    "        print(w)\n",
    "        break"
   ]
  },
  {
   "cell_type": "markdown",
   "metadata": {},
   "source": [
    "Given a string, count all distinct substrings of the given string."
   ]
  },
  {
   "cell_type": "code",
   "execution_count": 17,
   "metadata": {},
   "outputs": [
    {
     "name": "stdout",
     "output_type": "stream",
     "text": [
      "c b bc ab aaa abc aaab aabc aa aab aaabc a "
     ]
    }
   ],
   "source": [
    "# Python3 implementation of the approach\n",
    "\n",
    "\n",
    "# Function to return the count of\n",
    "# valid sub-Strings\n",
    "def printSubStrings(s):\n",
    "\n",
    "    # To store distinct output subStrings\n",
    "    us = set()\n",
    "\n",
    "    # Traverse through the given String and\n",
    "    # one by one generate subStrings beginning\n",
    "    # from s[i].\n",
    "    for i in range(len(s)):\n",
    "\n",
    "        # One by one generate subStrings ending\n",
    "        # with s[j]\n",
    "        ss = \"\"\n",
    "        for j in range(i, len(s)):\n",
    "            ss = ss + s[j]\n",
    "            us.add(ss)\n",
    "\n",
    "    # Print all subStrings one by one\n",
    "    for str in us:\n",
    "        print(str, end=\" \")\n",
    "\n",
    "\n",
    "# Driver code\n",
    "if __name__ == \"__main__\":\n",
    "    str = \"aaabc\"\n",
    "    printSubStrings(str)\n",
    "\n",
    "# This code is contributed by 29AjayKumar"
   ]
  },
  {
   "cell_type": "code",
   "execution_count": 19,
   "metadata": {},
   "outputs": [
    {
     "name": "stdout",
     "output_type": "stream",
     "text": [
      "Count of Distinct Substrings: 12\n"
     ]
    }
   ],
   "source": [
    "# Python code for the above approach:\n",
    "\n",
    "\n",
    "class TrieNode:\n",
    "    def __init__(self):\n",
    "        self.isWord = False\n",
    "        self.child = dict()\n",
    "\n",
    "\n",
    "def countDistinctSubstring(string):\n",
    "    head = TrieNode()\n",
    "\n",
    "    # will hold the count of unique substrings\n",
    "    count = 0\n",
    "    # included count of substr \" \"\n",
    "\n",
    "    for i in range(len(string)):\n",
    "        temp = head\n",
    "\n",
    "        for j in range(i, len(string)):\n",
    "            # when char not present add it to the trie\n",
    "            if string[j] not in temp.child:\n",
    "                temp.child[string[j]] = TrieNode()\n",
    "                temp.isWord = True\n",
    "                count += 1\n",
    "            # move on to the next char\n",
    "            temp = temp.child[string[j]]\n",
    "\n",
    "    return count\n",
    "\n",
    "\n",
    "count = countDistinctSubstring(\"aaabc\")\n",
    "print(\"Count of Distinct Substrings:\", count)\n",
    "\n",
    "# This code is contributed by lokesh."
   ]
  },
  {
   "cell_type": "code",
   "execution_count": 2,
   "metadata": {},
   "outputs": [
    {
     "name": "stdout",
     "output_type": "stream",
     "text": [
      "1 10 11 12 13 14 15 2 3 4 5 6 7 8 9 "
     ]
    }
   ],
   "source": [
    "#  Function to print all the\n",
    "# numbers up to n in\n",
    "# lexicographical order\n",
    "def lexNumbers(n):\n",
    "\n",
    "    s = []\n",
    "    for i in range(1, n + 1):\n",
    "        s.append(str(i))\n",
    "\n",
    "    s.sort()\n",
    "    ans = []\n",
    "\n",
    "    for i in range(n):\n",
    "        ans.append(int(s[i]))\n",
    "\n",
    "    for i in range(n):\n",
    "        print(ans[i], end=\" \")\n",
    "\n",
    "\n",
    "# Driver Code\n",
    "if __name__ == \"__main__\":\n",
    "\n",
    "    n = 15\n",
    "    lexNumbers(n)"
   ]
  },
  {
   "cell_type": "code",
   "execution_count": 3,
   "metadata": {},
   "outputs": [
    {
     "data": {
      "text/plain": [
       "[1, 10, 11, 12, 13, 14, 15, 2, 3, 4, 5, 6, 7, 8, 9]"
      ]
     },
     "execution_count": 3,
     "metadata": {},
     "output_type": "execute_result"
    }
   ],
   "source": [
    "def dfs(temp, n, sol):\n",
    "    if temp > n:\n",
    "        return\n",
    "    sol.append(temp)\n",
    "    dfs(temp * 10, n, sol)\n",
    "    if temp % 10 != 9:\n",
    "        dfs(temp + 1, n, sol)\n",
    "\n",
    "\n",
    "n = 15\n",
    "sol = []\n",
    "dfs(1, n, sol)\n",
    "sol"
   ]
  },
  {
   "cell_type": "code",
   "execution_count": null,
   "metadata": {},
   "outputs": [],
   "source": [
    "class Solution:\n",
    "    def minValidStrings(self, words: List[str], target: str) -> int:\n",
    "        trie = Trie()\n",
    "        for w in words:\n",
    "            trie.insert(w)\n",
    "\n",
    "        n = len(target)\n",
    "\n",
    "        dp = [-1] * n\n",
    "\n",
    "        def dfs(i):\n",
    "            if i == n:\n",
    "                return 0\n",
    "            if dp[i] != -1:\n",
    "                return dp[i]\n",
    "\n",
    "            res = float(\"inf\")\n",
    "            cur = trie\n",
    "            for j in range(i, n):\n",
    "                if target[j] not in cur.children:\n",
    "                    break\n",
    "                cur = cur.children[target[j]]\n",
    "                res = min(res, 1 + dfs(j + 1))\n",
    "\n",
    "            dp[i] = res\n",
    "            return res\n",
    "\n",
    "        result = dfs(0)\n",
    "        return result if result != float(\"inf\") else -1\n",
    "\n",
    "\n",
    "class Trie:\n",
    "    def __init__(self):\n",
    "        self.children = {}\n",
    "\n",
    "    def insert(self, s):\n",
    "        cur = self\n",
    "        for c in s:\n",
    "            if c not in cur.children:\n",
    "                cur.children[c] = Trie()\n",
    "            cur = cur.children[c]\n",
    "\n",
    "\n",
    "# You are given an array of strings words and a string target.\n",
    "\n",
    "# A string x is called valid if x is a\n",
    "# prefix\n",
    "#  of any string in words.\n",
    "\n",
    "# Return the minimum number of valid strings that can be concatenated to form target. If it is not possible to form target, return -1.\n",
    "\n",
    "\n",
    "# Example 1:\n",
    "\n",
    "# Input: words = [\"abc\",\"aaaaa\",\"bcdef\"], target = \"aabcdabc\"\n",
    "\n",
    "# Output: 3\n",
    "\n",
    "# Explanation:\n",
    "\n",
    "# The target string can be formed by concatenating:\n",
    "\n",
    "# Prefix of length 2 of words[1], i.e. \"aa\".\n",
    "# Prefix of length 3 of words[2], i.e. \"bcd\".\n",
    "# Prefix of length 3 of words[0], i.e. \"abc\".\n",
    "# Example 2:\n",
    "\n",
    "# Input: words = [\"abababab\",\"ab\"], target = \"ababaababa\"\n",
    "\n",
    "# Output: 2\n",
    "\n",
    "# Explanation:\n",
    "\n",
    "# The target string can be formed by concatenating:\n",
    "\n",
    "# Prefix of length 5 of words[0], i.e. \"ababa\".\n",
    "# Prefix of length 5 of words[0], i.e. \"ababa\"."
   ]
  },
  {
   "cell_type": "markdown",
   "metadata": {},
   "source": [
    "Given string str, the task is to find the minimum count of characters that need to be deleted from the string such that the frequency of each character of\n",
    "\n",
    " the string is unique."
   ]
  },
  {
   "cell_type": "code",
   "execution_count": 4,
   "metadata": {},
   "outputs": [
    {
     "name": "stdout",
     "output_type": "stream",
     "text": [
      "2\n"
     ]
    }
   ],
   "source": [
    "# Python3 program to implement\n",
    "# the above approach\n",
    "\n",
    "\n",
    "# Function to find the minimum count of\n",
    "# characters required to be deleted to make\n",
    "# frequencies of all characters unique\n",
    "def minCntCharDeletionsfrequency(str, N):\n",
    "\n",
    "    # Stores frequency of each\n",
    "    # distinct character of str\n",
    "    mp = {}\n",
    "\n",
    "    # Store frequency of each distinct\n",
    "    # character such that the largest\n",
    "    # frequency is present at the top\n",
    "    pq = []\n",
    "\n",
    "    # Stores minimum count of characters\n",
    "    # required to be deleted to make\n",
    "    # frequency of each character unique\n",
    "    cntChar = 0\n",
    "\n",
    "    # Traverse the string\n",
    "    for i in range(N):\n",
    "\n",
    "        # Update frequency of str[i]\n",
    "        mp[str[i]] = mp.get(str[i], 0) + 1\n",
    "\n",
    "    # Traverse the map\n",
    "    for it in mp:\n",
    "\n",
    "        # Insert current\n",
    "        # frequency into pq\n",
    "        pq.append(mp[it])\n",
    "\n",
    "    pq = sorted(pq)\n",
    "\n",
    "    # Traverse the priority_queue\n",
    "    while len(pq) > 0:\n",
    "\n",
    "        # Stores topmost\n",
    "        # element of pq\n",
    "        frequent = pq[-1]\n",
    "\n",
    "        # Pop the topmost element\n",
    "        del pq[-1]\n",
    "\n",
    "        # If pq is empty\n",
    "        if len(pq) == 0:\n",
    "\n",
    "            # Return cntChar\n",
    "            return cntChar\n",
    "\n",
    "        # If frequent and topmost\n",
    "        # element of pq are equal\n",
    "        if frequent == pq[-1]:\n",
    "\n",
    "            # If frequency of the topmost\n",
    "            # element is greater than 1\n",
    "            if frequent > 1:\n",
    "\n",
    "                # Insert the decremented\n",
    "                # value of frequent\n",
    "                pq.append(frequent - 1)\n",
    "\n",
    "            # Update cntChar\n",
    "            cntChar += 1\n",
    "\n",
    "        pq = sorted(pq)\n",
    "\n",
    "    return cntChar\n",
    "\n",
    "\n",
    "# Driver Code\n",
    "if __name__ == \"__main__\":\n",
    "\n",
    "    str = \"abbbcccd\"\n",
    "\n",
    "    # Stores length of str\n",
    "    N = len(str)\n",
    "\n",
    "    print(minCntCharDeletionsfrequency(str, N))"
   ]
  },
  {
   "cell_type": "markdown",
   "metadata": {},
   "source": [
    "Given an array arr[] consisting of N strings and Q queries in form of two strings prefix and suffix,\n",
    "\n",
    " the task for each query is to find any one string in the given array with the given prefix and suffix. \n",
    " \n",
    " If there exists no such string then print “-1”.\n",
    "\n",
    " The implementation of trie can be modified to support both prefix and suffix search in the following way:\n",
    "\n",
    " Suppose the given word in a dictionary is apple. In this case, the word apple is inserted in the Trie. But to support prefix and suffix search\n",
    "\n",
    " simultaneously the words: e{apple, le{apple, ple{apple, pple{apple, apple{apple can be inserted in the Trie. \n",
    " \n",
    "Note that these words are of the form suffix{word where suffix is the all suffixes possible from the given word."
   ]
  },
  {
   "cell_type": "code",
   "execution_count": 1,
   "metadata": {},
   "outputs": [
    {
     "name": "stdout",
     "output_type": "stream",
     "text": [
      "apple\n",
      "mine\n"
     ]
    }
   ],
   "source": [
    "# Trie Node\n",
    "class TrieNode:\n",
    "    def __init__(self):\n",
    "        self.arr = dict()\n",
    "        self.idx = None\n",
    "\n",
    "\n",
    "# Root node of the Trie\n",
    "root = TrieNode()\n",
    "\n",
    "\n",
    "# Function to insert the words in\n",
    "# the Trie\n",
    "def insert(word, i):\n",
    "    # Temporary pointer to the root\n",
    "    # node of the Trie\n",
    "    temp = root\n",
    "\n",
    "    # Traverse through all the\n",
    "    # characters of current word\n",
    "    for ch in word:\n",
    "        # Make a Trie Node, if not\n",
    "        # already present\n",
    "        if ch not in temp.arr:\n",
    "            t = TrieNode()\n",
    "            temp.arr[ch] = t\n",
    "        temp = temp.arr[ch]\n",
    "        temp.idx = i\n",
    "\n",
    "\n",
    "# Function to search the words in Trie\n",
    "def search(word):\n",
    "    temp = root\n",
    "\n",
    "    # Traverse through all the\n",
    "    # characters of current word\n",
    "    for ch in word:\n",
    "        # If no valid Trie Node exists\n",
    "        # for the current character\n",
    "        # then there is no match\n",
    "        if ch not in temp.arr:\n",
    "            return -1\n",
    "        temp = temp.arr[ch]\n",
    "\n",
    "    # Return the resultant index\n",
    "    return temp.idx\n",
    "\n",
    "\n",
    "# Function to search for a word in\n",
    "# the dictionary with the given\n",
    "# prefix and suffix for each query\n",
    "def findMatchingString(words, Q):\n",
    "    # Insertion in the Trie\n",
    "    for i in range(len(words)):\n",
    "        # Form all the words of the\n",
    "        # form suffix{word and insert\n",
    "        # them in the trie\n",
    "        temp = \"{\" + words[i]\n",
    "        for j in range(len(words[i]) - 1, -1, -1):\n",
    "            t = words[i][j] + temp\n",
    "            temp = t\n",
    "            # Insert into Trie\n",
    "            insert(t, i)\n",
    "\n",
    "    # Traverse all the queries\n",
    "    for i in range(len(Q)):\n",
    "        prefix = Q[i][0]\n",
    "        suffix = Q[i][1]\n",
    "        temp = suffix + \"{\" + prefix\n",
    "\n",
    "        # Stores the index of\n",
    "        # the required word\n",
    "        res = search(temp)\n",
    "\n",
    "        # In case of match, print\n",
    "        # the corresponding string\n",
    "        if res != -1:\n",
    "            print(words[res])\n",
    "        # Otherwise, No match found\n",
    "        else:\n",
    "            print(\"-1\")\n",
    "\n",
    "\n",
    "# Driver Code\n",
    "if __name__ == \"__main__\":\n",
    "    words = [\"apple\", \"app\", \"biscuit\", \"mouse\", \"orange\", \"bat\", \"microphone\", \"mine\"]\n",
    "    Q = [[\"a\", \"e\"], [\"mi\", \"ne\"]]\n",
    "    findMatchingString(words, Q)"
   ]
  },
  {
   "cell_type": "markdown",
   "metadata": {},
   "source": [
    "If the dictionary is: {\"cat\", \"rat\", \"bat\", \"hat\"}\n",
    "\n",
    "And query words are \"?at\" and \"b?t\", then:"
   ]
  },
  {
   "cell_type": "code",
   "execution_count": 9,
   "metadata": {},
   "outputs": [],
   "source": [
    "def solve(i, s, curr, out, root):\n",
    "    if len(curr) == len(s):\n",
    "        if search(root, curr):\n",
    "            out[0] += 1\n",
    "        return\n",
    "    if s[i] == \"?\":\n",
    "        for c in \"abcdefghijklmnopqrstuvwxyz\":\n",
    "            solve(i + 1, s, curr + c, out, root)\n",
    "    else:\n",
    "        solve(i + 1, s, curr + s[i], out, root)\n",
    "\n",
    "\n",
    "class Node:\n",
    "    # Constructor\n",
    "    def __init__(self):\n",
    "        self.isLeaf = False\n",
    "        self.children = {}\n",
    "\n",
    "\n",
    "def insert(root, string):\n",
    "    curr = root\n",
    "    for c in string:\n",
    "        if c not in curr.children:\n",
    "            curr.children[c] = Node()\n",
    "        curr = curr.children[c]\n",
    "    curr.isLeaf = True\n",
    "    return root\n",
    "\n",
    "\n",
    "def search(root, word):\n",
    "    curr = root\n",
    "    for w in word:\n",
    "        if w not in curr.children:\n",
    "            return False\n",
    "        curr = curr.children[w]\n",
    "    return curr.isLeaf\n",
    "\n",
    "\n",
    "def wildcardQueries(n, l, dictionary, q, query):\n",
    "    root = Node()\n",
    "    for w in dictionary:\n",
    "        root = insert(root, w)\n",
    "    ans = []\n",
    "    for que in query:\n",
    "        out = [0]\n",
    "\n",
    "        solve(0, que, \"\", out, root)\n",
    "        ans.append(out[0])\n",
    "    return ans"
   ]
  },
  {
   "cell_type": "code",
   "execution_count": null,
   "metadata": {},
   "outputs": [],
   "source": []
  }
 ],
 "metadata": {
  "kernelspec": {
   "display_name": "Python 3",
   "language": "python",
   "name": "python3"
  },
  "language_info": {
   "codemirror_mode": {
    "name": "ipython",
    "version": 3
   },
   "file_extension": ".py",
   "mimetype": "text/x-python",
   "name": "python",
   "nbconvert_exporter": "python",
   "pygments_lexer": "ipython3",
   "version": "3.11.6"
  }
 },
 "nbformat": 4,
 "nbformat_minor": 2
}
