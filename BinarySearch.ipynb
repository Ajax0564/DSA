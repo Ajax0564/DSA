{
 "cells": [
  {
   "cell_type": "code",
   "execution_count": 1,
   "metadata": {},
   "outputs": [],
   "source": [
    "def first(arr, n, k):\n",
    "    ans = -1\n",
    "    l = 0\n",
    "    r = n - 1\n",
    "    while l <= r:\n",
    "        mid = l + (r - l) // 2\n",
    "        if arr[mid] < k:\n",
    "            l = mid + 1\n",
    "        else:\n",
    "            if arr[mid] == k:\n",
    "                ans = mid\n",
    "            r = mid - 1\n",
    "    return ans\n",
    "\n",
    "\n",
    "def last(arr, n, k):\n",
    "    ans = -1\n",
    "    l = 0\n",
    "    r = n - 1\n",
    "    while l <= r:\n",
    "        mid = l + (r - l) // 2\n",
    "        if arr[mid] > k:\n",
    "            r = mid - 1\n",
    "        else:\n",
    "            if arr[mid] == k:\n",
    "                ans = mid\n",
    "\n",
    "            l = mid + 1\n",
    "    return ans\n",
    "\n",
    "\n",
    "def firstAndLastPosition(arr, n, k):\n",
    "    f = first(arr, n, k)\n",
    "    l = last(arr, n, k)\n",
    "    return f, l"
   ]
  },
  {
   "cell_type": "code",
   "execution_count": 5,
   "metadata": {},
   "outputs": [],
   "source": [
    "arr = [1, 3, 3, 5]"
   ]
  },
  {
   "cell_type": "code",
   "execution_count": 8,
   "metadata": {},
   "outputs": [
    {
     "data": {
      "text/plain": [
       "(3, 3)"
      ]
     },
     "execution_count": 8,
     "metadata": {},
     "output_type": "execute_result"
    }
   ],
   "source": [
    "firstAndLastPosition(arr, 4, 5)"
   ]
  },
  {
   "cell_type": "code",
   "execution_count": null,
   "metadata": {},
   "outputs": [],
   "source": [
    "def bisect_left(a, x, lo=0, hi=None):\n",
    "\n",
    "    if lo < 0:\n",
    "        raise ValueError(\"lo must be non-negative\")\n",
    "    if hi is None:\n",
    "        hi = len(a)\n",
    "\n",
    "    while lo < hi:\n",
    "        mid = (lo + hi) // 2\n",
    "        if a[mid] < x:\n",
    "            lo = mid + 1\n",
    "        else:\n",
    "            hi = mid\n",
    "    return lo\n",
    "\n",
    "\n",
    "def bisect_right(\n",
    "    a,\n",
    "    x,\n",
    "    lo=0,\n",
    "    hi=None,\n",
    "):\n",
    "\n",
    "    if lo < 0:\n",
    "        raise ValueError(\"lo must be non-negative\")\n",
    "    if hi is None:\n",
    "        hi = len(a)\n",
    "\n",
    "    while lo < hi:\n",
    "        mid = (lo + hi) // 2\n",
    "        if x < a[mid]:\n",
    "            hi = mid\n",
    "        else:\n",
    "            lo = mid + 1\n",
    "    return lo"
   ]
  },
  {
   "cell_type": "code",
   "execution_count": 16,
   "metadata": {},
   "outputs": [],
   "source": [
    "# User function Template for python3\n",
    "# Given an array Arr of size N such that each element is from the range 0 to 9. Find the minimum possible\n",
    "# sum of two numbers formed using the elements of the array. All digits in the given array must be used to form the two numbers.\n",
    "\n",
    "\n",
    "class Solution:\n",
    "    def solve(self, arr, n):\n",
    "        num1 = 0\n",
    "        num2 = 0\n",
    "        arr.sort()\n",
    "        for i in range(len(arr)):\n",
    "            if i % 2 == 0:\n",
    "                num1 = num1 * 10 + arr[i]\n",
    "            elif i % 2 != 0:\n",
    "                num2 = num2 * 10 + arr[i]\n",
    "        return num1 + num2\n",
    "        # code here"
   ]
  },
  {
   "cell_type": "markdown",
   "metadata": {},
   "source": [
    "Given N candies and K people. In the first turn, the first person gets 1 candy, the second gets 2 candies, and so on till K people. In the next turn, the \n",
    "\n",
    "first person gets K+1 candies, the second person gets K+2 candies and so on. If the number of candies is less than the required number of candies at every\n",
    "\n",
    " turn, then the person receives the remaining number of candies. Find the total number of candies every person has at the end."
   ]
  },
  {
   "cell_type": "code",
   "execution_count": 24,
   "metadata": {},
   "outputs": [],
   "source": [
    "# User function Template for python3\n",
    "\n",
    "\n",
    "class Solution:\n",
    "    def distributeCandies(self, N, K):\n",
    "        ans = [0] * K\n",
    "        x = 0\n",
    "        while N > 0:\n",
    "            ans[x % K] += min(x + 1, N)\n",
    "            x += 1\n",
    "            N -= x\n",
    "        return ans\n",
    "        # code here"
   ]
  },
  {
   "cell_type": "markdown",
   "metadata": {},
   "source": [
    "Given an array Arr[] of size N. For every element in the array, the task is to find the index of the farthest element in the array to the right which is \n",
    "\n",
    "smaller than the current element. If no such number exists then print -1."
   ]
  },
  {
   "cell_type": "code",
   "execution_count": 25,
   "metadata": {},
   "outputs": [],
   "source": [
    "# User function Template for python3\n",
    "\n",
    "\n",
    "class Solution:\n",
    "    def farNumber(self, N, Arr):\n",
    "        SuffixMin = [0 for i in range(N)]\n",
    "        res = []\n",
    "        SuffixMin[N - 1] = Arr[N - 1]\n",
    "\n",
    "        for i in range(N - 2, -1, -1):\n",
    "            SuffixMin[i] = min(SuffixMin[i + 1], Arr[i])\n",
    "\n",
    "        for i in range(N):\n",
    "            l = i + 1\n",
    "            r = N - 1\n",
    "            ans = -1\n",
    "            while l <= r:\n",
    "                mid = l + (r - l) // 2\n",
    "                if SuffixMin[mid] < Arr[i]:\n",
    "                    ans = mid\n",
    "                    l = mid + 1\n",
    "                else:\n",
    "                    r = mid - 1\n",
    "            res.append(ans)\n",
    "        return res\n",
    "\n",
    "        # code here"
   ]
  },
  {
   "cell_type": "markdown",
   "metadata": {},
   "source": [
    "Given an array which contains integer values, we need to make all values of this array equal to some integer value\n",
    "\n",
    " with minimum cost where the cost of changing an array value x to y is abs(x-y). "
   ]
  },
  {
   "cell_type": "code",
   "execution_count": null,
   "metadata": {},
   "outputs": [],
   "source": [
    "def minCostToMakeElementEqual(a):\n",
    "    l = len(a)\n",
    "\n",
    "    # If there are odd elements, we choose\n",
    "    # middle element\n",
    "    if l % 2 == 1:\n",
    "        y = a[l // 2]\n",
    "\n",
    "    # If there are even elements, then we choose\n",
    "    # the average of middle two.\n",
    "    else:\n",
    "        y = (a[l // 2] + a[(l - 2) // 2]) // 2\n",
    "\n",
    "    # After deciding the final value, find the\n",
    "    # result.\n",
    "    s = 0\n",
    "    for i in range(l):\n",
    "        s += abs(a[i] - y)\n",
    "    return s"
   ]
  },
  {
   "cell_type": "code",
   "execution_count": null,
   "metadata": {},
   "outputs": [],
   "source": [
    "class Solution:\n",
    "    def minCost(self, nums, cost) -> int:\n",
    "        \"\"\"\n",
    "        Returns the minimum cost to make all element of the array equal.\n",
    "\n",
    "        Args:\n",
    "            nums: List[int] = array of integers to be changed\n",
    "            cost: List[int] = cost of changing each element in nums\n",
    "\n",
    "        Returns:\n",
    "            totalCost: int = the minimum cost to make the whole array equal\n",
    "        \"\"\"\n",
    "\n",
    "        # We know that the final array will have only one distinct element.\n",
    "        # We also know that this element is already present in the array and\n",
    "        # so we can set our search range to be between the minumum and maximum\n",
    "        # values of nums.\n",
    "        left, right = min(nums), max(nums)\n",
    "\n",
    "        # We just need to initialize a totalCost variable\n",
    "        totalCost = 0\n",
    "\n",
    "        # Now we Binary Search over the current range.\n",
    "        while left <= right:\n",
    "            # We get the midpoint. This is the value that we will\n",
    "            # change all other elements in nums to.\n",
    "            mid = (left + right) // 2\n",
    "\n",
    "            # We need to calculate two values to determine the direction\n",
    "            # in which the totalCost is moving\n",
    "            cost1 = self.calculateCost(mid, nums, cost)\n",
    "            cost2 = self.calculateCost(mid + 1, nums, cost)\n",
    "\n",
    "            # We make our totalCost to be the minimum of the costs we\n",
    "            # see\n",
    "            totalCost = min(cost1, cost2)\n",
    "\n",
    "            # If Cost1 is greater, that means that the area to the left\n",
    "            # of mid is increasing and therefore the minimum cost won't be\n",
    "            # found here and we can adjust our search area to the right. By\n",
    "            # the same logic, we can adjust the search area to the left if\n",
    "            # the area to the right of mid is increasing.\n",
    "            if cost1 > cost2:\n",
    "                left = mid + 1\n",
    "            else:\n",
    "                right = mid - 1\n",
    "\n",
    "        # Now that we have arrived at the minimum cost, we can return the\n",
    "        # result\n",
    "        return totalCost\n",
    "\n",
    "    def calculateCost(self, value: int, nums, cost) -> int:\n",
    "        \"\"\"\n",
    "        Returns the cost of changing all elements in nums\n",
    "        to value, based on the cost.\n",
    "\n",
    "        Args:\n",
    "            value: int = desired value\n",
    "            nums: List[int] = array of integers\n",
    "            cost: List[int] = cost of changing each element in nums\n",
    "        \"\"\"\n",
    "\n",
    "        # Initialize cost to 0\n",
    "        total = 0\n",
    "\n",
    "        # For each num in nums, we get the difference between num and the\n",
    "        # desired value and multiply it by its cost to get the cost of\n",
    "        # changing the current element to match value.\n",
    "        for num, price in zip(nums, cost):\n",
    "            total += abs(num - value) * price\n",
    "\n",
    "        # Return the total cost\n",
    "        return total"
   ]
  },
  {
   "cell_type": "code",
   "execution_count": 17,
   "metadata": {},
   "outputs": [],
   "source": [
    "# search in rotated sorted\n",
    "def find(arr, k):\n",
    "\n",
    "    l = 0\n",
    "\n",
    "    r = len(arr) - 1\n",
    "\n",
    "    while l <= r:\n",
    "\n",
    "        mid = l + (r - l) // 2\n",
    "\n",
    "        if arr[mid] == k:\n",
    "\n",
    "            return mid\n",
    "        if arr[l] <= arr[mid]:\n",
    "\n",
    "            if arr[l] <= k <= arr[mid]:\n",
    "\n",
    "                r = mid - 1\n",
    "\n",
    "            else:\n",
    "\n",
    "                l = mid + 1\n",
    "\n",
    "        elif arr[mid] <= arr[r]:\n",
    "\n",
    "            if arr[mid] <= k <= arr[r]:\n",
    "\n",
    "                l = mid + 1\n",
    "\n",
    "            else:\n",
    "\n",
    "                r = mid - 1\n",
    "\n",
    "    return -1\n",
    "\n",
    "\n",
    "find(arr, k)"
   ]
  },
  {
   "cell_type": "code",
   "execution_count": 19,
   "metadata": {},
   "outputs": [
    {
     "data": {
      "text/plain": [
       "1"
      ]
     },
     "execution_count": 19,
     "metadata": {},
     "output_type": "execute_result"
    }
   ],
   "source": [
    "def findMin(nums) -> int:\n",
    "    l = 0\n",
    "    r = len(nums) - 1\n",
    "    ans = 1e10\n",
    "    while l <= r:\n",
    "        if (\n",
    "            nums[l] < nums[r]\n",
    "        ):  # array is already sorted #optimization without it code will also work\n",
    "            ans = min(ans, nums[l])\n",
    "            break\n",
    "        mid = l + (r - l) // 2\n",
    "        if nums[l] <= nums[mid]:\n",
    "            ans = min(ans, nums[l])\n",
    "            l = mid + 1\n",
    "        else:\n",
    "            ans = min(ans, nums[mid])\n",
    "            r = mid - 1\n",
    "    return ans\n",
    "\n",
    "\n",
    "findMin([3, 4, 5, 1, 2])"
   ]
  },
  {
   "cell_type": "markdown",
   "metadata": {},
   "source": [
    "you are given an integer mountain array arr of length n where the values increase to a peak element and then decrease.\n",
    "\n",
    "Return the index of the peak element."
   ]
  },
  {
   "cell_type": "code",
   "execution_count": null,
   "metadata": {},
   "outputs": [],
   "source": [
    "class Solution:\n",
    "    def peakIndexInMountainArray(self, arr) -> int:\n",
    "        if len(arr) == 1:\n",
    "            return 0\n",
    "        l = 0\n",
    "        r = len(arr) - 1\n",
    "        while l <= r:\n",
    "            mid = l + (r - l) // 2\n",
    "            if mid > 0 and mid < len(arr) - 1:\n",
    "                if arr[mid - 1] < arr[mid] and arr[mid] > arr[mid + 1]:\n",
    "                    return mid\n",
    "            if mid > 0 and arr[mid - 1] > arr[mid]:\n",
    "                r = mid - 1\n",
    "            else:\n",
    "                l = mid + 1"
   ]
  },
  {
   "cell_type": "markdown",
   "metadata": {},
   "source": [
    "Given arrival and departure times of all trains that reach a railway station.\n",
    "\n",
    " Find the minimum number of platforms required for the railway station so that no train is kept waiting."
   ]
  },
  {
   "cell_type": "code",
   "execution_count": 18,
   "metadata": {},
   "outputs": [
    {
     "data": {
      "text/plain": [
       "1"
      ]
     },
     "execution_count": 18,
     "metadata": {},
     "output_type": "execute_result"
    }
   ],
   "source": [
    "def minimumPlatform(arr, dep):\n",
    "    arr.sort()\n",
    "    dep.sort()\n",
    "    n = len(arr)\n",
    "    pt = 1\n",
    "    result = 1\n",
    "    i = 1\n",
    "    j = 0\n",
    "    while i < n and j < n:\n",
    "        if arr[i] <= dep[j]:\n",
    "            pt += 1\n",
    "            i += 1\n",
    "        else:\n",
    "            pt -= 1\n",
    "            j += 1\n",
    "        if pt > result:\n",
    "            result = pt\n",
    "    return result"
   ]
  },
  {
   "cell_type": "code",
   "execution_count": 2,
   "metadata": {},
   "outputs": [],
   "source": [
    "# sorted array consisting of only integers where every element appears exactly twice, except for one element which appears exactly once.\n",
    "def singleNonDuplicate(nums) -> int:\n",
    "    if len(nums) == 1:\n",
    "        return nums[0]\n",
    "    low = 0\n",
    "    high = len(nums) - 1\n",
    "    if nums[low] != nums[low + 1]:\n",
    "        return nums[low]\n",
    "    if nums[high] != nums[high - 1]:\n",
    "        return nums[high]\n",
    "    low = 1\n",
    "    high = high - 1\n",
    "\n",
    "    while low <= high:\n",
    "        mid = low + (high - low) // 2\n",
    "        if nums[mid] != nums[mid - 1] and nums[mid] != nums[mid + 1]:\n",
    "            return nums[mid]\n",
    "        if mid % 2 != 0:  # if index is odd\n",
    "            if nums[mid] == nums[mid + 1]:\n",
    "                high = mid - 1  # move left\n",
    "            else:\n",
    "                low = mid + 1  # move right\n",
    "\n",
    "        else:  # if index is even\n",
    "            if nums[mid] == nums[mid - 1]:\n",
    "                high = mid - 1  # move left\n",
    "            else:\n",
    "                low = mid + 1  # move right\n",
    "    return -1"
   ]
  },
  {
   "cell_type": "markdown",
   "metadata": {},
   "source": []
  },
  {
   "cell_type": "code",
   "execution_count": 7,
   "metadata": {},
   "outputs": [],
   "source": [
    "# union intersection in sorted array\n",
    "def union_intersection(a, b):\n",
    "    i = 0\n",
    "    j = 0\n",
    "    union = []\n",
    "    common = []\n",
    "    while i < len(a) and j < len(b):\n",
    "        if a[i] == b[j]:\n",
    "            if not common or common[-1] != a[i]:\n",
    "                common.append(a[i])\n",
    "\n",
    "            if not union or union[-1] != a[i]:\n",
    "                union.append(a[i])\n",
    "\n",
    "            i += 1\n",
    "            j += 1\n",
    "\n",
    "        elif a[i] > b[j]:\n",
    "            if not union or union[-1] != b[j]:\n",
    "                union.append(b[j])\n",
    "            j += 1\n",
    "\n",
    "        else:\n",
    "            if not union or union[-1] != a[i]:\n",
    "                union.append(a[i])\n",
    "\n",
    "            i += 1\n",
    "\n",
    "    while i < len(a):\n",
    "        if not union or union[-1] != a[i]:\n",
    "            union.append(a[i])\n",
    "\n",
    "        i += 1\n",
    "\n",
    "    while j < len(b):\n",
    "        if not union or union[-1] != b[j]:\n",
    "            union.append(b[j])\n",
    "\n",
    "        j += 1\n",
    "    return union, common"
   ]
  },
  {
   "cell_type": "code",
   "execution_count": 8,
   "metadata": {},
   "outputs": [
    {
     "data": {
      "text/plain": [
       "([1, 2, 3, 4, 5, 6, 8], [2, 4])"
      ]
     },
     "execution_count": 8,
     "metadata": {},
     "output_type": "execute_result"
    }
   ],
   "source": [
    "a1 = [1, 2, 3, 4, 5]\n",
    "a2 = [2, 4, 6, 8]\n",
    "union_intersection(a1, a2)"
   ]
  },
  {
   "cell_type": "code",
   "execution_count": null,
   "metadata": {},
   "outputs": [],
   "source": [
    "def FindPeakElement(arr):\n",
    "    n = len(arr)  # Size of the array\n",
    "\n",
    "    # Edge cases:\n",
    "    if n == 1:\n",
    "        return 0\n",
    "    if arr[0] > arr[1]:\n",
    "        return 0\n",
    "    if arr[n - 1] > arr[n - 2]:\n",
    "        return n - 1\n",
    "\n",
    "    low = 1\n",
    "    high = n - 2\n",
    "    while low <= high:\n",
    "        mid = (low + high) // 2\n",
    "\n",
    "        # If arr[mid] is the peak:\n",
    "        if arr[mid - 1] < arr[mid] and arr[mid] > arr[mid + 1]:\n",
    "            return mid\n",
    "\n",
    "        # If we are in the left:\n",
    "        if arr[mid] > arr[mid - 1]:\n",
    "            low = mid + 1\n",
    "\n",
    "        # If we are in the right:\n",
    "        # Or, arr[mid] is a common point:\n",
    "        else:\n",
    "            high = mid - 1\n",
    "\n",
    "    # Dummy return statement\n",
    "    return -1"
   ]
  },
  {
   "cell_type": "markdown",
   "metadata": {},
   "source": [
    "you are given a sorted array A consisting of N integers. Your task is to find the magic index in the given array.\n",
    "\n",
    "Note :\n",
    "1. A magic index in an array A[0 ... N - 1] is defined to be an index i such that A[i] = i.\n",
    "2. The elements in the array can be negative.\n",
    "3. The elements in the array can be repeated multiple times.\n",
    "4. There can be more than one magic index in an array."
   ]
  },
  {
   "cell_type": "code",
   "execution_count": 9,
   "metadata": {},
   "outputs": [],
   "source": [
    "def binarySearch(arr):\n",
    "    high = len(arr) - 1\n",
    "    low = 0\n",
    "    if low == arr[low]:\n",
    "        return low\n",
    "    if high == arr[high]:\n",
    "        return high\n",
    "\n",
    "    low = 1\n",
    "    high -= 1\n",
    "    while low <= high:\n",
    "        mid = low + (high - low) // 2\n",
    "        if mid == arr[mid]:\n",
    "            return mid\n",
    "\n",
    "        if mid + 1 <= arr[high]:\n",
    "            low = mid + 1\n",
    "        if mid - 1 >= arr[low]:\n",
    "            high = mid - 1\n",
    "\n",
    "    # Return -1 if there is no Fixed Point\n",
    "    return -1"
   ]
  },
  {
   "cell_type": "code",
   "execution_count": 10,
   "metadata": {},
   "outputs": [
    {
     "data": {
      "text/plain": [
       "3"
      ]
     },
     "execution_count": 10,
     "metadata": {},
     "output_type": "execute_result"
    }
   ],
   "source": [
    "binarySearch([-10, -5, 0, 3, 7])"
   ]
  },
  {
   "attachments": {
    "image.png": {
     "image/png": "[encoded data removed]"
    }
   },
   "cell_type": "markdown",
   "metadata": {},
   "source": [
    "![image.png](attachment:image.png)"
   ]
  },
  {
   "cell_type": "code",
   "execution_count": 1,
   "metadata": {},
   "outputs": [
    {
     "name": "stdout",
     "output_type": "stream",
     "text": [
      "true\n"
     ]
    }
   ],
   "source": [
    "def searchMatrix(matrix, target):\n",
    "    n = len(matrix)\n",
    "    m = len(matrix[0])\n",
    "\n",
    "    # apply binary search:\n",
    "    low = 0\n",
    "    high = n * m - 1\n",
    "    while low <= high:\n",
    "        mid = (low + high) // 2\n",
    "        row = mid // m\n",
    "        col = mid % m\n",
    "        if matrix[row][col] == target:\n",
    "            return True\n",
    "        elif matrix[row][col] < target:\n",
    "            low = mid + 1\n",
    "        else:\n",
    "            high = mid - 1\n",
    "    return False\n",
    "\n",
    "\n",
    "matrix = [[1, 2, 3, 4], [5, 6, 7, 8], [9, 10, 11, 12]]\n",
    "result = searchMatrix(matrix, 8)\n",
    "print(\"true\" if result else \"false\")"
   ]
  },
  {
   "cell_type": "markdown",
   "metadata": {},
   "source": [
    "Making Two Math Equations:\n",
    "\n",
    "Let x be the missing and y be the repeating element.\n",
    "\n",
    "Let N is the size of the array.\n",
    "\n",
    "Get the sum of all numbers using the formula S = N(N+1)/2\n",
    "\n",
    "Get the sum of square of all numbers using formula SSq = N(N+1)(2N+1)/6\n",
    "\n",
    "Iterate through a loop from i = 1….N and do the following : S -= A[i], SSq -= (A[i]*A[i])\n",
    "\n",
    "It will give two equations \n",
    "\n",
    "x – y = S\n",
    "x^2 – y^2 = SSq \n",
    "x + y = (SSq/S)"
   ]
  },
  {
   "cell_type": "code",
   "execution_count": 1,
   "metadata": {},
   "outputs": [
    {
     "name": "stdout",
     "output_type": "stream",
     "text": [
      "Repeating: 6\n",
      "Missing: 5\n"
     ]
    }
   ],
   "source": [
    "def print_two_elements(arr):\n",
    "    n = len(arr)\n",
    "    s = (n * (n + 1)) // 2\n",
    "    ssq = (n * (n + 1) * (2 * n + 1)) // 6\n",
    "\n",
    "    missing = 0\n",
    "    repeating = 0\n",
    "\n",
    "    for i in range(n):\n",
    "        s -= arr[i]\n",
    "        ssq -= arr[i] * arr[i]\n",
    "\n",
    "    missing = (s + ssq // s) // 2\n",
    "    repeating = missing - s\n",
    "\n",
    "    print(\"Repeating:\", repeating)\n",
    "    print(\"Missing:\", missing)\n",
    "\n",
    "\n",
    "arr = [4, 3, 6, 2, 1, 6, 7]\n",
    "print_two_elements(arr)"
   ]
  },
  {
   "cell_type": "code",
   "execution_count": 2,
   "metadata": {},
   "outputs": [
    {
     "name": "stdout",
     "output_type": "stream",
     "text": [
      "Element found at index 4\n"
     ]
    }
   ],
   "source": [
    "# Python Program to demonstrate working of an algorithm that finds\n",
    "# an element in an array of infinite size\n",
    "\n",
    "\n",
    "# Binary search algorithm implementation\n",
    "def binary_search(arr, l, r, x):\n",
    "\n",
    "    if r >= l:\n",
    "        mid = l + (r - l) // 2\n",
    "\n",
    "        if arr[mid] == x:\n",
    "            return mid\n",
    "\n",
    "        if arr[mid] > x:\n",
    "            return binary_search(arr, l, mid - 1, x)\n",
    "\n",
    "        return binary_search(arr, mid + 1, r, x)\n",
    "\n",
    "    return -1\n",
    "\n",
    "\n",
    "# function takes an infinite size array and a key to be\n",
    "# searched and returns its position if found else -1.\n",
    "# We don't know size of a[] and we can assume size to be\n",
    "# infinite in this function.\n",
    "# NOTE THAT THIS FUNCTION ASSUMES a[] TO BE OF INFINITE SIZE\n",
    "# THEREFORE, THERE IS NO INDEX OUT OF BOUND CHECKING\n",
    "def findPos(a, key):\n",
    "\n",
    "    l, h, val = 0, 1, arr[0]\n",
    "\n",
    "    # Find h to do binary search\n",
    "    while val < key:\n",
    "        l = h  # store previous high\n",
    "        h = 2 * h  # double high index\n",
    "        val = arr[h]  # update new val\n",
    "\n",
    "    # at this point we have updated low and high indices,\n",
    "    # thus use binary search between them\n",
    "    return binary_search(a, l, h, key)\n",
    "\n",
    "\n",
    "# Driver function\n",
    "arr = [3, 5, 7, 9, 10, 90, 100, 130, 140, 160, 170]\n",
    "ans = findPos(arr, 10)\n",
    "if ans == -1:\n",
    "    print(\"Element not found\")\n",
    "else:\n",
    "    print(\"Element found at index\", ans)"
   ]
  },
  {
   "cell_type": "markdown",
   "metadata": {},
   "source": [
    "Let p be the position of element to be searched. Number of steps for finding high index ‘h’ is O(Log p). \n",
    "\n",
    "The value of ‘h’ must be less than 2*p. The number of elements between h/2 and h must be O(p). \n",
    "\n",
    "Therefore, time complexity of Binary Search step is also O(Log p) and overall time complexity is 2*O(Log p) which is O(Log p"
   ]
  },
  {
   "cell_type": "code",
   "execution_count": null,
   "metadata": {},
   "outputs": [],
   "source": []
  },
  {
   "cell_type": "markdown",
   "metadata": {},
   "source": [
    "each row of the matrix is sorted in non-decreasing order, and each column is sorted in non-decreasing order."
   ]
  },
  {
   "cell_type": "code",
   "execution_count": 3,
   "metadata": {},
   "outputs": [],
   "source": [
    "def search(mat, k):\n",
    "    r = len(mat)\n",
    "    c = len(mat[0])\n",
    "    i = 0\n",
    "    j = c - 1\n",
    "    while i < r and j >= 0:\n",
    "        if mat[i][j] == k:\n",
    "            return True\n",
    "\n",
    "        if mat[i][j] > k:\n",
    "            j -= 1\n",
    "        else:\n",
    "            i += 1\n",
    "    return False"
   ]
  },
  {
   "cell_type": "markdown",
   "metadata": {},
   "source": []
  },
  {
   "cell_type": "markdown",
   "metadata": {},
   "source": [
    "For each element ‘q’ in the array 'queries', your task is to find the sum of all elements in the array ‘arr’ which are less than or equal to ‘q’."
   ]
  },
  {
   "cell_type": "code",
   "execution_count": 18,
   "metadata": {},
   "outputs": [
    {
     "data": {
      "text/plain": [
       "0"
      ]
     },
     "execution_count": 18,
     "metadata": {},
     "output_type": "execute_result"
    }
   ],
   "source": [
    "def search(arr, qq):\n",
    "    l = 0\n",
    "    r = len(arr) - 1\n",
    "    ans = -1\n",
    "    while l <= r:\n",
    "        mid = l + (r - l) // 2\n",
    "        if arr[mid] > qq:\n",
    "            r = mid - 1\n",
    "        else:\n",
    "            ans = mid\n",
    "            l = mid + 1\n",
    "    return ans\n",
    "\n",
    "\n",
    "def searchInTheArray(arr, queries, n, q):\n",
    "    tsum = [0] * (n + 1)\n",
    "    for i in range(1, n + 1):\n",
    "        tsum[i] = tsum[i - 1] + arr[i - 1]\n",
    "\n",
    "    ans = []\n",
    "    for qq in queries:\n",
    "        index = search(arr, qq)\n",
    "        if index != -1:\n",
    "            ans.append(tsum[index + 1])\n",
    "        else:\n",
    "            ans.append(0)\n",
    "    return ans\n",
    "\n",
    "\n",
    "arr = [2, 3, 3, 4, 6, 7]\n",
    "q = [2, 4]\n",
    "search(arr, q[0])"
   ]
  },
  {
   "cell_type": "code",
   "execution_count": 1,
   "metadata": {},
   "outputs": [],
   "source": [
    "def sortInWave(arr, n):\n",
    "\n",
    "    # Traverse all even elements\n",
    "    for i in range(0, n, 2):\n",
    "\n",
    "        # If current even element is smaller than previous\n",
    "        if i > 0 and arr[i] < arr[i - 1]:\n",
    "            arr[i], arr[i - 1] = arr[i - 1], arr[i]\n",
    "\n",
    "        # If current even element is smaller than next\n",
    "        if i < n - 1 and arr[i] < arr[i + 1]:\n",
    "            arr[i], arr[i + 1] = arr[i + 1], arr[i]\n",
    "    return arr"
   ]
  },
  {
   "cell_type": "code",
   "execution_count": null,
   "metadata": {},
   "outputs": [],
   "source": []
  },
  {
   "cell_type": "markdown",
   "metadata": {},
   "source": [
    "You are also given an integer 'k' which denotes the number of aggressive cows.\n",
    "\n",
    "You are given the task of assigning stalls to 'k' cows such that the minimum distance between any two of them is the maximum possible."
   ]
  },
  {
   "cell_type": "code",
   "execution_count": null,
   "metadata": {},
   "outputs": [],
   "source": [
    "# User function Template for python3\n",
    "def possible(n, k, stalls, mid):\n",
    "    c = 1\n",
    "    d = stalls[0]\n",
    "    for i in range(1, n):\n",
    "        if abs(stalls[i] - d) >= mid:\n",
    "            c += 1\n",
    "            d = stalls[i]\n",
    "    if c >= k:\n",
    "        return True\n",
    "    return False\n",
    "\n",
    "\n",
    "class Solution:\n",
    "    def solve(self, n, k, stalls):\n",
    "        stalls.sort()\n",
    "        s, e = 1, (stalls[n - 1] - stalls[0])\n",
    "        ans = -1\n",
    "        while s <= e:\n",
    "            mid = s + (e - s) // 2\n",
    "            if possible(n, k, stalls, mid):\n",
    "                ans = max(ans, mid)\n",
    "                s = mid + 1\n",
    "            else:\n",
    "                e = mid - 1\n",
    "        return ans"
   ]
  },
  {
   "cell_type": "code",
   "execution_count": null,
   "metadata": {},
   "outputs": [],
   "source": []
  },
  {
   "cell_type": "markdown",
   "metadata": {},
   "source": [
    "The problem is to find the minimum time to get this job done if all painters start together with the constraint that any painter will only paint continuous\n",
    "\n",
    " boards, say boards numbered {2,3,4} or only board {1} or nothing but not boards {2,4,5}."
   ]
  },
  {
   "cell_type": "code",
   "execution_count": null,
   "metadata": {},
   "outputs": [],
   "source": [
    "def count_painter(arr, mid, k):\n",
    "    curr = 1\n",
    "    clen = 0\n",
    "    for x in arr:\n",
    "        if clen + x <= mid:\n",
    "\n",
    "            clen += x\n",
    "        else:\n",
    "            curr += 1\n",
    "            clen = x\n",
    "\n",
    "    return curr <= k\n",
    "\n",
    "\n",
    "def search(arr, k):\n",
    "    r = sum(arr)\n",
    "    l = max(arr)\n",
    "    # if k==len(arr):\n",
    "    #     return max(arr)\n",
    "    # elif k==1:\n",
    "    #     return sum(arr)\n",
    "    ans = -1\n",
    "    while l <= r:\n",
    "        mid = l + (r - l) // 2\n",
    "        if count_painter(arr, mid, k):\n",
    "            ans = mid\n",
    "            r = mid - 1\n",
    "        else:\n",
    "            l = mid + 1\n",
    "    return ans\n",
    "\n",
    "\n",
    "def findLargestMinDistance(boards: list, k: int):\n",
    "    return search(boards, k)\n",
    "    # Write your code here\n",
    "    # Return an integer\n",
    "\n",
    "\n",
    "# n = 5, k = 3, arr[] = {5,10,30,20,15}\n",
    "# Output: 35\n",
    "# Explanation: The most optimal way will be: Painter 1 allocation : {5,10},\n",
    "# Painter 2 allocation : {30}, Painter 3 allocation : {20,15}, Job will be done when all painters finish i.e. at time = max(5+10, 30, 20+15) = 35"
   ]
  },
  {
   "cell_type": "markdown",
   "metadata": {},
   "source": [
    "ou want to make m bouquets. To make a bouquet, you need to use k adjacent flowers from the garden.\n",
    "\n",
    "The garden consists of n flowers, the ith flower will bloom in the bloomDay[i] and then can be used in exactly one bouquet.\n",
    "\n",
    "Return the minimum number of days you need to wait to be able to make m bouquets from the garden. If it is impossible to make m bouquets return -1.\n",
    "\n",
    " \n",
    "\n",
    "Example 1:\n",
    "\n",
    "Input: bloomDay = [1,10,3,10,2], m = 3, k = 1\n",
    "Output: 3"
   ]
  },
  {
   "cell_type": "code",
   "execution_count": null,
   "metadata": {},
   "outputs": [],
   "source": [
    "def canMakeBouquets(bloomDay, days, m, k) -> bool:\n",
    "    ans, cnt = 0, 0\n",
    "\n",
    "    for day in bloomDay:\n",
    "        if day <= days:\n",
    "            cnt += 1\n",
    "        else:\n",
    "            cnt = 0\n",
    "\n",
    "        if cnt == k:\n",
    "            ans += 1\n",
    "            cnt = 0\n",
    "    return ans >= m\n",
    "\n",
    "\n",
    "class Solution:\n",
    "    def minDays(self, bloomDay, m: int, k: int) -> int:\n",
    "        l, r = min(bloomDay), max(bloomDay)\n",
    "        ans = -1\n",
    "        while l <= r:\n",
    "            mid = l + (r - l) // 2\n",
    "            if canMakeBouquets(bloomDay, mid, m, k):\n",
    "                ans = mid\n",
    "                r = mid - 1\n",
    "            else:\n",
    "                l = mid + 1\n",
    "        return ans"
   ]
  },
  {
   "cell_type": "markdown",
   "metadata": {},
   "source": [
    "he weights of the packages are given in an array 'weights'. The packages are loaded on the conveyor belts every day in the same order as they appear in the array. The loaded weights must not exceed the maximum weight capacity of the ship.\n",
    "\n",
    "\n",
    "\n",
    "Find out the least-weight capacity so that you can ship all the packages within 'd' days.\n",
    "\n",
    "In the test case, the given weights are [5,4,5,2,3,4,5,6]\n",
    "and these are needed to be shipped in 5 days."
   ]
  },
  {
   "cell_type": "code",
   "execution_count": null,
   "metadata": {},
   "outputs": [],
   "source": [
    "from os import *\n",
    "from sys import *\n",
    "from collections import *\n",
    "from math import *\n",
    "\n",
    "\n",
    "def possible(w, mid, d):\n",
    "    curr = 0\n",
    "    days = 1\n",
    "    for x in w:\n",
    "        if x + curr <= mid:\n",
    "            curr += x\n",
    "        else:\n",
    "            days += 1\n",
    "            curr = x\n",
    "    return days <= d\n",
    "\n",
    "\n",
    "def leastWeightCapacity(weights, d):\n",
    "    r = sum(weights)\n",
    "    l = max(weights)\n",
    "    ans = -1\n",
    "\n",
    "    while l <= r:\n",
    "        mid = l + (r - l) // 2\n",
    "        if possible(weights, mid, d):\n",
    "            ans = mid\n",
    "            r = mid - 1\n",
    "        else:\n",
    "            l = mid + 1\n",
    "    return ans"
   ]
  },
  {
   "cell_type": "markdown",
   "metadata": {},
   "source": [
    "Given an integer array nums and an integer k, split nums into k non-empty subarrays such that the largest sum of any subarray is minimized.\n",
    "\n",
    "Return the minimized largest sum of the split.\n",
    "\n",
    "A subarray is a contiguous part of the array."
   ]
  },
  {
   "cell_type": "code",
   "execution_count": 11,
   "metadata": {},
   "outputs": [
    {
     "data": {
      "text/plain": [
       "18"
      ]
     },
     "execution_count": 11,
     "metadata": {},
     "output_type": "execute_result"
    }
   ],
   "source": [
    "def is_possible(nums, maxSum):\n",
    "    partitions = 1\n",
    "    subSum = 0\n",
    "    for num in nums:\n",
    "        if subSum + num <= maxSum:\n",
    "            subSum += num\n",
    "        else:\n",
    "            partitions += 1\n",
    "            subSum = num\n",
    "    return partitions\n",
    "\n",
    "\n",
    "def splitArray(nums, k: int) -> int:\n",
    "    left = max(nums)\n",
    "    right = sum(nums)\n",
    "    ans = right\n",
    "    while left <= right:\n",
    "        mid = (left + right) // 2\n",
    "        p = is_possible(nums, mid)\n",
    "        if p > k:\n",
    "            left = mid + 1\n",
    "\n",
    "        else:\n",
    "            # if p==k:\n",
    "            #     ans = min(mid ,ans)\n",
    "            ans = mid\n",
    "            right = mid - 1\n",
    "    return ans\n",
    "\n",
    "\n",
    "# Input: nums = [7,2,5,10,8], k = 2\n",
    "# Output: 18\n",
    "# Explanation: There are four ways to split nums into two subarrays.\n",
    "# The best way is to split it into [7,2,5] and [10,8], where the largest sum among the two subarrays is only 18.\n",
    "nums = [7, 2, 5, 10, 8]\n",
    "k = 2\n",
    "splitArray(nums, k)"
   ]
  },
  {
   "cell_type": "markdown",
   "metadata": {},
   "source": [
    "Ninja bought chocolate consisting of some chunks. The sweetness of each chunk is given in an array ‘ARR’. Ninja has ‘K’ friends, and he wishes to divide\n",
    "\n",
    " the chocolate into 'K' + 1 cut with some consecutive chunks. He wants to divide the chocolate into chunks under the condition that he will take the piece \n",
    " \n",
    " that has the minimum total sweetness."
   ]
  },
  {
   "cell_type": "code",
   "execution_count": 18,
   "metadata": {},
   "outputs": [
    {
     "data": {
      "text/plain": [
       "17"
      ]
     },
     "execution_count": 18,
     "metadata": {},
     "output_type": "execute_result"
    }
   ],
   "source": [
    "arr = [5, 6, 7, 8, 9, 10, 11, 12, 13]\n",
    "\n",
    "\n",
    "def check(mini, arr, n):\n",
    "    count = 0\n",
    "    sum_ = 0\n",
    "    for i in range(n):\n",
    "        sum_ += arr[i]\n",
    "        if sum_ >= mini:\n",
    "            count += 1\n",
    "            sum_ = 0\n",
    "    return count\n",
    "\n",
    "\n",
    "def maxSweetness(arr, N, K):\n",
    "    low = float(\"inf\")\n",
    "    high = 0\n",
    "    ans = 0\n",
    "    for i in range(N):\n",
    "        low = min(low, arr[i])\n",
    "        high += arr[i]\n",
    "    while low <= high:\n",
    "        mid = (low + high) // 2\n",
    "        if check(mid, arr, N) >= (K + 1):\n",
    "            ans = mid\n",
    "            low = mid + 1\n",
    "        else:\n",
    "            high = mid - 1\n",
    "    return ans\n",
    "\n",
    "\n",
    "k = 3\n",
    "maxSweetness(arr, len(arr), k)\n",
    "# [5, 6, 7, 8, 9, 10, 11, 12, 13] and Ninja has 3 friends. So, it is to be divided among 4 people including Ninja himself.\n",
    "# In order to maximize the total sweetness of Ninja, one possible division is [5, 6, 7], [8, 9], [10, 11], [12, 13].\n",
    "# The minimum sweetness of one part is 17. So, the answer is 17."
   ]
  },
  {
   "cell_type": "markdown",
   "metadata": {},
   "source": [
    "Your task is to determine the minimum number of elements that should be removed from the array such that the difference between the maximum and the minimum \n",
    "\n",
    "element in the remaining array is less than or equal to K."
   ]
  },
  {
   "cell_type": "code",
   "execution_count": 19,
   "metadata": {},
   "outputs": [
    {
     "name": "stdout",
     "output_type": "stream",
     "text": [
      "5\n"
     ]
    }
   ],
   "source": [
    "# minimum removals to\n",
    "# make max-min <= K\n",
    "MAX = 100\n",
    "dp = [[0 for i in range(MAX)] for i in range(MAX)]\n",
    "for i in range(0, MAX):\n",
    "    for j in range(0, MAX):\n",
    "        dp[i][j] = -1\n",
    "\n",
    "\n",
    "# function to check all\n",
    "# possible combinations\n",
    "# of removal and return\n",
    "# the minimum one\n",
    "def countRemovals(a, i, j, k):\n",
    "\n",
    "    global dp\n",
    "\n",
    "    # base case when all\n",
    "    # elements are removed\n",
    "    if i >= j:\n",
    "        return 0\n",
    "\n",
    "    # if condition is satisfied,\n",
    "    # no more removals are required\n",
    "    elif (a[j] - a[i]) <= k:\n",
    "        return 0\n",
    "\n",
    "    # if the state has\n",
    "    # already been visited\n",
    "    elif dp[i][j] != -1:\n",
    "        return dp[i][j]\n",
    "\n",
    "    # when Amax-Amin>d\n",
    "    elif (a[j] - a[i]) > k:\n",
    "\n",
    "        # minimum is taken of\n",
    "        # the removal of minimum\n",
    "        # element or removal of\n",
    "        # the maximum element\n",
    "        dp[i][j] = 1 + min(countRemovals(a, i + 1, j, k), countRemovals(a, i, j - 1, k))\n",
    "    return dp[i][j]\n",
    "\n",
    "\n",
    "# To sort the array\n",
    "# and return the answer\n",
    "def removals(a, n, k):\n",
    "\n",
    "    # sort the array\n",
    "    a.sort()\n",
    "\n",
    "    # fill all stated\n",
    "    # with -1 when only\n",
    "    # one element\n",
    "    if n == 1:\n",
    "        return 0\n",
    "    else:\n",
    "        return countRemovals(a, 0, n - 1, k)\n",
    "\n",
    "\n",
    "# Driver Code\n",
    "a = [1, 3, 4, 9, 10, 11, 12, 17, 20]\n",
    "n = len(a)\n",
    "k = 4\n",
    "print(removals(a, n, k))"
   ]
  },
  {
   "cell_type": "code",
   "execution_count": 20,
   "metadata": {},
   "outputs": [
    {
     "name": "stdout",
     "output_type": "stream",
     "text": [
      "5\n"
     ]
    }
   ],
   "source": [
    "# Python program for the above approach\n",
    "def removal(a, n, k):\n",
    "    # sort the array\n",
    "    a.sort()\n",
    "    # to store the max length of\n",
    "    # array with difference <= k\n",
    "    maxLen = 0\n",
    "    # pointer to keep track of starting of each subarray\n",
    "    i = 0\n",
    "    for j in range(0, n):\n",
    "        # if the subarray from i to j index is valid\n",
    "        # the store it's length\n",
    "        if a[j] - a[i] <= k:\n",
    "            maxLen = max(maxLen, j - i + 1)\n",
    "        # if subarray difference exceeds k\n",
    "        # change starting position, i.e. i\n",
    "        else:\n",
    "            i = i + 1\n",
    "\n",
    "        if i >= n:\n",
    "            break\n",
    "    remove = n - maxLen\n",
    "    return remove\n",
    "\n",
    "\n",
    "# Driver Code\n",
    "a = [1, 3, 4, 9, 10, 11, 12, 17, 20]\n",
    "n = len(a)\n",
    "k = 4\n",
    "\n",
    "print(removal(a, n, k))"
   ]
  },
  {
   "cell_type": "markdown",
   "metadata": {},
   "source": [
    "Given two sorted arrays arr1 and arr2 of size m and n respectively, return the median of the two sorted arrays."
   ]
  },
  {
   "cell_type": "code",
   "execution_count": 21,
   "metadata": {},
   "outputs": [
    {
     "name": "stdout",
     "output_type": "stream",
     "text": [
      "The median of two sorted arrays is 6.0\n"
     ]
    }
   ],
   "source": [
    "def median(a, b):\n",
    "    # size of two given arrays:\n",
    "    n1, n2 = len(a), len(b)\n",
    "    n = n1 + n2  # total size\n",
    "    # required indices:\n",
    "    ind2 = n // 2\n",
    "    ind1 = ind2 - 1\n",
    "    cnt = 0\n",
    "    ind1el, ind2el = -1, -1\n",
    "\n",
    "    # apply the merge step:\n",
    "    i, j = 0, 0\n",
    "    while i < n1 and j < n2:\n",
    "        if a[i] < b[j]:\n",
    "            if cnt == ind1:\n",
    "                ind1el = a[i]\n",
    "            if cnt == ind2:\n",
    "                ind2el = a[i]\n",
    "            cnt += 1\n",
    "            i += 1\n",
    "        else:\n",
    "            if cnt == ind1:\n",
    "                ind1el = b[j]\n",
    "            if cnt == ind2:\n",
    "                ind2el = b[j]\n",
    "            cnt += 1\n",
    "            j += 1\n",
    "\n",
    "    # copy the left-out elements:\n",
    "    while i < n1:\n",
    "        if cnt == ind1:\n",
    "            ind1el = a[i]\n",
    "        if cnt == ind2:\n",
    "            ind2el = a[i]\n",
    "        cnt += 1\n",
    "        i += 1\n",
    "    while j < n2:\n",
    "        if cnt == ind1:\n",
    "            ind1el = b[j]\n",
    "        if cnt == ind2:\n",
    "            ind2el = b[j]\n",
    "        cnt += 1\n",
    "        j += 1\n",
    "\n",
    "    # Find the median:\n",
    "    if n % 2 == 1:\n",
    "        return float(ind2el)\n",
    "\n",
    "    return float(ind1el + ind2el) / 2.0\n",
    "\n",
    "\n",
    "if __name__ == \"__main__\":\n",
    "    a = [1, 4, 7, 10, 12]\n",
    "    b = [2, 3, 6, 15]\n",
    "    print(\"The median of two sorted arrays is\", \"{:.1f}\".format(median(a, b)))"
   ]
  },
  {
   "attachments": {
    "image.png": {
     "image/png": "[encoded data removed]"
    }
   },
   "cell_type": "markdown",
   "metadata": {},
   "source": [
    "![image.png](attachment:image.png)"
   ]
  },
  {
   "attachments": {
    "image.png": {
     "image/png": "[encoded data removed]"
    }
   },
   "cell_type": "markdown",
   "metadata": {},
   "source": [
    "![image.png](attachment:image.png)"
   ]
  },
  {
   "attachments": {
    "image.png": {
     "image/png": "[encoded data removed]"
    }
   },
   "cell_type": "markdown",
   "metadata": {},
   "source": [
    "![image.png](attachment:image.png)\n",
    "\n",
    "\n",
    "How to check if the merged array is sorted without forming the array:\n",
    "\n",
    "In order to check we will consider 4 elements, i.e. l1, l2, r1, r2.\n",
    "\n",
    "l1 = the maximum element belonging to arr1[] of the left half.\n",
    "\n",
    "l2 = the maximum element belonging to arr2[] of the left half.\n",
    "\n",
    "r1 = the minimum element belonging to arr1[] of the right half.\n",
    "\n",
    "r1 = the minimum element belonging to arr2[] of the right half."
   ]
  },
  {
   "cell_type": "markdown",
   "metadata": {},
   "source": [
    "Eliminate the halves based on the following conditions:\n",
    "\n",
    "If l1 <= r2 && l2 <= r1: We have found the answer.\n",
    "If (n1+n2) is odd: Return the median = max(l1, l2).\n",
    "Otherwise: Return median = (max(l1, l2)+min(r1, r2)) / 2.0\n",
    "\n",
    "If l1 > r2: This implies that we have considered more elements from arr1[] than necessary. So, we have to take less elements from arr1[] and more from arr2\n",
    "[]. In such a scenario, we should try smaller values of x. To achieve this, we will eliminate the right half (high = mid1-1).\n",
    "\n",
    "If l2 > r1: This implies that we have considered more elements from arr2[] than necessary. So, we have to take less elements from arr2[] and more from arr1[]. In such a scenario, we should try bigger values of x. To achieve this, we will eliminate the left half (low = mid1+1)."
   ]
  },
  {
   "cell_type": "code",
   "execution_count": 22,
   "metadata": {},
   "outputs": [
    {
     "name": "stdout",
     "output_type": "stream",
     "text": [
      "The median of two sorted arrays is 6.0\n"
     ]
    }
   ],
   "source": [
    "def median(a, b):\n",
    "    n1, n2 = len(a), len(b)\n",
    "    # if n1 is bigger swap the arrays:\n",
    "    if n1 > n2:\n",
    "        return median(b, a)\n",
    "\n",
    "    n = n1 + n2  # total length\n",
    "    left = (n1 + n2 + 1) // 2  # length of left half\n",
    "    # apply binary search:\n",
    "    low, high = 0, n1\n",
    "    while low <= high:\n",
    "        mid1 = (low + high) // 2\n",
    "        mid2 = left - mid1\n",
    "        # calculate l1, l2, r1, and r2;\n",
    "        l1, l2, r1, r2 = float(\"-inf\"), float(\"-inf\"), float(\"inf\"), float(\"inf\")\n",
    "        if mid1 < n1:\n",
    "            r1 = a[mid1]\n",
    "        if mid2 < n2:\n",
    "            r2 = b[mid2]\n",
    "        if mid1 - 1 >= 0:\n",
    "            l1 = a[mid1 - 1]\n",
    "        if mid2 - 1 >= 0:\n",
    "            l2 = b[mid2 - 1]\n",
    "\n",
    "        if l1 <= r2 and l2 <= r1:\n",
    "            if n % 2 == 1:\n",
    "                return max(l1, l2)\n",
    "            else:\n",
    "                return (float(max(l1, l2)) + float(min(r1, r2))) / 2.0\n",
    "\n",
    "        # eliminate the halves:\n",
    "        elif l1 > r2:\n",
    "            high = mid1 - 1\n",
    "        else:\n",
    "            low = mid1 + 1\n",
    "    return 0  # dummy statement\n",
    "\n",
    "\n",
    "a = [1, 4, 7, 10, 12]\n",
    "b = [2, 3, 6, 15]\n",
    "print(\"The median of two sorted arrays is {:.1f}\".format(median(a, b)))"
   ]
  },
  {
   "cell_type": "markdown",
   "metadata": {},
   "source": [
    "https://takeuforward.org/data-structure/k-th-element-of-two-sorted-arrays/"
   ]
  },
  {
   "attachments": {
    "image.png": {
     "image/png": "[encoded data removed]"
    }
   },
   "cell_type": "markdown",
   "metadata": {},
   "source": [
    "![image.png](attachment:image.png)"
   ]
  },
  {
   "cell_type": "markdown",
   "metadata": {},
   "source": [
    "Place the 2 pointers i.e. low and high: Initially, we will place the pointers. The pointer low will point to max(0, k-n2), and the high will point to min\n",
    "\n",
    "(k, n1) (i.e. n1 = The size of the smaller array, n2 = the size of the bigger array)."
   ]
  },
  {
   "cell_type": "code",
   "execution_count": 23,
   "metadata": {},
   "outputs": [
    {
     "name": "stdout",
     "output_type": "stream",
     "text": [
      "The k-th element of two sorted arrays is: 6\n"
     ]
    }
   ],
   "source": [
    "def kthElement(a, b, m, n, k):\n",
    "    if m > n:\n",
    "        return kthElement(b, a, n, m, k)\n",
    "\n",
    "    left = k  # length of left half\n",
    "\n",
    "    # apply binary search:\n",
    "    low = max(0, k - n)\n",
    "    high = min(k, m)\n",
    "    while low <= high:\n",
    "        mid1 = (low + high) // 2\n",
    "        mid2 = left - mid1\n",
    "        # calculate l1, l2, r1, and r2\n",
    "        l1 = float(\"-inf\")\n",
    "        l2 = float(\"-inf\")\n",
    "        r1 = float(\"inf\")\n",
    "        r2 = float(\"inf\")\n",
    "        if mid1 < m:\n",
    "            r1 = a[mid1]\n",
    "        if mid2 < n:\n",
    "            r2 = b[mid2]\n",
    "        if mid1 - 1 >= 0:\n",
    "            l1 = a[mid1 - 1]\n",
    "        if mid2 - 1 >= 0:\n",
    "            l2 = b[mid2 - 1]\n",
    "\n",
    "        if l1 <= r2 and l2 <= r1:\n",
    "            return max(l1, l2)\n",
    "\n",
    "        # eliminate the halves:\n",
    "        elif l1 > r2:\n",
    "            high = mid1 - 1\n",
    "        else:\n",
    "            low = mid1 + 1\n",
    "\n",
    "    return 0  # dummy statement\n",
    "\n",
    "\n",
    "a = [2, 3, 6, 7, 9]\n",
    "b = [1, 4, 8, 10]\n",
    "print(\"The k-th element of two sorted arrays is:\", kthElement(a, b, len(a), len(b), 5))"
   ]
  },
  {
   "cell_type": "code",
   "execution_count": null,
   "metadata": {},
   "outputs": [],
   "source": []
  },
  {
   "cell_type": "markdown",
   "metadata": {},
   "source": [
    "The task is to split the array into minimum number of strictly decreasing subsequences.\n",
    "\n",
    "Calculate the minimum number of subsequences we can get by splitting."
   ]
  },
  {
   "cell_type": "markdown",
   "metadata": {},
   "source": [
    "If we observe carefully, we can see that the Minimum number of decreasing subsequences is equal to the length of longest increasing subsequence\n",
    "where each element from the longest\n",
    "increasing subsequence belongs to a single decreasing subsequence, so it can be found in N*Log(N)."
   ]
  },
  {
   "cell_type": "code",
   "execution_count": null,
   "metadata": {},
   "outputs": [],
   "source": [
    "class Solution:\n",
    "    # Function to find the length of the minimum decreasing subsequence.\n",
    "    def min_decreasing_sub(self, N, arr):\n",
    "        # Initialize a list to store the elements of the decreasing subsequence.\n",
    "        seq = [arr[0]]\n",
    "\n",
    "        # Iterate through the array starting from the second element.\n",
    "        for i in range(1, N):\n",
    "            # Find the position where the current element should be inserted in the sequence.\n",
    "            ind = self.binary_search(seq, arr[i])\n",
    "\n",
    "            # If the position is equal to the size of the sequence, add the element to the end.\n",
    "            if ind == len(seq):\n",
    "                seq.append(arr[i])\n",
    "            # Otherwise, replace the element at the found position with the current element.\n",
    "            else:\n",
    "                seq[ind] = arr[i]\n",
    "\n",
    "        # Return the size of the sequence as the result.\n",
    "        return len(seq)\n",
    "\n",
    "    # Custom binary search function\n",
    "    def binary_search(self, seq, target):\n",
    "        low, high = 0, len(seq)\n",
    "\n",
    "        while low < high:\n",
    "            mid = (low + high) // 2\n",
    "\n",
    "            if seq[mid] < target:\n",
    "                low = mid + 1\n",
    "            else:\n",
    "                high = mid\n",
    "\n",
    "        return low\n",
    "\n",
    "\n",
    "# Example usage\n",
    "arr = [5, 2, 7, 8, 6]\n",
    "N = len(arr)\n",
    "\n",
    "solution = Solution()\n",
    "result = solution.min_decreasing_sub(N, arr)\n",
    "\n",
    "# Display the result.\n",
    "print(\"Length of the minimum decreasing subsequence:\", result)"
   ]
  },
  {
   "cell_type": "code",
   "execution_count": 30,
   "metadata": {},
   "outputs": [
    {
     "name": "stdout",
     "output_type": "stream",
     "text": [
      "14\n"
     ]
    }
   ],
   "source": [
    "# Python3 implementation of the approach\n",
    "\n",
    "\n",
    "# Function to return the minimum number of\n",
    "# increment operations required to make\n",
    "# any k elements of the array equal\n",
    "def minOperations(ar, k):\n",
    "\n",
    "    # Sort the array in increasing order\n",
    "    ar = sorted(ar)\n",
    "\n",
    "    # Calculate the number of operations\n",
    "    # needed to make 1st k elements equal to\n",
    "    # the kth element i.e. the 1st window\n",
    "    opsNeeded = 0\n",
    "    for i in range(k):\n",
    "        opsNeeded += ar[k - 1] - ar[i]\n",
    "\n",
    "    # Answer will be the minimum of all\n",
    "    # possible k sized windows\n",
    "    ans = opsNeeded\n",
    "\n",
    "    # Find the operations needed to make\n",
    "    # k elements equal to ith element\n",
    "    for i in range(k, len(ar)):\n",
    "\n",
    "        # Slide the window to the right and\n",
    "        # subtract increments spent on leftmost\n",
    "        # element of the previous window\n",
    "        opsNeeded = opsNeeded - (ar[i - 1] - ar[i - k])\n",
    "\n",
    "        # Add increments needed to make the 1st k-1\n",
    "        # elements of this window equal to the\n",
    "        # kth element of the current window\n",
    "        opsNeeded += (k - 1) * (ar[i] - ar[i - 1])\n",
    "        ans = min(ans, opsNeeded)\n",
    "\n",
    "    return ans\n",
    "\n",
    "\n",
    "# Driver code\n",
    "arr = [3, 1, 9, 100]\n",
    "n = len(arr)\n",
    "k = 3\n",
    "\n",
    "print(minOperations(arr, k))\n",
    "\n",
    "# This code is contributed by Mohit Kumar"
   ]
  },
  {
   "cell_type": "code",
   "execution_count": 3,
   "metadata": {},
   "outputs": [
    {
     "name": "stdout",
     "output_type": "stream",
     "text": [
      "[3, 4, 5]\n",
      "[3, 4, 6]\n",
      "[3, 5, 6]\n",
      "[3, 4, 5]\n",
      "[3, 4, 6]\n",
      "[3, 5, 6]\n",
      "[4, 5, 6]\n"
     ]
    }
   ],
   "source": [
    "a = [3, 3, 4, 5, 6]\n",
    "\n",
    "\n",
    "def solve(i, a, ans, prev):\n",
    "    if len(ans) == 3:\n",
    "        print(ans)\n",
    "        return\n",
    "    if i >= len(a):\n",
    "        return\n",
    "    if prev == -1 or prev < a[i]:\n",
    "        ans.append(a[i])\n",
    "        solve(i + 1, a, ans, a[i])\n",
    "        ans.pop()\n",
    "    solve(i + 1, a, ans, prev)\n",
    "\n",
    "\n",
    "solve(0, a, [], -1)"
   ]
  },
  {
   "cell_type": "code",
   "execution_count": null,
   "metadata": {},
   "outputs": [],
   "source": [
    "def solve(i, a, ans, prev, dp):\n",
    "    if ans == 3:\n",
    "        return 1\n",
    "    if i >= len(a):\n",
    "        return 0\n",
    "    if (i, prev, ans) in dp:\n",
    "        return dp[(i, prev, ans)]\n",
    "    inc = 0\n",
    "    if prev == -1 or prev < a[i]:\n",
    "\n",
    "        inc = solve(i + 1, a, ans + 1, a[i], dp)\n",
    "    exc = solve(i + 1, a, ans, prev, dp)\n",
    "    dp[(i, prev, ans)] = inc + exc\n",
    "    return dp[(i, prev, ans)]\n",
    "\n",
    "\n",
    "def solve_(arr, n):\n",
    "    #  Variable to store the count of required triplet of people.\n",
    "    count = 0\n",
    "\n",
    "    #  Iterate through the \"arr\".\n",
    "    for i in range(n):\n",
    "\n",
    "        #  Variables to store the left and right count of people having heights less and more, respectively.\n",
    "        left, right = 0, 0\n",
    "\n",
    "        #  Again, iterate.\n",
    "        for j in range(n):\n",
    "\n",
    "            #  Check the required conditions for \"left\" and If found true then increment its value by 1.\n",
    "            if j < i and arr[j] < arr[i]:\n",
    "                left = left + 1\n",
    "\n",
    "            #  Check the required conditions for \"right\" and If found true then increment its value by 1.\n",
    "            if j > i and arr[j] > arr[i]:\n",
    "                right = right + 1\n",
    "\n",
    "        #  Increment the \"count\" by the number of triplets possible when the middle person is always arr[i].\n",
    "        count = count + left * right\n",
    "\n",
    "    #  Return the count.\n",
    "    return count\n",
    "\n",
    "\n",
    "# the selection can be made as [1, 2, 3], [1, 2, 4], [1, 3, 4], and [2, 3, 4] for [1,2,3,4]"
   ]
  }
 ],
 "metadata": {
  "kernelspec": {
   "display_name": "Python 3",
   "language": "python",
   "name": "python3"
  },
  "language_info": {
   "codemirror_mode": {
    "name": "ipython",
    "version": 3
   },
   "file_extension": ".py",
   "mimetype": "text/x-python",
   "name": "python",
   "nbconvert_exporter": "python",
   "pygments_lexer": "ipython3",
   "version": "3.11.6"
  }
 },
 "nbformat": 4,
 "nbformat_minor": 2
}
