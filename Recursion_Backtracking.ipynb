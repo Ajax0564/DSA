{
 "cells": [
  {
   "cell_type": "code",
   "execution_count": 9,
   "metadata": {},
   "outputs": [
    {
     "data": {
      "text/plain": [
       "[1, 2, 3, 2, 4, 5, 1, 0, 0, 0]"
      ]
     },
     "execution_count": 9,
     "metadata": {},
     "output_type": "execute_result"
    }
   ],
   "source": [
    "arr = [1, 0, 2, 3, 2, 0, 0, 4, 5, 1]\n",
    "i = arr.index(0)\n",
    "for j in range(i, len(arr)):\n",
    "    if arr[j] != 0:\n",
    "        arr[i], arr[j] = arr[j], arr[i]\n",
    "        i += 1\n",
    "arr"
   ]
  },
  {
   "cell_type": "code",
   "execution_count": 13,
   "metadata": {},
   "outputs": [
    {
     "name": "stdout",
     "output_type": "stream",
     "text": [
      "[1, 3, 2] 1\n",
      "The next permutation is: [1 3 2 ]\n"
     ]
    }
   ],
   "source": [
    "from typing import List\n",
    "\n",
    "\n",
    "def nextGreaterPermutation(A: List[int]) -> List[int]:\n",
    "    n = len(A)  # size of the array.\n",
    "\n",
    "    # Step 1: Find the break point:\n",
    "    ind = -1  # break point\n",
    "    for i in range(n - 2, -1, -1):\n",
    "        if A[i] < A[i + 1]:\n",
    "            # index i is the break point\n",
    "            ind = i\n",
    "            break\n",
    "\n",
    "    # If break point does not exist:\n",
    "    if ind == -1:\n",
    "        # reverse the whole array:\n",
    "        A.reverse()\n",
    "        return A\n",
    "\n",
    "    # Step 2: Find the next greater element\n",
    "    #         and swap it with arr[ind]:\n",
    "    for i in range(n - 1, ind, -1):\n",
    "        if A[i] > A[ind]:\n",
    "            A[i], A[ind] = A[ind], A[i]\n",
    "            break\n",
    "    print(A, ind)\n",
    "    # Step 3: reverse the right half:\n",
    "    A[ind + 1 :] = reversed(A[ind + 1 :])\n",
    "\n",
    "    return A\n",
    "\n",
    "\n",
    "if __name__ == \"__main__\":\n",
    "    A = [1, 2, 3]\n",
    "    ans = nextGreaterPermutation(A)\n",
    "\n",
    "    print(\"The next permutation is: [\", end=\"\")\n",
    "    for it in ans:\n",
    "        print(it, end=\" \")\n",
    "    print(\"]\")"
   ]
  },
  {
   "cell_type": "code",
   "execution_count": 3,
   "metadata": {},
   "outputs": [
    {
     "name": "stdout",
     "output_type": "stream",
     "text": [
      "The index is: 2\n"
     ]
    }
   ],
   "source": [
    "def searchInsert(arr: [int], x: int) -> int:\n",
    "    n = len(arr)  # size of the array\n",
    "    low = 0\n",
    "    high = n - 1\n",
    "    ans = n\n",
    "\n",
    "    while low <= high:\n",
    "        mid = (low + high) // 2\n",
    "        # maybe an answer\n",
    "        if arr[mid] > x:\n",
    "\n",
    "            # look for smaller index on the left\n",
    "            high = mid - 1\n",
    "        else:\n",
    "            ans = mid\n",
    "            low = mid + 1  # look on the right\n",
    "\n",
    "    return ans\n",
    "\n",
    "\n",
    "if __name__ == \"__main__\":\n",
    "    arr = [1, 2, 4, 7]\n",
    "    x = 4\n",
    "    ind = searchInsert(arr, x)\n",
    "    print(\"The index is:\", ind)"
   ]
  },
  {
   "cell_type": "code",
   "execution_count": 5,
   "metadata": {},
   "outputs": [
    {
     "name": "stdout",
     "output_type": "stream",
     "text": [
      "4 7\n"
     ]
    }
   ],
   "source": [
    "arr = [3, 4, 4, 7, 8, 10]\n",
    "n = 6\n",
    "x = 5\n",
    "\n",
    "floor, ceil = -1, -1\n",
    "l, r = 0, len(arr) - 1\n",
    "while l <= r:\n",
    "    mid = l + (r - l) // 2\n",
    "    if arr[mid] == x:\n",
    "        floor, ceil = x, x\n",
    "        break\n",
    "    elif arr[mid] > x:\n",
    "        ceil = arr[mid]\n",
    "        r = mid - 1\n",
    "    else:\n",
    "        floor = arr[mid]\n",
    "        l = mid + 1\n",
    "\n",
    "print(floor, ceil)"
   ]
  },
  {
   "cell_type": "code",
   "execution_count": 12,
   "metadata": {},
   "outputs": [
    {
     "data": {
      "text/plain": [
       "2"
      ]
     },
     "execution_count": 12,
     "metadata": {},
     "output_type": "execute_result"
    }
   ],
   "source": [
    "arr = [3, 4, 13, 13, 13, 13, 20, 40]\n",
    "t = 13\n",
    "l, r = 0, len(arr) - 1\n",
    "index = -1\n",
    "while l <= r:\n",
    "    mid = l + (r - l) // 2\n",
    "    if arr[mid] < t:\n",
    "        l = mid + 1\n",
    "    else:\n",
    "        if arr[mid] == t:\n",
    "            index = mid\n",
    "        r = mid - 1\n",
    "index"
   ]
  },
  {
   "cell_type": "code",
   "execution_count": 21,
   "metadata": {},
   "outputs": [
    {
     "name": "stdout",
     "output_type": "stream",
     "text": [
      "[1, 2, 3]\n",
      "[1, 2]\n",
      "[1, 3]\n",
      "[1]\n",
      "[2, 3]\n",
      "[2]\n",
      "[3]\n",
      "[]\n"
     ]
    }
   ],
   "source": [
    "arr = [1, 2, 3]\n",
    "\n",
    "\n",
    "# every subsequence\n",
    "def solve(arr, i, n, ds):\n",
    "    if i >= n:\n",
    "        print(ds)\n",
    "        return\n",
    "\n",
    "    ds.append(arr[i])\n",
    "    solve(arr, i + 1, n, ds)\n",
    "    ds.pop()\n",
    "    solve(arr, i + 1, n, ds)\n",
    "\n",
    "\n",
    "solve(arr, 0, 3, [])"
   ]
  },
  {
   "cell_type": "code",
   "execution_count": 25,
   "metadata": {},
   "outputs": [
    {
     "name": "stdout",
     "output_type": "stream",
     "text": [
      "[1, 2]\n",
      "[2, 1]\n"
     ]
    }
   ],
   "source": [
    "# all subsequence  with sum k no duplicate\n",
    "arr = [1, 2, 1]\n",
    "k = 3\n",
    "\n",
    "\n",
    "def solve(arr, i, n, k, ds):\n",
    "\n",
    "    if k == 0:\n",
    "        print(ds)\n",
    "        return\n",
    "    if i >= n:\n",
    "        return\n",
    "    if k >= arr[i]:\n",
    "        ds.append(arr[i])\n",
    "        solve(arr, i + 1, n, k - arr[i], ds)\n",
    "        ds.pop()\n",
    "    solve(arr, i + 1, n, k, ds)\n",
    "\n",
    "\n",
    "solve(arr, 0, 3, 3, [])"
   ]
  },
  {
   "cell_type": "code",
   "execution_count": 1,
   "metadata": {},
   "outputs": [
    {
     "name": "stdout",
     "output_type": "stream",
     "text": [
      "[1, 2]\n",
      "[2, 1]\n"
     ]
    }
   ],
   "source": [
    "# all subsequence  with sum k no duplicate\n",
    "arr = [1, 2, 1]\n",
    "k = 3\n",
    "\n",
    "\n",
    "def solve(arr, i, n, k, ds):\n",
    "\n",
    "    if k == 0:\n",
    "        print(ds)\n",
    "        return\n",
    "    if i >= n:\n",
    "        return\n",
    "    for j in range(i, n):\n",
    "        if k >= arr[j]:\n",
    "            ds.append(arr[j])\n",
    "            solve(arr, j + 1, n, k - arr[j], ds)\n",
    "            ds.pop()\n",
    "    # solve(arr, i + 1, n, k, ds)\n",
    "\n",
    "\n",
    "solve(arr, 0, 3, 3, [])"
   ]
  },
  {
   "cell_type": "code",
   "execution_count": 13,
   "metadata": {},
   "outputs": [
    {
     "name": "stdout",
     "output_type": "stream",
     "text": [
      "[1, 1, 1]\n",
      "[1, 1, 1]\n",
      "[1, 2]\n",
      "[1, 1, 1]\n",
      "[2, 1]\n",
      "[1, 1, 1]\n"
     ]
    }
   ],
   "source": [
    "# all subsequence  with sum k with duplicate\n",
    "arr = [1, 2, 1]\n",
    "k = 3\n",
    "\n",
    "\n",
    "def solve(arr, i, n, k, ds):\n",
    "\n",
    "    if k == 0:\n",
    "        print(ds)\n",
    "        return\n",
    "    if i >= n:\n",
    "        return\n",
    "    if k >= arr[i]:\n",
    "        ds.append(arr[i])\n",
    "        solve(arr, i, n, k - arr[i], ds)\n",
    "        ds.pop()\n",
    "    solve(arr, i + 1, n, k, ds)\n",
    "\n",
    "\n",
    "solve(arr, 0, 3, 3, [])"
   ]
  },
  {
   "cell_type": "code",
   "execution_count": 17,
   "metadata": {},
   "outputs": [
    {
     "name": "stdout",
     "output_type": "stream",
     "text": [
      "[1, 1, 1]\n",
      "[1, 2]\n"
     ]
    }
   ],
   "source": [
    "arr = [1, 2, 1]\n",
    "k = 3\n",
    "\n",
    "\n",
    "def solve(arr, i, n, k, ds):\n",
    "\n",
    "    if k == 0:\n",
    "        print(ds)\n",
    "        return\n",
    "    if i >= n:\n",
    "        return\n",
    "    if k >= arr[i]:\n",
    "        ds.append(arr[i])\n",
    "        solve(arr, i, n, k - arr[i], ds)\n",
    "        ds.pop()\n",
    "    while i < n - 1 and arr[i] == arr[i + 1]:\n",
    "        i = i + 1\n",
    "    solve(arr, i + 1, n, k, ds)\n",
    "\n",
    "\n",
    "arr.sort()\n",
    "solve(arr, 0, 3, 3, [])"
   ]
  },
  {
   "cell_type": "code",
   "execution_count": 7,
   "metadata": {},
   "outputs": [
    {
     "name": "stdout",
     "output_type": "stream",
     "text": [
      "[1, 1, 1]\n",
      "[1, 2]\n"
     ]
    }
   ],
   "source": [
    "# can use this approch or remove duplicate directly inside recursion\n",
    "arr.sort()\n",
    "prev = arr[0]\n",
    "temp = [arr[0]]\n",
    "for i in range(1, len(arr)):\n",
    "    if prev != arr[i]:\n",
    "        temp.append(arr[i])\n",
    "        prev = arr[i]\n",
    "solve(temp, 0, len(temp), k, [])"
   ]
  },
  {
   "cell_type": "code",
   "execution_count": 20,
   "metadata": {},
   "outputs": [
    {
     "name": "stdout",
     "output_type": "stream",
     "text": [
      "[1, 1, 1]\n",
      "[1, 1, 1]\n",
      "[1, 1, 1]\n",
      "[1, 2]\n",
      "[1, 1, 1]\n",
      "[1, 2]\n"
     ]
    }
   ],
   "source": [
    "arr = [1, 2, 1]\n",
    "k = 3\n",
    "arr.sort()\n",
    "\n",
    "\n",
    "def solve(arr, i, n, k, ds):\n",
    "\n",
    "    if k == 0:\n",
    "        print(ds)\n",
    "        return\n",
    "    if i >= n:\n",
    "        return\n",
    "    for j in range(i, n):\n",
    "        if j != i and arr[j] == arr[j - 1]:\n",
    "            continue\n",
    "        if k >= arr[j]:\n",
    "\n",
    "            ds.append(arr[j])\n",
    "            solve(arr, j, n, k - arr[j], ds)\n",
    "            ds.pop()\n",
    "    # solve(arr, i + 1, n, k, ds)\n",
    "\n",
    "\n",
    "solve(arr, 0, 3, 3, [])"
   ]
  },
  {
   "cell_type": "code",
   "execution_count": 9,
   "metadata": {},
   "outputs": [
    {
     "name": "stdout",
     "output_type": "stream",
     "text": [
      "ABC\n",
      "ACB\n",
      "BAC\n",
      "BCA\n",
      "CBA\n",
      "CAB\n"
     ]
    }
   ],
   "source": [
    "def toString(List):\n",
    "    return \"\".join(List)\n",
    "\n",
    "\n",
    "# Function to print permutations of string\n",
    "# This function takes three parameters:\n",
    "# 1. String\n",
    "# 2. Starting index of the string\n",
    "# 3. Ending index of the string.\n",
    "\n",
    "\n",
    "def permute(a, l, r):\n",
    "    if l == r:\n",
    "        print(toString(a))\n",
    "    else:\n",
    "        for i in range(l, r):\n",
    "            a[l], a[i] = a[i], a[l]\n",
    "            permute(a, l + 1, r)\n",
    "            a[l], a[i] = a[i], a[l]  # backtrack\n",
    "\n",
    "\n",
    "# Driver code\n",
    "string = \"ABC\"\n",
    "n = len(string)\n",
    "a = list(string)\n",
    "\n",
    "# Function call\n",
    "permute(a, 0, n)"
   ]
  },
  {
   "cell_type": "code",
   "execution_count": 21,
   "metadata": {},
   "outputs": [
    {
     "name": "stdout",
     "output_type": "stream",
     "text": [
      "ankit\n",
      "ankit\n"
     ]
    }
   ],
   "source": [
    "for i in range(5):\n",
    "    if i % 2 == 0:\n",
    "        continue\n",
    "    print(\"ankit\")"
   ]
  },
  {
   "cell_type": "code",
   "execution_count": 11,
   "metadata": {},
   "outputs": [
    {
     "data": {
      "text/plain": [
       "[1, 1, 1, 1, 1, 0, 0, 0]"
      ]
     },
     "execution_count": 11,
     "metadata": {},
     "output_type": "execute_result"
    }
   ],
   "source": [
    "arr = [1, 0, 1, 1, 1, 1, 0, 0]\n",
    "s = 0\n",
    "for i in range(len(arr)):\n",
    "    if arr[i] != 0:\n",
    "        arr[s], arr[i] = arr[i], arr[s]\n",
    "        s += 1\n",
    "arr"
   ]
  },
  {
   "cell_type": "code",
   "execution_count": 5,
   "metadata": {},
   "outputs": [
    {
     "name": "stdout",
     "output_type": "stream",
     "text": [
      "The longest sequence has length 7 from index 3 to 9\n"
     ]
    }
   ],
   "source": [
    "def findLongestSequence(A, k):\n",
    "\n",
    "    left = 0  # represents the current window's starting index\n",
    "    count = 0  # stores the total number of zeros in the current window\n",
    "    window = 0  # stores the maximum number of continuous 1's found\n",
    "    # so far (including `k` zeros)\n",
    "\n",
    "    leftIndex = 0  # stores the left index of maximum window found so far\n",
    "\n",
    "    # maintain a window `[left…right]` containing at most `k` zeros\n",
    "    for right in range(len(A)):\n",
    "\n",
    "        # if the current element is 0, increase the count of zeros in the\n",
    "        # current window by 1\n",
    "        if A[right] == 0:\n",
    "            count = count + 1\n",
    "\n",
    "        # the window becomes unstable if the total number of zeros in it becomes\n",
    "        # more than `k`\n",
    "        if count > k:\n",
    "            while count > k:\n",
    "                # if we have found zero, decrement the number of zeros in the\n",
    "                # current window by 1\n",
    "                if A[left] == 0:\n",
    "                    count = count - 1\n",
    "\n",
    "                # remove elements from the window's left side till the window\n",
    "                # becomes stable again\n",
    "                left = left + 1\n",
    "\n",
    "        # when we reach here, window `[left…right]` contains at most\n",
    "        # `k` zeros, and we update max window size and leftmost index\n",
    "        # of the window\n",
    "        if right - left + 1 > window:\n",
    "            window = right - left + 1\n",
    "            leftIndex = left\n",
    "\n",
    "    # no sequence found\n",
    "    if window == 0:\n",
    "        return\n",
    "\n",
    "    # print the maximum sequence of continuous 1's\n",
    "    print(\n",
    "        \"The longest sequence has length\",\n",
    "        window,\n",
    "        \"from index\",\n",
    "        leftIndex,\n",
    "        \"to\",\n",
    "        (leftIndex + window - 1),\n",
    "    )\n",
    "\n",
    "\n",
    "if __name__ == \"__main__\":\n",
    "\n",
    "    A = [1, 1, 0, 1, 1, 0, 1, 1, 1, 1, 0, 0]\n",
    "    k = 1\n",
    "\n",
    "    findLongestSequence(A, k)"
   ]
  },
  {
   "cell_type": "code",
   "execution_count": 2,
   "metadata": {},
   "outputs": [
    {
     "name": "stdout",
     "output_type": "stream",
     "text": [
      "ank\n"
     ]
    }
   ],
   "source": [
    "print(\"ank\")"
   ]
  },
  {
   "cell_type": "code",
   "execution_count": 3,
   "metadata": {},
   "outputs": [
    {
     "data": {
      "text/plain": [
       "[2, 3, 5, 6, 0, 0, 0, 0, 0]"
      ]
     },
     "execution_count": 3,
     "metadata": {},
     "output_type": "execute_result"
    }
   ],
   "source": [
    "arr = [0, 2, 0, 3, 0, 5, 6, 0, 0]\n",
    "s = 0\n",
    "for i in range(len(arr)):\n",
    "    if arr[i] != 0:\n",
    "        arr[s], arr[i] = arr[i], arr[s]\n",
    "        s += 1\n",
    "arr"
   ]
  },
  {
   "cell_type": "code",
   "execution_count": 3,
   "metadata": {},
   "outputs": [],
   "source": [
    "import torch"
   ]
  },
  {
   "cell_type": "code",
   "execution_count": null,
   "metadata": {},
   "outputs": [],
   "source": [
    "# if attention_mask is None:\n",
    "#             attention_mask = torch.ones(((batch_size, seq_length + past_key_values_length)), device=device)\n",
    "\n",
    "#         if token_type_ids is None:\n",
    "#             if hasattr(self.embeddings, \"token_type_ids\"):\n",
    "#                 buffered_token_type_ids = self.embeddings.token_type_ids[:, :seq_length]\n",
    "#                 buffered_token_type_ids_expanded = buffered_token_type_ids.expand(batch_size, seq_length)\n",
    "#                 token_type_ids = buffered_token_type_ids_expanded\n",
    "#             else:\n",
    "#                 token_type_ids = torch.zeros(input_shape, dtype=torch.long, device=device)\n",
    "\n",
    "#         # We can provide a self-attention mask of dimensions [batch_size, from_seq_length, to_seq_length]\n",
    "#         # ourselves in which case we just need to make it broadcastable to all heads.\n",
    "#         extended_attention_mask: torch.Tensor = self.get_extended_attention_mask(attention_mask, input_shape)\n",
    "\n",
    "#         # If a 2D or 3D attention mask is provided for the cross-attention\n",
    "#         # we need to make broadcastable to [batch_size, num_heads, seq_length, seq_length]\n",
    "#         if self.config.is_decoder and encoder_hidden_states is not None:\n",
    "#             encoder_batch_size, encoder_sequence_length, _ = encoder_hidden_states.size()\n",
    "#             encoder_hidden_shape = (encoder_batch_size, encoder_sequence_length)\n",
    "#             if encoder_attention_mask is None:\n",
    "#                 encoder_attention_mask = torch.ones(encoder_hidden_shape, device=device)\n",
    "#             encoder_extended_attention_mask = self.invert_attention_mask(encoder_attention_mask)\n",
    "#         else:\n",
    "#             encoder_extended_attention_mask = None"
   ]
  },
  {
   "cell_type": "code",
   "execution_count": 1,
   "metadata": {},
   "outputs": [],
   "source": [
    "def create_extended_attention_mask_for_decoder(\n",
    "    input_ids, attention_mask: torch.Tensor = None, start_pos: int = 0\n",
    "):\n",
    "    device = input_ids.device\n",
    "    batch_size, seq_length = input_ids.shape\n",
    "    if attention_mask is None:\n",
    "        attention_mask = (\n",
    "            torch.ones(seq_length + start_pos).repeat(batch_size, 1).to(device)\n",
    "        )\n",
    "    seq_ids = torch.arange(seq_length).to(device)\n",
    "    causal_mask = (\n",
    "        seq_ids[None, None, :].repeat(batch_size, seq_length, 1)\n",
    "        <= seq_ids[None, :, None]\n",
    "    )\n",
    "\n",
    "    causal_mask = causal_mask.to(attention_mask.dtype)\n",
    "\n",
    "    if start_pos > 0:\n",
    "        # torch.hstack(\n",
    "        # [torch.zeros((seqlen, start_pos), device=input_ids.device), mask]\n",
    "        causal_mask = torch.cat(\n",
    "            [\n",
    "                torch.ones(\n",
    "                    (batch_size, seq_length, start_pos),\n",
    "                    device=device,\n",
    "                    dtype=causal_mask.dtype,\n",
    "                ),\n",
    "                causal_mask,\n",
    "            ],\n",
    "            axis=-1,\n",
    "        )\n",
    "\n",
    "    extended_attention_mask = (\n",
    "        causal_mask[:, None, :, :] * attention_mask[:, None, None, :]\n",
    "    )\n",
    "    # extended_attention_mask = extended_attention_mask.to(\n",
    "    #     dtype=dtype\n",
    "    # )  # fp16 compatibility\n",
    "    extended_attention_mask = (1.0 - extended_attention_mask) * torch.finfo(\n",
    "        torch.float\n",
    "    ).min"
   ]
  },
  {
   "cell_type": "code",
   "execution_count": 4,
   "metadata": {},
   "outputs": [],
   "source": [
    "attention_mask = torch.tensor([[1, 1, 1, 0, 0], [1, 1, 1, 1, 0]])\n",
    "# if self.config.is_decoder and encoder_hidden_states is not None:\n",
    "# #             encoder_batch_size, encoder_sequence_length, _ = encoder_hidden_states.size()\n",
    "# #             encoder_hidden_shape = (encoder_batch_size, encoder_sequence_length)\n",
    "# #             if encoder_attention_mask is None:\n",
    "# #                 encoder_attention_mask = torch.ones(encoder_hidden_shape, device=device)\n",
    "# #             encoder_extended_attention_mask = self.invert_attention_mask(encoder_attention_mask)"
   ]
  },
  {
   "cell_type": "code",
   "execution_count": 5,
   "metadata": {},
   "outputs": [],
   "source": [
    "create_extended_attention_mask_for_decoder(input_ids=attention_mask, start_pos=2)"
   ]
  },
  {
   "cell_type": "code",
   "execution_count": 6,
   "metadata": {},
   "outputs": [
    {
     "data": {
      "text/plain": [
       "tensor([[1, 1, 1, 0, 0],\n",
       "        [1, 1, 1, 1, 0]])"
      ]
     },
     "execution_count": 6,
     "metadata": {},
     "output_type": "execute_result"
    }
   ],
   "source": [
    "attention_mask"
   ]
  },
  {
   "cell_type": "code",
   "execution_count": 6,
   "metadata": {},
   "outputs": [
    {
     "data": {
      "text/plain": [
       "torch.Size([1, 2, 5])"
      ]
     },
     "execution_count": 6,
     "metadata": {},
     "output_type": "execute_result"
    }
   ],
   "source": [
    "attention_mask[None, :].size()"
   ]
  },
  {
   "cell_type": "code",
   "execution_count": 7,
   "metadata": {},
   "outputs": [],
   "source": [
    "seq_length = 5"
   ]
  },
  {
   "cell_type": "code",
   "execution_count": 8,
   "metadata": {},
   "outputs": [
    {
     "data": {
      "text/plain": [
       "tensor([0, 1, 2, 3, 4])"
      ]
     },
     "execution_count": 8,
     "metadata": {},
     "output_type": "execute_result"
    }
   ],
   "source": [
    "seq_ids = torch.arange(seq_length)\n",
    "seq_ids"
   ]
  },
  {
   "cell_type": "code",
   "execution_count": 9,
   "metadata": {},
   "outputs": [
    {
     "data": {
      "text/plain": [
       "torch.Size([2, 5, 5])"
      ]
     },
     "execution_count": 9,
     "metadata": {},
     "output_type": "execute_result"
    }
   ],
   "source": [
    "seq_ids[None, None, :].repeat(2, seq_length, 1).size()"
   ]
  },
  {
   "cell_type": "code",
   "execution_count": 10,
   "metadata": {},
   "outputs": [],
   "source": [
    "# seq_ids = torch.arange(seq_length)\n",
    "causal_mask = seq_ids[None, None, :].repeat(2, seq_length, 1) <= seq_ids[None, :, None]"
   ]
  },
  {
   "cell_type": "code",
   "execution_count": 12,
   "metadata": {},
   "outputs": [
    {
     "data": {
      "text/plain": [
       "tensor([[[1, 0, 0, 0, 0],\n",
       "         [1, 1, 0, 0, 0],\n",
       "         [1, 1, 1, 0, 0],\n",
       "         [1, 1, 1, 1, 0],\n",
       "         [1, 1, 1, 1, 1]],\n",
       "\n",
       "        [[1, 0, 0, 0, 0],\n",
       "         [1, 1, 0, 0, 0],\n",
       "         [1, 1, 1, 0, 0],\n",
       "         [1, 1, 1, 1, 0],\n",
       "         [1, 1, 1, 1, 1]]])"
      ]
     },
     "execution_count": 12,
     "metadata": {},
     "output_type": "execute_result"
    }
   ],
   "source": [
    "causal_mask.to(attention_mask.dtype)"
   ]
  },
  {
   "cell_type": "code",
   "execution_count": 42,
   "metadata": {},
   "outputs": [
    {
     "data": {
      "text/plain": [
       "tensor([[0., 0., 0., 1., 1., 1., 1.],\n",
       "        [0., 0., 0., 0., 1., 1., 1.],\n",
       "        [0., 0., 0., 0., 0., 1., 1.],\n",
       "        [0., 0., 0., 0., 0., 0., 1.],\n",
       "        [0., 0., 0., 0., 0., 0., 0.]])"
      ]
     },
     "execution_count": 42,
     "metadata": {},
     "output_type": "execute_result"
    }
   ],
   "source": [
    "seqlen = 5\n",
    "start_pos = 0\n",
    "mask = torch.full((seqlen, seqlen), 1)\n",
    "\n",
    "mask = torch.triu(mask, diagonal=1)\n",
    "\n",
    "# When performing key-value caching, we compute the attention scores\n",
    "# only for the new sequence. Thus, the matrix of scores is of size\n",
    "# (seqlen, cache_len + seqlen), and the only masked entries are (i, j) for\n",
    "# j > cache_len + i, since row i corresponds to token cache_len + i.\n",
    "mask = torch.hstack([torch.zeros((seqlen, start_pos)), mask])\n",
    "mask"
   ]
  },
  {
   "cell_type": "code",
   "execution_count": 22,
   "metadata": {},
   "outputs": [
    {
     "data": {
      "text/plain": [
       "tensor([[1., 1., 1., 1., 1.],\n",
       "        [1., 1., 1., 1., 1.]])"
      ]
     },
     "execution_count": 22,
     "metadata": {},
     "output_type": "execute_result"
    }
   ],
   "source": [
    "torch.ones(5).repeat(2, 1)"
   ]
  },
  {
   "cell_type": "code",
   "execution_count": 1,
   "metadata": {},
   "outputs": [
    {
     "name": "stdout",
     "output_type": "stream",
     "text": [
      "The target element is not found in the array\n"
     ]
    }
   ],
   "source": [
    "def search_in_bitonic_array(arr, target):\n",
    "    \"\"\"\n",
    "    Searches for a target element in a bitonic array.\n",
    "\n",
    "    Args:\n",
    "        arr: A bitonic array.\n",
    "        target: The target element to search for.\n",
    "\n",
    "    Returns:\n",
    "        The index of the target element in the array, or -1 if the target element is not found.\n",
    "    \"\"\"\n",
    "\n",
    "    left = 0\n",
    "    right = len(arr) - 1\n",
    "\n",
    "    while left <= right:\n",
    "        mid = (left + right) // 2\n",
    "\n",
    "        if arr[mid] == target:\n",
    "            return mid\n",
    "\n",
    "        elif arr[mid] > target:\n",
    "            if arr[mid] > arr[mid + 1]:\n",
    "                right = mid - 1\n",
    "            else:\n",
    "                left = mid + 1\n",
    "        else:\n",
    "            if arr[mid] < arr[mid - 1]:\n",
    "                right = mid - 1\n",
    "            else:\n",
    "                left = mid + 1\n",
    "\n",
    "    return -1\n",
    "\n",
    "\n",
    "# Example usage:\n",
    "\n",
    "arr = [1, 3, 5, 7, 9, 10, 8, 6, 4, 2]\n",
    "target = 5\n",
    "\n",
    "index = search_in_bitonic_array(arr, target)\n",
    "\n",
    "if index != -1:\n",
    "    print(\"The target element is at index\", index)\n",
    "else:\n",
    "    print(\"The target element is not found in the array\")"
   ]
  },
  {
   "cell_type": "code",
   "execution_count": 5,
   "metadata": {},
   "outputs": [],
   "source": [
    "def findPeakElement(nums):\n",
    "    if len(nums) == 1:\n",
    "        return 0\n",
    "    l, r = 0, len(nums) - 1\n",
    "    while l <= r:\n",
    "        mid = l + (r - l) // 2\n",
    "        if (\n",
    "            (mid == 0 and nums[mid] >= nums[mid + 1])\n",
    "            or (mid == len(nums) - 1 and nums[mid - 1] <= nums[mid])\n",
    "            or (\n",
    "                mid < len(nums) - 1\n",
    "                and mid > 0\n",
    "                and nums[mid - 1] <= nums[mid]\n",
    "                and nums[mid] >= nums[mid + 1]\n",
    "            )\n",
    "        ):\n",
    "            return mid\n",
    "        if mid - 1 >= 0 and nums[mid - 1] > nums[mid]:\n",
    "            r = mid - 1\n",
    "        else:\n",
    "            l = mid + 1\n",
    "    return 0"
   ]
  },
  {
   "cell_type": "code",
   "execution_count": 7,
   "metadata": {},
   "outputs": [
    {
     "data": {
      "text/plain": [
       "2"
      ]
     },
     "execution_count": 7,
     "metadata": {},
     "output_type": "execute_result"
    }
   ],
   "source": [
    "# arr = [1, 3, 5, 7, 9, 10, 8, 6, 4, 2]\n",
    "arr = [1, 3, 50, 10, 9, 7, 6]\n",
    "findPeakElement(arr)"
   ]
  },
  {
   "cell_type": "code",
   "execution_count": 8,
   "metadata": {},
   "outputs": [
    {
     "name": "stdout",
     "output_type": "stream",
     "text": [
      "[11, 12, 13, 5, 6]\n",
      "[11, 12, 13, 5, 6]\n",
      "[5, 11, 12, 13, 6]\n",
      "[5, 6, 11, 12, 13]\n"
     ]
    }
   ],
   "source": [
    "def insertionSort(arr):\n",
    "\n",
    "    # Traverse through 1 to len(arr)\n",
    "    for i in range(1, len(arr)):\n",
    "\n",
    "        key = arr[i]\n",
    "\n",
    "        # Move elements of arr[0..i-1], that are\n",
    "        # greater than key, to one position ahead\n",
    "        # of their current position\n",
    "        j = i - 1\n",
    "        while j >= 0 and key < arr[j]:\n",
    "            arr[j + 1] = arr[j]\n",
    "            j -= 1\n",
    "        arr[j + 1] = key\n",
    "        print(arr)\n",
    "\n",
    "\n",
    "# Driver code to test above\n",
    "arr = [12, 11, 13, 5, 6]\n",
    "insertionSort(arr)\n",
    "# for i in range(len(arr)):\n",
    "#     print (\"% d\" % arr[i])"
   ]
  },
  {
   "cell_type": "code",
   "execution_count": 42,
   "metadata": {},
   "outputs": [
    {
     "name": "stdout",
     "output_type": "stream",
     "text": [
      "defaultdict(<function sortByFreq.<locals>.<lambda> at 0x000001FFB0927B00>, {2: 2, 5: 2, 6: 1, -1: 1, 9999999: 1, 8: 3})\n",
      "8 8 8 5 5 2 2 9999999 6 -1\n"
     ]
    }
   ],
   "source": [
    "from collections import defaultdict, OrderedDict\n",
    "\n",
    "# Sort by Frequency\n",
    "\n",
    "\n",
    "def sortByFreq(arr, n):\n",
    "    # arr -> Array to be sorted\n",
    "    # n   -> Length of Array\n",
    "\n",
    "    # d is a hashmap(referred as dictionary in python)\n",
    "    d = defaultdict(lambda: 0)\n",
    "    for i in range(n):\n",
    "        d[arr[i]] += 1\n",
    "    print(d)\n",
    "\n",
    "    # Sorting the array 'arr' where key\n",
    "    # is the function based on which\n",
    "    # the array is sorted\n",
    "    # While sorting we want to give\n",
    "    # first priority to Frequency\n",
    "    # Then to value of item\n",
    "    arr.sort(key=lambda x: (d[x], x), reverse=True)\n",
    "    # require Updation:- reverse = True, to sort an array in descending order (Jayesh Verma)\n",
    "    return arr\n",
    "\n",
    "\n",
    "# Driver code\n",
    "if __name__ == \"__main__\":\n",
    "    arr = [2, 5, 2, 6, -1, 9999999, 5, 8, 8, 8]\n",
    "    n = len(arr)\n",
    "\n",
    "    # Function call\n",
    "    solution = sortByFreq(arr, n)\n",
    "    print(*solution)"
   ]
  },
  {
   "cell_type": "code",
   "execution_count": 28,
   "metadata": {},
   "outputs": [],
   "source": [
    "class Student:\n",
    "    def __init__(self, name, grade, age):\n",
    "        self.name = name\n",
    "        self.grade = grade\n",
    "        self.age = age\n",
    "\n",
    "    def __repr__(self):\n",
    "        return repr((self.name, self.grade, self.age))\n",
    "\n",
    "\n",
    "student_objects = [\n",
    "    Student(\"john\", \"A\", 15),\n",
    "    Student(\"jane\", \"B\", 12),\n",
    "    Student(\"dave\", \"B\", 10),\n",
    "    Student(\"abc\", \"A\", 12),\n",
    "    Student(\"ab\", \"A\", 15),\n",
    "    Student(\"ac\", \"A\", 16),\n",
    "]"
   ]
  },
  {
   "cell_type": "code",
   "execution_count": 31,
   "metadata": {},
   "outputs": [
    {
     "name": "stdout",
     "output_type": "stream",
     "text": [
      "[('dave', 'B', 10), ('abc', 'A', 12), ('jane', 'B', 12), ('ab', 'A', 15), ('john', 'A', 15), ('ac', 'A', 16)]\n"
     ]
    }
   ],
   "source": [
    "import functools\n",
    "\n",
    "\n",
    "def mycmp(a, b):\n",
    "    # print(\"comparing \", a, \" and \", b)\n",
    "    if a.age > b.age:\n",
    "        return 1\n",
    "    elif a.age < b.age:\n",
    "        return -1\n",
    "    else:\n",
    "        if len(a.name) < len(b.name):\n",
    "            return -1\n",
    "        return 1\n",
    "\n",
    "\n",
    "print(sorted(student_objects, key=functools.cmp_to_key(mycmp)))"
   ]
  },
  {
   "cell_type": "code",
   "execution_count": 49,
   "metadata": {},
   "outputs": [],
   "source": [
    "d = dict()\n",
    "for i in range(n):\n",
    "    if arr[i] in d:\n",
    "        d[arr[i]][0] += 1\n",
    "    else:\n",
    "        d[arr[i]] = [1, i]\n",
    "arr = [2, 5, 2, 6, -1, 9999999, 5, 8, 8, 8]"
   ]
  },
  {
   "cell_type": "code",
   "execution_count": 50,
   "metadata": {},
   "outputs": [
    {
     "data": {
      "text/plain": [
       "{2: [2, 0], 5: [2, 1], 6: [1, 3], -1: [1, 4], 9999999: [1, 5], 8: [3, 7]}"
      ]
     },
     "execution_count": 50,
     "metadata": {},
     "output_type": "execute_result"
    }
   ],
   "source": [
    "d"
   ]
  },
  {
   "cell_type": "code",
   "execution_count": 53,
   "metadata": {},
   "outputs": [],
   "source": [
    "def compare(a, b):\n",
    "    if d[a][0] > d[b][0]:\n",
    "        return -1\n",
    "    elif d[a][0] < d[b][0]:\n",
    "        return 1\n",
    "    else:\n",
    "        if d[a][1] > d[b][1]:\n",
    "            return 1\n",
    "        return -1"
   ]
  },
  {
   "cell_type": "code",
   "execution_count": 54,
   "metadata": {},
   "outputs": [
    {
     "data": {
      "text/plain": [
       "[8, 8, 8, 2, 2, 5, 5, 6, -1, 9999999]"
      ]
     },
     "execution_count": 54,
     "metadata": {},
     "output_type": "execute_result"
    }
   ],
   "source": [
    "sorted(arr, key=functools.cmp_to_key(compare))"
   ]
  },
  {
   "cell_type": "code",
   "execution_count": 55,
   "metadata": {},
   "outputs": [
    {
     "name": "stdout",
     "output_type": "stream",
     "text": [
      "Sorted array:\n",
      "1 5 7 8 9 10 "
     ]
    }
   ],
   "source": [
    "# Python3 implementation of QuickSort\n",
    "\n",
    "\n",
    "# Function to find the partition position\n",
    "def partition(array, low, high):\n",
    "\n",
    "    # Choose the rightmost element as pivot\n",
    "    pivot = array[high]\n",
    "\n",
    "    # Pointer for greater element\n",
    "    i = low - 1\n",
    "\n",
    "    # Traverse through all elements\n",
    "    # compare each element with pivot\n",
    "    for j in range(low, high):\n",
    "        if array[j] <= pivot:\n",
    "\n",
    "            # If element smaller than pivot is found\n",
    "            # swap it with the greater element pointed by i\n",
    "            i = i + 1\n",
    "\n",
    "            # Swapping element at i with element at j\n",
    "            (array[i], array[j]) = (array[j], array[i])\n",
    "\n",
    "    # Swap the pivot element with\n",
    "    # the greater element specified by i\n",
    "    (array[i + 1], array[high]) = (array[high], array[i + 1])\n",
    "\n",
    "    # Return the position from where partition is done\n",
    "    return i + 1\n",
    "\n",
    "\n",
    "# Function to perform quicksort\n",
    "def quicksort(array, low, high):\n",
    "    if low < high:\n",
    "\n",
    "        # Find pivot element such that\n",
    "        # element smaller than pivot are on the left\n",
    "        # element greater than pivot are on the right\n",
    "        pi = partition(array, low, high)\n",
    "\n",
    "        # Recursive call on the left of pivot\n",
    "        quicksort(array, low, pi - 1)\n",
    "\n",
    "        # Recursive call on the right of pivot\n",
    "        quicksort(array, pi + 1, high)\n",
    "\n",
    "\n",
    "# Driver code\n",
    "if __name__ == \"__main__\":\n",
    "    array = [10, 7, 8, 9, 1, 5]\n",
    "    N = len(array)\n",
    "\n",
    "    # Function call\n",
    "    quicksort(array, 0, N - 1)\n",
    "    print(\"Sorted array:\")\n",
    "    for x in array:\n",
    "        print(x, end=\" \")"
   ]
  },
  {
   "cell_type": "code",
   "execution_count": 56,
   "metadata": {},
   "outputs": [
    {
     "name": "stdout",
     "output_type": "stream",
     "text": [
      "Sorted array\n",
      "11 12 22 25 64 "
     ]
    }
   ],
   "source": [
    "# Python program for implementation of Selection\n",
    "# Sort\n",
    "A = [64, 25, 12, 22, 11]\n",
    "\n",
    "# Traverse through all array elements\n",
    "for i in range(len(A) - 1):\n",
    "\n",
    "    # Find the minimum element in remaining\n",
    "    # unsorted array\n",
    "    min_idx = i\n",
    "    for j in range(i + 1, len(A)):\n",
    "        if A[min_idx] > A[j]:\n",
    "            min_idx = j\n",
    "\n",
    "    # Swap the found minimum element with\n",
    "    # the first element\n",
    "    A[i], A[min_idx] = A[min_idx], A[i]\n",
    "\n",
    "# Driver code to test above\n",
    "print(\"Sorted array\")\n",
    "for i in range(len(A)):\n",
    "    print(A[i], end=\" \")"
   ]
  },
  {
   "cell_type": "code",
   "execution_count": 57,
   "metadata": {},
   "outputs": [
    {
     "name": "stdout",
     "output_type": "stream",
     "text": [
      "Sorted array:\n",
      "11 12 22 25 34 64 90 "
     ]
    }
   ],
   "source": [
    "# Optimized Python program for implementation of Bubble Sort\n",
    "\n",
    "\n",
    "def bubbleSort(arr):\n",
    "    n = len(arr)\n",
    "\n",
    "    # Traverse through all array elements\n",
    "    for i in range(n):\n",
    "        swapped = False\n",
    "\n",
    "        # Last i elements are already in place\n",
    "        for j in range(0, n - i - 1):\n",
    "\n",
    "            # Traverse the array from 0 to n-i-1\n",
    "            # Swap if the element found is greater\n",
    "            # than the next element\n",
    "            if arr[j] > arr[j + 1]:\n",
    "                arr[j], arr[j + 1] = arr[j + 1], arr[j]\n",
    "                swapped = True\n",
    "        if swapped == False:\n",
    "            break\n",
    "\n",
    "\n",
    "# Driver code to test above\n",
    "if __name__ == \"__main__\":\n",
    "    arr = [64, 34, 25, 12, 22, 11, 90]\n",
    "\n",
    "    bubbleSort(arr)\n",
    "\n",
    "    print(\"Sorted array:\")\n",
    "    for i in range(len(arr)):\n",
    "        print(\"%d\" % arr[i], end=\" \")\n",
    "\n",
    "# This code is modified by Suraj krushna Yadav"
   ]
  },
  {
   "cell_type": "code",
   "execution_count": 58,
   "metadata": {},
   "outputs": [
    {
     "name": "stdout",
     "output_type": "stream",
     "text": [
      " 5\n",
      " 6\n",
      " 11\n",
      " 12\n",
      " 13\n"
     ]
    }
   ],
   "source": [
    "# Python program for implementation of Insertion Sort\n",
    "\n",
    "\n",
    "# Function to do insertion sort\n",
    "def insertionSort(arr):\n",
    "\n",
    "    # Traverse through 1 to len(arr)\n",
    "    for i in range(1, len(arr)):\n",
    "\n",
    "        key = arr[i]\n",
    "\n",
    "        # Move elements of arr[0..i-1], that are\n",
    "        # greater than key, to one position ahead\n",
    "        # of their current position\n",
    "        j = i - 1\n",
    "        while j >= 0 and key < arr[j]:\n",
    "            arr[j + 1] = arr[j]\n",
    "            j -= 1\n",
    "        arr[j + 1] = key\n",
    "\n",
    "\n",
    "# Driver code to test above\n",
    "arr = [12, 11, 13, 5, 6]\n",
    "insertionSort(arr)\n",
    "for i in range(len(arr)):\n",
    "    print(\"% d\" % arr[i])\n",
    "\n",
    "# This code is contributed by Mohit Kumra"
   ]
  },
  {
   "cell_type": "code",
   "execution_count": 59,
   "metadata": {},
   "outputs": [
    {
     "name": "stdout",
     "output_type": "stream",
     "text": [
      "Given array is\n",
      "12 11 13 5 6 7\n",
      "\n",
      "Sorted array is \n",
      "5 6 7 11 12 13\n"
     ]
    }
   ],
   "source": [
    "# Python program for implementation of MergeSort\n",
    "\n",
    "\n",
    "def merge(arr1, arr2):\n",
    "    i = 0\n",
    "    j = 0\n",
    "    result = []\n",
    "    while i < len(arr1) and j < len(arr2):\n",
    "        if arr2[j] > arr1[i]:\n",
    "            result.append(arr1[i])\n",
    "            i += 1\n",
    "        else:\n",
    "            result.append(arr2[j])\n",
    "            j += 1\n",
    "    while i < len(arr1):\n",
    "        result.append(arr1[i])\n",
    "        i += 1\n",
    "    while j < len(arr2):\n",
    "        result.append(arr2[j])\n",
    "        j += 1\n",
    "\n",
    "    return result\n",
    "\n",
    "\n",
    "def mergeSort(arr):\n",
    "    if len(arr) <= 1:\n",
    "        return arr\n",
    "    mid = len(arr) // 2\n",
    "    left = mergeSort(arr[:mid])\n",
    "    right = mergeSort(arr[mid:])\n",
    "\n",
    "    return merge(left, right)\n",
    "\n",
    "\n",
    "# Driver Code\n",
    "if __name__ == \"__main__\":\n",
    "    arr = [12, 11, 13, 5, 6, 7]\n",
    "    print(\"Given array is\")\n",
    "    print(*arr)\n",
    "    arr = mergeSort(arr)\n",
    "    print(\"\\nSorted array is \")\n",
    "    print(*arr)\n",
    "\n",
    "# This code is contributed by Vishu Vaishnav"
   ]
  },
  {
   "cell_type": "code",
   "execution_count": null,
   "metadata": {},
   "outputs": [],
   "source": []
  }
 ],
 "metadata": {
  "kernelspec": {
   "display_name": "Python 3",
   "language": "python",
   "name": "python3"
  },
  "language_info": {
   "codemirror_mode": {
    "name": "ipython",
    "version": 3
   },
   "file_extension": ".py",
   "mimetype": "text/x-python",
   "name": "python",
   "nbconvert_exporter": "python",
   "pygments_lexer": "ipython3",
   "version": "3.11.6"
  }
 },
 "nbformat": 4,
 "nbformat_minor": 2
}
