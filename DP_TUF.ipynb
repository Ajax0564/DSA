{
 "cells": [
  {
   "cell_type": "markdown",
   "metadata": {},
   "source": [
    "# 1-D DP"
   ]
  },
  {
   "cell_type": "markdown",
   "metadata": {},
   "source": [
    "**Stair walking step**"
   ]
  },
  {
   "cell_type": "code",
   "execution_count": null,
   "metadata": {},
   "outputs": [
    {
     "data": {
      "text/plain": [
       "5"
      ]
     },
     "execution_count": 3,
     "metadata": {},
     "output_type": "execute_result"
    }
   ],
   "source": [
    "def stair(n):\n",
    "    if n == 0:\n",
    "        return 1\n",
    "    one = stair(n - 1)\n",
    "    two = 0\n",
    "    if n > 1:\n",
    "        two = stair(n - 2)\n",
    "    return one + two\n",
    "\n",
    "\n",
    "stair(4)"
   ]
  },
  {
   "cell_type": "code",
   "execution_count": 1,
   "metadata": {},
   "outputs": [
    {
     "data": {
      "text/plain": [
       "5"
      ]
     },
     "execution_count": 1,
     "metadata": {},
     "output_type": "execute_result"
    }
   ],
   "source": [
    "def stair(n):\n",
    "    dp = [0] * (n + 1)\n",
    "    dp[0], dp[1] = 1, 1\n",
    "    for i in range(2, n + 1):\n",
    "        dp[i] = dp[i - 1] + dp[i - 2]\n",
    "    return dp[n]\n",
    "\n",
    "\n",
    "stair(4)"
   ]
  },
  {
   "cell_type": "markdown",
   "metadata": {},
   "source": [
    "**space optimization**"
   ]
  },
  {
   "cell_type": "code",
   "execution_count": null,
   "metadata": {},
   "outputs": [
    {
     "data": {
      "text/plain": [
       "5"
      ]
     },
     "execution_count": 2,
     "metadata": {},
     "output_type": "execute_result"
    }
   ],
   "source": [
    "def stair(n):\n",
    "    prev1, prev2 = 1, 1\n",
    "    for i in range(2, n + 1):\n",
    "        curr = prev1 + prev2\n",
    "        prev2 = prev1\n",
    "        prev1 = curr\n",
    "    return curr\n",
    "\n",
    "\n",
    "stair(4)"
   ]
  },
  {
   "cell_type": "markdown",
   "metadata": {},
   "source": [
    "**Frog-Jump**"
   ]
  },
  {
   "cell_type": "code",
   "execution_count": 2,
   "metadata": {},
   "outputs": [
    {
     "data": {
      "text/plain": [
       "40"
      ]
     },
     "execution_count": 2,
     "metadata": {},
     "output_type": "execute_result"
    }
   ],
   "source": [
    "arr = [30, 10, 60, 10, 60, 50]\n",
    "\n",
    "\n",
    "def solve(i, arr):\n",
    "    if i <= 0:\n",
    "        return 0\n",
    "\n",
    "    take1 = abs(arr[i] - arr[i - 1]) + solve(i - 1, arr)\n",
    "    take2 = float(\"inf\")\n",
    "    if i >= 2:\n",
    "        take2 = abs(arr[i] - arr[i - 2]) + solve(i - 2, arr)\n",
    "    return min(take1, take2)\n",
    "\n",
    "\n",
    "solve(len(arr) - 1, arr)"
   ]
  },
  {
   "cell_type": "code",
   "execution_count": 6,
   "metadata": {},
   "outputs": [
    {
     "data": {
      "text/plain": [
       "[0, 20, 30, 20, 30, 40]"
      ]
     },
     "execution_count": 6,
     "metadata": {},
     "output_type": "execute_result"
    }
   ],
   "source": [
    "arr = [30, 10, 60, 10, 60, 50]\n",
    "\n",
    "\n",
    "def solve(arr):\n",
    "    dp = [0] * len(arr)\n",
    "    for i in range(1, len(arr)):\n",
    "        take1 = abs(arr[i] - arr[i - 1]) + dp[i - 1]\n",
    "        take2 = float(\"inf\")\n",
    "        if i >= 2:\n",
    "            take2 = abs(arr[i] - arr[i - 2]) + dp[i - 2]\n",
    "        dp[i] = min(take1, take2)\n",
    "    return dp\n",
    "\n",
    "\n",
    "solve(arr)"
   ]
  },
  {
   "cell_type": "markdown",
   "metadata": {},
   "source": [
    "**space optimization**"
   ]
  },
  {
   "cell_type": "code",
   "execution_count": 7,
   "metadata": {},
   "outputs": [
    {
     "data": {
      "text/plain": [
       "40"
      ]
     },
     "execution_count": 7,
     "metadata": {},
     "output_type": "execute_result"
    }
   ],
   "source": [
    "arr = [30, 10, 60, 10, 60, 50]\n",
    "\n",
    "\n",
    "def solve(arr):\n",
    "    prev1, prev2 = 0, 0\n",
    "    for i in range(1, len(arr)):\n",
    "        take1 = abs(arr[i] - arr[i - 1]) + prev1\n",
    "        take2 = float(\"inf\")\n",
    "        if i >= 2:\n",
    "            take2 = abs(arr[i] - arr[i - 2]) + prev2\n",
    "\n",
    "        prev2 = prev1\n",
    "        prev1 = min(take1, take2)\n",
    "\n",
    "    return prev1\n",
    "\n",
    "\n",
    "solve(arr)"
   ]
  },
  {
   "cell_type": "markdown",
   "metadata": {},
   "source": [
    "**Frog-jump with k dist**"
   ]
  },
  {
   "cell_type": "code",
   "execution_count": 9,
   "metadata": {},
   "outputs": [
    {
     "data": {
      "text/plain": [
       "40"
      ]
     },
     "execution_count": 9,
     "metadata": {},
     "output_type": "execute_result"
    }
   ],
   "source": [
    "arr = [30, 10, 60, 10, 60, 50]\n",
    "k = 2\n",
    "\n",
    "\n",
    "def solve(i, k, arr):\n",
    "    if i <= 0:\n",
    "        return 0\n",
    "\n",
    "    take = float(\"inf\")\n",
    "\n",
    "    for j in range(1, k + 1):\n",
    "        if i - j >= 0:\n",
    "            take = min(take, abs(arr[i] - arr[i - j]) + solve(i - j, k, arr))\n",
    "\n",
    "    return take\n",
    "\n",
    "\n",
    "solve(len(arr) - 1, k, arr)"
   ]
  },
  {
   "cell_type": "code",
   "execution_count": 10,
   "metadata": {},
   "outputs": [
    {
     "data": {
      "text/plain": [
       "[0, 20, 30, 20, 30, 40]"
      ]
     },
     "execution_count": 10,
     "metadata": {},
     "output_type": "execute_result"
    }
   ],
   "source": [
    "arr = [30, 10, 60, 10, 60, 50]\n",
    "k = 2\n",
    "\n",
    "\n",
    "def solve(i, k, arr):\n",
    "    dp = [0] * len(arr)\n",
    "\n",
    "    for i in range(1, len(arr)):\n",
    "        take = float(\"inf\")\n",
    "        for j in range(1, k + 1):\n",
    "            if i - j >= 0:\n",
    "                take = min(take, abs(arr[i] - arr[i - j]) + dp[i - j])\n",
    "\n",
    "        dp[i] = take\n",
    "\n",
    "    return dp\n",
    "\n",
    "\n",
    "solve(len(arr) - 1, k, arr)"
   ]
  },
  {
   "cell_type": "markdown",
   "metadata": {},
   "source": [
    "**Count minimum number of fountains to be activated to cover the entire garden**\n",
    "\n",
    "a[i] describes the coverage limit of ith fountain. A fountain can cover the range from the position\n",
    "\n",
    " max(i – a[i], 1) to min(i + a[i], N). In beginning, all the fountains are switched off."
   ]
  },
  {
   "cell_type": "code",
   "execution_count": 2,
   "metadata": {},
   "outputs": [
    {
     "data": {
      "text/plain": [
       "2"
      ]
     },
     "execution_count": 2,
     "metadata": {},
     "output_type": "execute_result"
    }
   ],
   "source": [
    "def findMinFountains(arr, n):\n",
    "    dp = [n + 1 for i in range(n)]\n",
    "    # initialise each index to 'N' because in worst that n would be the minimum number of fountains that we have to turn on\n",
    "    dp[0] = 0\n",
    "    for i in range(n):\n",
    "        # Iterating over the range upto which the current fountain can cover.\n",
    "        for j in range(max(i - arr[i], 0), min(i + (arr[i] + 1), n)):\n",
    "            noactivat = dp[j]\n",
    "            activate = 1 + dp[max(0, i - arr[i])]\n",
    "            dp[j] = min(noactivat, activate)\n",
    "            # )  # min fountain need to water all at j check no activate or 1+prev activate\n",
    "\n",
    "    if dp[n - 1] < n + 1:\n",
    "        return dp[n - 1]\n",
    "\n",
    "    return -1\n",
    "\n",
    "\n",
    "a = [2, 1, 1, 1]  # [3, 4, 1, 1, 0, 0]  #\n",
    "N = len(a)\n",
    "\n",
    "findMinFountains(a, N)"
   ]
  },
  {
   "cell_type": "markdown",
   "metadata": {},
   "source": [
    "1) Yuki can buy 1 more blade with cost 'A.’ He now has ‘K+1’ Ninja blades.\n",
    "\n",
    "2) Yuki could buy a ‘K’ number of blades with cost 'B.’ He now has ‘2*K’ blades.\n",
    "where 'A' and 'B' are predefined and constant."
   ]
  },
  {
   "cell_type": "code",
   "execution_count": null,
   "metadata": {},
   "outputs": [
    {
     "data": {
      "text/plain": [
       "36"
      ]
     },
     "execution_count": 13,
     "metadata": {},
     "output_type": "execute_result"
    }
   ],
   "source": [
    "def solve(n, a, b):\n",
    "    if n == 0:\n",
    "        return 0\n",
    "\n",
    "    oa = ob = float(\"inf\")\n",
    "    if n % 2 == 0:\n",
    "        ob = b + solve(n // 2, a, b)\n",
    "    if n >= 1:\n",
    "        oa = a + solve(n - 1, a, b)\n",
    "    return min(oa, ob)\n",
    "\n",
    "\n",
    "solve(13, 5, 8)\n",
    "\n",
    "\n",
    "def solve1(n, a, b):\n",
    "    if n == 0:\n",
    "        return 0\n",
    "\n",
    "    dp = [0] * (n + 1)\n",
    "    dp[0] = 0\n",
    "    # dp[1] = a\n",
    "    # dp[2] = min(a+a,b)\n",
    "    for i in range(1, n + 1):\n",
    "        oa = ob = float(\"inf\")\n",
    "        if i % 2 == 0:\n",
    "            ob = b + dp[i // 2]\n",
    "        oa = a + dp[i - 1]\n",
    "        dp[i] = min(oa, ob)\n",
    "\n",
    "    return dp[n]"
   ]
  },
  {
   "cell_type": "markdown",
   "metadata": {},
   "source": [
    "our task is to find and return the minimum number of steps that 'N' has to take to get reduced to 1.\n",
    "\n",
    "You can perform any one of the following 3 steps:\n",
    "\n",
    "1) Subtract 1 from it. (n = n - ­1) ,\n",
    "2) If n is divisible by 2, divide by 2.( if n % 2 == 0, then n = n / 2 ) ,\n",
    "3) If n is divisible by 3, divide by 3. (if n % 3 == 0, then n = n / 3 )."
   ]
  },
  {
   "cell_type": "code",
   "execution_count": null,
   "metadata": {},
   "outputs": [
    {
     "data": {
      "text/plain": [
       "3"
      ]
     },
     "execution_count": 9,
     "metadata": {},
     "output_type": "execute_result"
    }
   ],
   "source": [
    "def solve(n, dp):\n",
    "    if n == 1:\n",
    "        return 0\n",
    "    o1 = o2 = o3 = float(\"inf\")\n",
    "    if n in dp:\n",
    "        return dp[n]\n",
    "\n",
    "    if n % 3 == 0:\n",
    "        o3 = 1 + solve(n // 3, dp)\n",
    "\n",
    "    if n % 2 == 0:\n",
    "        o2 = 1 + solve(n // 2, dp)\n",
    "    if n > 1:\n",
    "        o1 = 1 + solve(n - 1, dp)\n",
    "\n",
    "    dp[n] = min(o1, o2, o3)\n",
    "    return dp[n]"
   ]
  },
  {
   "cell_type": "code",
   "execution_count": 11,
   "metadata": {},
   "outputs": [
    {
     "data": {
      "text/plain": [
       "3"
      ]
     },
     "execution_count": 11,
     "metadata": {},
     "output_type": "execute_result"
    }
   ],
   "source": [
    "def solve(n):\n",
    "    if n == 1:\n",
    "        return 0\n",
    "    dp = [0] * (n + 1)\n",
    "    dp[0] = 0\n",
    "    dp[1] = 0\n",
    "    dp[2] = 1\n",
    "    dp[3] = 1\n",
    "    for i in range(4, n + 1):\n",
    "        o1 = o2 = o3 = float(\"inf\")\n",
    "        if i % 3 == 0:\n",
    "            o3 = 1 + dp[i // 3]\n",
    "        if i % 2 == 0:\n",
    "            o2 = 1 + dp[i // 2]\n",
    "        o1 = 1 + dp[i - 1]\n",
    "        dp[i] = min(o1, o2, o3)\n",
    "    return dp[n]\n",
    "\n",
    "\n",
    "solve(10)"
   ]
  },
  {
   "cell_type": "markdown",
   "metadata": {},
   "source": [
    "1. Each friend can be paired with some other friend or remain single.\n",
    "\n",
    "2. Each friend can be a part of at most one pair.\n",
    "\n",
    "3. Pairs {A, B} and {B, A} are considered the same.\n",
    "\n",
    "You are supposed to find the total number of ways in which the pairing can be done satisfying both conditions."
   ]
  },
  {
   "cell_type": "code",
   "execution_count": null,
   "metadata": {},
   "outputs": [],
   "source": [
    "def numberOfWays(n):\n",
    "\n",
    "    # Base Conditions.\n",
    "    if n == 1 or n == 2:\n",
    "        return n\n",
    "\n",
    "    # For storing answers to the subproblems.\n",
    "    dp = [0 for i in range(n + 1)]\n",
    "\n",
    "    dp[1] = 1\n",
    "    dp[2] = 2\n",
    "\n",
    "    mod = 1e9 + 7\n",
    "\n",
    "    # Iterating and calculating for every value of i = 3 to N.\n",
    "    for i in range(3, n + 1):\n",
    "\n",
    "        dp[i] = (dp[i - 1] + ((i - 1) * dp[i - 2]) % mod) % mod\n",
    "\n",
    "    return int(dp[n])\n",
    "\n",
    "\n",
    "def solve(n, dp):\n",
    "    if n <= 2:\n",
    "        return n\n",
    "    if n in dp:\n",
    "        return dp[n]\n",
    "    single = pair = 0\n",
    "    single = solve(n - 1, dp)\n",
    "    double = (n - 1) * solve(n - 2, dp)\n",
    "    dp[n] = (single + double) % (1000000007)\n",
    "    return dp[n]"
   ]
  },
  {
   "cell_type": "markdown",
   "metadata": {},
   "source": [
    "**Maximum sum of non adjacent elements**"
   ]
  },
  {
   "cell_type": "code",
   "execution_count": 12,
   "metadata": {},
   "outputs": [
    {
     "data": {
      "text/plain": [
       "11"
      ]
     },
     "execution_count": 12,
     "metadata": {},
     "output_type": "execute_result"
    }
   ],
   "source": [
    "arr = [2, 1, 4, 9]\n",
    "\n",
    "\n",
    "def solve(i, arr):\n",
    "    if i == 0:\n",
    "        return arr[0]\n",
    "    if i < 0:\n",
    "        return 0\n",
    "    take = float(\"-inf\")\n",
    "    if i >= 2:\n",
    "        take = arr[i] + solve(i - 2, arr)\n",
    "    notake = solve(i - 1, arr)\n",
    "    return max(take, notake)\n",
    "\n",
    "\n",
    "solve(len(arr) - 1, arr)"
   ]
  },
  {
   "cell_type": "code",
   "execution_count": 5,
   "metadata": {},
   "outputs": [
    {
     "data": {
      "text/plain": [
       "[2, 2, 6, 11]"
      ]
     },
     "execution_count": 5,
     "metadata": {},
     "output_type": "execute_result"
    }
   ],
   "source": [
    "arr = [2, 1, 4, 9]\n",
    "\n",
    "\n",
    "def solve(arr):\n",
    "    dp = [0] * len(arr)\n",
    "    dp[0] = arr[0]\n",
    "    for i in range(1, len(arr)):\n",
    "        notake = dp[i - 1]\n",
    "        take = arr[i]\n",
    "        if i >= 2:\n",
    "            take += dp[i - 2]\n",
    "        dp[i] = max(take, notake)\n",
    "    return dp\n",
    "\n",
    "\n",
    "solve(arr)"
   ]
  },
  {
   "cell_type": "markdown",
   "metadata": {},
   "source": [
    "**space-opt**"
   ]
  },
  {
   "cell_type": "code",
   "execution_count": 6,
   "metadata": {},
   "outputs": [
    {
     "name": "stdout",
     "output_type": "stream",
     "text": [
      "2\n",
      "6\n",
      "11\n"
     ]
    }
   ],
   "source": [
    "arr = [2, 1, 4, 9]\n",
    "\n",
    "\n",
    "def solve(arr):\n",
    "    prev1 = arr[0]\n",
    "    prev2 = 0\n",
    "    for i in range(1, len(arr)):\n",
    "        notake = prev1\n",
    "        take = arr[i]\n",
    "        if i >= 2:\n",
    "            take += prev2\n",
    "        prev2 = prev1\n",
    "        prev1 = max(take, notake)\n",
    "        print(prev1)\n",
    "\n",
    "\n",
    "solve(arr)"
   ]
  },
  {
   "cell_type": "markdown",
   "metadata": {},
   "source": [
    "Truncate an integer array such that `2×min` becomes more than `max`"
   ]
  },
  {
   "cell_type": "code",
   "execution_count": 48,
   "metadata": {},
   "outputs": [
    {
     "name": "stdout",
     "output_type": "stream",
     "text": [
      "4\n"
     ]
    }
   ],
   "source": [
    "# %%timeit\n",
    "\n",
    "\n",
    "def findMin(arr, low, high, dp):\n",
    "\n",
    "    # base case\n",
    "    if low > high:\n",
    "        return 0\n",
    "\n",
    "    # find the minimum and the maximum elements in array `arr[low…high]`\n",
    "    # and check if the array is not balanced\n",
    "    # subarr = arr[low : high + 1]\n",
    "    MIN = arr[low]\n",
    "    MAX = arr[high]\n",
    "    if (low, high) in dp:\n",
    "        return dp[(low, high)]\n",
    "    if 2 * MIN <= MAX:  # 2 * min(subarr) <= max(subarr):\n",
    "        # remove the leftmost element from the array, and recur with the\n",
    "        # remaining elements\n",
    "        L = 1 + findMin(arr, low + 1, high, dp)\n",
    "\n",
    "        # remove the rightmost element from the array, and recur with the\n",
    "        # remaining elements\n",
    "        R = 1 + findMin(arr, low, high - 1, dp)\n",
    "\n",
    "        # return the minimum of two\n",
    "        dp[(low, high)] = min(L, R)\n",
    "        return dp[(low, high)]\n",
    "\n",
    "    # we reach here if the array is already balanced\n",
    "    return 0\n",
    "\n",
    "\n",
    "if __name__ == \"__main__\":\n",
    "\n",
    "    arr = [4, 5, 100, 9, 10, 11, 12, 15, 200]\n",
    "    arr.sort()\n",
    "    print(findMin(arr, 0, len(arr) - 1, dict()))\n",
    "\n",
    "    # print(\"The minimum number of removals is\", findMin(arr, 0, len(arr) - 1))"
   ]
  },
  {
   "cell_type": "code",
   "execution_count": 57,
   "metadata": {},
   "outputs": [
    {
     "data": {
      "text/plain": [
       "2"
      ]
     },
     "execution_count": 57,
     "metadata": {},
     "output_type": "execute_result"
    }
   ],
   "source": [
    "def findEndIndex(arr, key, i, n):\n",
    "\n",
    "    index = -1\n",
    "    start = i + 1\n",
    "    end = n - 1\n",
    "\n",
    "    while start <= end:\n",
    "\n",
    "        mid = start + (end - start) // 2\n",
    "\n",
    "        if arr[mid] < 2 * key:\n",
    "            index = mid\n",
    "            start = mid + 1\n",
    "        else:\n",
    "            end = mid - 1\n",
    "\n",
    "    return index\n",
    "\n",
    "\n",
    "def minimumRemovals(arr, n):\n",
    "\n",
    "    arr.sort()\n",
    "\n",
    "    ans = n - 1\n",
    "\n",
    "    for start in range(n):\n",
    "\n",
    "        endIndex = findEndIndex(arr, arr[start], start, n)\n",
    "\n",
    "        if endIndex != -1:\n",
    "            ans = min(ans, n - (endIndex - start + 1))\n",
    "\n",
    "    return ans\n",
    "\n",
    "\n",
    "arr = [\n",
    "    4,\n",
    "    2,\n",
    "    6,\n",
    "    4,\n",
    "    9,\n",
    "]  # [4, 7, 5, 6]  # [20, 7, 5, 6]  # [4, 5, 100, 9, 10, 11, 12, 15, 200]\n",
    "minimumRemovals(arr, len(arr))"
   ]
  },
  {
   "cell_type": "code",
   "execution_count": 56,
   "metadata": {},
   "outputs": [
    {
     "name": "stdout",
     "output_type": "stream",
     "text": [
      "The minimum number of removals is 3\n"
     ]
    }
   ],
   "source": [
    "# without sorting and maintaining  original order\n",
    "def findMin(arr):\n",
    "\n",
    "    # base case\n",
    "    if not arr:\n",
    "        return 0\n",
    "\n",
    "    # create a table for saving solutions to subproblems\n",
    "    T = [[0] * len(arr) for _ in range(len(arr))]\n",
    "\n",
    "    # fill the table diagonally\n",
    "    for diagonal in range(len(arr)):\n",
    "        i = 0\n",
    "        for j in range(diagonal, len(arr)):\n",
    "            # find the minimum and the maximum elements in subarray `arr[i…j]`\n",
    "            # if subarray `arr[i…j]` is not balanced, choose the minimum\n",
    "            # removals among subarray `arr[i…j-1]` and `arr[i-1…j]`\n",
    "            if (\n",
    "                2 * min(arr[i : j + 1]) <= max(arr[i : j + 1])\n",
    "                and j - 1 >= 0\n",
    "                and i + 1 < len(arr)\n",
    "            ):\n",
    "                T[i][j] = min(1 + T[i][j - 1], 1 + T[i + 1][j])\n",
    "            i += 1\n",
    "\n",
    "    # the top-rightmost element in the table stores the result\n",
    "    return T[0][-1]\n",
    "\n",
    "\n",
    "if __name__ == \"__main__\":\n",
    "\n",
    "    arr = [4, 2, 6, 4, 9]\n",
    "    print(\"The minimum number of removals is\", findMin(arr))"
   ]
  },
  {
   "cell_type": "markdown",
   "metadata": {},
   "source": [
    "Your task is to find the minimum number of elements that should be removed from \"ARR\" (possibly zero) \n",
    "\n",
    "such that the difference between the maximum element and the minimum element of the remaining \"ARR\" is less than or equal to 'K', i.e. ARRmax - ARRmin <= K."
   ]
  },
  {
   "cell_type": "code",
   "execution_count": 44,
   "metadata": {},
   "outputs": [
    {
     "data": {
      "text/plain": [
       "1"
      ]
     },
     "execution_count": 44,
     "metadata": {},
     "output_type": "execute_result"
    }
   ],
   "source": [
    "def solve(l, r, k, arr):\n",
    "    if l > r:\n",
    "        return 0\n",
    "    Max = arr[r]\n",
    "    Min = arr[l]\n",
    "    if Max - Min > k:\n",
    "        L = 1 + solve(l + 1, r, k, arr)\n",
    "\n",
    "        R = 1 + solve(l, r - 1, k, arr)\n",
    "        return min(L, R)\n",
    "    return 0\n",
    "\n",
    "\n",
    "arr = [5, 10, 2]\n",
    "k = 3\n",
    "arr.sort()\n",
    "solve(0, len(arr) - 1, k, arr)"
   ]
  },
  {
   "cell_type": "code",
   "execution_count": 52,
   "metadata": {},
   "outputs": [
    {
     "data": {
      "text/plain": [
       "1"
      ]
     },
     "execution_count": 52,
     "metadata": {},
     "output_type": "execute_result"
    }
   ],
   "source": [
    "\"\"\"\n",
    "    Time Complexity : O(N * log(N))\n",
    "    Space Complexity : O(1)\n",
    "\n",
    "    where N is the length of array/list.\n",
    "\"\"\"\n",
    "\n",
    "\n",
    "def findEndIndex(arr, key, i, n, k):\n",
    "\n",
    "    index = -1\n",
    "    start = i + 1\n",
    "    end = n - 1\n",
    "\n",
    "    while start <= end:\n",
    "\n",
    "        mid = start + (end - start) // 2\n",
    "\n",
    "        if arr[mid] - key <= k:\n",
    "            index = mid\n",
    "            start = mid + 1\n",
    "        else:\n",
    "            end = mid - 1\n",
    "\n",
    "    return index\n",
    "\n",
    "\n",
    "def minimumRemovals(arr, n, k):\n",
    "\n",
    "    arr.sort()\n",
    "\n",
    "    ans = n - 1\n",
    "\n",
    "    for start in range(n):\n",
    "\n",
    "        endIndex = findEndIndex(arr, arr[start], start, n, k)\n",
    "\n",
    "        if endIndex != -1:\n",
    "            ans = min(ans, n - (endIndex - start + 1))\n",
    "\n",
    "    return ans\n",
    "\n",
    "\n",
    "arr = [5, 10, 2]\n",
    "k = 3\n",
    "arr.sort()\n",
    "minimumRemovals(arr, len(arr), k)"
   ]
  },
  {
   "cell_type": "code",
   "execution_count": 45,
   "metadata": {},
   "outputs": [],
   "source": [
    "def minimumRemovals(arr, n, k):\n",
    "\n",
    "    arr.sort()\n",
    "\n",
    "    dp = [[0 for j in range(n + 1)] for i in range(n + 1)]\n",
    "\n",
    "    for gap in range(n):\n",
    "\n",
    "        i = 0\n",
    "        for j in range(gap, n):\n",
    "\n",
    "            if arr[j] - arr[i] <= k:\n",
    "                dp[i][j] = 0\n",
    "            else:\n",
    "                dp[i][j] = 1 + min(dp[i + 1][j], dp[i][j - 1])\n",
    "\n",
    "            i += 1\n",
    "\n",
    "    return dp[0][n - 1]"
   ]
  },
  {
   "cell_type": "markdown",
   "metadata": {},
   "source": [
    "**Optimal Strategy for a Game**\n",
    "\n",
    "In each turn, a player selects either the first or last coin from the row, \n",
    "\n",
    "removes it from the row permanently, and receives the value of the coin.\n",
    "\n",
    " Determine the maximum possible amount of money we can definitely win if we move first."
   ]
  },
  {
   "cell_type": "code",
   "execution_count": 13,
   "metadata": {},
   "outputs": [
    {
     "name": "stdout",
     "output_type": "stream",
     "text": [
      "15\n"
     ]
    }
   ],
   "source": [
    "def maxAmount(i, j, arr):\n",
    "\n",
    "    # Base case: If i > j, no more elements\n",
    "    # are left to pick\n",
    "    if i > j:\n",
    "        return 0\n",
    "\n",
    "    # Option 1: Take the first element arr[i], and then we\n",
    "    # have two choices:\n",
    "    # - Skip arr[i+1] and solve the problem for range [i+2, j]\n",
    "    # - Take arr[i+1] and arr[j-1] (we solve the problem for range [i+1, j-1])\n",
    "    takeFirst = arr[i] + min(\n",
    "        maxAmount(i + 2, j, arr), maxAmount(i + 1, j - 1, arr)\n",
    "    )  # both are playing optimaly that is why min\n",
    "\n",
    "    # Option 2: Take the last element arr[j], and then we\n",
    "    # have two choices:\n",
    "    # - Skip arr[j-1] and solve the problem for range [i, j-2]\n",
    "    # - Take arr[i+1] and arr[j-1] (we solve the problem for range [i+1, j-1])\n",
    "    takeLast = arr[j] + min(maxAmount(i + 1, j - 1, arr), maxAmount(i, j - 2, arr))\n",
    "\n",
    "    return max(takeFirst, takeLast)\n",
    "\n",
    "\n",
    "def maximumAmount(arr):\n",
    "\n",
    "    n = len(arr)\n",
    "    res = maxAmount(0, n - 1, arr)\n",
    "    return res\n",
    "\n",
    "\n",
    "if __name__ == \"__main__\":\n",
    "\n",
    "    arr = [5, 3, 7, 10]\n",
    "    res = maximumAmount(arr)\n",
    "    print(res)"
   ]
  },
  {
   "cell_type": "code",
   "execution_count": 21,
   "metadata": {},
   "outputs": [
    {
     "name": "stdout",
     "output_type": "stream",
     "text": [
      "15\n"
     ]
    }
   ],
   "source": [
    "def maxAmount(arr):\n",
    "    n = len(arr)\n",
    "\n",
    "    # Create a table to store solutions of subproblems\n",
    "    dp = [[0 for _ in range(n)] for _ in range(n)]\n",
    "\n",
    "    # Fill table using above recursive formula.\n",
    "    # Note that the table is filled in diagonal fashion\n",
    "    # from diagonal elements to table[0][n-1] which is the result.\n",
    "    for gap in range(n):\n",
    "        for j in range(gap, n):\n",
    "            i = j - gap\n",
    "\n",
    "            # Here x is value of F(i + 2, j),\n",
    "            # y is F(i + 1, j-1) and z is F(i, j-2) in above\n",
    "            # recursive formula\n",
    "            x = 0\n",
    "            if (i + 2) <= j:\n",
    "                x = dp[i + 2][j]\n",
    "            y = 0\n",
    "            if (i + 1) <= (j - 1):\n",
    "                y = dp[i + 1][j - 1]\n",
    "            z = 0\n",
    "            if i <= (j - 2):\n",
    "                z = dp[i][j - 2]\n",
    "\n",
    "            dp[i][j] = max(arr[i] + min(x, y), arr[j] + min(y, z))\n",
    "\n",
    "    return dp[0][n - 1]\n",
    "\n",
    "\n",
    "arr = [5, 3, 7, 10]\n",
    "print(maxAmount(arr))"
   ]
  },
  {
   "cell_type": "markdown",
   "metadata": {},
   "source": [
    "1. The user chooses the ith coin with value Vi: The opponent either chooses (i+1)th coin or jth coin. The opponent intends to choose the coin which leaves the user with minimum value. \n",
    "i.e. The user can collect the value Vi + (Sum – Vi) – F(i+1, j, Sum – Vi) where Sum is sum of coins from index i to j. The expression can be simplified to Sum – F(i+1, j, Sum – Vi) "
   ]
  },
  {
   "cell_type": "code",
   "execution_count": 14,
   "metadata": {},
   "outputs": [
    {
     "name": "stdout",
     "output_type": "stream",
     "text": [
      "15 10\n"
     ]
    }
   ],
   "source": [
    "def oSRec(arr, i, j, Sum):\n",
    "\n",
    "    if j == i + 1:\n",
    "        return max(arr[i], arr[j])\n",
    "\n",
    "    # For both of your choices, the opponent\n",
    "    # gives you total Sum minus maximum of\n",
    "    # his value\n",
    "    return max(\n",
    "        (Sum - oSRec(arr, i + 1, j, Sum - arr[i])),\n",
    "        (Sum - oSRec(arr, i, j - 1, Sum - arr[j])),\n",
    "    )\n",
    "\n",
    "\n",
    "# Returns optimal value possible that a player can\n",
    "# collect from an array of coins of size n. Note\n",
    "# than n must be even\n",
    "\n",
    "\n",
    "def optimalStrategyOfGame(arr, n):\n",
    "\n",
    "    Sum = 0\n",
    "    Sum = sum(arr)\n",
    "    return oSRec(arr, 0, n - 1, Sum)\n",
    "\n",
    "\n",
    "arr1 = [5, 3, 7, 10]  # [8, 15, 3, 7]  #[5, 3, 7, 10]\n",
    "n = len(arr1)\n",
    "out = optimalStrategyOfGame(arr1, n)\n",
    "print(out, sum(arr1) - out)"
   ]
  },
  {
   "cell_type": "markdown",
   "metadata": {},
   "source": [
    "Find the minimum number of squares that sum to a given number"
   ]
  },
  {
   "cell_type": "code",
   "execution_count": 2,
   "metadata": {},
   "outputs": [
    {
     "name": "stdout",
     "output_type": "stream",
     "text": [
      "The minimum number of squares is 2\n"
     ]
    }
   ],
   "source": [
    "import math\n",
    "\n",
    "\n",
    "# Utility function to check if a given number `n` is a perfect square or not\n",
    "def is_perfect_square(n):\n",
    "    # find the floating-point value of the square root of `n`\n",
    "    sqr = int(n**0.5)\n",
    "\n",
    "    # return true if the square root is an integer\n",
    "    return sqr * sqr == n\n",
    "\n",
    "\n",
    "# Recursive function to find the minimum number of squares that sum to `n`\n",
    "def find_min_squares(n):\n",
    "    # base case: `n` is a perfect square\n",
    "    if is_perfect_square(n):\n",
    "        return 1\n",
    "\n",
    "    if n == 0:\n",
    "        return 0\n",
    "\n",
    "    if n < 0:\n",
    "        return float(\"inf\")\n",
    "\n",
    "    # initialize the result with the maximum number of squares possible\n",
    "    result = n\n",
    "\n",
    "    # loop through all positive integers less than the square root of `n`\n",
    "    for i in range(1, int(math.sqrt(n)) + 1):\n",
    "        # recur for `n-i*i` and update the result if a lesser value is found\n",
    "        result = min(result, 1 + find_min_squares(n - i * i))\n",
    "\n",
    "    return result\n",
    "\n",
    "\n",
    "if __name__ == \"__main__\":\n",
    "    n = 10\n",
    "    print(\"The minimum number of squares is\", find_min_squares(n))"
   ]
  },
  {
   "cell_type": "code",
   "execution_count": 13,
   "metadata": {},
   "outputs": [
    {
     "name": "stdout",
     "output_type": "stream",
     "text": [
      "The minimum number of squares is 4\n"
     ]
    }
   ],
   "source": [
    "# Iterative function to find the minimum number of squares that sum to `n`\n",
    "def findMinSquares(n):\n",
    "\n",
    "    # create an auxiliary array T[], where T[i] stores the minimum number\n",
    "    # of squares that sum to `i`\n",
    "    T = [0] * (n + 1)\n",
    "\n",
    "    # fill the auxiliary array T[] in a bottom-up manner\n",
    "    for i in range(n + 1):\n",
    "\n",
    "        # initialize T[i] with the maximum number of squares possible\n",
    "        T[i] = i\n",
    "\n",
    "        # loop through all positive integers less than or equal to the\n",
    "        # square root of `i`\n",
    "        j = 1\n",
    "        while j * j <= i:\n",
    "            # calculate the value of T[i] using the result of a smaller\n",
    "            # subproblem T[i-j×j]\n",
    "            T[i] = min(T[i], 1 + T[i - j * j])\n",
    "            j += 1\n",
    "\n",
    "    return T[n]\n",
    "\n",
    "\n",
    "if __name__ == \"__main__\":\n",
    "\n",
    "    n = 63\n",
    "    print(\"The minimum number of squares is\", findMinSquares(n))"
   ]
  },
  {
   "cell_type": "code",
   "execution_count": 10,
   "metadata": {},
   "outputs": [
    {
     "name": "stdout",
     "output_type": "stream",
     "text": [
      "The size of a maximum independent set is 5\n"
     ]
    }
   ],
   "source": [
    "class Node:\n",
    "    def __init__(self, data, left=None, right=None):\n",
    "        self.data = data\n",
    "        self.left = left\n",
    "        self.right = right\n",
    "\n",
    "\n",
    "# Recursive function to find the size of the maximum independent set\n",
    "# for a binary tree\n",
    "def findMIS(root, d):\n",
    "\n",
    "    # base case: empty tree\n",
    "    if root is None:\n",
    "        return 0\n",
    "\n",
    "    if root in d:\n",
    "        return d[root]\n",
    "\n",
    "    # Case 1: Exclude the current node from the maximum independent set and\n",
    "    # recur for its left and right child\n",
    "    excl = findMIS(root.left, d) + findMIS(root.right, d)\n",
    "\n",
    "    # Case 2: Include the current node in the maximum independent set and\n",
    "    # recur for its grandchildren\n",
    "    incl = 1\n",
    "\n",
    "    if root.left:\n",
    "        incl += findMIS(root.left.left, d) + findMIS(root.left.right, d)\n",
    "\n",
    "    if root.right:\n",
    "        incl += findMIS(root.right.left, d) + findMIS(root.right.right, d)\n",
    "\n",
    "    # save and return the maximum number of nodes possible by either\n",
    "    # including or excluding the current node\n",
    "    d[root] = max(excl, incl)\n",
    "    return d[root]\n",
    "\n",
    "\n",
    "if __name__ == \"__main__\":\n",
    "\n",
    "    root = Node(1)\n",
    "    root.left = Node(2)\n",
    "    root.right = Node(3)\n",
    "    root.left.left = Node(4)\n",
    "    root.right.left = Node(5)\n",
    "    root.right.right = Node(6)\n",
    "    root.right.left.left = Node(7)\n",
    "    root.right.left.right = Node(8)\n",
    "\n",
    "    d = {}\n",
    "    print(\"The size of a maximum independent set is\", findMIS(root, d))"
   ]
  },
  {
   "cell_type": "markdown",
   "metadata": {},
   "source": [
    "Count decodings of a given sequence of digits\n",
    "\n",
    "Given a positive number, map its digits to the corresponding alphabet in the mapping table [(1, 'A'), (2, 'B'), … (26, 'Z')], "
   ]
  },
  {
   "cell_type": "code",
   "execution_count": 4,
   "metadata": {},
   "outputs": [
    {
     "name": "stdout",
     "output_type": "stream",
     "text": [
      "The total number of decodings are 5\n"
     ]
    }
   ],
   "source": [
    "# Function to count the total decodings of a given sequence of digits\n",
    "def count(seq, n):\n",
    "\n",
    "    # base case\n",
    "    if n == 0 or n == 1:\n",
    "        return 1\n",
    "\n",
    "    single = 0\n",
    "    double = 0\n",
    "\n",
    "    # consider single-digit numbers (1, 2, … 8, 9)\n",
    "    if \"1\" <= seq[n - 1] <= \"9\":\n",
    "        single = count(seq, n - 1)\n",
    "\n",
    "    # consider 2-digit numbers (10, 11, … 19, 20, … 25, 26)\n",
    "    if seq[n - 2] == \"1\" or (seq[n - 2] == \"2\" and seq[n - 1] <= \"6\"):\n",
    "        double = count(seq, n - 2)\n",
    "\n",
    "    return single + double\n",
    "\n",
    "\n",
    "if __name__ == \"__main__\":\n",
    "\n",
    "    x = 1221\n",
    "\n",
    "    seq = str(x)\n",
    "    print(\"The total number of decodings are\", count(seq, len(seq)))"
   ]
  },
  {
   "cell_type": "code",
   "execution_count": 8,
   "metadata": {},
   "outputs": [
    {
     "name": "stdout",
     "output_type": "stream",
     "text": [
      "The total number of decodings are 5\n"
     ]
    }
   ],
   "source": [
    "# Function to count the total decodings of a given sequence of digits\n",
    "def count(seq, n):\n",
    "\n",
    "    # base case\n",
    "    if n <= 0:\n",
    "        return 1\n",
    "\n",
    "    single = 0\n",
    "    double = 0\n",
    "\n",
    "    # consider single-digit numbers (1, 2, … 8, 9)\n",
    "    if \"1\" <= seq[n] <= \"9\":\n",
    "        single = count(seq, n - 1)\n",
    "\n",
    "    # consider 2-digit numbers (10, 11, … 19, 20, … 25, 26)\n",
    "    if seq[n - 1] == \"1\" or (seq[n - 1] == \"2\" and seq[n] <= \"6\"):\n",
    "        double = count(seq, n - 2)\n",
    "\n",
    "    return single + double\n",
    "\n",
    "\n",
    "if __name__ == \"__main__\":\n",
    "\n",
    "    x = 1221\n",
    "\n",
    "    seq = str(x)\n",
    "    print(\"The total number of decodings are\", count(seq, len(seq) - 1))"
   ]
  },
  {
   "cell_type": "code",
   "execution_count": null,
   "metadata": {},
   "outputs": [],
   "source": []
  },
  {
   "cell_type": "code",
   "execution_count": 18,
   "metadata": {},
   "outputs": [
    {
     "name": "stdout",
     "output_type": "stream",
     "text": [
      "The total number of decodings are 5\n"
     ]
    }
   ],
   "source": [
    "# Function to count the total decodings of a given sequence of digits\n",
    "def count(x):\n",
    "\n",
    "    # convert `x` to a string\n",
    "    seq = str(x)\n",
    "\n",
    "    # create an auxiliary array to store results to the subproblems\n",
    "    T = [0] * (len(seq) + 1)\n",
    "\n",
    "    # base case\n",
    "    T[0] = 1\n",
    "    T[1] = 1\n",
    "\n",
    "    # fill the auxiliary array `T` in a bottom-up manner\n",
    "    for i in range(2, len(seq) + 1):\n",
    "\n",
    "        # consider single-digit numbers (1, 2, … 8, 9)\n",
    "        if seq[i - 1] > \"0\":\n",
    "            T[i] = T[i - 1]\n",
    "\n",
    "        # consider 2-digit numbers (10, 11, … 19, 20, … 25, 26)\n",
    "        if seq[i - 2] == \"1\" or (seq[i - 2] == \"2\" and seq[i - 1] <= \"6\"):\n",
    "            T[i] += T[i - 2]\n",
    "\n",
    "    # last element in the auxiliary array stores the result\n",
    "    return T[-1]\n",
    "\n",
    "\n",
    "if __name__ == \"__main__\":\n",
    "\n",
    "    x = 1221\n",
    "    print(\"The total number of decodings are\", count(x))"
   ]
  },
  {
   "cell_type": "markdown",
   "metadata": {},
   "source": [
    "The task is to count the number of ways we can parenthesize the expression so that the value of the expression evaluates to true. "
   ]
  },
  {
   "cell_type": "code",
   "execution_count": 12,
   "metadata": {},
   "outputs": [
    {
     "name": "stdout",
     "output_type": "stream",
     "text": [
      "4\n"
     ]
    }
   ],
   "source": [
    "# Python program to implement Boolean\n",
    "# Parenthesization Problem using memoization\n",
    "\n",
    "\n",
    "# Function to evaluate a\n",
    "# boolean condition.\n",
    "def evaluate(b1, b2, op):\n",
    "    if op == \"&\":\n",
    "        return b1 & b2\n",
    "    elif op == \"|\":\n",
    "        return b1 | b2\n",
    "    return b1 ^ b2\n",
    "\n",
    "\n",
    "# Function which returns the number of ways\n",
    "# s[i:j] evaluates to req.\n",
    "def countRecur(i, j, req, s, memo):\n",
    "\n",
    "    # Base case:\n",
    "    if i == j:\n",
    "        return 1 if req == (1 if s[i] == \"T\" else 0) else 0\n",
    "\n",
    "    # If value is memoized\n",
    "    if memo[i][j][req] != -1:\n",
    "        return memo[i][j][req]\n",
    "\n",
    "    ans = 0\n",
    "    for k in range(i + 1, j, 2):\n",
    "\n",
    "        # Count Ways in which left substring\n",
    "        # evaluates to true and false.\n",
    "        left_true = countRecur(i, k - 1, 1, s, memo)\n",
    "        left_false = countRecur(i, k - 1, 0, s, memo)\n",
    "\n",
    "        # Count Ways in which right substring\n",
    "        # evaluates to true and false.\n",
    "        right_true = countRecur(k + 1, j, 1, s, memo)\n",
    "        right_false = countRecur(k + 1, j, 0, s, memo)\n",
    "\n",
    "        # Check if the combinations result\n",
    "        # to req.\n",
    "        if evaluate(1, 1, s[k]) == req:\n",
    "            ans += left_true * right_true\n",
    "        if evaluate(1, 0, s[k]) == req:\n",
    "            ans += left_true * right_false\n",
    "        if evaluate(0, 1, s[k]) == req:\n",
    "            ans += left_false * right_true\n",
    "        if evaluate(0, 0, s[k]) == req:\n",
    "            ans += left_false * right_false\n",
    "\n",
    "    memo[i][j][req] = ans\n",
    "    return ans\n",
    "\n",
    "\n",
    "def countWays(s):\n",
    "\n",
    "    n = len(s)\n",
    "    memo = [[[-1 for _ in range(2)] for _ in range(n)] for _ in range(n)]\n",
    "    return countRecur(0, n - 1, 1, s, memo)\n",
    "\n",
    "\n",
    "if __name__ == \"__main__\":\n",
    "    s = \"T|T&F^T\"\n",
    "    print(countWays(s))"
   ]
  },
  {
   "cell_type": "markdown",
   "metadata": {},
   "source": [
    "Count Derangements (Permutation such that no element appears in its original position)"
   ]
  },
  {
   "cell_type": "markdown",
   "metadata": {},
   "source": [
    "The idea is to use recursion as, there are n – 1 way for element 0 (this explains multiplication with n – 1). \n",
    "Let 0 be placed at index i. There are now two possibilities, depending on whether or not element i is placed at 0 in return. \n",
    "\n",
    "\n",
    "i is placed at 0: This case is equivalent to solving the problem for n-2 elements as two elements have just swapped their positions.\n",
    "i is not placed at 0: This case is equivalent to solving the problem for n-1 elements as now there are n-1 elements, n-1 positions and every element has n-2 choices\n",
    "The formula used in the solution is:\n",
    "\n",
    "\n",
    "F(n) = (n – 1) * (F(n – 1) + F(n – 2)"
   ]
  },
  {
   "cell_type": "code",
   "execution_count": 13,
   "metadata": {},
   "outputs": [
    {
     "name": "stdout",
     "output_type": "stream",
     "text": [
      "9\n"
     ]
    }
   ],
   "source": [
    "# Optimized DP-based solution\n",
    "# to count derangements\n",
    "\n",
    "\n",
    "def disarrange(n):\n",
    "\n",
    "    # Create a DP array to store results\n",
    "    dp = [0] * (n + 1)\n",
    "\n",
    "    # Base cases\n",
    "    dp[1] = 0\n",
    "    dp[2] = 1\n",
    "\n",
    "    # Fill the DP array using the\n",
    "    # recursive relation\n",
    "    for i in range(3, n + 1):\n",
    "        dp[i] = (i - 1) * (dp[i - 1] + dp[i - 2])\n",
    "\n",
    "    return dp[n]\n",
    "\n",
    "\n",
    "n = 4\n",
    "print(disarrange(n))"
   ]
  },
  {
   "cell_type": "code",
   "execution_count": 9,
   "metadata": {},
   "outputs": [
    {
     "data": {
      "text/plain": [
       "22"
      ]
     },
     "execution_count": 9,
     "metadata": {},
     "output_type": "execute_result"
    }
   ],
   "source": [
    "# You are given a number N that can be broken into three parts N / 2, N / 3, and N / 4 (considering only integer parts).\n",
    "# Each number obtained in this process can be divided further recursively. Your task is to find the maximum sum that can be obtained by summing up the divided parts together.\n",
    "\n",
    "\n",
    "def solve(n):\n",
    "    if n <= 0:\n",
    "        return 0\n",
    "\n",
    "    curr = n // 2 + n // 3 + n // 4\n",
    "    return max(curr, solve(n // 2), solve(n // 3), solve(n // 4))\n",
    "\n",
    "\n",
    "solve(21)"
   ]
  },
  {
   "cell_type": "markdown",
   "metadata": {},
   "source": [
    "You are initially positioned at the array's first index, and each element in the array represents your maximum jump length at that position.\n",
    "\n",
    "Return true if you can reach the last index, or false otherwise."
   ]
  },
  {
   "cell_type": "code",
   "execution_count": null,
   "metadata": {},
   "outputs": [],
   "source": [
    "def solve(i, nums):\n",
    "\n",
    "    if i == len(nums) - 1:\n",
    "        return True\n",
    "\n",
    "    if i >= len(nums):\n",
    "        return False\n",
    "\n",
    "    for j in range(1, min(nums[i] + 1, len(nums))):\n",
    "        if solve(j + i, nums):\n",
    "            return True\n",
    "    return False\n",
    "\n",
    "\n",
    "def canJump(nums) -> bool:\n",
    "    n = len(nums)\n",
    "    dp = [False for _ in range(n)]\n",
    "    dp[0] = True\n",
    "\n",
    "    for i in range(n):\n",
    "        if dp[i]:  # if this position is reachable\n",
    "            for j in range(1, nums[i] + 1):\n",
    "                if i + j < n:\n",
    "                    dp[i + j] = True\n",
    "                if i + j == n - 1:\n",
    "                    return True\n",
    "    return dp[n - 1]\n",
    "\n",
    "\n",
    "nums = [3, 2, 1, 0, 4]  # False\n",
    "nums = [2, 3, 1, 1, 4]  # True"
   ]
  },
  {
   "cell_type": "markdown",
   "metadata": {},
   "source": [
    "Each element nums[i] represents the maximum length of a forward jump from index i.\n",
    "\n",
    "Return the minimum number of jumps to reach nums[n - 1]."
   ]
  },
  {
   "cell_type": "code",
   "execution_count": null,
   "metadata": {},
   "outputs": [],
   "source": [
    "def dp(index, nums, step):\n",
    "    if index >= len(nums) - 1:\n",
    "        return step\n",
    "    maxval = float(\"inf\")\n",
    "    for i in range(1, min(nums[index] + 1, len(nums))):\n",
    "        maxval = min(maxval, dp(index + i, nums, step + 1))\n",
    "    return maxval\n",
    "\n",
    "\n",
    "def jump(nums) -> int:\n",
    "    n = len(nums)\n",
    "    if n == 1:\n",
    "        return 0\n",
    "\n",
    "    # dp[i] means the minimum number of jumps to reach index i\n",
    "    # for each dp[i]，we need to find the earliest j that can reach i from j\n",
    "    # dp[i] = dp[j] + 1\n",
    "\n",
    "    dp = [0] * n\n",
    "    j = 0\n",
    "    for i in range(1, n):\n",
    "        while j + nums[j] < i:\n",
    "            j += 1\n",
    "        dp[i] = dp[j] + 1\n",
    "\n",
    "    return dp[-1]\n",
    "\n",
    "\n",
    "def jump(nums) -> int:\n",
    "    jumps, max_reach, steps = 0, 0, 0\n",
    "\n",
    "    for i in range(len(nums) - 1):\n",
    "        max_reach = max(max_reach, i + nums[i])\n",
    "        if i == steps:\n",
    "            jumps += 1\n",
    "            steps = max_reach\n",
    "    return jumps\n",
    "\n",
    "\n",
    "# Input: nums = [2,3,1,1,4]\n",
    "# Output: 2\n",
    "# Explanation: The minimum number of jumps to reach the last index is 2. Jump 1 step from index 0 to 1, then 3 steps to the last index."
   ]
  },
  {
   "cell_type": "markdown",
   "metadata": {},
   "source": [
    "When you are at index i, you can jump to i + arr[i] or i - arr[i], check if you can reach any index with value 0.\n",
    "start index is given"
   ]
  },
  {
   "cell_type": "code",
   "execution_count": 29,
   "metadata": {},
   "outputs": [
    {
     "name": "stdout",
     "output_type": "stream",
     "text": [
      "True True\n"
     ]
    }
   ],
   "source": [
    "def can_reach(arr, start):\n",
    "    stack = [start]\n",
    "    visited = set()\n",
    "    n = len(arr)\n",
    "    while stack:\n",
    "        current = stack.pop()\n",
    "        if arr[current] == 0:\n",
    "            return True\n",
    "        if current not in visited:\n",
    "            forward = current + arr[current]\n",
    "            backward = current - arr[current]\n",
    "            if 0 <= forward < n:\n",
    "                stack.append(forward)\n",
    "            if 0 <= backward < n:\n",
    "                stack.append(backward)\n",
    "            visited.add(current)\n",
    "    return False\n",
    "\n",
    "\n",
    "def solve(index, a, dp):\n",
    "    if index < 0 or index >= len(a):\n",
    "        return False\n",
    "    if a[index] == 0:\n",
    "        return True\n",
    "    if index in dp:\n",
    "        return False\n",
    "    dp.add(index)\n",
    "    return solve(index - a[index], a, dp) or solve(index + a[index], a, dp)\n",
    "\n",
    "\n",
    "arr = [4, 2, 3, 0, 3, 1, 2]\n",
    "start = 5\n",
    "print(\n",
    "    can_reach(arr, start), solve(start, arr, set())\n",
    ")  # can't use dict it will make a cycle"
   ]
  },
  {
   "cell_type": "markdown",
   "metadata": {},
   "source": [
    "You need to determine the maximum number of segments you can make of this rod provided that each segment should be of the length 'X', 'Y', or 'Z'."
   ]
  },
  {
   "cell_type": "code",
   "execution_count": null,
   "metadata": {},
   "outputs": [],
   "source": [
    "def maxCutHelper(n, x, y, z, memo):\n",
    "\n",
    "    # Base case: If the length is zero,\n",
    "    # return zero cuts\n",
    "    if n == 0:\n",
    "        return 0\n",
    "\n",
    "    # Base case: If the length becomes negative,\n",
    "    # return an invalid result\n",
    "    if n < 0:\n",
    "        return float(\"-inf\")\n",
    "\n",
    "    # If the result is already computed,\n",
    "    # return it from the memo dictionary\n",
    "    if n in memo:\n",
    "        return memo[n]\n",
    "\n",
    "    # Recursive step: Try all three segment\n",
    "    # lengths and choose the maximum result\n",
    "    cut1 = maxCutHelper(n - x, x, y, z, memo) + 1\n",
    "    cut2 = maxCutHelper(n - y, x, y, z, memo) + 1\n",
    "    cut3 = maxCutHelper(n - z, x, y, z, memo) + 1\n",
    "\n",
    "    # Get the maximum number of cuts among\n",
    "    # the 3 options\n",
    "    maxCut = max(cut1, cut2, cut3)\n",
    "\n",
    "    memo[n] = maxCut\n",
    "    return memo[n]"
   ]
  },
  {
   "cell_type": "markdown",
   "metadata": {},
   "source": [
    "# 2D- DP"
   ]
  },
  {
   "cell_type": "markdown",
   "metadata": {},
   "source": [
    "ere are merit points associated with performing an activity each day. \n",
    "\n",
    "The same activity can’t be performed on two consecutive days. We need to find the maximum merit points the ninja can attain in N Days."
   ]
  },
  {
   "cell_type": "code",
   "execution_count": 6,
   "metadata": {},
   "outputs": [
    {
     "data": {
      "text/plain": [
       "210"
      ]
     },
     "execution_count": 6,
     "metadata": {},
     "output_type": "execute_result"
    }
   ],
   "source": [
    "def ninja(points, day, last):\n",
    "    if day == 0:\n",
    "        # last day\n",
    "        maxi = 0\n",
    "        for i in range(3):\n",
    "            if i != last:\n",
    "                maxi = max(maxi, points[day][i])\n",
    "        return maxi\n",
    "    maxi = 0\n",
    "    for i in range(3):\n",
    "        if i != last:\n",
    "            current_activity = points[day][i] + ninja(points, day - 1, i)\n",
    "            maxi = max(maxi, current_activity)\n",
    "    return maxi\n",
    "\n",
    "\n",
    "points = [[10, 40, 70], [20, 50, 80], [30, 60, 90]]\n",
    "ninja(points, 2, -1)"
   ]
  },
  {
   "cell_type": "code",
   "execution_count": null,
   "metadata": {},
   "outputs": [
    {
     "name": "stdout",
     "output_type": "stream",
     "text": [
      "210\n"
     ]
    }
   ],
   "source": [
    "def ninjaTraining(n, points):\n",
    "    # Initialize a DP table with dimensions (n x 4) to store the maximum points.\n",
    "    dp = [[0 for j in range(4)] for i in range(n)]\n",
    "\n",
    "    # Initialize the DP table for day 0 with base cases.\n",
    "    dp[0][0] = max(points[0][1], points[0][2])\n",
    "    dp[0][1] = max(points[0][0], points[0][2])\n",
    "    dp[0][2] = max(points[0][0], points[0][1])\n",
    "    dp[0][3] = max(points[0][0], max(points[0][1], points[0][2]))\n",
    "\n",
    "    # Loop through the days starting from the second day.\n",
    "    for day in range(1, n):\n",
    "        for last in range(4):\n",
    "            maxi = 0\n",
    "            for task in range(3):\n",
    "                if task != last:\n",
    "                    # Calculate the total points for the current day's activity and the previous day's maximum points.\n",
    "                    activity = points[day][task] + dp[day - 1][task]\n",
    "                    maxi = max(maxi, activity)\n",
    "\n",
    "            dp[day][last] = maxi\n",
    "\n",
    "    # Return the maximum points achievable after the last day with any activity.\n",
    "    return dp[n - 1][3]\n",
    "\n",
    "\n",
    "def main():\n",
    "    # Define the points matrix for each day.\n",
    "    points = [[10, 40, 70], [20, 50, 80], [30, 60, 90]]\n",
    "    n = len(points)  # Get the number of days.\n",
    "    # Call the ninjaTraining function to find the maximum points.\n",
    "    print(ninjaTraining(n, points))\n",
    "\n",
    "\n",
    "if __name__ == \"__main__\":\n",
    "    main()"
   ]
  },
  {
   "cell_type": "markdown",
   "metadata": {},
   "source": [
    "**space-opt**"
   ]
  },
  {
   "cell_type": "code",
   "execution_count": 16,
   "metadata": {},
   "outputs": [
    {
     "name": "stdout",
     "output_type": "stream",
     "text": [
      "210\n"
     ]
    }
   ],
   "source": [
    "def ninjaTraining(n, points):\n",
    "    # Initialize a list 'prev' to store the maximum points for each possible last activity on the previous day.\n",
    "    prev = [0] * 4\n",
    "\n",
    "    # Initialize 'prev' with the maximum points for the first day's activities.\n",
    "    prev[0] = max(points[0][1], points[0][2])\n",
    "    prev[1] = max(points[0][0], points[0][2])\n",
    "    prev[2] = max(points[0][0], points[0][1])\n",
    "    prev[3] = max(points[0][0], max(points[0][1], points[0][2]))\n",
    "\n",
    "    # Loop through the days starting from the second day.\n",
    "    for day in range(1, n):\n",
    "        # Initialize a temporary list 'temp' to store the maximum points for each possible last activity on the current day.\n",
    "        temp = [0] * 4\n",
    "\n",
    "        for last in range(4):\n",
    "            # Initialize 'temp' for the current last activity.\n",
    "            temp[last] = 0\n",
    "\n",
    "            for task in range(3):\n",
    "                if task != last:\n",
    "                    # Calculate the total points for the current day's activity and the previous day's maximum points.\n",
    "                    activity = points[day][task] + prev[task]\n",
    "                    # Update 'temp' with the maximum points for the current last activity.\n",
    "                    temp[last] = max(temp[last], activity)\n",
    "\n",
    "        # Update 'prev' with 'temp' for the next iteration.\n",
    "        prev = temp\n",
    "\n",
    "    # Return the maximum points achievable after the last day with any activity.\n",
    "    return prev[3]\n",
    "\n",
    "\n",
    "def main():\n",
    "    # Define the points matrix for each day.\n",
    "    points = [[10, 40, 70], [20, 50, 80], [30, 60, 90]]\n",
    "    n = len(points)  # Get the number of days.\n",
    "    # Call the ninjaTraining function to find and print the maximum points.\n",
    "    print(ninjaTraining(n, points))\n",
    "\n",
    "\n",
    "if __name__ == \"__main__\":\n",
    "    main()"
   ]
  },
  {
   "cell_type": "markdown",
   "metadata": {},
   "source": [
    "**Grid Unique Paths**"
   ]
  },
  {
   "cell_type": "code",
   "execution_count": 1,
   "metadata": {},
   "outputs": [
    {
     "data": {
      "text/plain": [
       "6"
      ]
     },
     "execution_count": 1,
     "metadata": {},
     "output_type": "execute_result"
    }
   ],
   "source": [
    "# move only to the right or down\n",
    "def solve(m, n):\n",
    "    if m == 0 and n == 0:\n",
    "        return 1\n",
    "\n",
    "    if m < 0 or n < 0:\n",
    "        return 0\n",
    "    up = solve(m - 1, n)\n",
    "    left = solve(m, n - 1)\n",
    "    return up + left\n",
    "\n",
    "\n",
    "# 2x2 meaning 3x3 grid\n",
    "solve(2, 2)"
   ]
  },
  {
   "cell_type": "code",
   "execution_count": 6,
   "metadata": {},
   "outputs": [
    {
     "data": {
      "text/plain": [
       "6"
      ]
     },
     "execution_count": 6,
     "metadata": {},
     "output_type": "execute_result"
    }
   ],
   "source": [
    "def solve(m, n):\n",
    "    dp = [[0 for _ in range(n + 1)] for _ in range(m + 1)]\n",
    "    # row 0\n",
    "    for j in range(n + 1):\n",
    "        dp[0][j] = 1\n",
    "\n",
    "    # col 0\n",
    "    for i in range(m + 1):\n",
    "        dp[i][0] = 1\n",
    "\n",
    "    for i in range(1, m + 1):\n",
    "        for j in range(1, n + 1):\n",
    "            up = dp[i - 1][j]\n",
    "            left = dp[i][j - 1]\n",
    "            dp[i][j] = up + left\n",
    "    return dp[m][n]\n",
    "\n",
    "\n",
    "# 2x2 meaning 3x3 grid\n",
    "solve(2, 2)"
   ]
  },
  {
   "cell_type": "markdown",
   "metadata": {},
   "source": [
    "**space-opt**"
   ]
  },
  {
   "cell_type": "code",
   "execution_count": 5,
   "metadata": {},
   "outputs": [
    {
     "data": {
      "text/plain": [
       "[1, 3, 6]"
      ]
     },
     "execution_count": 5,
     "metadata": {},
     "output_type": "execute_result"
    }
   ],
   "source": [
    "def solve(m, n):\n",
    "    prev = [1] * (n + 1)\n",
    "    for i in range(1, m + 1):\n",
    "        temp = [0] * (n + 1)\n",
    "        temp[0] = 1\n",
    "        for j in range(1, n + 1):\n",
    "            up = prev[j]\n",
    "            left = temp[j - 1]\n",
    "            temp[j] = up + left\n",
    "        prev = temp\n",
    "    return prev\n",
    "\n",
    "\n",
    "# 2x2 meaning 3x3 grid\n",
    "solve(2, 2)"
   ]
  },
  {
   "cell_type": "code",
   "execution_count": null,
   "metadata": {},
   "outputs": [],
   "source": []
  },
  {
   "cell_type": "code",
   "execution_count": 6,
   "metadata": {},
   "outputs": [],
   "source": [
    "maze = [[0, 0, 0, 0], [0, -1, 0, 0], [0, 0, 0, 0]]\n",
    "\n",
    "\n",
    "def paths(maze, i, j):\n",
    "    if i == 0 and j == 0:  # start point cant be -1\n",
    "        return 1\n",
    "    if i < 0 or j < 0 or maze[i][j] == -1:\n",
    "        return 0\n",
    "    up = paths(maze, i - 1, j)  # if maze[i][j] != -1 else 0\n",
    "    left = paths(maze, i, j - 1)  # if maze[i][j] != -1 else 0\n",
    "    return up + left"
   ]
  },
  {
   "cell_type": "code",
   "execution_count": 7,
   "metadata": {},
   "outputs": [
    {
     "data": {
      "text/plain": [
       "4"
      ]
     },
     "execution_count": 7,
     "metadata": {},
     "output_type": "execute_result"
    }
   ],
   "source": [
    "paths(maze, 2, 3)"
   ]
  },
  {
   "cell_type": "code",
   "execution_count": 35,
   "metadata": {},
   "outputs": [
    {
     "name": "stdout",
     "output_type": "stream",
     "text": [
      "4\n"
     ]
    }
   ],
   "source": [
    "def mazeObstaclesUtil(n, m, maze, dp):\n",
    "    # Loop through each cell in the maze\n",
    "    # for i in range(n):\n",
    "    #     dp[i][0] = 1\n",
    "    # for j in range(m):\n",
    "    #     dp[0][j] = 1\n",
    "\n",
    "    dp[0][0] = 1\n",
    "\n",
    "    # column 0\n",
    "    for i in range(1, n):\n",
    "        if maze[i][0] == 0:\n",
    "            dp[i][0] = dp[i - 1][0]\n",
    "\n",
    "    # row 0\n",
    "    for j in range(1, m):\n",
    "        if maze[0][j] == 0:\n",
    "            dp[0][j] = dp[0][j - 1]\n",
    "\n",
    "    for i in range(1, n):\n",
    "        for j in range(1, m):\n",
    "\n",
    "            # Calculate the total number of paths to reach this cell and store it in dp[i][j].\n",
    "            if maze[i][j] == -1:\n",
    "                dp[i][j] = 0\n",
    "            else:\n",
    "\n",
    "                dp[i][j] = dp[i - 1][j] + dp[i][j - 1]\n",
    "\n",
    "    # The result is stored in the bottom-right corner of the DP table.\n",
    "    return dp[n - 1][m - 1]\n",
    "\n",
    "\n",
    "def mazeObstacles(n, m, maze):\n",
    "    # Create a DP table initialized with -1 values.\n",
    "    dp = [[0 for j in range(m)] for i in range(n)]\n",
    "\n",
    "    # Call the utility function to find the number of paths.\n",
    "    return mazeObstaclesUtil(n, m, maze, dp)\n",
    "\n",
    "\n",
    "def main():\n",
    "    # Example maze with 0s representing open paths and -1 representing obstacles.\n",
    "    maze = [[0, 0, 0, 0], [0, -1, 0, 0], [0, 0, 0, 0]]\n",
    "    n = len(maze)\n",
    "    m = len(maze[0])\n",
    "\n",
    "    # Call the mazeObstacles function and print the result.\n",
    "    print(mazeObstacles(n, m, maze))\n",
    "\n",
    "\n",
    "if __name__ == \"__main__\":\n",
    "    main()"
   ]
  },
  {
   "cell_type": "markdown",
   "metadata": {},
   "source": [
    "**space-opt**"
   ]
  },
  {
   "cell_type": "code",
   "execution_count": 8,
   "metadata": {},
   "outputs": [
    {
     "data": {
      "text/plain": [
       "[1, 1, 2, 4]"
      ]
     },
     "execution_count": 8,
     "metadata": {},
     "output_type": "execute_result"
    }
   ],
   "source": [
    "maze = [[0, 0, 0, 0], [0, -1, 0, 0], [0, 0, 0, 0]]\n",
    "m = len(maze)\n",
    "n = len(maze[0])\n",
    "\n",
    "\n",
    "def solve(m, n, maze):\n",
    "    prev = [0] * (n + 1)\n",
    "    prev[0] = 1\n",
    "    for j in range(1, n + 1):\n",
    "        if maze[0][j] != -1:\n",
    "            prev[j] = prev[j - 1]\n",
    "\n",
    "    for i in range(1, m + 1):\n",
    "        temp = [0] * (n + 1)\n",
    "        if maze[i][0] != -1:\n",
    "            temp[0] = 1\n",
    "        for j in range(1, n + 1):\n",
    "            if maze[i][j] != -1:\n",
    "                up = prev[j]\n",
    "                left = temp[j - 1]\n",
    "                temp[j] = up + left\n",
    "        prev = temp\n",
    "    return prev\n",
    "\n",
    "\n",
    "solve(m - 1, n - 1, maze)"
   ]
  },
  {
   "cell_type": "markdown",
   "metadata": {},
   "source": [
    "**Min path sum**"
   ]
  },
  {
   "cell_type": "code",
   "execution_count": 10,
   "metadata": {},
   "outputs": [
    {
     "data": {
      "text/plain": [
       "8"
      ]
     },
     "execution_count": 10,
     "metadata": {},
     "output_type": "execute_result"
    }
   ],
   "source": [
    "cost = [[1, 2, 3], [4, 8, 2], [1, 5, 3]]\n",
    "\n",
    "\n",
    "# ou can only traverse down, right and diagonally lower cells from a given cell\n",
    "def solve(m, n, cost):\n",
    "    if m == 0 and n == 0:\n",
    "        return cost[m][n]\n",
    "\n",
    "    if m < 0 or n < 0:\n",
    "        return float(\"inf\")\n",
    "    up = cost[m][n] + solve(m - 1, n, cost)\n",
    "    left = cost[m][n] + solve(m, n - 1, cost)\n",
    "    dig = cost[m][n] + solve(m - 1, n - 1, cost)\n",
    "    return min(up, left, dig)\n",
    "\n",
    "\n",
    "solve(2, 2, cost)"
   ]
  },
  {
   "cell_type": "code",
   "execution_count": 12,
   "metadata": {},
   "outputs": [
    {
     "data": {
      "text/plain": [
       "8"
      ]
     },
     "execution_count": 12,
     "metadata": {},
     "output_type": "execute_result"
    }
   ],
   "source": [
    "cost = [[1, 2, 3], [4, 8, 2], [1, 5, 3]]\n",
    "\n",
    "\n",
    "# ou can only traverse down, right and diagonally lower cells from a given cell\n",
    "def solve(m, n, cost):\n",
    "    dp = [[0 for j in range(n + 1)] for i in range(m + 1)]\n",
    "    dp[0][0] = cost[0][0]\n",
    "    # row 0\n",
    "    for j in range(1, n + 1):\n",
    "        dp[0][j] = cost[0][j] + dp[0][j - 1]\n",
    "\n",
    "    # col 0\n",
    "    for i in range(1, m + 1):\n",
    "        dp[i][0] = cost[i][0] + dp[i - 1][0]\n",
    "\n",
    "    for i in range(1, m + 1):\n",
    "        for j in range(1, n + 1):\n",
    "            up = cost[i][j] + dp[i - 1][j]\n",
    "            left = cost[i][j] + dp[i][j - 1]\n",
    "            dig = cost[i][j] + dp[i - 1][j - 1]\n",
    "            dp[i][j] = min(up, left, dig)\n",
    "    return dp[-1][-1]\n",
    "\n",
    "\n",
    "solve(2, 2, cost)"
   ]
  },
  {
   "cell_type": "markdown",
   "metadata": {},
   "source": [
    "**space-opt**"
   ]
  },
  {
   "cell_type": "code",
   "execution_count": 13,
   "metadata": {},
   "outputs": [
    {
     "data": {
      "text/plain": [
       "[6, 10, 8]"
      ]
     },
     "execution_count": 13,
     "metadata": {},
     "output_type": "execute_result"
    }
   ],
   "source": [
    "cost = [[1, 2, 3], [4, 8, 2], [1, 5, 3]]\n",
    "\n",
    "\n",
    "# ou can only traverse down, right and diagonally lower cells from a given cell\n",
    "def solve(m, n, cost):\n",
    "\n",
    "    prev = [0] * (n + 1)\n",
    "    prev[0] = cost[0][0]\n",
    "\n",
    "    # row 0\n",
    "    for j in range(1, n + 1):\n",
    "        prev[j] = cost[0][j] + prev[j - 1]\n",
    "\n",
    "    for i in range(1, m + 1):\n",
    "        temp = [0] * (n + 1)\n",
    "        temp[0] = cost[i][0] + prev[0]\n",
    "        for j in range(1, n + 1):\n",
    "            up = cost[i][j] + prev[j]\n",
    "            left = cost[i][j] + temp[j - 1]\n",
    "            dig = cost[i][j] + prev[j - 1]\n",
    "            temp[j] = min(up, left, dig)\n",
    "        prev = temp\n",
    "    return prev\n",
    "\n",
    "\n",
    "solve(2, 2, cost)"
   ]
  },
  {
   "cell_type": "markdown",
   "metadata": {},
   "source": [
    "Count the number of paths in a matrix with a given cost to reach the destination cell"
   ]
  },
  {
   "attachments": {
    "image.png": {
     "image/png": "[encoded data removed]"
    }
   },
   "cell_type": "markdown",
   "metadata": {},
   "source": [
    "![image.png](attachment:image.png)"
   ]
  },
  {
   "cell_type": "code",
   "execution_count": null,
   "metadata": {},
   "outputs": [
    {
     "name": "stdout",
     "output_type": "stream",
     "text": [
      "Total paths with cost 25 are 2\n"
     ]
    }
   ],
   "source": [
    "# Recursive top-down function to count the total number of paths\n",
    "# to reach cell (m, n) from cell (0, 0) and has given the cost\n",
    "def countPaths(mat, m, n, cost):\n",
    "\n",
    "    # base case\n",
    "    if cost < 0:\n",
    "        return 0\n",
    "\n",
    "    # if we are at the first cell (0, 0)\n",
    "    if m == 0 and n == 0:\n",
    "        return 1 if (mat[0][0] == cost) else 0\n",
    "\n",
    "    if m < 0 or n < 0:\n",
    "        return 0\n",
    "\n",
    "    # recur to count total paths by going both left and top\n",
    "    return countPaths(mat, m - 1, n, cost - mat[m][n]) + countPaths(\n",
    "        mat, m, n - 1, cost - mat[m][n]\n",
    "    )\n",
    "\n",
    "\n",
    "if __name__ == \"__main__\":\n",
    "\n",
    "    mat = [[4, 7, 1, 6], [5, 7, 3, 9], [3, 2, 1, 2], [7, 1, 6, 3]]\n",
    "\n",
    "    cost = 25\n",
    "\n",
    "    print(\n",
    "        f\"Total paths with cost {cost} are\",\n",
    "        countPaths(mat, len(mat) - 1, len(mat[0]) - 1, cost),\n",
    "    )\n",
    "# O(2^(m+n)) memoization (m*n*cost)"
   ]
  },
  {
   "cell_type": "code",
   "execution_count": 78,
   "metadata": {},
   "outputs": [
    {
     "name": "stdout",
     "output_type": "stream",
     "text": [
      "2\n"
     ]
    }
   ],
   "source": [
    "# MAX_K = 1000\n",
    "\n",
    "\n",
    "def pathCountDPRecDP(mat, m, n, k):\n",
    "\n",
    "    # Base cases\n",
    "    if m < 0 or n < 0 or k < 0:\n",
    "        return 0\n",
    "    elif m == 0 and n == 0:\n",
    "        return k == mat[m][n]\n",
    "\n",
    "    # If this subproblem is already solved\n",
    "    if dp[m][n][k] != -1:\n",
    "        return dp[m][n][k]\n",
    "\n",
    "    # #(m, n) can be reached either\n",
    "    # through (m-1, n) or through\n",
    "    # (m, n-1)\n",
    "    dp[m][n][k] = pathCountDPRecDP(mat, m - 1, n, k - mat[m][n]) + pathCountDPRecDP(\n",
    "        mat, m, n - 1, k - mat[m][n]\n",
    "    )\n",
    "\n",
    "    return dp[m][n][k]\n",
    "\n",
    "\n",
    "# A wrapper over pathCountDPRecDP()\n",
    "def pathCountDP(mat, k):\n",
    "    return pathCountDPRecDP(mat, R - 1, C - 1, k)\n",
    "\n",
    "\n",
    "# Driver Code\n",
    "cost_K = 50\n",
    "\n",
    "# Initialising dp[][][]\n",
    "R = len(mat)\n",
    "C = len(mat[0])\n",
    "\n",
    "mat = [[4, 7, 1, 6], [5, 7, 3, 9], [3, 2, 1, 2], [7, 1, 6, 3]]\n",
    "\n",
    "cost = 25\n",
    "\n",
    "dp = [[[-1 for col in range(cost_K)] for col in range(C)] for row in range(R)]\n",
    "\n",
    "\n",
    "print(pathCountDP(mat, cost))"
   ]
  },
  {
   "cell_type": "code",
   "execution_count": 6,
   "metadata": {},
   "outputs": [
    {
     "data": {
      "text/plain": [
       "2"
      ]
     },
     "execution_count": 6,
     "metadata": {},
     "output_type": "execute_result"
    }
   ],
   "source": [
    "# class Solution:\n",
    "def numberOfPath(n, k, arr):\n",
    "    dp = [[[0] * (k + 1) for _ in range(n)] for _ in range(n)]\n",
    "    if arr[0][0] <= k:\n",
    "        dp[0][0][arr[0][0]] = 1\n",
    "\n",
    "    for i in range(n):\n",
    "        for j in range(n):\n",
    "            for m in range(1, k + 1):\n",
    "                if m - arr[i][j] >= 0:\n",
    "                    if i - 1 >= 0:\n",
    "                        dp[i][j][m] += dp[i - 1][j][m - arr[i][j]]\n",
    "                    if j - 1 >= 0:\n",
    "                        dp[i][j][m] += dp[i][j - 1][m - arr[i][j]]\n",
    "\n",
    "    return dp[-1][-1][k]\n",
    "\n",
    "\n",
    "mat = [[4, 7, 1, 6], [5, 7, 3, 9], [3, 2, 1, 2], [7, 1, 6, 3]]\n",
    "\n",
    "cost = 25\n",
    "numberOfPath(4, cost, mat)"
   ]
  },
  {
   "cell_type": "code",
   "execution_count": 79,
   "metadata": {},
   "outputs": [
    {
     "data": {
      "text/plain": [
       "2"
      ]
     },
     "execution_count": 79,
     "metadata": {},
     "output_type": "execute_result"
    }
   ],
   "source": [
    "# class Solution:\n",
    "def numberOfPath(n, k, arr):\n",
    "    dp = [[[0] * (k + 1) for _ in range(n)] for _ in range(n)]\n",
    "    if arr[n - 1][n - 1] <= k:\n",
    "        dp[n - 1][n - 1][arr[n - 1][n - 1]] = 1\n",
    "\n",
    "    for i in range(n - 1, -1, -1):\n",
    "        for j in range(n - 1, -1, -1):\n",
    "            for m in range(1, k + 1):\n",
    "                if m - arr[i][j] >= 0:\n",
    "                    if i + 1 < n:\n",
    "                        dp[i][j][m] += dp[i + 1][j][m - arr[i][j]]\n",
    "                    if j + 1 < n:\n",
    "                        dp[i][j][m] += dp[i][j + 1][m - arr[i][j]]\n",
    "\n",
    "    return dp[0][0][k]\n",
    "\n",
    "\n",
    "mat = [[4, 7, 1, 6], [5, 7, 3, 9], [3, 2, 1, 2], [7, 1, 6, 3]]\n",
    "\n",
    "cost = 25\n",
    "numberOfPath(4, cost, mat)"
   ]
  },
  {
   "cell_type": "markdown",
   "metadata": {},
   "source": [
    "**Minimum path sum in Triangular Grid**\n",
    "\n",
    "At every cell we can move in only two directions: either to the bottom cell (↓) or to the bottom-right cell(↘)"
   ]
  },
  {
   "cell_type": "code",
   "execution_count": 10,
   "metadata": {},
   "outputs": [],
   "source": [
    "triangle = [[1], [2, 3], [3, 6, 7], [8, 9, 6, 10]]\n",
    "n = len(triangle)\n",
    "\n",
    "\n",
    "def solve(tringle, i, j, m, n):\n",
    "    if i == m - 1 and j == n - 1:\n",
    "        return tringle[i][j]\n",
    "\n",
    "    if j > i:\n",
    "        return 1e3\n",
    "    if i >= m or j >= n:\n",
    "        return 1e3\n",
    "    dig = tringle[i][j] + solve(tringle, i + 1, j + 1, m, n)\n",
    "    down = tringle[i][j] + solve(tringle, i + 1, j, m, n)\n",
    "    right = triangle[i][j] + solve(tringle, i, j + 1, m, n)\n",
    "    return min(dig, down, right)"
   ]
  },
  {
   "cell_type": "code",
   "execution_count": 11,
   "metadata": {},
   "outputs": [
    {
     "data": {
      "text/plain": [
       "21"
      ]
     },
     "execution_count": 11,
     "metadata": {},
     "output_type": "execute_result"
    }
   ],
   "source": [
    "solve(triangle, 0, 0, n, n)"
   ]
  },
  {
   "cell_type": "code",
   "execution_count": 7,
   "metadata": {},
   "outputs": [
    {
     "data": {
      "text/plain": [
       "[[1, 100.0, 100.0, 100.0],\n",
       " [3, 4, 100.0, 100.0],\n",
       " [6, 9, 11, 100.0],\n",
       " [14, 15, 15, 21]]"
      ]
     },
     "execution_count": 7,
     "metadata": {},
     "output_type": "execute_result"
    }
   ],
   "source": [
    "triangle = [[1], [2, 3], [3, 6, 7], [8, 9, 6, 10]]\n",
    "n = len(triangle)\n",
    "dp = [[1e2 for i in range(n)] for _ in range(n)]\n",
    "\n",
    "# frist row\n",
    "dp[0][0] = triangle[0][0]\n",
    "\n",
    "# frist column\n",
    "for i in range(1, n):\n",
    "    dp[i][0] = triangle[i][0] + dp[i - 1][0]\n",
    "\n",
    "for i in range(1, n):\n",
    "    for j in range(1, n):\n",
    "        if j > i:\n",
    "            continue\n",
    "        down = triangle[i][j] + dp[i - 1][j]\n",
    "        dig = triangle[i][j] + dp[i - 1][j - 1]\n",
    "        right = triangle[i][j] + dp[i][j - 1]\n",
    "        dp[i][j] = min(down, dig, right)\n",
    "dp"
   ]
  },
  {
   "cell_type": "code",
   "execution_count": 16,
   "metadata": {},
   "outputs": [
    {
     "data": {
      "text/plain": [
       "[14, 23, 29, 39]"
      ]
     },
     "execution_count": 16,
     "metadata": {},
     "output_type": "execute_result"
    }
   ],
   "source": [
    "triangle = [[1], [2, 3], [3, 6, 7], [8, 9, 6, 10]]\n",
    "n = len(triangle)\n",
    "prev = [-1e2 for i in range(n)]\n",
    "\n",
    "# frist row\n",
    "prev[0] = triangle[0][0]\n",
    "\n",
    "\n",
    "for i in range(1, n):\n",
    "    temp = [0] * n\n",
    "    temp[0] = triangle[i][0] + prev[0]\n",
    "    for j in range(1, n):\n",
    "        if j > i:\n",
    "            continue\n",
    "        up = prev[j - 1] + triangle[i][j]\n",
    "        left = temp[j - 1] + triangle[i][j]\n",
    "        dig = triangle[i][j] + prev[j - 1]\n",
    "        temp[j] = max(up, left, dig)\n",
    "    prev = temp\n",
    "prev"
   ]
  },
  {
   "cell_type": "markdown",
   "metadata": {},
   "source": [
    "**Minimum/Maximum Falling Path Sum**\n",
    "\n",
    "We need to find the maximum path sum from any cell of the first row to any cell of the last row.\n",
    "\n",
    "At every cell we can move in three directions: to the bottom cell (↓), to the bottom-right cell(↘), or to the bottom-left cell(↙)."
   ]
  },
  {
   "cell_type": "code",
   "execution_count": 19,
   "metadata": {},
   "outputs": [
    {
     "data": {
      "text/plain": [
       "105"
      ]
     },
     "execution_count": 19,
     "metadata": {},
     "output_type": "execute_result"
    }
   ],
   "source": [
    "cost = [[1, 2, 10, 4], [100, 3, 2, 1], [1, 1, 20, 2], [1, 2, 2, 1]]\n",
    "m, n = len(cost), len(cost[0])\n",
    "\n",
    "\n",
    "def solve(m, n, r, c, cost):\n",
    "\n",
    "    if m < 0 or n < 0:\n",
    "        return float(\"-inf\")\n",
    "\n",
    "    if m >= r or n >= c:\n",
    "        return float(\"-inf\")\n",
    "\n",
    "    if m == 0 and n >= 0:\n",
    "        return cost[m][n]\n",
    "\n",
    "    up = cost[m][n] + solve(m - 1, n, r, c, cost)\n",
    "    ldig = cost[m][n] + solve(m - 1, n - 1, r, c, cost)\n",
    "    rdig = cost[m][n] + solve(m - 1, n + 1, r, c, cost)\n",
    "    return max(up, ldig, rdig)\n",
    "\n",
    "\n",
    "maxi = -1e5\n",
    "for j in range(n):\n",
    "    ans = solve(m - 1, j, m, n, cost)\n",
    "    maxi = max(maxi, ans)\n",
    "\n",
    "maxi"
   ]
  },
  {
   "cell_type": "code",
   "execution_count": 25,
   "metadata": {},
   "outputs": [
    {
     "data": {
      "text/plain": [
       "[[1, 2, 10, 4], [102, 13, 12, 11], [103, 103, 33, 14], [104, 105, 105, 34]]"
      ]
     },
     "execution_count": 25,
     "metadata": {},
     "output_type": "execute_result"
    }
   ],
   "source": [
    "def solve(matrix):\n",
    "    m = len(matrix)  # Number of rows\n",
    "    n = len(matrix[0])  # Number of columns\n",
    "\n",
    "    # Initialize a dynamic programming table (dp) with zeros\n",
    "    dp = [[0 for j in range(n)] for i in range(m)]\n",
    "\n",
    "    # Initializing the first row of dp as the base condition\n",
    "    for j in range(n):\n",
    "        dp[0][j] = matrix[0][j]\n",
    "    for i in range(1, m):\n",
    "        for j in range(n):\n",
    "            up = cost[i][j] + dp[i - 1][j]\n",
    "            ldig = float(\"-inf\")\n",
    "            if i - 1 >= 0 and j - 1 >= 0:\n",
    "                ldig = cost[i][j] + dp[i - 1][j - 1]\n",
    "            rdig = float(\"-inf\")\n",
    "            if i - 1 >= 0 and j + 1 < n:\n",
    "                rdig = cost[i][j] + dp[i - 1][j + 1]\n",
    "            dp[i][j] = max(up, ldig, rdig)\n",
    "    return dp\n",
    "\n",
    "\n",
    "cost = [[1, 2, 10, 4], [100, 3, 2, 1], [1, 1, 20, 2], [1, 2, 2, 1]]\n",
    "solve(cost)"
   ]
  },
  {
   "cell_type": "code",
   "execution_count": 31,
   "metadata": {},
   "outputs": [
    {
     "data": {
      "text/plain": [
       "[104, 105, 105, 34]"
      ]
     },
     "execution_count": 31,
     "metadata": {},
     "output_type": "execute_result"
    }
   ],
   "source": [
    "def solve(matrix):\n",
    "    m = len(matrix)  # Number of rows\n",
    "    n = len(matrix[0])  # Number of columns\n",
    "\n",
    "    # Initialize a dynamic programming table (dp) with zeros\n",
    "    prev = [0 for j in range(n)]\n",
    "\n",
    "    # Initializing the first row of dp as the base condition\n",
    "    for j in range(n):\n",
    "        prev[j] = matrix[0][j]\n",
    "\n",
    "    for i in range(1, m):\n",
    "        temp = [0] * n\n",
    "        for j in range(n):\n",
    "            up = matrix[i][j] + prev[j]\n",
    "            ldig = float(\"-inf\")\n",
    "            if i - 1 >= 0 and j - 1 >= 0:\n",
    "                ldig = matrix[i][j] + prev[j - 1]\n",
    "            rdig = float(\"-inf\")\n",
    "            if i - 1 >= 0 and j + 1 < n:\n",
    "                rdig = matrix[i][j] + prev[j + 1]\n",
    "            temp[j] = max(up, ldig, rdig)\n",
    "        prev = temp\n",
    "    return prev\n",
    "\n",
    "\n",
    "cost = [[1, 2, 10, 4], [100, 3, 2, 1], [1, 1, 20, 2], [1, 2, 2, 1]]\n",
    "solve(cost)"
   ]
  },
  {
   "attachments": {
    "image.png": {
     "image/png": "[encoded data removed]"
    }
   },
   "cell_type": "markdown",
   "metadata": {},
   "source": [
    "A falling path with non-zero shifts is a choice of exactly one element from each row of grid such that no two elements chosen in adjacent rows are in the same column.\n",
    "\n",
    "![image.png](attachment:image.png)\n",
    "\n",
    "\n",
    "\n",
    "Input: grid = [[1,2,3],[4,5,6],[7,8,9]]\n",
    "\n",
    "Output: 13\n",
    "Explanation: \n",
    "\n",
    "The possible falling paths are:\n",
    "\n",
    "[1,5,9], [1,5,7], [1,6,7], [1,6,8],\n",
    "\n",
    "[2,4,8], [2,4,9], [2,6,7], [2,6,8],\n",
    "\n",
    "[3,4,8], [3,4,9], [3,5,7], [3,5,9]\n",
    "\n",
    "The falling path with the smallest sum is [1,5,7], so the answer is 13"
   ]
  },
  {
   "cell_type": "code",
   "execution_count": null,
   "metadata": {},
   "outputs": [],
   "source": [
    "class Solution:\n",
    "    def minFallingPathSum(self, grid) -> int:\n",
    "        def dfs(i, j):\n",
    "            nonlocal dp, m, n\n",
    "\n",
    "            # base1; last row so return the cell value\n",
    "            if i == m - 1:\n",
    "                return grid[i][j]\n",
    "\n",
    "            # seen before\n",
    "            if dp[i][j] != -1:\n",
    "                return dp[i][j]\n",
    "\n",
    "            # otherwise compute dp[i][j]\n",
    "            res = float(\"inf\")\n",
    "            for col in range(n):\n",
    "                # pass; same column as j\n",
    "                if col == j:\n",
    "                    continue\n",
    "\n",
    "                # get the current cell value and go to next row i + 1\n",
    "                temp = grid[i][j] + dfs(i + 1, col)\n",
    "\n",
    "                # compare\n",
    "                res = min(res, temp)\n",
    "\n",
    "            # update\n",
    "            dp[i][j] = res\n",
    "\n",
    "            return dp[i][j]\n",
    "\n",
    "        m, n = len(grid), len(grid[0])\n",
    "\n",
    "        # dp[i][j] := minimum sum of a falling path with non-zero shifts starting at cell (i, j)\n",
    "        dp = [[-1 for _ in range(n)] for _ in range(m)]\n",
    "\n",
    "        minSum = float(\"inf\")\n",
    "\n",
    "        # run dfs for each possible col on first row\n",
    "        for j in range(n):\n",
    "            temp = dfs(0, j)\n",
    "            minSum = min(minSum, temp)\n",
    "\n",
    "        return minSum"
   ]
  },
  {
   "cell_type": "code",
   "execution_count": null,
   "metadata": {},
   "outputs": [
    {
     "data": {
      "text/plain": [
       "[[1, 2, 3], [6, 6, 8], [13, 14, 15]]"
      ]
     },
     "execution_count": 30,
     "metadata": {},
     "output_type": "execute_result"
    }
   ],
   "source": [
    "class Solution:\n",
    "    def minFallingPathSum(self, grid) -> int:\n",
    "        m, n = len(grid), len(grid[0])\n",
    "\n",
    "        # copy the first row of grid\n",
    "        dp = grid[0]\n",
    "\n",
    "        # iterate over rows starting at row 1\n",
    "        for i in range(1, m):\n",
    "            newDP = [float(\"inf\")] * n\n",
    "\n",
    "            # iterate over possible column as the current column\n",
    "            for j in range(n):\n",
    "                # find the min value in moving from (i, j) to (i + 1, k)\n",
    "                # iterate over possible column as the new column k\n",
    "                for k in range(n):\n",
    "                    # pass; same column as j\n",
    "                    if k == j:\n",
    "                        continue\n",
    "\n",
    "                    # move from column j to column k\n",
    "                    temp = grid[i][j] + dp[k]\n",
    "\n",
    "                    # update column j\n",
    "                    newDP[j] = min(newDP[j], temp)\n",
    "\n",
    "            # copy newDP into dp\n",
    "            dp = newDP\n",
    "\n",
    "        # get the min of dp\n",
    "        return min(dp)"
   ]
  },
  {
   "cell_type": "markdown",
   "metadata": {},
   "source": [
    "3-d DP : Ninja and his friends\n",
    "\n",
    "We have two friends ‘Alice’ and ‘Bob’. initially, Alice is standing on the cell(0,0) and Bob is standing on the cell(0, M-1). Both of them can move only to the cells below them\n",
    "\n",
    "in these three directions: to the bottom cell (↓), to the bottom-right cell(↘), or to the bottom-left cell(↙).\n",
    "\n",
    "When Alica and Bob visit a cell, they take all the chocolates from that cell with them. It can happen that they visit the same cell, in that case, the chocolates need to be\n",
    " \n",
    "considered only once."
   ]
  },
  {
   "cell_type": "markdown",
   "metadata": {},
   "source": [
    "Now, we need to understand that we want to move Alice and Bob together. Both of them can individually move three moves but say Alice moves to bottom-left, then Bob can have\n",
    "\n",
    "three different moves for Alice’s move, and so on. The following figures will help to understand this:\n",
    "\n",
    "Hence we have a total of 9 different options at every f(i,j1,j2) to move Alice and Bob. \n"
   ]
  },
  {
   "cell_type": "code",
   "execution_count": null,
   "metadata": {},
   "outputs": [
    {
     "name": "stdout",
     "output_type": "stream",
     "text": [
      "21\n"
     ]
    }
   ],
   "source": [
    "import sys\n",
    "\n",
    "\n",
    "# Recursive function to find the maximum chocolates collected\n",
    "def maxChocoUtil(i, j1, j2, n, m, grid, dp):\n",
    "    # Base cases:\n",
    "    # - If either of the indices is out of bounds, return a large negative value\n",
    "    # - If we're at the last row, return the sum of chocolates in the two selected columns\n",
    "    if j1 < 0 or j1 >= m or j2 < 0 or j2 >= m:\n",
    "        return int(-1e9)\n",
    "    if i == n - 1:\n",
    "        if j1 == j2:\n",
    "            return grid[i][j1]\n",
    "        else:\n",
    "            return grid[i][j1] + grid[i][j2]\n",
    "\n",
    "    # If the result for these indices has already been computed, return it\n",
    "    if dp[i][j1][j2] != -1:\n",
    "        return dp[i][j1][j2]\n",
    "\n",
    "    # Initialize the maximum chocolates collected to a large negative value\n",
    "    maxi = -sys.maxsize\n",
    "\n",
    "    # Iterate through the adjacent cells in the next row\n",
    "    for di in range(-1, 2):  # -1 , 0, 1\n",
    "        for dj in range(-1, 2):  # -1 , 0, 1\n",
    "            ans = 0\n",
    "            if j1 == j2:\n",
    "                ans = grid[i][j1] + maxChocoUtil(\n",
    "                    i + 1, j1 + di, j2 + dj, n, m, grid, dp\n",
    "                )\n",
    "            else:\n",
    "                ans = (\n",
    "                    grid[i][j1]\n",
    "                    + grid[i][j2]\n",
    "                    + maxChocoUtil(i + 1, j1 + di, j2 + dj, n, m, grid, dp)\n",
    "                )\n",
    "            maxi = max(maxi, ans)\n",
    "\n",
    "    # Store the maximum chocolates collected in the memoization table\n",
    "    dp[i][j1][j2] = maxi\n",
    "    return maxi\n",
    "\n",
    "\n",
    "# Function to find the maximum chocolates collected\n",
    "def maximumChocolates(n, m, grid):\n",
    "    # Initialize a memoization table with -1 values\n",
    "    dp = [[[-1 for j in range(m)] for i in range(m)] for k in range(n)]\n",
    "\n",
    "    # Start the recursion from the first row, columns 0 and m-1\n",
    "    return maxChocoUtil(0, 0, m - 1, n, m, grid, dp)\n",
    "\n",
    "\n",
    "def main():\n",
    "    # Define the input matrix and its dimensions\n",
    "    matrix = [[2, 3, 1, 2], [3, 4, 2, 2], [5, 6, 3, 5]]\n",
    "    n = len(matrix)\n",
    "    m = len(matrix[0])\n",
    "\n",
    "    # Call the maximumChocolates function and print the result\n",
    "    print(maximumChocolates(n, m, matrix))\n",
    "\n",
    "\n",
    "if __name__ == \"__main__\":\n",
    "    main()"
   ]
  },
  {
   "cell_type": "code",
   "execution_count": 33,
   "metadata": {},
   "outputs": [
    {
     "name": "stdout",
     "output_type": "stream",
     "text": [
      "21\n"
     ]
    }
   ],
   "source": [
    "import sys\n",
    "\n",
    "\n",
    "# Function to find the maximum chocolates collected\n",
    "def maximumChocolates(n, m, grid):\n",
    "    # Initialize a 3D memoization table dp with zeros\n",
    "    dp = [[[0 for _ in range(m)] for _ in range(m)] for _ in range(n)]\n",
    "\n",
    "    # Initialize the values for the last row of dp based on grid values\n",
    "    for j1 in range(m):\n",
    "        for j2 in range(m):\n",
    "            if j1 == j2:\n",
    "                dp[n - 1][j1][j2] = grid[n - 1][j1]\n",
    "            else:\n",
    "                dp[n - 1][j1][j2] = grid[n - 1][j1] + grid[n - 1][j2]\n",
    "\n",
    "    # Iterate through rows from the second-to-last row to the first row\n",
    "    for i in range(n - 2, -1, -1):\n",
    "        for j1 in range(m):\n",
    "            for j2 in range(m):\n",
    "                maxi = -sys.maxsize\n",
    "\n",
    "                # Try out 9 possible options by changing the indices\n",
    "                for di in range(-1, 2):\n",
    "                    for dj in range(-1, 2):\n",
    "                        ans = 0\n",
    "                        if j1 == j2:\n",
    "                            ans = grid[i][j1]\n",
    "                        else:\n",
    "                            ans = grid[i][j1] + grid[i][j2]\n",
    "\n",
    "                        if (j1 + di < 0 or j1 + di >= m) or (\n",
    "                            j2 + dj < 0 or j2 + dj >= m\n",
    "                        ):\n",
    "                            ans += int(-1e9)  # A large negative value if out of bounds\n",
    "                        else:\n",
    "                            ans += dp[i + 1][j1 + di][\n",
    "                                j2 + dj\n",
    "                            ]  # Add the value from the next row\n",
    "\n",
    "                        maxi = max(ans, maxi)\n",
    "\n",
    "                # Store the maximum chocolates collected in the memoization table\n",
    "                dp[i][j1][j2] = maxi\n",
    "\n",
    "    # Return the maximum chocolates collected in the top row and the last column\n",
    "    return dp[0][0][m - 1]\n",
    "\n",
    "\n",
    "def main():\n",
    "    # Define the input matrix and its dimensions\n",
    "    matrix = [[2, 3, 1, 2], [3, 4, 2, 2], [5, 6, 3, 5]]\n",
    "    n = len(matrix)\n",
    "    m = len(matrix[0])\n",
    "\n",
    "    # Call the maximumChocolates function and print the result\n",
    "    print(maximumChocolates(n, m, matrix))\n",
    "\n",
    "\n",
    "if __name__ == \"__main__\":\n",
    "    main()"
   ]
  },
  {
   "cell_type": "markdown",
   "metadata": {},
   "source": [
    "**space-opt**"
   ]
  },
  {
   "cell_type": "code",
   "execution_count": null,
   "metadata": {},
   "outputs": [
    {
     "name": "stdout",
     "output_type": "stream",
     "text": [
      "The slowest run took 5.16 times longer than the fastest. This could mean that an intermediate result is being cached.\n",
      "2.44 µs ± 1.73 µs per loop (mean ± std. dev. of 7 runs, 5 loops each)\n"
     ]
    }
   ],
   "source": [
    "import sys\n",
    "\n",
    "\n",
    "# Function to find the maximum chocolates collected\n",
    "\n",
    "\n",
    "def maximumChocolates(n, m, grid):\n",
    "\n",
    "    # Initialize two matrices: front (for the current row) and cur (for the next row)\n",
    "\n",
    "    front = [[0] * m for _ in range(m)]\n",
    "\n",
    "    cur = [[0] * m for _ in range(m)]\n",
    "\n",
    "    # Initialize the values for the last row of front based on grid values\n",
    "\n",
    "    for j1 in range(m):\n",
    "\n",
    "        for j2 in range(m):\n",
    "\n",
    "            if j1 == j2:\n",
    "\n",
    "                front[j1][j2] = grid[n - 1][j1]\n",
    "\n",
    "            else:\n",
    "\n",
    "                front[j1][j2] = grid[n - 1][j1] + grid[n - 1][j2]\n",
    "\n",
    "    # Iterate through rows from the second-to-last row to the first row\n",
    "\n",
    "    for i in range(n - 2, -1, -1):\n",
    "\n",
    "        for j1 in range(m):\n",
    "\n",
    "            for j2 in range(m):\n",
    "\n",
    "                maxi = -sys.maxsize\n",
    "\n",
    "                # Try out 9 possible options by changing the indices\n",
    "\n",
    "                for di in range(-1, 2):\n",
    "\n",
    "                    for dj in range(-1, 2):\n",
    "\n",
    "                        ans = 0\n",
    "\n",
    "                        if j1 == j2:\n",
    "\n",
    "                            ans = grid[i][j1]\n",
    "\n",
    "                        else:\n",
    "\n",
    "                            ans = grid[i][j1] + grid[i][j2]\n",
    "\n",
    "                        if (j1 + di < 0 or j1 + di >= m) or (\n",
    "                            j2 + dj < 0 or j2 + dj >= m\n",
    "                        ):\n",
    "\n",
    "                            ans += int(-1e9)  # A large negative value if out of bounds\n",
    "\n",
    "                        else:\n",
    "\n",
    "                            ans += front[j1 + di][\n",
    "                                j2 + dj\n",
    "                            ]  # Add the value from the current front row\n",
    "\n",
    "                        maxi = max(ans, maxi)\n",
    "\n",
    "                cur[j1][j2] = maxi\n",
    "\n",
    "        # Update front with the values of cur for the next iteration\n",
    "\n",
    "        front = [row[:] for row in cur]\n",
    "\n",
    "    # Return the maximum chocolates collected in the top-left corner of front\n",
    "\n",
    "    return front[0][m - 1]\n",
    "\n",
    "\n",
    "def main():\n",
    "\n",
    "    # Define the input matrix and its dimensions\n",
    "\n",
    "    matrix = [[2, 3, 1, 2], [3, 4, 2, 2], [5, 6, 3, 5]]\n",
    "\n",
    "    n = len(matrix)\n",
    "\n",
    "    m = len(matrix[0])\n",
    "\n",
    "    # Call the maximumChocolates function and print the result\n",
    "\n",
    "    # print(maximumChocolates(n, m, matrix))\n",
    "\n",
    "\n",
    "if __name__ == \"__main__\":\n",
    "\n",
    "    main()"
   ]
  },
  {
   "cell_type": "markdown",
   "metadata": {},
   "source": [
    "Find the longest sequence formed by adjacent numbers in the matrix"
   ]
  },
  {
   "cell_type": "code",
   "execution_count": 71,
   "metadata": {},
   "outputs": [
    {
     "data": {
      "text/plain": [
       "6"
      ]
     },
     "execution_count": 71,
     "metadata": {},
     "output_type": "execute_result"
    }
   ],
   "source": [
    "# %%timeit -n 5\n",
    "\n",
    "\n",
    "def dfs(i, j, mat, prev, dp):\n",
    "    if (i, j, prev) in dp:\n",
    "        return dp[(i, j, prev)]\n",
    "\n",
    "    dx = [1, 0, -1, 0]\n",
    "    dy = [0, 1, 0, -1]\n",
    "    curr = 1\n",
    "    for k in range(4):\n",
    "        xx = i + dx[k]\n",
    "        yy = j + dy[k]\n",
    "        if (\n",
    "            0 <= xx < len(mat)\n",
    "            and 0 <= yy < len(mat[0])\n",
    "            and (i, j, prev) not in dp\n",
    "            and (prev == mat[xx][yy] - 1)\n",
    "        ):\n",
    "            curr = max(curr, 1 + dfs(xx, yy, mat, mat[xx][yy], dp))\n",
    "    dp[(i, j, prev)] = curr\n",
    "    return dp[(i, j, prev)]\n",
    "\n",
    "\n",
    "# class Solution:\n",
    "def longestIncreasingPath(mat):\n",
    "    ans = 1\n",
    "    dp = dict()\n",
    "    row, col = len(mat), len(mat[0])\n",
    "    for i in range(row):\n",
    "        for j in range(col):\n",
    "            ans = max(ans, dfs(i, j, mat, mat[i][j], dp))\n",
    "    return ans\n",
    "    # Code here\n",
    "\n",
    "\n",
    "mat = [\n",
    "    [10, 13, 14, 21, 23],\n",
    "    [11, 9, 22, 2, 3],\n",
    "    [12, 8, 1, 5, 4],\n",
    "    [15, 24, 7, 6, 20],\n",
    "    [16, 17, 18, 19, 25],\n",
    "]\n",
    "\n",
    "ans = longestIncreasingPath(mat)\n",
    "ans"
   ]
  },
  {
   "cell_type": "code",
   "execution_count": 74,
   "metadata": {},
   "outputs": [
    {
     "data": {
      "text/plain": [
       "'2, 3, 4, 5, 6, 7'"
      ]
     },
     "execution_count": 74,
     "metadata": {},
     "output_type": "execute_result"
    }
   ],
   "source": [
    "# %%timeit -n 5\n",
    "\n",
    "\n",
    "def dfs(i, j, mat, prev, dp):\n",
    "    if (i, j, prev) in dp:\n",
    "        return dp[(i, j, prev)]\n",
    "\n",
    "    dx = [1, 0, -1, 0]\n",
    "    dy = [0, 1, 0, -1]\n",
    "    path = None\n",
    "    for k in range(4):\n",
    "        xx = i + dx[k]\n",
    "        yy = j + dy[k]\n",
    "        if (\n",
    "            0 <= xx < len(mat)\n",
    "            and 0 <= yy < len(mat[0])\n",
    "            and (i, j, prev) not in dp\n",
    "            and (prev == mat[xx][yy] - 1)\n",
    "        ):\n",
    "            path = dfs(xx, yy, mat, mat[xx][yy], dp)\n",
    "    dp[(i, j, prev)] = f\"{mat[i][j]}, {path}\" if path else str(mat[i][j])\n",
    "    return dp[(i, j, prev)]\n",
    "\n",
    "\n",
    "# class Solution:\n",
    "def longestIncreasingPath(mat):\n",
    "    ans = 1\n",
    "    dp = dict()\n",
    "    res_size = -sys.maxsize\n",
    "    row, col = len(mat), len(mat[0])\n",
    "    for i in range(row):\n",
    "        for j in range(col):\n",
    "            path = dfs(i, j, mat, mat[i][j], dp)\n",
    "\n",
    "            # find the number of elements involved in the current path\n",
    "            size = path.count(\",\")\n",
    "            # update result if a longer path is found\n",
    "            if size > res_size:\n",
    "                result = path  # update the longest path found so far\n",
    "                res_size = size\n",
    "\n",
    "    return result\n",
    "    # Code here\n",
    "\n",
    "\n",
    "mat = [\n",
    "    [10, 13, 14, 21, 23],\n",
    "    [11, 9, 22, 2, 3],\n",
    "    [12, 8, 1, 5, 4],\n",
    "    [15, 24, 7, 6, 20],\n",
    "    [16, 17, 18, 19, 25],\n",
    "]\n",
    "\n",
    "ans = longestIncreasingPath(mat)\n",
    "ans"
   ]
  },
  {
   "cell_type": "markdown",
   "metadata": {},
   "source": [
    "Find the length of the longest path in a matrix with consecutive characters"
   ]
  },
  {
   "cell_type": "code",
   "execution_count": 3,
   "metadata": {},
   "outputs": [
    {
     "data": {
      "text/plain": [
       "'B, C, D, E, F, G, H'"
      ]
     },
     "execution_count": 3,
     "metadata": {},
     "output_type": "execute_result"
    }
   ],
   "source": [
    "# row = [-1, -1, -1, 0, 0, 1, 1, 1]\n",
    "# col = [-1, 0, 1, -1, 1, -1, 0, 1]\n",
    "import sys\n",
    "\n",
    "\n",
    "# check whether cell (x, y) is valid or not\n",
    "def isValid(x, y, mat):\n",
    "    return 0 <= x < len(mat) and 0 <= y < len(mat[0])\n",
    "\n",
    "\n",
    "def dfs(i, j, mat, prev, dp):\n",
    "    if (i, j, prev) in dp:\n",
    "        return dp[(i, j, prev)]\n",
    "\n",
    "    dx = [-1, -1, -1, 0, 0, 1, 1, 1]\n",
    "    dy = [-1, 0, 1, -1, 1, -1, 0, 1]\n",
    "    path = None\n",
    "    for k in range(8):\n",
    "        xx = i + dx[k]\n",
    "        yy = j + dy[k]\n",
    "        if (\n",
    "            0 <= xx < len(mat)\n",
    "            and 0 <= yy < len(mat[0])\n",
    "            and (i, j, prev) not in dp\n",
    "            and (chr(ord(prev) + 1) == mat[xx][yy])\n",
    "        ):\n",
    "            path = dfs(xx, yy, mat, mat[xx][yy], dp)\n",
    "    dp[(i, j, prev)] = f\"{mat[i][j]}, {path}\" if path else str(mat[i][j])\n",
    "    return dp[(i, j, prev)]\n",
    "\n",
    "\n",
    "# class Solution:\n",
    "def longestIncreasingPath(mat):\n",
    "    ans = 1\n",
    "    dp = dict()\n",
    "    res_size = -sys.maxsize\n",
    "    row, col = len(mat), len(mat[0])\n",
    "    for i in range(row):\n",
    "        for j in range(col):\n",
    "            path = dfs(i, j, mat, mat[i][j], dp)\n",
    "\n",
    "            # find the number of elements involved in the current path\n",
    "            size = path.count(\",\")\n",
    "            # update result if a longer path is found\n",
    "            if size > res_size:\n",
    "                result = path  # update the longest path found so far\n",
    "                res_size = size\n",
    "\n",
    "    return result\n",
    "\n",
    "\n",
    "mat = [\n",
    "    [\"D\", \"E\", \"H\", \"X\", \"B\"],\n",
    "    [\"A\", \"O\", \"G\", \"P\", \"E\"],\n",
    "    [\"D\", \"D\", \"C\", \"F\", \"D\"],\n",
    "    [\"E\", \"B\", \"E\", \"A\", \"S\"],\n",
    "    [\"C\", \"D\", \"Y\", \"E\", \"N\"],\n",
    "]\n",
    "ans = longestIncreasingPath(mat)\n",
    "ans"
   ]
  },
  {
   "cell_type": "markdown",
   "metadata": {},
   "source": [
    "Ways to reach the bottom-right corner of a matrix with exactly `k` turns allowed"
   ]
  },
  {
   "cell_type": "code",
   "execution_count": 122,
   "metadata": {},
   "outputs": [
    {
     "name": "stdout",
     "output_type": "stream",
     "text": [
      "The total number of ways is 2\n"
     ]
    }
   ],
   "source": [
    "# Function to check whether (i, j) is a valid matrix coordinate or not\n",
    "def isValid(i, j, M, N):\n",
    "    return 0 <= i < M and 0 <= j < N\n",
    "\n",
    "\n",
    "# Recursive function to count the number of different ways to reach the last\n",
    "# cell (M-1, N-1) of a matrix from the given cell (i, j) with `k` turns left.\n",
    "# `isCol` flag is true when the current direction is along the column, false otherwise.\n",
    "def totalWays(M, N, i, j, k, isCol):\n",
    "    # If the number of turns is exhausted or if the cell is invalid\n",
    "    if k == -1 or not isValid(i, j, M, N):\n",
    "        return 0\n",
    "\n",
    "    # If the destination is reached with exactly `k` turns\n",
    "    if k == 0 and i == M - 1 and j == N - 1:\n",
    "        return 1\n",
    "\n",
    "    # If the current direction is along a column\n",
    "    if isCol:\n",
    "        # 1. Continue moving along the column\n",
    "        # 2. Turn right and decrement the number of turns by 1\n",
    "        return totalWays(M, N, i + 1, j, k, isCol) + totalWays(\n",
    "            M, N, i, j + 1, k - 1, not isCol\n",
    "        )\n",
    "\n",
    "    # If the current direction is along a row\n",
    "    # 1. Continue moving along the row\n",
    "    # 2. Turn down and decrement the number of turns by 1\n",
    "    return totalWays(M, N, i, j + 1, k, isCol) + totalWays(\n",
    "        M, N, i + 1, j, k - 1, not isCol\n",
    "    )\n",
    "\n",
    "\n",
    "# Function to count the number of different ways to reach the bottom-right corner\n",
    "# of a matrix from its top-left corner with exactly `k` turns allowed\n",
    "def findTotalWays(M, N, k, i=0, j=0):\n",
    "    # Recur by moving along a column and a row.\n",
    "    return totalWays(M, N, i + 1, j, k, True) + totalWays(M, N, i, j + 1, k, False)\n",
    "\n",
    "\n",
    "if __name__ == \"__main__\":\n",
    "\n",
    "    # `M × N` matrix\n",
    "    M = N = 3\n",
    "\n",
    "    # Number of turns\n",
    "    k = 2\n",
    "\n",
    "    print(\"The total number of ways is\", findTotalWays(M, N, k))"
   ]
  },
  {
   "cell_type": "markdown",
   "metadata": {},
   "source": [
    " Santa wants to give gifts and chocolates to the kids who live in the building which is present at the cell (N - 1, M - 1). \n",
    " \n",
    " Initially, Santa is present on cell (0, 0).\n",
    "\n",
    " The time taken to reach from one building to another is equal to the absolute difference between the heights of buildings.\n",
    "\n",
    " 8 dir allowed"
   ]
  },
  {
   "cell_type": "code",
   "execution_count": 22,
   "metadata": {},
   "outputs": [],
   "source": [
    "from heapq import *\n",
    "\n",
    "\n",
    "def find_shortest_path(heights):\n",
    "    rows = len(heights)\n",
    "    cols = len(heights[0])\n",
    "    dp = [[float(\"inf\")] * cols for _ in range(rows)]\n",
    "    dp[0][0] = 0\n",
    "    pq = [(0, (0, 0))]\n",
    "\n",
    "    while pq:\n",
    "        current_time, (row, col) = heappop(pq)\n",
    "        for i, j in [\n",
    "            (1, 0),\n",
    "            (-1, 0),\n",
    "            (0, 1),\n",
    "            (0, -1),\n",
    "            (1, 1),\n",
    "            (1, -1),\n",
    "            (-1, 1),\n",
    "            (-1, -1),\n",
    "        ]:\n",
    "            next_row = row + i\n",
    "            next_col = col + j\n",
    "            if 0 <= next_row < rows and 0 <= next_col < cols:\n",
    "                new_time = current_time + abs(\n",
    "                    heights[row][col] - heights[next_row][next_col]\n",
    "                )\n",
    "                if new_time < dp[next_row][next_col]:\n",
    "                    dp[next_row][next_col] = new_time\n",
    "                    heappush(pq, (new_time, (next_row, next_col)))\n",
    "\n",
    "    return dp[rows - 1][cols - 1]"
   ]
  },
  {
   "cell_type": "markdown",
   "metadata": {},
   "source": [
    "Given a matrix A[][] of size N * M columns each element consists of either 0 representing free space and 1 representing wall.\n",
    "\n",
    " In one operation you can move from the current cell to Up, Down, Left or Right with 0 cost and move diagonally with cost 1. \n",
    " \n",
    " The task is to find the minimum cost to travel from top-left to bottom-right.\n",
    "\n",
    " The time complexity of the given code is O(N*Mlog(N*M))"
   ]
  },
  {
   "cell_type": "code",
   "execution_count": 23,
   "metadata": {},
   "outputs": [
    {
     "name": "stdout",
     "output_type": "stream",
     "text": [
      "1\n",
      "2\n"
     ]
    }
   ],
   "source": [
    "import heapq\n",
    "\n",
    "# King path\n",
    "dx = [1, -1, 0, 0, 1, -1, 1, -1]\n",
    "dy = [0, 0, 1, -1, 1, 1, -1, -1]\n",
    "\n",
    "\n",
    "# Function to check if given coordinates\n",
    "# are inside the grid or not\n",
    "def ok(X, Y, N, M):\n",
    "    return 0 <= X < N and 0 <= Y < M\n",
    "\n",
    "\n",
    "# Function to find minimum cost to\n",
    "# traverse from (0, 0) to (N-1, M-1)\n",
    "def minCost(A, N, M):\n",
    "    # Distance array\n",
    "    dist = [[float(\"inf\") for _ in range(M)] for _ in range(N)]\n",
    "\n",
    "    # Source distance initialized\n",
    "    # with zero\n",
    "    dist[0][0] = 0\n",
    "\n",
    "    # Priority queue for Dijkstra's Algorithm\n",
    "    pq = [(0, (0, 0))]\n",
    "\n",
    "    # Running Dijkstra's Algorithm\n",
    "    while pq:\n",
    "        # Top element of priority queue\n",
    "        curDist, (curX, curY) = heapq.heappop(pq)\n",
    "\n",
    "        # If the current distance is greater than\n",
    "        # the distance in the distance array, skip it\n",
    "        if curDist > dist[curX][curY]:\n",
    "            continue\n",
    "\n",
    "        for i in range(8):\n",
    "            # New coordinates\n",
    "            newX, newY = curX + dx[i], curY + dy[i]\n",
    "\n",
    "            if ok(newX, newY, N, M) and A[newX][newY] == 0:\n",
    "                cost = 0\n",
    "\n",
    "                # If diagonal move, set cost to 1\n",
    "                if i > 3:\n",
    "                    cost = 1\n",
    "\n",
    "                newDist = curDist + cost\n",
    "\n",
    "                # If the new distance is smaller than\n",
    "                # the distance in the distance array, update it\n",
    "                if newDist < dist[newX][newY]:\n",
    "                    dist[newX][newY] = newDist\n",
    "                    heapq.heappush(pq, (newDist, (newX, newY)))\n",
    "\n",
    "    # Returning the final answer\n",
    "    return dist[N - 1][M - 1]\n",
    "\n",
    "\n",
    "# Driver Code\n",
    "if __name__ == \"__main__\":\n",
    "    # Input 1\n",
    "    N = 4\n",
    "    M = 4\n",
    "    A = [[0, 0, 1, 0], [0, 0, 1, 0], [0, 1, 0, 0], [0, 1, 0, 0]]\n",
    "\n",
    "    # Function Call\n",
    "    print(minCost(A, N, M))\n",
    "\n",
    "    # Input 2\n",
    "    N1 = 5\n",
    "    M1 = 5\n",
    "    A1 = [\n",
    "        [0, 0, 1, 0, 0],\n",
    "        [1, 0, 1, 0, 1],\n",
    "        [1, 1, 0, 1, 1],\n",
    "        [1, 0, 1, 0, 1],\n",
    "        [0, 0, 1, 0, 0],\n",
    "    ]\n",
    "\n",
    "    # Function Call\n",
    "    print(minCost(A1, N1, M1))"
   ]
  },
  {
   "cell_type": "markdown",
   "metadata": {},
   "source": [
    "Let there be a subarray [L, R] whose average is equal to K, then\n",
    "=> K = average[L, R] = sum[0, R] – sum[0, L-1] / (R – L + 1)\n",
    "=> (R – L + 1) * K = sum[0, R] – sum[0, L – 1]\n",
    "=> R * k – (L – 1)* K = sum[0, R] – sum[0, L – 1]\n",
    "=> sum[0, R] – R * k = sum[0, L – 1]  – (L – 1)* K\n",
    "\n",
    "\n",
    "If every element is decreased by K, then the average will also decrease by K. Therefore, the average can be reduced to zero, so the problem becomes finding the number of subarrays having average equals zero.\n",
    "The average zero is possible only if:\n",
    "sum[0, R] – sum[0, L-1] / (R – L + 1) = 0\n",
    "=> sum[0, R] = sum[0, L-1]"
   ]
  },
  {
   "cell_type": "code",
   "execution_count": null,
   "metadata": {},
   "outputs": [],
   "source": [
    "# Python Program for the above approach\n",
    "\n",
    "\n",
    "# Function to count subarray having average\n",
    "# exactly equal to K\n",
    "def countKAverageSubarrays(arr, n, k):\n",
    "\n",
    "    result = 0\n",
    "    curSum = 0\n",
    "\n",
    "    # Store the frequency of prefix\n",
    "    # sum of the array arr[]\n",
    "    mp = dict()\n",
    "\n",
    "    for i in range(0, n):\n",
    "\n",
    "        # Subtract k from each element,\n",
    "        # then add it to curSum\n",
    "        curSum += arr[i] - k\n",
    "\n",
    "        # If curSum is 0 that means\n",
    "        # sum[0...i] is 0 so increment\n",
    "        # res\n",
    "        if curSum == 0:\n",
    "            result += 1\n",
    "\n",
    "        # Check if curSum has occurred\n",
    "        # before and if it has occurred\n",
    "        # before, add it's frequency to\n",
    "        # res\n",
    "        if curSum in mp:\n",
    "            result += mp[curSum]\n",
    "\n",
    "        # Increment the frequency\n",
    "        # of curSum\n",
    "        if curSum in mp:\n",
    "            mp[curSum] += 1\n",
    "        else:\n",
    "            mp[curSum] = 1\n",
    "\n",
    "    # Return result\n",
    "    return result\n",
    "\n",
    "\n",
    "# Driver code\n",
    "if __name__ == \"__main__\":\n",
    "\n",
    "    # Given Input\n",
    "    K = 6\n",
    "    arr = [12, 5, 3, 10, 4, 8, 10, 12, -6, -1]\n",
    "    N = len(arr)\n",
    "\n",
    "    # Function Call\n",
    "    print(countKAverageSubarrays(arr, N, K))\n",
    "\n",
    "# This code is contributed by MuskanKalra1"
   ]
  },
  {
   "cell_type": "code",
   "execution_count": null,
   "metadata": {},
   "outputs": [],
   "source": [
    "maxsize = int(1e9 + 7)\n",
    "\n",
    "\n",
    "# function to find the smallest sum\n",
    "# contiguous subarray\n",
    "def smallestSumSubarr(arr, n):\n",
    "    # to store the minimum value that is ending\n",
    "    # up to the current index\n",
    "    min_ending_here = maxsize\n",
    "\n",
    "    # to store the minimum value encountered so far\n",
    "    min_so_far = maxsize\n",
    "\n",
    "    # traverse the array elements\n",
    "    for i in range(n):\n",
    "        # if min_ending_here > 0, then it could not possibly\n",
    "        # contribute to the minimum sum further\n",
    "        if min_ending_here > 0:\n",
    "            min_ending_here = arr[i]\n",
    "\n",
    "        # else add the value arr[i] to min_ending_here\n",
    "        else:\n",
    "            min_ending_here += arr[i]\n",
    "\n",
    "        # update min_so_far\n",
    "        min_so_far = min(min_so_far, min_ending_here)\n",
    "\n",
    "    # required smallest sum contiguous subarray value\n",
    "    return min_so_far"
   ]
  },
  {
   "cell_type": "markdown",
   "metadata": {},
   "source": [
    "# subset sum"
   ]
  },
  {
   "cell_type": "markdown",
   "metadata": {},
   "source": [
    "**subset sum**"
   ]
  },
  {
   "cell_type": "markdown",
   "metadata": {},
   "source": [
    "Given two integers N and K, the task is to count the number of ways to divide N into K groups of positive integers such that their sum is N and the number of elements in groups follows a non-decreasing order (i.e group[i] <= group[i+1])."
   ]
  },
  {
   "cell_type": "code",
   "execution_count": 1,
   "metadata": {},
   "outputs": [
    {
     "name": "stdout",
     "output_type": "stream",
     "text": [
      "5\n"
     ]
    }
   ],
   "source": [
    "# Python3 implementation to count the\n",
    "# number of ways to divide N in\n",
    "# groups such that each group\n",
    "# has K number of elements\n",
    "\n",
    "\n",
    "# Function to count the number\n",
    "# of ways to divide the number N\n",
    "# in groups such that each group\n",
    "# has K number of elements\n",
    "def calculate(pos, prev, left, k):\n",
    "\n",
    "    # Base Case\n",
    "    if pos == k:\n",
    "        if left == 0:\n",
    "            return 1\n",
    "        else:\n",
    "            return 0\n",
    "\n",
    "    # If N is divides completely\n",
    "    # into less than k groups\n",
    "    if left == 0:\n",
    "        return 0\n",
    "\n",
    "    answer = 0\n",
    "\n",
    "    # Put all possible values\n",
    "    # greater equal to prev\n",
    "    for i in range(prev, left + 1):\n",
    "        answer += calculate(pos + 1, i, left - i, k)\n",
    "\n",
    "    return answer\n",
    "\n",
    "\n",
    "# Function to count the number of\n",
    "# ways to divide the number N\n",
    "def countWaystoDivide(n, k):\n",
    "\n",
    "    return calculate(0, 1, n, k)\n",
    "\n",
    "\n",
    "# Driver Code\n",
    "if __name__ == \"__main__\":\n",
    "\n",
    "    N = 8\n",
    "    K = 4\n",
    "\n",
    "    print(countWaystoDivide(N, K))\n",
    "\n",
    "# This code is contributed by 29AjayKumar"
   ]
  },
  {
   "cell_type": "code",
   "execution_count": 5,
   "metadata": {},
   "outputs": [
    {
     "data": {
      "text/plain": [
       "5"
      ]
     },
     "execution_count": 5,
     "metadata": {},
     "output_type": "execute_result"
    }
   ],
   "source": [
    "def solve(n, k, pos, left, prev=1):\n",
    "    if pos == k:\n",
    "        if left == 0:\n",
    "            return 1\n",
    "        else:\n",
    "            return 0\n",
    "    if left <= 0:\n",
    "        return 0\n",
    "    if prev > n:\n",
    "        return 0\n",
    "\n",
    "    inc = solve(n, k, pos + 1, left - prev, prev)\n",
    "    exc = solve(n, k, pos, left, prev + 1)\n",
    "    return inc + exc\n",
    "\n",
    "\n",
    "solve(8, 4, 0, 8, 1)"
   ]
  },
  {
   "cell_type": "code",
   "execution_count": 2,
   "metadata": {},
   "outputs": [
    {
     "name": "stdout",
     "output_type": "stream",
     "text": [
      "5\n"
     ]
    }
   ],
   "source": [
    "# Python3 implementation to count the\n",
    "# number of ways to divide N in\n",
    "# groups such that each group\n",
    "# has K number of elements\n",
    "\n",
    "# DP Table\n",
    "# Function to count the number of\n",
    "# ways to divide the number N in groups\n",
    "\n",
    "\n",
    "def countWaystoDivide(n, k):\n",
    "    if n < k:\n",
    "        return 0\n",
    "\n",
    "    dp = [[0 for i in range(k + 1)] for i in range(n + 1)]\n",
    "    for i in range(1, n + 1):\n",
    "        dp[i][1] = 1\n",
    "    dp[0][0] = 1\n",
    "    for i in range(1, n + 1):\n",
    "        for j in range(2, k + 1):\n",
    "            if i >= j:\n",
    "                dp[i][j] = dp[i - 1][j - 1] + dp[i - j][j]\n",
    "\n",
    "            else:\n",
    "                dp[i][j] = dp[i - 1][j - 1]\n",
    "    return dp[n][k]\n",
    "\n",
    "\n",
    "# Driver Code\n",
    "if __name__ == \"__main__\":\n",
    "    N = 8\n",
    "    K = 4\n",
    "\n",
    "    print(countWaystoDivide(N, K))\n",
    "\n",
    "# This code is contributed by Rajput-Ji"
   ]
  },
  {
   "cell_type": "code",
   "execution_count": 36,
   "metadata": {},
   "outputs": [
    {
     "data": {
      "text/plain": [
       "True"
      ]
     },
     "execution_count": 36,
     "metadata": {},
     "output_type": "execute_result"
    }
   ],
   "source": [
    "arr = [1, 2, 3, 4]\n",
    "k = 9\n",
    "\n",
    "\n",
    "def solve(arr, i, k):\n",
    "    if i < 0 or k < 0:\n",
    "        return False\n",
    "    if (i == 0 and arr[i] == k) or k == 0:\n",
    "        return True\n",
    "    notpick = solve(arr, i - 1, k)\n",
    "    pick = False\n",
    "    if arr[i] <= k:\n",
    "        pick = solve(arr, i - 1, k - arr[i])\n",
    "    return pick or notpick\n",
    "\n",
    "\n",
    "solve(arr, len(arr) - 1, k)"
   ]
  },
  {
   "cell_type": "code",
   "execution_count": 2,
   "metadata": {},
   "outputs": [
    {
     "data": {
      "text/plain": [
       "True"
      ]
     },
     "execution_count": 2,
     "metadata": {},
     "output_type": "execute_result"
    }
   ],
   "source": [
    "arr = [1, 2, 3, 4]\n",
    "k = 5\n",
    "n = len(arr)\n",
    "dp = [[False for _ in range(k + 1)] for _ in range(n)]\n",
    "\n",
    "for i in range(n):\n",
    "    dp[i][0] = True\n",
    "# for j in range(k + 1):\n",
    "if arr[0] <= k:\n",
    "    dp[0][arr[0]] = True\n",
    "\n",
    "for i in range(1, n):\n",
    "    for target in range(1, k + 1):\n",
    "        notpick = dp[i - 1][target]\n",
    "        pick = False\n",
    "        if arr[i] <= target:\n",
    "            pick = dp[i - 1][target - arr[i]]\n",
    "        dp[i][target] = pick or notpick\n",
    "dp[-1][k]"
   ]
  },
  {
   "cell_type": "markdown",
   "metadata": {},
   "source": [
    "**space-opt**"
   ]
  },
  {
   "cell_type": "code",
   "execution_count": 3,
   "metadata": {},
   "outputs": [
    {
     "data": {
      "text/plain": [
       "[True, True, True, True, True, True, True, True, True, True, True]"
      ]
     },
     "execution_count": 3,
     "metadata": {},
     "output_type": "execute_result"
    }
   ],
   "source": [
    "arr = [1, 2, 3, 4]\n",
    "k = 10\n",
    "n = len(arr)\n",
    "prev = [False for _ in range(k + 1)]\n",
    "prev[0] = True\n",
    "\n",
    "\n",
    "if arr[0] <= k:\n",
    "    prev[arr[0]] = True\n",
    "\n",
    "temp = [False] * (k + 1)\n",
    "\n",
    "for i in range(1, n):\n",
    "\n",
    "    temp[0] = True\n",
    "    for target in range(1, k + 1):\n",
    "\n",
    "        notpick = prev[target]\n",
    "        pick = False\n",
    "        if arr[i] <= target:\n",
    "            pick = prev[target - arr[i]]\n",
    "        temp[target] = pick or notpick\n",
    "    prev = temp.copy()\n",
    "prev"
   ]
  },
  {
   "cell_type": "markdown",
   "metadata": {},
   "source": [
    "You have to tell the minimum number of elements you have to take to reach the target sum ‘X’."
   ]
  },
  {
   "cell_type": "code",
   "execution_count": null,
   "metadata": {},
   "outputs": [],
   "source": [
    "def solve(num, x):\n",
    "    if x == 0:\n",
    "        return 0\n",
    "\n",
    "    n = len(num)\n",
    "    num.sort()\n",
    "    dp = [[0 for _ in range(x + 1)] for _ in range(n)]\n",
    "\n",
    "    for j in range(1, x + 1):\n",
    "        if j % num[0] == 0:\n",
    "            dp[0][j] = j // num[0]\n",
    "        else:\n",
    "            dp[0][j] = float(\"inf\")\n",
    "\n",
    "    for i in range(1, n):\n",
    "        for j in range(1, x + 1):\n",
    "            notake = dp[i - 1][j]\n",
    "            take = float(\"inf\")\n",
    "            if num[i] <= j:\n",
    "                take = 1 + dp[i][j - num[i]]\n",
    "            dp[i][j] = min(take, notake)\n",
    "    return dp[-1][x] if dp[-1][x] != float(\"inf\") else -1"
   ]
  },
  {
   "cell_type": "markdown",
   "metadata": {},
   "source": [
    "**Unbounded knapsack Repetition of items allowed**"
   ]
  },
  {
   "cell_type": "code",
   "execution_count": 41,
   "metadata": {},
   "outputs": [
    {
     "data": {
      "text/plain": [
       "27"
      ]
     },
     "execution_count": 41,
     "metadata": {},
     "output_type": "execute_result"
    }
   ],
   "source": [
    "w = 10\n",
    "wt = [2, 4, 6]\n",
    "val = [5, 11, 13]\n",
    "\n",
    "\n",
    "def solve(wt, val, i, w):\n",
    "    if i < 0 or w < 0:\n",
    "        return -1e3\n",
    "    if i == 0:\n",
    "        if w > 0 and w % wt[0] == 0:\n",
    "            return (w // wt[0]) * val[0]\n",
    "        return -1e3\n",
    "    notpick = solve(wt, val, i - 1, w)\n",
    "    pick = -1e3\n",
    "    if wt[i] <= w:\n",
    "        pick = val[i] + solve(wt, val, i, w - wt[i])\n",
    "    return max(pick, notpick)\n",
    "\n",
    "\n",
    "solve(wt, val, 2, w)"
   ]
  },
  {
   "cell_type": "code",
   "execution_count": null,
   "metadata": {},
   "outputs": [
    {
     "data": {
      "text/plain": [
       "[[0, 0, 5, 0, 10, 0, 15, 0, 20, 0, 25],\n",
       " [0, 0, 5, 0, 11, 11, 16, 11, 22, 22, 27],\n",
       " [0, 0, 5, 0, 11, 11, 16, 13, 22, 22, 27]]"
      ]
     },
     "execution_count": 63,
     "metadata": {},
     "output_type": "execute_result"
    }
   ],
   "source": [
    "w = 10\n",
    "wt = [2, 4, 6]\n",
    "val = [5, 11, 13]\n",
    "\n",
    "n = len(val)\n",
    "dp = [[0 for _ in range(w + 1)] for _ in range(n)]\n",
    "\n",
    "\n",
    "for j in range(1, w + 1):\n",
    "    if j % wt[0] == 0:\n",
    "        dp[0][j] = (j // wt[0]) * val[0]\n",
    "for i in range(1, n):\n",
    "    for weight in range(w + 1):\n",
    "        notpick = dp[i - 1][weight]\n",
    "        pick = -1e3\n",
    "        if wt[i] <= weight:\n",
    "            pick = val[i] + dp[i][weight - wt[i]]\n",
    "        dp[i][weight] = max(pick, notpick)\n",
    "\n",
    "dp"
   ]
  },
  {
   "cell_type": "markdown",
   "metadata": {},
   "source": [
    "**space-opt**"
   ]
  },
  {
   "cell_type": "code",
   "execution_count": 38,
   "metadata": {},
   "outputs": [
    {
     "data": {
      "text/plain": [
       "[0, 0, 5, 0, 11, 11, 16, 13, 22, 22, 27]"
      ]
     },
     "execution_count": 38,
     "metadata": {},
     "output_type": "execute_result"
    }
   ],
   "source": [
    "w = 10\n",
    "wt = [2, 4, 6]\n",
    "val = [5, 11, 13]\n",
    "\n",
    "n = len(val)\n",
    "prev = [0 for _ in range(w + 1)]\n",
    "\n",
    "\n",
    "for j in range(1, w + 1):\n",
    "    if j % wt[0] == 0:\n",
    "        prev[j] = (j // wt[0]) * val[0]\n",
    "\n",
    "\n",
    "for i in range(1, n):\n",
    "    temp = [0 for _ in range(w + 1)]\n",
    "\n",
    "    for weight in range(w + 1):\n",
    "        notpick = prev[weight]\n",
    "        pick = -1e3\n",
    "        if wt[i] <= weight:\n",
    "            pick = val[i] + temp[weight - wt[i]]\n",
    "        temp[weight] = max(pick, notpick)\n",
    "    prev = temp\n",
    "prev"
   ]
  },
  {
   "cell_type": "markdown",
   "metadata": {},
   "source": [
    "**0 1 knapscak item can't be repeated**"
   ]
  },
  {
   "cell_type": "markdown",
   "metadata": {},
   "source": [
    "**Count subset sum with repeatation not allowed**"
   ]
  },
  {
   "cell_type": "code",
   "execution_count": 16,
   "metadata": {},
   "outputs": [
    {
     "data": {
      "text/plain": [
       "2"
      ]
     },
     "execution_count": 16,
     "metadata": {},
     "output_type": "execute_result"
    }
   ],
   "source": [
    "# arr = [1, 2, 2, 3]\n",
    "# k = 3\n",
    "\n",
    "arr = [0, 1, 3]\n",
    "k = 4\n",
    "\n",
    "\n",
    "def solve(arr, n, k):\n",
    "\n",
    "    # if k == 0:\n",
    "    #     return 1\n",
    "\n",
    "    if n == 0:\n",
    "        if k == 0 and arr[0] == 0:\n",
    "            return 2\n",
    "        if k == arr[0] or k == 0:\n",
    "            return 1\n",
    "        return 0\n",
    "\n",
    "    if n < 0 or k < 0:\n",
    "        return 0\n",
    "\n",
    "    notpick = solve(arr, n - 1, k)\n",
    "    pick = 0\n",
    "    if k >= arr[n]:\n",
    "        pick = solve(arr, n - 1, k - arr[n])\n",
    "    return pick + notpick\n",
    "\n",
    "\n",
    "solve(arr, len(arr) - 1, k)"
   ]
  },
  {
   "cell_type": "code",
   "execution_count": 27,
   "metadata": {},
   "outputs": [
    {
     "data": {
      "text/plain": [
       "[[1, 1, 0, 0, 0], [2, 2, 0, 0, 0], [2, 2, 0, 2, 2]]"
      ]
     },
     "execution_count": 27,
     "metadata": {},
     "output_type": "execute_result"
    }
   ],
   "source": [
    "# arr = [1, 2, 2, 3]\n",
    "# k = 3\n",
    "\n",
    "# 1 <= 'n' <= 100\n",
    "# 0 <= 'arr[i]' <= 1000\n",
    "# 1 <= 'k' <= 1000\n",
    "\n",
    "arr = [1, 0, 3]  # [12, 14, 3, 18, 2]  #\n",
    "k = 4  # 13  # 4\n",
    "n = len(arr)\n",
    "\n",
    "dp = [[0 for _ in range(k + 1)] for _ in range(n)]\n",
    "# for sum = 0 there is always 1 solution\n",
    "for i in range(n):\n",
    "    dp[i][0] = 1\n",
    "\n",
    "if arr[0] != 0 and arr[0] <= k:\n",
    "    dp[0][arr[0]] = 1\n",
    "\n",
    "if arr[0] == 0:  # if arr contains zero there will be two include 0 or not include zero\n",
    "    dp[0][0] = 2\n",
    "\n",
    "\n",
    "for i in range(1, n):\n",
    "    for target in range(k + 1):  # (1,k+1) gives wrong output\n",
    "        notpick = dp[i - 1][target]\n",
    "        pick = 0\n",
    "        if arr[i] <= target:\n",
    "\n",
    "            pick = dp[i - 1][target - arr[i]]\n",
    "        dp[i][target] = pick + notpick\n",
    "dp"
   ]
  },
  {
   "cell_type": "markdown",
   "metadata": {},
   "source": [
    "**space-opt**"
   ]
  },
  {
   "cell_type": "code",
   "execution_count": 22,
   "metadata": {},
   "outputs": [
    {
     "data": {
      "text/plain": [
       "[2, 2, 0, 2, 2]"
      ]
     },
     "execution_count": 22,
     "metadata": {},
     "output_type": "execute_result"
    }
   ],
   "source": [
    "# arr = [1, 2, 2, 3]\n",
    "# k = 3\n",
    "\n",
    "arr = [1, 0, 3]\n",
    "k = 4\n",
    "\n",
    "n = len(arr)\n",
    "prev = [0 for _ in range(k + 1)]\n",
    "# for sum = 0 there is always 1 solution\n",
    "prev[0] = 1\n",
    "if arr[0] <= k:\n",
    "    prev[arr[0]] = 1\n",
    "\n",
    "if arr[0] == 0:\n",
    "    prev[0] = 2\n",
    "\n",
    "temp = [0] * (k + 1)\n",
    "\n",
    "for i in range(1, n):\n",
    "\n",
    "    temp[0] = 1\n",
    "    if arr[0] == 0:\n",
    "        temp[0] = 2\n",
    "    for target in range(k + 1):\n",
    "        notpick = prev[target]\n",
    "        pick = 0\n",
    "        if arr[i] <= target:\n",
    "            pick = prev[target - arr[i]]\n",
    "        temp[target] = pick + notpick\n",
    "    prev = temp.copy()\n",
    "prev"
   ]
  },
  {
   "cell_type": "markdown",
   "metadata": {},
   "source": [
    "We need to tell the minimum number of coins required to reach the target sum."
   ]
  },
  {
   "cell_type": "code",
   "execution_count": 34,
   "metadata": {},
   "outputs": [
    {
     "name": "stdout",
     "output_type": "stream",
     "text": [
      "The minimum number of coins required to form the target sum is 3\n"
     ]
    }
   ],
   "source": [
    "def minimumElements(arr, T):\n",
    "    n = len(arr)\n",
    "    # Initialize a DP table with 0 values for bottom-up dynamic programming.\n",
    "    dp = [[0 for _ in range(T + 1)] for _ in range(n)]\n",
    "\n",
    "    # Fill in the DP table for the first element in the array (base case).\n",
    "    for i in range(T + 1):\n",
    "        if i % arr[0] == 0:\n",
    "            dp[0][i] = i // arr[0]\n",
    "        else:\n",
    "            # Set an initial large value to indicate that it's not possible to achieve the target sum.\n",
    "            dp[0][i] = int(1e9)\n",
    "\n",
    "    # Iterate over the array elements and target values to fill in the DP table.\n",
    "    for ind in range(1, n):\n",
    "        for target in range(T + 1):\n",
    "            # Calculate the minimum number of elements needed to achieve the current target.\n",
    "            notTake = dp[ind - 1][target]  # Option: Don't take the current element.\n",
    "            take = int(1e9)  # Initialize as a large value.\n",
    "            if arr[ind] <= target:\n",
    "                # Option: Take the current element, reduce the target, and add 1 to the count.\n",
    "                take = 1 + dp[ind][target - arr[ind]]\n",
    "            # Store the minimum of the two options in the DP table.\n",
    "            dp[ind][target] = min(notTake, take)\n",
    "\n",
    "    # The result is stored in the last cell of the DP table.\n",
    "    ans = dp[n - 1][T]\n",
    "    # If the result is still equal to a very large value, it means it's not possible to achieve the target sum.\n",
    "    if ans >= int(1e9):\n",
    "        return -1\n",
    "    return ans\n",
    "\n",
    "\n",
    "def main():\n",
    "    arr = [1, 2, 3]\n",
    "    T = 7\n",
    "    print(\n",
    "        \"The minimum number of coins required to form the target sum is\",\n",
    "        minimumElements(arr, T),\n",
    "    )\n",
    "\n",
    "\n",
    "if __name__ == \"__main__\":\n",
    "    main()"
   ]
  },
  {
   "cell_type": "markdown",
   "metadata": {},
   "source": []
  },
  {
   "cell_type": "code",
   "execution_count": 4,
   "metadata": {},
   "outputs": [
    {
     "name": "stdout",
     "output_type": "stream",
     "text": [
      "[1, 1, 1, 1]\n",
      "[1, 1, 2]\n",
      "[1, 3]\n",
      "[2, 2]\n"
     ]
    }
   ],
   "source": [
    "def solve(arr, n, s, temp, k):\n",
    "    if k == s:\n",
    "        print(temp)\n",
    "        return\n",
    "\n",
    "        # return 1\n",
    "    if n >= len(arr) or s > k:\n",
    "        return\n",
    "\n",
    "    for i in range(n, len(arr)):\n",
    "        temp.append(arr[i])\n",
    "        solve(\n",
    "            arr, i, s + arr[i], temp, k\n",
    "        )  # changing n will not give all the combinations\n",
    "        temp.pop()\n",
    "\n",
    "\n",
    "solve([1, 2, 3], 0, 0, [], 4)"
   ]
  },
  {
   "cell_type": "code",
   "execution_count": 6,
   "metadata": {},
   "outputs": [
    {
     "name": "stdout",
     "output_type": "stream",
     "text": [
      "[3, 1]\n",
      "[2, 2]\n",
      "[2, 1, 1]\n",
      "[1, 1, 1, 1]\n"
     ]
    }
   ],
   "source": [
    "def solve(arr, n, s, temp, k):\n",
    "    if k == s:\n",
    "        print(temp)\n",
    "        return\n",
    "\n",
    "        # return 1\n",
    "    if n < 0 or s > k:\n",
    "        return\n",
    "\n",
    "    for i in range(n, -1, -1):\n",
    "        temp.append(arr[i])\n",
    "        solve(\n",
    "            arr, i, s + arr[i], temp, k\n",
    "        )  # changing n will not give all the combinations\n",
    "        temp.pop()\n",
    "\n",
    "\n",
    "solve([1, 2, 3], 2, 0, [], 4)"
   ]
  },
  {
   "cell_type": "code",
   "execution_count": 5,
   "metadata": {},
   "outputs": [
    {
     "name": "stdout",
     "output_type": "stream",
     "text": [
      "[1, 3]\n"
     ]
    }
   ],
   "source": [
    "def solve(arr, n, s, temp, k):\n",
    "    if k == s:\n",
    "        print(temp)\n",
    "        return\n",
    "\n",
    "        # return 1\n",
    "    if n >= len(arr) or s > k:\n",
    "        return\n",
    "\n",
    "    for i in range(n, len(arr)):\n",
    "        temp.append(arr[i])\n",
    "        solve(\n",
    "            arr, i + 1, s + arr[i], temp, k\n",
    "        )  # changing n will not give all the combinations\n",
    "        temp.pop()\n",
    "\n",
    "\n",
    "solve([1, 2, 3], 0, 0, [], 4)"
   ]
  },
  {
   "cell_type": "code",
   "execution_count": 7,
   "metadata": {},
   "outputs": [
    {
     "name": "stdout",
     "output_type": "stream",
     "text": [
      "[3, 1]\n"
     ]
    }
   ],
   "source": [
    "def solve(arr, n, s, temp, k):\n",
    "    if k == s:\n",
    "        print(temp)\n",
    "        return\n",
    "\n",
    "        # return 1\n",
    "    if n < 0 or s > k:\n",
    "        return\n",
    "\n",
    "    for i in range(n, -1, -1):\n",
    "        temp.append(arr[i])\n",
    "        solve(\n",
    "            arr, i - 1, s + arr[i], temp, k\n",
    "        )  # changing n will not give all the combinations\n",
    "        temp.pop()\n",
    "\n",
    "\n",
    "solve([1, 2, 3], 2, 0, [], 4)"
   ]
  },
  {
   "cell_type": "code",
   "execution_count": 3,
   "metadata": {},
   "outputs": [
    {
     "name": "stdout",
     "output_type": "stream",
     "text": [
      "[1, 1, 1, 1]\n",
      "[1, 1, 2]\n",
      "[1, 2, 1]\n",
      "[1, 3]\n",
      "[2, 1, 1]\n",
      "[2, 2]\n",
      "[3, 1]\n"
     ]
    }
   ],
   "source": [
    "def solve(arr, n, s, temp, k):\n",
    "    if k == s:\n",
    "        print(temp)\n",
    "        return\n",
    "\n",
    "        # return 1\n",
    "    if n >= len(arr) or s > k:\n",
    "        return\n",
    "\n",
    "    for i in range(n, len(arr)):\n",
    "        temp.append(arr[i])\n",
    "        solve(\n",
    "            arr, n, s + arr[i], temp, k\n",
    "        )  # changing n will not give all the combinations\n",
    "        temp.pop()\n",
    "\n",
    "\n",
    "solve([1, 2, 3], 0, 0, [], 4)"
   ]
  },
  {
   "cell_type": "code",
   "execution_count": null,
   "metadata": {},
   "outputs": [],
   "source": [
    "# Patterns:\n",
    "# dp[0] = 1 # indicating there is 1 way to have target = 0, and 1 way is to not use any of the numbers in the nums array.\n",
    "# dp[1] = dp[0]\n",
    "# dp[2] = dp[1] + dp[0]\n",
    "# dp[3] = dp[2] + dp[1] + dp[0]\n",
    "# dp[4] = dp[3] + dp[2] + dp[1]\n",
    "# Formula:\n",
    "# dp[i] = sum(dp[i-j]) where i is the current target, and j is in range(nums)\n",
    "class Solution:\n",
    "    def combinationSum4(self, nums, target: int) -> int:\n",
    "        dp = [0] * (target + 1)\n",
    "        dp[0] = 1\n",
    "        for i in range(1, target + 1):\n",
    "            for x in nums:\n",
    "                if x <= i:  # discard the negative states\n",
    "                    dp[i] += dp[i - x]\n",
    "        return dp[target]"
   ]
  },
  {
   "cell_type": "code",
   "execution_count": null,
   "metadata": {},
   "outputs": [],
   "source": []
  },
  {
   "cell_type": "markdown",
   "metadata": {},
   "source": [
    "**Count subset sum with repeatation allowed**"
   ]
  },
  {
   "cell_type": "code",
   "execution_count": null,
   "metadata": {},
   "outputs": [],
   "source": []
  },
  {
   "cell_type": "code",
   "execution_count": 28,
   "metadata": {},
   "outputs": [],
   "source": [
    "arr = [2, 5, 3, 6]\n",
    "k = 10\n",
    "\n",
    "\n",
    "def solve(arr, n, k):\n",
    "    if n < 0 or k < 0:\n",
    "        return 0\n",
    "    if k == 0:\n",
    "        return 1\n",
    "    if n == 0:\n",
    "        if k >= arr[n] and k % arr[n] == 0:\n",
    "            return 1\n",
    "        return 0\n",
    "    notpick = solve(arr, n - 1, k)\n",
    "    pick = 0\n",
    "    if k >= arr[n]:\n",
    "        pick = solve(arr, n, k - arr[n])\n",
    "    return pick + notpick"
   ]
  },
  {
   "cell_type": "code",
   "execution_count": 29,
   "metadata": {},
   "outputs": [
    {
     "data": {
      "text/plain": [
       "5"
      ]
     },
     "execution_count": 29,
     "metadata": {},
     "output_type": "execute_result"
    }
   ],
   "source": [
    "solve(arr, 3, 10)"
   ]
  },
  {
   "cell_type": "code",
   "execution_count": 45,
   "metadata": {},
   "outputs": [
    {
     "data": {
      "text/plain": [
       "[[1, 0, 1, 0, 1, 0, 1, 0, 1, 0, 1],\n",
       " [1, 0, 1, 0, 1, 1, 1, 1, 1, 1, 2],\n",
       " [1, 0, 1, 1, 1, 2, 2, 2, 3, 3, 4],\n",
       " [1, 0, 1, 1, 1, 2, 3, 2, 4, 4, 5]]"
      ]
     },
     "execution_count": 45,
     "metadata": {},
     "output_type": "execute_result"
    }
   ],
   "source": [
    "arr = [2, 5, 3, 6]\n",
    "k = 10\n",
    "n = len(arr)\n",
    "dp = [[0 for _ in range(k + 1)] for _ in range(n)]\n",
    "\n",
    "for i in range(n):\n",
    "    dp[i][0] = 1\n",
    "for j in range(1, k + 1):\n",
    "    if j % arr[0] == 0:\n",
    "        dp[0][j] = 1  # j // arr[0]\n",
    "for i in range(1, n):\n",
    "    for j in range(1, k + 1):\n",
    "        notpick = dp[i - 1][j]\n",
    "        pick = 0\n",
    "        if j >= arr[i]:\n",
    "            pick = dp[i][j - arr[i]]\n",
    "        dp[i][j] = pick + notpick\n",
    "dp"
   ]
  },
  {
   "cell_type": "markdown",
   "metadata": {},
   "source": [
    "**space-opt**"
   ]
  },
  {
   "cell_type": "code",
   "execution_count": 40,
   "metadata": {},
   "outputs": [
    {
     "data": {
      "text/plain": [
       "[1, 0, 1, 1, 1, 2, 3, 2, 4, 4, 5]"
      ]
     },
     "execution_count": 40,
     "metadata": {},
     "output_type": "execute_result"
    }
   ],
   "source": [
    "arr = [2, 5, 3, 6]\n",
    "k = 10\n",
    "n = len(arr)\n",
    "prev = [0 for _ in range(k + 1)]\n",
    "# for sum = 0 there is always 1 solution\n",
    "prev[0] = 1\n",
    "for j in range(1, k + 1):\n",
    "    if j % arr[0] == 0:\n",
    "        prev[j] = 1\n",
    "\n",
    "for i in range(1, n):\n",
    "    temp = [0] * (k + 1)\n",
    "    temp[0] = 1\n",
    "    for target in range(1, k + 1):\n",
    "        notpick = prev[target]\n",
    "        pick = 0\n",
    "        if arr[i] <= target:\n",
    "            pick = temp[target - arr[i]]\n",
    "        temp[target] = pick + notpick\n",
    "    prev = temp\n",
    "prev"
   ]
  },
  {
   "cell_type": "markdown",
   "metadata": {},
   "source": [
    "**Maximum Product Rod Cutting**"
   ]
  },
  {
   "cell_type": "code",
   "execution_count": 101,
   "metadata": {},
   "outputs": [
    {
     "data": {
      "text/plain": [
       "243"
      ]
     },
     "execution_count": 101,
     "metadata": {},
     "output_type": "execute_result"
    }
   ],
   "source": [
    "def solve(n, i):\n",
    "    if i > n:\n",
    "        return 1\n",
    "    if n <= 0:\n",
    "        return 1\n",
    "    nocut = solve(n, i + 1)\n",
    "    cut = n\n",
    "    if n >= i:\n",
    "        cut = i * solve(n - i, i)\n",
    "    return max(cut, nocut)\n",
    "\n",
    "\n",
    "n = 15\n",
    "solve(n, 1)"
   ]
  },
  {
   "cell_type": "code",
   "execution_count": 110,
   "metadata": {},
   "outputs": [
    {
     "data": {
      "text/plain": [
       "243"
      ]
     },
     "execution_count": 110,
     "metadata": {},
     "output_type": "execute_result"
    }
   ],
   "source": [
    "def solve(n):\n",
    "    dp = [[1 for _ in range(n + 1)] for _ in range(n + 1)]\n",
    "    for i in range(1, n + 1):\n",
    "        for j in range(1, n + 1):\n",
    "            nocut = dp[i - 1][j]\n",
    "            cut = j\n",
    "            if j >= i:\n",
    "                cut = i * dp[i][j - i]\n",
    "            dp[i][j] = max(cut, nocut)\n",
    "    return dp[-1][-1]\n",
    "\n",
    "\n",
    "solve(15)"
   ]
  },
  {
   "cell_type": "markdown",
   "metadata": {},
   "source": [
    "**space-opt**"
   ]
  },
  {
   "cell_type": "code",
   "execution_count": 112,
   "metadata": {},
   "outputs": [
    {
     "data": {
      "text/plain": [
       "243"
      ]
     },
     "execution_count": 112,
     "metadata": {},
     "output_type": "execute_result"
    }
   ],
   "source": [
    "def solve(n):\n",
    "    prev = [1] * (n + 1)\n",
    "    temp = [1] * (n + 1)\n",
    "    for i in range(1, n + 1):\n",
    "        for j in range(1, n + 1):\n",
    "            nocut = prev[j]\n",
    "            cut = j\n",
    "            if j >= i:\n",
    "                cut = i * temp[j - i]\n",
    "            temp[j] = max(cut, nocut)\n",
    "        prev = temp\n",
    "    return temp[-1]\n",
    "\n",
    "\n",
    "solve(15)"
   ]
  },
  {
   "cell_type": "code",
   "execution_count": 95,
   "metadata": {},
   "outputs": [
    {
     "data": {
      "text/plain": [
       "243"
      ]
     },
     "execution_count": 95,
     "metadata": {},
     "output_type": "execute_result"
    }
   ],
   "source": [
    "def maxProd(n):\n",
    "\n",
    "    # Base cases\n",
    "    if n == 0 or n == 1:\n",
    "        return 0\n",
    "\n",
    "    # Make a cut at different places\n",
    "    # and take the maximum of all\n",
    "    max_val = 0\n",
    "    for i in range(1, n - 1):\n",
    "        max_val = max(max_val, max(i * (n - i), maxProd(n - i) * i))\n",
    "\n",
    "    # Return the maximum of all values\n",
    "    return max_val\n",
    "\n",
    "\n",
    "maxProd(15)"
   ]
  },
  {
   "cell_type": "markdown",
   "metadata": {},
   "source": [
    "**Rod cutting**"
   ]
  },
  {
   "cell_type": "code",
   "execution_count": 45,
   "metadata": {},
   "outputs": [
    {
     "name": "stdout",
     "output_type": "stream",
     "text": [
      "Maximum Obtainable Value is  22\n"
     ]
    }
   ],
   "source": [
    "def cutRod(price, index, n):\n",
    "\n",
    "    #  base case\n",
    "    if index == 0:\n",
    "        return n * price[0]\n",
    "\n",
    "    #   At any index we have 2 options either\n",
    "    #   cut the rod of this length or not cut\n",
    "    #   it\n",
    "    notCut = cutRod(price, index - 1, n)\n",
    "    cut = float(\"-inf\")\n",
    "    rod_length = index + 1  # zero base index\n",
    "\n",
    "    if rod_length <= n:\n",
    "\n",
    "        cut = price[index] + cutRod(price, index, n - rod_length)\n",
    "\n",
    "    return max(notCut, cut)\n",
    "\n",
    "\n",
    "#  Driver program to test above functions\n",
    "arr = [1, 5, 8, 9, 10, 17, 17, 20]\n",
    "size = len(arr)\n",
    "print(\"Maximum Obtainable Value is \", cutRod(arr, size - 1, size))"
   ]
  },
  {
   "cell_type": "code",
   "execution_count": 1,
   "metadata": {},
   "outputs": [
    {
     "data": {
      "text/plain": [
       "[[0, 1, 2, 3, 4, 5, 6, 7, 8],\n",
       " [0, 1, 2, 3, 4, 5, 6, 7, 8],\n",
       " [0, 1, 5, 6, 10, 11, 15, 16, 20],\n",
       " [0, 1, 5, 8, 10, 13, 16, 18, 21],\n",
       " [0, 1, 5, 8, 10, 13, 16, 18, 21],\n",
       " [0, 1, 5, 8, 10, 13, 16, 18, 21],\n",
       " [0, 1, 5, 8, 10, 13, 17, 18, 22],\n",
       " [0, 1, 5, 8, 10, 13, 17, 18, 22]]"
      ]
     },
     "execution_count": 1,
     "metadata": {},
     "output_type": "execute_result"
    }
   ],
   "source": [
    "arr = [1, 5, 8, 9, 10, 17, 17, 20]\n",
    "k = len(arr)\n",
    "dp = [[0 for _ in range(k + 1)] for _ in range(k)]\n",
    "for j in range(1, k + 1):\n",
    "    dp[0][j] = j * arr[0]\n",
    "\n",
    "for i in range(1, k):\n",
    "    for j in range(1, k + 1):\n",
    "        nocut = dp[i - 1][j]\n",
    "        cut = float(\"-inf\")\n",
    "        if j - i >= 0:\n",
    "            cut = arr[i - 1] + dp[i][j - i]\n",
    "        dp[i][j] = max(nocut, cut)\n",
    "dp"
   ]
  },
  {
   "cell_type": "markdown",
   "metadata": {},
   "source": [
    "**space-opt**"
   ]
  },
  {
   "cell_type": "code",
   "execution_count": 2,
   "metadata": {},
   "outputs": [
    {
     "data": {
      "text/plain": [
       "[0, 1, 5, 8, 10, 13, 17, 18, 22]"
      ]
     },
     "execution_count": 2,
     "metadata": {},
     "output_type": "execute_result"
    }
   ],
   "source": [
    "arr = [1, 5, 8, 9, 10, 17, 17, 20]\n",
    "k = len(arr)\n",
    "prev = [0 for _ in range(k + 1)]\n",
    "for j in range(1, k + 1):\n",
    "    prev[j] = j * arr[0]\n",
    "\n",
    "for i in range(1, k):\n",
    "    temp = [0 for _ in range(k + 1)]\n",
    "    for j in range(1, k + 1):\n",
    "        nocut = prev[j]\n",
    "        cut = float(\"-inf\")\n",
    "        if j - i >= 0:\n",
    "            cut = arr[i - 1] + temp[j - i]\n",
    "        temp[j] = max(nocut, cut)\n",
    "    prev = temp\n",
    "prev"
   ]
  },
  {
   "cell_type": "markdown",
   "metadata": {},
   "source": [
    "**Count Partitions with Given Difference**\n",
    "\n",
    "to do - top down and space-op"
   ]
  },
  {
   "cell_type": "code",
   "execution_count": 45,
   "metadata": {},
   "outputs": [
    {
     "name": "stdout",
     "output_type": "stream",
     "text": [
      "The number of subsets found are 1\n"
     ]
    }
   ],
   "source": [
    "mod = int(1e9 + 7)\n",
    "\n",
    "\n",
    "def countPartitionsUtil(ind, target, arr, dp):\n",
    "    if ind == 0:\n",
    "        if target == 0 and arr[0] == 0:\n",
    "            return 2\n",
    "        if target == 0 or target == arr[0]:\n",
    "            return 1\n",
    "        return 0\n",
    "\n",
    "    if dp[ind][target] != -1:\n",
    "        return dp[ind][target]\n",
    "\n",
    "    notTaken = countPartitionsUtil(ind - 1, target, arr, dp)\n",
    "\n",
    "    taken = 0\n",
    "    if arr[ind] <= target:\n",
    "        taken = countPartitionsUtil(ind - 1, target - arr[ind], arr, dp)\n",
    "\n",
    "    dp[ind][target] = (notTaken + taken) % mod\n",
    "    return dp[ind][target]\n",
    "\n",
    "\n",
    "def countPartitions(d, arr):\n",
    "    n = len(arr)\n",
    "    totSum = sum(arr)\n",
    "\n",
    "    # Checking for edge cases\n",
    "    if totSum - d < 0:\n",
    "        return 0\n",
    "    if (totSum - d) % 2 == 1:\n",
    "        return 0\n",
    "\n",
    "    s2 = (totSum - d) // 2\n",
    "\n",
    "    dp = [[-1 for j in range(s2 + 1)] for i in range(n)]\n",
    "    return countPartitionsUtil(n - 1, s2, arr, dp)\n",
    "\n",
    "\n",
    "def main():\n",
    "    arr = [5, 2, 6, 4]\n",
    "    d = 3\n",
    "\n",
    "    print(\"The number of subsets found are\", countPartitions(d, arr))\n",
    "\n",
    "\n",
    "if __name__ == \"__main__\":\n",
    "    main()"
   ]
  },
  {
   "cell_type": "markdown",
   "metadata": {},
   "source": [
    "Given an array of non-negative integers ‘A’ and an integer ‘P’, find the total number of subsequences of ‘A’ \n",
    "\n",
    "such that the product of any subsequence should not be more than ‘P’."
   ]
  },
  {
   "cell_type": "code",
   "execution_count": 3,
   "metadata": {},
   "outputs": [
    {
     "data": {
      "text/plain": [
       "11"
      ]
     },
     "execution_count": 3,
     "metadata": {},
     "output_type": "execute_result"
    }
   ],
   "source": [
    "def solve(a, i, p, k):\n",
    "    if i < 0 and k <= p:\n",
    "        return 1\n",
    "    if i < 0:\n",
    "        return 0\n",
    "    exc = solve(a, i - 1, p, k)\n",
    "    inc = 0\n",
    "\n",
    "    if k * a[i] <= p:\n",
    "        inc = solve(a, i - 1, p, k * a[i])\n",
    "    return exc + inc\n",
    "\n",
    "\n",
    "solve([1, 2, 3, 4], 3, 10, 1) - 1  # remove empaty"
   ]
  },
  {
   "cell_type": "code",
   "execution_count": 2,
   "metadata": {},
   "outputs": [
    {
     "name": "stdout",
     "output_type": "stream",
     "text": [
      "11\n"
     ]
    }
   ],
   "source": [
    "# A Python program to count the number of subsets\n",
    "# with a product less than or equal to k using tabulation\n",
    "def numOfSubsets(arr, k):\n",
    "    n = len(arr)\n",
    "\n",
    "    # Initialize the DP table with 1s to\n",
    "    # include the empty subset.\n",
    "    dp = [[1] * (k + 1) for _ in range(n + 1)]\n",
    "\n",
    "    for i in range(1, n + 1):\n",
    "        for j in range(1, k + 1):\n",
    "            # Case 1: Exclude the current element\n",
    "            dp[i][j] = dp[i - 1][j]\n",
    "\n",
    "            # Case 2: Include the current element\n",
    "            if j >= arr[i - 1]:\n",
    "                dp[i][j] += dp[i - 1][j // arr[i - 1]]\n",
    "\n",
    "    # Return the total count of subsets\n",
    "    # with product ≤ k, subtracting 1\n",
    "    return dp[n][k] - 1\n",
    "\n",
    "\n",
    "arr = [1, 2, 3, 4]\n",
    "k = 10\n",
    "print(numOfSubsets(arr, k))"
   ]
  },
  {
   "cell_type": "markdown",
   "metadata": {},
   "source": [
    "**Partition Set Into 2 Subsets With Min Absolute Sum**"
   ]
  },
  {
   "cell_type": "code",
   "execution_count": 46,
   "metadata": {},
   "outputs": [
    {
     "name": "stdout",
     "output_type": "stream",
     "text": [
      "The minimum absolute difference is: 0\n"
     ]
    }
   ],
   "source": [
    "def minSubsetSumDifference(arr, n):\n",
    "    # Calculate the total sum of the array elements.\n",
    "    totSum = sum(arr)\n",
    "\n",
    "    # Initialize a boolean array 'prev' to store the results for the previous row.\n",
    "    prev = [False] * (totSum + 1)\n",
    "    prev[0] = True  # Base case: An empty subset can always achieve a sum of 0.\n",
    "\n",
    "    # Handle the base case for the first element in the array.\n",
    "    if arr[0] <= totSum:\n",
    "        prev[arr[0]] = True\n",
    "\n",
    "    # Iterate through the elements in the array.\n",
    "    for ind in range(1, n):\n",
    "        # Initialize a new boolean array 'cur' for the current row.\n",
    "        cur = [False] * (totSum + 1)\n",
    "        cur[0] = True  # An empty subset can always achieve a sum of 0.\n",
    "\n",
    "        # Fill in the 'cur' array using dynamic programming.\n",
    "        for target in range(1, totSum + 1):\n",
    "            # If the current element is not taken, the result is the same as the previous row.\n",
    "            notTaken = prev[target]\n",
    "\n",
    "            # If the current element is taken, subtract its value from the target and check the previous row.\n",
    "            taken = prev[target - arr[ind]] if arr[ind] <= target else False\n",
    "\n",
    "            # Update the 'cur' array with the result of taking or not taking the current element.\n",
    "            cur[target] = notTaken or taken\n",
    "\n",
    "        # Update 'prev' to 'cur' for the next iteration.\n",
    "        prev = cur\n",
    "\n",
    "    # Initialize a variable to track the minimum absolute difference.\n",
    "    mini = int(1e9)\n",
    "\n",
    "    # Iterate through all possible sums.\n",
    "    for i in range(totSum + 1):\n",
    "        if prev[i]:\n",
    "            # Calculate the difference between the current sum and the complement sum.\n",
    "            diff = abs(i - (totSum - i))\n",
    "            mini = min(mini, diff)\n",
    "\n",
    "    return mini\n",
    "\n",
    "\n",
    "def main():\n",
    "    arr = [1, 2, 3, 4]\n",
    "    n = len(arr)\n",
    "\n",
    "    # Find and print the minimum absolute difference between two subsets.\n",
    "    print(\"The minimum absolute difference is:\", minSubsetSumDifference(arr, n))\n",
    "\n",
    "\n",
    "if __name__ == \"__main__\":\n",
    "    main()"
   ]
  },
  {
   "cell_type": "markdown",
   "metadata": {},
   "source": [
    "We are given a target sum of ‘X’ and ‘N’ distinct numbers denoting the coin denominations. \n",
    "\n",
    "We need to tell the minimum number of coins required to reach the target sum. \n",
    "\n",
    "We can pick a coin denomination for any number of times we want."
   ]
  },
  {
   "cell_type": "code",
   "execution_count": 47,
   "metadata": {},
   "outputs": [
    {
     "data": {
      "text/plain": [
       "3"
      ]
     },
     "execution_count": 47,
     "metadata": {},
     "output_type": "execute_result"
    }
   ],
   "source": [
    "arr = [1, 2, 3]\n",
    "k = 7\n",
    "\n",
    "\n",
    "def solve(arr, n, k):\n",
    "    if n < 0 or k < 0:\n",
    "        return 1e6\n",
    "    if k == 0:\n",
    "        return 1\n",
    "    if n == 0:\n",
    "        if k % arr[0] == 0:\n",
    "            return k // arr[0]\n",
    "        return 1e6\n",
    "    notpick = solve(arr, n - 1, k)\n",
    "    pick = 1e6\n",
    "    if k >= arr[n]:\n",
    "        pick = 1 + solve(arr, n, k - arr[n])\n",
    "    return min(notpick, pick)\n",
    "\n",
    "\n",
    "solve(arr, 2, 7)"
   ]
  },
  {
   "cell_type": "code",
   "execution_count": 57,
   "metadata": {},
   "outputs": [
    {
     "data": {
      "text/plain": [
       "[0, 1, 1, 1, 2, 2, 2, 3]"
      ]
     },
     "execution_count": 57,
     "metadata": {},
     "output_type": "execute_result"
    }
   ],
   "source": [
    "arr = [1, 2, 3]\n",
    "k = 7\n",
    "dp = [[0 for _ in range(k + 1)] for _ in range(len(arr))]\n",
    "\n",
    "# dp[0][0] = 1\n",
    "\n",
    "for j in range(1, k + 1):\n",
    "    if j % arr[0] == 0:\n",
    "        dp[0][j] = j // arr[0]\n",
    "\n",
    "# for i in range(len(arr)):\n",
    "#     dp[i][0] = 1\n",
    "\n",
    "for i in range(1, len(arr)):\n",
    "    for j in range(1, k + 1):\n",
    "        nopick = dp[i - 1][j]\n",
    "        pick = float(\"inf\")\n",
    "        if j >= arr[i]:\n",
    "            pick = 1 + dp[i][j - arr[i]]\n",
    "        dp[i][j] = min(nopick, pick)\n",
    "dp[-1]"
   ]
  },
  {
   "cell_type": "code",
   "execution_count": null,
   "metadata": {},
   "outputs": [],
   "source": []
  },
  {
   "cell_type": "markdown",
   "metadata": {},
   "source": [
    "We are given a target sum of ‘X’ and ‘N’ distinct numbers denoting the coin denominations. \n",
    "\n",
    "We need to tell the total no of ways to reach the target sum. \n",
    "\n",
    "We can pick a coin denomination for any number of times we want."
   ]
  },
  {
   "cell_type": "code",
   "execution_count": 61,
   "metadata": {},
   "outputs": [
    {
     "data": {
      "text/plain": [
       "[0, 1, 2, 4, 6, 8, 11, 14]"
      ]
     },
     "execution_count": 61,
     "metadata": {},
     "output_type": "execute_result"
    }
   ],
   "source": [
    "arr = [1, 2, 3]\n",
    "k = 7\n",
    "dp = [[0 for _ in range(k + 1)] for _ in range(len(arr))]\n",
    "\n",
    "# dp[0][0] = 1\n",
    "\n",
    "for j in range(1, k + 1):\n",
    "    if j % arr[0] == 0:\n",
    "        dp[0][j] = 1\n",
    "\n",
    "# for i in range(len(arr)):\n",
    "#     dp[i][0] = 1\n",
    "\n",
    "for i in range(1, len(arr)):\n",
    "    for j in range(1, k + 1):\n",
    "        nopick = dp[i - 1][j]\n",
    "        pick = 0\n",
    "        if j >= arr[i]:\n",
    "            pick = 1 + dp[i][j - arr[i]]\n",
    "        dp[i][j] = nopick + pick\n",
    "dp[-1]"
   ]
  },
  {
   "cell_type": "code",
   "execution_count": 55,
   "metadata": {},
   "outputs": [
    {
     "name": "stdout",
     "output_type": "stream",
     "text": [
      "The minimum number of coins required to form the target sum is [0, 1, 1, 1, 2, 2, 2, 3]\n"
     ]
    }
   ],
   "source": [
    "def minimumElements(arr, T):\n",
    "    n = len(arr)\n",
    "    # Initialize a DP table with 0 values for bottom-up dynamic programming.\n",
    "    dp = [[0 for _ in range(T + 1)] for _ in range(n)]\n",
    "\n",
    "    # Fill in the DP table for the first element in the array (base case).\n",
    "    for i in range(T + 1):\n",
    "        if i % arr[0] == 0:\n",
    "            dp[0][i] = i // arr[0]\n",
    "        else:\n",
    "            # Set an initial large value to indicate that it's not possible to achieve the target sum.\n",
    "            dp[0][i] = int(1e9)\n",
    "\n",
    "    # Iterate over the array elements and target values to fill in the DP table.\n",
    "    for ind in range(1, n):\n",
    "        for target in range(T + 1):\n",
    "            # Calculate the minimum number of elements needed to achieve the current target.\n",
    "            notTake = dp[ind - 1][target]  # Option: Don't take the current element.\n",
    "            take = int(1e9)  # Initialize as a large value.\n",
    "            if arr[ind] <= target:\n",
    "                # Option: Take the current element, reduce the target, and add 1 to the count.\n",
    "                take = 1 + dp[ind][target - arr[ind]]\n",
    "            # Store the minimum of the two options in the DP table.\n",
    "            dp[ind][target] = min(notTake, take)\n",
    "\n",
    "    # The result is stored in the last cell of the DP table.\n",
    "    return dp[-1]\n",
    "    # If the result is still equal to a very large value, it means it's not possible to achieve the target sum.\n",
    "    # if ans >= int(1e9):\n",
    "    #     return -1\n",
    "    # return ans\n",
    "\n",
    "\n",
    "def main():\n",
    "    arr = [1, 2, 3]\n",
    "    T = 7\n",
    "    print(\n",
    "        \"The minimum number of coins required to form the target sum is\",\n",
    "        minimumElements(arr, T),\n",
    "    )\n",
    "\n",
    "\n",
    "if __name__ == \"__main__\":\n",
    "    main()"
   ]
  },
  {
   "cell_type": "markdown",
   "metadata": {},
   "source": [
    "Total possible solutions to a linear equation of `k` variables\n",
    "\n",
    "The problem is similar to finding the total number of ways to get the denomination of coins. Here, coefficients of an equation can be considered coins \n",
    "\n",
    "denominations, and the RHS of an equation can be considered the desired change. Let’s begin by recursively defining the problem:"
   ]
  },
  {
   "cell_type": "code",
   "execution_count": 113,
   "metadata": {},
   "outputs": [
    {
     "name": "stdout",
     "output_type": "stream",
     "text": [
      "The total number of solutions is 4\n"
     ]
    }
   ],
   "source": [
    "# Function to count the total number of possible solutions to a\n",
    "# linear equation of `k` variables\n",
    "def count(coeff, k, rhs):\n",
    "\n",
    "    # if rhs become 0, a solution is found\n",
    "    if rhs == 0:\n",
    "        return 1\n",
    "\n",
    "    # return 0 if rhs becomes negative or no coefficient is left\n",
    "    if rhs < 0 or k < 0:\n",
    "        return 0\n",
    "\n",
    "    # Case 1. Include current coefficient `coeff[k]` in solution and\n",
    "    # recur with remaining value `rhs-coeff[k]`\n",
    "    include = count(coeff, k, rhs - coeff[k])\n",
    "\n",
    "    # Case 2. Exclude current coefficient `coeff[k]` from solution and\n",
    "    # recur for remaining coefficients `k-1`\n",
    "    exclude = count(coeff, k - 1, rhs)\n",
    "\n",
    "    # return total ways by including or excluding the current coefficient\n",
    "    return include + exclude\n",
    "\n",
    "\n",
    "if __name__ == \"__main__\":\n",
    "\n",
    "    # `k` coefficients of the given equation\n",
    "    coeff = [1, 2, 3]\n",
    "    k = len(coeff)\n",
    "\n",
    "    rhs = 4\n",
    "    print(\"The total number of solutions is\", count(coeff, k - 1, rhs))"
   ]
  },
  {
   "cell_type": "markdown",
   "metadata": {},
   "source": [
    "**K–Partition Problem | Printing all partitions**"
   ]
  },
  {
   "cell_type": "code",
   "execution_count": 81,
   "metadata": {},
   "outputs": [
    {
     "name": "stdout",
     "output_type": "stream",
     "text": [
      "Set can be partitioned\n"
     ]
    }
   ],
   "source": [
    "# Function for solving the 3–partition problem.\n",
    "# It returns true if there exist three subsets with the given sum\n",
    "def subsetSum(S, n, a, b, c, lookup):\n",
    "\n",
    "    # return true if the subset is found\n",
    "    if a == 0 and b == 0 and c == 0:\n",
    "        return True\n",
    "\n",
    "    # base case: no items left\n",
    "    if n < 0:\n",
    "        return False\n",
    "\n",
    "    # construct a unique key from dynamic elements of the input\n",
    "    key = (a, b, c, n)\n",
    "\n",
    "    # if the subproblem is seen for the first time, solve it and\n",
    "    # store its result in a dictionary\n",
    "    if key not in lookup:\n",
    "\n",
    "        # Case 1. The current item becomes part of the first subset\n",
    "        A = False\n",
    "        if a - S[n] >= 0:\n",
    "            A = subsetSum(S, n - 1, a - S[n], b, c, lookup)\n",
    "\n",
    "        # Case 2. The current item becomes part of the second subset\n",
    "        B = False\n",
    "        if not A and (b - S[n] >= 0):\n",
    "            B = subsetSum(S, n - 1, a, b - S[n], c, lookup)\n",
    "\n",
    "        # Case 3. The current item becomes part of the third subset\n",
    "        C = False\n",
    "        if (not A and not B) and (c - S[n] >= 0):\n",
    "            C = subsetSum(S, n - 1, a, b, c - S[n], lookup)\n",
    "\n",
    "        # return true if we get a solution\n",
    "        lookup[key] = A or B or C\n",
    "\n",
    "    # return the subproblem solution from the dictionary\n",
    "    return lookup[key]\n",
    "\n",
    "\n",
    "# Function for solving the 3–partition problem. It returns true if the given\n",
    "# set `S` can be divided into three subsets with an equal sum\n",
    "def partition(S):\n",
    "\n",
    "    if len(S) < 3:\n",
    "        return False\n",
    "\n",
    "    # create a dictionary to store solutions to a subproblem\n",
    "    lookup = {}\n",
    "\n",
    "    # get the sum of all elements in the set\n",
    "    total = sum(S)\n",
    "\n",
    "    # return true if the sum is divisible by 3 and the set `S` can\n",
    "    # be divided into three subsets with an equal sum\n",
    "    return (total % 3) == 0 and subsetSum(\n",
    "        S, len(S) - 1, total // 3, total // 3, total // 3, lookup\n",
    "    )\n",
    "\n",
    "\n",
    "if __name__ == \"__main__\":\n",
    "\n",
    "    # Input: a set of integers\n",
    "    S = [7, 3, 2, 1, 5, 4, 8]\n",
    "\n",
    "    if partition(S):\n",
    "        print(\"Set can be partitioned\")\n",
    "    else:\n",
    "        print(\"Set cannot be partitioned\")"
   ]
  },
  {
   "cell_type": "code",
   "execution_count": 80,
   "metadata": {},
   "outputs": [
    {
     "name": "stdout",
     "output_type": "stream",
     "text": [
      "Partition 0 is [2, 6, 4]\n",
      "Partition 1 is [8, 4]\n",
      "Partition 2 is [3, 1, 5, 3]\n",
      "Partition 3 is [12]\n",
      "Partition 4 is [7, 5]\n"
     ]
    }
   ],
   "source": [
    "# Function to check if all subsets are filled or not\n",
    "def checkSum(sumLeft, k):\n",
    "\n",
    "    r = True\n",
    "    for i in range(k):\n",
    "        if sumLeft[i]:\n",
    "            r = False\n",
    "\n",
    "    return r\n",
    "\n",
    "\n",
    "# Helper function for solving `k` partition problem.\n",
    "# It returns true if there exist `k` subsets with the given sum\n",
    "def subsetSum(S, n, sumLeft, A, k):\n",
    "\n",
    "    # return true if a subset is found\n",
    "    if checkSum(sumLeft, k):\n",
    "        return True\n",
    "\n",
    "    # base case: no items left\n",
    "    if n < 0:\n",
    "        return False\n",
    "\n",
    "    result = False\n",
    "\n",
    "    # consider current item `S[n]` and explore all possibilities\n",
    "    # using backtracking\n",
    "    for i in range(k):\n",
    "        if not result and (sumLeft[i] - S[n]) >= 0:\n",
    "\n",
    "            # mark the current element subset\n",
    "            A[n] = i + 1\n",
    "\n",
    "            # add the current item to the i'th subset\n",
    "            sumLeft[i] = sumLeft[i] - S[n]\n",
    "\n",
    "            # recur for remaining items\n",
    "            result = subsetSum(S, n - 1, sumLeft, A, k)\n",
    "\n",
    "            # backtrack: remove the current item from the i'th subset\n",
    "            sumLeft[i] = sumLeft[i] + S[n]\n",
    "\n",
    "    # return true if we get a solution\n",
    "    return result\n",
    "\n",
    "\n",
    "# Function for solving k–partition problem. It prints the subsets if\n",
    "# set `S[0…n-1]` can be divided into `k` subsets with equal sum\n",
    "def partition(S, k):\n",
    "\n",
    "    # get the total number of items in `S`\n",
    "    n = len(S)\n",
    "\n",
    "    # base case\n",
    "    if n < k:\n",
    "        print(\"k-partition of set S is not possible\")\n",
    "        return\n",
    "\n",
    "    # get the sum of all elements in the set\n",
    "    total = sum(S)\n",
    "    A = [None] * n\n",
    "\n",
    "    # create a list of size `k` for each subset and initialize it\n",
    "    # by their expected sum, i.e., `sum/k`\n",
    "    sumLeft = [total // k] * k\n",
    "\n",
    "    # return true if the sum is divisible by `k` and set `S` can\n",
    "    # be divided into `k` subsets with equal sum\n",
    "    result = (total % k) == 0 and subsetSum(S, n - 1, sumLeft, A, k)\n",
    "\n",
    "    if not result:\n",
    "        print(\"k-partition of set S is not possible\")\n",
    "        return\n",
    "\n",
    "    # print all k–partitions\n",
    "    for i in range(k):\n",
    "        print(f\"Partition {i} is\", [S[j] for j in range(n) if A[j] == i + 1])\n",
    "\n",
    "\n",
    "if __name__ == \"__main__\":\n",
    "\n",
    "    # Input: a set of integers\n",
    "    S = [7, 3, 5, 12, 2, 1, 5, 3, 8, 4, 6, 4]\n",
    "    k = 5\n",
    "\n",
    "    partition(S, k)"
   ]
  },
  {
   "cell_type": "markdown",
   "metadata": {},
   "source": [
    "Find total ways to achieve a given sum with `n` throws of dice having `k` faces"
   ]
  },
  {
   "cell_type": "code",
   "execution_count": 120,
   "metadata": {},
   "outputs": [
    {
     "name": "stdout",
     "output_type": "stream",
     "text": [
      "The total number of ways is 140\n"
     ]
    }
   ],
   "source": [
    "def count(n, k, target):\n",
    "\n",
    "    # if the desired sum is reached with `n` dices\n",
    "    if n == 0:\n",
    "        return 1 if (target == 0) else 0\n",
    "\n",
    "    # the desired sum can't be reached with the current configuration\n",
    "    if target < 0 or k * n < target or n > target:\n",
    "        return 0\n",
    "\n",
    "    result = 0\n",
    "\n",
    "    # recur for all possible solutions\n",
    "    for i in range(1, k + 1):\n",
    "        result += count(n - 1, k, target - i)\n",
    "\n",
    "    return result\n",
    "\n",
    "\n",
    "if __name__ == \"__main__\":\n",
    "\n",
    "    n = 4  # n throws\n",
    "    k = 6  # values 1 to 6\n",
    "\n",
    "    target = 15  # desired sum\n",
    "\n",
    "    print(\"The total number of ways is\", count(n, k, target))"
   ]
  },
  {
   "cell_type": "code",
   "execution_count": 121,
   "metadata": {},
   "outputs": [
    {
     "name": "stdout",
     "output_type": "stream",
     "text": [
      "The total number of ways is 140\n"
     ]
    }
   ],
   "source": [
    "def count(n, k, target, lookup):\n",
    "\n",
    "    # if the desired sum is reached with `n` dices\n",
    "    if n == 0:\n",
    "        return 1 if (target == 0) else 0\n",
    "\n",
    "    # the desired sum can't be reached with the current configuration\n",
    "    if target < 0 or k * n < target or n > target:\n",
    "        return 0\n",
    "\n",
    "    # if the subproblem is seen for the first time, solve it and\n",
    "    # store its result\n",
    "    if lookup[n][target] == 0:\n",
    "        # recur for all possible solutions\n",
    "        for i in range(1, k + 1):\n",
    "            lookup[n][target] += count(n - 1, k, target - i, lookup)\n",
    "\n",
    "    # return solution to the current subproblem\n",
    "    return lookup[n][target]\n",
    "\n",
    "\n",
    "if __name__ == \"__main__\":\n",
    "\n",
    "    n = 4  # n throws\n",
    "    k = 6  # values 1 to 6\n",
    "\n",
    "    target = 15  # desired sum\n",
    "\n",
    "    # create a lookup table to store solutions to subproblems\n",
    "    # lookup[i][j] stores the total number of ways to achieve sum `j`\n",
    "    # with `i` throws of given dice.\n",
    "    lookup = [[0 for x in range(target + 1)] for y in range(n + 1)]\n",
    "\n",
    "    print(\"The total number of ways is\", count(n, k, target, lookup))"
   ]
  },
  {
   "cell_type": "markdown",
   "metadata": {},
   "source": [
    " bitwise OR of a number with some value does not decrease its value. It either keeps the value the same or increases. "
   ]
  },
  {
   "cell_type": "code",
   "execution_count": null,
   "metadata": {},
   "outputs": [],
   "source": [
    "# Python3 Code for above approach\n",
    "\n",
    "\n",
    "# Compute bitwise or of all elements\n",
    "# in array of size sz\n",
    "def OR(data, sz):\n",
    "    mOR = 0\n",
    "    for i in range(sz):\n",
    "        mOR |= data[i]\n",
    "    return mOR\n",
    "\n",
    "\n",
    "# calculate the size of\n",
    "# minimum subset with maximum or\n",
    "def minSubset(data, sz, maxOR):\n",
    "    # count table where\n",
    "    # count[i][j] => minimum size subset till ith element\n",
    "    # whose OR is j\n",
    "    count = [[1e9 for _ in range(maxOR + 1)] for _ in range(sz + 1)]\n",
    "\n",
    "    count[0][0] = 0\n",
    "\n",
    "    for i in range(sz):\n",
    "        for j in range(maxOR):\n",
    "            # Do not consider ith element.\n",
    "            count[i + 1][j] = min(count[i + 1][j], count[i][j])\n",
    "\n",
    "            # Consider the ith element.\n",
    "            if count[i][j] != 1e9:\n",
    "                count[i + 1][j | data[i]] = min(\n",
    "                    count[i + 1][j | data[i]], count[i][j] + 1\n",
    "                )\n",
    "\n",
    "    return count[sz][maxOR]\n",
    "\n",
    "\n",
    "# Driver code\n",
    "if __name__ == \"__main__\":\n",
    "    data = [5, 1, 3, 4, 2]\n",
    "    sz = len(data)\n",
    "    maxOR = OR(data, sz)\n",
    "\n",
    "    # Function Call\n",
    "    print(minSubset(data, sz, maxOR))"
   ]
  },
  {
   "cell_type": "markdown",
   "metadata": {},
   "source": [
    "Given a sequence of positive numbers, find the maximum sum that can be formed which has no three consecutive elements present."
   ]
  },
  {
   "cell_type": "code",
   "execution_count": 14,
   "metadata": {},
   "outputs": [
    {
     "name": "stdout",
     "output_type": "stream",
     "text": [
      "2101\n"
     ]
    }
   ],
   "source": [
    "# Python program to find the maximum sum such that\n",
    "# no three are consecutive\n",
    "\n",
    "\n",
    "# Returns maximum subsequence sum such that no three\n",
    "# elements are consecutive\n",
    "def maxSumWO3Consec(arr, n):\n",
    "    # Stores result for subarray arr[0..i], i.e.,\n",
    "    # maximum possible sum in subarray arr[0..i]\n",
    "    # such that no three elements are consecutive.\n",
    "    sum = [0 for k in range(n)]\n",
    "\n",
    "    # Base cases (process first three elements)\n",
    "\n",
    "    if n >= 1:\n",
    "        sum[0] = arr[0]\n",
    "\n",
    "    if n >= 2:\n",
    "        sum[1] = arr[0] + arr[1]\n",
    "\n",
    "    if n > 2:\n",
    "        sum[2] = max(sum[1], max(arr[1] + arr[2], arr[0] + arr[2]))\n",
    "\n",
    "    # Process rest of the elements\n",
    "    # We have three cases\n",
    "    # 1) Exclude arr[i], i.e., sum[i] = sum[i-1]\n",
    "    # 2) Exclude arr[i-1], i.e., sum[i] = sum[i-2] + arr[i]\n",
    "    # 3) Exclude arr[i-2], i.e., sum[i-3] + arr[i] + arr[i-1]\n",
    "    for i in range(3, n):\n",
    "        sum[i] = max(\n",
    "            max(sum[i - 1], sum[i - 2] + arr[i]), arr[i] + arr[i - 1] + sum[i - 3]\n",
    "        )\n",
    "\n",
    "    return sum[n - 1]\n",
    "\n",
    "\n",
    "# Driver code\n",
    "arr = [100, 1000, 100, 1000, 1]\n",
    "n = len(arr)\n",
    "print(maxSumWO3Consec(arr, n))\n",
    "\n",
    "# This code is contributed by Afzal Ansari"
   ]
  },
  {
   "cell_type": "markdown",
   "metadata": {},
   "source": [
    "**job sequencing problem**"
   ]
  },
  {
   "cell_type": "code",
   "execution_count": 6,
   "metadata": {},
   "outputs": [
    {
     "data": {
      "text/plain": [
       "[50, 70, 170, 250]"
      ]
     },
     "execution_count": 6,
     "metadata": {},
     "output_type": "execute_result"
    }
   ],
   "source": [
    "jobs = [[1, 2, 50], [3, 5, 20], [6, 19, 100], [2, 100, 200]]\n",
    "jobs.sort(key=lambda x: x[1])\n",
    "n = len(jobs)\n",
    "dp = [0] * n\n",
    "dp[0] = jobs[0][-1]\n",
    "for i in range(1, n):\n",
    "    for j in range(i):\n",
    "        if jobs[i][0] >= jobs[j][1] and dp[j] > dp[i]:\n",
    "            dp[i] = dp[j]\n",
    "    dp[i] += jobs[i][-1]\n",
    "dp"
   ]
  },
  {
   "cell_type": "code",
   "execution_count": 7,
   "metadata": {},
   "outputs": [
    {
     "name": "stdout",
     "output_type": "stream",
     "text": [
      "The maximum profit is 80\n"
     ]
    }
   ],
   "source": [
    "# A class to store a Job\n",
    "class Job:\n",
    "    def __init__(self, start, finish, profit):\n",
    "        self.start = start\n",
    "        self.finish = finish\n",
    "        self.profit = profit\n",
    "\n",
    "\n",
    "# Function to perform a binary search on the given jobs, which are sorted\n",
    "# by finish time. The function returns the index of the last job, which\n",
    "# doesn't conflict with the given job, i.e., whose finish time is\n",
    "# less than or equal to the given job's start time.\n",
    "def findLastNonConflictingJob(jobs, n):\n",
    "\n",
    "    # search space\n",
    "    low = 0\n",
    "    high = n\n",
    "\n",
    "    # iterate till the search space is exhausted\n",
    "    while low <= high:\n",
    "        mid = (low + high) // 2\n",
    "        if jobs[mid].finish <= jobs[n].start:\n",
    "            if jobs[mid + 1].finish <= jobs[n].start:\n",
    "                low = mid + 1\n",
    "            else:\n",
    "                return mid\n",
    "        else:\n",
    "            high = mid - 1\n",
    "\n",
    "    # return the negative index if no non-conflicting job is found\n",
    "    return -1\n",
    "\n",
    "\n",
    "# Function to find the maximum profit of non-overlapping jobs using DP\n",
    "def findMaxProfit(jobs):\n",
    "\n",
    "    # base case\n",
    "    if not jobs:\n",
    "        return 0\n",
    "\n",
    "    # sort jobs in increasing order of their finish times\n",
    "    jobs.sort(key=lambda x: x.finish)\n",
    "\n",
    "    # get the number of jobs\n",
    "    n = len(jobs)\n",
    "\n",
    "    # construct a lookup table where the i'th index stores the maximum profit\n",
    "    # for the first `i` jobs\n",
    "    maxProfit = [None] * n\n",
    "\n",
    "    # maximum profit gained by including the first job\n",
    "    maxProfit[0] = jobs[0].profit\n",
    "\n",
    "    # fill the `maxProfit` table in a bottom-up manner from the second index\n",
    "    for i in range(1, n):\n",
    "\n",
    "        # find the index of the last non-conflicting job with the current job\n",
    "        index = findLastNonConflictingJob(jobs, i)\n",
    "\n",
    "        # include the current job with its non-conflicting jobs\n",
    "        incl = jobs[i].profit\n",
    "        if index != -1:\n",
    "            incl += maxProfit[index]\n",
    "\n",
    "        # store the maximum profit by including or excluding the current job\n",
    "        maxProfit[i] = max(incl, maxProfit[i - 1])\n",
    "\n",
    "    # return maximum profit\n",
    "    return maxProfit[n - 1]\n",
    "\n",
    "\n",
    "if __name__ == \"__main__\":\n",
    "\n",
    "    jobs = [\n",
    "        Job(0, 6, 60),\n",
    "        Job(1, 4, 30),\n",
    "        Job(3, 5, 10),\n",
    "        Job(5, 7, 30),\n",
    "        Job(5, 9, 50),\n",
    "        Job(7, 8, 10),\n",
    "    ]\n",
    "\n",
    "    print(\"The maximum profit is\", findMaxProfit(jobs))"
   ]
  },
  {
   "cell_type": "markdown",
   "metadata": {},
   "source": [
    "build an expression out of an array by adding one of the symbols '+' and '-' before each integer in an array, \n",
    "\n",
    "and then by concatenating all the integers, you want to achieve a target. "
   ]
  },
  {
   "cell_type": "code",
   "execution_count": 30,
   "metadata": {},
   "outputs": [
    {
     "name": "stdout",
     "output_type": "stream",
     "text": [
      "+1+1+1+1-1 -1\n",
      "+1+1+1-1+1 -1\n",
      "+1+1-1+1+1 -1\n",
      "+1-1+1+1+1 -1\n",
      "-1+1+1+1+1 -1\n"
     ]
    },
    {
     "data": {
      "text/plain": [
       "5"
      ]
     },
     "execution_count": 30,
     "metadata": {},
     "output_type": "execute_result"
    }
   ],
   "source": [
    "arr = [1, 1, 1, 1, 1]\n",
    "k = 3\n",
    "\n",
    "\n",
    "def solve(i, arr, temp, k, ans):\n",
    "    if temp == k and i < 0:\n",
    "        print(ans, i)\n",
    "        return 1\n",
    "\n",
    "    if i < 0:\n",
    "        return 0\n",
    "\n",
    "    add = solve(i - 1, arr, temp + arr[i], k, ans + \"+\" + str(arr[i]))\n",
    "\n",
    "    sub = solve(i - 1, arr, temp - arr[i], k, ans + \"-\" + str(arr[i]))\n",
    "\n",
    "    return add + sub\n",
    "\n",
    "\n",
    "solve(len(arr) - 1, arr, 0, k, ans=\"\")"
   ]
  },
  {
   "cell_type": "code",
   "execution_count": 32,
   "metadata": {},
   "outputs": [
    {
     "name": "stdout",
     "output_type": "stream",
     "text": [
      "+1+1+1+1-1 -1\n",
      "+1+1+1-1+1 -1\n"
     ]
    },
    {
     "data": {
      "text/plain": [
       "5"
      ]
     },
     "execution_count": 32,
     "metadata": {},
     "output_type": "execute_result"
    }
   ],
   "source": [
    "# S1 + S2 = target   – (i)\n",
    "\n",
    "# Now, from where will this S1 and S2 come?  If we are given the array as [a,b,c,d,e], we want to place ‘+’ or ‘-’ signs in front of every array element and then add it. One example is :\n",
    "# +a-b-c+d+e which can be written as (+a+d+e) + (-b-c).\n",
    "\n",
    "# Therefore, we can say that S1=(+a+d+e) and S2=(-b-c) for this example.\n",
    "\n",
    "#  If we calculate the total sum of elements of the array (say totSum), we can can say that,\n",
    "# S1 = totSum - S2      – (ii)\n",
    "\n",
    "# Now solving for equations (i) and (iii), we can say that\n",
    "# S2 = (totSum - target)/2    – (iv)\n",
    "\n",
    "\n",
    "mod = int(1e9 + 7)\n",
    "\n",
    "\n",
    "def findWays(num, tar):\n",
    "    n = len(num)\n",
    "    dp = [[0 for i in range(tar + 1)] for j in range(n)]\n",
    "\n",
    "    for i in range(n):\n",
    "        dp[i][0] = 1\n",
    "\n",
    "    if num[0] == 0:\n",
    "        dp[0][0] = 2  # 2 cases - pick and not pick\n",
    "    else:\n",
    "        dp[0][0] = 1  # 1 case - not pick\n",
    "\n",
    "    if num[0] != 0 and num[0] <= tar:\n",
    "        dp[0][num[0]] = 1  # 1 case - pick\n",
    "\n",
    "    for ind in range(1, n):\n",
    "        for target in range(tar + 1):\n",
    "            notTaken = dp[ind - 1][target]\n",
    "\n",
    "            taken = 0\n",
    "            if num[ind] <= target:\n",
    "                taken = dp[ind - 1][target - num[ind]]\n",
    "\n",
    "            dp[ind][target] = (notTaken + taken) % mod\n",
    "\n",
    "    return dp[n - 1][tar]\n",
    "\n",
    "\n",
    "def targetSum_(arr, target):\n",
    "    totSum = 0\n",
    "    n = len(arr)\n",
    "    for i in range(n):\n",
    "        totSum += arr[i]\n",
    "\n",
    "    # Checking for edge cases\n",
    "    if (totSum - target) < 0 or ((totSum - target) % 2):\n",
    "        return 0\n",
    "\n",
    "    return findWays(arr, (totSum - target) // 2)"
   ]
  },
  {
   "cell_type": "code",
   "execution_count": 33,
   "metadata": {},
   "outputs": [
    {
     "data": {
      "text/plain": [
       "5"
      ]
     },
     "execution_count": 33,
     "metadata": {},
     "output_type": "execute_result"
    }
   ],
   "source": [
    "from typing import List\n",
    "from collections import defaultdict\n",
    "\n",
    "\n",
    "def targetSum(arr: List[int], target: int) -> int:\n",
    "\n",
    "    dp = [defaultdict(int) for _ in range(len(arr) + 1)]\n",
    "\n",
    "    # Without using any elements there is 1 way to make 0.\n",
    "    dp[0][0] = 1\n",
    "\n",
    "    for i in range(len(arr)):\n",
    "\n",
    "        # Traverse the entire hashmap of previous index.\n",
    "        for key, val in dp[i].items():\n",
    "            dp[i + 1][key + arr[i]] += val\n",
    "            dp[i + 1][key - arr[i]] += val\n",
    "\n",
    "    # Return the answer when we reach the end of the array.\n",
    "    # Number of ways to reach the target.\n",
    "    return dp[len(arr)][target]\n",
    "\n",
    "\n",
    "arr = [1, 1, 1, 1, 1]\n",
    "k = 3\n",
    "\n",
    "targetSum(arr, k)"
   ]
  },
  {
   "cell_type": "markdown",
   "metadata": {},
   "source": [
    "# string"
   ]
  },
  {
   "cell_type": "markdown",
   "metadata": {},
   "source": [
    "\n",
    "\n",
    "Longest Common Substring"
   ]
  },
  {
   "cell_type": "code",
   "execution_count": 2,
   "metadata": {},
   "outputs": [
    {
     "data": {
      "text/plain": [
       "3"
      ]
     },
     "execution_count": 2,
     "metadata": {},
     "output_type": "execute_result"
    }
   ],
   "source": [
    "def solve(s1, s2, m, n, l):\n",
    "    if m < 0 or n < 0:\n",
    "        return l\n",
    "\n",
    "    if s1[m] == s2[n]:\n",
    "        return solve(s1, s2, m - 1, n - 1, l + 1)\n",
    "\n",
    "    return max(l, solve(s1, s2, m - 1, n, 0), solve(s1, s2, m, n - 1, 0))\n",
    "\n",
    "\n",
    "s1 = \"abcjklp\"\n",
    "s2 = \"acjkp\"\n",
    "solve(s1, s2, len(s1) - 1, len(s2) - 1, 0)"
   ]
  },
  {
   "cell_type": "code",
   "execution_count": 14,
   "metadata": {},
   "outputs": [
    {
     "name": "stdout",
     "output_type": "stream",
     "text": [
      "The Length of Longest Common Substring is (3, 'cjk')\n"
     ]
    }
   ],
   "source": [
    "def lcs(s1, s2):\n",
    "    n = len(s1)\n",
    "    m = len(s2)\n",
    "\n",
    "    # Create a DP table with dimensions (n+1) x (m+1) initialized to zeros\n",
    "    dp = [[0] * (m) for _ in range(n)]\n",
    "\n",
    "    # Initialize a variable 'ans' to keep track of the maximum LCS length\n",
    "    ans = 0\n",
    "    endingIndex = n\n",
    "    for i in range(n):\n",
    "        for j in range(m):\n",
    "            if s1[i] == s2[j]:\n",
    "                # If the characters match, increment LCS length by 1\n",
    "                val = 1 + dp[i - 1][j - 1]\n",
    "                dp[i][j] = val\n",
    "                if val > ans:\n",
    "                    ans = val\n",
    "                    endingIndex = i\n",
    "            else:\n",
    "                # If the characters do not match, reset LCS length to zero\n",
    "                dp[i][j] = 0\n",
    "\n",
    "    # 'ans' contains the length of the Longest Common Substring\n",
    "    return ans, s1[endingIndex - ans + 1 : endingIndex + 1]\n",
    "\n",
    "\n",
    "def main():\n",
    "    s1 = \"abcjklp\"\n",
    "    s2 = \"acjkp\"\n",
    "\n",
    "    print(\"The Length of Longest Common Substring is\", lcs(s1, s2))\n",
    "\n",
    "\n",
    "if __name__ == \"__main__\":\n",
    "    main()"
   ]
  },
  {
   "cell_type": "markdown",
   "metadata": {},
   "source": [
    "**space-opt**"
   ]
  },
  {
   "cell_type": "code",
   "execution_count": 19,
   "metadata": {},
   "outputs": [
    {
     "name": "stdout",
     "output_type": "stream",
     "text": [
      "The Length of Longest Common Substring is 3\n"
     ]
    }
   ],
   "source": [
    "def lcs(s1, s2):\n",
    "    n = len(s1)\n",
    "    m = len(s2)\n",
    "\n",
    "    # Initialize two arrays 'prev' and 'cur' to store the LCS lengths\n",
    "    prev = [0 for i in range(m + 1)]\n",
    "    cur = [0 for i in range(m + 1)]\n",
    "\n",
    "    # Initialize a variable 'ans' to keep track of the maximum LCS length\n",
    "    ans = 0\n",
    "    endingIndex = m\n",
    "\n",
    "    for i in range(1, n + 1):\n",
    "        for j in range(1, m + 1):\n",
    "            if s1[i - 1] == s2[j - 1]:\n",
    "                # If the characters match, increment LCS length by 1\n",
    "                val = 1 + prev[j - 1]\n",
    "                cur[j] = val\n",
    "                ans = max(ans, val)\n",
    "            else:\n",
    "                # If the characters do not match, reset LCS length to zero\n",
    "                cur[j] = 0\n",
    "        prev = cur[:]  # Update 'prev' with the values of 'cur'\n",
    "\n",
    "    # 'ans' contains the length of the Longest Common Substring\n",
    "    return ans\n",
    "\n",
    "\n",
    "def main():\n",
    "    s1 = \"abcjklp\"\n",
    "    s2 = \"acjkp\"\n",
    "\n",
    "    print(\"The Length of Longest Common Substring is\", lcs(s1, s2))\n",
    "\n",
    "\n",
    "if __name__ == \"__main__\":\n",
    "    main()"
   ]
  },
  {
   "cell_type": "markdown",
   "metadata": {},
   "source": [
    "**longest repeated substring**"
   ]
  },
  {
   "cell_type": "code",
   "execution_count": 17,
   "metadata": {},
   "outputs": [
    {
     "name": "stdout",
     "output_type": "stream",
     "text": [
      "The Length of Longest repeated Substring is (5, 'large')\n"
     ]
    }
   ],
   "source": [
    "def lcs(\n",
    "    s1,\n",
    "):\n",
    "    n = len(s1)\n",
    "\n",
    "    # Create a DP table with dimensions (n+1) x (m+1) initialized to zeros\n",
    "    dp = [[0] * (n) for _ in range(n)]\n",
    "\n",
    "    # Initialize a variable 'ans' to keep track of the maximum LCS length\n",
    "    ans = 0\n",
    "    endingIndex = n\n",
    "\n",
    "    for i in range(n):\n",
    "        for j in range(i + 1, n):\n",
    "            if s1[i] == s1[j]:\n",
    "                # If the characters match, increment LCS length by 1\n",
    "                val = 1 + dp[i - 1][j - 1] if i != 0 else 1\n",
    "                dp[i][j] = val\n",
    "                if val > ans:\n",
    "                    ans = val\n",
    "                    endingIndex = i\n",
    "            else:\n",
    "                # If the characters do not match, reset LCS length to zero\n",
    "                dp[i][j] = 0\n",
    "\n",
    "    # 'ans' contains the length of the Longest Common Substring\n",
    "    return ans, s1[endingIndex - ans + 1 : endingIndex + 1]\n",
    "\n",
    "\n",
    "def main():\n",
    "    s1 = \"largelargerlargest\"  # \"abcjklpabc\"\n",
    "\n",
    "    print(\"The Length of Longest repeated Substring is\", lcs(s1))\n",
    "\n",
    "\n",
    "if __name__ == \"__main__\":\n",
    "    main()"
   ]
  },
  {
   "attachments": {
    "image.png": {
     "image/png": "[encoded data removed]"
    }
   },
   "cell_type": "markdown",
   "metadata": {},
   "source": [
    "![image.png](attachment:image.png)"
   ]
  },
  {
   "cell_type": "code",
   "execution_count": 1,
   "metadata": {},
   "outputs": [
    {
     "name": "stdout",
     "output_type": "stream",
     "text": [
      "The length of the longest repeating subsequence is 4\n"
     ]
    }
   ],
   "source": [
    "# Function to find the length of the longest repeated subsequence\n",
    "# of substring `X[0…n-1]`\n",
    "def LRSLength(X):\n",
    "\n",
    "    n = len(X)\n",
    "\n",
    "    # lookup table stores solution to already computed subproblems;\n",
    "    # i.e., lookup[i][j] stores the length of LRS of substring\n",
    "    # `X[0…i-1]` and `X[0…j-1]`\n",
    "    lookup = [[0 for x in range(n + 1)] for y in range((n + 1))]\n",
    "\n",
    "    # fill the lookup table in a bottom-up manner\n",
    "    for i in range(1, n + 1):\n",
    "\n",
    "        for j in range(1, n + 1):\n",
    "            # if characters at index `i` and `j` matches\n",
    "            # and the index are different\n",
    "            if X[i - 1] == X[j - 1] and i != j:\n",
    "                lookup[i][j] = lookup[i - 1][j - 1] + 1\n",
    "            # otherwise, if characters at index `i` and `j` are different\n",
    "            else:\n",
    "                lookup[i][j] = max(lookup[i - 1][j], lookup[i][j - 1])\n",
    "\n",
    "    # LRS will be the last entry in the lookup table\n",
    "    return lookup[n][n]\n",
    "\n",
    "\n",
    "if __name__ == \"__main__\":\n",
    "\n",
    "    X = \"ATACTCGGA\"\n",
    "    print(\"The length of the longest repeating subsequence is\", LRSLength(X))"
   ]
  },
  {
   "attachments": {
    "image.png": {
     "image/png": "[encoded data removed]"
    }
   },
   "cell_type": "markdown",
   "metadata": {},
   "source": [
    "![image.png](attachment:image.png)"
   ]
  },
  {
   "cell_type": "code",
   "execution_count": 2,
   "metadata": {},
   "outputs": [
    {
     "name": "stdout",
     "output_type": "stream",
     "text": [
      " A B C D +E F G -H +I J -Q +K +R +X +Y Z"
     ]
    }
   ],
   "source": [
    "# Function to display the differences between two strings\n",
    "def diff(X, Y, m, n, lookup):\n",
    "\n",
    "    # if the last character of `X` and `Y` matches\n",
    "    if m > 0 and n > 0 and X[m - 1] == Y[n - 1]:\n",
    "        diff(X, Y, m - 1, n - 1, lookup)\n",
    "        print(\"\", X[m - 1], end=\"\")\n",
    "\n",
    "    # if the current character of `Y` is not present in `X`\n",
    "    elif n > 0 and (m == 0 or lookup[m][n - 1] >= lookup[m - 1][n]):\n",
    "        diff(X, Y, m, n - 1, lookup)\n",
    "        print(\" +\" + Y[n - 1], end=\"\")\n",
    "\n",
    "    # if the current character of `X` is not present in `Y`\n",
    "    elif m > 0 and (n == 0 or lookup[m][n - 1] < lookup[m - 1][n]):\n",
    "        diff(X, Y, m - 1, n, lookup)\n",
    "        print(\" -\" + X[m - 1], end=\"\")\n",
    "\n",
    "\n",
    "# Function to fill the lookup table by finding the length of LCS\n",
    "# of substring X[0…m-1] and Y[0…n-1]\n",
    "def findLCS(X, Y, m, n):\n",
    "\n",
    "    # lookup[i][j] stores the length of LCS of substring X[0…i-1] and Y[0…j-1]\n",
    "    lookup = [[0 for x in range(len(Y) + 1)] for y in range(len(X) + 1)]\n",
    "\n",
    "    # first column of the lookup table will be all 0\n",
    "    for i in range(m + 1):\n",
    "        lookup[i][0] = 0\n",
    "\n",
    "    # first row of the lookup table will be all 0\n",
    "    for j in range(n + 1):\n",
    "        lookup[0][j] = 0\n",
    "\n",
    "    # fill the lookup table in a bottom-up manner\n",
    "    for i in range(1, m + 1):\n",
    "        for j in range(1, n + 1):\n",
    "            # if current character of `X` and `Y` matches\n",
    "            if X[i - 1] == Y[j - 1]:\n",
    "                lookup[i][j] = lookup[i - 1][j - 1] + 1\n",
    "                # otherwise, if the current character of `X` and `Y` don't match\n",
    "            else:\n",
    "                lookup[i][j] = max(lookup[i - 1][j], lookup[i][j - 1])\n",
    "\n",
    "    return lookup\n",
    "\n",
    "\n",
    "# Implement diff utility in Python\n",
    "if __name__ == \"__main__\":\n",
    "\n",
    "    X = \"ABCDFGHJQZ\"\n",
    "    Y = \"ABCDEFGIJKRXYZ\"\n",
    "\n",
    "    # lookup[i][j] stores the length of LCS of substring X[0…i-1] and Y[0…j-1]\n",
    "    lookup = findLCS(X, Y, len(X), len(Y))\n",
    "\n",
    "    # find the difference\n",
    "    diff(X, Y, len(X), len(Y), lookup)"
   ]
  },
  {
   "cell_type": "code",
   "execution_count": 3,
   "metadata": {},
   "outputs": [
    {
     "name": "stdout",
     "output_type": "stream",
     "text": [
      " Z +Y +X +R +K -Q J +I -H G F +E D C B A"
     ]
    }
   ],
   "source": [
    "# Function to display the differences between two strings\n",
    "def diff(X, Y, m, n, lookup):\n",
    "\n",
    "    # if the last character of `X` and `Y` matches\n",
    "    if m > 0 and n > 0 and X[m - 1] == Y[n - 1]:\n",
    "        print(\"\", X[m - 1], end=\"\")\n",
    "        diff(X, Y, m - 1, n - 1, lookup)\n",
    "\n",
    "    # if the current character of `Y` is not present in `X`\n",
    "    elif n > 0 and (m == 0 or lookup[m][n - 1] >= lookup[m - 1][n]):\n",
    "        print(\" +\" + Y[n - 1], end=\"\")\n",
    "        diff(X, Y, m, n - 1, lookup)\n",
    "\n",
    "    # if the current character of `X` is not present in `Y`\n",
    "    elif m > 0 and (n == 0 or lookup[m][n - 1] < lookup[m - 1][n]):\n",
    "        print(\" -\" + X[m - 1], end=\"\")\n",
    "        diff(X, Y, m - 1, n, lookup)\n",
    "\n",
    "\n",
    "# Function to fill the lookup table by finding the length of LCS\n",
    "# of substring X[0…m-1] and Y[0…n-1]\n",
    "def findLCS(X, Y, m, n):\n",
    "\n",
    "    # lookup[i][j] stores the length of LCS of substring X[0…i-1] and Y[0…j-1]\n",
    "    lookup = [[0 for x in range(len(Y) + 1)] for y in range(len(X) + 1)]\n",
    "\n",
    "    # first column of the lookup table will be all 0\n",
    "    for i in range(m + 1):\n",
    "        lookup[i][0] = 0\n",
    "\n",
    "    # first row of the lookup table will be all 0\n",
    "    for j in range(n + 1):\n",
    "        lookup[0][j] = 0\n",
    "\n",
    "    # fill the lookup table in a bottom-up manner\n",
    "    for i in range(1, m + 1):\n",
    "        for j in range(1, n + 1):\n",
    "            # if current character of `X` and `Y` matches\n",
    "            if X[i - 1] == Y[j - 1]:\n",
    "                lookup[i][j] = lookup[i - 1][j - 1] + 1\n",
    "                # otherwise, if the current character of `X` and `Y` don't match\n",
    "            else:\n",
    "                lookup[i][j] = max(lookup[i - 1][j], lookup[i][j - 1])\n",
    "\n",
    "    return lookup\n",
    "\n",
    "\n",
    "# Implement diff utility in Python\n",
    "if __name__ == \"__main__\":\n",
    "\n",
    "    X = \"ABCDFGHJQZ\"\n",
    "    Y = \"ABCDEFGIJKRXYZ\"\n",
    "\n",
    "    # lookup[i][j] stores the length of LCS of substring X[0…i-1] and Y[0…j-1]\n",
    "    lookup = findLCS(X, Y, len(X), len(Y))\n",
    "\n",
    "    # find the difference\n",
    "    diff(X, Y, len(X), len(Y), lookup)"
   ]
  },
  {
   "cell_type": "markdown",
   "metadata": {},
   "source": [
    "**longest palindromic substring**\n",
    "\n",
    "\n",
    "**longest substring of s and reverse(s)**"
   ]
  },
  {
   "cell_type": "code",
   "execution_count": null,
   "metadata": {},
   "outputs": [],
   "source": []
  },
  {
   "cell_type": "code",
   "execution_count": null,
   "metadata": {},
   "outputs": [],
   "source": [
    "# Expand in both directions of `low` and `high` to find maximum length palindrome\n",
    "def expand(s, low, high):\n",
    "    length = len(s)\n",
    "\n",
    "    # expand in both directions\n",
    "    while low >= 0 and high < length and s[low] == s[high]:\n",
    "        low = low - 1\n",
    "        high = high + 1\n",
    "\n",
    "    # return palindromic substring\n",
    "    return s[low + 1 : high]\n",
    "\n",
    "\n",
    "# Function to find the longest palindromic substring in `O(n²)` time and `O(1)` space\n",
    "def findLongestPalindromicSubstring(s):\n",
    "\n",
    "    # base case\n",
    "    if not s:\n",
    "        return \"\"\n",
    "\n",
    "    # `max_str` stores the maximum length palindromic substring found so far\n",
    "    max_str = \"\"\n",
    "\n",
    "    # `max_length` stores the maximum length of palindromic\n",
    "    # substring found so far\n",
    "    max_length = 0\n",
    "\n",
    "    # consider every character of the given string as a midpoint and expand\n",
    "    # in both directions to find maximum length palindrome\n",
    "\n",
    "    for i in range(len(s)):\n",
    "\n",
    "        # find the longest odd length palindrome with `s[i]` as a midpoint\n",
    "        curr_str = expand(s, i, i)\n",
    "        curr_length = len(curr_str)\n",
    "\n",
    "        # update maximum length palindromic substring if the odd length\n",
    "        # palindrome has a greater length\n",
    "\n",
    "        if curr_length > max_length:\n",
    "            max_length = curr_length\n",
    "            max_str = curr_str\n",
    "\n",
    "        # Find the longest even length palindrome with `s[i]` and `s[i+1]` as\n",
    "        # midpoints. Note that an even length palindrome has two midpoints.\n",
    "\n",
    "        curr_str = expand(s, i, i + 1)\n",
    "        curr_length = len(curr_str)\n",
    "\n",
    "        # update maximum length palindromic substring if even length\n",
    "        # palindrome has a greater length\n",
    "\n",
    "        if curr_length > max_length:\n",
    "            max_length = curr_length\n",
    "            max_str = curr_str\n",
    "\n",
    "    return max_str\n",
    "\n",
    "\n",
    "if __name__ == \"__main__\":\n",
    "\n",
    "    s = \"ABDCBCDBDCBBC\"\n",
    "\n",
    "    print(\n",
    "        f\"The longest palindromic substring of {s} is\",\n",
    "        findLongestPalindromicSubstring(s),\n",
    "    )"
   ]
  },
  {
   "cell_type": "markdown",
   "metadata": {},
   "source": [
    "**find all possible palindromic substrings**"
   ]
  },
  {
   "cell_type": "code",
   "execution_count": null,
   "metadata": {},
   "outputs": [],
   "source": [
    "def expand(s, low, high, palindromes):\n",
    "\n",
    "    # run till `s[low.high]` is not a palindrome\n",
    "    while low >= 0 and high < len(s) and s[low] == s[high]:\n",
    "\n",
    "        # push all palindromes into a set\n",
    "        palindromes.add(s[low : high + 1])\n",
    "\n",
    "        # Expand in both directions\n",
    "        low = low - 1\n",
    "        high = high + 1\n",
    "\n",
    "\n",
    "# Function to find all unique palindromic substrings of a given string\n",
    "def findPalindromicSubstrings(s):\n",
    "\n",
    "    # create an empty set to store all unique palindromic substrings\n",
    "    palindromes = set()\n",
    "\n",
    "    for i in range(len(s)):\n",
    "\n",
    "        # find all odd length palindrome with `s[i]` as a midpoint\n",
    "        expand(s, i, i, palindromes)\n",
    "\n",
    "        # find all even length palindrome with `s[i]` and `s[i+1]`\n",
    "        # as its midpoints\n",
    "        expand(s, i, i + 1, palindromes)\n",
    "\n",
    "    # print all unique palindromic substrings\n",
    "    print(palindromes, end=\"\")\n",
    "\n",
    "\n",
    "if __name__ == \"__main__\":\n",
    "\n",
    "    s = \"google\"\n",
    "    findPalindromicSubstrings(s)"
   ]
  },
  {
   "cell_type": "code",
   "execution_count": 11,
   "metadata": {},
   "outputs": [
    {
     "name": "stdout",
     "output_type": "stream",
     "text": [
      "The minimum number of operations required is: 3\n"
     ]
    }
   ],
   "source": [
    "def editDistance(S1, S2):\n",
    "    n = len(S1)\n",
    "    m = len(S2)\n",
    "\n",
    "    # Initialize a 2D DP array of size (n+1) x (m+1) with all elements set to 0\n",
    "    dp = [[0 for _ in range(m + 1)] for _ in range(n + 1)]\n",
    "\n",
    "    # Initialize the first row and first column of the DP array\n",
    "    for i in range(n + 1):\n",
    "        dp[i][0] = i\n",
    "    for j in range(m + 1):\n",
    "        dp[0][j] = j\n",
    "\n",
    "    # Fill in the DP array using dynamic programming\n",
    "    for i in range(1, n + 1):\n",
    "\n",
    "        for j in range(1, m + 1):\n",
    "            # If the characters at the current positions match, no operation is needed\n",
    "            if S1[i - 1] == S2[j - 1]:\n",
    "                dp[i][j] = dp[i - 1][j - 1]\n",
    "            else:\n",
    "                # Calculate the minimum of three choices:\n",
    "                # 1. Replace the current character (diagonal move)\n",
    "                # 2. Insert a character into S1 (move up)\n",
    "                # 3. Delete a character from S1 (move left)\n",
    "                dp[i][j] = 1 + min(dp[i - 1][j - 1], min(dp[i - 1][j], dp[i][j - 1]))\n",
    "\n",
    "    # The final value in dp[n][m] is the minimum number of operations required\n",
    "    return dp[n][m]\n",
    "\n",
    "\n",
    "def main():\n",
    "    s1 = \"horse\"\n",
    "    s2 = \"ros\"\n",
    "\n",
    "    # Calculate and print the minimum number of operations required\n",
    "    print(\"The minimum number of operations required is:\", editDistance(s1, s2))\n",
    "\n",
    "\n",
    "if __name__ == \"__main__\":\n",
    "    main()"
   ]
  },
  {
   "cell_type": "code",
   "execution_count": 15,
   "metadata": {},
   "outputs": [
    {
     "name": "stdout",
     "output_type": "stream",
     "text": [
      "The minimum number of operations required is: 3\n"
     ]
    }
   ],
   "source": [
    "def editDistance(S1, S2):\n",
    "    n = len(S1)\n",
    "    m = len(S2)\n",
    "\n",
    "    # Initialize a 2D DP array of size (n+1) x (m+1) with all elements set to 0\n",
    "    prev = [j for j in range(m + 1)]\n",
    "    temp = [0] * (m + 1)\n",
    "\n",
    "    # Initialize the first row and first column of the DP array\n",
    "\n",
    "    # for j in range(m + 1):\n",
    "    #     prev[j] = j\n",
    "\n",
    "    # Fill in the DP array using dynamic programming\n",
    "    for i in range(1, n + 1):\n",
    "\n",
    "        temp[0] = i\n",
    "        for j in range(1, m + 1):\n",
    "            # If the characters at the current positions match, no operation is needed\n",
    "            if S1[i - 1] == S2[j - 1]:\n",
    "                temp[j] = prev[j - 1]\n",
    "            else:\n",
    "                # Calculate the minimum of three choices:\n",
    "                # 1. Replace the current character (diagonal move)\n",
    "                # 2. Insert a character into S1 (move up)\n",
    "                # 3. Delete a character from S1 (move left)\n",
    "                temp[j] = 1 + min(prev[j - 1], min(prev[j], temp[j - 1]))\n",
    "        prev, temp = temp, prev\n",
    "\n",
    "    # The final value in dp[n][m] is the minimum number of operations required\n",
    "    return prev[m]\n",
    "\n",
    "\n",
    "def main():\n",
    "    s1 = \"horse\"\n",
    "    s2 = \"ros\"\n",
    "\n",
    "    # Calculate and print the minimum number of operations required\n",
    "    print(\"The minimum number of operations required is:\", editDistance(s1, s2))\n",
    "\n",
    "\n",
    "if __name__ == \"__main__\":\n",
    "    main()"
   ]
  },
  {
   "cell_type": "markdown",
   "metadata": {},
   "source": [
    "**Longest Common Subsequence (LCS)**"
   ]
  },
  {
   "cell_type": "code",
   "execution_count": null,
   "metadata": {},
   "outputs": [],
   "source": [
    "def LCSLength(X, Y, m, n):\n",
    "\n",
    "    # return if the end of either sequence is reached\n",
    "    if m == 0 or n == 0:\n",
    "        return 0\n",
    "\n",
    "    # if the last character of `X` and `Y` matches\n",
    "    if X[m - 1] == Y[n - 1]:\n",
    "        return LCSLength(X, Y, m - 1, n - 1) + 1\n",
    "\n",
    "    # otherwise, if the last character of `X` and `Y` don't match\n",
    "    return max(LCSLength(X, Y, m, n - 1), LCSLength(X, Y, m - 1, n))\n",
    "\n",
    "\n",
    "if __name__ == \"__main__\":\n",
    "\n",
    "    X = \"ABCBDAB\"\n",
    "    Y = \"BDCABA\"\n",
    "\n",
    "    print(\"The length of the LCS is\", LCSLength(X, Y, len(X), len(Y)))\n",
    "\n",
    "\n",
    "# Function to find the length of the longest common subsequence of substring\n",
    "# `X[0…m-1]` and `Y[0…n-1]`\n",
    "def LCSLength(X, Y, m, n, lookup):\n",
    "\n",
    "    # return if the end of either string is reached\n",
    "    if m == 0 or n == 0:\n",
    "        return 0\n",
    "\n",
    "    # construct a unique key from dynamic elements of the input\n",
    "    key = (m, n)\n",
    "\n",
    "    # if the subproblem is seen for the first time, solve it and\n",
    "    # store its result in a dictionary\n",
    "    if key not in lookup:\n",
    "\n",
    "        # if the last character of `X` and `Y` matches\n",
    "        if X[m - 1] == Y[n - 1]:\n",
    "            lookup[key] = LCSLength(X, Y, m - 1, n - 1, lookup) + 1\n",
    "\n",
    "        else:\n",
    "            # otherwise, if the last character of `X` and `Y` don't match\n",
    "            lookup[key] = max(\n",
    "                LCSLength(X, Y, m, n - 1, lookup), LCSLength(X, Y, m - 1, n, lookup)\n",
    "            )\n",
    "\n",
    "    # return the subproblem solution from the dictionary\n",
    "    return lookup[key]\n",
    "\n",
    "\n",
    "if __name__ == \"__main__\":\n",
    "\n",
    "    X = \"ABCBDAB\"\n",
    "    Y = \"BDCABA\"\n",
    "\n",
    "    # create a dictionary to store solutions to subproblems\n",
    "    lookup = {}\n",
    "\n",
    "    print(\"The length of the LCS is\", LCSLength(X, Y, len(X), len(Y), lookup))"
   ]
  },
  {
   "cell_type": "code",
   "execution_count": null,
   "metadata": {},
   "outputs": [],
   "source": [
    "# Space optimized function to find the length of the longest common subsequence\n",
    "# of substring `X[0…m-1]` and `Y[0…n-1]`\n",
    "def LCSLength(X, Y):\n",
    "\n",
    "    m = len(X)\n",
    "    n = len(Y)\n",
    "\n",
    "    # allocate storage for one-dimensional lists, `curr` and `prev`\n",
    "    curr = [0] * (n + 1)\n",
    "    prev = [0] * (n + 1)\n",
    "\n",
    "    # fill the lookup table in a bottom-up manner\n",
    "    for i in range(m + 1):\n",
    "        for j in range(n + 1):\n",
    "            if i > 0 and j > 0:\n",
    "                # if the current character of `X` and `Y` matches\n",
    "                if X[i - 1] == Y[j - 1]:\n",
    "                    curr[j] = prev[j - 1] + 1\n",
    "                # otherwise, if the current character of `X` and `Y` don't match\n",
    "                else:\n",
    "                    curr[j] = max(prev[j], curr[j - 1])\n",
    "\n",
    "        # replace contents of the previous list with the current list\n",
    "        prev = curr.copy()\n",
    "\n",
    "    # LCS will be the last entry in the lookup table\n",
    "    return curr[n]\n",
    "\n",
    "\n",
    "if __name__ == \"__main__\":\n",
    "\n",
    "    X = \"XMJYAUZ\"\n",
    "    Y = \"MZJAWXU\"\n",
    "\n",
    "    print(\"The length of the LCS is\", LCSLength(X, Y))"
   ]
  },
  {
   "cell_type": "markdown",
   "metadata": {},
   "source": [
    "**print all the possible longest common subsequences**"
   ]
  },
  {
   "cell_type": "code",
   "execution_count": 2,
   "metadata": {},
   "outputs": [
    {
     "name": "stdout",
     "output_type": "stream",
     "text": [
      "MJAU\n"
     ]
    }
   ],
   "source": [
    "def LCS(X, Y, m, n, lookup):\n",
    "\n",
    "    # return an empty string if the end of either sequence is reached\n",
    "    if m == 0 or n == 0:\n",
    "        return str()\n",
    "\n",
    "    # if the last character of `X` and `Y` matches\n",
    "    if X[m - 1] == Y[n - 1]:\n",
    "        # append current character (`X[m-1]` or `Y[n-1]`) to LCS of\n",
    "        # substring `X[0…m-2]` and `Y[0…n-2]`\n",
    "        return LCS(X, Y, m - 1, n - 1, lookup) + X[m - 1]\n",
    "\n",
    "    # otherwise, if the last character of `X` and `Y` are different\n",
    "\n",
    "    # if a top cell of the current cell has more value than the left\n",
    "    # cell, then drop the current character of string `X` and find LCS\n",
    "    # of substring `X[0…m-2]`, `Y[0…n-1]`\n",
    "\n",
    "    if lookup[m - 1][n] > lookup[m][n - 1]:\n",
    "        return LCS(X, Y, m - 1, n, lookup)\n",
    "    else:\n",
    "        # if a left cell of the current cell has more value than the top\n",
    "        # cell, then drop the current character of string `Y` and find LCS\n",
    "        # of substring `X[0…m-1]`, `Y[0…n-2]`\n",
    "        return LCS(X, Y, m, n - 1, lookup)\n",
    "\n",
    "\n",
    "# Function to fill the lookup table by finding the length of LCS\n",
    "# of substring `X[0…m-1]` and `Y[0…n-1]`\n",
    "def LCSLength(X, Y, m, n, lookup):\n",
    "\n",
    "    # fill the lookup table in a bottom-up manner\n",
    "    for i in range(1, m + 1):\n",
    "        for j in range(1, n + 1):\n",
    "            # if current character of `X` and `Y` matches\n",
    "            if X[i - 1] == Y[j - 1]:\n",
    "                lookup[i][j] = lookup[i - 1][j - 1] + 1\n",
    "            # otherwise, if the current character of `X` and `Y` don't match\n",
    "            else:\n",
    "                lookup[i][j] = max(lookup[i - 1][j], lookup[i][j - 1])\n",
    "\n",
    "\n",
    "if __name__ == \"__main__\":\n",
    "\n",
    "    X = \"XMJYAUZ\"\n",
    "    Y = \"MZJAWXU\"\n",
    "\n",
    "    m = len(X)\n",
    "    n = len(Y)\n",
    "\n",
    "    # lookup[i][j] stores the length of LCS of substring `X[0…i-1]` and `Y[0…j-1]`\n",
    "    lookup = [[0 for x in range(n + 1)] for y in range(m + 1)]\n",
    "\n",
    "    # fill lookup table\n",
    "    LCSLength(X, Y, m, n, lookup)\n",
    "\n",
    "    # find the longest common subsequence\n",
    "    print(LCS(X, Y, m, n, lookup))"
   ]
  },
  {
   "cell_type": "code",
   "execution_count": 3,
   "metadata": {},
   "outputs": [
    {
     "name": "stdout",
     "output_type": "stream",
     "text": [
      "{'BCBA', 'BCAB', 'BDAB'}\n"
     ]
    }
   ],
   "source": [
    "# Function to return all LCS of substrings `X[0…m-1]`, `Y[0…n-1]`\n",
    "def LCS(X, Y, m, n, lookup):\n",
    "\n",
    "    # if the end of either sequence is reached\n",
    "    if m == 0 or n == 0:\n",
    "        # create a list with one empty string and return\n",
    "        return [\"\"]\n",
    "\n",
    "    # if the last character of `X` and `Y` matches\n",
    "    if X[m - 1] == Y[n - 1]:\n",
    "\n",
    "        # ignore the last characters of `X` and `Y` and find all LCS of substring\n",
    "        # `X[0…m-2]`, `Y[0…n-2]` and store it in a list\n",
    "        lcs = LCS(X, Y, m - 1, n - 1, lookup)\n",
    "\n",
    "        # append current character `X[m-1]` or `Y[n-1]`\n",
    "        # to all LCS of substring `X[0…m-2]` and `Y[0…n-2]`\n",
    "        for i in range(len(lcs)):\n",
    "            lcs[i] = lcs[i] + (X[m - 1])\n",
    "\n",
    "        return lcs\n",
    "\n",
    "    # we reach here when the last character of `X` and `Y` don't match\n",
    "\n",
    "    # if a top cell of the current cell has more value than the left cell,\n",
    "    # then ignore the current character of string `X` and find all LCS of\n",
    "    # substring `X[0…m-2]`, `Y[0…n-1]`\n",
    "    if lookup[m - 1][n] > lookup[m][n - 1]:\n",
    "        return LCS(X, Y, m - 1, n, lookup)\n",
    "\n",
    "    # if a left cell of the current cell has more value than the top cell,\n",
    "    # then ignore the current character of string `Y` and find all LCS of\n",
    "    # substring `X[0…m-1]`, `Y[0…n-2]`\n",
    "    if lookup[m][n - 1] > lookup[m - 1][n]:\n",
    "        return LCS(X, Y, m, n - 1, lookup)\n",
    "\n",
    "    # if the top cell has equal value to the left cell, then consider both characters\n",
    "\n",
    "    top = LCS(X, Y, m - 1, n, lookup)\n",
    "    left = LCS(X, Y, m, n - 1, lookup)\n",
    "\n",
    "    # merge two lists and return\n",
    "    return top + left\n",
    "\n",
    "\n",
    "# Function to fill the lookup table by finding the length of LCS\n",
    "# of substring `X` and `Y`\n",
    "def LCSLength(X, Y, lookup):\n",
    "\n",
    "    # fill the lookup table in a bottom-up manner\n",
    "    for i in range(1, len(X) + 1):\n",
    "        for j in range(1, len(Y) + 1):\n",
    "            # if current character of `X` and `Y` matches\n",
    "            if X[i - 1] == Y[j - 1]:\n",
    "                lookup[i][j] = lookup[i - 1][j - 1] + 1\n",
    "\n",
    "            # otherwise, if the current character of `X` and `Y` don't match\n",
    "            else:\n",
    "                lookup[i][j] = max(lookup[i - 1][j], lookup[i][j - 1])\n",
    "\n",
    "\n",
    "# Function to find all LCS of string `X[0…m-1]` and `Y[0…n-1]`\n",
    "def findLCS(X, Y):\n",
    "\n",
    "    # lookup[i][j] stores the length of LCS of substring `X[0…i-1]` and `Y[0…j-1]`\n",
    "    lookup = [[0 for x in range(len(Y) + 1)] for y in range(len(X) + 1)]\n",
    "\n",
    "    # fill lookup table\n",
    "    LCSLength(X, Y, lookup)\n",
    "\n",
    "    # find all the longest common subsequences\n",
    "    lcs = LCS(X, Y, len(X), len(Y), lookup)\n",
    "\n",
    "    # since a list can contain duplicates, \"convert\" it to a set and return\n",
    "    return set(lcs)\n",
    "\n",
    "\n",
    "if __name__ == \"__main__\":\n",
    "\n",
    "    X = \"ABCBDAB\"\n",
    "    Y = \"BDCABA\"\n",
    "\n",
    "    lcs = findLCS(X, Y)\n",
    "    print(lcs)"
   ]
  },
  {
   "cell_type": "markdown",
   "metadata": {},
   "source": [
    "SCS\n",
    "\n",
    "SCSLength(X, Y) = m + n – LCSLength(X, Y)"
   ]
  },
  {
   "cell_type": "code",
   "execution_count": null,
   "metadata": {},
   "outputs": [],
   "source": []
  },
  {
   "cell_type": "code",
   "execution_count": 4,
   "metadata": {},
   "outputs": [
    {
     "name": "stdout",
     "output_type": "stream",
     "text": [
      "The shortest common supersequence of ABCBDAB and BDCABA is ABCBDCABA\n"
     ]
    }
   ],
   "source": [
    "# Function to return shortest common supersequence (SCS)\n",
    "# of substrings `X[0…m-1]`, `Y[0…n-1]`\n",
    "def SCS(X, Y, m, n, lookup):\n",
    "\n",
    "    # if the end of the first string is reached,\n",
    "    # return the second string\n",
    "    if m == 0:\n",
    "        return Y[:n]\n",
    "\n",
    "    # if the end of the second string is reached,\n",
    "    # return the first string\n",
    "    elif n == 0:\n",
    "        return X[:m]\n",
    "\n",
    "    # if the last character of `X` and `Y` matches, include it in SSC\n",
    "    # and recur to find SCS of substring `X[0…m-2]` and `Y[0…n-1]`\n",
    "    if X[m - 1] == Y[n - 1]:\n",
    "        return SCS(X, Y, m - 1, n - 1, lookup) + X[m - 1]\n",
    "\n",
    "    # if the last character of `X` and `Y` don't match\n",
    "    else:\n",
    "\n",
    "        # if a top cell of the current cell has more value than the left\n",
    "        # cell, then include the current character of string `X` in SCS\n",
    "        # and find SCS of substring `X[0…m-2]` and `Y[0…n-2]`\n",
    "\n",
    "        if lookup[m - 1][n] > lookup[m][n - 1]:\n",
    "            return SCS(X, Y, m - 1, n, lookup) + X[m - 1]\n",
    "\n",
    "        # if a left cell of the current cell has more value than the top\n",
    "        # cell, then include the current character of string `Y` in SCS\n",
    "        # and find SCS of substring `X[0…m-1]` and `Y[0…n-2]`\n",
    "        else:\n",
    "            return SCS(X, Y, m, n - 1, lookup) + Y[n - 1]\n",
    "\n",
    "\n",
    "# Function to fill the lookup table by finding the length of LCS\n",
    "# of substring `X[0…m-1]` and `Y[0…n-1]`\n",
    "def LCS(X, Y, m, n, lookup):\n",
    "\n",
    "    # Fill the lookup table in a bottom-up manner.\n",
    "    # the first row and first column of the lookup table are already 0.\n",
    "    for i in range(1, m + 1):\n",
    "        for j in range(1, n + 1):\n",
    "            # if the current character of `X` and `Y` matches\n",
    "            if X[i - 1] == Y[j - 1]:\n",
    "                lookup[i][j] = lookup[i - 1][j - 1] + 1\n",
    "            # otherwise, if the current character of `X` and `Y` don't match\n",
    "            else:\n",
    "                lookup[i][j] = max(lookup[i - 1][j], lookup[i][j - 1])\n",
    "\n",
    "\n",
    "if __name__ == \"__main__\":\n",
    "\n",
    "    X = \"ABCBDAB\"\n",
    "    Y = \"BDCABA\"\n",
    "\n",
    "    m = len(X)\n",
    "    n = len(Y)\n",
    "\n",
    "    # `lookup[i][j]` stores the length of LCS of substring `X[0…i-1]` and `Y[0…j-1]`\n",
    "    lookup = [[0 for x in range(n + 1)] for y in range(m + 1)]\n",
    "\n",
    "    # fill the lookup table by finding LCS of `X` and `Y`\n",
    "    LCS(X, Y, m, n, lookup)\n",
    "\n",
    "    # find the shortest common supersequence by reading the lookup\n",
    "    # table of LCS in a top-down manner\n",
    "    print(\n",
    "        f\"The shortest common supersequence of {X} and {Y} is\", SCS(X, Y, m, n, lookup)\n",
    "    )"
   ]
  },
  {
   "cell_type": "code",
   "execution_count": null,
   "metadata": {},
   "outputs": [],
   "source": []
  },
  {
   "cell_type": "code",
   "execution_count": 5,
   "metadata": {},
   "outputs": [
    {
     "name": "stdout",
     "output_type": "stream",
     "text": [
      "All shortest common supersequence of ABCBDAB and BDCABA are: {'ABCBDCABA', 'ABDCABDAB', 'ABDCBDABA'}\n"
     ]
    }
   ],
   "source": [
    "# Function to return all SCS of substrings `X[0…m-1]`, `Y[0…n-1]`\n",
    "def SCS(X, Y, m, n, lookup):\n",
    "\n",
    "    # if the end of the first string is reached, create a list\n",
    "    # containing the second substring and return\n",
    "    if m == 0:\n",
    "        return {Y[:n]}\n",
    "\n",
    "    # if the end of the second string is reached, create a list\n",
    "    # containing the first substring and return\n",
    "    elif n == 0:\n",
    "        return {X[:m]}\n",
    "\n",
    "    # if the last character of `X` and `Y` is the same, it should occur\n",
    "    # only one time in SSC\n",
    "    if X[m - 1] == Y[n - 1]:\n",
    "\n",
    "        # find all SCS of substring `X[0…m-2]` and `Y[0…n-2]`\n",
    "        scs = SCS(X, Y, m - 1, n - 1, lookup)\n",
    "\n",
    "        # append the current character `X[m-1]` or `Y[n-1]` to all SCS of\n",
    "        # substring `X[0…m-2]` and `Y[0…n-2]`\n",
    "\n",
    "        return {str + X[m - 1] for str in scs}\n",
    "\n",
    "    # we reach here when the last character of `X` and `Y` don't match\n",
    "\n",
    "    # if a top cell of the current cell has more value than the left cell,\n",
    "    # then append the current character of string `X` to all SCS of\n",
    "    # substring `X[0…m-2]`, `Y[0…n-1]`\n",
    "\n",
    "    if lookup[m - 1][n] > lookup[m][n - 1]:\n",
    "        scs = SCS(X, Y, m - 1, n, lookup)\n",
    "        return {str + X[m - 1] for str in scs}\n",
    "\n",
    "    # if a left cell of the current cell has more value than the top cell,\n",
    "    # then append the current character of string `Y` to all SCS of\n",
    "    # substring `X[0…m-1]`, `Y[0…n-2]`\n",
    "\n",
    "    if lookup[m][n - 1] > lookup[m - 1][n]:\n",
    "        scs = SCS(X, Y, m, n - 1, lookup)\n",
    "        return {str + Y[n - 1] for str in scs}\n",
    "\n",
    "    # if the top cell value is the same as the left cell, then go in both\n",
    "    # top and left directions\n",
    "\n",
    "    # append the current character of string `X` to all SCS of\n",
    "    # substring `X[0…m-2]`, `Y[0…n-1]`\n",
    "    top = SCS(X, Y, m - 1, n, lookup)\n",
    "\n",
    "    # append the current character of string `Y` to all SCS of\n",
    "    # substring `X[0…m-1]`, `Y[0…n-2]`\n",
    "    left = SCS(X, Y, m, n - 1, lookup)\n",
    "\n",
    "    return set([str + X[m - 1] for str in top] + [str + Y[n - 1] for str in left])\n",
    "\n",
    "\n",
    "# Function to fill the lookup table by finding the length of LCS\n",
    "# of substring `X[0…m-1]` and `Y[0…n-1]`\n",
    "def LCS(X, Y, m, n, lookup):\n",
    "\n",
    "    # Fill the lookup table in a bottom-up manner.\n",
    "    # the first row and first column of the lookup table are already 0.\n",
    "    for i in range(1, m + 1):\n",
    "\n",
    "        for j in range(1, n + 1):\n",
    "            # if the current character of `X` and `Y` matches\n",
    "            if X[i - 1] == Y[j - 1]:\n",
    "                lookup[i][j] = lookup[i - 1][j - 1] + 1\n",
    "            # otherwise, if the current character of `X` and `Y` don't match\n",
    "            else:\n",
    "                lookup[i][j] = max(lookup[i - 1][j], lookup[i][j - 1])\n",
    "\n",
    "\n",
    "# Function to find all shortest common supersequence of string `X` and `Y`\n",
    "def findSCS(X, Y):\n",
    "\n",
    "    m = len(X)\n",
    "    n = len(Y)\n",
    "\n",
    "    # `lookup[i][j]` stores the length of LCS of substring `X[0…i-1]` and `Y[0…j-1]`\n",
    "    lookup = [[0 for x in range(n + 1)] for y in range(m + 1)]\n",
    "\n",
    "    # fill lookup table\n",
    "    LCS(X, Y, m, n, lookup)\n",
    "\n",
    "    # return all the longest common sequences\n",
    "    return SCS(X, Y, m, n, lookup)\n",
    "\n",
    "\n",
    "if __name__ == \"__main__\":\n",
    "\n",
    "    X = \"ABCBDAB\"\n",
    "    Y = \"BDCABA\"\n",
    "\n",
    "    # Find all shortest common supersequence of string `X` and `Y`\n",
    "    scs = findSCS(X, Y)\n",
    "\n",
    "    # print all SCS present in the set\n",
    "    print(f\"All shortest common supersequence of {X} and {Y} are:\", scs)"
   ]
  },
  {
   "cell_type": "markdown",
   "metadata": {},
   "source": [
    "**Longest Palindromic Subsequence (LPS)**\n",
    "\n",
    "The longest palindromic subsequence problem is a classic variation of the Longest Common Subsequence (LCS) problem. \n",
    "\n",
    "The idea is to find LCS of the given string with its reverse, i.e., call LCS(X, reverse(X)) \n",
    "\n",
    "and the longest common subsequence will be the longest palindromic subsequence."
   ]
  },
  {
   "cell_type": "code",
   "execution_count": null,
   "metadata": {},
   "outputs": [],
   "source": [
    "def findLongestPalindrome(X, i, j):\n",
    "\n",
    "    # Base condition\n",
    "    if i > j:\n",
    "        return 0\n",
    "\n",
    "    # If the string `X` has only one character, it is a palindrome\n",
    "    if i == j:\n",
    "        return 1\n",
    "\n",
    "    # If the last character of the string is the same as the first character\n",
    "    if X[i] == X[j]:\n",
    "        # include the first and last characters in palindrome\n",
    "        # and recur for the remaining substring `X[i+1, j-1]`\n",
    "        return findLongestPalindrome(X, i + 1, j - 1) + 2\n",
    "\n",
    "    \"\"\"\n",
    "      If the last character of the string is different from the first character\n",
    "        1. Remove the last character and recur for the remaining substring\n",
    "           `X[i, j-1]`\n",
    "        2. Remove the first character and recur for the remaining substring\n",
    "           `X[i+1, j]`\n",
    "    \"\"\"\n",
    "\n",
    "    # Return the maximum of the two values\n",
    "    return max(findLongestPalindrome(X, i, j - 1), findLongestPalindrome(X, i + 1, j))\n",
    "\n",
    "\n",
    "if __name__ == \"__main__\":\n",
    "\n",
    "    X = \"ABBDCACB\"\n",
    "    n = len(X)\n",
    "\n",
    "    print(\n",
    "        \"The length of the longest palindromic subsequence is\",\n",
    "        findLongestPalindrome(X, 0, n - 1),\n",
    "    )"
   ]
  },
  {
   "cell_type": "markdown",
   "metadata": {},
   "source": [
    "Minimum insertions required to make a string palindrome\n",
    "\n",
    "Minimum Insertion required = n(length of the string) - length of longest palindromic subsequence.\n",
    "\n",
    "Minimum Insertions/Deletions to Convert String A to String B\n",
    "\n",
    "In order to minimize the operations, we need to find the length of the longest common subsequence.\n",
    "\n",
    "Minimum Operations required = (n - k) + (m - k)\n",
    "\n",
    "Here n and m are the length of str1 and str2 respectively and k is the length of the longest common subsequence of str1 and str2.\n",
    "\n",
    "We can also solve this problem by finding the Longest Palindromic Subsequence (LPS) of a string. To make a string palindrome, the characters that don’t contribute to the LPS \n",
    "\n",
    "should be removed. Therefore, a string is k–palindrome if the difference between the length of LPS and the original string’s length is less than equal to k."
   ]
  },
  {
   "cell_type": "markdown",
   "metadata": {},
   "source": [
    "Given a string, count the number of times a given pattern appears in it as a subsequence."
   ]
  },
  {
   "cell_type": "code",
   "execution_count": 116,
   "metadata": {},
   "outputs": [
    {
     "name": "stdout",
     "output_type": "stream",
     "text": [
      "7\n"
     ]
    }
   ],
   "source": [
    "# Function to count the number of times pattern `Y[0…n)`\n",
    "# appears in a given string `X[0…m)` as a subsequence\n",
    "def count(X, Y, m, n):\n",
    "\n",
    "    # Base case 1: if only one character is left\n",
    "    if m == 1 and n == 1:\n",
    "        return 1 if (X[0] == Y[0]) else 0\n",
    "\n",
    "    # Base case 2: if the input string `X` reaches its end\n",
    "    if m == 0:\n",
    "        return 0\n",
    "\n",
    "    # Base case 3: if pattern `Y` reaches its end, we have found subsequence\n",
    "    if n == 0:\n",
    "        return 1\n",
    "\n",
    "    # Optimization: the solution is not possible if the number of characters\n",
    "    # in the string is less than the number of characters in the pattern\n",
    "    if n > m:\n",
    "        return 0\n",
    "\n",
    "    \"\"\"\n",
    "      If the last character of both string and pattern matches,\n",
    "        1. Exclude the last character from both string and pattern\n",
    "        2. Exclude only the last character from the string.\n",
    "    \n",
    "      Otherwise, if the last character of the string and pattern do not match,\n",
    "      recur by excluding only the last character in the string\n",
    "    \"\"\"\n",
    "\n",
    "    return (count(X, Y, m - 1, n - 1) if X[m - 1] == Y[n - 1] else 0) + count(\n",
    "        X, Y, m - 1, n\n",
    "    )\n",
    "\n",
    "\n",
    "if __name__ == \"__main__\":\n",
    "\n",
    "    X = \"subsequence\"  # Input string\n",
    "    Y = \"sue\"  # Pattern\n",
    "\n",
    "    print(count(X, Y, len(X), len(Y)))"
   ]
  },
  {
   "cell_type": "code",
   "execution_count": 119,
   "metadata": {},
   "outputs": [
    {
     "name": "stdout",
     "output_type": "stream",
     "text": [
      "7\n"
     ]
    }
   ],
   "source": [
    "# Function to count the number of times pattern `Y[0…n)`\n",
    "# appears in a given string `X[0…m)` as a subsequence\n",
    "def count(X, Y, m, n):\n",
    "\n",
    "    # Base case 1: if only one character is left\n",
    "    if m == 0 and n == 0:\n",
    "        return 1 if (X[0] == Y[0]) else 0\n",
    "\n",
    "    # Base case 2: if the input string `X` reaches its end\n",
    "    if m < 0:\n",
    "        return 0\n",
    "\n",
    "    # Base case 3: if pattern `Y` reaches its end, we have found subsequence\n",
    "    if n < 0:\n",
    "        return 1\n",
    "\n",
    "    # Optimization: the solution is not possible if the number of characters\n",
    "    # in the string is less than the number of characters in the pattern\n",
    "    if n > m:\n",
    "        return 0\n",
    "\n",
    "    \"\"\"\n",
    "      If the last character of both string and pattern matches,\n",
    "        1. Exclude the last character from both string and pattern\n",
    "        2. Exclude only the last character from the string.\n",
    "    \n",
    "      Otherwise, if the last character of the string and pattern do not match,\n",
    "      recur by excluding only the last character in the string\n",
    "    \"\"\"\n",
    "    if X[m] == Y[n]:\n",
    "        return count(X, Y, m - 1, n - 1) + count(X, Y, m - 1, n)\n",
    "    else:\n",
    "        return count(X, Y, m - 1, n)\n",
    "\n",
    "    # return (count(X, Y, m - 1, n - 1) if X[m] == Y[n] else 0) + count(X, Y, m - 1, n)\n",
    "\n",
    "\n",
    "if __name__ == \"__main__\":\n",
    "\n",
    "    X = \"subsequence\"  # Input string\n",
    "    Y = \"sue\"  # Pattern\n",
    "\n",
    "    print(count(X, Y, len(X) - 1, len(Y) - 1))"
   ]
  },
  {
   "cell_type": "code",
   "execution_count": 2,
   "metadata": {},
   "outputs": [
    {
     "name": "stdout",
     "output_type": "stream",
     "text": [
      "3\n"
     ]
    }
   ],
   "source": [
    "def count(X, Y):\n",
    "\n",
    "    (m, n) = (len(X), len(Y))\n",
    "\n",
    "    # `T[i][j]` stores number of times pattern `Y[0…j)`\n",
    "    # appears in a given string `X[0…i)` as a subsequence\n",
    "    T = [[0 for x in range(n + 1)] for y in range(m + 1)]\n",
    "\n",
    "    # if pattern `Y` is empty, we have found subsequence\n",
    "    for i in range(m + 1):\n",
    "        T[i][0] = 1\n",
    "\n",
    "    \"\"\"\n",
    "      If the current character of both string and pattern matches,\n",
    "        1. Exclude current character from both string and pattern\n",
    "        2. Exclude only the current character from the string\n",
    " \n",
    "      Otherwise, if the current character of the string and pattern do not match,\n",
    "      exclude the current character from the string\n",
    "    \"\"\"\n",
    "\n",
    "    for i in range(1, m + 1):\n",
    "        for j in range(1, n + 1):\n",
    "            T[i][j] = (T[i - 1][j - 1] if (X[i - 1] == Y[j - 1]) else 0) + T[i - 1][j]\n",
    "\n",
    "    # return last entry in the lookup table\n",
    "    return T[m][n]\n",
    "\n",
    "\n",
    "if __name__ == \"__main__\":\n",
    "\n",
    "    X = \"banana\"  # \"subsequence\"  # Input string\n",
    "    Y = \"ban\"  # \"sue\"  # Pattern\n",
    "\n",
    "    print(count(X, Y))"
   ]
  },
  {
   "cell_type": "markdown",
   "metadata": {},
   "source": [
    "Check if a string is interleaving of two other given strings"
   ]
  },
  {
   "cell_type": "code",
   "execution_count": null,
   "metadata": {},
   "outputs": [],
   "source": [
    "# Function to check if strings 'X' and 'Y' are interleaving of 'S' or not\n",
    "def isInterleaving(X, Y, S):\n",
    "\n",
    "    # return true if the end of all strings is reached\n",
    "    if not X and not Y and not S:\n",
    "        return True\n",
    "\n",
    "    # return false if the end of string 'S' is reached,\n",
    "    # but 'X' or 'Y' is not empty\n",
    "    if not S:\n",
    "        return False\n",
    "\n",
    "    # if string 'X' is not empty and its first character matches with the\n",
    "    # first character of 'S', recur for the remaining substring\n",
    "    x = (len(X) and S[0] == X[0]) and isInterleaving(X[1:], Y, S[1:])\n",
    "\n",
    "    # if string 'Y' is not empty and its first character matches with the\n",
    "    # first character of 'S', recur for the remaining substring\n",
    "    y = (len(Y) and S[0] == Y[0]) and isInterleaving(X, Y[1:], S[1:])\n",
    "\n",
    "    return x or y\n",
    "\n",
    "\n",
    "if __name__ == \"__main__\":\n",
    "\n",
    "    X = \"ABC\"\n",
    "    Y = \"DEF\"\n",
    "    S = \"ADEBFC\"\n",
    "\n",
    "    if isInterleaving(X, Y, S):\n",
    "        print(\"Interleaving\")\n",
    "    else:\n",
    "        print(\"Not an Interleaving\")"
   ]
  },
  {
   "cell_type": "code",
   "execution_count": 1,
   "metadata": {},
   "outputs": [
    {
     "name": "stdout",
     "output_type": "stream",
     "text": [
      "false\n"
     ]
    }
   ],
   "source": [
    "def is_il_rec(s1, s2, s3, i, j, memo):\n",
    "    k = i + j\n",
    "    m, n = len(s1), len(s2)\n",
    "\n",
    "    # Base case: If all strings are fully traversed\n",
    "    if i == m and j == n and k == len(s3):\n",
    "        return True\n",
    "\n",
    "    # If we have already solved this subproblem,\n",
    "    # return the stored result\n",
    "    if memo[i][j] != -1:\n",
    "        return memo[i][j] == 1\n",
    "\n",
    "    # Check if next character of s1 matches with\n",
    "    # the next one of s3\n",
    "    a = (i < m and s1[i] == s3[k]) and is_il_rec(s1, s2, s3, i + 1, j, memo)\n",
    "\n",
    "    # Check if next character of s2 matches with\n",
    "    # the next one of s3\n",
    "    b = (j < n and s2[j] == s3[k]) and is_il_rec(s1, s2, s3, i, j + 1, memo)\n",
    "\n",
    "    memo[i][j] = 1 if (a or b) else 0\n",
    "    return a or b\n",
    "\n",
    "\n",
    "def is_il(s1, s2, s3):\n",
    "    m, n = len(s1), len(s2)\n",
    "\n",
    "    # A basic condition that must be ensured\n",
    "    if m + n != len(s3):\n",
    "        return False\n",
    "\n",
    "    # Initialize memo with -1 and make\n",
    "    # recursive function call\n",
    "    memo = [[-1 for _ in range(n + 1)] for _ in range(m + 1)]\n",
    "    return is_il_rec(s1, s2, s3, 0, 0, memo)\n",
    "\n",
    "\n",
    "if __name__ == \"__main__\":\n",
    "    print(\"true\" if is_il(\"XXY\", \"XXZ\", \"XXZXXXY\") else \"false\")"
   ]
  },
  {
   "cell_type": "code",
   "execution_count": null,
   "metadata": {},
   "outputs": [],
   "source": [
    "def isInterleaving(X, Y, S):\n",
    "    M, N = len(X), len(Y)\n",
    "\n",
    "    # base case: length of given strings doesn't match\n",
    "    if M + N != len(S):\n",
    "        return False\n",
    "\n",
    "    # Create a lookup table T[][] to store solution to already computed\n",
    "    # subproblems. T[i][j] is true when `S[0…i+j-1]` is an interleaving\n",
    "    # of `X[0…i-1]` and `Y[0…j-1]`\n",
    "    T = [[False for x in range(N + 1)] for y in range(M + 1)]\n",
    "\n",
    "    # fill the lookup table in a bottom-up manner\n",
    "    for i in range(0, M + 1):\n",
    "        for j in range(0, N + 1):\n",
    "\n",
    "            if i == 0 and j == 0:  # both strings are empty\n",
    "                T[i][j] = True\n",
    "\n",
    "            # if the current char of 'S' matches the current char of both 'A' and 'B'\n",
    "            elif i and j and X[i - 1] == S[i + j - 1] and Y[j - 1] == S[i + j - 1]:\n",
    "                T[i][j] = T[i - 1][j] or T[i][j - 1]\n",
    "\n",
    "            # if the current char of 'X' matches with the current char of 'S'\n",
    "            elif i and X[i - 1] == S[i + j - 1]:\n",
    "                T[i][j] = T[i - 1][j]\n",
    "\n",
    "            # if the current char of 'Y' matches with the current char of 'S'\n",
    "            elif j and Y[j - 1] == S[i + j - 1]:\n",
    "                T[i][j] = T[i][j - 1]\n",
    "\n",
    "    # T[M][N] stores the result\n",
    "    return T[M][N]\n",
    "\n",
    "\n",
    "if __name__ == \"__main__\":\n",
    "\n",
    "    X = \"ABC\"\n",
    "    Y = \"ACD\"\n",
    "    S = \"ACDABC\"\n",
    "\n",
    "    if isInterleaving(X, Y, S):\n",
    "        print(\"Interleaving\")\n",
    "    else:\n",
    "        print(\"Not an Interleaving\")"
   ]
  },
  {
   "cell_type": "markdown",
   "metadata": {},
   "source": [
    "**Wildcard Pattern Matching**\n",
    "\n",
    ". can match to any single character in the string\n",
    "\n",
    "and * can match to any number of characters including zero characters"
   ]
  },
  {
   "cell_type": "code",
   "execution_count": 7,
   "metadata": {},
   "outputs": [
    {
     "name": "stdout",
     "output_type": "stream",
     "text": [
      "Match\n"
     ]
    }
   ],
   "source": [
    "def solveMemo(s, p, i, j, dp):\n",
    "    if i >= len(s) and j >= len(p):\n",
    "        return True\n",
    "\n",
    "    if j >= len(p):\n",
    "        return False\n",
    "\n",
    "    if dp[i][j]:\n",
    "        return dp[i][j]\n",
    "\n",
    "    match = i < len(s) and (s[i] == p[j] or p[j] == \"?\")\n",
    "\n",
    "    if (j + 1) < len(p) and p[j + 1] == \"*\":  # next char\n",
    "\n",
    "        dp[i][j] = solveMemo(s, p, i, j + 2, dp) or (\n",
    "            match and solveMemo(s, p, i + 1, j, dp)\n",
    "        )\n",
    "        return dp[i][j]\n",
    "    elif match:\n",
    "        dp[i][j] = solveMemo(s, p, i + 1, j + 1, dp)\n",
    "        return dp[i][j]\n",
    "    dp[i][j] = False\n",
    "    return False\n",
    "\n",
    "\n",
    "# Wildcard Pattern Matching Implementation in Python\n",
    "if __name__ == \"__main__\":\n",
    "\n",
    "    word = \"xy\"\n",
    "    pattern = \"?*\"\n",
    "\n",
    "    # create a DP lookup table\n",
    "    lookup = [[False for x in range(len(pattern) + 1)] for y in range(len(word) + 1)]\n",
    "\n",
    "    if solveMemo(word, pattern, 0, 0, lookup):\n",
    "        print(\"Match\")\n",
    "    else:\n",
    "        print(\"No Match\")"
   ]
  },
  {
   "cell_type": "code",
   "execution_count": 5,
   "metadata": {},
   "outputs": [
    {
     "name": "stdout",
     "output_type": "stream",
     "text": [
      "True\n",
      "False\n",
      "True\n",
      "True\n",
      "False\n"
     ]
    }
   ],
   "source": [
    "def is_match_rec(t, p, n, m):\n",
    "\n",
    "    # If pattern is empty, then text must also be empty\n",
    "    if m == 0:\n",
    "        return n == 0\n",
    "\n",
    "    # If text is empty, then pattern can have characters followed by *s\n",
    "    if n == 0:\n",
    "        return (m >= 2 and p[m - 1] == \"*\") and is_match_rec(t, p, n, m - 2)\n",
    "\n",
    "    # If last characters of both string and pattern match, or pattern has '.'\n",
    "    if t[n - 1] == p[m - 1] or p[m - 1] == \".\":\n",
    "        return is_match_rec(t, p, n - 1, m - 1)\n",
    "\n",
    "    # Handle '*' in the pattern\n",
    "    if p[m - 1] == \"*\" and m > 1:\n",
    "        # Check if '*' can represent zero occurrences of the preceding character\n",
    "        zero = is_match_rec(t, p, n, m - 2)\n",
    "\n",
    "        # Check if '*' can represent one or more occurrences of the preceding character\n",
    "        one_or_more = (p[m - 2] == t[n - 1] or p[m - 2] == \".\") and is_match_rec(\n",
    "            t, p, n - 1, m\n",
    "        )\n",
    "\n",
    "        return zero or one_or_more\n",
    "\n",
    "    # If no match\n",
    "    return False\n",
    "\n",
    "\n",
    "# Wrapper function\n",
    "def is_match(t, p):\n",
    "    return is_match_rec(t, p, len(t), len(p))\n",
    "\n",
    "\n",
    "# Example usage\n",
    "print(is_match(\"aab\", \"a.*\"))\n",
    "print(is_match(\"aa\", \"a\"))\n",
    "print(is_match(\"aa\", \"a*\"))\n",
    "print(is_match(\"ab\", \".*\"))\n",
    "print(is_match(\"mississippi\", \"mis*is*p*.\"))"
   ]
  },
  {
   "cell_type": "code",
   "execution_count": null,
   "metadata": {},
   "outputs": [],
   "source": [
    "def isMatch(word, pattern):\n",
    "\n",
    "    # get length of string and wildcard pattern\n",
    "    n = len(word)\n",
    "    m = len(pattern)\n",
    "\n",
    "    # create a DP lookup table\n",
    "    T = [[False for x in range(m + 1)] for y in range(n + 1)]\n",
    "\n",
    "    # if both pattern and string are empty: match\n",
    "    T[0][0] = True\n",
    "\n",
    "    # handle empty string case (i == 0)\n",
    "    for j in range(1, m + 1):\n",
    "        if pattern[j - 1] == \"*\":\n",
    "            T[0][j] = T[0][j - 2]\n",
    "\n",
    "    # build a matrix in a bottom-up manner\n",
    "    for i in range(1, n + 1):\n",
    "        for j in range(1, m + 1):\n",
    "            if pattern[j - 1] == \"*\":\n",
    "                T[i][j] = T[i][j - 2]  # '*' matches zero occurrence\n",
    "                if pattern[j - 2] == \"?\" or pattern[j - 2] == word[i - 1]:\n",
    "                    T[i][j] = T[i][j] or T[i - 1][j]\n",
    "            elif pattern[j - 1] == \"?\" or word[i - 1] == pattern[j - 1]:\n",
    "                T[i][j] = T[i - 1][j - 1]\n",
    "\n",
    "    # last cell stores the answer\n",
    "    return T[n][m]\n",
    "\n",
    "\n",
    "# Wildcard Pattern Matching Implementation in Python\n",
    "if __name__ == \"__main__\":\n",
    "\n",
    "    word = \"xyxzzxy\"\n",
    "    pattern = \"x***x?\"\n",
    "\n",
    "    if isMatch(word, pattern):\n",
    "        print(\"Match\")\n",
    "    else:\n",
    "        print(\"No Match\")"
   ]
  },
  {
   "cell_type": "markdown",
   "metadata": {},
   "source": [
    "Input: s = \"(*))\"\n",
    "Output: true\n",
    "\n",
    "The following rules define a valid string:\n",
    "\n",
    "Any left parenthesis '(' must have a corresponding right parenthesis ')'.\n",
    "Any right parenthesis ')' must have a corresponding left parenthesis '('.\n",
    "Left parenthesis '(' must go before the corresponding right parenthesis ')'.\n",
    "'*' could be treated as a single right parenthesis ')' or a single left parenthesis '(' or an empty string \"\"."
   ]
  },
  {
   "cell_type": "code",
   "execution_count": null,
   "metadata": {},
   "outputs": [],
   "source": [
    "class Solution:\n",
    "    def checkValidString(self, s: str) -> bool:\n",
    "        n = len(s)\n",
    "\n",
    "        @cache\n",
    "        def f(i, balance):\n",
    "            if i == n:\n",
    "                return balance == 0\n",
    "            if balance < 0:\n",
    "                return False\n",
    "            ans = False\n",
    "            if s[i] == \"(\":\n",
    "                ans = f(i + 1, balance + 1)\n",
    "            elif s[i] == \")\":\n",
    "                ans = f(i + 1, balance - 1)\n",
    "            else:\n",
    "                ans = (\n",
    "                    f(i + 1, balance + 1) or f(i + 1, balance) or f(i + 1, balance - 1)\n",
    "                )\n",
    "            return ans\n",
    "\n",
    "        return f(0, 0)\n",
    "\n",
    "\n",
    "class Solution:\n",
    "    def checkValidString(self, s: str) -> bool:\n",
    "        open_count = 0\n",
    "        close_count = 0\n",
    "        length = len(s) - 1\n",
    "\n",
    "        for i in range(len(s)):\n",
    "            start = s[i]\n",
    "            end = s[length - i]\n",
    "\n",
    "            if start == \"(\" or start == \"*\":\n",
    "                open_count += 1\n",
    "            else:\n",
    "                open_count -= 1\n",
    "            if end == \")\" or end == \"*\":\n",
    "                close_count += 1\n",
    "            else:\n",
    "                close_count -= 1\n",
    "            if open_count < 0 or close_count < 0:\n",
    "                return False\n",
    "\n",
    "        return open_count >= 0 and close_count >= 0"
   ]
  },
  {
   "cell_type": "markdown",
   "metadata": {},
   "source": [
    "# LIS"
   ]
  },
  {
   "cell_type": "code",
   "execution_count": 3,
   "metadata": {},
   "outputs": [
    {
     "data": {
      "text/plain": [
       "5"
      ]
     },
     "execution_count": 3,
     "metadata": {},
     "output_type": "execute_result"
    }
   ],
   "source": [
    "def solve(index, arr, prev):\n",
    "    if index < 0:\n",
    "        return 0\n",
    "\n",
    "    notake = solve(index - 1, arr, prev)\n",
    "    take = 0\n",
    "    if prev == -1 or arr[index] < prev:\n",
    "        take = 1 + solve(index - 1, arr, arr[index])\n",
    "    return max(take, notake)\n",
    "\n",
    "\n",
    "arr = [10, 22, 9, 33, 21, 50, 41, 60]\n",
    "solve(len(arr) - 1, arr, -1)"
   ]
  },
  {
   "cell_type": "code",
   "execution_count": 4,
   "metadata": {},
   "outputs": [
    {
     "data": {
      "text/plain": [
       "5"
      ]
     },
     "execution_count": 4,
     "metadata": {},
     "output_type": "execute_result"
    }
   ],
   "source": [
    "def solve(index, arr, prev):\n",
    "    if index >= len(arr):\n",
    "        return 0\n",
    "\n",
    "    notake = solve(index + 1, arr, prev)\n",
    "    take = 0\n",
    "    if prev == -1 or arr[index] > prev:\n",
    "        take = 1 + solve(index + 1, arr, arr[index])\n",
    "    return max(take, notake)\n",
    "\n",
    "\n",
    "arr = [10, 22, 9, 33, 21, 50, 41, 60]\n",
    "solve(0, arr, -1)"
   ]
  },
  {
   "cell_type": "code",
   "execution_count": 8,
   "metadata": {},
   "outputs": [
    {
     "name": "stdout",
     "output_type": "stream",
     "text": [
      "5\n"
     ]
    }
   ],
   "source": [
    "def lis(arr):\n",
    "    n = len(arr)\n",
    "\n",
    "    # Declare the list (array) for LIS and\n",
    "    # initialize LIS values for all indexes\n",
    "    lis = [1] * n\n",
    "\n",
    "    # Compute optimized LIS values in bottom\n",
    "    # -up manner\n",
    "    for i in range(n):\n",
    "        for prev in range(0, i):\n",
    "            if arr[i] > arr[prev]:\n",
    "                lis[i] = max(lis[i], lis[prev] + 1)\n",
    "\n",
    "    # Return the maximum of all LIS values\n",
    "    return max(lis)\n",
    "\n",
    "\n",
    "if __name__ == \"__main__\":\n",
    "    arr = [10, 22, 9, 33, 21, 50, 41, 60]\n",
    "    print(lis(arr))"
   ]
  },
  {
   "cell_type": "code",
   "execution_count": 1,
   "metadata": {},
   "outputs": [
    {
     "name": "stdout",
     "output_type": "stream",
     "text": [
      "5\n"
     ]
    }
   ],
   "source": [
    "def lis(arr):\n",
    "    n = len(arr)\n",
    "\n",
    "    # Declare the list (array) for LIS and\n",
    "    # initialize LIS values for all indexes\n",
    "    lis = [1] * n\n",
    "\n",
    "    # Compute optimized LIS values in bottom\n",
    "    # -up manner\n",
    "    for i in range(1, n):\n",
    "        for prev in range(0, i):\n",
    "            if arr[i] > arr[prev]:\n",
    "                lis[i] = max(lis[i], lis[prev] + 1)\n",
    "\n",
    "    # Return the maximum of all LIS values\n",
    "    return max(lis)\n",
    "\n",
    "\n",
    "if __name__ == \"__main__\":\n",
    "    arr = [10, 22, 9, 33, 21, 50, 41, 60]\n",
    "    print(lis(arr))"
   ]
  },
  {
   "cell_type": "code",
   "execution_count": null,
   "metadata": {},
   "outputs": [],
   "source": [
    "def lengthOfLIS(self, nums):\n",
    "    \"\"\"\n",
    "    :type nums: List[int]\n",
    "    :rtype: int\n",
    "    \"\"\"\n",
    "    li = []\n",
    "    for i in nums:\n",
    "        if not li or i > li[-1]:\n",
    "            li.append(i)\n",
    "        else:\n",
    "            li[bisect.bisect_left(li, i)] = i\n",
    "\n",
    "    return len(li)"
   ]
  },
  {
   "cell_type": "code",
   "execution_count": 5,
   "metadata": {},
   "outputs": [
    {
     "name": "stdout",
     "output_type": "stream",
     "text": [
      "[0, 4, 6, 9, 13, 15]\n"
     ]
    }
   ],
   "source": [
    "def findLIS(arr):\n",
    "\n",
    "    # base case\n",
    "    if not arr:\n",
    "        return []\n",
    "\n",
    "    # LIS[i] stores the longest increasing subsequence of sublist\n",
    "    # `arr[0…i]` that ends with `arr[i]`\n",
    "    LIS = [[] for _ in range(len(arr))]\n",
    "\n",
    "    # LIS[0] denotes the longest increasing subsequence ending at `arr[0]`\n",
    "    LIS[0].append(arr[0])\n",
    "\n",
    "    # start from the second element in the list\n",
    "    for i in range(1, len(arr)):\n",
    "\n",
    "        # do for each element in sublist `arr[0…i-1]`\n",
    "        for j in range(i):\n",
    "\n",
    "            # find the longest increasing subsequence that ends with `arr[j]`\n",
    "            # where `arr[j]` is less than the current element `arr[i]`\n",
    "\n",
    "            if arr[j] < arr[i] and len(LIS[j]) > len(LIS[i]):\n",
    "                LIS[i] = LIS[j].copy()\n",
    "\n",
    "        # include `arr[i]` in `LIS[i]`\n",
    "        LIS[i].append(arr[i])\n",
    "\n",
    "    # `j` will store the index of LIS\n",
    "    j = 0\n",
    "    for i in range(len(arr)):\n",
    "        if len(LIS[j]) < len(LIS[i]):\n",
    "            j = i\n",
    "\n",
    "    # print LIS\n",
    "    print(LIS[j])\n",
    "\n",
    "\n",
    "if __name__ == \"__main__\":\n",
    "\n",
    "    arr = [0, 8, 4, 12, 2, 10, 6, 14, 1, 9, 5, 13, 3, 11, 7, 15]\n",
    "    findLIS(arr)"
   ]
  },
  {
   "cell_type": "code",
   "execution_count": 9,
   "metadata": {},
   "outputs": [
    {
     "name": "stdout",
     "output_type": "stream",
     "text": [
      "The subsequence elements are 0 4 6 9 13 15 \n"
     ]
    }
   ],
   "source": [
    "def longest_increasing_subsequence(arr):\n",
    "    n = len(arr)\n",
    "\n",
    "    dp = [1] * n\n",
    "    hash = [1] * n\n",
    "\n",
    "    for i in range(n):\n",
    "        hash[i] = i  # initializing with current index\n",
    "        for prev_index in range(i):\n",
    "            if arr[prev_index] < arr[i] and 1 + dp[prev_index] > dp[i]:\n",
    "                dp[i] = 1 + dp[prev_index]\n",
    "                hash[i] = prev_index\n",
    "\n",
    "    ans = -1\n",
    "    last_index = -1\n",
    "\n",
    "    for i in range(n):\n",
    "        if dp[i] > ans:\n",
    "            ans = dp[i]\n",
    "            last_index = i\n",
    "\n",
    "    temp = []\n",
    "    temp.append(arr[last_index])\n",
    "\n",
    "    while hash[last_index] != last_index:  # till not reach the initialization value\n",
    "        last_index = hash[last_index]\n",
    "        temp.append(arr[last_index])\n",
    "\n",
    "    # reverse the array\n",
    "    temp.reverse()\n",
    "\n",
    "    print(\"The subsequence elements are \", end=\"\")\n",
    "    for i in range(len(temp)):\n",
    "        print(temp[i], end=\" \")\n",
    "    print()\n",
    "\n",
    "    return ans\n",
    "\n",
    "\n",
    "if __name__ == \"__main__\":\n",
    "    arr = [0, 8, 4, 12, 2, 10, 6, 14, 1, 9, 5, 13, 3, 11, 7, 15]\n",
    "    longest_increasing_subsequence(arr)"
   ]
  },
  {
   "cell_type": "code",
   "execution_count": 3,
   "metadata": {},
   "outputs": [
    {
     "name": "stdout",
     "output_type": "stream",
     "text": [
      "[1, 2, 6, 7]\n",
      "[1, 3, 6, 7]\n",
      "[1, 4, 6, 7]\n",
      "[1, 5, 6, 7]\n"
     ]
    },
    {
     "data": {
      "text/plain": [
       "4"
      ]
     },
     "execution_count": 3,
     "metadata": {},
     "output_type": "execute_result"
    }
   ],
   "source": [
    "arr = [1, 5, 4, 3, 2, 6, 7, 2]\n",
    "n = len(arr)\n",
    "\n",
    "\n",
    "def solve(arr, i, n, ans, prev):\n",
    "    if i == n:\n",
    "        if len(ans) == 4:\n",
    "            print(ans)\n",
    "        return 0\n",
    "    not_take = solve(arr, i + 1, n, ans, prev)\n",
    "    take = 0\n",
    "    if prev < arr[i]:\n",
    "        ans.append(arr[i])\n",
    "        take = 1 + solve(arr, i, n, ans, arr[i])\n",
    "        ans.pop()\n",
    "    return max(take, not_take)\n",
    "\n",
    "\n",
    "solve(arr, 0, n, [], -1)"
   ]
  },
  {
   "cell_type": "code",
   "execution_count": 25,
   "metadata": {},
   "outputs": [
    {
     "name": "stdout",
     "output_type": "stream",
     "text": [
      "The count of Longest Increasing Subsequences is: 5\n"
     ]
    }
   ],
   "source": [
    "def find_number_of_LIS(arr):\n",
    "    n = len(arr)\n",
    "\n",
    "    # Initialize two dynamic programming lists for lengths and counts\n",
    "    dp = [0] * n\n",
    "    count = [1] * n\n",
    "    dp[0] = 1\n",
    "    maxi = 1\n",
    "\n",
    "    for i in range(1, n):\n",
    "        for prev_index in range(i):\n",
    "            if arr[prev_index] < arr[i] and dp[prev_index] > dp[i]:\n",
    "                dp[i] = dp[prev_index]\n",
    "                # Inherit the count\n",
    "                count[i] = count[prev_index]\n",
    "            elif arr[prev_index] < arr[i] and dp[prev_index] == dp[i]:\n",
    "                # Increase the count\n",
    "                count[i] += count[prev_index]\n",
    "        dp[i] += 1\n",
    "        maxi = max(maxi, dp[i])\n",
    "\n",
    "    num_of_LIS = 0\n",
    "\n",
    "    # Count the number of Longest Increasing Subsequences\n",
    "    for i in range(n):\n",
    "        if dp[i] == maxi:\n",
    "            num_of_LIS += count[i]\n",
    "\n",
    "    return num_of_LIS\n",
    "\n",
    "\n",
    "if __name__ == \"__main__\":\n",
    "    arr = [2, 2, 2, 2, 2]\n",
    "\n",
    "    print(\"The count of Longest Increasing Subsequences is:\", find_number_of_LIS(arr))"
   ]
  },
  {
   "cell_type": "markdown",
   "metadata": {},
   "source": [
    "**Longest Alternating Subsequence Problem**"
   ]
  },
  {
   "cell_type": "code",
   "execution_count": 114,
   "metadata": {},
   "outputs": [
    {
     "name": "stdout",
     "output_type": "stream",
     "text": [
      "The length of the longest alternating subsequence is 6\n"
     ]
    }
   ],
   "source": [
    "def findLongestSequence(A, start, end, flag):\n",
    "\n",
    "    result = 0\n",
    "    for i in range(start, end + 1):\n",
    "\n",
    "        # include `A[i]` as next high in subsequence and flip `flag`\n",
    "        # for next subsequence\n",
    "        if flag and A[i - 1] < A[i]:\n",
    "            result = max(result, 1 + findLongestSequence(A, i + 1, end, not flag))\n",
    "\n",
    "        # include `A[i]` as next low in subsequence and flip `flag`\n",
    "        # for next subsequence\n",
    "        elif not flag and A[i - 1] > A[i]:\n",
    "            result = max(result, 1 + findLongestSequence(A, i + 1, end, not flag))\n",
    "\n",
    "        # don't include `A[i]` in subsequence\n",
    "        else:\n",
    "            result = max(result, findLongestSequence(A, i + 1, end, flag))\n",
    "\n",
    "    return result\n",
    "\n",
    "\n",
    "# Function to find the length of the longest subsequence with alternate\n",
    "# low and high elements. It calls the `util()` method.\n",
    "def longestSequence(A):\n",
    "\n",
    "    # base case\n",
    "    if not A:\n",
    "        return 0\n",
    "\n",
    "    # Fix the first element and recur for the remaining elements as the first\n",
    "    # element will always be part of the longest subsequence (why?)\n",
    "\n",
    "    # There are two possibilities:\n",
    "\n",
    "    # 1. The next element is greater (pass true)\n",
    "    # 2. The next element is smaller (pass false)\n",
    "    return 1 + max(\n",
    "        findLongestSequence(A, 1, len(A) - 1, True),\n",
    "        findLongestSequence(A, 1, len(A) - 1, False),\n",
    "    )\n",
    "\n",
    "\n",
    "if __name__ == \"__main__\":\n",
    "\n",
    "    A = [8, 9, 6, 4, 5, 7, 3, 2, 4]\n",
    "\n",
    "    print(\"The length of the longest alternating subsequence is\", longestSequence(A))"
   ]
  },
  {
   "cell_type": "code",
   "execution_count": 115,
   "metadata": {},
   "outputs": [
    {
     "name": "stdout",
     "output_type": "stream",
     "text": [
      "The length of the longest alternating subsequence is 6\n"
     ]
    }
   ],
   "source": [
    "# Function to find the length of the longest subsequence with alternate\n",
    "# low and high elements.\n",
    "def findLongestSequence(A):\n",
    "\n",
    "    # base case\n",
    "    if not A or len(A) <= 1:\n",
    "        return len(A)\n",
    "\n",
    "    # lookup table to store solutions to subproblems\n",
    "    T = [[0] * 2 for r in range(len(A) + 1)]\n",
    "\n",
    "    \"\"\"\n",
    "        `T[i][0]` stores the longest alternating subsequence till `A[0…i]`\n",
    "        where `A[i]` is greater than `A[i-1]`\n",
    " \n",
    "        `T[i][1]` stores the longest alternating subsequence till `A[0…i]`\n",
    "        where `A[i]` is smaller than `A[i-1]`\n",
    "    \"\"\"\n",
    "\n",
    "    # stores result\n",
    "    result = 1\n",
    "\n",
    "    # base case: the first element will always be part of LAS\n",
    "    T[0][0] = T[0][1] = 1\n",
    "\n",
    "    # fill the lookup table in a bottom-up manner\n",
    "    for i in range(1, len(A)):\n",
    "\n",
    "        # do for each element `A[j]` before `A[i]`\n",
    "        for j in range(i):\n",
    "\n",
    "            # If `A[i]` is greater than `A[j]`, update `T[i][0]`\n",
    "            if A[i] > A[j]:\n",
    "                T[i][0] = max(T[i][0], T[j][1] + 1)\n",
    "\n",
    "            # If `A[i]` is smaller than `A[j]`, update `T[i][1]`\n",
    "            if A[i] < A[j]:\n",
    "                T[i][1] = max(T[i][1], T[j][0] + 1)\n",
    "\n",
    "        # update result by taking a maximum of both values\n",
    "        if result < max(T[i][0], T[i][1]):\n",
    "            result = max(T[i][0], T[i][1])\n",
    "\n",
    "    # return result\n",
    "    return result\n",
    "\n",
    "\n",
    "if __name__ == \"__main__\":\n",
    "\n",
    "    A = [8, 9, 6, 4, 5, 7, 3, 2, 4]\n",
    "\n",
    "    print(\n",
    "        \"The length of the longest alternating subsequence is\", findLongestSequence(A)\n",
    "    )"
   ]
  },
  {
   "cell_type": "markdown",
   "metadata": {},
   "source": [
    "**Longest bitonic subsequence**"
   ]
  },
  {
   "cell_type": "code",
   "execution_count": 6,
   "metadata": {},
   "outputs": [
    {
     "name": "stdout",
     "output_type": "stream",
     "text": [
      "The length of the longest bitonic subsequence is 7\n"
     ]
    }
   ],
   "source": [
    "# Function to find the longest bitonic subsequence in a list\n",
    "def calculateLBS(nums):\n",
    "\n",
    "    n = len(nums)\n",
    "\n",
    "    # base case\n",
    "    if n == 0:\n",
    "        return 0\n",
    "\n",
    "    # `I[i]` store the length of the longest increasing subsequence,\n",
    "    # ending at `nums[i]`\n",
    "    I = [0] * n\n",
    "\n",
    "    # `D[i]` stores the length of the longest decreasing subsequence,\n",
    "    # starting with `nums[i]`\n",
    "    D = [0] * n\n",
    "\n",
    "    I[0] = 1\n",
    "    for i in range(1, n):\n",
    "        for j in range(i):\n",
    "            if nums[j] < nums[i] and I[j] > I[i]:\n",
    "                I[i] = I[j]\n",
    "        I[i] = I[i] + 1\n",
    "\n",
    "    D[n - 1] = 1\n",
    "    for i in reversed(range(n - 1)):\n",
    "        for j in reversed(range(i + 1, n)):\n",
    "            if nums[j] < nums[i] and D[j] > D[i]:\n",
    "                D[i] = D[j]\n",
    "        D[i] = D[i] + 1\n",
    "\n",
    "    # consider each element as a peak and calculate LBS\n",
    "    lbs = 1\n",
    "    for i in range(n):\n",
    "        lbs = max(lbs, I[i] + D[i] - 1)\n",
    "\n",
    "    return lbs\n",
    "\n",
    "\n",
    "if __name__ == \"__main__\":\n",
    "\n",
    "    nums = [4, 2, 5, 9, 7, 6, 10, 3, 1]\n",
    "    print(\"The length of the longest bitonic subsequence is\", calculateLBS(nums))"
   ]
  },
  {
   "cell_type": "code",
   "execution_count": 7,
   "metadata": {},
   "outputs": [
    {
     "name": "stdout",
     "output_type": "stream",
     "text": [
      "The longest bitonic subsequence is [4, 5, 9][7, 6, 3, 1]\n"
     ]
    }
   ],
   "source": [
    "# Function to find the longest bitonic subsequence in a list\n",
    "def LBS(nums):\n",
    "\n",
    "    n = len(nums)\n",
    "\n",
    "    # base case\n",
    "    if n == 0:\n",
    "        return\n",
    "\n",
    "    # `I[i]` store the longest increasing subsequence, ending at `nums[i]`\n",
    "    I = [[] for _ in range(n)]\n",
    "    I[0].append(nums[0])\n",
    "\n",
    "    for i in range(1, n):\n",
    "        for j in range(i):\n",
    "            if len(I[i]) < len(I[j]) and nums[i] > nums[j]:\n",
    "                I[i] = I[j].copy()\n",
    "        I[i].append(nums[i])\n",
    "\n",
    "    # `D[i]` stores the longest decreasing subsequence, starting from `nums[i]`\n",
    "    D = [[] for _ in range(n)]\n",
    "    D[n - 1].insert(0, nums[n - 1])\n",
    "\n",
    "    for i in reversed(range(n - 1)):\n",
    "        for j in reversed(range(i + 1, n)):\n",
    "            if len(D[i]) < len(D[j]) and nums[i] > nums[j]:\n",
    "                D[i] = D[j].copy()\n",
    "        D[i].insert(0, nums[i])\n",
    "\n",
    "    # find the peak element index\n",
    "    peak = 0\n",
    "    for i in range(1, n):\n",
    "        if len(I[i]) + len(D[i]) > len(I[peak]) + len(D[peak]):\n",
    "            peak = i\n",
    "\n",
    "    print(\"The longest bitonic subsequence is \", end=\"\")\n",
    "\n",
    "    # print longest increasing subsequence ending at peak element\n",
    "    print(I[peak], end=\"\")\n",
    "\n",
    "    # pop the front element of LDS as it points to the same element as the rear of LIS\n",
    "    D[peak].pop(0)\n",
    "\n",
    "    # print longest decreasing subsequence starting from the peak element\n",
    "    print(D[peak])\n",
    "\n",
    "\n",
    "if __name__ == \"__main__\":\n",
    "\n",
    "    nums = [4, 2, 5, 9, 7, 6, 10, 3, 1]\n",
    "    LBS(nums)"
   ]
  },
  {
   "cell_type": "markdown",
   "metadata": {},
   "source": [
    "**Longest Divisible Subset**\n",
    "\n",
    "In a subsequence, the elements need to follow the order of the original array whereas in a subset there is no constraint on the order of the elements. \n",
    "\n",
    "A divisible subset is the one in which if we pick two elements i and j from the subset, then either arr[i]%arr[j] == 0 or arr[j] % arr[i] == 0. For example, [16,8,4] is a divisible subset."
   ]
  },
  {
   "cell_type": "code",
   "execution_count": null,
   "metadata": {},
   "outputs": [],
   "source": [
    "def longest_divisible_subset(arr):\n",
    "    n = len(arr)\n",
    "\n",
    "    # Sort the array in ascending order\n",
    "    arr.sort()\n",
    "\n",
    "    # Initialize dp and hash arrays with 1s\n",
    "    dp = [1] * n\n",
    "    hash_arr = list(range(n))\n",
    "\n",
    "    # Iterate through the array\n",
    "    for i in range(n):\n",
    "        for prev_index in range(i):\n",
    "            if arr[i] % arr[prev_index] == 0 and 1 + dp[prev_index] > dp[i]:\n",
    "                dp[i] = 1 + dp[prev_index]\n",
    "                hash_arr[i] = prev_index\n",
    "\n",
    "    ans = -1\n",
    "    last_index = -1\n",
    "\n",
    "    # Find the maximum length and its corresponding index\n",
    "    for i in range(n):\n",
    "        if dp[i] > ans:\n",
    "            ans = dp[i]\n",
    "            last_index = i\n",
    "\n",
    "    # Reconstruct the divisible subset\n",
    "    result = [arr[last_index]]\n",
    "\n",
    "    while hash_arr[last_index] != last_index:\n",
    "        last_index = hash_arr[last_index]\n",
    "        result.append(arr[last_index])\n",
    "\n",
    "    return result\n",
    "\n",
    "\n",
    "if __name__ == \"__main__\":\n",
    "    arr = [1, 16, 7, 8, 4]\n",
    "\n",
    "    ans = longest_divisible_subset(arr)\n",
    "\n",
    "    print(\"The longest divisible subset elements are:\", ans)"
   ]
  },
  {
   "cell_type": "markdown",
   "metadata": {},
   "source": [
    "**Longest String Chain**\n",
    "\n",
    "A subsequence of words[ ] of the string.\n",
    "\n",
    "Every element of this subsequence ( a string) except the first one can be formed by inserting a single character into the previous element.\n",
    "\n",
    "The first element of this subsequence can be any string from the words[ ] array."
   ]
  },
  {
   "attachments": {
    "image.png": {
     "image/png": "[encoded data removed]"
    }
   },
   "cell_type": "markdown",
   "metadata": {},
   "source": [
    "![image.png](attachment:image.png)"
   ]
  },
  {
   "cell_type": "code",
   "execution_count": 10,
   "metadata": {},
   "outputs": [
    {
     "name": "stdout",
     "output_type": "stream",
     "text": [
      "The length of the longest string chain is: 4\n"
     ]
    }
   ],
   "source": [
    "def is_predecessor(s1, s2):\n",
    "    # Check if s2 is a predecessor of s1\n",
    "    if len(s1) != len(s2) + 1:\n",
    "        return False\n",
    "\n",
    "    first = 0\n",
    "    second = 0\n",
    "\n",
    "    while first < len(s1):\n",
    "        if second < len(s2) and s1[first] == s2[second]:\n",
    "            first += 1\n",
    "            second += 1\n",
    "        else:\n",
    "            first += 1\n",
    "\n",
    "    return first == len(s1) and second == len(s2)\n",
    "\n",
    "\n",
    "def longest_string_chain(arr):\n",
    "    n = len(arr)\n",
    "\n",
    "    # Sort the array in ascending order of string length\n",
    "    arr.sort(key=len)\n",
    "\n",
    "    dp = [1] * n\n",
    "    maxi = 1\n",
    "\n",
    "    for i in range(n):\n",
    "        for prev_index in range(i):\n",
    "            if is_predecessor(arr[i], arr[prev_index]) and 1 + dp[prev_index] > dp[i]:\n",
    "                dp[i] = 1 + dp[prev_index]\n",
    "\n",
    "        if dp[i] > maxi:\n",
    "            maxi = dp[i]\n",
    "\n",
    "    return maxi\n",
    "\n",
    "\n",
    "if __name__ == \"__main__\":\n",
    "    words = [\"a\", \"b\", \"ba\", \"bca\", \"bda\", \"bdca\"]\n",
    "\n",
    "    result = longest_string_chain(words)\n",
    "\n",
    "    print(\"The length of the longest string chain is:\", result)"
   ]
  },
  {
   "cell_type": "markdown",
   "metadata": {},
   "source": [
    "# stocks"
   ]
  },
  {
   "cell_type": "markdown",
   "metadata": {},
   "source": [
    "We can buy and sell a stock only once.\n",
    "\n",
    "We can buy and sell the stock on any day but to sell the stock, we need to first buy it on the same or any previous day.\n",
    "\n",
    "We need to tell the maximum profit one can get by buying and selling this stock."
   ]
  },
  {
   "cell_type": "code",
   "execution_count": null,
   "metadata": {},
   "outputs": [],
   "source": [
    "def maximum_profit(arr):\n",
    "    max_profit = 0\n",
    "    mini = arr[0]\n",
    "\n",
    "    for i in range(1, len(arr)):\n",
    "        cur_profit = arr[i] - mini\n",
    "        max_profit = max(max_profit, cur_profit)\n",
    "        mini = min(mini, arr[i])\n",
    "\n",
    "    return max_profit\n",
    "\n",
    "\n",
    "if __name__ == \"__main__\":\n",
    "    arr = [7, 1, 5, 3, 6, 4]\n",
    "    print(\"The maximum profit by selling the stock is\", maximum_profit(arr))"
   ]
  },
  {
   "cell_type": "markdown",
   "metadata": {},
   "source": [
    "**Buy and Sell Stock - II**\n",
    "\n",
    "We can buy and sell the stock any number of times.\n",
    "\n",
    "In order to sell the stock, we need to first buy it on the same or any previous day."
   ]
  },
  {
   "cell_type": "code",
   "execution_count": 11,
   "metadata": {},
   "outputs": [
    {
     "data": {
      "text/plain": [
       "7"
      ]
     },
     "execution_count": 11,
     "metadata": {},
     "output_type": "execute_result"
    }
   ],
   "source": [
    "def solve(i, n, price, buy, dp):\n",
    "    if i >= n:\n",
    "        return 0\n",
    "    profit = 0\n",
    "    if dp[i][buy] != -1:\n",
    "        return dp[i][buy]\n",
    "    if buy == 0:\n",
    "        profit = max(\n",
    "            solve(i + 1, n, price, buy, dp), -price[i] + solve(i + 1, n, price, 1, dp)\n",
    "        )\n",
    "    elif buy == 1:\n",
    "        profit = max(\n",
    "            solve(i + 1, n, price, buy, dp), price[i] + solve(i + 1, n, price, 0, dp)\n",
    "        )\n",
    "    dp[i][buy] = profit\n",
    "    return dp[i][buy]\n",
    "\n",
    "\n",
    "def tabuler(price):\n",
    "    dp = [[0 for _ in range(2)] for _ in range(len(price) + 1)]\n",
    "    for i in range(len(price) - 1, -1, -1):\n",
    "        for buy in range(2):\n",
    "\n",
    "            profit = 0\n",
    "            if buy == 0:\n",
    "                profit = max(dp[i + 1][buy], -price[i] + dp[i + 1][1])\n",
    "            elif buy == 1:\n",
    "                profit = max(dp[i + 1][buy], price[i] + dp[i + 1][0])\n",
    "\n",
    "            dp[i][buy] = profit\n",
    "    return dp[0][0]\n",
    "\n",
    "\n",
    "prices = [7, 1, 5, 3, 6, 4]\n",
    "tabuler(prices)\n",
    "# dp = dp = [[-1 for _ in range(2)] for _ in range(len(prices))]\n",
    "# return solve(0,len(prices),prices,0,dp)\n",
    "# return findMaxProfit(prices)"
   ]
  },
  {
   "cell_type": "code",
   "execution_count": 12,
   "metadata": {},
   "outputs": [
    {
     "name": "stdout",
     "output_type": "stream",
     "text": [
      "The maximum profit that can be generated is 7\n"
     ]
    }
   ],
   "source": [
    "def getMaximumProfit(Arr, n):\n",
    "    # Function to calculate the maximum profit from buying and selling stocks\n",
    "\n",
    "    ahead = [\n",
    "        0,\n",
    "        0,\n",
    "    ]  # Initialize two lists, 'ahead' and 'cur', to keep track of profits for buying and selling\n",
    "    cur = [0, 0]\n",
    "\n",
    "    # Base condition: Initialize both 'ahead' and 'cur' to 0, as there are no more days to trade\n",
    "    ahead[0] = ahead[1] = 0\n",
    "\n",
    "    for ind in range(n - 1, -1, -1):\n",
    "        for buy in range(2):\n",
    "            profit = 0\n",
    "\n",
    "            if buy == 0:\n",
    "                # We can buy the stock\n",
    "                profit = max(0 + ahead[0], -Arr[ind] + ahead[1])\n",
    "            elif buy == 1:\n",
    "                # We can sell the stock\n",
    "                profit = max(0 + ahead[1], Arr[ind] + ahead[0])\n",
    "            cur[buy] = profit  # Store the result in the 'cur' list\n",
    "\n",
    "        ahead = cur  # Update 'ahead' to be the same as 'cur'\n",
    "\n",
    "    return cur[0]\n",
    "\n",
    "\n",
    "def main():\n",
    "    n = 6\n",
    "    Arr = [7, 1, 5, 3, 6, 4]\n",
    "\n",
    "    max_profit = getMaximumProfit(Arr, n)\n",
    "    print(\"The maximum profit that can be generated is\", max_profit)\n",
    "\n",
    "\n",
    "if __name__ == \"__main__\":\n",
    "    main()"
   ]
  },
  {
   "cell_type": "markdown",
   "metadata": {},
   "source": [
    "**Buy and Sell Stock - III**\n",
    "\n",
    "We can do at most 2 transactions."
   ]
  },
  {
   "cell_type": "code",
   "execution_count": 13,
   "metadata": {},
   "outputs": [
    {
     "name": "stdout",
     "output_type": "stream",
     "text": [
      "The maximum profit that can be generated is 6\n"
     ]
    }
   ],
   "source": [
    "def maxProfit(prices):\n",
    "    n = len(prices)\n",
    "\n",
    "    # Create a 3D DP table with dimensions (n+1) x 2 x 3 and initialize it to 0 values\n",
    "    dp = [[[0 for _ in range(3)] for _ in range(2)] for _ in range(n + 1)]\n",
    "\n",
    "    # The base case is already covered as the DP array is initialized to 0\n",
    "\n",
    "    for ind in range(n - 1, -1, -1):\n",
    "        for buy in range(2):\n",
    "            for cap in range(1, 3):\n",
    "\n",
    "                if buy == 0:\n",
    "                    # We can buy the stock\n",
    "                    dp[ind][buy][cap] = max(\n",
    "                        0 + dp[ind + 1][0][cap], -prices[ind] + dp[ind + 1][1][cap]\n",
    "                    )\n",
    "                elif buy == 1:\n",
    "                    # We can sell the stock\n",
    "                    dp[ind][buy][cap] = max(\n",
    "                        0 + dp[ind + 1][1][cap], prices[ind] + dp[ind + 1][0][cap - 1]\n",
    "                    )\n",
    "\n",
    "    return dp[0][0][2]\n",
    "\n",
    "\n",
    "def main():\n",
    "    prices = [3, 3, 5, 0, 0, 3, 1, 4]\n",
    "\n",
    "    max_profit = maxProfit(prices)\n",
    "    print(\"The maximum profit that can be generated is\", max_profit)\n",
    "\n",
    "\n",
    "if __name__ == \"__main__\":\n",
    "    main()"
   ]
  },
  {
   "cell_type": "code",
   "execution_count": 14,
   "metadata": {},
   "outputs": [
    {
     "name": "stdout",
     "output_type": "stream",
     "text": [
      "The maximum profit that can be generated is 6\n"
     ]
    }
   ],
   "source": [
    "def maxProfit(prices):\n",
    "    n = len(prices)\n",
    "\n",
    "    # Create two 2D arrays, ahead and cur, both of size 2x3, initialized to 0 values\n",
    "    ahead = [[0 for _ in range(3)] for _ in range(2)]\n",
    "    cur = [[0 for _ in range(3)] for _ in range(2)]\n",
    "\n",
    "    for ind in range(n - 1, -1, -1):\n",
    "        for buy in range(2):\n",
    "            for cap in range(1, 3):\n",
    "\n",
    "                if buy == 0:\n",
    "                    # We can buy the stock\n",
    "                    cur[buy][cap] = max(0 + ahead[0][cap], -prices[ind] + ahead[1][cap])\n",
    "                elif buy == 1:\n",
    "                    # We can sell the stock\n",
    "                    cur[buy][cap] = max(\n",
    "                        0 + ahead[1][cap], prices[ind] + ahead[0][cap - 1]\n",
    "                    )\n",
    "\n",
    "        ahead = cur  # Update ahead with the current values\n",
    "\n",
    "    return ahead[0][2]\n",
    "\n",
    "\n",
    "def main():\n",
    "    prices = [3, 3, 5, 0, 0, 3, 1, 4]\n",
    "\n",
    "    max_profit = maxProfit(prices)\n",
    "    print(\"The maximum profit that can be generated is\", max_profit)\n",
    "\n",
    "\n",
    "if __name__ == \"__main__\":\n",
    "    main()"
   ]
  },
  {
   "cell_type": "markdown",
   "metadata": {},
   "source": [
    "We can do at-most K transactions."
   ]
  },
  {
   "cell_type": "code",
   "execution_count": 15,
   "metadata": {},
   "outputs": [
    {
     "name": "stdout",
     "output_type": "stream",
     "text": [
      "The maximum profit that can be generated is 6\n"
     ]
    }
   ],
   "source": [
    "def maximum_profit(prices, n, k):\n",
    "    # Creating a 3D dp array of size [n+1][2][k+1] initialized to 0\n",
    "    dp = [[[0 for _ in range(k + 1)] for _ in range(2)] for _ in range(n + 1)]\n",
    "\n",
    "    # Loop through the array from right to left\n",
    "    for ind in range(n - 1, -1, -1):\n",
    "        for buy in range(2):\n",
    "            for cap in range(1, k + 1):\n",
    "\n",
    "                if buy == 0:  # We can buy the stock\n",
    "                    dp[ind][buy][cap] = max(\n",
    "                        0 + dp[ind + 1][0][cap], -prices[ind] + dp[ind + 1][1][cap]\n",
    "                    )\n",
    "\n",
    "                if buy == 1:  # We can sell the stock\n",
    "                    dp[ind][buy][cap] = max(\n",
    "                        0 + dp[ind + 1][1][cap], prices[ind] + dp[ind + 1][0][cap - 1]\n",
    "                    )\n",
    "\n",
    "    return dp[0][0][k]\n",
    "\n",
    "\n",
    "if __name__ == \"__main__\":\n",
    "    prices = [3, 3, 5, 0, 0, 3, 1, 4]\n",
    "    n = len(prices)\n",
    "    k = 2\n",
    "\n",
    "    result = maximum_profit(prices, n, k)\n",
    "    print(f\"The maximum profit that can be generated is {result}\")"
   ]
  },
  {
   "cell_type": "code",
   "execution_count": 16,
   "metadata": {},
   "outputs": [
    {
     "name": "stdout",
     "output_type": "stream",
     "text": [
      "The maximum profit that can be generated is 6\n"
     ]
    }
   ],
   "source": [
    "def max_profit(prices, n, k):\n",
    "    # Create two 2D arrays to store the current and ahead states\n",
    "    ahead = [[0] * (k + 1) for _ in range(2)]\n",
    "    cur = [[0] * (k + 1) for _ in range(2)]\n",
    "\n",
    "    for ind in range(n - 1, -1, -1):\n",
    "        for buy in range(2):\n",
    "            for cap in range(1, k + 1):\n",
    "\n",
    "                if buy == 0:  # We can buy the stock\n",
    "                    cur[buy][cap] = max(0 + ahead[0][cap], -prices[ind] + ahead[1][cap])\n",
    "\n",
    "                if buy == 1:  # We can sell the stock\n",
    "                    cur[buy][cap] = max(\n",
    "                        0 + ahead[1][cap], prices[ind] + ahead[0][cap - 1]\n",
    "                    )\n",
    "\n",
    "        # Update the 'ahead' array with the current state\n",
    "        ahead = cur.copy()\n",
    "\n",
    "    return ahead[0][k]\n",
    "\n",
    "\n",
    "if __name__ == \"__main__\":\n",
    "    prices = [3, 3, 5, 0, 0, 3, 1, 4]\n",
    "    n = len(prices)\n",
    "    k = 2\n",
    "\n",
    "    result = max_profit(prices, n, k)\n",
    "    print(f\"The maximum profit that can be generated is {result}\")"
   ]
  },
  {
   "cell_type": "markdown",
   "metadata": {},
   "source": [
    "We can’t buy a stock on the very next day of selling it. This is the cooldown clause."
   ]
  },
  {
   "cell_type": "code",
   "execution_count": 17,
   "metadata": {},
   "outputs": [
    {
     "name": "stdout",
     "output_type": "stream",
     "text": [
      "The maximum profit that can be generated is 11\n"
     ]
    }
   ],
   "source": [
    "def stock_profit(prices):\n",
    "    n = len(prices)\n",
    "\n",
    "    # Create a 2D dp array of size [n+2][2] initialized to 0\n",
    "    dp = [[0 for _ in range(2)] for _ in range(n + 2)]\n",
    "\n",
    "    for ind in range(n - 1, -1, -1):\n",
    "        for buy in range(2):\n",
    "            profit = 0\n",
    "\n",
    "            if buy == 0:  # We can buy the stock\n",
    "                profit = max(0 + dp[ind + 1][0], -prices[ind] + dp[ind + 1][1])\n",
    "\n",
    "            if buy == 1:  # We can sell the stock\n",
    "                profit = max(0 + dp[ind + 1][1], prices[ind] + dp[ind + 2][0])\n",
    "\n",
    "            dp[ind][buy] = profit\n",
    "\n",
    "    return dp[0][0]\n",
    "\n",
    "\n",
    "if __name__ == \"__main__\":\n",
    "    prices = [4, 9, 0, 4, 10]\n",
    "\n",
    "    result = stock_profit(prices)\n",
    "    print(f\"The maximum profit that can be generated is {result}\")"
   ]
  },
  {
   "cell_type": "code",
   "execution_count": 18,
   "metadata": {},
   "outputs": [
    {
     "name": "stdout",
     "output_type": "stream",
     "text": [
      "The maximum profit that can be generated is 11\n"
     ]
    }
   ],
   "source": [
    "def stock_profit(prices):\n",
    "    n = len(prices)\n",
    "\n",
    "    # Initialize three lists to track the profit states\n",
    "    cur = [0, 0]\n",
    "    front1 = [0, 0]\n",
    "    front2 = [0, 0]\n",
    "\n",
    "    for ind in range(n - 1, -1, -1):\n",
    "        for buy in range(2):\n",
    "            profit = 0\n",
    "\n",
    "            if buy == 0:  # We can buy the stock\n",
    "                profit = max(0 + front1[0], -prices[ind] + front1[1])\n",
    "\n",
    "            if buy == 1:  # We can sell the stock\n",
    "                profit = max(0 + front1[1], prices[ind] + front2[0])\n",
    "\n",
    "            cur[buy] = profit\n",
    "\n",
    "        # Update the 'front' lists for the next iteration\n",
    "        front2 = front1.copy()\n",
    "        front1 = cur.copy()\n",
    "\n",
    "    return cur[0]\n",
    "\n",
    "\n",
    "if __name__ == \"__main__\":\n",
    "    prices = [4, 9, 0, 4, 10]\n",
    "\n",
    "    result = stock_profit(prices)\n",
    "    print(f\"The maximum profit that can be generated is {result}\")"
   ]
  },
  {
   "cell_type": "markdown",
   "metadata": {},
   "source": [
    "After every transaction, there is a transaction fee (‘fee’) associated with it."
   ]
  },
  {
   "cell_type": "code",
   "execution_count": 19,
   "metadata": {},
   "outputs": [
    {
     "name": "stdout",
     "output_type": "stream",
     "text": [
      "The maximum profit that can be generated is 8\n"
     ]
    }
   ],
   "source": [
    "def maximum_profit(n, fee, prices):\n",
    "    if n == 0:\n",
    "        return 0\n",
    "\n",
    "    # Create a 2D dp array of size [n+1][2] initialized to 0\n",
    "    dp = [[0 for _ in range(2)] for _ in range(n + 1)]\n",
    "\n",
    "    # Loop through the array from right to left\n",
    "    for ind in range(n - 1, -1, -1):\n",
    "        for buy in range(2):\n",
    "            profit = 0\n",
    "\n",
    "            if buy == 0:  # We can buy the stock\n",
    "                profit = max(0 + dp[ind + 1][0], -prices[ind] + dp[ind + 1][1])\n",
    "\n",
    "            if buy == 1:  # We can sell the stock\n",
    "                profit = max(0 + dp[ind + 1][1], prices[ind] - fee + dp[ind + 1][0])\n",
    "\n",
    "            dp[ind][buy] = profit\n",
    "\n",
    "    return dp[0][0]\n",
    "\n",
    "\n",
    "if __name__ == \"__main__\":\n",
    "    prices = [1, 3, 2, 8, 4, 9]\n",
    "    n = len(prices)\n",
    "    fee = 2\n",
    "\n",
    "    result = maximum_profit(n, fee, prices)\n",
    "    print(f\"The maximum profit that can be generated is {result}\")"
   ]
  },
  {
   "cell_type": "code",
   "execution_count": 20,
   "metadata": {},
   "outputs": [
    {
     "name": "stdout",
     "output_type": "stream",
     "text": [
      "The maximum profit that can be generated is 8\n"
     ]
    }
   ],
   "source": [
    "def maximum_profit(n, fee, prices):\n",
    "    if n == 0:\n",
    "        return 0\n",
    "\n",
    "    # Initialize two lists to track the profit states\n",
    "    ahead = [0, 0]\n",
    "    cur = [0, 0]\n",
    "\n",
    "    # Base condition\n",
    "    ahead[0] = ahead[1] = 0\n",
    "\n",
    "    for ind in range(n - 1, -1, -1):\n",
    "        for buy in range(2):\n",
    "            profit = 0\n",
    "\n",
    "            if buy == 0:  # We can buy the stock\n",
    "                profit = max(0 + ahead[0], -prices[ind] + ahead[1])\n",
    "\n",
    "            if buy == 1:  # We can sell the stock\n",
    "                profit = max(0 + ahead[1], prices[ind] - fee + ahead[0])\n",
    "\n",
    "            cur[buy] = profit\n",
    "\n",
    "        # Update the 'ahead' list for the next iteration\n",
    "        ahead = cur.copy()\n",
    "\n",
    "    return cur[0]\n",
    "\n",
    "\n",
    "if __name__ == \"__main__\":\n",
    "    prices = [1, 3, 2, 8, 4, 9]\n",
    "    n = len(prices)\n",
    "    fee = 2\n",
    "\n",
    "    result = maximum_profit(n, fee, prices)\n",
    "    print(f\"The maximum profit that can be generated is {result}\")"
   ]
  },
  {
   "cell_type": "markdown",
   "metadata": {},
   "source": []
  },
  {
   "cell_type": "markdown",
   "metadata": {},
   "source": []
  },
  {
   "cell_type": "code",
   "execution_count": 3,
   "metadata": {},
   "outputs": [
    {
     "data": {
      "text/plain": [
       "5"
      ]
     },
     "execution_count": 3,
     "metadata": {},
     "output_type": "execute_result"
    }
   ],
   "source": [
    "n = 8\n",
    "count = 0\n",
    "while n != 0:\n",
    "    if n % 2 == 0:\n",
    "        count += n // 2\n",
    "        n = 1\n",
    "    else:\n",
    "        count += 1\n",
    "        n -= 1\n",
    "count"
   ]
  },
  {
   "cell_type": "code",
   "execution_count": 21,
   "metadata": {},
   "outputs": [
    {
     "name": "stdout",
     "output_type": "stream",
     "text": [
      "180\n"
     ]
    }
   ],
   "source": [
    "arr = [6, -3, -10, 0, 2]\n",
    "maxp = arr[0]\n",
    "minp = arr[0]\n",
    "ans = -1\n",
    "for i in range(1, len(arr)):\n",
    "    temp = max(arr[i], arr[i] * minp, maxp * arr[i])\n",
    "    minp = min(arr[i], arr[i] * minp, maxp * arr[i])\n",
    "    maxp = temp\n",
    "\n",
    "    ans = max(\n",
    "        ans,\n",
    "        maxp,\n",
    "    )\n",
    "print(ans)"
   ]
  },
  {
   "cell_type": "code",
   "execution_count": 17,
   "metadata": {},
   "outputs": [],
   "source": [
    "s = [\"a\", \"e\", \"i\", \"o\", \"u\"]\n",
    "k = 1\n",
    "\n",
    "\n",
    "def solve(s, k, curr, start, count):\n",
    "    if len(curr) == k:\n",
    "        count += 1\n",
    "        return count\n",
    "    for i in range(start, len(s)):\n",
    "        curr += s[i]\n",
    "        count = solve(s, k, curr, i, count)\n",
    "        curr = curr[:-1]\n",
    "    return count"
   ]
  },
  {
   "cell_type": "code",
   "execution_count": 18,
   "metadata": {},
   "outputs": [
    {
     "data": {
      "text/plain": [
       "5"
      ]
     },
     "execution_count": 18,
     "metadata": {},
     "output_type": "execute_result"
    }
   ],
   "source": [
    "solve(s, k, \"\", 0, 0)"
   ]
  },
  {
   "cell_type": "code",
   "execution_count": 51,
   "metadata": {},
   "outputs": [
    {
     "data": {
      "text/plain": [
       "7"
      ]
     },
     "execution_count": 51,
     "metadata": {},
     "output_type": "execute_result"
    }
   ],
   "source": [
    "nums = [1, 1, 2, 1, 1]\n",
    "k = 1\n",
    "odd = 0\n",
    "d = dict()\n",
    "start = 0\n",
    "count = 0\n",
    "for i in range(len(nums)):\n",
    "    d[nums[i]] = d.get(nums[i], 0) + 1\n",
    "    if nums[i] % 2 != 0:\n",
    "        odd += 1\n",
    "    if odd > k:\n",
    "        while odd > k:\n",
    "            remove = nums[start]\n",
    "            start += 1\n",
    "            d[remove] -= 1\n",
    "            if remove % 2 != 0:\n",
    "                odd -= 1\n",
    "            if d[remove] == 0:\n",
    "                d.pop(remove)\n",
    "    if odd <= k:\n",
    "        count += i - start + 1\n",
    "count"
   ]
  },
  {
   "cell_type": "code",
   "execution_count": 53,
   "metadata": {},
   "outputs": [
    {
     "name": "stdout",
     "output_type": "stream",
     "text": [
      "8\n",
      "9\n"
     ]
    }
   ],
   "source": [
    "k = len(nums) // 2\n",
    "alice = sum(nums[:k])\n",
    "for i in range(2):\n",
    "    temp = alice - nums[i] + nums[len(nums) - 1 - i]\n",
    "    alice = max(temp, alice)\n",
    "    print(alice)"
   ]
  },
  {
   "cell_type": "code",
   "execution_count": 72,
   "metadata": {},
   "outputs": [
    {
     "name": "stdout",
     "output_type": "stream",
     "text": [
      "[2, 3, 4]\n"
     ]
    },
    {
     "data": {
      "text/plain": [
       "1"
      ]
     },
     "execution_count": 72,
     "metadata": {},
     "output_type": "execute_result"
    }
   ],
   "source": [
    "rating = [2, 5, 3, 4, 1]\n",
    "\n",
    "\n",
    "def solve(rating, i, n, curr, count):\n",
    "    if len(curr) == 3:\n",
    "        print(curr)\n",
    "        count += 1\n",
    "        return count\n",
    "    if i >= n:\n",
    "        return count\n",
    "    count = solve(rating, i + 1, n, curr, count)\n",
    "    if len(curr) == 0 or curr[-1] < rating[i]:\n",
    "        curr.append(rating[i])\n",
    "        count = solve(rating, i + 1, n, curr, count)\n",
    "        curr.pop()\n",
    "    return count\n",
    "\n",
    "\n",
    "solve(rating, 0, len(rating), [], 0)"
   ]
  },
  {
   "cell_type": "code",
   "execution_count": 3,
   "metadata": {},
   "outputs": [
    {
     "data": {
      "text/plain": [
       "30"
      ]
     },
     "execution_count": 3,
     "metadata": {},
     "output_type": "execute_result"
    }
   ],
   "source": [
    "nums = [3, -1, -5, 2, 5, -9]\n",
    "\n",
    "\n",
    "def solve(nums, i, n, p):\n",
    "    if i >= n:\n",
    "        return 1\n",
    "\n",
    "    exc = solve(nums, i + 1, n, p)\n",
    "    inc = nums[i] * solve(nums, i + 1, n)\n",
    "    return max(inc, exc)\n",
    "\n",
    "\n",
    "solve(nums, 0, len(nums))"
   ]
  },
  {
   "cell_type": "code",
   "execution_count": 6,
   "metadata": {},
   "outputs": [
    {
     "data": {
      "text/plain": [
       "[4, 2, 6]"
      ]
     },
     "execution_count": 6,
     "metadata": {},
     "output_type": "execute_result"
    }
   ],
   "source": [
    "words = [\"aa\", \"ab\", \"bc\"]\n",
    "n = len(words)\n",
    "dp = [0] * len(words)\n",
    "dp[0] = len(words[0])\n",
    "for i in range(1, n - 1):\n",
    "    prev = words[i - 1]\n",
    "    for j in range(i, n):\n",
    "        i"
   ]
  },
  {
   "cell_type": "code",
   "execution_count": 51,
   "metadata": {},
   "outputs": [],
   "source": [
    "points = points = [[1, 5], [2, 3], [4, 2]]\n",
    "prev = (0, 0)\n",
    "m, n = 2, 1\n",
    "\n",
    "\n",
    "def solve(p, prev, i, j, m, n):\n",
    "    # if i == m and 0 <= j <= n:\n",
    "    #     return p[m][j] - abs(j - prev[1])\n",
    "    if i > m or j > n or i < 0 or j < 0:\n",
    "        return 0\n",
    "    down = (\n",
    "        (p[i + 1][j] - abs(prev[1] - (j))) + solve(p, (i + 1, j), i + 1, j, m, n)\n",
    "        if i + 1 <= m\n",
    "        else 0\n",
    "    )\n",
    "    dleft = (\n",
    "        (p[i + 1][j - 1] - abs(prev[1] - (j - 1)))\n",
    "        + solve(p, (i + 1, j - 1), i + 1, j - 1, m, n)\n",
    "        if i + 1 <= m and j - 1 >= 0\n",
    "        else 0\n",
    "    )\n",
    "    dright = (\n",
    "        (p[i + 1][j + 1] - abs(prev[1] - (j + 1)))\n",
    "        + solve(p, (i + 1, j + 1), i + 1, j + 1, m, n)\n",
    "        if i + 1 <= m and j + 1 <= n\n",
    "        else 0\n",
    "    )\n",
    "    return max(down, dleft, dright)"
   ]
  },
  {
   "cell_type": "code",
   "execution_count": 52,
   "metadata": {},
   "outputs": [
    {
     "data": {
      "text/plain": [
       "6"
      ]
     },
     "execution_count": 52,
     "metadata": {},
     "output_type": "execute_result"
    }
   ],
   "source": [
    "solve(points, (0, 1), 0, 1, 2, 1)"
   ]
  },
  {
   "cell_type": "code",
   "execution_count": null,
   "metadata": {},
   "outputs": [],
   "source": []
  },
  {
   "cell_type": "markdown",
   "metadata": {},
   "source": [
    "**Pots of Gold Game**\n",
    "\n",
    "There are two players, A and B, in Pots of gold game, and pots of gold arranged in a line,\n",
    "\n",
    " each containing some gold coins. The players can see how many coins are there in each gold pot, \n",
    " \n",
    " and each player gets alternating turns in which the player can pick a pot from either end of the line.\n",
    " \n",
    "  The winner is the player who has a higher number of coins at the end. The objective is to “maximize”\n",
    "  \n",
    "   the number of coins collected by A, assuming B also plays “optimally”, and A starts the game."
   ]
  },
  {
   "attachments": {
    "image.png": {
     "image/png": "[encoded data removed]"
    }
   },
   "cell_type": "markdown",
   "metadata": {},
   "source": [
    "![image.png](attachment:image.png)"
   ]
  },
  {
   "cell_type": "code",
   "execution_count": 1,
   "metadata": {},
   "outputs": [
    {
     "name": "stdout",
     "output_type": "stream",
     "text": [
      "The maximum coins collected by player is 9\n"
     ]
    }
   ],
   "source": [
    "def findMaxCoins(coin, i, j, lookup):\n",
    "\n",
    "    # base case: one pot left, only one choice possible\n",
    "    if i == j:\n",
    "        return coin[i]\n",
    "\n",
    "    # if we are left with only two pots, choose one with maximum coins\n",
    "    if i + 1 == j:\n",
    "        return max(coin[i], coin[j])\n",
    "\n",
    "    # if the subproblem is seen for the first time, solve it and\n",
    "    # store its result in a lookup table\n",
    "    if lookup[i][j] == 0:\n",
    "        # if the player chooses front pot `i`, the opponent is left to choose\n",
    "        # from [i+1, j].\n",
    "        # 1. If the opponent chooses front pot `i+1`, recur for [i+2, j]\n",
    "        # 2. If the opponent chooses rear pot `j`, recur for [i+1, j-1]\n",
    "\n",
    "        start = coin[i] + min(\n",
    "            findMaxCoins(coin, i + 2, j, lookup),\n",
    "            findMaxCoins(coin, i + 1, j - 1, lookup),\n",
    "        )\n",
    "\n",
    "        # if a player chooses rear pot `j`, the opponent is left to choose\n",
    "        # from [i, j-1].\n",
    "        # 1. If the opponent chooses front pot `i`, recur for [i+1, j-1]\n",
    "        # 2. If the opponent chooses rear pot `j-1`, recur for [i, j-2]\n",
    "\n",
    "        end = coin[j] + min(\n",
    "            findMaxCoins(coin, i + 1, j - 1, lookup),\n",
    "            findMaxCoins(coin, i, j - 2, lookup),\n",
    "        )\n",
    "\n",
    "        # assign a maximum of two choices\n",
    "        lookup[i][j] = max(start, end)\n",
    "\n",
    "    # return the subproblem solution from the dictionary\n",
    "    return lookup[i][j]\n",
    "\n",
    "\n",
    "if __name__ == \"__main__\":\n",
    "\n",
    "    # pots of gold arranged in a line\n",
    "    coin = [4, 6, 2, 3]\n",
    "\n",
    "    # Create a table to store solutions to subproblems\n",
    "    lookup = [[0 for x in range(len(coin))] for y in range(len(coin))]\n",
    "\n",
    "    print(\n",
    "        \"The maximum coins collected by player is\",\n",
    "        findMaxCoins(coin, 0, len(coin) - 1, lookup),\n",
    "    )"
   ]
  },
  {
   "cell_type": "code",
   "execution_count": 2,
   "metadata": {},
   "outputs": [
    {
     "name": "stdout",
     "output_type": "stream",
     "text": [
      "The maximum coins collected by player is 9\n"
     ]
    }
   ],
   "source": [
    "def calculate(T, i, j):\n",
    "    return T[i][j] if i <= j else 0\n",
    "\n",
    "\n",
    "def findMaxCoins(coin):\n",
    "\n",
    "    n = len(coin)\n",
    "\n",
    "    # base case: one pot left, only one choice possible\n",
    "    if n == 1:\n",
    "        return coin[0]\n",
    "\n",
    "    # if we are left with only two pots, choose one with maximum coins\n",
    "    if n == 2:\n",
    "        return max(coin[0], coin[1])\n",
    "\n",
    "    # create a dynamic 2D matrix to store subproblem solutions\n",
    "    T = [[0 for x in range(n)] for y in range(n)]\n",
    "\n",
    "    for iteration in range(n):\n",
    "        i = 0\n",
    "        j = iteration\n",
    "        while j < n:\n",
    "            start = coin[i] + min(calculate(T, i + 2, j), calculate(T, i + 1, j - 1))\n",
    "            end = coin[j] + min(calculate(T, i + 1, j - 1), calculate(T, i, j - 2))\n",
    "            T[i][j] = max(start, end)\n",
    "            i = i + 1\n",
    "            j = j + 1\n",
    "\n",
    "    return T[0][n - 1]\n",
    "\n",
    "\n",
    "# Pots of gold game using dynamic programming\n",
    "if __name__ == \"__main__\":\n",
    "\n",
    "    # pots of gold arranged in a line\n",
    "    coin = [4, 6, 2, 3]\n",
    "\n",
    "    print(\"The maximum coins collected by player is\", findMaxCoins(coin))"
   ]
  },
  {
   "cell_type": "markdown",
   "metadata": {},
   "source": [
    "**Find minimum cuts needed for the palindromic partition of a string**"
   ]
  },
  {
   "cell_type": "code",
   "execution_count": 13,
   "metadata": {},
   "outputs": [
    {
     "data": {
      "text/plain": [
       "3"
      ]
     },
     "execution_count": 13,
     "metadata": {},
     "output_type": "execute_result"
    }
   ],
   "source": [
    "def is_polindrom(x):\n",
    "    return x == x[::-1]\n",
    "\n",
    "\n",
    "def solve(pat, path, dp):\n",
    "    if len(pat) <= 0:\n",
    "        # print(path)\n",
    "        return 0\n",
    "    if pat in dp:\n",
    "        return dp[pat]\n",
    "    count = 1e5\n",
    "    for j in range(1, len(pat) + 1):\n",
    "        curr = pat[:j]\n",
    "        if is_polindrom(curr):\n",
    "            count = min(count, 1 + solve(pat[j:], path + curr + \" \", dp))\n",
    "    dp[pat] = count\n",
    "    return dp[pat]\n",
    "\n",
    "\n",
    "pat = \"BABABCBADCD\"  # BAB|ABCBA|DCD.\n",
    "# pat = \"BABABCBADCEDE\"  # BAB|ABCBA|D|C|EDE\n",
    "# pat = \"ABCD\"\n",
    "# pat = \"ABCBA\"\n",
    "solve(pat, \"\", dict())\n",
    "# O*n^3"
   ]
  },
  {
   "cell_type": "markdown",
   "metadata": {},
   "source": [
    "Calculate the sum of all elements in a submatrix in constant time"
   ]
  },
  {
   "attachments": {
    "image.png": {
     "image/png": "[encoded data removed]"
    }
   },
   "cell_type": "markdown",
   "metadata": {},
   "source": [
    "![image.png](attachment:image.png)"
   ]
  },
  {
   "attachments": {
    "image.png": {
     "image/png": "[encoded data removed]"
    }
   },
   "cell_type": "markdown",
   "metadata": {},
   "source": [
    "![image.png](attachment:image.png)"
   ]
  },
  {
   "cell_type": "code",
   "execution_count": 16,
   "metadata": {},
   "outputs": [
    {
     "name": "stdout",
     "output_type": "stream",
     "text": [
      "38\n"
     ]
    }
   ],
   "source": [
    "def preprocess(mat):\n",
    "    # `M × N` matrix\n",
    "    (M, N) = (len(mat), len(mat[0]))\n",
    "\n",
    "    # preprocess the matrix `mat` such that `s[i][j]` stores\n",
    "    # sum of elements in the matrix from (0, 0) to (i, j)\n",
    "    s = [[0 for x in range(len(mat[0]))] for y in range(len(mat))]\n",
    "    s[0][0] = mat[0][0]\n",
    "\n",
    "    # preprocess the first row\n",
    "    for j in range(1, len(mat[0])):\n",
    "        s[0][j] = mat[0][j] + s[0][j - 1]\n",
    "\n",
    "    # preprocess the first column\n",
    "    for i in range(1, len(mat)):\n",
    "        s[i][0] = mat[i][0] + s[i - 1][0]\n",
    "\n",
    "    # preprocess the rest of the matrix\n",
    "    for i in range(1, len(mat)):\n",
    "        for j in range(1, len(mat[0])):\n",
    "            s[i][j] = mat[i][j] + s[i - 1][j] + s[i][j - 1] - s[i - 1][j - 1]\n",
    "\n",
    "    return s\n",
    "\n",
    "\n",
    "# Calculate the sum of all elements in a submatrix in constant time\n",
    "def findSubmatrixSum(mat, p, q, r, s):\n",
    "\n",
    "    # base case\n",
    "    if not mat or not len(mat):\n",
    "        return 0\n",
    "\n",
    "    # preprocess the matrix\n",
    "    mat = preprocess(mat)\n",
    "\n",
    "    # `total` is `mat[r][s] - mat[r][q-1] - mat[p-1][s] + mat[p-1][q-1]`\n",
    "    total = mat[r][s]\n",
    "\n",
    "    if q - 1 >= 0:\n",
    "        total -= mat[r][q - 1]\n",
    "\n",
    "    if p - 1 >= 0:\n",
    "        total -= mat[p - 1][s]\n",
    "\n",
    "    if p - 1 >= 0 and q - 1 >= 0:\n",
    "        total += mat[p - 1][q - 1]\n",
    "\n",
    "    return total\n",
    "\n",
    "\n",
    "if __name__ == \"__main__\":\n",
    "\n",
    "    mat = [\n",
    "        [0, 2, 5, 4, 1],\n",
    "        [4, 8, 2, 3, 7],\n",
    "        [6, 3, 4, 6, 2],\n",
    "        [7, 3, 1, 8, 3],\n",
    "        [1, 5, 7, 9, 4],\n",
    "    ]\n",
    "\n",
    "    # (p, q) and (r, s) represent top-left and bottom-right\n",
    "    # coordinates of the submatrix\n",
    "    p = q = 1\n",
    "    r = s = 3\n",
    "\n",
    "    # calculate the submatrix sum\n",
    "    print(findSubmatrixSum(mat, p, q, r, s))"
   ]
  },
  {
   "cell_type": "markdown",
   "metadata": {},
   "source": [
    "Check if a string matches with the given wildcard pattern\n",
    "\n",
    "If pattern[m] == *, if * matches the current character in the input string, move to the next character in the string; otherwise, ignore the * character and move to the next character in the pattern.\n",
    "\n",
    "If pattern[m] == ?, ignore the current characters of both string and pattern and check if pattern[0…m-1] matches word[0…n-1].\n",
    "\n",
    "If the current character in the pattern is not a wildcard character, it should match the current character in the input string."
   ]
  },
  {
   "cell_type": "code",
   "execution_count": 17,
   "metadata": {},
   "outputs": [
    {
     "name": "stdout",
     "output_type": "stream",
     "text": [
      "True\n",
      "True\n",
      "True\n",
      "False\n",
      "True\n"
     ]
    }
   ],
   "source": [
    "# Recursive function to check if the input matches\n",
    "# with a given wildcard pattern\n",
    "def isMatch(word, n, pattern, m):\n",
    "\n",
    "    # end of the pattern is reached\n",
    "    if m == len(pattern):\n",
    "        # return true only if the end of input is also reached\n",
    "        return n == len(word)\n",
    "\n",
    "    # if the input reaches its end, return when the\n",
    "    # remaining characters in the pattern are all '*'\n",
    "    if n == len(word):\n",
    "        for i in range(m, len(pattern)):\n",
    "            if pattern[i] != \"*\":\n",
    "                return False\n",
    "\n",
    "        return True\n",
    "\n",
    "    # if the current wildcard character is '?' or the current character in\n",
    "    # the pattern is the same as the current character in the input string\n",
    "    if pattern[m] == \"?\" or pattern[m] == word[n]:\n",
    "        # move to the next character in the pattern and the input string\n",
    "        return isMatch(word, n + 1, pattern, m + 1)\n",
    "\n",
    "    # if the current wildcard character is '*'\n",
    "    if pattern[m] == \"*\":\n",
    "        # move to the next character in the input or\n",
    "        # ignore '*' and move to the next character in the pattern\n",
    "        return isMatch(word, n + 1, pattern, m) or isMatch(word, n, pattern, m + 1)\n",
    "\n",
    "    # we reach here when the current character in the pattern is not a\n",
    "    # wildcard character, and it doesn't match the current\n",
    "    # character in the input string\n",
    "    return False\n",
    "\n",
    "\n",
    "# Check if a string matches with a given wildcard pattern\n",
    "def isMatching(word, pattern):\n",
    "    return isMatch(word, 0, pattern, 0)\n",
    "\n",
    "\n",
    "if __name__ == \"__main__\":\n",
    "\n",
    "    print(isMatching(\"XYXZZXY\", \"X***Y\"))  # True\n",
    "    print(isMatching(\"XYXZZXY\", \"X*ZZ??\"))  # True\n",
    "    print(isMatching(\"XYXZZXY\", \"*X*X?\"))  # True\n",
    "    print(isMatching(\"XYXZZXY\", \"X***X\"))  # False\n",
    "    print(isMatching(\"XYXZZXY\", \"*\"))  # True"
   ]
  },
  {
   "cell_type": "code",
   "execution_count": 18,
   "metadata": {},
   "outputs": [
    {
     "name": "stdout",
     "output_type": "stream",
     "text": [
      "True\n",
      "True\n",
      "True\n",
      "False\n",
      "True\n"
     ]
    }
   ],
   "source": [
    "# Recursive function to check if the input string matches\n",
    "# with a given wildcard pattern\n",
    "def isMatch(word, pattern, n, m, lookup):\n",
    "\n",
    "    # construct a unique key from dynamic elements of the input\n",
    "    key = (n, m)\n",
    "\n",
    "    # if the subproblem is seen before\n",
    "    if key in lookup:\n",
    "        return lookup.get(key)\n",
    "\n",
    "    # since the subproblem is seen for the first time, solve it and\n",
    "    # store its result in a dictionary\n",
    "\n",
    "    # end of the pattern is reached\n",
    "    if m == len(pattern):\n",
    "        # return true only if the end of the input string is also reached\n",
    "        lookup[key] = n == len(word)\n",
    "        return n == len(word)\n",
    "\n",
    "    # if the input string reaches its end, return when the\n",
    "    # remaining characters in the pattern are all '*'\n",
    "\n",
    "    if n == len(word):\n",
    "        for i in range(m, len(pattern)):\n",
    "            if pattern[i] != \"*\":\n",
    "                lookup[key] = False\n",
    "                return False\n",
    "\n",
    "        lookup[key] = True\n",
    "        return True\n",
    "\n",
    "    # if the current wildcard character is '?' or the current character in\n",
    "    # the pattern is the same as the current character in the input string\n",
    "\n",
    "    if pattern[m] == \"?\" or pattern[m] == word[n]:\n",
    "\n",
    "        # move to the next character in the pattern and the input string\n",
    "        lookup[key] = isMatch(word, pattern, n + 1, m + 1, lookup)\n",
    "\n",
    "    # if the current wildcard character is '*'\n",
    "    elif pattern[m] == \"*\":\n",
    "\n",
    "        # move to the next character in the input string or\n",
    "        # ignore '*' and move to the next character in the pattern\n",
    "\n",
    "        lookup[key] = isMatch(word, pattern, n + 1, m, lookup) or isMatch(\n",
    "            word, pattern, n, m + 1, lookup\n",
    "        )\n",
    "\n",
    "    else:\n",
    "\n",
    "        # we reach here when the current character in the pattern is not a\n",
    "        # wildcard character, and it doesn't match the current\n",
    "        # character in the input string\n",
    "\n",
    "        lookup[key] = False\n",
    "\n",
    "    return lookup.get(key)\n",
    "\n",
    "\n",
    "# Check if a string matches with a given wildcard pattern\n",
    "def isMatching(word, pattern):\n",
    "    lookup = {}\n",
    "    return isMatch(word, pattern, 0, 0, lookup)\n",
    "\n",
    "\n",
    "if __name__ == \"__main__\":\n",
    "\n",
    "    print(isMatching(\"XYXZZXY\", \"X***Y\"))  # True\n",
    "    print(isMatching(\"XYXZZXY\", \"X*ZZ??\"))  # True\n",
    "    print(isMatching(\"XYXZZXY\", \"*X*X?\"))  # True\n",
    "    print(isMatching(\"XYXZZXY\", \"X***X\"))  # False\n",
    "    print(isMatching(\"XYXZZXY\", \"*\"))  # True"
   ]
  },
  {
   "cell_type": "code",
   "execution_count": 19,
   "metadata": {},
   "outputs": [
    {
     "name": "stdout",
     "output_type": "stream",
     "text": [
      "Match\n"
     ]
    }
   ],
   "source": [
    "# Function that matches an input string with a given wildcard pattern\n",
    "def isMatch(word, pattern):\n",
    "\n",
    "    # get length of string and wildcard pattern\n",
    "    n = len(word)\n",
    "    m = len(pattern)\n",
    "\n",
    "    # create a DP lookup table\n",
    "    T = [[False for x in range(m + 1)] for y in range(n + 1)]\n",
    "\n",
    "    # if both pattern and string are empty: match\n",
    "    T[0][0] = True\n",
    "\n",
    "    # handle empty string case (i == 0)\n",
    "    for j in range(1, m + 1):\n",
    "        if pattern[j - 1] == \"*\":\n",
    "            T[0][j] = T[0][j - 1]\n",
    "\n",
    "    # build a matrix in a bottom-up manner\n",
    "    for i in range(1, n + 1):\n",
    "        for j in range(1, m + 1):\n",
    "            if pattern[j - 1] == \"*\":\n",
    "                T[i][j] = T[i - 1][j] or T[i][j - 1]\n",
    "            elif pattern[j - 1] == \"?\" or word[i - 1] == pattern[j - 1]:\n",
    "                T[i][j] = T[i - 1][j - 1]\n",
    "\n",
    "    # last cell stores the answer\n",
    "    return T[n][m]\n",
    "\n",
    "\n",
    "# Wildcard Pattern Matching Implementation in Python\n",
    "if __name__ == \"__main__\":\n",
    "\n",
    "    word = \"xyxzzxy\"\n",
    "    pattern = \"x***x?\"\n",
    "\n",
    "    if isMatch(word, pattern):\n",
    "        print(\"Match\")\n",
    "    else:\n",
    "        print(\"No Match\")"
   ]
  },
  {
   "cell_type": "markdown",
   "metadata": {},
   "source": [
    "Activity Selection Problem using Dynamic Programming"
   ]
  },
  {
   "cell_type": "code",
   "execution_count": 20,
   "metadata": {},
   "outputs": [
    {
     "name": "stdout",
     "output_type": "stream",
     "text": [
      "[(1, 4), (12, 14), (5, 7), (8, 11)]\n"
     ]
    }
   ],
   "source": [
    "# Activity selection problem\n",
    "def selectActivity(activities):\n",
    "\n",
    "    # `k` keeps track of the index of the last selected activity\n",
    "    k = 0\n",
    "\n",
    "    # set to store the selected activities index\n",
    "    out = set()\n",
    "\n",
    "    # select 0 as the first activity\n",
    "    if len(activities):\n",
    "        out.add(0)\n",
    "\n",
    "    # sort the activities according to their finishing time\n",
    "    activities.sort(key=lambda x: x[1])\n",
    "\n",
    "    # start iterating from the second element of the\n",
    "    # list up to its last element\n",
    "    for i in range(1, len(activities)):\n",
    "\n",
    "        # if the start time of the i'th activity is greater or equal\n",
    "        # to the finish time of the last selected activity, it\n",
    "        # can be included in the activities list\n",
    "\n",
    "        if activities[i][0] >= activities[k][1]:\n",
    "            out.add(i)\n",
    "            k = i  # update `i` as the last selected activity\n",
    "\n",
    "    return out\n",
    "\n",
    "\n",
    "if __name__ == \"__main__\":\n",
    "\n",
    "    # List of given activities. Each activity has an identifier, a deadline, and a\n",
    "    # profit associated with it\n",
    "    activities = [\n",
    "        (1, 4),\n",
    "        (3, 5),\n",
    "        (0, 6),\n",
    "        (5, 7),\n",
    "        (3, 8),\n",
    "        (5, 9),\n",
    "        (6, 10),\n",
    "        (8, 11),\n",
    "        (8, 12),\n",
    "        (2, 13),\n",
    "        (12, 14),\n",
    "    ]\n",
    "\n",
    "    result = selectActivity(activities)\n",
    "    print([activities[i] for i in result])"
   ]
  },
  {
   "cell_type": "code",
   "execution_count": 21,
   "metadata": {},
   "outputs": [
    {
     "name": "stdout",
     "output_type": "stream",
     "text": [
      "The maximum number of non-conflicting activities is 4\n"
     ]
    }
   ],
   "source": [
    "# Returns the maximum count of non-conflicting activities that can be performed\n",
    "# by a single person\n",
    "def findNonConflictingActivitiesLength(activities):\n",
    "\n",
    "    # Sort the activities according to increasing order of their start time\n",
    "    activities.sort(key=lambda x: x[0])\n",
    "\n",
    "    # L[i] stores the maximum count of non-conflicting activities ending at i'th activity\n",
    "    L = [0] * len(activities)\n",
    "\n",
    "    for i in range(len(activities)):\n",
    "        # consider each `j` less than `i`\n",
    "        for j in range(i):\n",
    "            # L[i] = max(L[j]), where `activities[j].finish` is less than `activities[i].start`\n",
    "            if activities[j][1] < activities[i][0] and L[i] < L[j]:\n",
    "                L[i] = L[j]\n",
    "\n",
    "        # increment L[i] since it ends at the i'th activity\n",
    "        L[i] = L[i] + 1\n",
    "\n",
    "    # return the maximum activity length in the list\n",
    "    return max(L)\n",
    "\n",
    "\n",
    "if __name__ == \"__main__\":\n",
    "\n",
    "    # Each pair stores the start and the finish time of a activity\n",
    "    activities = [\n",
    "        (1, 4),\n",
    "        (3, 5),\n",
    "        (0, 6),\n",
    "        (5, 7),\n",
    "        (3, 8),\n",
    "        (5, 9),\n",
    "        (6, 10),\n",
    "        (8, 11),\n",
    "        (8, 12),\n",
    "        (2, 13),\n",
    "        (12, 14),\n",
    "    ]\n",
    "\n",
    "    print(\n",
    "        \"The maximum number of non-conflicting activities is\",\n",
    "        findNonConflictingActivitiesLength(activities),\n",
    "    )"
   ]
  },
  {
   "cell_type": "code",
   "execution_count": 22,
   "metadata": {},
   "outputs": [
    {
     "name": "stdout",
     "output_type": "stream",
     "text": [
      "The maximum number of non-conflicting activities is 4\n"
     ]
    }
   ],
   "source": [
    "# Returns the maximum count of non-conflicting activities that can be performed\n",
    "# by a single person\n",
    "def findNonConflictingActivitiesLength(activities):\n",
    "\n",
    "    # Sort the activities according to increasing order of their start time\n",
    "    activities.sort(key=lambda x: x[1])\n",
    "\n",
    "    # L[i] stores the maximum count of non-conflicting activities ending at i'th activity\n",
    "    L = [0] * len(activities)\n",
    "    L[0] = 1\n",
    "\n",
    "    for i in range(1, len(activities)):\n",
    "        # consider each `j` less than `i`\n",
    "        for j in range(i):\n",
    "            # L[i] = max(L[j]), where `activities[j].finish` is less than `activities[i].start`\n",
    "            if activities[j][1] < activities[i][0] and L[i] < L[j]:\n",
    "                L[i] = L[j]\n",
    "\n",
    "        # increment L[i] since it ends at the i'th activity\n",
    "        L[i] = L[i] + 1\n",
    "\n",
    "    # return the maximum activity length in the list\n",
    "    return max(L)\n",
    "\n",
    "\n",
    "if __name__ == \"__main__\":\n",
    "\n",
    "    # Each pair stores the start and the finish time of a activity\n",
    "    activities = [\n",
    "        (1, 4),\n",
    "        (3, 5),\n",
    "        (0, 6),\n",
    "        (5, 7),\n",
    "        (3, 8),\n",
    "        (5, 9),\n",
    "        (6, 10),\n",
    "        (8, 11),\n",
    "        (8, 12),\n",
    "        (2, 13),\n",
    "        (12, 14),\n",
    "    ]\n",
    "\n",
    "    print(\n",
    "        \"The maximum number of non-conflicting activities is\",\n",
    "        findNonConflictingActivitiesLength(activities),\n",
    "    )"
   ]
  },
  {
   "cell_type": "markdown",
   "metadata": {},
   "source": [
    "Weighted Interval Scheduling Problem"
   ]
  },
  {
   "cell_type": "code",
   "execution_count": 24,
   "metadata": {},
   "outputs": [
    {
     "name": "stdout",
     "output_type": "stream",
     "text": [
      "The maximum profit is 80\n"
     ]
    }
   ],
   "source": [
    "# A class to store a Job\n",
    "class Job:\n",
    "    def __init__(self, start, finish, profit):\n",
    "        self.start = start\n",
    "        self.finish = finish\n",
    "        self.profit = profit\n",
    "\n",
    "\n",
    "# Function to find the index of the last job which doesn't conflict with the given job.\n",
    "# It performs a linear search on the given list of jobs.\n",
    "def findLastNonConflictingJob(jobs, n):\n",
    "\n",
    "    # find the last job index whose finish time is less than or equal to the\n",
    "    # given job's start time\n",
    "    for i in reversed(range(n)):\n",
    "        if jobs[i].finish <= jobs[n].start:\n",
    "            return i\n",
    "\n",
    "    # return the negative index if no non-conflicting job is found\n",
    "    return -1\n",
    "\n",
    "\n",
    "# A recursive function to find the maximum profit subset of non-overlapping\n",
    "# jobs, which are sorted according to finish time\n",
    "def findMaxProfit(jobs, n):\n",
    "\n",
    "    # base case\n",
    "    if n < 0:\n",
    "        return 0\n",
    "\n",
    "    # return if only one item is remaining\n",
    "    if n == 0:\n",
    "        return jobs[0].profit\n",
    "\n",
    "    # find the index of the last non-conflicting job with the current job\n",
    "    index = findLastNonConflictingJob(jobs, n)\n",
    "\n",
    "    # include the current job and recur for non-conflicting jobs `[0, index]`\n",
    "    incl = jobs[n].profit + findMaxProfit(jobs, index)\n",
    "\n",
    "    # exclude the current job and recur for remaining items `[0, n-1]`\n",
    "    excl = findMaxProfit(jobs, n - 1)\n",
    "\n",
    "    # return the maximum profit by including or excluding the current job\n",
    "    return max(incl, excl)\n",
    "\n",
    "\n",
    "# Wrapper over `findMaxProfit()` function\n",
    "def maxProfit(jobs):\n",
    "\n",
    "    # sort jobs in increasing order of their finish times\n",
    "    jobs.sort(key=lambda x: x.finish)\n",
    "\n",
    "    return findMaxProfit(jobs, len(jobs) - 1)\n",
    "\n",
    "\n",
    "if __name__ == \"__main__\":\n",
    "\n",
    "    jobs = [\n",
    "        Job(0, 6, 60),\n",
    "        Job(1, 4, 30),\n",
    "        Job(3, 5, 10),\n",
    "        Job(5, 7, 30),\n",
    "        Job(5, 9, 50),\n",
    "        Job(7, 8, 10),\n",
    "    ]\n",
    "\n",
    "    print(\"The maximum profit is\", maxProfit(jobs))"
   ]
  },
  {
   "cell_type": "code",
   "execution_count": 25,
   "metadata": {},
   "outputs": [
    {
     "name": "stdout",
     "output_type": "stream",
     "text": [
      "The maximum profit is 80\n"
     ]
    }
   ],
   "source": [
    "# A class to store a Job\n",
    "class Job:\n",
    "    def __init__(self, start, finish, profit):\n",
    "        self.start = start\n",
    "        self.finish = finish\n",
    "        self.profit = profit\n",
    "\n",
    "\n",
    "# Function to find the index of the last job which doesn't conflict with the given job.\n",
    "# It performs a linear search on the given list of jobs.\n",
    "def findLastNonConflictingJob(jobs, n):\n",
    "\n",
    "    # find the last job index whose finish time is less than or equal to the\n",
    "    # given job's start time\n",
    "    for i in reversed(range(n)):\n",
    "        if jobs[i].finish <= jobs[n].start:\n",
    "            return i\n",
    "\n",
    "    # return the negative index if no non-conflicting job is found\n",
    "    return -1\n",
    "\n",
    "\n",
    "# Function to find the maximum profit of non-overlapping jobs using DP\n",
    "def findMaxProfit(jobs):\n",
    "\n",
    "    # base case\n",
    "    if not jobs:\n",
    "        return 0\n",
    "\n",
    "    # sort jobs in increasing order of their finish times\n",
    "    jobs.sort(key=lambda x: x.finish)\n",
    "\n",
    "    # construct a lookup table where the i'th index stores the maximum profit\n",
    "    # for the first `i` jobs\n",
    "    maxProfit = [None] * len(jobs)\n",
    "\n",
    "    # maximum profit gained by including the first job\n",
    "    maxProfit[0] = jobs[0].profit\n",
    "\n",
    "    # fill the `maxProfit` table in a bottom-up manner from the second index\n",
    "    for i in range(1, len(jobs)):\n",
    "\n",
    "        # find the index of the last non-conflicting job with the current job\n",
    "        index = findLastNonConflictingJob(jobs, i)\n",
    "\n",
    "        # include the current job with its non-conflicting jobs\n",
    "        incl = jobs[i].profit\n",
    "        if index != -1:\n",
    "            incl += maxProfit[index]\n",
    "\n",
    "        # store the maximum profit by including or excluding the current job\n",
    "        maxProfit[i] = max(incl, maxProfit[i - 1])\n",
    "\n",
    "    # return maximum profit\n",
    "    return maxProfit[-1]\n",
    "\n",
    "\n",
    "if __name__ == \"__main__\":\n",
    "\n",
    "    jobs = [\n",
    "        Job(0, 6, 60),\n",
    "        Job(1, 4, 30),\n",
    "        Job(3, 5, 10),\n",
    "        Job(5, 7, 30),\n",
    "        Job(5, 9, 50),\n",
    "        Job(7, 8, 10),\n",
    "    ]\n",
    "\n",
    "    print(\"The maximum profit is\", findMaxProfit(jobs))"
   ]
  },
  {
   "cell_type": "code",
   "execution_count": 23,
   "metadata": {},
   "outputs": [
    {
     "name": "stdout",
     "output_type": "stream",
     "text": [
      "The maximum profit is 80\n"
     ]
    }
   ],
   "source": [
    "# A class to store a Job\n",
    "class Job:\n",
    "    def __init__(self, start, finish, profit):\n",
    "        self.start = start\n",
    "        self.finish = finish\n",
    "        self.profit = profit\n",
    "\n",
    "\n",
    "# Function to find the maximum profit of non-overlapping jobs using LIS\n",
    "def findMaxProfit(jobs):\n",
    "\n",
    "    # base case\n",
    "    if not jobs:\n",
    "        return 0\n",
    "\n",
    "    # sort the jobs according to increasing order of their start time\n",
    "    jobs.sort(key=lambda x: x.start)\n",
    "\n",
    "    # `maxProfit[i]` stores the maximum profit of non-conflicting jobs\n",
    "    # ending at the i'th job\n",
    "    maxProfit = [None] * len(jobs)\n",
    "\n",
    "    # consider every job\n",
    "    for i in range(len(jobs)):\n",
    "        # initialize current profit to 0\n",
    "        maxProfit[i] = 0\n",
    "\n",
    "        # consider each `j` less than `i`\n",
    "        for j in range(i):\n",
    "            # if the j'th job is not conflicting with the i'th job and\n",
    "            # is leading to the maximum profit\n",
    "            if jobs[j].finish <= jobs[i].start and maxProfit[i] < maxProfit[j]:\n",
    "                maxProfit[i] = maxProfit[j]\n",
    "\n",
    "        # end the current task with i'th job\n",
    "        maxProfit[i] += jobs[i].profit\n",
    "\n",
    "    # return the maximum profit\n",
    "    return max(maxProfit)\n",
    "\n",
    "\n",
    "if __name__ == \"__main__\":\n",
    "\n",
    "    jobs = [\n",
    "        Job(0, 6, 60),\n",
    "        Job(5, 9, 50),\n",
    "        Job(1, 4, 30),\n",
    "        Job(5, 7, 30),\n",
    "        Job(3, 5, 10),\n",
    "        Job(7, 8, 10),\n",
    "    ]\n",
    "\n",
    "    print(\"The maximum profit is\", findMaxProfit(jobs))"
   ]
  },
  {
   "cell_type": "code",
   "execution_count": 26,
   "metadata": {},
   "outputs": [
    {
     "name": "stdout",
     "output_type": "stream",
     "text": [
      "The maximum profit is 80\n"
     ]
    }
   ],
   "source": [
    "# A class to store a Job\n",
    "class Job:\n",
    "    def __init__(self, start, finish, profit):\n",
    "        self.start = start\n",
    "        self.finish = finish\n",
    "        self.profit = profit\n",
    "\n",
    "\n",
    "# Function to perform a binary search on the given jobs, which are sorted\n",
    "# by finish time. The function returns the index of the last job, which\n",
    "# doesn't conflict with the given job, i.e., whose finish time is\n",
    "# less than or equal to the given job's start time.\n",
    "def findLastNonConflictingJob(jobs, n):\n",
    "\n",
    "    # search space\n",
    "    low = 0\n",
    "    high = n\n",
    "\n",
    "    # iterate till the search space is exhausted\n",
    "    while low <= high:\n",
    "        mid = (low + high) // 2\n",
    "        if jobs[mid].finish <= jobs[n].start:\n",
    "            if jobs[mid + 1].finish <= jobs[n].start:\n",
    "                low = mid + 1\n",
    "            else:\n",
    "                return mid\n",
    "        else:\n",
    "            high = mid - 1\n",
    "\n",
    "    # return the negative index if no non-conflicting job is found\n",
    "    return -1\n",
    "\n",
    "\n",
    "# Function to find the maximum profit of non-overlapping jobs using DP\n",
    "def findMaxProfit(jobs):\n",
    "\n",
    "    # base case\n",
    "    if not jobs:\n",
    "        return 0\n",
    "\n",
    "    # sort jobs in increasing order of their finish times\n",
    "    jobs.sort(key=lambda x: x.finish)\n",
    "\n",
    "    # get the number of jobs\n",
    "    n = len(jobs)\n",
    "\n",
    "    # construct a lookup table where the i'th index stores the maximum profit\n",
    "    # for the first `i` jobs\n",
    "    maxProfit = [None] * n\n",
    "\n",
    "    # maximum profit gained by including the first job\n",
    "    maxProfit[0] = jobs[0].profit\n",
    "\n",
    "    # fill the `maxProfit` table in a bottom-up manner from the second index\n",
    "    for i in range(1, n):\n",
    "\n",
    "        # find the index of the last non-conflicting job with the current job\n",
    "        index = findLastNonConflictingJob(jobs, i)\n",
    "\n",
    "        # include the current job with its non-conflicting jobs\n",
    "        incl = jobs[i].profit\n",
    "        if index != -1:\n",
    "            incl += maxProfit[index]\n",
    "\n",
    "        # store the maximum profit by including or excluding the current job\n",
    "        maxProfit[i] = max(incl, maxProfit[i - 1])\n",
    "\n",
    "    # return maximum profit\n",
    "    return maxProfit[n - 1]\n",
    "\n",
    "\n",
    "if __name__ == \"__main__\":\n",
    "\n",
    "    jobs = [\n",
    "        Job(0, 6, 60),\n",
    "        Job(1, 4, 30),\n",
    "        Job(3, 5, 10),\n",
    "        Job(5, 7, 30),\n",
    "        Job(5, 9, 50),\n",
    "        Job(7, 8, 10),\n",
    "    ]\n",
    "\n",
    "    print(\"The maximum profit is\", findMaxProfit(jobs))"
   ]
  },
  {
   "cell_type": "code",
   "execution_count": null,
   "metadata": {},
   "outputs": [],
   "source": [
    "\"\"\"\n",
    "    Time Complexity: O(n*m)\n",
    "    Space Complexity: O(n*m)\n",
    "\n",
    "    Where 'n' is length of string 's1' and 'm' is length of string 's2'.\n",
    "\"\"\"\n",
    "\n",
    "from typing import List\n",
    "\n",
    "\n",
    "# Function to calculate 'dp' array for LCS.\n",
    "def calculateLCS(n: int, m: int, s1: str, s2: str) -> List[List[int]]:\n",
    "    dp = [[0] * (m + 1) for _ in range(n + 1)]\n",
    "    for i in range(1, n + 1):\n",
    "        for j in range(1, m + 1):\n",
    "            dp[i][j] = max(dp[i - 1][j], dp[i][j - 1])\n",
    "            if s1[i - 1] == s2[j - 1]:\n",
    "                dp[i][j] = max(1 + dp[i - 1][j - 1], dp[i][j])\n",
    "    return dp\n",
    "\n",
    "\n",
    "def findLCS(n: int, m: int, s1: str, s2: str) -> str:\n",
    "\n",
    "    dp = calculateLCS(n, m, s1, s2)\n",
    "    i, j = n, m\n",
    "    lcs = []\n",
    "\n",
    "    #  Moving through 'dp[i][j]', if s1[i]==s2[j], the current character is a part\n",
    "    #  of 'lcs', else we move to the cell from which dp[i][j] got it's value, i.e.\n",
    "    #  maximum of dp[i-1][j] and dp[i][j-1].\n",
    "    while i > 0 and j > 0:\n",
    "        if s1[i - 1] == s2[j - 1]:\n",
    "            lcs.append(s1[i - 1])\n",
    "            i -= 1\n",
    "            j -= 1\n",
    "        else:\n",
    "            if dp[i - 1][j] > dp[i][j - 1]:\n",
    "                i -= 1\n",
    "            else:\n",
    "                j -= 1\n",
    "    lcs.reverse()\n",
    "    return \"\".join(lcs)"
   ]
  },
  {
   "cell_type": "markdown",
   "metadata": {},
   "source": []
  },
  {
   "cell_type": "code",
   "execution_count": null,
   "metadata": {},
   "outputs": [],
   "source": [
    "#  The strategy to maximize profit should be to pick up jobs that offer higher profits. Hence we should sort the jobs\n",
    "# in descending order of profit. Now say if a job has a deadline of 4 we can perform it anytime between day 1-4, but it is preferable to perform the job on its last day.\n",
    "# This leaves enough empty slots on the previous days to perform other jobs.\n",
    "def solve(jobs):\n",
    "    jobs.sort(key=lambda x: x[2], reverse=True)\n",
    "    maxi = jobs[0][1]\n",
    "    for i in range(1, len(jobs)):\n",
    "        maxi = max(maxi, jobs[i][1])\n",
    "\n",
    "    slot = [-1] * (maxi + 1)\n",
    "    countJobs = 0\n",
    "    jobProfit = 0\n",
    "\n",
    "    for i in range(len(jobs)):\n",
    "        for j in range(jobs[i][1], 0, -1):\n",
    "            if slot[j] == -1:\n",
    "                slot[j] = i\n",
    "                countJobs += 1\n",
    "                jobProfit += jobs[i][2]\n",
    "                break\n",
    "\n",
    "    return countJobs, jobProfit\n",
    "\n",
    "\n",
    "# jobs = [job(1, 4, 20), job(2, 1, 10), job(3, 2, 40), job(4, 2, 30)]\n",
    "# 3, 90"
   ]
  },
  {
   "cell_type": "markdown",
   "metadata": {},
   "source": [
    "Maximum sum two non-overlapping subarrays of given size\n",
    "\n",
    "First we store the prefix sum in a separate array so that any subarray sum can be calculated in constant time. \n",
    "\n",
    "After that we will initialize our two subarray from (N – 2K) and (N – K) indices, where N is the length of the array and K is\n",
    "\n",
    " required subarray length. Then we will move from (N – 2K) index towards 0"
   ]
  },
  {
   "cell_type": "code",
   "execution_count": null,
   "metadata": {},
   "outputs": [],
   "source": [
    "# Python3 program to get maximum Sum two\n",
    "# non-overlapping subarrays of same specified length\n",
    "\n",
    "\n",
    "# Utility method to get Sum of\n",
    "# subarray from index i to j\n",
    "def getSubarraySum(Sum, i, j):\n",
    "\n",
    "    if i == 0:\n",
    "        return Sum[j]\n",
    "    else:\n",
    "        return Sum[j] - Sum[i - 1]\n",
    "\n",
    "\n",
    "# Method prints two non-overlapping subarrays\n",
    "# of length K whose Sum is maximum\n",
    "def maximumSumTwoNonOverlappingSubarray(arr, N, K):\n",
    "\n",
    "    Sum = [None] * N\n",
    "\n",
    "    # filling prefix Sum array\n",
    "    Sum[0] = arr[0]\n",
    "    for i in range(1, N):\n",
    "        Sum[i] = Sum[i - 1] + arr[i]\n",
    "\n",
    "    # Initializing subarrays from\n",
    "    # (N-2K) and (N-K) indices\n",
    "    resIndex = (N - 2 * K, N - K)\n",
    "\n",
    "    # initializing result Sum from above subarray Sums\n",
    "    maxSum2Subarray = getSubarraySum(Sum, N - 2 * K, N - K - 1) + getSubarraySum(\n",
    "        Sum, N - K, N - 1\n",
    "    )\n",
    "\n",
    "    # storing second subarray maximum and its starting index\n",
    "    secondSubarrayMax = (N - K, getSubarraySum(Sum, N - K, N - 1))\n",
    "\n",
    "    # looping from N-2K-1 towards 0\n",
    "    for i in range(N - 2 * K - 1, -1, -1):\n",
    "\n",
    "        # get subarray Sum from (current index + K)\n",
    "        cur = getSubarraySum(Sum, i + K, i + 2 * K - 1)\n",
    "\n",
    "        # if (current index + K) Sum is more\n",
    "        # than update secondSubarrayMax\n",
    "        if cur >= secondSubarrayMax[1]:\n",
    "            secondSubarrayMax = (i + K, cur)\n",
    "\n",
    "        # now getting complete Sum (Sum of both subarrays)\n",
    "        cur = getSubarraySum(Sum, i, i + K - 1) + secondSubarrayMax[1]\n",
    "\n",
    "        # If it is more then update main result\n",
    "        if cur >= maxSum2Subarray:\n",
    "\n",
    "            maxSum2Subarray = cur\n",
    "            resIndex = (i, secondSubarrayMax[0])\n",
    "\n",
    "    # printing actual subarrays\n",
    "    for i in range(resIndex[0], resIndex[0] + K):\n",
    "        print(arr[i], end=\" \")\n",
    "    print()\n",
    "\n",
    "    for i in range(resIndex[1], resIndex[1] + K):\n",
    "        print(arr[i], end=\" \")\n",
    "    print()\n",
    "\n",
    "\n",
    "# Driver Code\n",
    "if __name__ == \"__main__\":\n",
    "\n",
    "    arr = [2, 5, 1, 2, 7, 3, 0]\n",
    "    N = len(arr)\n",
    "\n",
    "    # K will be given such that (N >= 2K)\n",
    "    K = 2\n",
    "\n",
    "    maximumSumTwoNonOverlappingSubarray(arr, N, K)\n",
    "\n",
    "# This code is contributed by Rituraj Jain"
   ]
  },
  {
   "cell_type": "markdown",
   "metadata": {},
   "source": [
    "Let ‘A[i]’ be the cost to reverse the word ‘S[i]’. Let ‘C’ be the minimum total cost to make the array ‘S’ good.\n",
    "\n",
    "good if they are in lexicographical order\n",
    "\n",
    "Calculate the value of ‘C’. If it’s impossible to make the array good, return the integer ‘-1"
   ]
  },
  {
   "cell_type": "code",
   "execution_count": 1,
   "metadata": {},
   "outputs": [
    {
     "name": "stdout",
     "output_type": "stream",
     "text": [
      "['als', 'brog', 'hqt', 'qsp', 'whql', 'yam']\n",
      "['als', 'gorb', 'hqt', 'qsp', 'whql', 'yam']\n",
      "['als', 'brog', 'hqt', 'psq', 'whql', 'yam']\n",
      "['als', 'gorb', 'hqt', 'psq', 'whql', 'yam']\n"
     ]
    },
    {
     "data": {
      "text/plain": [
       "13"
      ]
     },
     "execution_count": 1,
     "metadata": {},
     "output_type": "execute_result"
    }
   ],
   "source": [
    "a = [5, 4, 4, 2, 3, 5]\n",
    "s = [\"sla\", \"brog\", \"hqt\", \"qsp\", \"lqhw\", \"may\"]\n",
    "\n",
    "\n",
    "def issorted(s):\n",
    "\n",
    "    prev = s[0]\n",
    "    for i in range(1, len(s)):\n",
    "        if s[i] < prev:\n",
    "            return False\n",
    "        prev = s[i]\n",
    "    return True\n",
    "\n",
    "\n",
    "def solve(i, a, s, t):\n",
    "\n",
    "    if i < 0 and issorted(s):\n",
    "        print(s)\n",
    "        return t\n",
    "\n",
    "    if i < 0:\n",
    "        return float(\"inf\")\n",
    "\n",
    "    notdo = solve(i - 1, a, s, t)\n",
    "\n",
    "    s[i] = s[i][::-1]\n",
    "    t = t + a[i]\n",
    "    do = solve(i - 1, a, s, t)\n",
    "    s[i] = s[i][::-1]\n",
    "    t = t - a[i]\n",
    "\n",
    "    return min(notdo, do)\n",
    "\n",
    "\n",
    "solve(5, a, s, 0)"
   ]
  },
  {
   "cell_type": "code",
   "execution_count": null,
   "metadata": {},
   "outputs": [],
   "source": []
  },
  {
   "cell_type": "code",
   "execution_count": null,
   "metadata": {},
   "outputs": [],
   "source": [
    "from typing import *\n",
    "\n",
    "a = [5, 4, 4, 2, 3, 5]\n",
    "s = [\"sla\", \"brog\", \"hqt\", \"qsp\", \"lqhw\", \"may\"]\n",
    "\n",
    "\n",
    "def minimumCost(n: int, a: List[int], s: List[str]) -> int:\n",
    "    # Write your code here.\n",
    "    dp = [[float(\"Inf\")] * 2 for i in range(n)]\n",
    "\n",
    "    dp[0][0] = 0\n",
    "\n",
    "    dp[0][1] = a[0]\n",
    "\n",
    "    rev_s = [i[::-1] for i in s]\n",
    "\n",
    "    for i in range(1, n):\n",
    "\n",
    "        for j in range(2):\n",
    "\n",
    "            curStr = s[i] if j == 0 else rev_s[i]\n",
    "\n",
    "            curCost = 0 if j == 0 else a[i]\n",
    "\n",
    "            if curStr >= s[i - 1]:\n",
    "\n",
    "                dp[i][j] = min(dp[i][j], dp[i - 1][0] + curCost)\n",
    "\n",
    "            if curStr >= rev_s[i - 1]:\n",
    "\n",
    "                dp[i][j] = min(dp[i][j], dp[i - 1][1] + curCost)\n",
    "\n",
    "    res = min(dp[n - 1][0], dp[n - 1][1])\n",
    "\n",
    "    return res if res != float(\"Inf\") else -1\n",
    "\n",
    "\n",
    "minimumCost(len(a), a, s)"
   ]
  }
 ],
 "metadata": {
  "kernelspec": {
   "display_name": "Python 3",
   "language": "python",
   "name": "python3"
  },
  "language_info": {
   "codemirror_mode": {
    "name": "ipython",
    "version": 3
   },
   "file_extension": ".py",
   "mimetype": "text/x-python",
   "name": "python",
   "nbconvert_exporter": "python",
   "pygments_lexer": "ipython3",
   "version": "3.11.6"
  }
 },
 "nbformat": 4,
 "nbformat_minor": 2
}
