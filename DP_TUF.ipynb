{
 "cells": [
  {
   "cell_type": "code",
   "execution_count": 1,
   "metadata": {},
   "outputs": [],
   "source": [
    "def stair(n):\n",
    "    if n == 0:\n",
    "        return 1\n",
    "    one = stair(n - 1)\n",
    "    two = 0\n",
    "    if n > 1:\n",
    "        two = stair(n - 2)\n",
    "    return one + two"
   ]
  },
  {
   "cell_type": "code",
   "execution_count": 3,
   "metadata": {},
   "outputs": [
    {
     "data": {
      "text/plain": [
       "5"
      ]
     },
     "execution_count": 3,
     "metadata": {},
     "output_type": "execute_result"
    }
   ],
   "source": [
    "stair(4)"
   ]
  },
  {
   "cell_type": "code",
   "execution_count": 6,
   "metadata": {},
   "outputs": [
    {
     "data": {
      "text/plain": [
       "210"
      ]
     },
     "execution_count": 6,
     "metadata": {},
     "output_type": "execute_result"
    }
   ],
   "source": [
    "def ninja(points, day, last):\n",
    "    if day == 0:\n",
    "        # last day\n",
    "        maxi = 0\n",
    "        for i in range(3):\n",
    "            if i != last:\n",
    "                maxi = max(maxi, points[day][i])\n",
    "        return maxi\n",
    "    maxi = 0\n",
    "    for i in range(3):\n",
    "        if i != last:\n",
    "            current_activity = points[day][i] + ninja(points, day - 1, i)\n",
    "            maxi = max(maxi, current_activity)\n",
    "    return maxi\n",
    "\n",
    "\n",
    "points = [[10, 40, 70], [20, 50, 80], [30, 60, 90]]\n",
    "ninja(points, 2, -1)"
   ]
  },
  {
   "cell_type": "code",
   "execution_count": 6,
   "metadata": {},
   "outputs": [],
   "source": [
    "maze = [[0, 0, 0, 0], [0, -1, 0, 0], [0, 0, 0, 0]]\n",
    "\n",
    "\n",
    "def paths(maze, i, j):\n",
    "    if i == 0 and j == 0:  # start point cant be -1\n",
    "        return 1\n",
    "    if i < 0 or j < 0 or maze[i][j] == -1:\n",
    "        return 0\n",
    "    up = paths(maze, i - 1, j)  # if maze[i][j] != -1 else 0\n",
    "    left = paths(maze, i, j - 1)  # if maze[i][j] != -1 else 0\n",
    "    return up + left"
   ]
  },
  {
   "cell_type": "code",
   "execution_count": 7,
   "metadata": {},
   "outputs": [
    {
     "data": {
      "text/plain": [
       "4"
      ]
     },
     "execution_count": 7,
     "metadata": {},
     "output_type": "execute_result"
    }
   ],
   "source": [
    "paths(maze, 2, 3)"
   ]
  },
  {
   "cell_type": "code",
   "execution_count": 35,
   "metadata": {},
   "outputs": [
    {
     "name": "stdout",
     "output_type": "stream",
     "text": [
      "4\n"
     ]
    }
   ],
   "source": [
    "def mazeObstaclesUtil(n, m, maze, dp):\n",
    "    # Loop through each cell in the maze\n",
    "    # for i in range(n):\n",
    "    #     dp[i][0] = 1\n",
    "    # for j in range(m):\n",
    "    #     dp[0][j] = 1\n",
    "\n",
    "    dp[0][0] = 1\n",
    "\n",
    "    # column 0\n",
    "    for i in range(1, n):\n",
    "        if maze[i][0] == 0:\n",
    "            dp[i][0] = dp[i - 1][0]\n",
    "\n",
    "    # row 0\n",
    "    for j in range(1, m):\n",
    "        if maze[0][j] == 0:\n",
    "            dp[0][j] = dp[0][j - 1]\n",
    "\n",
    "    for i in range(1, n):\n",
    "        for j in range(1, m):\n",
    "\n",
    "            # Calculate the total number of paths to reach this cell and store it in dp[i][j].\n",
    "            if maze[i][j] == -1:\n",
    "                dp[i][j] = 0\n",
    "            else:\n",
    "\n",
    "                dp[i][j] = dp[i - 1][j] + dp[i][j - 1]\n",
    "\n",
    "    # The result is stored in the bottom-right corner of the DP table.\n",
    "    return dp[n - 1][m - 1]\n",
    "\n",
    "\n",
    "def mazeObstacles(n, m, maze):\n",
    "    # Create a DP table initialized with -1 values.\n",
    "    dp = [[0 for j in range(m)] for i in range(n)]\n",
    "\n",
    "    # Call the utility function to find the number of paths.\n",
    "    return mazeObstaclesUtil(n, m, maze, dp)\n",
    "\n",
    "\n",
    "def main():\n",
    "    # Example maze with 0s representing open paths and -1 representing obstacles.\n",
    "    maze = [[0, 0, 0, 0], [0, -1, 0, 0], [0, 0, 0, 0]]\n",
    "    n = len(maze)\n",
    "    m = len(maze[0])\n",
    "\n",
    "    # Call the mazeObstacles function and print the result.\n",
    "    print(mazeObstacles(n, m, maze))\n",
    "\n",
    "\n",
    "if __name__ == \"__main__\":\n",
    "    main()"
   ]
  },
  {
   "cell_type": "code",
   "execution_count": 3,
   "metadata": {},
   "outputs": [],
   "source": [
    "triangle = [[1], [2, 3], [3, 6, 7], [8, 9, 6, 10]]\n",
    "n = len(triangle)\n",
    "\n",
    "\n",
    "def solve(tringle, i, j, m, n):\n",
    "    if i == m - 1 and j == n - 1:\n",
    "        return tringle[i][j]\n",
    "\n",
    "    if j > i:\n",
    "        return -1e3\n",
    "    if i >= m or j >= n:\n",
    "        return -1e3\n",
    "    dig = tringle[i][j] + solve(tringle, i + 1, j + 1, m, n)\n",
    "    down = tringle[i][j] + solve(tringle, i + 1, j, m, n)\n",
    "    right = triangle[i][j] + solve(tringle, i, j + 1, m, n)\n",
    "    return max(dig, down, right)"
   ]
  },
  {
   "cell_type": "code",
   "execution_count": 5,
   "metadata": {},
   "outputs": [
    {
     "data": {
      "text/plain": [
       "39"
      ]
     },
     "execution_count": 5,
     "metadata": {},
     "output_type": "execute_result"
    }
   ],
   "source": [
    "solve(triangle, 0, 0, n, n)"
   ]
  },
  {
   "cell_type": "code",
   "execution_count": 15,
   "metadata": {},
   "outputs": [
    {
     "data": {
      "text/plain": [
       "[[1, -100.0, -100.0, -100.0],\n",
       " [3, 6, -100.0, -100.0],\n",
       " [6, 12, 19, -100.0],\n",
       " [14, 23, 29, 39]]"
      ]
     },
     "execution_count": 15,
     "metadata": {},
     "output_type": "execute_result"
    }
   ],
   "source": [
    "triangle = [[1], [2, 3], [3, 6, 7], [8, 9, 6, 10]]\n",
    "n = len(triangle)\n",
    "dp = [[-1e2 for i in range(n)] for _ in range(n)]\n",
    "\n",
    "# frist row\n",
    "dp[0][0] = triangle[0][0]\n",
    "\n",
    "# frist column\n",
    "for i in range(1, n):\n",
    "    dp[i][0] = triangle[i][0] + dp[i - 1][0]\n",
    "\n",
    "for i in range(1, n):\n",
    "    for j in range(1, n):\n",
    "        if j > i:\n",
    "            continue\n",
    "        down = triangle[i][j] + dp[i - 1][j]\n",
    "        dig = triangle[i][j] + dp[i - 1][j - 1]\n",
    "        right = triangle[i][j] + dp[i][j - 1]\n",
    "        dp[i][j] = max(down, dig, right)\n",
    "dp"
   ]
  },
  {
   "cell_type": "code",
   "execution_count": 10,
   "metadata": {},
   "outputs": [],
   "source": [
    "matrix = [[1, 2, 10, 4], [100, 3, 2, 1], [1, 1, 20, 2], [1, 2, 2, 1]]\n",
    "\n",
    "\n",
    "def min_path(matrix, m, n, M, N):\n",
    "    # any value in row 0 to any value in last row\n",
    "    if m < 0 or n < 0 or n > N:\n",
    "        return -1e8\n",
    "    if m == 0:  # for row 0 it can take any value\n",
    "        return matrix[0][n]\n",
    "    down = matrix[m][n] + min_path(\n",
    "        matrix, m - 1, n, M, N\n",
    "    )  # here we have fixed it last element as ending point\n",
    "    rdig = matrix[m][n] + min_path(matrix, m - 1, n + 1, M, N)\n",
    "    ldig = matrix[m][n] + min_path(matrix, m - 1, n - 1, M, N)\n",
    "    return max(rdig, ldig, down)\n",
    "\n",
    "\n",
    "def solve(matrix, m, n, M, N):\n",
    "    ans = -1e6\n",
    "    for j in range(N + 1):  # check for all values in last column as starting point\n",
    "        curr = min_path(matrix, M, j, M, N)\n",
    "        print(matrix[m][j], \"->\", curr)\n",
    "        ans = max(ans, curr)\n",
    "    return ans"
   ]
  },
  {
   "cell_type": "code",
   "execution_count": 11,
   "metadata": {},
   "outputs": [
    {
     "name": "stdout",
     "output_type": "stream",
     "text": [
      "1 -> 104\n",
      "2 -> 105\n",
      "2 -> 105\n",
      "1 -> 34\n"
     ]
    },
    {
     "data": {
      "text/plain": [
       "105"
      ]
     },
     "execution_count": 11,
     "metadata": {},
     "output_type": "execute_result"
    }
   ],
   "source": [
    "solve(matrix, 3, 3, 3, 3)"
   ]
  },
  {
   "cell_type": "markdown",
   "metadata": {},
   "source": [
    "**subset sum**"
   ]
  },
  {
   "cell_type": "code",
   "execution_count": 8,
   "metadata": {},
   "outputs": [
    {
     "data": {
      "text/plain": [
       "True"
      ]
     },
     "execution_count": 8,
     "metadata": {},
     "output_type": "execute_result"
    }
   ],
   "source": [
    "arr = [1, 2, 3, 4]\n",
    "k = 9\n",
    "\n",
    "\n",
    "def solve(arr, i, k):\n",
    "    if i < 0 or k < 0:\n",
    "        return False\n",
    "    if i == 0 and arr[i] == k or k == 0:\n",
    "        return True\n",
    "    notpick = solve(arr, i - 1, k)\n",
    "    pick = False\n",
    "    if arr[i] <= k:\n",
    "        pick = solve(arr, i - 1, k - arr[i])\n",
    "    return pick or notpick\n",
    "\n",
    "\n",
    "solve(arr, len(arr) - 1, k)"
   ]
  },
  {
   "cell_type": "code",
   "execution_count": 21,
   "metadata": {},
   "outputs": [
    {
     "data": {
      "text/plain": [
       "[[True, True, False, False, False, False, False, False, False, False, False],\n",
       " [True, True, True, True, False, False, False, False, False, False, False],\n",
       " [True, True, True, True, True, True, True, False, False, False, False],\n",
       " [True, True, True, True, True, True, True, True, True, True, True]]"
      ]
     },
     "execution_count": 21,
     "metadata": {},
     "output_type": "execute_result"
    }
   ],
   "source": [
    "arr = [1, 2, 3, 4]\n",
    "k = 10\n",
    "n = len(arr)\n",
    "dp = [[False for _ in range(k + 1)] for _ in range(n)]\n",
    "\n",
    "for i in range(n):\n",
    "    dp[i][0] = True\n",
    "# for j in range(k + 1):\n",
    "if arr[0] <= k:\n",
    "    dp[0][arr[0]] = True\n",
    "\n",
    "for i in range(1, n):\n",
    "    for target in range(1, k + 1):\n",
    "        notpick = dp[i - 1][target]\n",
    "        pick = False\n",
    "        if arr[i] <= target:\n",
    "            pick = dp[i - 1][target - arr[i]]\n",
    "        dp[i][target] = pick or notpick\n",
    "dp"
   ]
  },
  {
   "cell_type": "markdown",
   "metadata": {},
   "source": [
    "**Unbounded knapsack**"
   ]
  },
  {
   "cell_type": "code",
   "execution_count": 41,
   "metadata": {},
   "outputs": [
    {
     "data": {
      "text/plain": [
       "27"
      ]
     },
     "execution_count": 41,
     "metadata": {},
     "output_type": "execute_result"
    }
   ],
   "source": [
    "w = 10\n",
    "wt = [2, 4, 6]\n",
    "val = [5, 11, 13]\n",
    "\n",
    "\n",
    "def solve(wt, val, i, w):\n",
    "    if i < 0 or w < 0:\n",
    "        return -1e3\n",
    "    if i == 0:\n",
    "        if w > 0 and w % wt[0] == 0:\n",
    "            return (w // wt[0]) * val[0]\n",
    "        return -1e3\n",
    "    notpick = solve(wt, val, i - 1, w)\n",
    "    pick = -1e3\n",
    "    if wt[i] <= w:\n",
    "        pick = val[i] + solve(wt, val, i, w - wt[i])\n",
    "    return max(pick, notpick)\n",
    "\n",
    "\n",
    "solve(wt, val, 2, w)"
   ]
  },
  {
   "cell_type": "code",
   "execution_count": 63,
   "metadata": {},
   "outputs": [
    {
     "data": {
      "text/plain": [
       "[[0, 0, 5, 0, 10, 0, 15, 0, 20, 0, 25],\n",
       " [0, 0, 5, 0, 11, 11, 16, 11, 22, 22, 27],\n",
       " [0, 0, 5, 0, 11, 11, 16, 13, 22, 22, 27]]"
      ]
     },
     "execution_count": 63,
     "metadata": {},
     "output_type": "execute_result"
    }
   ],
   "source": [
    "w = 10\n",
    "wt = [2, 4, 6]\n",
    "val = [5, 11, 13]\n",
    "\n",
    "n = len(val)\n",
    "dp = [[0 for _ in range(w + 1)] for _ in range(n)]\n",
    "\n",
    "# for w==0 profit is 0\n",
    "# for i in range(n):\n",
    "#     dp[i][0] = 1\n",
    "for j in range(1, w + 1):\n",
    "    if j % wt[0] == 0:\n",
    "        dp[0][j] = (j // wt[0]) * val[0]\n",
    "for i in range(1, n):\n",
    "    for weight in range(w + 1):\n",
    "        notpick = dp[i - 1][weight]\n",
    "        pick = -1e3\n",
    "        if wt[i] <= weight:\n",
    "            pick = val[i] + dp[i][weight - wt[i]]\n",
    "        dp[i][weight] = max(pick, notpick)\n",
    "\n",
    "dp"
   ]
  },
  {
   "cell_type": "markdown",
   "metadata": {},
   "source": [
    "**Count subset sum with repeatation not allowed**"
   ]
  },
  {
   "cell_type": "code",
   "execution_count": 71,
   "metadata": {},
   "outputs": [
    {
     "data": {
      "text/plain": [
       "3"
      ]
     },
     "execution_count": 71,
     "metadata": {},
     "output_type": "execute_result"
    }
   ],
   "source": [
    "arr = [1, 2, 2, 3]\n",
    "k = 3\n",
    "\n",
    "\n",
    "def solve(arr, n, k):\n",
    "\n",
    "    if k == 0:\n",
    "        return 1\n",
    "    if n == 0:\n",
    "        if k == arr[0]:\n",
    "            return 1\n",
    "        return 0\n",
    "\n",
    "    if n < 0 or k < 0:\n",
    "        return 0\n",
    "\n",
    "    notpick = solve(arr, n - 1, k)\n",
    "    pick = 0\n",
    "    if k >= arr[n]:\n",
    "        pick = solve(arr, n - 1, k - arr[n])\n",
    "    return pick + notpick\n",
    "\n",
    "\n",
    "solve(arr, 3, k)"
   ]
  },
  {
   "cell_type": "code",
   "execution_count": 72,
   "metadata": {},
   "outputs": [
    {
     "data": {
      "text/plain": [
       "[[1, 1, 0, 0], [1, 1, 1, 1], [1, 1, 2, 2], [1, 1, 2, 3]]"
      ]
     },
     "execution_count": 72,
     "metadata": {},
     "output_type": "execute_result"
    }
   ],
   "source": [
    "arr = [1, 2, 2, 3]\n",
    "k = 3\n",
    "n = len(arr)\n",
    "dp = [[0 for _ in range(k + 1)] for _ in range(n)]\n",
    "# for sum = 0 there is always 1 solution\n",
    "for i in range(n):\n",
    "    dp[i][0] = 1\n",
    "if arr[0] <= k:\n",
    "    dp[0][arr[0]] = 1\n",
    "for i in range(1, n):\n",
    "    for target in range(1, k + 1):\n",
    "        notpick = dp[i - 1][target]\n",
    "        pick = 0\n",
    "        if arr[i] <= target:\n",
    "            pick = dp[i - 1][target - arr[i]]\n",
    "        dp[i][target] = pick + notpick\n",
    "dp"
   ]
  },
  {
   "cell_type": "markdown",
   "metadata": {},
   "source": [
    "**Count subset sum with repeatation allowed**"
   ]
  },
  {
   "cell_type": "code",
   "execution_count": 28,
   "metadata": {},
   "outputs": [],
   "source": [
    "arr = [2, 5, 3, 6]\n",
    "k = 10\n",
    "\n",
    "\n",
    "def solve(arr, n, k):\n",
    "    if n < 0 or k < 0:\n",
    "        return 0\n",
    "    if k == 0:\n",
    "        return 1\n",
    "    if n == 0:\n",
    "        if k >= arr[n] and k % arr[n] == 0:\n",
    "            return 1\n",
    "        return 0\n",
    "    notpick = solve(arr, n - 1, k)\n",
    "    pick = 0\n",
    "    if k >= arr[n]:\n",
    "        pick = solve(arr, n, k - arr[n])\n",
    "    return pick + notpick"
   ]
  },
  {
   "cell_type": "code",
   "execution_count": 29,
   "metadata": {},
   "outputs": [
    {
     "data": {
      "text/plain": [
       "5"
      ]
     },
     "execution_count": 29,
     "metadata": {},
     "output_type": "execute_result"
    }
   ],
   "source": [
    "solve(arr, 3, 10)"
   ]
  },
  {
   "cell_type": "code",
   "execution_count": 45,
   "metadata": {},
   "outputs": [
    {
     "data": {
      "text/plain": [
       "[[1, 0, 1, 0, 1, 0, 1, 0, 1, 0, 1],\n",
       " [1, 0, 1, 0, 1, 1, 1, 1, 1, 1, 2],\n",
       " [1, 0, 1, 1, 1, 2, 2, 2, 3, 3, 4],\n",
       " [1, 0, 1, 1, 1, 2, 3, 2, 4, 4, 5]]"
      ]
     },
     "execution_count": 45,
     "metadata": {},
     "output_type": "execute_result"
    }
   ],
   "source": [
    "arr = [2, 5, 3, 6]\n",
    "k = 10\n",
    "n = len(arr)\n",
    "dp = [[0 for _ in range(k + 1)] for _ in range(n)]\n",
    "\n",
    "for i in range(n):\n",
    "    dp[i][0] = 1\n",
    "for j in range(1, k + 1):\n",
    "    if j % arr[0] == 0:\n",
    "        dp[0][j] = 1  # j // arr[0]\n",
    "for i in range(1, n):\n",
    "    for j in range(1, k + 1):\n",
    "        notpick = dp[i - 1][j]\n",
    "        pick = 0\n",
    "        if j >= arr[i]:\n",
    "            pick = dp[i][j - arr[i]]\n",
    "        dp[i][j] = pick + notpick\n",
    "dp"
   ]
  },
  {
   "cell_type": "code",
   "execution_count": 45,
   "metadata": {},
   "outputs": [
    {
     "name": "stdout",
     "output_type": "stream",
     "text": [
      "Maximum Obtainable Value is  22\n"
     ]
    }
   ],
   "source": [
    "def cutRod(price, index, n):\n",
    "\n",
    "    #  base case\n",
    "    if index == 0:\n",
    "        return n * price[0]\n",
    "\n",
    "    #   At any index we have 2 options either\n",
    "    #   cut the rod of this length or not cut\n",
    "    #   it\n",
    "    notCut = cutRod(price, index - 1, n)\n",
    "    cut = float(\"-inf\")\n",
    "    rod_length = index + 1  # zero base index\n",
    "\n",
    "    if rod_length <= n:\n",
    "\n",
    "        cut = price[index] + cutRod(price, index, n - rod_length)\n",
    "\n",
    "    return max(notCut, cut)\n",
    "\n",
    "\n",
    "#  Driver program to test above functions\n",
    "arr = [1, 5, 8, 9, 10, 17, 17, 20]\n",
    "size = len(arr)\n",
    "print(\"Maximum Obtainable Value is \", cutRod(arr, size - 1, size))"
   ]
  },
  {
   "cell_type": "code",
   "execution_count": 27,
   "metadata": {},
   "outputs": [],
   "source": [
    "arr = [1, 2, 3]\n",
    "k = 7\n",
    "\n",
    "\n",
    "def solve(arr, n, k):\n",
    "    if n < 0 or k < 0:\n",
    "        return 1e6\n",
    "    if k == 0:\n",
    "        return 1\n",
    "    if n == 0:\n",
    "        if k % arr[0] == 0:\n",
    "            return k // arr[0]\n",
    "        return 1e6\n",
    "    notpick = solve(arr, n - 1, k)\n",
    "    pick = 1e6\n",
    "    if k >= arr[n]:\n",
    "        pick = 1 + solve(arr, n, k - arr[n])\n",
    "    return min(notpick, pick)"
   ]
  },
  {
   "cell_type": "code",
   "execution_count": 28,
   "metadata": {},
   "outputs": [
    {
     "data": {
      "text/plain": [
       "3"
      ]
     },
     "execution_count": 28,
     "metadata": {},
     "output_type": "execute_result"
    }
   ],
   "source": [
    "solve(arr, 2, 7)"
   ]
  },
  {
   "cell_type": "code",
   "execution_count": 29,
   "metadata": {},
   "outputs": [
    {
     "name": "stdout",
     "output_type": "stream",
     "text": [
      "The Length of Longest Common Substring is 3\n"
     ]
    }
   ],
   "source": [
    "def lcs(s1, s2):\n",
    "    n = len(s1)\n",
    "    m = len(s2)\n",
    "\n",
    "    # Create a DP table with dimensions (n+1) x (m+1) initialized to zeros\n",
    "    dp = [[0] * (m) for _ in range(n)]\n",
    "\n",
    "    # Initialize a variable 'ans' to keep track of the maximum LCS length\n",
    "    ans = 0\n",
    "\n",
    "    for i in range(n):\n",
    "        for j in range(m):\n",
    "            if s1[i] == s2[j]:\n",
    "                # If the characters match, increment LCS length by 1\n",
    "                val = 1 + dp[i - 1][j - 1]\n",
    "                dp[i][j] = val\n",
    "                ans = max(ans, val)\n",
    "            else:\n",
    "                # If the characters do not match, reset LCS length to zero\n",
    "                dp[i][j] = 0\n",
    "\n",
    "    # 'ans' contains the length of the Longest Common Substring\n",
    "    return ans\n",
    "\n",
    "\n",
    "def main():\n",
    "    s1 = \"abcjklp\"\n",
    "    s2 = \"acjkp\"\n",
    "\n",
    "    print(\"The Length of Longest Common Substring is\", lcs(s1, s2))\n",
    "\n",
    "\n",
    "if __name__ == \"__main__\":\n",
    "    main()"
   ]
  },
  {
   "cell_type": "code",
   "execution_count": 30,
   "metadata": {},
   "outputs": [
    {
     "name": "stdout",
     "output_type": "stream",
     "text": [
      "The minimum number of operations required is: 3\n"
     ]
    }
   ],
   "source": [
    "def editDistance(S1, S2):\n",
    "    n = len(S1)\n",
    "    m = len(S2)\n",
    "\n",
    "    # Initialize a 2D DP array of size (n+1) x (m+1) with all elements set to 0\n",
    "    dp = [[0 for _ in range(m)] for _ in range(n)]\n",
    "\n",
    "    # Initialize the first row and first column of the DP array\n",
    "    for i in range(n):\n",
    "        dp[i][0] = i\n",
    "    for j in range(m):\n",
    "        dp[0][j] = j\n",
    "\n",
    "    # Fill in the DP array using dynamic programming\n",
    "    for i in range(n):\n",
    "        for j in range(m):\n",
    "            # If the characters at the current positions match, no operation is needed\n",
    "            if S1[i] == S2[j]:\n",
    "                dp[i][j] = dp[i - 1][j - 1]\n",
    "            else:\n",
    "                # Calculate the minimum of three choices:\n",
    "                # 1. Replace the current character (diagonal move)\n",
    "                # 2. Insert a character into S1 (move up)\n",
    "                # 3. Delete a character from S1 (move left)\n",
    "                dp[i][j] = 1 + min(dp[i - 1][j - 1], min(dp[i - 1][j], dp[i][j - 1]))\n",
    "\n",
    "    # The final value in dp[n][m] is the minimum number of operations required\n",
    "    return dp[n - 1][m - 1]\n",
    "\n",
    "\n",
    "def main():\n",
    "    s1 = \"horse\"\n",
    "    s2 = \"ros\"\n",
    "\n",
    "    # Calculate and print the minimum number of operations required\n",
    "    print(\"The minimum number of operations required is:\", editDistance(s1, s2))\n",
    "\n",
    "\n",
    "if __name__ == \"__main__\":\n",
    "    main()"
   ]
  },
  {
   "cell_type": "code",
   "execution_count": 1,
   "metadata": {},
   "outputs": [
    {
     "name": "stdout",
     "output_type": "stream",
     "text": [
      "The total number of ways is 11\n"
     ]
    }
   ],
   "source": [
    "def countWaysToMakeChange(arr, n, T):\n",
    "    # Create a DP table to store the number of ways for different target amounts\n",
    "    dp = [[0 for j in range(T + 1)] for i in range(n)]\n",
    "\n",
    "    # Initialize the base condition for the first element in the array\n",
    "    for i in range(T + 1):\n",
    "        if i % arr[0] == 0:\n",
    "            dp[0][i] = 1\n",
    "        # Else condition is automatically fulfilled, as dp array is initialized to zero\n",
    "    for i in range(n):\n",
    "        dp[i][0] = 1\n",
    "    # Iterate through the array elements and target amounts\n",
    "    for ind in range(1, n):\n",
    "        for target in range(T + 1):\n",
    "            # Calculate the number of ways when the current element is not taken\n",
    "            notTaken = dp[ind - 1][target]\n",
    "\n",
    "            # Initialize a variable for the number of ways when the current element is taken\n",
    "            taken = 0\n",
    "            if arr[ind] <= target:\n",
    "                taken = dp[ind][target - arr[ind]]\n",
    "\n",
    "            # Store the total number of ways in the DP table\n",
    "            dp[ind][target] = notTaken + taken\n",
    "\n",
    "    # Return the total number of ways for the given target amount\n",
    "    return dp[n - 1][T]\n",
    "\n",
    "\n",
    "def main():\n",
    "    arr = [2, 5, 3, 6]\n",
    "    target = 10\n",
    "    n = len(arr)\n",
    "    print(\"The total number of ways is\", countWaysToMakeChange(arr, n, target))\n",
    "\n",
    "\n",
    "if __name__ == \"__main__\":\n",
    "    main()"
   ]
  },
  {
   "cell_type": "code",
   "execution_count": null,
   "metadata": {},
   "outputs": [],
   "source": []
  },
  {
   "cell_type": "code",
   "execution_count": 3,
   "metadata": {},
   "outputs": [
    {
     "name": "stdout",
     "output_type": "stream",
     "text": [
      "[1, 2, 6, 7]\n",
      "[1, 3, 6, 7]\n",
      "[1, 4, 6, 7]\n",
      "[1, 5, 6, 7]\n"
     ]
    },
    {
     "data": {
      "text/plain": [
       "4"
      ]
     },
     "execution_count": 3,
     "metadata": {},
     "output_type": "execute_result"
    }
   ],
   "source": [
    "arr = [1, 5, 4, 3, 2, 6, 7, 2]\n",
    "n = len(arr)\n",
    "\n",
    "\n",
    "def solve(arr, i, n, ans, prev):\n",
    "    if i == n:\n",
    "        if len(ans) == 4:\n",
    "            print(ans)\n",
    "        return 0\n",
    "    not_take = solve(arr, i + 1, n, ans, prev)\n",
    "    take = 0\n",
    "    if prev < arr[i]:\n",
    "        ans.append(arr[i])\n",
    "        take = 1 + solve(arr, i, n, ans, arr[i])\n",
    "        ans.pop()\n",
    "    return max(take, not_take)\n",
    "\n",
    "\n",
    "solve(arr, 0, n, [], -1)"
   ]
  },
  {
   "cell_type": "code",
   "execution_count": 25,
   "metadata": {},
   "outputs": [
    {
     "name": "stdout",
     "output_type": "stream",
     "text": [
      "The count of Longest Increasing Subsequences is: 5\n"
     ]
    }
   ],
   "source": [
    "def find_number_of_LIS(arr):\n",
    "    n = len(arr)\n",
    "\n",
    "    # Initialize two dynamic programming lists for lengths and counts\n",
    "    dp = [0] * n\n",
    "    count = [1] * n\n",
    "    dp[0] = 1\n",
    "    maxi = 1\n",
    "\n",
    "    for i in range(1, n):\n",
    "        for prev_index in range(i):\n",
    "            if arr[prev_index] < arr[i] and dp[prev_index] > dp[i]:\n",
    "                dp[i] = dp[prev_index]\n",
    "                # Inherit the count\n",
    "                count[i] = count[prev_index]\n",
    "            elif arr[prev_index] < arr[i] and dp[prev_index] == dp[i]:\n",
    "                # Increase the count\n",
    "                count[i] += count[prev_index]\n",
    "        dp[i] += 1\n",
    "        maxi = max(maxi, dp[i])\n",
    "\n",
    "    num_of_LIS = 0\n",
    "\n",
    "    # Count the number of Longest Increasing Subsequences\n",
    "    for i in range(n):\n",
    "        if dp[i] == maxi:\n",
    "            num_of_LIS += count[i]\n",
    "\n",
    "    return num_of_LIS\n",
    "\n",
    "\n",
    "if __name__ == \"__main__\":\n",
    "    arr = [2, 2, 2, 2, 2]\n",
    "\n",
    "    print(\"The count of Longest Increasing Subsequences is:\", find_number_of_LIS(arr))"
   ]
  },
  {
   "cell_type": "code",
   "execution_count": 3,
   "metadata": {},
   "outputs": [
    {
     "data": {
      "text/plain": [
       "5"
      ]
     },
     "execution_count": 3,
     "metadata": {},
     "output_type": "execute_result"
    }
   ],
   "source": [
    "n = 8\n",
    "count = 0\n",
    "while n != 0:\n",
    "    if n % 2 == 0:\n",
    "        count += n // 2\n",
    "        n = 1\n",
    "    else:\n",
    "        count += 1\n",
    "        n -= 1\n",
    "count"
   ]
  },
  {
   "cell_type": "code",
   "execution_count": 29,
   "metadata": {},
   "outputs": [],
   "source": [
    "coins = [1, 2, 5, 10, 20, 50, 100, 200, 500, 2000]\n",
    "k = 43\n",
    "\n",
    "\n",
    "def solve(coins, i, k, path):\n",
    "    if k == 0:\n",
    "        print(path)\n",
    "        return 1\n",
    "    if k < 0 or i < 0:\n",
    "        return 1e5\n",
    "    if i == 0:\n",
    "        if coins[i] == k:\n",
    "            path.append(coins[i])\n",
    "            print(path)\n",
    "            path.pop()\n",
    "            return 1\n",
    "        return 1e5\n",
    "    not_take = solve(coins, i - 1, k, path)\n",
    "    take = 1e5\n",
    "    if k >= coins[i]:\n",
    "        path.append(coins[i])\n",
    "        take = 1 + solve(coins, i, k - coins[i], path)\n",
    "        path.pop()\n",
    "    return min(take, not_take)"
   ]
  },
  {
   "cell_type": "code",
   "execution_count": 30,
   "metadata": {},
   "outputs": [
    {
     "name": "stdout",
     "output_type": "stream",
     "text": [
      "[2, 2, 2, 2, 2, 2, 2, 2, 2, 2, 2, 2, 2, 2, 2, 2, 2, 2, 2, 2, 2, 1]\n",
      "[5, 2, 2, 2, 2, 2, 2, 2, 2, 2, 2, 2, 2, 2, 2, 2, 2, 2, 2, 2]\n",
      "[5, 5, 2, 2, 2, 2, 2, 2, 2, 2, 2, 2, 2, 2, 2, 2, 2, 2, 1]\n",
      "[5, 5, 5, 2, 2, 2, 2, 2, 2, 2, 2, 2, 2, 2, 2, 2, 2]\n",
      "[5, 5, 5, 5, 2, 2, 2, 2, 2, 2, 2, 2, 2, 2, 2, 1]\n",
      "[5, 5, 5, 5, 5, 2, 2, 2, 2, 2, 2, 2, 2, 2]\n",
      "[5, 5, 5, 5, 5, 5, 2, 2, 2, 2, 2, 2, 1]\n",
      "[5, 5, 5, 5, 5, 5, 5, 2, 2, 2, 2]\n",
      "[5, 5, 5, 5, 5, 5, 5, 5, 2, 1]\n",
      "[10, 2, 2, 2, 2, 2, 2, 2, 2, 2, 2, 2, 2, 2, 2, 2, 2, 1]\n",
      "[10, 5, 2, 2, 2, 2, 2, 2, 2, 2, 2, 2, 2, 2, 2, 2]\n",
      "[10, 5, 5, 2, 2, 2, 2, 2, 2, 2, 2, 2, 2, 2, 1]\n",
      "[10, 5, 5, 5, 2, 2, 2, 2, 2, 2, 2, 2, 2]\n",
      "[10, 5, 5, 5, 5, 2, 2, 2, 2, 2, 2, 1]\n",
      "[10, 5, 5, 5, 5, 5, 2, 2, 2, 2]\n",
      "[10, 5, 5, 5, 5, 5, 5, 2, 1]\n",
      "[10, 10, 2, 2, 2, 2, 2, 2, 2, 2, 2, 2, 2, 1]\n",
      "[10, 10, 5, 2, 2, 2, 2, 2, 2, 2, 2, 2]\n",
      "[10, 10, 5, 5, 2, 2, 2, 2, 2, 2, 1]\n",
      "[10, 10, 5, 5, 5, 2, 2, 2, 2]\n",
      "[10, 10, 5, 5, 5, 5, 2, 1]\n",
      "[10, 10, 10, 2, 2, 2, 2, 2, 2, 1]\n",
      "[10, 10, 10, 5, 2, 2, 2, 2]\n",
      "[10, 10, 10, 5, 5, 2, 1]\n",
      "[10, 10, 10, 10, 2, 1]\n",
      "[20, 2, 2, 2, 2, 2, 2, 2, 2, 2, 2, 2, 1]\n",
      "[20, 5, 2, 2, 2, 2, 2, 2, 2, 2, 2]\n",
      "[20, 5, 5, 2, 2, 2, 2, 2, 2, 1]\n",
      "[20, 5, 5, 5, 2, 2, 2, 2]\n",
      "[20, 5, 5, 5, 5, 2, 1]\n",
      "[20, 10, 2, 2, 2, 2, 2, 2, 1]\n",
      "[20, 10, 5, 2, 2, 2, 2]\n",
      "[20, 10, 5, 5, 2, 1]\n",
      "[20, 10, 10, 2, 1]\n",
      "[20, 20, 2, 1]\n"
     ]
    },
    {
     "data": {
      "text/plain": [
       "4"
      ]
     },
     "execution_count": 30,
     "metadata": {},
     "output_type": "execute_result"
    }
   ],
   "source": [
    "solve(coins, len(coins) - 1, k, [])"
   ]
  },
  {
   "cell_type": "code",
   "execution_count": 21,
   "metadata": {},
   "outputs": [
    {
     "name": "stdout",
     "output_type": "stream",
     "text": [
      "180\n"
     ]
    }
   ],
   "source": [
    "arr = [6, -3, -10, 0, 2]\n",
    "maxp = arr[0]\n",
    "minp = arr[0]\n",
    "ans = -1\n",
    "for i in range(1, len(arr)):\n",
    "    temp = max(arr[i], arr[i] * minp, maxp * arr[i])\n",
    "    minp = min(arr[i], arr[i] * minp, maxp * arr[i])\n",
    "    maxp = temp\n",
    "\n",
    "    ans = max(\n",
    "        ans,\n",
    "        maxp,\n",
    "    )\n",
    "print(ans)"
   ]
  },
  {
   "cell_type": "code",
   "execution_count": 26,
   "metadata": {},
   "outputs": [
    {
     "data": {
      "text/plain": [
       "3"
      ]
     },
     "execution_count": 26,
     "metadata": {},
     "output_type": "execute_result"
    }
   ],
   "source": [
    "arr = [5, 2, 3, 10, 6, 8, 0]\n",
    "s = 10\n",
    "\n",
    "\n",
    "def solve(i, arr, s):\n",
    "\n",
    "    if i == 0:\n",
    "        if arr[0] == 0 and s == 0:\n",
    "            return 2\n",
    "        if s == 0 or arr[0] == s:\n",
    "            return 1\n",
    "        return 0\n",
    "\n",
    "    exc = solve(i - 1, arr, s)\n",
    "    inc = 0\n",
    "    if arr[i] <= s:\n",
    "        inc = solve(i - 1, arr, s - arr[i])\n",
    "    return inc + exc\n",
    "\n",
    "\n",
    "solve(5, arr, s)"
   ]
  },
  {
   "cell_type": "code",
   "execution_count": 47,
   "metadata": {},
   "outputs": [
    {
     "data": {
      "text/plain": [
       "15"
      ]
     },
     "execution_count": 47,
     "metadata": {},
     "output_type": "execute_result"
    }
   ],
   "source": [
    "arr = [6, 5, 5, 7, 4]\n",
    "n = len(arr)\n",
    "\n",
    "\n",
    "def solve(arr, i, n):\n",
    "    if i >= n:\n",
    "        return 0\n",
    "    exc = solve(arr, i + 1, n)\n",
    "    inc = arr[i] + solve(arr, i + 2, n)\n",
    "    return max(exc, inc)\n",
    "\n",
    "\n",
    "solve(arr, 0, n)"
   ]
  },
  {
   "cell_type": "code",
   "execution_count": 17,
   "metadata": {},
   "outputs": [],
   "source": [
    "s = [\"a\", \"e\", \"i\", \"o\", \"u\"]\n",
    "k = 1\n",
    "\n",
    "\n",
    "def solve(s, k, curr, start, count):\n",
    "    if len(curr) == k:\n",
    "        count += 1\n",
    "        return count\n",
    "    for i in range(start, len(s)):\n",
    "        curr += s[i]\n",
    "        count = solve(s, k, curr, i, count)\n",
    "        curr = curr[:-1]\n",
    "    return count"
   ]
  },
  {
   "cell_type": "code",
   "execution_count": 18,
   "metadata": {},
   "outputs": [
    {
     "data": {
      "text/plain": [
       "5"
      ]
     },
     "execution_count": 18,
     "metadata": {},
     "output_type": "execute_result"
    }
   ],
   "source": [
    "solve(s, k, \"\", 0, 0)"
   ]
  },
  {
   "cell_type": "code",
   "execution_count": 51,
   "metadata": {},
   "outputs": [
    {
     "data": {
      "text/plain": [
       "7"
      ]
     },
     "execution_count": 51,
     "metadata": {},
     "output_type": "execute_result"
    }
   ],
   "source": [
    "nums = [1, 1, 2, 1, 1]\n",
    "k = 1\n",
    "odd = 0\n",
    "d = dict()\n",
    "start = 0\n",
    "count = 0\n",
    "for i in range(len(nums)):\n",
    "    d[nums[i]] = d.get(nums[i], 0) + 1\n",
    "    if nums[i] % 2 != 0:\n",
    "        odd += 1\n",
    "    if odd > k:\n",
    "        while odd > k:\n",
    "            remove = nums[start]\n",
    "            start += 1\n",
    "            d[remove] -= 1\n",
    "            if remove % 2 != 0:\n",
    "                odd -= 1\n",
    "            if d[remove] == 0:\n",
    "                d.pop(remove)\n",
    "    if odd <= k:\n",
    "        count += i - start + 1\n",
    "count"
   ]
  },
  {
   "cell_type": "code",
   "execution_count": 53,
   "metadata": {},
   "outputs": [
    {
     "name": "stdout",
     "output_type": "stream",
     "text": [
      "8\n",
      "9\n"
     ]
    }
   ],
   "source": [
    "k = len(nums) // 2\n",
    "alice = sum(nums[:k])\n",
    "for i in range(2):\n",
    "    temp = alice - nums[i] + nums[len(nums) - 1 - i]\n",
    "    alice = max(temp, alice)\n",
    "    print(alice)"
   ]
  },
  {
   "cell_type": "code",
   "execution_count": 72,
   "metadata": {},
   "outputs": [
    {
     "name": "stdout",
     "output_type": "stream",
     "text": [
      "[2, 3, 4]\n"
     ]
    },
    {
     "data": {
      "text/plain": [
       "1"
      ]
     },
     "execution_count": 72,
     "metadata": {},
     "output_type": "execute_result"
    }
   ],
   "source": [
    "rating = [2, 5, 3, 4, 1]\n",
    "\n",
    "\n",
    "def solve(rating, i, n, curr, count):\n",
    "    if len(curr) == 3:\n",
    "        print(curr)\n",
    "        count += 1\n",
    "        return count\n",
    "    if i >= n:\n",
    "        return count\n",
    "    count = solve(rating, i + 1, n, curr, count)\n",
    "    if len(curr) == 0 or curr[-1] < rating[i]:\n",
    "        curr.append(rating[i])\n",
    "        count = solve(rating, i + 1, n, curr, count)\n",
    "        curr.pop()\n",
    "    return count\n",
    "\n",
    "\n",
    "solve(rating, 0, len(rating), [], 0)"
   ]
  },
  {
   "cell_type": "code",
   "execution_count": 3,
   "metadata": {},
   "outputs": [
    {
     "data": {
      "text/plain": [
       "30"
      ]
     },
     "execution_count": 3,
     "metadata": {},
     "output_type": "execute_result"
    }
   ],
   "source": [
    "nums = [3, -1, -5, 2, 5, -9]\n",
    "\n",
    "\n",
    "def solve(nums, i, n, p):\n",
    "    if i >= n:\n",
    "        return 1\n",
    "\n",
    "    exc = solve(nums, i + 1, n, p)\n",
    "    inc = nums[i] * solve(nums, i + 1, n)\n",
    "    return max(inc, exc)\n",
    "\n",
    "\n",
    "solve(nums, 0, len(nums))"
   ]
  },
  {
   "cell_type": "code",
   "execution_count": 6,
   "metadata": {},
   "outputs": [
    {
     "data": {
      "text/plain": [
       "[4, 2, 6]"
      ]
     },
     "execution_count": 6,
     "metadata": {},
     "output_type": "execute_result"
    }
   ],
   "source": [
    "words = [\"aa\", \"ab\", \"bc\"]\n",
    "n = len(words)\n",
    "dp = [0] * len(words)\n",
    "dp[0] = len(words[0])\n",
    "for i in range(1, n - 1):\n",
    "    prev = words[i - 1]\n",
    "    for j in range(i, n):\n",
    "        i"
   ]
  },
  {
   "cell_type": "code",
   "execution_count": 51,
   "metadata": {},
   "outputs": [],
   "source": [
    "points = points = [[1, 5], [2, 3], [4, 2]]\n",
    "prev = (0, 0)\n",
    "m, n = 2, 1\n",
    "\n",
    "\n",
    "def solve(p, prev, i, j, m, n):\n",
    "    # if i == m and 0 <= j <= n:\n",
    "    #     return p[m][j] - abs(j - prev[1])\n",
    "    if i > m or j > n or i < 0 or j < 0:\n",
    "        return 0\n",
    "    down = (\n",
    "        (p[i + 1][j] - abs(prev[1] - (j))) + solve(p, (i + 1, j), i + 1, j, m, n)\n",
    "        if i + 1 <= m\n",
    "        else 0\n",
    "    )\n",
    "    dleft = (\n",
    "        (p[i + 1][j - 1] - abs(prev[1] - (j - 1)))\n",
    "        + solve(p, (i + 1, j - 1), i + 1, j - 1, m, n)\n",
    "        if i + 1 <= m and j - 1 >= 0\n",
    "        else 0\n",
    "    )\n",
    "    dright = (\n",
    "        (p[i + 1][j + 1] - abs(prev[1] - (j + 1)))\n",
    "        + solve(p, (i + 1, j + 1), i + 1, j + 1, m, n)\n",
    "        if i + 1 <= m and j + 1 <= n\n",
    "        else 0\n",
    "    )\n",
    "    return max(down, dleft, dright)"
   ]
  },
  {
   "cell_type": "code",
   "execution_count": 52,
   "metadata": {},
   "outputs": [
    {
     "data": {
      "text/plain": [
       "6"
      ]
     },
     "execution_count": 52,
     "metadata": {},
     "output_type": "execute_result"
    }
   ],
   "source": [
    "solve(points, (0, 1), 0, 1, 2, 1)"
   ]
  },
  {
   "cell_type": "code",
   "execution_count": null,
   "metadata": {},
   "outputs": [],
   "source": []
  }
 ],
 "metadata": {
  "kernelspec": {
   "display_name": "Python 3",
   "language": "python",
   "name": "python3"
  },
  "language_info": {
   "codemirror_mode": {
    "name": "ipython",
    "version": 3
   },
   "file_extension": ".py",
   "mimetype": "text/x-python",
   "name": "python",
   "nbconvert_exporter": "python",
   "pygments_lexer": "ipython3",
   "version": "3.11.6"
  }
 },
 "nbformat": 4,
 "nbformat_minor": 2
}
