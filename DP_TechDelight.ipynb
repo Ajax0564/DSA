{
 "cells": [
  {
   "cell_type": "markdown",
   "metadata": {},
   "source": [
    "**Longest common subsequence**"
   ]
  },
  {
   "cell_type": "code",
   "execution_count": 2,
   "metadata": {},
   "outputs": [
    {
     "data": {
      "text/plain": [
       "4"
      ]
     },
     "execution_count": 2,
     "metadata": {},
     "output_type": "execute_result"
    }
   ],
   "source": [
    "x = \"ABCBDAB\"\n",
    "y = \"BDCABA\"\n",
    "\n",
    "\n",
    "def solve(x, y, m, n):\n",
    "    if m < 0 or n < 0:  # will check till last element for M,N cases return at 0\n",
    "        return 0\n",
    "    if x[m] == y[n]:\n",
    "        return 1 + solve(x, y, m - 1, n - 1)\n",
    "    return max(solve(x, y, m - 1, n), solve(x, y, m, n - 1))\n",
    "\n",
    "\n",
    "solve(x, y, len(x) - 1, len(y) - 1)\n",
    "\n",
    "\n",
    "def solve(x, y, m, n, count):\n",
    "    if m < 0 or n < 0:  # will check till last element for M,N cases return at 0\n",
    "        return count\n",
    "    if x[m] == y[n]:\n",
    "        return solve(x, y, m - 1, n - 1, count + 1)\n",
    "    return max(solve(x, y, m - 1, n, count), solve(x, y, m, n - 1, count))\n",
    "\n",
    "\n",
    "solve(x, y, len(x) - 1, len(y) - 1, 0)"
   ]
  },
  {
   "cell_type": "code",
   "execution_count": null,
   "metadata": {},
   "outputs": [],
   "source": []
  },
  {
   "cell_type": "code",
   "execution_count": 3,
   "metadata": {},
   "outputs": [
    {
     "data": {
      "text/plain": [
       "4"
      ]
     },
     "execution_count": 3,
     "metadata": {},
     "output_type": "execute_result"
    }
   ],
   "source": [
    "def topdown(x, y, m, n, dp):\n",
    "    if m == 0 or n == 0:\n",
    "        return 0\n",
    "    key = (m, n)\n",
    "    if key not in dp:\n",
    "        if x[m - 1] == y[n - 1]:\n",
    "            dp[key] = 1 + topdown(x, y, m - 1, n - 1, dp)\n",
    "        else:\n",
    "            dp[key] = max(topdown(x, y, m - 1, n, dp), topdown(x, y, m, n - 1, dp))\n",
    "    return dp[key]\n",
    "\n",
    "\n",
    "topdown(x, y, len(x), len(y), {})"
   ]
  },
  {
   "cell_type": "code",
   "execution_count": 4,
   "metadata": {},
   "outputs": [
    {
     "data": {
      "text/plain": [
       "['BCBA', 'BCAB', 'BDAB']"
      ]
     },
     "execution_count": 4,
     "metadata": {},
     "output_type": "execute_result"
    }
   ],
   "source": [
    "def tabulation(x, y):\n",
    "    # we will compare string from 0 to n-1 for base case we will need extra r/c value\n",
    "    dp = [[0 for j in range(len(y) + 1)] for i in range(len(x) + 1)]\n",
    "    for i in range(len(x) + 1):\n",
    "        dp[i][0] = 0  # for y of 0 len\n",
    "    for j in range(len(y) + 1):\n",
    "        dp[0][j] = 0  # for x of 0 len\n",
    "    for i in range(1, len(x) + 1):  # start with 1 but check with i-1\n",
    "        for j in range(1, len(y) + 1):\n",
    "            if x[i - 1] == y[j - 1]:\n",
    "                dp[i][j] = 1 + dp[i - 1][j - 1]\n",
    "            else:\n",
    "                dp[i][j] = max(dp[i - 1][j], dp[i][j - 1])\n",
    "    return dp\n",
    "\n",
    "\n",
    "def print_lcs(x, y, m, n, dp):\n",
    "    if m == 0 or n == 0:\n",
    "        return \"\"\n",
    "    if x[m - 1] == y[n - 1]:\n",
    "        return print_lcs(x, y, m - 1, n - 1, dp) + x[m - 1]\n",
    "    if dp[m - 1][n] > dp[m][n - 1]:\n",
    "        return print_lcs(x, y, m - 1, n, dp)\n",
    "    else:\n",
    "        return print_lcs(x, y, m, n - 1, dp)\n",
    "\n",
    "\n",
    "def print_lcsall(x, y, m, n, dp):\n",
    "    if m == 0 or n == 0:\n",
    "        return [\"\"]\n",
    "    if x[m - 1] == y[n - 1]:\n",
    "        out = print_lcsall(x, y, m - 1, n - 1, dp)\n",
    "        for i in range(len(out)):\n",
    "            out[i] = out[i] + x[m - 1]\n",
    "        return out\n",
    "\n",
    "    if dp[m - 1][n] > dp[m][n - 1]:\n",
    "        return print_lcsall(x, y, m - 1, n, dp)\n",
    "    if dp[m - 1][n] < dp[m][n - 1]:\n",
    "        return print_lcsall(x, y, m, n - 1, dp)\n",
    "\n",
    "    # if [m - 1][n] == dp[m][n - 1]\n",
    "    return print_lcsall(x, y, m - 1, n, dp) + print_lcsall(x, y, m, n - 1, dp)\n",
    "\n",
    "\n",
    "dp = tabulation(x, y)\n",
    "print_lcsall(x, y, len(x), len(y), dp)"
   ]
  },
  {
   "cell_type": "markdown",
   "metadata": {},
   "source": [
    "**Longest common substring**"
   ]
  },
  {
   "cell_type": "code",
   "execution_count": 5,
   "metadata": {},
   "outputs": [
    {
     "data": {
      "text/plain": [
       "2"
      ]
     },
     "execution_count": 5,
     "metadata": {},
     "output_type": "execute_result"
    }
   ],
   "source": [
    "X = \"ABC\"\n",
    "Y = \"BABA\"\n",
    "\n",
    "m = len(X)\n",
    "n = len(Y)\n",
    "\n",
    "\n",
    "def solve(x, y, m, n, count):\n",
    "    if m == 0 or n == 0:\n",
    "        return count\n",
    "    if x[m - 1] == y[n - 1]:\n",
    "        return solve(x, y, m - 1, n - 1, count + 1)\n",
    "    return max(count, solve(x, y, m - 1, n, 0), solve(x, y, m, n - 1, 0))\n",
    "\n",
    "\n",
    "solve(X, Y, m, n, 0)"
   ]
  },
  {
   "cell_type": "code",
   "execution_count": 6,
   "metadata": {},
   "outputs": [
    {
     "data": {
      "text/plain": [
       "2"
      ]
     },
     "execution_count": 6,
     "metadata": {},
     "output_type": "execute_result"
    }
   ],
   "source": [
    "X = \"ABC\"\n",
    "Y = \"BABA\"\n",
    "\n",
    "m = len(X)\n",
    "n = len(Y)\n",
    "\n",
    "\n",
    "def topdown(x, y, m, n, count, dp):\n",
    "    if m == 0 or n == 0:\n",
    "        return count\n",
    "    key = (m, n)\n",
    "    if key not in dp:\n",
    "        if x[m - 1] == y[n - 1]:\n",
    "            dp[key] = topdown(x, y, m - 1, n - 1, count + 1, dp)\n",
    "        else:\n",
    "            dp[key] = max(\n",
    "                count, topdown(x, y, m - 1, n, 0, dp), topdown(x, y, m, n - 1, 0, dp)\n",
    "            )\n",
    "    return dp[key]\n",
    "\n",
    "\n",
    "topdown(X, Y, m, n, 0, {})"
   ]
  },
  {
   "cell_type": "code",
   "execution_count": 7,
   "metadata": {},
   "outputs": [
    {
     "data": {
      "text/plain": [
       "'AB'"
      ]
     },
     "execution_count": 7,
     "metadata": {},
     "output_type": "execute_result"
    }
   ],
   "source": [
    "def tabulation(x, y):\n",
    "    # we will compare string from 0 to n-1 for base case we will need extra r/c value\n",
    "    dp = [[0 for j in range(len(y) + 1)] for i in range(len(x) + 1)]\n",
    "    ans = -1\n",
    "    for i in range(len(x) + 1):\n",
    "        dp[i][0] = 0  # for y of 0 len\n",
    "    for j in range(len(y) + 1):\n",
    "        dp[0][j] = 0  # for x of 0 len\n",
    "    for i in range(1, len(x) + 1):  # start with 1 but check with i-1\n",
    "        for j in range(1, len(y) + 1):\n",
    "            if x[i - 1] == y[j - 1]:\n",
    "                dp[i][j] = 1 + dp[i - 1][j - 1]\n",
    "                if dp[i][j] > ans:\n",
    "                    ans = dp[i][j]\n",
    "                    index = i\n",
    "            else:\n",
    "                dp[i][j] = 0  # max(dp[i - 1][j], dp[i][j - 1])\n",
    "    return x[index - ans : index]\n",
    "\n",
    "\n",
    "X = \"ABC\"\n",
    "Y = \"BABA\"\n",
    "\n",
    "tabulation(X, Y)"
   ]
  },
  {
   "cell_type": "markdown",
   "metadata": {},
   "source": [
    "**longest repeated subsequence**"
   ]
  },
  {
   "cell_type": "code",
   "execution_count": 142,
   "metadata": {},
   "outputs": [
    {
     "name": "stdout",
     "output_type": "stream",
     "text": [
      "The length of the longest repeating subsequence is 4\n"
     ]
    }
   ],
   "source": [
    "#  Function to find the length of the longest repeated subsequence\n",
    "# of substring `X[0…m-1]` and `X[0…n-1]`\n",
    "def LRSLength(X, m, n):\n",
    "\n",
    "    # return if the end of either string is reached\n",
    "    if m == 0 or n == 0:\n",
    "        return 0\n",
    "\n",
    "    # if characters at index `m` and `n` matches and the index are different\n",
    "    if X[m - 1] == X[n - 1] and m != n:\n",
    "        return LRSLength(X, m - 1, n - 1) + 1\n",
    "\n",
    "    # otherwise, if characters at index `m` and `n` don't match\n",
    "    return max(LRSLength(X, m, n - 1), LRSLength(X, m - 1, n))\n",
    "\n",
    "\n",
    "if __name__ == \"__main__\":\n",
    "\n",
    "    X = \"ATACTCGGA\"\n",
    "    m = len(X)\n",
    "\n",
    "    print(\"The length of the longest repeating subsequence is\", LRSLength(X, m, m))"
   ]
  },
  {
   "attachments": {
    "image.png": {
     "image/png": "[encoded data removed]"
    }
   },
   "cell_type": "markdown",
   "metadata": {},
   "source": [
    "\n",
    "*A Ninja has an ‘N’ Day training schedule. He has to perform one of these three activities (Running, Fighting Practice, or Learning New Moves) each day. There are merit points associated with performing an activity each day. The same activity can’t be performed on two consecutive days. We need to find the maximum merit points the ninja can attain in N Days.*\n",
    "![image.png](attachment:image.png)"
   ]
  },
  {
   "cell_type": "code",
   "execution_count": 3,
   "metadata": {},
   "outputs": [
    {
     "name": "stdout",
     "output_type": "stream",
     "text": [
      "210\n"
     ]
    }
   ],
   "source": [
    "def f(day, last, points, dp):\n",
    "    # Check if the result for this day and last activity is already computed.\n",
    "    if dp[day][last] != -1:\n",
    "        return dp[day][last]\n",
    "\n",
    "    # Base case: When we reach day 0, return the maximum point for the last day.\n",
    "    if day == 0:\n",
    "        maxi = 0\n",
    "        for i in range(3):\n",
    "            if i != last:\n",
    "                maxi = max(maxi, points[0][i])\n",
    "        dp[day][last] = maxi\n",
    "        return dp[day][last]\n",
    "\n",
    "    maxi = 0\n",
    "    # Iterate through all activities for the current day.\n",
    "    for i in range(3):\n",
    "        if i != last:\n",
    "            # Calculate the total points for the current day's activity and recursively call for the previous day.\n",
    "            activity = points[day][i] + f(day - 1, i, points, dp)\n",
    "            maxi = max(maxi, activity)\n",
    "\n",
    "    # Store the maximum points in the DP table and return it.\n",
    "    dp[day][last] = maxi\n",
    "    return dp[day][last]\n",
    "\n",
    "\n",
    "def ninjaTraining(n, points):\n",
    "    # Initialize a DP table to store the computed results.\n",
    "    dp = [[-1 for j in range(3)] for i in range(n)]\n",
    "    # Start the recursive function from the last day with no previous activity.\n",
    "    return f(n - 1, -1, points, dp)\n",
    "\n",
    "\n",
    "def main():\n",
    "    # Define the points matrix for each day.\n",
    "    points = [[10, 40, 70], [20, 50, 80], [30, 60, 90]]\n",
    "\n",
    "    n = len(points)  # Get the number of days.\n",
    "    # Call the ninjaTraining function to find the maximum points.\n",
    "    print(ninjaTraining(n, points))\n",
    "\n",
    "\n",
    "if __name__ == \"__main__\":\n",
    "    main()"
   ]
  },
  {
   "cell_type": "code",
   "execution_count": null,
   "metadata": {},
   "outputs": [],
   "source": []
  },
  {
   "cell_type": "markdown",
   "metadata": {},
   "source": [
    "**K frog Jump**"
   ]
  },
  {
   "cell_type": "code",
   "execution_count": null,
   "metadata": {},
   "outputs": [],
   "source": [
    "# Recursive function to calculate the minimum cost to reach the end\n",
    "# from a given index with at most 'k' jumps.\n",
    "import sys\n",
    "\n",
    "\n",
    "def solveUtil(ind, height, dp, k):\n",
    "    # Base case: If we are at the beginning (index 0), no cost is needed.\n",
    "    if ind == 0:\n",
    "        return 0\n",
    "    # If the result for this index has been previously calculated, return it.\n",
    "    if dp[ind] != -1:\n",
    "        return dp[ind]\n",
    "\n",
    "    mmSteps = sys.maxsize\n",
    "\n",
    "    # Loop to try all possible jumps from '1' to 'k'\n",
    "    for j in range(1, k + 1):\n",
    "        # Ensure that we do not jump beyond the beginning of the array\n",
    "        if ind - j >= 0:\n",
    "            # Calculate the cost for this jump and update mmSteps with the minimum cost\n",
    "            jump = solveUtil(ind - j, height, dp, k) + abs(\n",
    "                height[ind] - height[ind - j]\n",
    "            )\n",
    "            mmSteps = min(jump, mmSteps)\n",
    "\n",
    "    # Store the minimum cost for this index in the dp array and return it.\n",
    "    dp[ind] = mmSteps\n",
    "    return dp[ind]\n",
    "\n",
    "\n",
    "# Function to find the minimum cost to reach the end of the array\n",
    "def solve(n, height, k):\n",
    "    dp = [-1] * n  # Initialize a memoization array to store calculated results\n",
    "    return solveUtil(n - 1, height, dp, k)  # Start the recursion from the last index\n",
    "\n",
    "\n",
    "def main():\n",
    "    height = [30, 10, 60, 10, 60, 50]\n",
    "    n = len(height)\n",
    "    k = 2\n",
    "    print(solve(n, height, k))  # Print the result of the solve function\n",
    "\n",
    "\n",
    "if __name__ == \"__main__\":\n",
    "    main()"
   ]
  },
  {
   "cell_type": "markdown",
   "metadata": {},
   "source": [
    "**longest repeated substring**"
   ]
  },
  {
   "cell_type": "code",
   "execution_count": 144,
   "metadata": {},
   "outputs": [
    {
     "name": "stdout",
     "output_type": "stream",
     "text": [
      "The length of the longest repeating subsequence is 3\n"
     ]
    }
   ],
   "source": [
    "def LRSLength(X, m, n, count):\n",
    "\n",
    "    # return if the end of either string is reached\n",
    "    if m == 0 or n == 0:\n",
    "        return count\n",
    "\n",
    "    # if characters at index `m` and `n` matches and the index are different\n",
    "    if X[m - 1] == X[n - 1] and m != n:\n",
    "        return LRSLength(X, m - 1, n - 1, count + 1)\n",
    "\n",
    "    # otherwise, if characters at index `m` and `n` don't match\n",
    "    return max(count, LRSLength(X, m, n - 1, 0), LRSLength(X, m - 1, n, 0))\n",
    "\n",
    "\n",
    "if __name__ == \"__main__\":\n",
    "\n",
    "    X = \"banana\"\n",
    "    m = len(X)\n",
    "\n",
    "    print(\"The length of the longest repeating subsequence is\", LRSLength(X, m, m, 0))"
   ]
  },
  {
   "cell_type": "code",
   "execution_count": 19,
   "metadata": {},
   "outputs": [
    {
     "name": "stdout",
     "output_type": "stream",
     "text": [
      "0\n"
     ]
    }
   ],
   "source": [
    "def LRSLength(x):\n",
    "    n = len(x)\n",
    "    dp = [[0 for i in range(n + 1)] for j in range(n + 1)]\n",
    "    size = -1\n",
    "    for i in range(1, n + 1):\n",
    "        for j in range(1, n + 1):\n",
    "            if x[i - 1] == x[j - 1] and i != j:\n",
    "                dp[i][j] = dp[i - 1][j - 1] + 1\n",
    "            if dp[i][j] > size:\n",
    "                size = dp[i][j]\n",
    "\n",
    "    return size\n",
    "\n",
    "\n",
    "if __name__ == \"__main__\":\n",
    "\n",
    "    X = \"abcd\"\n",
    "    m = len(X)\n",
    "    print(LRSLength(X))"
   ]
  },
  {
   "cell_type": "markdown",
   "metadata": {},
   "source": [
    "**Longest repeating and non-overlapping substring**"
   ]
  },
  {
   "cell_type": "code",
   "execution_count": 4,
   "metadata": {},
   "outputs": [
    {
     "data": {
      "text/plain": [
       "'geeks'"
      ]
     },
     "execution_count": 4,
     "metadata": {},
     "output_type": "execute_result"
    }
   ],
   "source": [
    "def longestSubstring(s):\n",
    "    ln = len(s)\n",
    "\n",
    "    res = \"-1\"\n",
    "\n",
    "    l = 0\n",
    "\n",
    "    r = 0\n",
    "\n",
    "    for r in range(ln):\n",
    "\n",
    "        substr = s[l : r + 1]\n",
    "\n",
    "        if s.find(substr, r + 1) != -1:\n",
    "\n",
    "            res = substr\n",
    "\n",
    "        else:\n",
    "\n",
    "            l += 1\n",
    "\n",
    "    return res\n",
    "\n",
    "\n",
    "s = \"geeksforgeeks\"\n",
    "longestSubstring(s)"
   ]
  },
  {
   "cell_type": "code",
   "execution_count": 21,
   "metadata": {},
   "outputs": [
    {
     "name": "stdout",
     "output_type": "stream",
     "text": [
      "geeks\n"
     ]
    }
   ],
   "source": [
    "def longestRepeatedSubstring(str):\n",
    "\n",
    "    n = len(str)\n",
    "    LCSRe = [[0 for x in range(n + 1)] for y in range(n + 1)]\n",
    "\n",
    "    res = \"\"  # To store result\n",
    "    res_length = 0  # To store length of result\n",
    "\n",
    "    # building table in bottom-up manner\n",
    "    index = 0\n",
    "    for i in range(1, n + 1):\n",
    "        for j in range(i + 1, n + 1):\n",
    "\n",
    "            # (j-i) > LCSRe[i-1][j-1] to remove\n",
    "            # overlapping\n",
    "            if str[i - 1] == str[j - 1] and LCSRe[i - 1][j - 1] < (j - i):\n",
    "                LCSRe[i][j] = LCSRe[i - 1][j - 1] + 1\n",
    "\n",
    "                # updating maximum length of the\n",
    "                # substring and updating the finishing\n",
    "                # index of the suffix\n",
    "                if LCSRe[i][j] > res_length:\n",
    "                    res_length = LCSRe[i][j]\n",
    "                    index = max(i, index)\n",
    "\n",
    "            else:\n",
    "                LCSRe[i][j] = 0\n",
    "\n",
    "    # If we have non-empty result, then insert\n",
    "    # all characters from first character to\n",
    "    # last character of string\n",
    "    if res_length > 0:\n",
    "        for i in range(index - res_length + 1, index + 1):\n",
    "            res = res + str[i - 1]\n",
    "\n",
    "    return res\n",
    "\n",
    "\n",
    "# Driver Code\n",
    "if __name__ == \"__main__\":\n",
    "\n",
    "    str = \"geeksforgeeks\"\n",
    "    print(longestRepeatedSubstring(str))"
   ]
  },
  {
   "cell_type": "markdown",
   "metadata": {},
   "source": [
    "**longest increasing subsequence**"
   ]
  },
  {
   "cell_type": "code",
   "execution_count": 8,
   "metadata": {},
   "outputs": [
    {
     "data": {
      "text/plain": [
       "6"
      ]
     },
     "execution_count": 8,
     "metadata": {},
     "output_type": "execute_result"
    }
   ],
   "source": [
    "arr = [0, 8, 4, 12, 2, 10, 6, 14, 1, 9, 5, 13, 3, 11, 7, 15]\n",
    "n = len(arr)\n",
    "\n",
    "\n",
    "def solve(arr, i, n, prev):\n",
    "    if i > n:\n",
    "        return 0\n",
    "    exc = solve(arr, i + 1, n, prev)\n",
    "    inc = 0\n",
    "    if prev < arr[i]:\n",
    "        inc = 1 + solve(arr, i + 1, n, arr[i])\n",
    "    return max(inc, exc)\n",
    "\n",
    "\n",
    "solve(arr, 0, n - 1, -1)"
   ]
  },
  {
   "cell_type": "code",
   "execution_count": 2,
   "metadata": {},
   "outputs": [
    {
     "data": {
      "text/plain": [
       "6"
      ]
     },
     "execution_count": 2,
     "metadata": {},
     "output_type": "execute_result"
    }
   ],
   "source": [
    "import bisect\n",
    "\n",
    "\n",
    "def solve(arr):\n",
    "    n = len(arr)\n",
    "    temp = []\n",
    "    ans = 1\n",
    "    temp.append(arr[0])\n",
    "    for i in range(1, n):\n",
    "        if arr[i] > temp[-1]:\n",
    "            temp.append(arr[i])\n",
    "            ans += 1\n",
    "        else:\n",
    "            index = bisect.bisect_left(temp, arr[i])\n",
    "            temp[index] = arr[i]\n",
    "    return ans  # temp will not follow arr subsequence property\n",
    "\n",
    "\n",
    "arr = [0, 8, 4, 12, 2, 10, 6, 14, 1, 9, 5, 13, 3, 11, 7, 15]\n",
    "solve(arr)"
   ]
  },
  {
   "cell_type": "code",
   "execution_count": 6,
   "metadata": {},
   "outputs": [
    {
     "data": {
      "text/plain": [
       "[1, 1, 1, 2, 2, 3, 4, 4]"
      ]
     },
     "execution_count": 6,
     "metadata": {},
     "output_type": "execute_result"
    }
   ],
   "source": [
    "def topdown(arr):\n",
    "    n = len(arr)\n",
    "    li = [0] * n\n",
    "    li[0] = 1\n",
    "\n",
    "    for i in range(1, n):\n",
    "        for j in range(i):\n",
    "            if arr[j] < arr[i] and li[j] > li[i]:  # arr[j] can be in arr[i]\n",
    "                li[i] = li[j]\n",
    "        li[i] += 1\n",
    "    return li\n",
    "\n",
    "\n",
    "arr = [10, 9, 2, 5, 3, 7, 101, 18]\n",
    "topdown(arr)"
   ]
  },
  {
   "cell_type": "code",
   "execution_count": 5,
   "metadata": {},
   "outputs": [
    {
     "data": {
      "text/plain": [
       "[[10], [9], [2], [2, 5], [2, 3], [2, 5, 7], [2, 5, 7, 101], [2, 5, 7, 18]]"
      ]
     },
     "execution_count": 5,
     "metadata": {},
     "output_type": "execute_result"
    }
   ],
   "source": [
    "def topdown(arr):\n",
    "    n = len(arr)\n",
    "    li = [[] for _ in range(len(arr))]\n",
    "    li[0].append(arr[0])  # store subsequence ending at i for all n\n",
    "    for i in range(1, n):\n",
    "        for j in range(i):\n",
    "            if arr[j] < arr[i] and len(li[j]) > len(li[i]):  # arr[j] can be in arr[i]\n",
    "                li[i] = li[j].copy()\n",
    "        li[i].append(arr[i])\n",
    "    return li\n",
    "\n",
    "\n",
    "arr = [10, 9, 2, 5, 3, 7, 101, 18]\n",
    "topdown(arr)"
   ]
  },
  {
   "cell_type": "markdown",
   "metadata": {},
   "source": [
    "**Longest Alternating Subsequence Problem**"
   ]
  },
  {
   "cell_type": "code",
   "execution_count": 24,
   "metadata": {},
   "outputs": [
    {
     "data": {
      "text/plain": [
       "7"
      ]
     },
     "execution_count": 24,
     "metadata": {},
     "output_type": "execute_result"
    }
   ],
   "source": [
    "# arr = [8, 9, 6, 4, 5, 7, 3, 2, 4]  # 6\n",
    "# arr = [10, 22, 9, 33, 49, 50, 31, 60]  # 6\n",
    "# arr = [1, 5, 4] 3\n",
    "arr = [1, 17, 5, 10, 13, 15, 10, 5, 16, 8]  # 7\n",
    "n = len(arr)\n",
    "\n",
    "# Fix the first element and recur for the remaining elements as the first\n",
    "# element will always be part of the longest subsequence (why?)\n",
    "\n",
    "# There are two possibilities:\n",
    "\n",
    "# 1. The next element is greater (pass true)\n",
    "# 2. The next element is smaller (pass false)\n",
    "\n",
    "\n",
    "def solve(arr, i, n, check, prev):\n",
    "\n",
    "    if i > n:\n",
    "        return 0\n",
    "    nopick = solve(arr, i + 1, n, check, prev)\n",
    "    pick = -1\n",
    "    if check == True and prev < arr[i]:  # check for increasing\n",
    "        pick = 1 + solve(arr, i + 1, n, not check, arr[i])\n",
    "    if check == False and prev > arr[i]:\n",
    "        pick = 1 + solve(arr, i + 1, n, not check, arr[i])\n",
    "    return max(pick, nopick)\n",
    "\n",
    "\n",
    "1 + max(solve(arr, 1, n - 1, True, arr[0]), solve(arr, 1, n - 1, False, arr[0]))"
   ]
  },
  {
   "cell_type": "code",
   "execution_count": 25,
   "metadata": {},
   "outputs": [
    {
     "name": "stdout",
     "output_type": "stream",
     "text": [
      "The length of the longest alternating subsequence is 6\n"
     ]
    }
   ],
   "source": [
    "# Function to find the length of the longest subsequence with alternate\n",
    "# low and high elements.\n",
    "def findLongestSequence(A):\n",
    "\n",
    "    # base case\n",
    "    if not A or len(A) <= 1:\n",
    "        return len(A)\n",
    "\n",
    "    # lookup table to store solutions to subproblems\n",
    "    T = [[0] * 2 for r in range(len(A) + 1)]\n",
    "\n",
    "    \"\"\"\n",
    "        `T[i][0]` stores the longest alternating subsequence till `A[0…i]`\n",
    "        where `A[i]` is greater than `A[i-1]`\n",
    " \n",
    "        `T[i][1]` stores the longest alternating subsequence till `A[0…i]`\n",
    "        where `A[i]` is smaller than `A[i-1]`\n",
    "    \"\"\"\n",
    "\n",
    "    # stores result\n",
    "    result = 1\n",
    "\n",
    "    # base case: the first element will always be part of LAS\n",
    "    T[0][0] = T[0][1] = 1\n",
    "\n",
    "    # fill the lookup table in a bottom-up manner\n",
    "    for i in range(1, len(A)):\n",
    "\n",
    "        # do for each element `A[j]` before `A[i]`\n",
    "        for j in range(i):\n",
    "\n",
    "            # If `A[i]` is greater than `A[j]`, update `T[i][0]`\n",
    "            if A[i] > A[j]:\n",
    "                T[i][0] = max(T[i][0], T[j][1] + 1)\n",
    "\n",
    "            # If `A[i]` is smaller than `A[j]`, update `T[i][1]`\n",
    "            if A[i] < A[j]:\n",
    "                T[i][1] = max(T[i][1], T[j][0] + 1)\n",
    "\n",
    "        # update result by taking a maximum of both values\n",
    "        if result < max(T[i][0], T[i][1]):\n",
    "            result = max(T[i][0], T[i][1])\n",
    "\n",
    "    # return result\n",
    "    return result\n",
    "\n",
    "\n",
    "if __name__ == \"__main__\":\n",
    "\n",
    "    A = [8, 9, 6, 4, 5, 7, 3, 2, 4]\n",
    "\n",
    "    print(\n",
    "        \"The length of the longest alternating subsequence is\", findLongestSequence(A)\n",
    "    )"
   ]
  },
  {
   "cell_type": "markdown",
   "metadata": {},
   "source": [
    "**Longest Bitonic Subsequence**"
   ]
  },
  {
   "cell_type": "code",
   "execution_count": null,
   "metadata": {},
   "outputs": [],
   "source": []
  },
  {
   "cell_type": "code",
   "execution_count": null,
   "metadata": {},
   "outputs": [],
   "source": []
  },
  {
   "cell_type": "markdown",
   "metadata": {},
   "source": [
    "**Maximum Sum Increasing Subsequence**"
   ]
  },
  {
   "cell_type": "code",
   "execution_count": 32,
   "metadata": {},
   "outputs": [
    {
     "data": {
      "text/plain": [
       "34"
      ]
     },
     "execution_count": 32,
     "metadata": {},
     "output_type": "execute_result"
    }
   ],
   "source": [
    "nums = [8, 4, 12, 2, 10, 6, 14, 1, 9, 5, 13, 3, 11]\n",
    "\n",
    "\n",
    "def solve(nums, i, n, s, prev):\n",
    "    if i > n:\n",
    "        return s\n",
    "    exc = solve(nums, i + 1, n, s, prev)\n",
    "    inc = -1e3\n",
    "    if prev < nums[i]:\n",
    "        inc = solve(nums, i + 1, n, s + nums[i], nums[i])\n",
    "    return max(inc, exc)\n",
    "\n",
    "\n",
    "solve(nums, 0, len(nums) - 1, 0, -1)"
   ]
  },
  {
   "cell_type": "code",
   "execution_count": 13,
   "metadata": {},
   "outputs": [
    {
     "name": "stdout",
     "output_type": "stream",
     "text": [
      "The maximum sum of the increasing subsequence is 34\n"
     ]
    }
   ],
   "source": [
    "# Iterative function to find the maximum sum of an increasing subsequence\n",
    "def MSIS(nums):\n",
    "\n",
    "    # base case\n",
    "    if len(nums) == 0:\n",
    "        return 0\n",
    "\n",
    "    # list to store subproblem solutions. `sum[i]` stores the maximum\n",
    "    # sum of the increasing subsequence that ends with `nums[i]`\n",
    "    total = [0] * len(nums)\n",
    "\n",
    "    # base case\n",
    "    total[0] = nums[0]\n",
    "\n",
    "    # start from the second element in the list\n",
    "    for i in range(1, len(nums)):\n",
    "\n",
    "        # do for each element in sublist `nums[0…i-1]`\n",
    "        for j in range(i):\n",
    "\n",
    "            # find increasing subsequence with the maximum sum that ends with\n",
    "            # `nums[j]`, where `nums[j]` is less than the current element `nums[i]`\n",
    "            if total[i] < total[j] and nums[i] > nums[j]:\n",
    "                total[i] = total[j]\n",
    "\n",
    "        # include `nums[i]` in MSIS\n",
    "        total[i] += nums[i]\n",
    "\n",
    "    # find increasing subsequence with the maximum sum\n",
    "    return max(total)\n",
    "\n",
    "\n",
    "if __name__ == \"__main__\":\n",
    "\n",
    "    nums = [8, 4, 12, 2, 10, 6, 14, 1, 9, 5, 13, 3, 11]\n",
    "\n",
    "    print(\"The maximum sum of the increasing subsequence is\", MSIS(nums))"
   ]
  },
  {
   "cell_type": "markdown",
   "metadata": {},
   "source": [
    "**Edit Distance (Leveinstein)**"
   ]
  },
  {
   "cell_type": "code",
   "execution_count": 14,
   "metadata": {},
   "outputs": [
    {
     "data": {
      "text/plain": [
       "3"
      ]
     },
     "execution_count": 14,
     "metadata": {},
     "output_type": "execute_result"
    }
   ],
   "source": [
    "x = \"kitten\"\n",
    "y = \"sitting\"\n",
    "\n",
    "\n",
    "def solve(x, y, m, n):\n",
    "    if n == 0:\n",
    "        return m\n",
    "    if m == 0:\n",
    "        return n\n",
    "    if x[m - 1] == y[n - 1]:\n",
    "        return solve(x, y, m - 1, n - 1)\n",
    "    return 1 + min(\n",
    "        solve(x, y, m - 1, n - 1), solve(x, y, m - 1, n), solve(x, y, m, n - 1)\n",
    "    )\n",
    "\n",
    "\n",
    "solve(x, y, len(x), len(y))"
   ]
  },
  {
   "cell_type": "code",
   "execution_count": null,
   "metadata": {},
   "outputs": [],
   "source": []
  },
  {
   "cell_type": "markdown",
   "metadata": {},
   "source": [
    "**20. Minimum cost in grid**\n",
    "\n",
    "*To Do: Print the path as well*"
   ]
  },
  {
   "cell_type": "code",
   "execution_count": 15,
   "metadata": {},
   "outputs": [
    {
     "data": {
      "text/plain": [
       "36"
      ]
     },
     "execution_count": 15,
     "metadata": {},
     "output_type": "execute_result"
    }
   ],
   "source": [
    "cost = [\n",
    "    [4, 7, 8, 6, 4],\n",
    "    [6, 7, 3, 9, 2],\n",
    "    [3, 8, 1, 2, 4],\n",
    "    [7, 1, 7, 3, 7],\n",
    "    [2, 9, 8, 9, 3],\n",
    "]\n",
    "\n",
    "\n",
    "def tabulation(cost):\n",
    "    m, n = len(cost), len(cost[0])\n",
    "    dp = [[0 for j in range(n)] for i in range(m)]\n",
    "    # for col == 0\n",
    "    dp[0][0] = cost[0][0]\n",
    "    for i in range(1, m):\n",
    "        dp[i][0] = cost[i][0] + dp[i - 1][0]\n",
    "    # for row==0\n",
    "    for j in range(1, n):\n",
    "        dp[0][j] = cost[0][j] + dp[0][j - 1]\n",
    "\n",
    "    # for rest\n",
    "    for i in range(1, m):\n",
    "        for j in range(1, n):\n",
    "            dp[i][j] = cost[i][j] + min(dp[i][j - 1], dp[i - 1][j])\n",
    "    return dp[m - 1][n - 1]\n",
    "\n",
    "\n",
    "tabulation(cost)"
   ]
  },
  {
   "cell_type": "code",
   "execution_count": 16,
   "metadata": {},
   "outputs": [
    {
     "data": {
      "text/plain": [
       "36"
      ]
     },
     "execution_count": 16,
     "metadata": {},
     "output_type": "execute_result"
    }
   ],
   "source": [
    "def solve(cost, m, n):\n",
    "    if m == 0 and n == 0:\n",
    "        return cost[0][0]\n",
    "    if m < 0 or n < 0:\n",
    "        return 1e5\n",
    "    left = cost[m][n] + solve(cost, m, n - 1)\n",
    "    up = cost[m][n] + solve(cost, m - 1, n)\n",
    "    return min(left, up)\n",
    "\n",
    "\n",
    "solve(cost, len(cost) - 1, len(cost[0]) - 1)"
   ]
  },
  {
   "cell_type": "markdown",
   "metadata": {},
   "source": [
    "**Count the number of paths in a matrix with a given cost to reach the destination cell**"
   ]
  },
  {
   "cell_type": "code",
   "execution_count": 49,
   "metadata": {},
   "outputs": [
    {
     "data": {
      "text/plain": [
       "2"
      ]
     },
     "execution_count": 49,
     "metadata": {},
     "output_type": "execute_result"
    }
   ],
   "source": [
    "def solve(mat, m, n, cost, dp):\n",
    "    if m == 0 and n == 0:\n",
    "        if cost == mat[0][0]:\n",
    "            return 1\n",
    "        return 0\n",
    "\n",
    "    if m < 0 or n < 0 or cost < 0:\n",
    "        return 0\n",
    "\n",
    "    if dp[m][n][cost] != -1:\n",
    "        return dp[m][n][cost]\n",
    "\n",
    "    left = solve(mat, m, n - 1, cost - mat[m][n], dp)\n",
    "    up = solve(mat, m - 1, n, cost - mat[m][n], dp)\n",
    "    dp[m][n][cost] = up + left\n",
    "    return up + left\n",
    "\n",
    "\n",
    "# cost = 12\n",
    "# mat = [[1, 2, 3], [4, 6, 5], [3, 2, 1]]\n",
    "\n",
    "# cost = 16\n",
    "\n",
    "# mat = [[1, 2, 3], [4, 6, 5], [9, 8, 7]]\n",
    "\n",
    "mat = [[4, 7, 1, 6], [5, 7, 3, 9], [3, 2, 1, 2], [7, 1, 6, 3]]\n",
    "\n",
    "cost = 25\n",
    "dp = [\n",
    "    [[-1 for _ in range(cost + 1)] for _ in range(len(mat[0]))] for _ in range(len(mat))\n",
    "]\n",
    "m, n = len(mat), len(mat[0])\n",
    "solve(mat, m - 1, n - 1, cost, dp)"
   ]
  },
  {
   "cell_type": "code",
   "execution_count": 37,
   "metadata": {},
   "outputs": [
    {
     "data": {
      "text/plain": [
       "2"
      ]
     },
     "execution_count": 37,
     "metadata": {},
     "output_type": "execute_result"
    }
   ],
   "source": [
    "# from 0,0 to last m-1,n-1 cell\n",
    "\n",
    "mat = [[4, 7, 1, 6], [5, 7, 3, 9], [3, 2, 1, 2], [7, 1, 6, 3]]\n",
    "\n",
    "cost = 25\n",
    "\n",
    "\n",
    "def solve(mat, m, n, cost):\n",
    "    if m == 0 and n == 0:\n",
    "        if cost == mat[0][0]:\n",
    "            return 1\n",
    "        return 0\n",
    "    # if m == 0:  # row 0 can only go left\n",
    "    #     return solve(mat, m, n - 1, cost - mat[m][n])\n",
    "\n",
    "    # if n == 0:  # can only go up\n",
    "    #     return solve(mat, m - 1, n, cost - [m][n])\n",
    "    if m < 0 or n < 0:\n",
    "        return 0\n",
    "    left = solve(mat, m, n - 1, cost - mat[m][n])\n",
    "    up = solve(mat, m - 1, n, cost - mat[m][n])\n",
    "    return up + left\n",
    "\n",
    "\n",
    "solve(mat, 3, 3, 25)"
   ]
  },
  {
   "cell_type": "markdown",
   "metadata": {},
   "source": [
    "**Ways to reach the bottom-right corner of a matrix with exactly `k` turns allowed**"
   ]
  },
  {
   "cell_type": "code",
   "execution_count": 50,
   "metadata": {},
   "outputs": [
    {
     "name": "stdout",
     "output_type": "stream",
     "text": [
      "The total number of ways is 2\n"
     ]
    }
   ],
   "source": [
    "# Function to check whether (i, j) is a valid matrix coordinate or not\n",
    "def isValid(i, j, M, N):\n",
    "    return 0 <= i < M and 0 <= j < N\n",
    "\n",
    "\n",
    "# Recursive function to count the number of different ways to reach the last\n",
    "# cell (M-1, N-1) of a matrix from the given cell (i, j) with `k` turns left.\n",
    "# `isCol` flag is true when the current direction is along the column, false otherwise.\n",
    "def totalWays(M, N, i, j, k, isCol):\n",
    "    # If the number of turns is exhausted or if the cell is invalid\n",
    "    if k == -1 or not isValid(i, j, M, N):\n",
    "        return 0\n",
    "\n",
    "    # If the destination is reached with exactly `k` turns\n",
    "    if k == 0 and i == M - 1 and j == N - 1:\n",
    "        return 1\n",
    "\n",
    "    # If the current direction is along a column\n",
    "    if isCol:\n",
    "        # 1. Continue moving along the column\n",
    "        # 2. Turn right and decrement the number of turns by 1\n",
    "        return totalWays(M, N, i + 1, j, k, isCol) + totalWays(\n",
    "            M, N, i, j + 1, k - 1, not isCol\n",
    "        )\n",
    "\n",
    "    # If the current direction is along a row\n",
    "    # 1. Continue moving along the row\n",
    "    # 2. Turn down and decrement the number of turns by 1\n",
    "    return totalWays(M, N, i, j + 1, k, isCol) + totalWays(\n",
    "        M, N, i + 1, j, k - 1, not isCol\n",
    "    )\n",
    "\n",
    "\n",
    "# Function to count the number of different ways to reach the bottom-right corner\n",
    "# of a matrix from its top-left corner with exactly `k` turns allowed\n",
    "def findTotalWays(M, N, k, i=0, j=0):\n",
    "    # Recur by moving along a column and a row.\n",
    "    return totalWays(M, N, i + 1, j, k, True) + totalWays(M, N, i, j + 1, k, False)\n",
    "\n",
    "\n",
    "if __name__ == \"__main__\":\n",
    "\n",
    "    # `M × N` matrix\n",
    "    M = N = 3\n",
    "\n",
    "    # Number of turns\n",
    "    k = 2\n",
    "\n",
    "    print(\"The total number of ways is\", findTotalWays(M, N, k))"
   ]
  },
  {
   "cell_type": "markdown",
   "metadata": {},
   "source": [
    "**0/1 Knapscak**"
   ]
  },
  {
   "cell_type": "code",
   "execution_count": 52,
   "metadata": {},
   "outputs": [
    {
     "data": {
      "text/plain": [
       "60"
      ]
     },
     "execution_count": 52,
     "metadata": {},
     "output_type": "execute_result"
    }
   ],
   "source": [
    "value = [20, 5, 10, 40, 15, 25]\n",
    "weight = [1, 2, 3, 8, 7, 4]\n",
    "w = 10\n",
    "\n",
    "\n",
    "def solve(value, weight, w, n):\n",
    "    if w < 0:\n",
    "        return -1e5\n",
    "    if n == 0:\n",
    "        if w >= weight[0]:\n",
    "            return value[0]\n",
    "        return 0\n",
    "    exc = solve(value, weight, w, n - 1)\n",
    "    inc = -1e5\n",
    "    if w > weight[n]:\n",
    "        inc = value[n] + solve(value, weight, w - weight[n], n - 1)\n",
    "    return max(exc, inc)\n",
    "\n",
    "\n",
    "solve(value, weight, w, len(value) - 1)"
   ]
  },
  {
   "cell_type": "code",
   "execution_count": 122,
   "metadata": {},
   "outputs": [
    {
     "data": {
      "text/plain": [
       "60"
      ]
     },
     "execution_count": 122,
     "metadata": {},
     "output_type": "execute_result"
    }
   ],
   "source": [
    "def topdown(value, weight, w, n, dp):\n",
    "    if w < 0:\n",
    "        return -1e5\n",
    "    if n == 0:\n",
    "        if w <= weight[0]:\n",
    "            return value[0]\n",
    "        return 0\n",
    "    key = (n, w)\n",
    "    if key not in dp:\n",
    "        exc = topdown(value, weight, w, n - 1, dp)\n",
    "        inc = -1e5\n",
    "        if w > weight[n]:\n",
    "            inc = value[n] + topdown(value, weight, w - weight[n], n - 1, dp)\n",
    "        dp[key] = max(exc, inc)\n",
    "    return dp[key]\n",
    "\n",
    "\n",
    "topdown(value, weight, w, len(value) - 1, {})"
   ]
  },
  {
   "cell_type": "code",
   "execution_count": 125,
   "metadata": {},
   "outputs": [
    {
     "name": "stdout",
     "output_type": "stream",
     "text": [
      "30\n"
     ]
    }
   ],
   "source": [
    "def tabulation(value, weight, w):\n",
    "    n = len(value)\n",
    "    dp = [[0 for j in range(w + 1)] for i in range(n)]\n",
    "    # foe w == 0 proft = 0\n",
    "    for i in range(n):\n",
    "        dp[i][0] = 0\n",
    "    # for index ,i = 0\n",
    "    for j in range(weight[0], w + 1):\n",
    "        dp[0][j] = value[0]\n",
    "\n",
    "    for i in range(1, n):\n",
    "        for j in range(1, w + 1):  # w\n",
    "            exc = dp[i - 1][j]  # profit will be same as previous\n",
    "            inc = -1e5\n",
    "            if weight[i] <= j:\n",
    "                inc = (\n",
    "                    value[i] + dp[i - 1][j - weight[i]]\n",
    "                )  # current proft + w-currentw previous max profit\n",
    "            dp[i][j] = max(exc, inc)\n",
    "    return dp, dp[n - 1][w]\n",
    "\n",
    "\n",
    "dp, ans = tabulation(value, weight, w)\n",
    "print(ans)"
   ]
  },
  {
   "cell_type": "code",
   "execution_count": 135,
   "metadata": {},
   "outputs": [
    {
     "name": "stdout",
     "output_type": "stream",
     "text": [
      "220\n",
      "30\n",
      "20\n"
     ]
    }
   ],
   "source": [
    "def printknapSack(W, wt, val, n):\n",
    "    K = [[0 for w in range(W + 1)] for i in range(n)]\n",
    "\n",
    "    # Build table K[][] in bottom\n",
    "    # up manner\n",
    "    for j in range(wt[0], W + 1):\n",
    "        K[0][j] = val[0]\n",
    "    for i in range(n):\n",
    "        for w in range(W + 1):\n",
    "            # if i == 0 or w == 0:\n",
    "            #     K[i][w] = 0\n",
    "            if wt[i] <= w:\n",
    "                K[i][w] = max(val[i] + K[i - 1][w - wt[i]], K[i - 1][w])\n",
    "            else:\n",
    "                K[i][w] = K[i - 1][w]\n",
    "\n",
    "    # stores the result of Knapsack\n",
    "    res = K[n - 1][W]\n",
    "    print(res)\n",
    "\n",
    "    w = W\n",
    "    for i in range(n - 1, 0, -1):\n",
    "        if res <= 0:\n",
    "            break\n",
    "        # either the result comes from the\n",
    "        # top (K[i-1][w]) or from (val[i-1]\n",
    "        # + K[i-1] [w-wt[i-1]]) as in Knapsack\n",
    "        # table. If it comes from the latter\n",
    "        # one/ it means the item is included.\n",
    "        if res == K[i - 1][w]:\n",
    "            continue\n",
    "        else:\n",
    "\n",
    "            # This item is included.\n",
    "            print(wt[i])\n",
    "\n",
    "            # Since this weight is included\n",
    "            # its value is deducted\n",
    "            res = res - val[i]\n",
    "            w = w - wt[i]\n",
    "\n",
    "\n",
    "# Driver code\n",
    "val = [60, 100, 120]\n",
    "wt = [10, 20, 30]\n",
    "W = 50\n",
    "n = len(val)\n",
    "\n",
    "printknapSack(W, wt, val, n)"
   ]
  },
  {
   "cell_type": "markdown",
   "metadata": {},
   "source": [
    "**Unbounded Knapsack (Repetition of items allowed)**"
   ]
  },
  {
   "cell_type": "code",
   "execution_count": 110,
   "metadata": {},
   "outputs": [
    {
     "name": "stdout",
     "output_type": "stream",
     "text": [
      "300\n"
     ]
    }
   ],
   "source": [
    "def unboundedKnapsack(W, index, val, wt):\n",
    "\n",
    "    # Base case of recursion when only one element is there.\n",
    "    if index == 0:\n",
    "        return (W // wt[0]) * val[0]\n",
    "    # If the element with referred by index is doesn't occur even once in the required solution\n",
    "    notTake = 0 + unboundedKnapsack(W, index - 1, val, wt)\n",
    "    # If the element is occur atleast once in the required solution\n",
    "    take = -100000\n",
    "    if wt[index] <= W:\n",
    "        take = val[index] + unboundedKnapsack(W - wt[index], index, val, wt)\n",
    "    return max(take, notTake)\n",
    "\n",
    "\n",
    "# Driver program\n",
    "W = 100\n",
    "val = [10, 30, 20]\n",
    "wt = [5, 10, 15]\n",
    "n = len(val)\n",
    "\n",
    "print(unboundedKnapsack(W, n - 1, val, wt))"
   ]
  },
  {
   "cell_type": "markdown",
   "metadata": {},
   "source": [
    "**Subset equal sum OR subset with sum equal k**"
   ]
  },
  {
   "cell_type": "code",
   "execution_count": 21,
   "metadata": {},
   "outputs": [
    {
     "data": {
      "text/plain": [
       "True"
      ]
     },
     "execution_count": 21,
     "metadata": {},
     "output_type": "execute_result"
    }
   ],
   "source": [
    "nums = [3, 1, 1, 2, 2, 1]\n",
    "# nums = [7, 3, 1, 5, 4, 8]\n",
    "s = sum(nums) // 2  # if sum is odd ans False\n",
    "\n",
    "\n",
    "def solve(nums, n, s):\n",
    "    if n == 0:  # or n<0 s == 0 true else false\n",
    "        if s == nums[n]:\n",
    "            return True\n",
    "        return False\n",
    "    if s < 0:\n",
    "        return False\n",
    "    exc = solve(nums, n - 1, s)\n",
    "    inc = False\n",
    "    if s >= nums[n]:\n",
    "        inc = solve(nums, n - 1, s - nums[n])\n",
    "    return exc or inc\n",
    "\n",
    "\n",
    "solve(nums, len(nums) - 1, s)"
   ]
  },
  {
   "cell_type": "code",
   "execution_count": 79,
   "metadata": {},
   "outputs": [
    {
     "name": "stdout",
     "output_type": "stream",
     "text": [
      "[7, 3, 4] [1, 5, 8]\n",
      "[1, 5, 8] [7, 3, 4]\n"
     ]
    },
    {
     "data": {
      "text/plain": [
       "False"
      ]
     },
     "execution_count": 79,
     "metadata": {},
     "output_type": "execute_result"
    }
   ],
   "source": [
    "# nums = [3, 1, 1, 2, 2, 1]\n",
    "nums = [7, 3, 1, 5, 4, 8]\n",
    "s = sum(nums) // 2  # if sum is odd ans False\n",
    "\n",
    "\n",
    "def solve(nums, i, n, s1, s2, ans1, ans2):\n",
    "    if i == n:\n",
    "        if s1 == s2:\n",
    "            print(ans1, ans2)\n",
    "            return True\n",
    "        return False\n",
    "    # if s < 0:\n",
    "    #     return False\n",
    "    ans1.append(nums[i])\n",
    "    in1 = solve(nums, i + 1, n, s1 + nums[i], s2, ans1, ans2)\n",
    "    # if in1:\n",
    "    #     return in1\n",
    "    ans1.pop()\n",
    "    ans2.append(nums[i])\n",
    "\n",
    "    in2 = solve(nums, i + 1, n, s1, s2 + nums[i], ans1, ans2)\n",
    "    # if in2:\n",
    "    #     return in2\n",
    "    ans2.pop()\n",
    "    return in2\n",
    "\n",
    "\n",
    "ans1 = []\n",
    "ans2 = []\n",
    "solve(nums, 0, len(nums), 0, 0, ans1, ans2)"
   ]
  },
  {
   "cell_type": "code",
   "execution_count": 78,
   "metadata": {},
   "outputs": [
    {
     "name": "stdout",
     "output_type": "stream",
     "text": [
      "[7, 3, 4] [1, 5, 8]\n"
     ]
    },
    {
     "data": {
      "text/plain": [
       "True"
      ]
     },
     "execution_count": 78,
     "metadata": {},
     "output_type": "execute_result"
    }
   ],
   "source": [
    "# nums = [3, 1, 1, 2, 2, 1]\n",
    "nums = [7, 3, 1, 5, 4, 8]\n",
    "s = sum(nums) // 2  # if sum is odd ans False\n",
    "\n",
    "\n",
    "def solve(nums, i, n, s1, s2, ans1, ans2):\n",
    "    if i == n:\n",
    "        if s1 == s2:\n",
    "            print(ans1, ans2)\n",
    "            return True\n",
    "        return False\n",
    "    # if s < 0:\n",
    "    #     return False\n",
    "    ans1.append(nums[i])\n",
    "    in1 = solve(nums, i + 1, n, s1 + nums[i], s2, ans1, ans2)\n",
    "    if in1:  # will print one one solution\n",
    "        return in1\n",
    "    ans1.pop()\n",
    "    ans2.append(nums[i])\n",
    "\n",
    "    in2 = solve(nums, i + 1, n, s1, s2 + nums[i], ans1, ans2)\n",
    "    # if in2:\n",
    "    #     return in2\n",
    "    ans2.pop()\n",
    "    return in2 or in1\n",
    "\n",
    "\n",
    "ans1 = []\n",
    "ans2 = []\n",
    "solve(nums, 0, len(nums), 0, 0, ans1, ans2)"
   ]
  },
  {
   "cell_type": "code",
   "execution_count": 77,
   "metadata": {},
   "outputs": [
    {
     "name": "stdout",
     "output_type": "stream",
     "text": [
      "[7, 4, 3]\n"
     ]
    },
    {
     "data": {
      "text/plain": [
       "True"
      ]
     },
     "execution_count": 77,
     "metadata": {},
     "output_type": "execute_result"
    }
   ],
   "source": [
    "# nums = [7, 3, 1, 5, 4, 8]\n",
    "nums = [3, 1, 1, 2, 2, 1]\n",
    "s = sum(nums) // 2  # if sum is odd ans False\n",
    "\n",
    "\n",
    "def solve(nums, i, s1, ans1):\n",
    "    if i == 0:\n",
    "        if s1 == nums[i]:\n",
    "            ans1.insert(\n",
    "                0, nums[i]\n",
    "            )  # last to frist append will chane the order of output subsequence\n",
    "            print(ans1)\n",
    "            ans1.pop(0)\n",
    "            return True\n",
    "        return False\n",
    "    in2 = solve(nums, i - 1, s1, ans1)\n",
    "    # if in2: #as sooon we found a solution we return it #will print only one solution\n",
    "    #     return True\n",
    "    in1 = False\n",
    "    if nums[i] <= s:\n",
    "        ans1.append(nums[i])\n",
    "        in1 = solve(nums, i - 1, s1 - nums[i], ans1)\n",
    "        # if in1:\n",
    "        #     return in1\n",
    "        ans1.pop()\n",
    "\n",
    "    return in2 or in1\n",
    "\n",
    "\n",
    "ans1 = []\n",
    "solve(nums, len(nums) - 1, s, ans1)"
   ]
  },
  {
   "cell_type": "code",
   "execution_count": 23,
   "metadata": {},
   "outputs": [
    {
     "name": "stdout",
     "output_type": "stream",
     "text": [
      "[3, 1, 1]\n"
     ]
    },
    {
     "data": {
      "text/plain": [
       "True"
      ]
     },
     "execution_count": 23,
     "metadata": {},
     "output_type": "execute_result"
    }
   ],
   "source": [
    "# nums = [7, 3, 1, 5, 4, 8]\n",
    "nums = [3, 1, 1, 2, 2, 1]\n",
    "s = sum(nums) // 2  # if sum is odd ans False\n",
    "\n",
    "\n",
    "def solve(nums, i, s1, ans1):\n",
    "    if i == 0:\n",
    "        if s1 == nums[i]:\n",
    "            ans1.insert(\n",
    "                0, nums[i]\n",
    "            )  # last to frist append will chane the order of output subsequence\n",
    "            print(ans1)\n",
    "            return True\n",
    "        return False\n",
    "    ans1.append(nums[i])\n",
    "    in1 = solve(nums, i - 1, s1 - nums[i], ans1)\n",
    "    if in1:  # as sson as we found true we return it #will print only one solution\n",
    "        return in1\n",
    "    ans1.pop()\n",
    "\n",
    "    in2 = solve(nums, i - 1, s1, ans1)\n",
    "\n",
    "    return in2\n",
    "\n",
    "\n",
    "ans1 = []\n",
    "solve(nums, len(nums) - 1, s, ans1)"
   ]
  },
  {
   "cell_type": "code",
   "execution_count": 26,
   "metadata": {},
   "outputs": [
    {
     "name": "stdout",
     "output_type": "stream",
     "text": [
      "[7, 8, 3]\n"
     ]
    },
    {
     "data": {
      "text/plain": [
       "True"
      ]
     },
     "execution_count": 26,
     "metadata": {},
     "output_type": "execute_result"
    }
   ],
   "source": [
    "# nums = [7, 3, 2, 5, 8]\n",
    "# k = 14\n",
    "nums = [7, 3, 2, 5, 8]\n",
    "k = 18\n",
    "ans1 = []\n",
    "solve(nums, len(nums) - 1, k, ans1)"
   ]
  },
  {
   "cell_type": "code",
   "execution_count": 27,
   "metadata": {},
   "outputs": [
    {
     "data": {
      "text/plain": [
       "True"
      ]
     },
     "execution_count": 27,
     "metadata": {},
     "output_type": "execute_result"
    }
   ],
   "source": [
    "nums = [7, 3, 2, 5, 8]\n",
    "k = 14\n",
    "\n",
    "\n",
    "# solve(nums, 0, len(nums) - 1, k)\n",
    "def tabulation(nums, k):\n",
    "    s = k\n",
    "    n = len(nums)\n",
    "    dp = [[False for j in range(s + 1)] for i in range(n)]\n",
    "    # for s== 0 set it True\n",
    "    for i in range(n):\n",
    "        dp[i][0] = True\n",
    "\n",
    "    # frist element this condi does not affect output\n",
    "    if nums[0] <= s:\n",
    "        dp[0][nums[0]] = True\n",
    "\n",
    "    for i in range(1, n):\n",
    "        for j in range(1, s + 1):\n",
    "            exc = dp[i - 1][j]\n",
    "            inc = False\n",
    "            if j >= nums[i]:\n",
    "                inc = dp[i - 1][j - nums[i]]\n",
    "            dp[i][j] = inc or exc\n",
    "    return dp[n - 1][s]\n",
    "\n",
    "\n",
    "tabulation(nums, k)"
   ]
  },
  {
   "cell_type": "code",
   "execution_count": 28,
   "metadata": {},
   "outputs": [
    {
     "data": {
      "text/plain": [
       "True"
      ]
     },
     "execution_count": 28,
     "metadata": {},
     "output_type": "execute_result"
    }
   ],
   "source": [
    "def tabulation(nums):\n",
    "    s = sum(nums) // 2\n",
    "    n = len(nums)\n",
    "    dp = [[False for j in range(s + 1)] for i in range(n)]\n",
    "    # for s== 0 set it True\n",
    "    for i in range(n):\n",
    "        dp[i][0] = True\n",
    "\n",
    "    # frist element this condi does not affect output\n",
    "    if nums[0] <= s:\n",
    "        dp[0][nums[0]] = True\n",
    "\n",
    "    for i in range(1, n):\n",
    "        for j in range(1, s + 1):\n",
    "            exc = dp[i - 1][j]\n",
    "            inc = False\n",
    "            if j >= nums[i]:\n",
    "                inc = dp[i - 1][j - nums[i]]\n",
    "            dp[i][j] = inc or exc\n",
    "    return dp[n - 1][s]\n",
    "\n",
    "\n",
    "# nums = [3, 1, 1, 2, 2, 1]\n",
    "nums = [7, 3, 1, 5, 4, 8]\n",
    "tabulation(nums)"
   ]
  },
  {
   "cell_type": "markdown",
   "metadata": {},
   "source": [
    "**3–Partition Problem disjoint set (no common element)**\n",
    "\n",
    "\n",
    "*printing the subsequence of ksum or equal partition is trickey compare to 3-partion becuase in 3-pa every array will go into  one of 3*"
   ]
  },
  {
   "cell_type": "code",
   "execution_count": 29,
   "metadata": {},
   "outputs": [
    {
     "name": "stdout",
     "output_type": "stream",
     "text": [
      "Partition 0 is [2, 8]\n",
      "Partition 1 is [1, 5, 4]\n",
      "Partition 2 is [7, 3]\n"
     ]
    }
   ],
   "source": [
    "def isSubsetExist(S, n, a, b, c, list):\n",
    "\n",
    "    # return true if the subset is found\n",
    "    if a == 0 and b == 0 and c == 0:\n",
    "        return True\n",
    "\n",
    "    # base case: no items left\n",
    "    if n < 0:\n",
    "        return False\n",
    "\n",
    "    # Case 1. The current item becomes part of the first subset\n",
    "    A = False\n",
    "    if a - S[n] >= 0:\n",
    "        list[n] = 1  # current element goes to the first subset\n",
    "        A = isSubsetExist(S, n - 1, a - S[n], b, c, list)\n",
    "\n",
    "    # Case 2. The current item becomes part of the second subset\n",
    "    B = False\n",
    "    if not A and (b - S[n] >= 0):\n",
    "        list[n] = 2  # current element goes to the second subset\n",
    "        B = isSubsetExist(S, n - 1, a, b - S[n], c, list)\n",
    "\n",
    "    # Case 3. The current item becomes part of the third subset\n",
    "    C = False\n",
    "    if (not A and not B) and (c - S[n] >= 0):\n",
    "        list[n] = 3  # current element goes to the third subset\n",
    "        C = isSubsetExist(S, n - 1, a, b, c - S[n], list)\n",
    "\n",
    "    # return true if we get a solution\n",
    "    return A or B or C\n",
    "\n",
    "\n",
    "# Function for solving the 3–partition problem. It prints the subset if\n",
    "# given set `S[0…n-1]` can be divided into three subsets with an equal sum\n",
    "def partition(S):\n",
    "\n",
    "    # get the sum of all elements in the set\n",
    "    total = sum(S)\n",
    "\n",
    "    # construct a list to track the subsets\n",
    "    # `A[i] = k` represents i'th item of `S` is part of k'th subset\n",
    "    A = [None] * len(S)\n",
    "\n",
    "    # set result to true if the sum is divisible by 3 and the set `S` can\n",
    "    # be divided into three subsets with an equal sum\n",
    "    result = (\n",
    "        (len(S) >= 3)\n",
    "        and (total % 3) == 0\n",
    "        and isSubsetExist(S, len(S) - 1, total / 3, total / 3, total / 3, A)\n",
    "    )\n",
    "\n",
    "    if not result:\n",
    "        print(\"3-Partition of set is not possible\")\n",
    "        return\n",
    "\n",
    "    # print the partitions\n",
    "    for i in range(3):\n",
    "        print(f\"Partition {i} is\", [S[j] for j in range(len(S)) if A[j] == i + 1])\n",
    "\n",
    "\n",
    "if __name__ == \"__main__\":\n",
    "\n",
    "    # Input: a set of integers\n",
    "    S = [7, 3, 2, 1, 5, 4, 8]\n",
    "    partition(S)"
   ]
  },
  {
   "cell_type": "markdown",
   "metadata": {},
   "source": [
    "**K partition array**"
   ]
  },
  {
   "cell_type": "code",
   "execution_count": 30,
   "metadata": {},
   "outputs": [
    {
     "name": "stdout",
     "output_type": "stream",
     "text": [
      "Partition 0 is [2, 6, 4]\n",
      "Partition 1 is [8, 4]\n",
      "Partition 2 is [3, 1, 5, 3]\n",
      "Partition 3 is [12]\n",
      "Partition 4 is [7, 5]\n"
     ]
    }
   ],
   "source": [
    "# Function to check if all subsets are filled or not\n",
    "def checkSum(sumLeft, k):\n",
    "\n",
    "    r = True\n",
    "    for i in range(k):\n",
    "        if sumLeft[i]:\n",
    "            r = False\n",
    "\n",
    "    return r\n",
    "\n",
    "\n",
    "# Helper function for solving `k` partition problem.\n",
    "# It returns true if there exist `k` subsets with the given sum\n",
    "def subsetSum(S, n, sumLeft, A, k):\n",
    "\n",
    "    # return true if a subset is found\n",
    "    if checkSum(sumLeft, k):\n",
    "        return True\n",
    "\n",
    "    # base case: no items left\n",
    "    if n < 0:\n",
    "        return False\n",
    "\n",
    "    result = False\n",
    "\n",
    "    # consider current item `S[n]` and explore all possibilities\n",
    "    # using backtracking\n",
    "    for i in range(k):\n",
    "        if not result and (sumLeft[i] - S[n]) >= 0:\n",
    "\n",
    "            # mark the current element subset\n",
    "            A[n] = i + 1\n",
    "\n",
    "            # add the current item to the i'th subset\n",
    "            sumLeft[i] = sumLeft[i] - S[n]\n",
    "\n",
    "            # recur for remaining items\n",
    "            result = subsetSum(S, n - 1, sumLeft, A, k)\n",
    "\n",
    "            # backtrack: remove the current item from the i'th subset\n",
    "            sumLeft[i] = sumLeft[i] + S[n]\n",
    "\n",
    "    # return true if we get a solution\n",
    "    return result\n",
    "\n",
    "\n",
    "# Function for solving k–partition problem. It prints the subsets if\n",
    "# set `S[0…n-1]` can be divided into `k` subsets with equal sum\n",
    "def partition(S, k):\n",
    "\n",
    "    # get the total number of items in `S`\n",
    "    n = len(S)\n",
    "\n",
    "    # base case\n",
    "    if n < k:\n",
    "        print(\"k-partition of set S is not possible\")\n",
    "        return\n",
    "\n",
    "    # get the sum of all elements in the set\n",
    "    total = sum(S)\n",
    "    A = [None] * n\n",
    "\n",
    "    # create a list of size `k` for each subset and initialize it\n",
    "    # by their expected sum, i.e., `sum/k`\n",
    "    sumLeft = [total // k] * k\n",
    "\n",
    "    # return true if the sum is divisible by `k` and set `S` can\n",
    "    # be divided into `k` subsets with equal sum\n",
    "    result = (total % k) == 0 and subsetSum(S, n - 1, sumLeft, A, k)\n",
    "\n",
    "    if not result:\n",
    "        print(\"k-partition of set S is not possible\")\n",
    "        return\n",
    "\n",
    "    # print all k–partitions\n",
    "    for i in range(k):\n",
    "        print(f\"Partition {i} is\", [S[j] for j in range(n) if A[j] == i + 1])\n",
    "\n",
    "\n",
    "if __name__ == \"__main__\":\n",
    "\n",
    "    # Input: a set of integers\n",
    "    S = [7, 3, 5, 12, 2, 1, 5, 3, 8, 4, 6, 4]\n",
    "    k = 5\n",
    "\n",
    "    partition(S, k)"
   ]
  },
  {
   "cell_type": "markdown",
   "metadata": {},
   "source": [
    "**Minimum Sum Partition Problem**\n",
    "\n",
    "*S1-S2 should be minimum S1,S2 are partition sum*"
   ]
  },
  {
   "cell_type": "code",
   "execution_count": 8,
   "metadata": {},
   "outputs": [
    {
     "data": {
      "text/plain": [
       "5"
      ]
     },
     "execution_count": 8,
     "metadata": {},
     "output_type": "execute_result"
    }
   ],
   "source": [
    "nums = [10, 20, 15, 5, 25]\n",
    "\n",
    "\n",
    "def solve(nums, n, s1, s2, ans):\n",
    "    if n < 0:\n",
    "        return abs(s1 - s2)\n",
    "\n",
    "    in1 = solve(nums, n - 1, s1 + nums[n], s2, ans)\n",
    "    in2 = solve(nums, n - 1, s1, s2 + nums[n], ans)\n",
    "    return min(in1, in2)\n",
    "\n",
    "\n",
    "solve(nums, len(nums) - 1, 0, 0, 1e3)"
   ]
  },
  {
   "cell_type": "code",
   "execution_count": 20,
   "metadata": {},
   "outputs": [
    {
     "data": {
      "text/plain": [
       "0"
      ]
     },
     "execution_count": 20,
     "metadata": {},
     "output_type": "execute_result"
    }
   ],
   "source": [
    "nums = [10, 20, 15, 5, 25]\n",
    "solve(nums, len(nums) - 1, 1e3)"
   ]
  },
  {
   "cell_type": "code",
   "execution_count": 6,
   "metadata": {},
   "outputs": [
    {
     "data": {
      "text/plain": [
       "5"
      ]
     },
     "execution_count": 6,
     "metadata": {},
     "output_type": "execute_result"
    }
   ],
   "source": [
    "solve(nums, len(nums) - 1, 0, 0, 1e3)\n",
    "# printing s1+s2 = s,s1-s2 = 5\n",
    "# get s1,s2 use above cell code to get subsequence"
   ]
  },
  {
   "cell_type": "markdown",
   "metadata": {},
   "source": [
    "**Rod Cutting Problem**"
   ]
  },
  {
   "cell_type": "code",
   "execution_count": 33,
   "metadata": {},
   "outputs": [
    {
     "data": {
      "text/plain": [
       "10"
      ]
     },
     "execution_count": 33,
     "metadata": {},
     "output_type": "execute_result"
    }
   ],
   "source": [
    "# rod can be cut multiple times on same length\n",
    "price = [1, 5, 8, 9, 10, 17, 17, 20]\n",
    "# rod length\n",
    "n = 4\n",
    "\n",
    "\n",
    "def solve(price, i, n, ans):\n",
    "    if i == 0:  # rod len 1\n",
    "        return n * price[i]\n",
    "    nocut = solve(price, i - 1, n, ans)\n",
    "    cut = -1e5\n",
    "    rlen = i + 1\n",
    "    if n >= rlen:\n",
    "        cut = price[i] + solve(\n",
    "            price, i, n - rlen, ans\n",
    "        )  # rod can be cut into same len multiple times\n",
    "    return max(cut, nocut)\n",
    "\n",
    "\n",
    "solve(price, n - 1, n, -1)"
   ]
  },
  {
   "cell_type": "code",
   "execution_count": 34,
   "metadata": {},
   "outputs": [
    {
     "data": {
      "text/plain": [
       "10"
      ]
     },
     "execution_count": 34,
     "metadata": {},
     "output_type": "execute_result"
    }
   ],
   "source": [
    "def solve(price, i, n, dp):\n",
    "    if i == 0:\n",
    "        return n * price[i]\n",
    "    key = (i, n)\n",
    "    if key not in dp:\n",
    "        nocut = solve(price, i - 1, n, dp)\n",
    "        cut = -1e5\n",
    "        rlen = i + 1\n",
    "        if n >= rlen:\n",
    "            cut = price[i] + solve(\n",
    "                price, i, n - rlen, dp\n",
    "            )  # rod can be cut into same len multiple times\n",
    "        dp[key] = max(cut, nocut)\n",
    "    return dp[key]\n",
    "\n",
    "\n",
    "solve(price, n - 1, n, {})"
   ]
  },
  {
   "cell_type": "code",
   "execution_count": 35,
   "metadata": {},
   "outputs": [
    {
     "name": "stdout",
     "output_type": "stream",
     "text": [
      "Maximum profit is 12.0\n"
     ]
    }
   ],
   "source": [
    "import numpy as np\n",
    "\n",
    "price = [2, 5, 7, 8]\n",
    "n = 5\n",
    "\n",
    "# Make an initial grid of all zeros\n",
    "T = np.zeros((len(price), n + 1))\n",
    "\n",
    "for i in range(0, len(price)):\n",
    "    for j in range(0, n + 1):\n",
    "\n",
    "        # First column => 0 length of rod => 0 profit\n",
    "        if j == 0:\n",
    "            continue\n",
    "\n",
    "        # First row => T[i-1,j] doesn't exist so just pick the second value\n",
    "        elif i == 0:\n",
    "            T[i, j] = price[i] + T[i, j - i - 1]\n",
    "\n",
    "        # where j <= i => T[i, j-i-1] doesn't exist so just pick the first value\n",
    "        elif (j - i - 1) < 0:\n",
    "            T[i, j] = T[i - 1, j]\n",
    "\n",
    "        # using the whole expression\n",
    "        else:\n",
    "            T[i, j] = max(T[i - 1, j], (price[i] + T[i, j - i - 1]))\n",
    "\n",
    "# Answer in the extreme bottom right cell\n",
    "print(\"Maximum profit is\", T[len(price) - 1, n])"
   ]
  },
  {
   "cell_type": "code",
   "execution_count": 83,
   "metadata": {},
   "outputs": [
    {
     "data": {
      "text/plain": [
       "22"
      ]
     },
     "execution_count": 83,
     "metadata": {},
     "output_type": "execute_result"
    }
   ],
   "source": [
    "price = [1, 5, 8, 9, 10, 17, 17, 20]\n",
    "n = 8\n",
    "\n",
    "\n",
    "def tabulation(price, n):\n",
    "    matrix = [0] * (\n",
    "        n + 1\n",
    "    )  # stores the maximum profit achieved from a rod of length `i`\n",
    "    for i in range(1, n + 1):\n",
    "        for j in range(1, n + 1):\n",
    "            # divide the rod of length `i` into two rods of length `j`\n",
    "            # and `i-j` each and take maximum\n",
    "            if i <= j:\n",
    "                matrix[j] = max(price[i - 1] + matrix[j - i], matrix[j])\n",
    "\n",
    "    return matrix[n]\n",
    "\n",
    "\n",
    "tabulation(price, n)"
   ]
  },
  {
   "cell_type": "code",
   "execution_count": 85,
   "metadata": {},
   "outputs": [
    {
     "data": {
      "text/plain": [
       "22"
      ]
     },
     "execution_count": 85,
     "metadata": {},
     "output_type": "execute_result"
    }
   ],
   "source": [
    "def solve_(n, price):\n",
    "    dp = [[0 for j in range(n + 1)] for i in range(n)]\n",
    "    for j in range(1, n + 1):\n",
    "        dp[0][j] = price[0] * j\n",
    "    for i in range(n):\n",
    "        dp[i][1] = price[0]\n",
    "\n",
    "    for i in range(1, n):\n",
    "        for j in range(2, n + 1):\n",
    "            nocut = dp[i - 1][j]\n",
    "            cut = -1e10\n",
    "            if i + 1 <= j:\n",
    "                cut = price[i] + dp[i][j - (i + 1)]\n",
    "            dp[i][j] = max(nocut, cut)\n",
    "    return dp[n - 1][n]\n",
    "\n",
    "\n",
    "solve_(n, price)"
   ]
  },
  {
   "cell_type": "markdown",
   "metadata": {},
   "source": [
    "**Maximum Product Rod Cutting**\n"
   ]
  },
  {
   "cell_type": "code",
   "execution_count": 37,
   "metadata": {},
   "outputs": [
    {
     "data": {
      "text/plain": [
       "2"
      ]
     },
     "execution_count": 37,
     "metadata": {},
     "output_type": "execute_result"
    }
   ],
   "source": [
    "def solve(i, n, ans):\n",
    "    if n <= 1:\n",
    "        return 1\n",
    "    if i >= n:\n",
    "        return 1\n",
    "    nocut = solve(i + 1, n, ans)\n",
    "    cut = i * solve(i, n - i, ans)\n",
    "    ans = max(ans, cut, nocut)\n",
    "    return ans\n",
    "\n",
    "\n",
    "n = 2\n",
    "solve(1, n + 1, -1)"
   ]
  },
  {
   "cell_type": "code",
   "execution_count": 38,
   "metadata": {},
   "outputs": [
    {
     "data": {
      "text/plain": [
       "[0, 1, 1, 2, 4, 6, 9, 12, 18, 27, 36]"
      ]
     },
     "execution_count": 38,
     "metadata": {},
     "output_type": "execute_result"
    }
   ],
   "source": [
    "def solve(i, n):\n",
    "    matrix = [0] * (\n",
    "        n + 1\n",
    "    )  # stores the maximum profit achieved from a rod of length `i`\n",
    "    matrix[1] = 1\n",
    "    for i in range(2, n + 1):\n",
    "        temp = -1\n",
    "        for j in range(1, i):\n",
    "            # divide the rod of length `i` into two rods of length `j`\n",
    "            # and `i-j` each and take maximum\n",
    "            # if i <= j:\n",
    "            temp = max(temp, j * matrix[i - j], j * (i - j))\n",
    "        matrix[i] = temp\n",
    "\n",
    "    return matrix\n",
    "\n",
    "\n",
    "solve(1, 10)"
   ]
  },
  {
   "cell_type": "markdown",
   "metadata": {},
   "source": [
    "**coin change**\n",
    "\n",
    "*find the minimum number of coins required to get the desired change*"
   ]
  },
  {
   "cell_type": "code",
   "execution_count": 42,
   "metadata": {},
   "outputs": [
    {
     "data": {
      "text/plain": [
       "4"
      ]
     },
     "execution_count": 42,
     "metadata": {},
     "output_type": "execute_result"
    }
   ],
   "source": [
    "coins = [1, 3, 5, 7]\n",
    "k = 18  # 15\n",
    "\n",
    "\n",
    "def solve(coins, n, k):\n",
    "    if n == 0:\n",
    "        if k % coins[0] == 0:\n",
    "            return k // coins[0]\n",
    "        return 1e5\n",
    "    if k < 0:\n",
    "        return 1e5\n",
    "    if k == 0:\n",
    "        return 1\n",
    "\n",
    "    notake = solve(coins, n - 1, k)\n",
    "    take = 1e5\n",
    "    if k >= coins[n]:\n",
    "        take = 1 + solve(coins, n, k - coins[n])\n",
    "    return min(notake, take)\n",
    "\n",
    "\n",
    "solve(coins, len(coins) - 1, k)"
   ]
  },
  {
   "cell_type": "code",
   "execution_count": 43,
   "metadata": {},
   "outputs": [
    {
     "data": {
      "text/plain": [
       "[[0, 1, 2, 3, 4, 5, 6, 7, 8, 9, 10, 11, 12, 13, 14, 15, 16, 17, 18],\n",
       " [0, 1, 2, 1, 2, 3, 2, 3, 4, 3, 4, 5, 4, 5, 6, 5, 6, 7, 6],\n",
       " [0, 1, 2, 1, 2, 1, 2, 3, 2, 3, 2, 3, 4, 3, 4, 3, 4, 5, 4],\n",
       " [0, 1, 2, 1, 2, 1, 2, 1, 2, 3, 2, 3, 2, 3, 2, 3, 4, 3, 4]]"
      ]
     },
     "execution_count": 43,
     "metadata": {},
     "output_type": "execute_result"
    }
   ],
   "source": [
    "def tabulation(coins, k):\n",
    "    n = len(coins)\n",
    "    dp = [[0 for j in range(k + 1)] for j in range(n)]\n",
    "\n",
    "    for j in range(k + 1):\n",
    "        if j % coins[0] == 0:\n",
    "            dp[0][j] = j // coins[0]\n",
    "    # for s == min ==0\n",
    "    for i in range(1, n):\n",
    "        for j in range(1, k + 1):\n",
    "            nottake = dp[i - 1][j]\n",
    "            take = 1e5\n",
    "            if j >= coins[i]:\n",
    "                take = dp[i][j - coins[i]]\n",
    "            dp[i][j] = min(take + 1, nottake)\n",
    "    return dp\n",
    "\n",
    "\n",
    "tabulation(coins, k)"
   ]
  },
  {
   "cell_type": "code",
   "execution_count": 45,
   "metadata": {},
   "outputs": [
    {
     "data": {
      "text/plain": [
       "4"
      ]
     },
     "execution_count": 45,
     "metadata": {},
     "output_type": "execute_result"
    }
   ],
   "source": [
    "# Function to find the minimum number of coins required\n",
    "# to get a total of `target` from set `S`\n",
    "import sys\n",
    "\n",
    "\n",
    "def findMinCoins(S, target):\n",
    "\n",
    "    # `T[i]` stores the minimum number of coins needed to get a total of i\n",
    "    T = [0] * (target + 1)\n",
    "\n",
    "    for i in range(1, target + 1):\n",
    "\n",
    "        # initialize the minimum number of coins needed to infinity\n",
    "        T[i] = sys.maxsize\n",
    "\n",
    "        # do for each coin\n",
    "        for c in range(len(S)):\n",
    "            # check if the index doesn't become negative by including\n",
    "            # current coin `c`\n",
    "            if i - S[c] >= 0:\n",
    "                result = T[i - S[c]]\n",
    "\n",
    "                # if total can be reached by including current coin `c`,\n",
    "                # update the minimum number of coins needed `T[i]`\n",
    "                if result != sys.maxsize:\n",
    "                    T[i] = min(T[i], result + 1)\n",
    "\n",
    "    # `T[target]` stores the minimum number of coins needed to get a total of `target`\n",
    "    return T[target]\n",
    "\n",
    "\n",
    "findMinCoins(coins, k)"
   ]
  },
  {
   "cell_type": "markdown",
   "metadata": {},
   "source": [
    "**find the total number of distinct ways to get the desired change.**\n",
    "\n",
    "*Total possible solutions to a linear equation of `k` variables*"
   ]
  },
  {
   "cell_type": "code",
   "execution_count": 46,
   "metadata": {},
   "outputs": [
    {
     "data": {
      "text/plain": [
       "6"
      ]
     },
     "execution_count": 46,
     "metadata": {},
     "output_type": "execute_result"
    }
   ],
   "source": [
    "arr = [1, 3, 5, 7]\n",
    "k = 8\n",
    "# arr = [2, 5, 3, 6]\n",
    "# k = 10\n",
    "\n",
    "\n",
    "def solve(arr, n, k):\n",
    "    if n < 0 or k < 0:\n",
    "        return 0\n",
    "    if k == 0:\n",
    "        return 1\n",
    "    if n == 0:\n",
    "        if k % arr[n] == 0:\n",
    "            return 1\n",
    "        return 0\n",
    "    notpick = solve(arr, n - 1, k)\n",
    "    pick = 0\n",
    "    if k >= arr[n]:\n",
    "        pick = solve(arr, n, k - arr[n])\n",
    "    return pick + notpick\n",
    "\n",
    "\n",
    "solve(arr, len(arr) - 1, k)"
   ]
  },
  {
   "cell_type": "code",
   "execution_count": 47,
   "metadata": {},
   "outputs": [
    {
     "data": {
      "text/plain": [
       "6"
      ]
     },
     "execution_count": 47,
     "metadata": {},
     "output_type": "execute_result"
    }
   ],
   "source": [
    "arr = [1, 3, 5, 7]\n",
    "rhs = 8\n",
    "solve(arr, len(arr) - 1, rhs)"
   ]
  },
  {
   "cell_type": "code",
   "execution_count": null,
   "metadata": {},
   "outputs": [
    {
     "data": {
      "text/plain": [
       "6"
      ]
     },
     "execution_count": 197,
     "metadata": {},
     "output_type": "execute_result"
    }
   ],
   "source": [
    "def countWaysToMakeChange(arr, T):\n",
    "    # Create a DP table to store the number of ways for different target amounts\n",
    "    n = len(arr)\n",
    "    dp = [[0 for j in range(T + 1)] for i in range(n)]\n",
    "\n",
    "    # Initialize the base condition for the first element in the array\n",
    "    for i in range(T + 1):\n",
    "        if i % arr[0] == 0:\n",
    "            dp[0][i] = 1\n",
    "        # Else condition is automatically fulfilled, as dp array is initialized to zero\n",
    "    for i in range(n):\n",
    "        dp[i][0] = 1\n",
    "    # Iterate through the array elements and target amounts\n",
    "    for ind in range(1, n):\n",
    "        for target in range(T + 1):\n",
    "            # Calculate the number of ways when the current element is not taken\n",
    "            notTaken = dp[ind - 1][target]\n",
    "\n",
    "            # Initialize a variable for the number of ways when the current element is taken\n",
    "            taken = 0\n",
    "            if arr[ind] <= target:\n",
    "                taken = dp[ind][target - arr[ind]]\n",
    "\n",
    "            # Store the total number of ways in the DP table\n",
    "            dp[ind][target] = notTaken + taken\n",
    "\n",
    "    # Return the total number of ways for the given target amount\n",
    "    return dp[n - 1][T]\n",
    "\n",
    "\n",
    "countWaysToMakeChange(arr, k)"
   ]
  },
  {
   "cell_type": "markdown",
   "metadata": {},
   "source": [
    "**Count the number of times a pattern appears in a given string as a subsequence**"
   ]
  },
  {
   "cell_type": "code",
   "execution_count": 81,
   "metadata": {},
   "outputs": [
    {
     "name": "stdout",
     "output_type": "stream",
     "text": [
      "7\n"
     ]
    }
   ],
   "source": [
    "# Function to count the number of times pattern `Y[0…n)`\n",
    "# appears in a given string `X[0…m)` as a subsequence\n",
    "def count(X, Y, m, n):\n",
    "\n",
    "    # Base case 1: if only one character is left\n",
    "    if m == 1 and n == 1:\n",
    "        return 1 if (X[0] == Y[0]) else 0\n",
    "\n",
    "    # Base case 2: if the input string `X` reaches its end\n",
    "    if m == 0:\n",
    "        return 0\n",
    "\n",
    "    # Base case 3: if pattern `Y` reaches its end, we have found subsequence\n",
    "    if n == 0:\n",
    "        return 1\n",
    "\n",
    "    # Optimization: the solution is not possible if the number of characters\n",
    "    # in the string is less than the number of characters in the pattern\n",
    "    if n > m:\n",
    "        return 0\n",
    "\n",
    "    \"\"\"\n",
    "      If the last character of both string and pattern matches,\n",
    "        1. Exclude the last character from both string and pattern\n",
    "        2. Exclude only the last character from the string.\n",
    "    \n",
    "      Otherwise, if the last character of the string and pattern do not match,\n",
    "      recur by excluding only the last character in the string\n",
    "    \"\"\"\n",
    "    if X[m - 1] == Y[n - 1]:\n",
    "        return count(X, Y, m - 1, n - 1) + count(X, Y, m - 1, n)\n",
    "    else:\n",
    "        return count(X, Y, m - 1, n)\n",
    "\n",
    "    # return (count(X, Y, m - 1, n - 1) if X[m - 1] == Y[n - 1] else 0) + count(\n",
    "    #     X, Y, m - 1, n\n",
    "    # )\n",
    "\n",
    "\n",
    "if __name__ == \"__main__\":\n",
    "\n",
    "    X = \"subsequence\"  # Input string\n",
    "    Y = \"sue\"  # Pattern\n",
    "\n",
    "    print(count(X, Y, len(X), len(Y)))"
   ]
  },
  {
   "cell_type": "code",
   "execution_count": 82,
   "metadata": {},
   "outputs": [
    {
     "name": "stdout",
     "output_type": "stream",
     "text": [
      "7\n"
     ]
    }
   ],
   "source": [
    "def count(X, Y):\n",
    "\n",
    "    (m, n) = (len(X), len(Y))\n",
    "\n",
    "    # `T[i][j]` stores number of times pattern `Y[0…j)`\n",
    "    # appears in a given string `X[0…i)` as a subsequence\n",
    "    T = [[0 for x in range(n + 1)] for y in range(m + 1)]\n",
    "\n",
    "    # if pattern `Y` is empty, we have found subsequence\n",
    "    for i in range(m + 1):\n",
    "        T[i][0] = 1\n",
    "\n",
    "    \"\"\"\n",
    "      If the current character of both string and pattern matches,\n",
    "        1. Exclude current character from both string and pattern\n",
    "        2. Exclude only the current character from the string\n",
    " \n",
    "      Otherwise, if the current character of the string and pattern do not match,\n",
    "      exclude the current character from the string\n",
    "    \"\"\"\n",
    "\n",
    "    for i in range(1, m + 1):\n",
    "        for j in range(1, n + 1):\n",
    "            if X[i - 1] == Y[j - 1]:\n",
    "                T[i][j] = T[i - 1][j - 1] + T[i - 1][j]\n",
    "            else:\n",
    "                T[i][j] = T[i - 1][j]\n",
    "\n",
    "            # T[i][j] = (T[i - 1][j - 1] if (X[i - 1] == Y[j - 1]) else 0) + T[i - 1][j]\n",
    "\n",
    "    # return last entry in the lookup table\n",
    "    return T[m][n]\n",
    "\n",
    "\n",
    "if __name__ == \"__main__\":\n",
    "\n",
    "    X = \"subsequence\"  # Input string\n",
    "    Y = \"sue\"  # Pattern\n",
    "\n",
    "    print(count(X, Y))"
   ]
  },
  {
   "cell_type": "markdown",
   "metadata": {},
   "source": [
    "**Find all n-digit binary numbers without any consecutive 1’s**"
   ]
  },
  {
   "cell_type": "code",
   "execution_count": 5,
   "metadata": {},
   "outputs": [
    {
     "name": "stdout",
     "output_type": "stream",
     "text": [
      "10101\n",
      "10100\n",
      "10010\n",
      "10001\n",
      "10000\n",
      "01010\n",
      "01001\n",
      "01000\n",
      "00101\n",
      "00100\n",
      "00010\n",
      "00001\n",
      "00000\n"
     ]
    }
   ],
   "source": [
    "from collections import deque\n",
    "\n",
    "\n",
    "def solve(n):\n",
    "    q = deque([\"0\", \"1\"])\n",
    "    while q:\n",
    "        temp = q.pop()\n",
    "        if temp[-1] == \"0\" and len(temp) < n:\n",
    "            q.appendleft(temp + \"1\")\n",
    "            q.appendleft(temp + \"0\")\n",
    "        elif len(temp) < n:\n",
    "            q.appendleft(temp + \"0\")\n",
    "        else:\n",
    "            print(temp)\n",
    "\n",
    "\n",
    "solve(5)"
   ]
  },
  {
   "cell_type": "markdown",
   "metadata": {},
   "source": [
    "**Word Break Problem**\n",
    "\n",
    "\n",
    "*Given a string and a dictionary of words, determine if the string can be segmented into a space-separated sequence of one or more dictionary words.*"
   ]
  },
  {
   "cell_type": "code",
   "execution_count": 18,
   "metadata": {},
   "outputs": [
    {
     "data": {
      "text/plain": [
       "' Word break'"
      ]
     },
     "execution_count": 18,
     "metadata": {},
     "output_type": "execute_result"
    }
   ],
   "source": [
    "d = {\n",
    "    \"this\",\n",
    "    \"th\",\n",
    "    \"is\",\n",
    "    \"famous\",\n",
    "    \"Word\",\n",
    "    \"break\",\n",
    "    \"b\",\n",
    "    \"r\",\n",
    "    \"e\",\n",
    "    \"a\",\n",
    "    \"k\",\n",
    "    \"br\",\n",
    "    \"bre\",\n",
    "    \"brea\",\n",
    "    \"ak\",\n",
    "    \"prob\",\n",
    "    \"lem\",\n",
    "}\n",
    "\n",
    "word = \"Wordbreakproblem\"\n",
    "\n",
    "\n",
    "def solve(i, d, word, out):\n",
    "    if not word:\n",
    "        print(out)\n",
    "        return out\n",
    "    if i > len(word):\n",
    "        return out\n",
    "    prefix = word[:i]\n",
    "    if prefix in d:\n",
    "        return solve(i + 1, d, word[i:], out + \" \" + word[:i])\n",
    "    return solve(i + 1, d, word, out)\n",
    "\n",
    "\n",
    "solve(1, d, word, \"\")"
   ]
  },
  {
   "cell_type": "code",
   "execution_count": 17,
   "metadata": {},
   "outputs": [
    {
     "name": "stdout",
     "output_type": "stream",
     "text": [
      " Word b r e a k prob lem\n"
     ]
    },
    {
     "data": {
      "text/plain": [
       "True"
      ]
     },
     "execution_count": 17,
     "metadata": {},
     "output_type": "execute_result"
    }
   ],
   "source": [
    "def wordBreak(words, word, out=\"\"):\n",
    "\n",
    "    # if the end of the string is reached,\n",
    "    # print the output string\n",
    "    if not word:\n",
    "        print(out)\n",
    "        return True\n",
    "\n",
    "    for i in range(1, len(word) + 1):\n",
    "        # consider all prefixes of the current string\n",
    "        prefix = word[:i]\n",
    "\n",
    "        # if the prefix is present in the dictionary, add it to the\n",
    "        # output string and recur for the remaining string\n",
    "        if prefix in words:\n",
    "            if wordBreak(words, word[i:], out + \" \" + prefix):\n",
    "                return True\n",
    "    return False\n",
    "\n",
    "\n",
    "wordBreak(d, word)"
   ]
  },
  {
   "cell_type": "markdown",
   "metadata": {},
   "source": [
    "**Find total ways to achieve a given sum with `n` throws of dice having `k` faces**"
   ]
  },
  {
   "cell_type": "code",
   "execution_count": 35,
   "metadata": {},
   "outputs": [
    {
     "data": {
      "text/plain": [
       "3"
      ]
     },
     "execution_count": 35,
     "metadata": {},
     "output_type": "execute_result"
    }
   ],
   "source": [
    "def count(n, k, target):\n",
    "\n",
    "    # if the desired sum is reached with `n` dices\n",
    "    if n == 0:\n",
    "        return 1 if (target == 0) else 0\n",
    "\n",
    "    # the desired sum can't be reached with the current configuration\n",
    "    if target < 0 or k * n < target or n > target:\n",
    "        return 0\n",
    "\n",
    "    result = 0\n",
    "\n",
    "    # recur for all possible solutions\n",
    "    for i in range(1, k + 1):\n",
    "        result += count(n - 1, k, target - i)\n",
    "\n",
    "    return result\n",
    "\n",
    "\n",
    "n = 2  # n throws\n",
    "k = 6  # values 1 to 6\n",
    "\n",
    "target = 10  # desired sum\n",
    "count(n, k, target)"
   ]
  },
  {
   "cell_type": "markdown",
   "metadata": {},
   "source": [
    "**Weighted Interval Scheduling Problem**"
   ]
  },
  {
   "cell_type": "code",
   "execution_count": 39,
   "metadata": {},
   "outputs": [
    {
     "name": "stdout",
     "output_type": "stream",
     "text": [
      "The maximum profit is 80\n"
     ]
    }
   ],
   "source": [
    "# A class to store a Job\n",
    "class Job:\n",
    "    def __init__(self, start, finish, profit):\n",
    "        self.start = start\n",
    "        self.finish = finish\n",
    "        self.profit = profit\n",
    "\n",
    "\n",
    "# Function to find the index of the last job which doesn't conflict with the given job.\n",
    "# It performs a linear search on the given list of jobs.\n",
    "def findLastNonConflictingJob(jobs, n):\n",
    "\n",
    "    # find the last job index whose finish time is less than or equal to the\n",
    "    # given job's start time\n",
    "    for i in reversed(range(n)):\n",
    "        if jobs[i].finish <= jobs[n].start:\n",
    "            return i\n",
    "\n",
    "    # return the negative index if no non-conflicting job is found\n",
    "    return -1\n",
    "\n",
    "\n",
    "# A recursive function to find the maximum profit subset of non-overlapping\n",
    "# jobs, which are sorted according to finish time\n",
    "def findMaxProfit(jobs, n):\n",
    "\n",
    "    # base case\n",
    "    if n < 0:\n",
    "        return 0\n",
    "\n",
    "    # return if only one item is remaining\n",
    "    if n == 0:\n",
    "        return jobs[0].profit\n",
    "\n",
    "    # find the index of the last non-conflicting job with the current job\n",
    "    index = findLastNonConflictingJob(jobs, n)\n",
    "\n",
    "    # include the current job and recur for non-conflicting jobs `[0, index]`\n",
    "    incl = jobs[n].profit + findMaxProfit(jobs, index)\n",
    "\n",
    "    # exclude the current job and recur for remaining items `[0, n-1]`\n",
    "    excl = findMaxProfit(jobs, n - 1)\n",
    "\n",
    "    # return the maximum profit by including or excluding the current job\n",
    "    return max(incl, excl)\n",
    "\n",
    "\n",
    "# Wrapper over `findMaxProfit()` function\n",
    "def maxProfit(jobs):\n",
    "\n",
    "    # sort jobs in increasing order of their finish times\n",
    "    jobs.sort(key=lambda x: x.finish)\n",
    "\n",
    "    return findMaxProfit(jobs, len(jobs) - 1)\n",
    "\n",
    "\n",
    "if __name__ == \"__main__\":\n",
    "\n",
    "    jobs = [\n",
    "        Job(0, 6, 60),\n",
    "        Job(1, 4, 30),\n",
    "        Job(3, 5, 10),\n",
    "        Job(5, 7, 30),\n",
    "        Job(5, 9, 50),\n",
    "        Job(7, 8, 10),\n",
    "    ]\n",
    "\n",
    "    print(\"The maximum profit is\", maxProfit(jobs))"
   ]
  },
  {
   "cell_type": "code",
   "execution_count": 40,
   "metadata": {},
   "outputs": [
    {
     "name": "stdout",
     "output_type": "stream",
     "text": [
      "The maximum profit is 80\n",
      "The jobs involved in the maximum profit are (1, 4, 30) (5, 9, 50) "
     ]
    }
   ],
   "source": [
    "class Job:\n",
    "    def __init__(self, start, finish, profit):\n",
    "        self.start = start\n",
    "        self.finish = finish\n",
    "        self.profit = profit\n",
    "\n",
    "\n",
    "# Function to perform a binary search on the given jobs, which are sorted\n",
    "# by finish time. The function returns the index of the last job, which\n",
    "# doesn't conflict with the given job, i.e., whose finish time is\n",
    "# less than or equal to the given job's start time.\n",
    "def findLastNonConflictingJob(jobs, n):\n",
    "\n",
    "    # search space\n",
    "    (low, high) = (0, n)\n",
    "\n",
    "    # iterate till the search space is exhausted\n",
    "    while low <= high:\n",
    "        mid = (low + high) // 2\n",
    "        if jobs[mid].finish <= jobs[n].start:\n",
    "            if jobs[mid + 1].finish <= jobs[n].start:\n",
    "                low = mid + 1\n",
    "            else:\n",
    "                return mid\n",
    "        else:\n",
    "            high = mid - 1\n",
    "\n",
    "    # return the negative index if no non-conflicting job is found\n",
    "    return -1\n",
    "\n",
    "\n",
    "# Function to print the non-overlapping jobs involved in maximum profit\n",
    "# using dynamic programming\n",
    "def findMaxProfitJobs(jobs):\n",
    "\n",
    "    # base case\n",
    "    if not jobs:\n",
    "        return 0\n",
    "\n",
    "    # sort jobs in increasing order of their finish times\n",
    "    jobs.sort(key=lambda x: x.finish)\n",
    "\n",
    "    # get the number of jobs\n",
    "    n = len(jobs)\n",
    "\n",
    "    # `maxProfit[i]` stores the maximum profit possible for the first `i` jobs, and\n",
    "    # `tasks[i]` stores the index of jobs involved in the maximum profit\n",
    "    maxProfit = [None] * n\n",
    "    tasks = [[] for _ in range(n)]\n",
    "\n",
    "    # initialize `maxProfit[0]` and `tasks[0]` with the first job\n",
    "    maxProfit[0] = jobs[0].profit\n",
    "    tasks[0].append(0)\n",
    "\n",
    "    # fill `tasks[]` and `maxProfit[]` in a bottom-up manner\n",
    "    for i in range(1, n):\n",
    "\n",
    "        # find the index of the last non-conflicting job with the current job\n",
    "        index = findLastNonConflictingJob(jobs, i)\n",
    "\n",
    "        # include the current job with its non-conflicting jobs\n",
    "        currentProfit = jobs[i].profit\n",
    "        if index != -1:\n",
    "            currentProfit += maxProfit[index]\n",
    "\n",
    "        # if including the current job leads to the maximum profit so far\n",
    "        if maxProfit[i - 1] < currentProfit:\n",
    "            maxProfit[i] = currentProfit\n",
    "\n",
    "            if index != -1:\n",
    "                tasks[i] = tasks[index][:]\n",
    "            tasks[i].append(i)\n",
    "\n",
    "        # excluding the current job leads to the maximum profit so far\n",
    "        else:\n",
    "            tasks[i] = tasks[i - 1][:]\n",
    "            maxProfit[i] = maxProfit[i - 1]\n",
    "\n",
    "    # `maxProfit[n-1]` stores the maximum profit\n",
    "    print(\"The maximum profit is\", maxProfit[n - 1])\n",
    "\n",
    "    # `tasks[n-1]` stores the index of jobs involved in the maximum profit\n",
    "    print(\"The jobs involved in the maximum profit are\", end=\" \")\n",
    "    for i in tasks[n - 1]:\n",
    "        print((jobs[i].start, jobs[i].finish, jobs[i].profit), end=\" \")\n",
    "\n",
    "\n",
    "if __name__ == \"__main__\":\n",
    "\n",
    "    jobs = [\n",
    "        Job(0, 6, 60),\n",
    "        Job(1, 4, 30),\n",
    "        Job(3, 5, 10),\n",
    "        Job(5, 7, 30),\n",
    "        Job(5, 9, 50),\n",
    "        Job(7, 8, 10),\n",
    "    ]\n",
    "\n",
    "    findMaxProfitJobs(jobs)"
   ]
  },
  {
   "cell_type": "markdown",
   "metadata": {},
   "source": [
    "**Find total ways to reach n’th stair with at-most `m` steps**"
   ]
  },
  {
   "cell_type": "code",
   "execution_count": 41,
   "metadata": {},
   "outputs": [],
   "source": [
    "def solve(n, m):\n",
    "    if n == 0:\n",
    "        return 1\n",
    "    if n < 0:\n",
    "        return 0\n",
    "    count = 0\n",
    "    for i in range(1, m + 1):\n",
    "        count += solve(n - i, m)\n",
    "    return count"
   ]
  },
  {
   "cell_type": "code",
   "execution_count": 43,
   "metadata": {},
   "outputs": [],
   "source": [
    "def totalWays(n, m):\n",
    "\n",
    "    # base case\n",
    "    if n == 1 or m == 1:\n",
    "        return 1\n",
    "\n",
    "    # create a list of `n+1` size for storing solutions to the subproblems\n",
    "    lookup = [None] * (n + 1)\n",
    "\n",
    "    # base case: 1 way (with no steps)\n",
    "    lookup[0] = 1\n",
    "\n",
    "    # 1 way to reach the 1st stair\n",
    "    lookup[1] = 1\n",
    "\n",
    "    # 2 ways to reach the 2nd stair\n",
    "    lookup[2] = 2\n",
    "\n",
    "    # fill the lookup table in a bottom-up manner\n",
    "    for i in range(3, n + 1):\n",
    "        lookup[i] = 0\n",
    "        j = 1\n",
    "        while j <= m and (i - j) >= 0:\n",
    "            lookup[i] += lookup[i - j]\n",
    "            j = j + 1\n",
    "\n",
    "    return lookup[n]"
   ]
  },
  {
   "cell_type": "markdown",
   "metadata": {},
   "source": [
    "**Activity Selection Problem**"
   ]
  },
  {
   "cell_type": "code",
   "execution_count": 44,
   "metadata": {},
   "outputs": [
    {
     "name": "stdout",
     "output_type": "stream",
     "text": [
      "[(1, 4), (5, 7), (8, 11), (12, 14)]\n"
     ]
    }
   ],
   "source": [
    "def findNonConflictingActivities(activities):\n",
    "\n",
    "    # sort the activities according to increasing order of their start time\n",
    "    activities.sort(key=lambda x: x[0])\n",
    "\n",
    "    # `L[i]` stores the maximum non-conflicting activities that end at i'th activity\n",
    "    L = [[] for _ in range(len(activities))]\n",
    "\n",
    "    for i in range(len(activities)):\n",
    "        # consider each `j` less than `i`\n",
    "        for j in range(i):\n",
    "            # L[i] = max(L[j]), where `activities[j].finish` is less than `activities[i].start`\n",
    "            start, finish = (activities[i][0], activities[j][1])\n",
    "            if finish < start and len(L[i]) < len(L[j]):\n",
    "                L[i] = L[j].copy()\n",
    "\n",
    "        # `L[i]` ends at i'th activity\n",
    "        L[i].append(activities[i])\n",
    "\n",
    "    # find the list having a maximum size\n",
    "    max = []\n",
    "    for pair in L:\n",
    "        if len(max) < len(pair):\n",
    "            max = pair\n",
    "\n",
    "    # print maximum non-conflicting activities\n",
    "    print(max)\n",
    "\n",
    "\n",
    "if __name__ == \"__main__\":\n",
    "\n",
    "    # Each pair stores the start and the finish time of a activity\n",
    "    activities = [\n",
    "        (1, 4),\n",
    "        (3, 5),\n",
    "        (0, 6),\n",
    "        (5, 7),\n",
    "        (3, 8),\n",
    "        (5, 9),\n",
    "        (6, 10),\n",
    "        (8, 11),\n",
    "        (8, 12),\n",
    "        (2, 13),\n",
    "        (12, 14),\n",
    "    ]\n",
    "\n",
    "    findNonConflictingActivities(activities)"
   ]
  },
  {
   "cell_type": "code",
   "execution_count": 54,
   "metadata": {},
   "outputs": [
    {
     "name": "stdout",
     "output_type": "stream",
     "text": [
      "(1, 4) (5, 7) (8, 11) (12, 14) "
     ]
    }
   ],
   "source": [
    "def activitySelection(arr, n):\n",
    "\n",
    "    # Sorting activities by finish time\n",
    "    arr.sort(key=lambda x: x[1])\n",
    "\n",
    "    # First activity will bealways selected\n",
    "    i = 0\n",
    "    print(arr[i], end=\" \")\n",
    "\n",
    "    for j in range(1, n):\n",
    "        # If the current activity has start time >= finish time of previously selected\n",
    "        # activity, then select it\n",
    "        if arr[j][0] >= arr[i][1]:\n",
    "            print(arr[j], end=\" \")\n",
    "            i = j\n",
    "\n",
    "\n",
    "activitySelection(activities, len(activities))"
   ]
  },
  {
   "cell_type": "markdown",
   "metadata": {},
   "source": [
    "**Calculate the minimum cost to reach the destination city from the source city**"
   ]
  },
  {
   "cell_type": "markdown",
   "metadata": {},
   "source": [
    "**Find minimum jumps required to reach the destination**\n",
    "\n",
    "*array element represents the maximum number of positions one can move forward from that element.*"
   ]
  },
  {
   "cell_type": "code",
   "execution_count": 60,
   "metadata": {},
   "outputs": [
    {
     "name": "stdout",
     "output_type": "stream",
     "text": [
      "The minimum jumps required to reach the destination are 3\n"
     ]
    }
   ],
   "source": [
    "import sys\n",
    "\n",
    "\n",
    "# Find minimum jumps required to reach the destination\n",
    "def findMinJumps(nums, i, n, lookup):\n",
    "\n",
    "    # base case: destination is reached\n",
    "    if i == n - 1:\n",
    "        return 0\n",
    "\n",
    "    # base case: list index out of bound or destination is\n",
    "    # unreachable from the source\n",
    "    if i >= n or nums[i] == 0:\n",
    "        return sys.maxsize\n",
    "\n",
    "    # if the subproblem is seen before\n",
    "    if lookup[i]:\n",
    "        return lookup[i]\n",
    "\n",
    "    # find the minimum jumps required to reach the destination by considering\n",
    "    # the minimum of all elements reachable from `nums[i]`\n",
    "    min_jumps = sys.maxsize\n",
    "    for j in range(i + 1, i + nums[i] + 1):\n",
    "        cost = findMinJumps(nums, j, n, lookup)\n",
    "        if cost != sys.maxsize:\n",
    "            min_jumps = min(min_jumps, cost + 1)\n",
    "\n",
    "    # if the subproblem is seen for the first time\n",
    "    lookup[i] = min_jumps\n",
    "    return lookup[i]\n",
    "\n",
    "\n",
    "def findMinimumJumps(nums):\n",
    "\n",
    "    # base case\n",
    "    if not nums:\n",
    "        return 0\n",
    "\n",
    "    # create an auxiliary list to store solutions to the subproblems and\n",
    "    # initialize it with 0\n",
    "    lookup = [0] * len(nums)\n",
    "\n",
    "    return findMinJumps(nums, 0, len(nums), lookup)\n",
    "\n",
    "\n",
    "if __name__ == \"__main__\":\n",
    "\n",
    "    nums = [1, 3, 6, 1, 0, 9]\n",
    "\n",
    "    print(\n",
    "        \"The minimum jumps required to reach the destination are\",\n",
    "        findMinimumJumps(nums),\n",
    "    )"
   ]
  },
  {
   "cell_type": "markdown",
   "metadata": {},
   "source": [
    "**Find number of Employees Under every Manager**"
   ]
  },
  {
   "cell_type": "code",
   "execution_count": 88,
   "metadata": {},
   "outputs": [
    {
     "name": "stdout",
     "output_type": "stream",
     "text": [
      "{'A': [], 'C': ['A', 'B'], 'B': [], 'F': ['C', 'E'], 'D': [], 'E': ['D']}\n",
      " \n",
      "A : set()\n",
      "C : {'A', 'B'}\n",
      "B : set()\n",
      "F : {'E', 'C', 'D', 'A', 'B'}\n",
      "D : set()\n",
      "E : {'D'}\n"
     ]
    }
   ],
   "source": [
    "class Solution:\n",
    "    def __init__(self):\n",
    "        pass\n",
    "\n",
    "    def assignAndPrint(self, t):\n",
    "        # We will directly permute over t. Access 2nd element(i.e. manager) of certain tuple and assign the relation in\n",
    "        # dictionary. We will assign list of employees to a particular manager so that with iterations, we can append\n",
    "        # more employees to that list and list grows.\n",
    "        d = dict()\n",
    "        for pair in t:\n",
    "            if pair[0] == pair[1]:  # because we dont want to assign self managing role\n",
    "                continue\n",
    "            if pair[0] not in d:  # assign employee a empty list of employees\n",
    "                d[pair[0]] = []\n",
    "            # for managers -\n",
    "            if pair[1] not in d:\n",
    "                d[pair[1]] = [pair[0]]\n",
    "            else:\n",
    "                d[pair[1]].append(pair[0])\n",
    "        # print(d)\n",
    "        # now we know how many employees are directly under a particular manager.\n",
    "        # now lets count the total number of employees under a particular manager.\n",
    "        c = dict()  # store    manager:count of employee    as key value\n",
    "        print(d)\n",
    "        print(\" \")\n",
    "        for manager in d:\n",
    "            # c[manager] = len(d[manager])\n",
    "            c[manager] = d[manager]  # len(d[manager])\n",
    "            for employee in d[manager]:\n",
    "                # c[manager] += len(d[employee])\n",
    "                c[manager].extend(d[employee])  # len(d[employee]\n",
    "            print(\n",
    "                \"{} : {}\".format(manager, set(c[manager]))\n",
    "            )  # prints which manager has total how many employees\n",
    "        # Note : Employees having no employees under are also considered as managed with 0 employees.\n",
    "\n",
    "\n",
    "if __name__ == \"__main__\":\n",
    "    # t is tuple containing employee and boss pair.\n",
    "    t = ((\"A\", \"C\"), (\"B\", \"C\"), (\"C\", \"F\"), (\"D\", \"E\"), (\"E\", \"F\"), (\"F\", \"F\"))\n",
    "    # x = {\"A\": \"A\", \"B\": \"A\", \"C\": \"B\", \"D\": \"B\", \"E\": \"D\", \"F\": \"E\"}\n",
    "    # t = [(k, v) for k, v in x.items()]\n",
    "\n",
    "    obj = Solution()\n",
    "    obj.assignAndPrint(t)"
   ]
  },
  {
   "cell_type": "code",
   "execution_count": 85,
   "metadata": {},
   "outputs": [
    {
     "name": "stdout",
     "output_type": "stream",
     "text": [
      "C —> set()\n",
      "F —> set()\n",
      "E —> {'F'}\n",
      "D —> {'E', 'F'}\n",
      "B —> {'E', 'F', 'C', 'D'}\n",
      "A —> {'E', 'F', 'C', 'D', 'B'}\n"
     ]
    }
   ],
   "source": [
    "def findAllReportingEmployees(manager, managerToEmployeeMappings, result):\n",
    "\n",
    "    # if the subproblem is already seen before\n",
    "    if manager in result:\n",
    "        # return the already computed mapping\n",
    "        return result.get(manager)\n",
    "\n",
    "    # find all employees reporting directly to the current manager\n",
    "    managerEmployees = managerToEmployeeMappings.get(manager)\n",
    "\n",
    "    # find all employees reporting indirectly to the current manager\n",
    "    for reportee in managerEmployees.copy():\n",
    "        # find all employees reporting to the current employee\n",
    "        employees = findAllReportingEmployees(\n",
    "            reportee, managerToEmployeeMappings, result\n",
    "        )\n",
    "\n",
    "        # move those employees to the current manager\n",
    "        if employees:\n",
    "            managerEmployees.update(employees)\n",
    "\n",
    "    # save the result to avoid recomputation and return it\n",
    "    result[manager] = managerEmployees\n",
    "    return managerEmployees\n",
    "\n",
    "\n",
    "# Find all employees who directly or indirectly reports to a manager\n",
    "def findEmployees(employeeToManagerMappings):\n",
    "\n",
    "    # store manager to employee mappings in a new dictionary\n",
    "    managerToEmployeeMappings = {}\n",
    "\n",
    "    # fill the above dictionary with the manager to employee mappings\n",
    "    for employee, manager in employeeToManagerMappings.items():\n",
    "        managerToEmployeeMappings.setdefault(employee, set())\n",
    "        # don't map an employee with itself\n",
    "        if employee != manager:\n",
    "            managerToEmployeeMappings.setdefault(manager, set()).add(employee)\n",
    "\n",
    "    # construct an empty dictionary to store the result\n",
    "    result = {}\n",
    "\n",
    "    # find all reporting employees (direct and indirect) for every manager\n",
    "    # and store the result in a dictionary\n",
    "    for key in employeeToManagerMappings.keys():\n",
    "        findAllReportingEmployees(key, managerToEmployeeMappings, result)\n",
    "\n",
    "    return result\n",
    "\n",
    "\n",
    "if __name__ == \"__main__\":\n",
    "\n",
    "    # construct a mapping from employee to manager\n",
    "    employeeToManagerMappings = {\n",
    "        \"A\": \"A\",\n",
    "        \"B\": \"A\",\n",
    "        \"C\": \"B\",\n",
    "        \"D\": \"B\",\n",
    "        \"E\": \"D\",\n",
    "        \"F\": \"E\",\n",
    "    }\n",
    "    result = findEmployees(employeeToManagerMappings)\n",
    "\n",
    "    # print contents of the resulting dictionary\n",
    "    for key, value in result.items():\n",
    "        print(key, \"—>\", value)"
   ]
  },
  {
   "cell_type": "code",
   "execution_count": 64,
   "metadata": {},
   "outputs": [
    {
     "data": {
      "text/plain": [
       "[('A', 'A'), ('B', 'A'), ('C', 'B'), ('D', 'B'), ('E', 'D'), ('F', 'E')]"
      ]
     },
     "execution_count": 64,
     "metadata": {},
     "output_type": "execute_result"
    }
   ],
   "source": [
    "x = {\"A\": \"A\", \"B\": \"A\", \"C\": \"B\", \"D\": \"B\", \"E\": \"D\", \"F\": \"E\"}\n",
    "t = [(k, v) for k, v in x.items()]\n",
    "t"
   ]
  },
  {
   "cell_type": "markdown",
   "metadata": {},
   "source": [
    "**Find the maximum sum of a subsequence with no adjacent elements**"
   ]
  },
  {
   "cell_type": "code",
   "execution_count": 89,
   "metadata": {},
   "outputs": [
    {
     "name": "stdout",
     "output_type": "stream",
     "text": [
      "The maximum sum is 26\n"
     ]
    }
   ],
   "source": [
    "import sys\n",
    "\n",
    "\n",
    "# Function to calculate the maximum sum in a given list\n",
    "# with no adjacent elements considered\n",
    "# `i` ——> index of the current element\n",
    "# `prev` ——> index of the previous element included in the sum\n",
    "def findMaxSumSubsequence(nums, i, n, prev=-sys.maxsize):\n",
    "\n",
    "    # base case: all elements are processed\n",
    "    if i >= n:\n",
    "        return 0\n",
    "\n",
    "    # recur by excluding the current element\n",
    "    excl = findMaxSumSubsequence(nums, i + 1, n, prev)\n",
    "\n",
    "    incl = 0\n",
    "\n",
    "    # include current element only if it's not adjacent to\n",
    "    # the previous element\n",
    "    # if prev + 1 != i:\n",
    "    incl = findMaxSumSubsequence(nums, i + 2, n, i) + nums[i]\n",
    "\n",
    "    # return maximum sum we get by including or excluding\n",
    "    # current item\n",
    "    return max(incl, excl)\n",
    "\n",
    "\n",
    "if __name__ == \"__main__\":\n",
    "\n",
    "    nums = [1, 2, 9, 4, 5, 0, 4, 11, 6]\n",
    "    print(\"The maximum sum is\", findMaxSumSubsequence(nums, 0, len(nums)))"
   ]
  },
  {
   "cell_type": "markdown",
   "metadata": {},
   "source": [
    "**Find maximum profit earned by buying and selling shares any number of times**"
   ]
  },
  {
   "cell_type": "code",
   "execution_count": 90,
   "metadata": {},
   "outputs": [
    {
     "name": "stdout",
     "output_type": "stream",
     "text": [
      "Buy on day 1 and sell on day 2\n",
      "Buy on day 3 and sell on day 5\n",
      "Buy on day 7 and sell on day 8\n",
      "\n",
      "Total profit earned is 10\n"
     ]
    }
   ],
   "source": [
    "# Function to find the maximum profit earned by buying and\n",
    "# selling shares any number of times\n",
    "def findMaxProfit(price):\n",
    "\n",
    "    # keep track of the maximum profit gained\n",
    "    profit = 0\n",
    "\n",
    "    # initialize the local minimum to the first element's index\n",
    "    j = 0\n",
    "\n",
    "    # start from the second element\n",
    "    for i in range(1, len(price)):\n",
    "\n",
    "        # update the local minimum if a decreasing sequence is found\n",
    "        if price[i - 1] > price[i]:\n",
    "            j = i\n",
    "\n",
    "        # sell shares if the current element is the peak, i.e.,\n",
    "        # (`previous <= current > next`)\n",
    "        if price[i - 1] <= price[i] and (\n",
    "            i + 1 == len(price) or price[i] > price[i + 1]\n",
    "        ):\n",
    "            profit += price[i] - price[j]\n",
    "            print(f\"Buy on day {j + 1} and sell on day {i + 1}\")\n",
    "\n",
    "    return profit\n",
    "\n",
    "\n",
    "if __name__ == \"__main__\":\n",
    "\n",
    "    price = [1, 5, 2, 3, 7, 6, 4, 5]\n",
    "    print(\"\\nTotal profit earned is\", findMaxProfit(price))"
   ]
  },
  {
   "cell_type": "code",
   "execution_count": 91,
   "metadata": {},
   "outputs": [
    {
     "name": "stdout",
     "output_type": "stream",
     "text": [
      "The maximum possible profit is 10\n"
     ]
    }
   ],
   "source": [
    "# Find maximum profit earned from at most `k` stock transactions.\n",
    "# Input to the function is stock prices of `n` days and positive number `k`\n",
    "def findMaxProfit(price, k):\n",
    "\n",
    "    # get the number of days `n`\n",
    "    n = len(price)\n",
    "\n",
    "    # base case\n",
    "    if n <= 1:\n",
    "        return 0\n",
    "\n",
    "    # profit[i][j] stores the maximum profit gained by doing\n",
    "    # at most `i` transactions till j'th day\n",
    "    profit = [[0 for x in range(n)] for y in range(k + 1)]\n",
    "\n",
    "    # fill profit[][] in a bottom-up fashion\n",
    "    for i in range(k + 1):\n",
    "        for j in range(n):\n",
    "            # profit is 0 when\n",
    "            # i = 0, i.e., for 0th day\n",
    "            # j = 0, i.e., no transaction is being performed\n",
    "\n",
    "            if i == 0 or j == 0:\n",
    "                profit[i][j] = 0\n",
    "            else:\n",
    "                max_so_far = 0\n",
    "                for x in range(j):\n",
    "                    curr_price = price[j] - price[x] + profit[i - 1][x]\n",
    "                    if max_so_far < curr_price:\n",
    "                        max_so_far = curr_price\n",
    "\n",
    "                profit[i][j] = max(profit[i][j - 1], max_so_far)\n",
    "\n",
    "    return profit[k][n - 1]\n",
    "\n",
    "\n",
    "if __name__ == \"__main__\":\n",
    "\n",
    "    price = [1, 5, 2, 3, 7, 6, 4, 5]\n",
    "    k = 3\n",
    "\n",
    "    print(\"The maximum possible profit is\", findMaxProfit(price, k))"
   ]
  },
  {
   "cell_type": "markdown",
   "metadata": {},
   "source": [
    "**Calculate the sum of all elements in a submatrix in constant time**"
   ]
  },
  {
   "cell_type": "code",
   "execution_count": 92,
   "metadata": {},
   "outputs": [
    {
     "name": "stdout",
     "output_type": "stream",
     "text": [
      "38\n"
     ]
    }
   ],
   "source": [
    "def preprocess(mat):\n",
    "    # `M × N` matrix\n",
    "    (M, N) = (len(mat), len(mat[0]))\n",
    "\n",
    "    # preprocess the matrix `mat` such that `s[i][j]` stores\n",
    "    # sum of elements in the matrix from (0, 0) to (i, j)\n",
    "    s = [[0 for x in range(len(mat[0]))] for y in range(len(mat))]\n",
    "    s[0][0] = mat[0][0]\n",
    "\n",
    "    # preprocess the first row\n",
    "    for j in range(1, len(mat[0])):\n",
    "        s[0][j] = mat[0][j] + s[0][j - 1]\n",
    "\n",
    "    # preprocess the first column\n",
    "    for i in range(1, len(mat)):\n",
    "        s[i][0] = mat[i][0] + s[i - 1][0]\n",
    "\n",
    "    # preprocess the rest of the matrix\n",
    "    for i in range(1, len(mat)):\n",
    "        for j in range(1, len(mat[0])):\n",
    "            s[i][j] = mat[i][j] + s[i - 1][j] + s[i][j - 1] - s[i - 1][j - 1]\n",
    "\n",
    "    return s\n",
    "\n",
    "\n",
    "# Calculate the sum of all elements in a submatrix in constant time\n",
    "def findSubmatrixSum(mat, p, q, r, s):\n",
    "\n",
    "    # base case\n",
    "    if not mat or not len(mat):\n",
    "        return 0\n",
    "\n",
    "    # preprocess the matrix\n",
    "    mat = preprocess(mat)\n",
    "\n",
    "    # `total` is `mat[r][s] - mat[r][q-1] - mat[p-1][s] + mat[p-1][q-1]`\n",
    "    total = mat[r][s]\n",
    "\n",
    "    if q - 1 >= 0:\n",
    "        total -= mat[r][q - 1]\n",
    "\n",
    "    if p - 1 >= 0:\n",
    "        total -= mat[p - 1][s]\n",
    "\n",
    "    if p - 1 >= 0 and q - 1 >= 0:\n",
    "        total += mat[p - 1][q - 1]\n",
    "\n",
    "    return total\n",
    "\n",
    "\n",
    "if __name__ == \"__main__\":\n",
    "\n",
    "    mat = [\n",
    "        [0, 2, 5, 4, 1],\n",
    "        [4, 8, 2, 3, 7],\n",
    "        [6, 3, 4, 6, 2],\n",
    "        [7, 3, 1, 8, 3],\n",
    "        [1, 5, 7, 9, 4],\n",
    "    ]\n",
    "\n",
    "    # (p, q) and (r, s) represent top-left and bottom-right\n",
    "    # coordinates of the submatrix\n",
    "    p = q = 1\n",
    "    r = s = 3\n",
    "\n",
    "    # calculate the submatrix sum\n",
    "    print(findSubmatrixSum(mat, p, q, r, s))"
   ]
  },
  {
   "cell_type": "markdown",
   "metadata": {},
   "source": [
    "**Maximum Independent Set Problem**\n",
    "\n",
    "*independent set is a set of nodes in a binary tree, no two of which are adjacent, i.e., there is no edge connecting any two.*"
   ]
  },
  {
   "cell_type": "code",
   "execution_count": 94,
   "metadata": {},
   "outputs": [
    {
     "name": "stdout",
     "output_type": "stream",
     "text": [
      "The size of a maximum independent set is 5\n"
     ]
    }
   ],
   "source": [
    "# Data structure to store a binary tree node\n",
    "class Node:\n",
    "    def __init__(self, data, left=None, right=None):\n",
    "        self.data = data\n",
    "        self.left = left\n",
    "        self.right = right\n",
    "\n",
    "\n",
    "# Recursive function to find the size of the maximum independent set\n",
    "# for a binary tree\n",
    "def findMISSize(root):\n",
    "\n",
    "    # base case: empty tree\n",
    "    if root is None:\n",
    "        return 0\n",
    "\n",
    "    # Case 1: Exclude the current node from the maximum independent set and\n",
    "    # recur for its left and right child\n",
    "    excl = findMISSize(root.left) + findMISSize(root.right)\n",
    "\n",
    "    # Case 2: Include the current node in the maximum independent set and\n",
    "    # recur for its grandchildren\n",
    "    incl = 1\n",
    "\n",
    "    if root.left:\n",
    "        incl += findMISSize(root.left.left) + findMISSize(root.left.right)\n",
    "\n",
    "    if root.right:\n",
    "        incl += findMISSize(root.right.left) + findMISSize(root.right.right)\n",
    "\n",
    "    # return the maximum number of nodes possible by either\n",
    "    # including or excluding the current node\n",
    "    return max(excl, incl)\n",
    "\n",
    "\n",
    "if __name__ == \"__main__\":\n",
    "\n",
    "    root = Node(1)\n",
    "    root.left = Node(2)\n",
    "    root.right = Node(3)\n",
    "    root.left.left = Node(4)\n",
    "    root.right.left = Node(5)\n",
    "    root.right.right = Node(6)\n",
    "    root.right.left.left = Node(7)\n",
    "    root.right.left.right = Node(8)\n",
    "\n",
    "    print(\"The size of a maximum independent set is\", findMISSize(root))"
   ]
  },
  {
   "cell_type": "code",
   "execution_count": 141,
   "metadata": {},
   "outputs": [
    {
     "data": {
      "text/plain": [
       "3"
      ]
     },
     "execution_count": 141,
     "metadata": {},
     "output_type": "execute_result"
    }
   ],
   "source": []
  },
  {
   "cell_type": "code",
   "execution_count": null,
   "metadata": {},
   "outputs": [],
   "source": []
  }
 ],
 "metadata": {
  "kernelspec": {
   "display_name": "Python 3",
   "language": "python",
   "name": "python3"
  },
  "language_info": {
   "codemirror_mode": {
    "name": "ipython",
    "version": 3
   },
   "file_extension": ".py",
   "mimetype": "text/x-python",
   "name": "python",
   "nbconvert_exporter": "python",
   "pygments_lexer": "ipython3",
   "version": "3.11.6"
  }
 },
 "nbformat": 4,
 "nbformat_minor": 2
}
