{
 "cells": [
  {
   "cell_type": "code",
   "execution_count": 44,
   "metadata": {},
   "outputs": [],
   "source": [
    "# Segment tree node\n",
    "class Node(object):\n",
    "    def __init__(self, start, end):\n",
    "        self.start = start\n",
    "        self.end = end\n",
    "        self.total = 0\n",
    "        self.left = None\n",
    "        self.right = None"
   ]
  },
  {
   "attachments": {
    "image.png": {
     "image/png": "[encoded data removed]"
    }
   },
   "cell_type": "markdown",
   "metadata": {},
   "source": [
    "![image.png](attachment:image.png)"
   ]
  },
  {
   "cell_type": "markdown",
   "metadata": {},
   "source": [
    "**Range-Sum Queries**"
   ]
  },
  {
   "cell_type": "code",
   "execution_count": 65,
   "metadata": {},
   "outputs": [],
   "source": [
    "# helper function to create the tree from input array\n",
    "def createTree(nums, l, r):\n",
    "\n",
    "    # base case\n",
    "    if l > r:\n",
    "        return None\n",
    "\n",
    "    # leaf node\n",
    "    if l == r:\n",
    "        n = Node(l, r)\n",
    "        n.total = nums[l]\n",
    "        return n\n",
    "\n",
    "    mid = (l + r) // 2\n",
    "\n",
    "    root = Node(l, r)\n",
    "\n",
    "    # recursively build the Segment tree\n",
    "    root.left = createTree(nums, l, mid)\n",
    "    root.right = createTree(nums, mid + 1, r)\n",
    "\n",
    "    # Total stores the sum of all leaves under root\n",
    "    # i.e. those elements lying between (start, end)\n",
    "    root.total = root.left.total + root.right.total\n",
    "\n",
    "    return root\n",
    "\n",
    "\n",
    "# Helper function to update a value\n",
    "def updateVal(root, i, val):\n",
    "    if not root or root.start > i or root.end < i:\n",
    "        return\n",
    "\n",
    "    # Base case. The actual value will be updated in a leaf.\n",
    "    # The total is then propogated upwards\n",
    "    if root.start == i and root.end == i:\n",
    "        root.total = val\n",
    "        return\n",
    "\n",
    "    updateVal(root.left, i, val)\n",
    "    updateVal(root.right, i, val)\n",
    "    root.total = root.left.total + root.right.total\n",
    "    # return\n",
    "\n",
    "\n",
    "# Helper function to calculate range sum\n",
    "def rangeSum(root, i, j):\n",
    "    if not root or root.start > j or root.end < i:\n",
    "        return 0\n",
    "    if root.start >= i and root.end <= j:\n",
    "        return root.total\n",
    "\n",
    "    return rangeSum(root.left, i, j) + rangeSum(root.right, i, j)"
   ]
  },
  {
   "cell_type": "code",
   "execution_count": 66,
   "metadata": {},
   "outputs": [],
   "source": [
    "arr = [1, 3, 5]\n",
    "n = len(arr)"
   ]
  },
  {
   "cell_type": "code",
   "execution_count": 67,
   "metadata": {},
   "outputs": [],
   "source": [
    "root = createTree(arr, 0, n - 1)"
   ]
  },
  {
   "cell_type": "code",
   "execution_count": 68,
   "metadata": {},
   "outputs": [
    {
     "data": {
      "text/plain": [
       "9"
      ]
     },
     "execution_count": 68,
     "metadata": {},
     "output_type": "execute_result"
    }
   ],
   "source": [
    "rangeSum(root, 0, 2)"
   ]
  },
  {
   "cell_type": "code",
   "execution_count": 69,
   "metadata": {},
   "outputs": [],
   "source": [
    "updateVal(root, 1, 2)"
   ]
  },
  {
   "cell_type": "code",
   "execution_count": 70,
   "metadata": {},
   "outputs": [
    {
     "data": {
      "text/plain": [
       "8"
      ]
     },
     "execution_count": 70,
     "metadata": {},
     "output_type": "execute_result"
    }
   ],
   "source": [
    "rangeSum(root, 0, 2)"
   ]
  },
  {
   "cell_type": "markdown",
   "metadata": {},
   "source": [
    "Count Even Or Odd"
   ]
  },
  {
   "cell_type": "code",
   "execution_count": 1,
   "metadata": {},
   "outputs": [],
   "source": [
    "# Segment tree node\n",
    "class Node(object):\n",
    "    def __init__(self, start, end):\n",
    "        self.start = start\n",
    "        self.end = end\n",
    "        self.even = 0\n",
    "        self.odd = 0\n",
    "        self.left = None\n",
    "        self.right = None"
   ]
  },
  {
   "cell_type": "code",
   "execution_count": 5,
   "metadata": {},
   "outputs": [],
   "source": [
    "# helper function to create the tree from input array\n",
    "def createTree(nums, l, r):\n",
    "\n",
    "    # base case\n",
    "    if l > r:\n",
    "        return None\n",
    "\n",
    "    # leaf node\n",
    "    if l == r:\n",
    "        n = Node(l, r)\n",
    "        if nums[l] % 2 == 0:\n",
    "            n.even = 1\n",
    "        else:\n",
    "            n.odd = 1\n",
    "        return n\n",
    "\n",
    "    mid = (l + r) // 2\n",
    "\n",
    "    root = Node(l, r)\n",
    "\n",
    "    # recursively build the Segment tree\n",
    "    root.left = createTree(nums, l, mid)\n",
    "    root.right = createTree(nums, mid + 1, r)\n",
    "\n",
    "    # Total stores the sum of all leaves under root\n",
    "    # i.e. those elements lying between (start, end)\n",
    "    root.even = root.left.even + root.right.even\n",
    "    root.odd = root.left.odd + root.right.odd\n",
    "\n",
    "    return root\n",
    "\n",
    "\n",
    "# Helper function to update a value\n",
    "def updateVal(root, i, val):\n",
    "    if not root or root.start > i or root.end < i:\n",
    "        return\n",
    "\n",
    "    # Base case. The actual value will be updated in a leaf.\n",
    "    # The total is then propogated upwards\n",
    "    if root.start == i and root.end == i:\n",
    "        if val % 2 == 0:\n",
    "            root.even = 1\n",
    "        else:\n",
    "            root.odd = 1\n",
    "        return\n",
    "\n",
    "    updateVal(root.left, i, val)\n",
    "    updateVal(root.right, i, val)\n",
    "    root.even = root.left.even + root.right.even\n",
    "    root.odd = root.left.odd + root.right.odd\n",
    "    return\n",
    "\n",
    "\n",
    "# Helper function to calculate range sum\n",
    "def rangeSum_even(root, i, j):\n",
    "    if not root or root.start > j or root.end < i:\n",
    "        return 0\n",
    "    if root.start >= i and root.end <= j:\n",
    "        return root.even\n",
    "\n",
    "    return rangeSum_even(root.left, i, j) + rangeSum_even(root.right, i, j)\n",
    "\n",
    "\n",
    "def rangeSum_odd(root, i, j):\n",
    "    if not root or root.start > j or root.end < i:\n",
    "        return 0\n",
    "    if root.start >= i and root.end <= j:\n",
    "        return root.odd\n",
    "\n",
    "    return rangeSum_odd(root.left, i, j) + rangeSum_odd(root.right, i, j)"
   ]
  },
  {
   "cell_type": "code",
   "execution_count": 6,
   "metadata": {},
   "outputs": [],
   "source": [
    "arr = [1, 2, 3, 4, 5, 6]"
   ]
  },
  {
   "cell_type": "code",
   "execution_count": 7,
   "metadata": {},
   "outputs": [],
   "source": [
    "root = createTree(arr, 0, len(arr) - 1)"
   ]
  },
  {
   "cell_type": "code",
   "execution_count": 8,
   "metadata": {},
   "outputs": [
    {
     "data": {
      "text/plain": [
       "3"
      ]
     },
     "execution_count": 8,
     "metadata": {},
     "output_type": "execute_result"
    }
   ],
   "source": [
    "rangeSum_even(root, 0, 5)"
   ]
  },
  {
   "cell_type": "code",
   "execution_count": 10,
   "metadata": {},
   "outputs": [
    {
     "data": {
      "text/plain": [
       "3"
      ]
     },
     "execution_count": 10,
     "metadata": {},
     "output_type": "execute_result"
    }
   ],
   "source": [
    "rangeSum_odd(root, 0, 5)"
   ]
  },
  {
   "cell_type": "code",
   "execution_count": null,
   "metadata": {},
   "outputs": [],
   "source": []
  },
  {
   "cell_type": "code",
   "execution_count": 11,
   "metadata": {},
   "outputs": [],
   "source": [
    "updateVal(root, 5, 7)"
   ]
  },
  {
   "cell_type": "code",
   "execution_count": 12,
   "metadata": {},
   "outputs": [
    {
     "data": {
      "text/plain": [
       "4"
      ]
     },
     "execution_count": 12,
     "metadata": {},
     "output_type": "execute_result"
    }
   ],
   "source": [
    "rangeSum_odd(root, 0, 5)"
   ]
  },
  {
   "cell_type": "markdown",
   "metadata": {},
   "source": [
    "**Min-Max Queries**"
   ]
  },
  {
   "cell_type": "code",
   "execution_count": 4,
   "metadata": {},
   "outputs": [],
   "source": [
    "# helper function to create the tree from input array\n",
    "class Node(object):\n",
    "    def __init__(self, start, end):\n",
    "        self.start = start\n",
    "        self.end = end\n",
    "        self.total = 0\n",
    "        self.left = None\n",
    "        self.right = None\n",
    "\n",
    "\n",
    "def createTree(nums, l, r):\n",
    "\n",
    "    # base case\n",
    "\n",
    "    if l > r:\n",
    "\n",
    "        return None\n",
    "\n",
    "    # leaf node\n",
    "\n",
    "    if l == r:\n",
    "\n",
    "        n = Node(l, r)\n",
    "\n",
    "        n.total = nums[l]\n",
    "        return n\n",
    "\n",
    "    mid = (l + r) // 2\n",
    "\n",
    "    root = Node(l, r)\n",
    "\n",
    "    # recursively build the Segment tree\n",
    "\n",
    "    root.left = createTree(nums, l, mid)\n",
    "\n",
    "    root.right = createTree(nums, mid + 1, r)\n",
    "\n",
    "    # Total stores the sum of all leaves under root\n",
    "\n",
    "    # i.e. those elements lying between (start, end)\n",
    "\n",
    "    root.total = max(root.left.total, root.right.total)\n",
    "\n",
    "    return root\n",
    "\n",
    "\n",
    "# Helper function to update a value\n",
    "\n",
    "\n",
    "def updateVal(root, i, val):\n",
    "    if root.start > i or root.end < i:\n",
    "        return\n",
    "\n",
    "    # Base case. The actual value will be updated in a leaf.\n",
    "\n",
    "    # The total is then propogated upwards\n",
    "\n",
    "    if root.start == root.end == i:\n",
    "\n",
    "        root.total = val\n",
    "        return\n",
    "\n",
    "    # If the index is less than the mid, that leaf must be in the left subtree\n",
    "\n",
    "    updateVal(root.left, i, val)\n",
    "\n",
    "    # Otherwise, the right subtree\n",
    "\n",
    "    updateVal(root.right, i, val)\n",
    "\n",
    "    # Propogate the changes after recursive call returns\n",
    "\n",
    "    root.total = max(root.left.total, root.right.total)\n",
    "\n",
    "    return\n",
    "\n",
    "\n",
    "# Helper function to calculate range sum\n",
    "\n",
    "\n",
    "def rangemax(root, i, j):\n",
    "    if root.start > j or root.end < i:\n",
    "        return 0\n",
    "\n",
    "    # If the range exactly matches the root, we already have the sum\n",
    "\n",
    "    if root.start >= i and root.end <= j:\n",
    "        return root.total\n",
    "\n",
    "    return max(rangemax(root.left, i, j), rangemax(root.right, i, j))"
   ]
  },
  {
   "cell_type": "code",
   "execution_count": 5,
   "metadata": {},
   "outputs": [],
   "source": [
    "arr = [1, 3, 5, 7, 9, 11]\n",
    "n = len(arr)"
   ]
  },
  {
   "cell_type": "code",
   "execution_count": 6,
   "metadata": {},
   "outputs": [],
   "source": [
    "root = createTree(arr, 0, n - 1)"
   ]
  },
  {
   "cell_type": "code",
   "execution_count": 7,
   "metadata": {},
   "outputs": [
    {
     "data": {
      "text/plain": [
       "7"
      ]
     },
     "execution_count": 7,
     "metadata": {},
     "output_type": "execute_result"
    }
   ],
   "source": [
    "rangemax(root, 1, 3)"
   ]
  },
  {
   "cell_type": "code",
   "execution_count": 10,
   "metadata": {},
   "outputs": [],
   "source": [
    "updateVal(root, 3, -5)"
   ]
  },
  {
   "cell_type": "code",
   "execution_count": 11,
   "metadata": {},
   "outputs": [
    {
     "data": {
      "text/plain": [
       "5"
      ]
     },
     "execution_count": 11,
     "metadata": {},
     "output_type": "execute_result"
    }
   ],
   "source": [
    "rangemax(root, 1, 4)"
   ]
  },
  {
   "cell_type": "markdown",
   "metadata": {},
   "source": [
    "**count of even digit sum elements in the given range**"
   ]
  },
  {
   "cell_type": "code",
   "execution_count": 29,
   "metadata": {},
   "outputs": [],
   "source": [
    "def digitSum(num):\n",
    "\n",
    "    sum = 0\n",
    "    while num:\n",
    "        sum += num % 10\n",
    "        num //= 10\n",
    "\n",
    "    return 1 if sum % 2 == 0 else 0"
   ]
  },
  {
   "cell_type": "code",
   "execution_count": 49,
   "metadata": {},
   "outputs": [],
   "source": [
    "# helper function to create the tree from input array\n",
    "def createTree(nums, l, r):\n",
    "\n",
    "    # base case\n",
    "    if l > r:\n",
    "        return None\n",
    "\n",
    "    # leaf node\n",
    "    if l == r:\n",
    "        n = Node(l, r)\n",
    "        n.total = digitSum(nums[l])\n",
    "        return n\n",
    "\n",
    "    mid = (l + r) // 2\n",
    "\n",
    "    root = Node(l, r)\n",
    "\n",
    "    # recursively build the Segment tree\n",
    "    root.left = createTree(nums, l, mid)\n",
    "    root.right = createTree(nums, mid + 1, r)\n",
    "\n",
    "    # Total stores the sum of all leaves under root\n",
    "    # i.e. those elements lying between (start, end)\n",
    "    root.total = root.left.total + root.right.total\n",
    "\n",
    "    return root\n",
    "\n",
    "\n",
    "# Helper function to update a value\n",
    "def updateVal(root, i, val):\n",
    "\n",
    "    # Base case. The actual value will be updated in a leaf.\n",
    "    # The total is then propogated upwards\n",
    "    if root.start == root.end:\n",
    "        root.total = digitSum(val)\n",
    "        return val\n",
    "\n",
    "    mid = (root.start + root.end) // 2\n",
    "\n",
    "    # If the index is less than the mid, that leaf must be in the left subtree\n",
    "    if i <= mid:\n",
    "        updateVal(root.left, i, val)\n",
    "\n",
    "    # Otherwise, the right subtree\n",
    "    else:\n",
    "        updateVal(root.right, i, val)\n",
    "\n",
    "    # Propogate the changes after recursive call returns\n",
    "    root.total = root.left.total + root.right.total\n",
    "\n",
    "    return root.total\n",
    "\n",
    "\n",
    "# Helper function to calculate range sum\n",
    "def rangesum(root, i, j):\n",
    "\n",
    "    # If the range exactly matches the root, we already have the sum\n",
    "    if root.start == i and root.end == j:\n",
    "        return root.total\n",
    "\n",
    "    mid = (root.start + root.end) // 2\n",
    "\n",
    "    # If end of the range is less than the mid, the entire interval lies\n",
    "    # in the left subtree\n",
    "    if j <= mid:\n",
    "        return rangesum(root.left, i, j)\n",
    "\n",
    "    # If start of the interval is greater than mid, the entire inteval lies\n",
    "    # in the right subtree\n",
    "    elif i >= mid + 1:\n",
    "        return rangesum(root.right, i, j)\n",
    "\n",
    "    # Otherwise, the interval is split. So we calculate the sum recursively,\n",
    "    # by splitting the interval\n",
    "    else:\n",
    "        return rangesum(root.left, i, mid) + rangesum(root.right, mid + 1, j)"
   ]
  },
  {
   "cell_type": "code",
   "execution_count": null,
   "metadata": {},
   "outputs": [],
   "source": []
  },
  {
   "cell_type": "code",
   "execution_count": 50,
   "metadata": {},
   "outputs": [],
   "source": [
    "arr = [7, 3, 19, 13, 5, 4]\n",
    "n = len(arr)\n",
    "root = createTree(arr, 0, n - 1)"
   ]
  },
  {
   "cell_type": "code",
   "execution_count": 51,
   "metadata": {},
   "outputs": [
    {
     "data": {
      "text/plain": [
       "3"
      ]
     },
     "execution_count": 51,
     "metadata": {},
     "output_type": "execute_result"
    }
   ],
   "source": [
    "rangesum(root, 1, 5)"
   ]
  },
  {
   "cell_type": "code",
   "execution_count": 52,
   "metadata": {},
   "outputs": [
    {
     "data": {
      "text/plain": [
       "2"
      ]
     },
     "execution_count": 52,
     "metadata": {},
     "output_type": "execute_result"
    }
   ],
   "source": [
    "rangesum(root, 3, 5)"
   ]
  },
  {
   "cell_type": "markdown",
   "metadata": {},
   "source": [
    "**elements greater than K in the given index range using**"
   ]
  },
  {
   "cell_type": "code",
   "execution_count": 17,
   "metadata": {},
   "outputs": [],
   "source": [
    "def merge(v1, v2):\n",
    "    i = 0\n",
    "    j = 0\n",
    "\n",
    "    # Final vector to return\n",
    "    # after merging\n",
    "    v = []\n",
    "\n",
    "    # Loop continues until it reaches\n",
    "    # the end of one of the vectors\n",
    "    while i < len(v1) and j < len(v2):\n",
    "        if v1[i] <= v2[j]:\n",
    "            v.append(v1[i])\n",
    "            i += 1\n",
    "        else:\n",
    "            v.append(v2[j])\n",
    "            j += 1\n",
    "\n",
    "    # Here, simply add the remaining\n",
    "    # elements to the vector v\n",
    "    for k in range(i, len(v1)):\n",
    "        v.append(v1[k])\n",
    "    for k in range(j, len(v2)):\n",
    "        v.append(v2[k])\n",
    "    return v"
   ]
  },
  {
   "cell_type": "code",
   "execution_count": 18,
   "metadata": {},
   "outputs": [],
   "source": [
    "class Node(object):\n",
    "    def __init__(self, start, end):\n",
    "        self.start = start\n",
    "        self.end = end\n",
    "        self.values = None\n",
    "        self.left = None\n",
    "        self.right = None"
   ]
  },
  {
   "cell_type": "code",
   "execution_count": 77,
   "metadata": {},
   "outputs": [],
   "source": [
    "# Python3 implementation of the approach\n",
    "from bisect import bisect_left as lower_bound\n",
    "\n",
    "\n",
    "# helper function to create the tree from input array\n",
    "def createTree(nums, l, r):\n",
    "\n",
    "    # base case\n",
    "    if l > r:\n",
    "        return None\n",
    "\n",
    "    # leaf node\n",
    "    if l == r:\n",
    "        n = Node(l, r)\n",
    "        n.values = [nums[l]]\n",
    "        return n\n",
    "\n",
    "    mid = (l + r) // 2\n",
    "\n",
    "    root = Node(l, r)\n",
    "\n",
    "    # recursively build the Segment tree\n",
    "    root.left = createTree(nums, l, mid)\n",
    "    root.right = createTree(nums, mid + 1, r)\n",
    "\n",
    "    # Total stores the sum of all leaves under root\n",
    "    # i.e. those elements lying between (start, end)\n",
    "    root.values = merge(root.left.values, root.right.values)\n",
    "\n",
    "    return root\n",
    "\n",
    "\n",
    "# Helper function to update a value\n",
    "# here we have to update so that array remain sorted\n",
    "def updateVal(root, i, val):\n",
    "    if root.start > i or root.end < i:\n",
    "        return\n",
    "\n",
    "    # Base case. The actual value will be updated in a leaf.\n",
    "    # The total is then propogated upwards\n",
    "    if root.start == i and root.end == i:\n",
    "        root.values = [val]\n",
    "        return\n",
    "\n",
    "    updateVal(root.left, i, val)\n",
    "\n",
    "    updateVal(root.right, i, val)\n",
    "\n",
    "    # Propogate the changes after recursive call returns\n",
    "    root.values = merge(root.left.values, root.right.values)\n",
    "\n",
    "    return\n",
    "\n",
    "\n",
    "def search(arr, k):\n",
    "    if len(arr) == 0:\n",
    "        return 0\n",
    "    if len(arr) == 1:\n",
    "        if arr[0] >= k:\n",
    "            return 1\n",
    "        return 0\n",
    "\n",
    "    l = 0\n",
    "    r = len(arr) - 1\n",
    "    while l <= r:\n",
    "        mid = l + (r - l) // 2\n",
    "        if arr[mid] >= k:\n",
    "            r = mid - 1\n",
    "        else:\n",
    "            ans = mid\n",
    "            l = mid + 1\n",
    "    return len(arr) - ans\n",
    "\n",
    "\n",
    "# Helper function to calculate range sum\n",
    "def rangesum(root, i, j, k):\n",
    "    if root.start > j or root.end < i:\n",
    "        return 0\n",
    "\n",
    "    # If the range exactly matches the root, we already have the sum\n",
    "    if root.start >= i and root.end <= j:\n",
    "        return lower_bound(root.values, k)\n",
    "\n",
    "    return rangesum(root.left, i, j, k) + rangesum(root.right, i, j, k)"
   ]
  },
  {
   "cell_type": "code",
   "execution_count": 78,
   "metadata": {},
   "outputs": [],
   "source": [
    "def postorder(root):\n",
    "    if root == None:\n",
    "        return\n",
    "    postorder(root.left)\n",
    "    postorder(root.right)\n",
    "    print(root.values)"
   ]
  },
  {
   "cell_type": "code",
   "execution_count": null,
   "metadata": {},
   "outputs": [],
   "source": []
  },
  {
   "cell_type": "code",
   "execution_count": 79,
   "metadata": {},
   "outputs": [],
   "source": [
    "arr = [7, 3, 9, 13, 5, 4]\n",
    "n = len(arr)\n",
    "root = createTree(arr, 0, n - 1)"
   ]
  },
  {
   "cell_type": "code",
   "execution_count": 80,
   "metadata": {},
   "outputs": [
    {
     "name": "stdout",
     "output_type": "stream",
     "text": [
      "4 0\n",
      "5 1\n",
      "13 2\n",
      "9 2\n",
      "3 0\n",
      "7 3\n"
     ]
    }
   ],
   "source": [
    "for i in range(len(arr) - 1, -1, -1):\n",
    "    print(arr[i], rangesum(root, i, n - 1, arr[i]))"
   ]
  },
  {
   "cell_type": "code",
   "execution_count": 81,
   "metadata": {},
   "outputs": [
    {
     "name": "stdout",
     "output_type": "stream",
     "text": [
      "7 0\n",
      "3 0\n",
      "9 2\n",
      "13 3\n",
      "5 1\n",
      "4 1\n"
     ]
    }
   ],
   "source": [
    "for i in range(len(arr)):\n",
    "    print(arr[i], rangesum(root, 0, i, arr[i]))"
   ]
  },
  {
   "cell_type": "code",
   "execution_count": null,
   "metadata": {},
   "outputs": [],
   "source": []
  },
  {
   "cell_type": "code",
   "execution_count": 69,
   "metadata": {},
   "outputs": [
    {
     "data": {
      "text/plain": [
       "2"
      ]
     },
     "execution_count": 69,
     "metadata": {},
     "output_type": "execute_result"
    }
   ],
   "source": [
    "rangesum(root, 1, 4, 6)"
   ]
  },
  {
   "cell_type": "code",
   "execution_count": 70,
   "metadata": {},
   "outputs": [
    {
     "data": {
      "text/plain": [
       "5"
      ]
     },
     "execution_count": 70,
     "metadata": {},
     "output_type": "execute_result"
    }
   ],
   "source": [
    "rangesum(root, 1, 5, 3)"
   ]
  },
  {
   "cell_type": "code",
   "execution_count": 71,
   "metadata": {},
   "outputs": [],
   "source": [
    "updateVal(root, 2, 2)"
   ]
  },
  {
   "cell_type": "code",
   "execution_count": 72,
   "metadata": {},
   "outputs": [
    {
     "data": {
      "text/plain": [
       "4"
      ]
     },
     "execution_count": 72,
     "metadata": {},
     "output_type": "execute_result"
    }
   ],
   "source": [
    "rangesum(root, 1, 5, 3)"
   ]
  },
  {
   "cell_type": "markdown",
   "metadata": {},
   "source": [
    "**greatest pair sum in the given range**"
   ]
  },
  {
   "cell_type": "code",
   "execution_count": 96,
   "metadata": {},
   "outputs": [],
   "source": [
    "class Node(object):\n",
    "    def __init__(self, start, end):\n",
    "        self.start = start\n",
    "        self.end = end\n",
    "        self.values = None\n",
    "        self.maxnum = -1\n",
    "        self.left = None\n",
    "        self.right = None"
   ]
  },
  {
   "cell_type": "code",
   "execution_count": 101,
   "metadata": {},
   "outputs": [],
   "source": [
    "# helper function to create the tree from input array\n",
    "def createTree(nums, l, r):\n",
    "\n",
    "    # base case\n",
    "    if l > r:\n",
    "        return None\n",
    "\n",
    "    # leaf node\n",
    "    if l == r:\n",
    "        n = Node(l, r)\n",
    "        n.values = nums[l]\n",
    "        n.maxnum = nums[l]\n",
    "        return n\n",
    "\n",
    "    mid = (l + r) // 2\n",
    "\n",
    "    root = Node(l, r)\n",
    "\n",
    "    # recursively build the Segment tree\n",
    "    root.left = createTree(nums, l, mid)\n",
    "    root.right = createTree(nums, mid + 1, r)\n",
    "\n",
    "    # Total stores the sum of all leaves under root\n",
    "    # i.e. those elements lying between (start, end)\n",
    "    # curr = max(root.left.values , root.right.values,root.left.maxnum+root.right.maxnum)\n",
    "    root.values = max(\n",
    "        root.left.values, root.right.values, root.left.maxnum + root.right.maxnum\n",
    "    )\n",
    "    root.maxnum = max(root.left.maxnum, root.right.maxnum)\n",
    "\n",
    "    return root\n",
    "\n",
    "\n",
    "# Helper function to calculate range sum\n",
    "def rangesum(root, i, j):\n",
    "\n",
    "    # If the range exactly matches the root, we already have the sum\n",
    "    if root.start == i and root.end == j:\n",
    "        return root.values\n",
    "\n",
    "    mid = (root.start + root.end) // 2\n",
    "\n",
    "    # If end of the range is less than the mid, the entire interval lies\n",
    "    # in the left subtree\n",
    "    if j <= mid:\n",
    "        return rangesum(root.left, i, j)\n",
    "\n",
    "    # If start of the interval is greater than mid, the entire inteval lies\n",
    "    # in the right subtree\n",
    "    elif i >= mid + 1:\n",
    "        return rangesum(root.right, i, j)\n",
    "\n",
    "    # Otherwise, the interval is split. So we calculate the sum recursively,\n",
    "    # by splitting the interval\n",
    "    else:\n",
    "        return max(rangesum(root.left, i, mid), rangesum(root.right, mid + 1, j))"
   ]
  },
  {
   "cell_type": "code",
   "execution_count": 102,
   "metadata": {},
   "outputs": [],
   "source": [
    "arr = [1, 3, 2, 7, 9, 11]\n",
    "n = len(arr)\n",
    "root = createTree(arr, 0, n - 1)"
   ]
  },
  {
   "cell_type": "code",
   "execution_count": 103,
   "metadata": {},
   "outputs": [
    {
     "data": {
      "text/plain": [
       "16"
      ]
     },
     "execution_count": 103,
     "metadata": {},
     "output_type": "execute_result"
    }
   ],
   "source": [
    "rangesum(root, 1, 4)"
   ]
  },
  {
   "cell_type": "markdown",
   "metadata": {},
   "source": [
    "**number of occurrences of the most frequent value within a given range**"
   ]
  },
  {
   "cell_type": "code",
   "execution_count": 109,
   "metadata": {},
   "outputs": [],
   "source": [
    "class Node(object):\n",
    "    def __init__(self, start, end):\n",
    "        self.start = start\n",
    "        self.end = end\n",
    "        self.values = None\n",
    "        self.freq = None\n",
    "        self.left = None\n",
    "        self.right = None"
   ]
  },
  {
   "cell_type": "code",
   "execution_count": 117,
   "metadata": {},
   "outputs": [],
   "source": [
    "from collections import Counter\n",
    "\n",
    "\n",
    "def combine(r1, r2):\n",
    "    nums = r1.values + r2.values\n",
    "    d = Counter(nums)\n",
    "    return max(d.values())\n",
    "\n",
    "\n",
    "def createTree(nums, l, r):\n",
    "\n",
    "    # base case\n",
    "    if l > r:\n",
    "        return None\n",
    "\n",
    "    # leaf node\n",
    "    if l == r:\n",
    "        n = Node(l, r)\n",
    "        n.values = [nums[l]]\n",
    "        n.freq = 1\n",
    "        return n\n",
    "\n",
    "    mid = (l + r) // 2\n",
    "\n",
    "    root = Node(l, r)\n",
    "\n",
    "    # recursively build the Segment tree\n",
    "    root.left = createTree(nums, l, mid)\n",
    "    root.right = createTree(nums, mid + 1, r)\n",
    "\n",
    "    # Total stores the sum of all leaves under root\n",
    "    # i.e. those elements lying between (start, end)\n",
    "    # curr = max(root.left.values , root.right.values,root.left.maxnum+root.right.maxnum)\n",
    "    root.values = root.left.values + root.right.values\n",
    "    root.freq = combine(root.left, root.right)\n",
    "\n",
    "    return root\n",
    "\n",
    "\n",
    "# Helper function to calculate range sum\n",
    "def rangesum(root, i, j):\n",
    "\n",
    "    # If the range exactly matches the root, we already have the sum\n",
    "    if root.start == i and root.end == j:\n",
    "        return root.freq\n",
    "\n",
    "    mid = (root.start + root.end) // 2\n",
    "\n",
    "    # If end of the range is less than the mid, the entire interval lies\n",
    "    # in the left subtree\n",
    "    if j <= mid:\n",
    "        return rangesum(root.left, i, j)\n",
    "\n",
    "    # If start of the interval is greater than mid, the entire inteval lies\n",
    "    # in the right subtree\n",
    "    elif i >= mid + 1:\n",
    "        return rangesum(root.right, i, j)\n",
    "\n",
    "    # Otherwise, the interval is split. So we calculate the sum recursively,\n",
    "    # by splitting the interval\n",
    "    else:\n",
    "        return max(rangesum(root.left, i, mid), rangesum(root.right, mid + 1, j))\n",
    "\n",
    "\n",
    "def updateVal(root, i, val):\n",
    "\n",
    "    # Base case. The actual value will be updated in a leaf.\n",
    "    # The total is then propogated upwards\n",
    "    if root.start == root.end:\n",
    "        root.values = [val]\n",
    "        root.freq = 1\n",
    "        return n\n",
    "\n",
    "    mid = (root.start + root.end) // 2\n",
    "\n",
    "    # If the index is less than the mid, that leaf must be in the left subtree\n",
    "    if i <= mid:\n",
    "        updateVal(root.left, i, val)\n",
    "\n",
    "    # Otherwise, the right subtree\n",
    "    else:\n",
    "        updateVal(root.right, i, val)\n",
    "\n",
    "    # Propogate the changes after recursive call returns\n",
    "    root.values = root.left.values + root.right.values\n",
    "    root.freq = combine(root.left, root.right)\n",
    "\n",
    "    return root"
   ]
  },
  {
   "cell_type": "code",
   "execution_count": 118,
   "metadata": {},
   "outputs": [],
   "source": [
    "arr = [-5, -5, 2, 2, 2, 2, 3, 7, 7, 7]\n",
    "n = len(arr)\n",
    "root = createTree(arr, 0, n - 1)"
   ]
  },
  {
   "cell_type": "code",
   "execution_count": 119,
   "metadata": {},
   "outputs": [
    {
     "data": {
      "text/plain": [
       "4"
      ]
     },
     "execution_count": 119,
     "metadata": {},
     "output_type": "execute_result"
    }
   ],
   "source": [
    "rangesum(root, 0, 9)"
   ]
  },
  {
   "cell_type": "code",
   "execution_count": 120,
   "metadata": {},
   "outputs": [
    {
     "data": {
      "text/plain": [
       "<__main__.Node at 0x2a056c14e90>"
      ]
     },
     "execution_count": 120,
     "metadata": {},
     "output_type": "execute_result"
    }
   ],
   "source": [
    "updateVal(root, 0, 2)"
   ]
  },
  {
   "cell_type": "code",
   "execution_count": 121,
   "metadata": {},
   "outputs": [
    {
     "data": {
      "text/plain": [
       "5"
      ]
     },
     "execution_count": 121,
     "metadata": {},
     "output_type": "execute_result"
    }
   ],
   "source": [
    "rangesum(root, 0, 9)"
   ]
  },
  {
   "cell_type": "markdown",
   "metadata": {},
   "source": [
    "**find the frequency of a given value in a given subarray**"
   ]
  },
  {
   "cell_type": "code",
   "execution_count": 8,
   "metadata": {},
   "outputs": [],
   "source": []
  },
  {
   "cell_type": "code",
   "execution_count": 22,
   "metadata": {},
   "outputs": [],
   "source": [
    "from collections import defaultdict\n",
    "\n",
    "\n",
    "class Node:\n",
    "    def __init__(self, start, end) -> None:\n",
    "        self.start = start\n",
    "        self.end = end\n",
    "        self.left = None\n",
    "        self.right = None\n",
    "        self.freq = defaultdict(int)"
   ]
  },
  {
   "cell_type": "code",
   "execution_count": 51,
   "metadata": {},
   "outputs": [],
   "source": [
    "def mergefreq(d1, d2):\n",
    "    for key in d2:\n",
    "        d1[key] = d1[key] + d2[key]\n",
    "    return d1\n",
    "\n",
    "\n",
    "def maketree(nums, l, r):\n",
    "    if l > r:\n",
    "        return None\n",
    "    if l == r:\n",
    "        curr = Node(l, r)\n",
    "        curr.freq[nums[l]] = 1\n",
    "        return curr\n",
    "\n",
    "    mid = (l + r) // 2\n",
    "    root = Node(l, r)\n",
    "    root.left = maketree(nums, l, mid)\n",
    "    root.right = maketree(nums, mid + 1, r)\n",
    "    root.freq = mergefreq(root.left.freq, root.right.freq)\n",
    "    return root\n",
    "\n",
    "\n",
    "def get_freq(root, l, r, k):\n",
    "    if root.start == l and root.end == r:\n",
    "        return root.freq[k]\n",
    "\n",
    "    mid = (l + r) // 2\n",
    "\n",
    "    if r <= mid:\n",
    "        return get_freq(root.left, l, r, k)\n",
    "    elif l >= mid + 1:\n",
    "        return get_freq(root.right, l, r, k)\n",
    "    else:\n",
    "        return get_freq(root.left, l, mid, k) + get_freq(root.right, mid + 1, r, k)"
   ]
  },
  {
   "cell_type": "code",
   "execution_count": 52,
   "metadata": {},
   "outputs": [],
   "source": [
    "def postorder(root):\n",
    "    if root == None:\n",
    "        return\n",
    "    postorder(root.left)\n",
    "    postorder(root.right)\n",
    "    print(root.freq)"
   ]
  },
  {
   "cell_type": "code",
   "execution_count": 53,
   "metadata": {},
   "outputs": [],
   "source": [
    "nums = [12, 33, 4, 56, 22, 2, 34, 33, 22, 12, 34, 56]\n",
    "n = len(nums) - 1"
   ]
  },
  {
   "cell_type": "code",
   "execution_count": 54,
   "metadata": {},
   "outputs": [],
   "source": [
    "root = maketree(nums, 0, n)"
   ]
  },
  {
   "cell_type": "code",
   "execution_count": 56,
   "metadata": {},
   "outputs": [
    {
     "data": {
      "text/plain": [
       "2"
      ]
     },
     "execution_count": 56,
     "metadata": {},
     "output_type": "execute_result"
    }
   ],
   "source": [
    "get_freq(root, 0, 11, 33)"
   ]
  },
  {
   "cell_type": "code",
   "execution_count": 89,
   "metadata": {},
   "outputs": [],
   "source": [
    "# helper function to create the tree from input array\n",
    "class Node(object):\n",
    "    def __init__(self, start, end):\n",
    "        self.start = start\n",
    "        self.end = end\n",
    "        self.values = 0\n",
    "        self.left = None\n",
    "        self.right = None\n",
    "\n",
    "\n",
    "def createTree(nums, l, r):\n",
    "\n",
    "    # base case\n",
    "    if l > r:\n",
    "        return None\n",
    "\n",
    "    # leaf node\n",
    "    if l == r:\n",
    "        n = Node(l, r)\n",
    "        n.values = nums[l]\n",
    "        return n\n",
    "\n",
    "    mid = (l + r) // 2\n",
    "\n",
    "    root = Node(l, r)\n",
    "\n",
    "    # recursively build the Segment tree\n",
    "    root.left = createTree(nums, l, mid)\n",
    "    root.right = createTree(nums, mid + 1, r)\n",
    "\n",
    "    # Total stores the sum of all leaves under root\n",
    "    # i.e. those elements lying between (start, end)\n",
    "    # curr = max(root.left.values , root.right.values,root.left.maxnum+root.right.maxnum)\n",
    "    root.values = max(\n",
    "        root.left.values, root.right.values, root.left.values + root.right.values\n",
    "    )\n",
    "\n",
    "    return root\n",
    "\n",
    "\n",
    "# Helper function to calculate range sum\n",
    "def rangesum(root, i, j):\n",
    "    if root.start > j or root.end < i:\n",
    "        return 0\n",
    "\n",
    "    # If the range exactly matches the root, we already have the sum\n",
    "    if root.start >= i and root.end <= j:\n",
    "        return root.values\n",
    "\n",
    "    rangesum(root.left, i, j)\n",
    "\n",
    "    # If start of the interval is greater than mid, the entire inteval lies\n",
    "    # in the right subtree\n",
    "    rangesum(root.right, i, j)\n",
    "\n",
    "    # Otherwise, the interval is split. So we calculate the sum recursively,\n",
    "    # by splitting the interval\n",
    "\n",
    "    return max(rangesum(root.left, i, j), rangesum(root.right, i, j))"
   ]
  },
  {
   "cell_type": "code",
   "execution_count": 90,
   "metadata": {},
   "outputs": [],
   "source": [
    "arr = [1, 2, 3, 4, -5]\n",
    "root = createTree(arr, 0, len(arr) - 1)"
   ]
  },
  {
   "cell_type": "code",
   "execution_count": 91,
   "metadata": {},
   "outputs": [
    {
     "name": "stdout",
     "output_type": "stream",
     "text": [
      "1\n",
      "2\n",
      "3\n",
      "3\n",
      "6\n",
      "4\n",
      "-5\n",
      "-1\n",
      "5\n"
     ]
    }
   ],
   "source": [
    "def postorder(root):\n",
    "    if root == None:\n",
    "        return\n",
    "    postorder(root.left)\n",
    "    postorder(root.right)\n",
    "    print(root.values)\n",
    "\n",
    "\n",
    "postorder(root)"
   ]
  },
  {
   "cell_type": "code",
   "execution_count": 86,
   "metadata": {},
   "outputs": [
    {
     "data": {
      "text/plain": [
       "4"
      ]
     },
     "execution_count": 86,
     "metadata": {},
     "output_type": "execute_result"
    }
   ],
   "source": [
    "rangesum(root, 1, 3)"
   ]
  },
  {
   "cell_type": "markdown",
   "metadata": {},
   "source": [
    "You are implementing a program to use as your calendar. We can add a new event if adding the event will not cause a double booking.\n",
    "\n",
    "A double booking happens when two events have some non-empty intersection (i.e., some moment is common to both events.).\n",
    "\n",
    "The event can be represented as a pair of integers start and end that represents a booking on the half-open interval [start, end), the range of real \n",
    "\n",
    "numbers x such that start <= x < end."
   ]
  },
  {
   "cell_type": "code",
   "execution_count": null,
   "metadata": {},
   "outputs": [],
   "source": [
    "class MyCalendar:\n",
    "\n",
    "    def __init__(self):\n",
    "        self.arr = []\n",
    "\n",
    "    def book(self, start: int, end: int) -> bool:\n",
    "        for b in self.arr:\n",
    "            if (\n",
    "                (b[0] < start < b[1])\n",
    "                or (b[0] < end < b[1])\n",
    "                or (start <= b[0] and end >= b[1])\n",
    "            ):\n",
    "                return False\n",
    "\n",
    "        self.arr.append([start, end])\n",
    "        return True\n",
    "\n",
    "\n",
    "class Node:\n",
    "    def __init__(self, start, end):\n",
    "        self.start = start\n",
    "        self.end = end\n",
    "        self.left = None\n",
    "        self.right = None\n",
    "\n",
    "\n",
    "class Tree:\n",
    "    def __init__(self, start, end):\n",
    "        self.start = start\n",
    "        self.end = end\n",
    "        self.left = None\n",
    "        self.right = None\n",
    "\n",
    "    def insert(self, start, end):\n",
    "        curr = self\n",
    "        while True:\n",
    "            if start >= curr.end:\n",
    "                if not curr.right:\n",
    "                    curr.right = Tree(start, end)\n",
    "                    return True\n",
    "                curr = curr.right\n",
    "            elif end <= curr.start:\n",
    "                if not curr.left:\n",
    "                    curr.left = Tree(start, end)\n",
    "                    return True\n",
    "                curr = curr.left\n",
    "            else:\n",
    "                return False\n",
    "\n",
    "\n",
    "class MyCalendar:\n",
    "\n",
    "    def __init__(self):\n",
    "        self.root = None\n",
    "\n",
    "    def book(self, start: int, end: int) -> bool:\n",
    "        if not self.root:\n",
    "            self.root = Tree(start, end)\n",
    "            return True\n",
    "        return self.root.insert(start, end)\n",
    "\n",
    "\n",
    "class MyCalendar:\n",
    "\n",
    "    def __init__(self):\n",
    "        self.root = None\n",
    "\n",
    "    def book(self, start: int, end: int) -> bool:\n",
    "        if not self.root:\n",
    "            self.root = Node(start, end)\n",
    "            return True\n",
    "\n",
    "        return self.insert(self.root, start, end)\n",
    "\n",
    "    def insert(self, node, start, end):\n",
    "        if start >= node.end:\n",
    "            if node.left:\n",
    "                return self.insert(node.left, start, end)\n",
    "            else:\n",
    "                node.left = Node(start, end)\n",
    "                return True\n",
    "        elif end <= node.start:\n",
    "            if node.right:\n",
    "                return self.insert(node.right, start, end)\n",
    "            else:\n",
    "                node.right = Node(start, end)\n",
    "                return True\n",
    "        else:\n",
    "            return False"
   ]
  },
  {
   "cell_type": "code",
   "execution_count": null,
   "metadata": {},
   "outputs": [],
   "source": [
    "class Node:\n",
    "    def __init__(self, booked=False) -> None:\n",
    "        self.booked = booked\n",
    "        self.left = self.right = None\n",
    "\n",
    "\n",
    "class MyCalendar:\n",
    "    def __init__(self):\n",
    "        self.root = None\n",
    "        self.maxi = 10**9\n",
    "\n",
    "    def book(self, start: int, end: int) -> bool:\n",
    "        if not self.query(self.root, 0, self.maxi, start, end - 1):\n",
    "            self.root = self.insert(self.root, 0, self.maxi, start, end - 1)\n",
    "            return True\n",
    "        return False\n",
    "\n",
    "    def query(\n",
    "        self, node: Node, low: int, high: int, ql: int, qh: int\n",
    "    ) -> bool:  # return booked?\n",
    "        if not node or ql > high or qh < low:  # not overlap\n",
    "            return False\n",
    "        if node.booked:\n",
    "            return True\n",
    "\n",
    "        # partial overlap\n",
    "        mid = (high + low) // 2\n",
    "        left = self.query(node.left, low, mid, ql, qh)\n",
    "        right = self.query(node.right, mid + 1, high, ql, qh)\n",
    "        return left or right\n",
    "\n",
    "    def insert(self, node: Node, low: int, high: int, ql: int, qh: int) -> Node:\n",
    "        if ql > high or qh < low:  # not overlap\n",
    "            return node\n",
    "        if not node:\n",
    "            node = Node(False)\n",
    "        if ql <= low and high <= qh:  # complete overlap\n",
    "            node.booked = True\n",
    "            return node\n",
    "\n",
    "        # partial overlap\n",
    "        mid = (low + high) // 2\n",
    "        node.left = self.insert(node.left, low, mid, ql, qh)\n",
    "        node.right = self.insert(node.right, mid + 1, high, ql, qh)\n",
    "        node.booked = (\n",
    "            node.left and node.left.booked and node.right and node.right.booked\n",
    "        )\n",
    "        return node"
   ]
  },
  {
   "cell_type": "markdown",
   "metadata": {},
   "source": [
    "You are implementing a program to use as your calendar. We can add a new event if adding the event will not cause a triple booking.\n",
    "\n",
    "A triple booking happens when three events have some non-empty intersection (i.e., some moment is common to all the three events.).\n",
    "\n",
    "The event can be represented as a pair of integers start and end that represents a booking on the half-open interval [start, end), the range of real \n",
    "\n",
    "numbers x such that start <= x < end."
   ]
  },
  {
   "cell_type": "code",
   "execution_count": null,
   "metadata": {},
   "outputs": [],
   "source": [
    "class MyCalendarTwo:\n",
    "    def __init__(self):\n",
    "        self.mp = defaultdict(int)\n",
    "\n",
    "    def book(self, start: int, end: int) -> bool:\n",
    "        self.mp[start] += 1\n",
    "        self.mp[end] -= 1\n",
    "\n",
    "        ActiveCount = 0\n",
    "        for value, count in sorted(self.mp.items()):\n",
    "            ActiveCount += count\n",
    "            if ActiveCount > 2:\n",
    "                self.mp[start] -= 1\n",
    "                self.mp[end] += 1\n",
    "                return False\n",
    "        return True"
   ]
  },
  {
   "cell_type": "markdown",
   "metadata": {},
   "source": []
  },
  {
   "cell_type": "code",
   "execution_count": null,
   "metadata": {},
   "outputs": [],
   "source": []
  },
  {
   "cell_type": "code",
   "execution_count": 2,
   "metadata": {},
   "outputs": [
    {
     "name": "stdout",
     "output_type": "stream",
     "text": [
      "[4, 5, 8, 12]\n",
      "[4, 5, 8, 12]\n"
     ]
    }
   ],
   "source": [
    "def solve(i, nums, k, ans, prev):\n",
    "    if i >= len(nums):\n",
    "        return\n",
    "    if len(ans) > 3:\n",
    "        print(ans)\n",
    "\n",
    "    if prev == -1 or (nums[i] > prev and abs(prev - nums[i]) <= k):\n",
    "        ans.append(nums[i])\n",
    "        solve(i + 1, nums, k, ans, nums[i])\n",
    "        ans.pop()\n",
    "\n",
    "    solve(i + 1, nums, k, ans, prev)\n",
    "\n",
    "\n",
    "nums = [7, 4, 5, 1, 8, 12, 4, 7]\n",
    "k = 5\n",
    "solve(0, nums, k, [], -1)"
   ]
  },
  {
   "cell_type": "code",
   "execution_count": 6,
   "metadata": {},
   "outputs": [
    {
     "data": {
      "text/plain": [
       "[1, 2, 2, 3, 3, 4, 5, 2, 2]"
      ]
     },
     "execution_count": 6,
     "metadata": {},
     "output_type": "execute_result"
    }
   ],
   "source": [
    "nums = [4, 2, 1, 4, 3, 4, 5, 8, 15]\n",
    "k = 3\n",
    "dp = [1] * (len(nums))\n",
    "dp[0] = 1\n",
    "for i in range(1, len(nums)):\n",
    "    for j in range(i):\n",
    "        if (nums[i] > nums[j] and abs(nums[i] - nums[j]) < k) and dp[j] > dp[i]:\n",
    "            dp[i] = dp[j]\n",
    "    dp[i] += 1\n",
    "dp"
   ]
  },
  {
   "cell_type": "code",
   "execution_count": 5,
   "metadata": {},
   "outputs": [
    {
     "data": {
      "text/plain": [
       "5"
      ]
     },
     "execution_count": 5,
     "metadata": {},
     "output_type": "execute_result"
    }
   ],
   "source": [
    "def lis(arr, k):\n",
    "    n = len(arr)\n",
    "\n",
    "    # Declare the list (array) for LIS and\n",
    "    # initialize LIS values for all indexes\n",
    "    lis = [1] * n\n",
    "\n",
    "    # Compute optimized LIS values in bottom\n",
    "    # -up manner\n",
    "    for i in range(1, n):\n",
    "        for prev in range(0, i):\n",
    "            if arr[i] > arr[prev]:  # and abs(arr[i] - arr[prev]) <= k:\n",
    "                lis[i] = max(lis[i], lis[prev] + 1)\n",
    "\n",
    "    # Return the maximum of all LIS values\n",
    "    return max(lis)\n",
    "\n",
    "\n",
    "nums = [4, 2, 1, 4, 3, 4, 5, 8, 15]\n",
    "k = 3\n",
    "lis(nums, k)"
   ]
  },
  {
   "cell_type": "code",
   "execution_count": null,
   "metadata": {},
   "outputs": [],
   "source": []
  }
 ],
 "metadata": {
  "kernelspec": {
   "display_name": "Python 3",
   "language": "python",
   "name": "python3"
  },
  "language_info": {
   "codemirror_mode": {
    "name": "ipython",
    "version": 3
   },
   "file_extension": ".py",
   "mimetype": "text/x-python",
   "name": "python",
   "nbconvert_exporter": "python",
   "pygments_lexer": "ipython3",
   "version": "3.11.6"
  }
 },
 "nbformat": 4,
 "nbformat_minor": 2
}
