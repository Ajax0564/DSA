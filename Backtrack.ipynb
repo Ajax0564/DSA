{
 "cells": [
  {
   "cell_type": "markdown",
   "metadata": {},
   "source": [
    "**Word-Break Problem**\n",
    "\n",
    "Time Complexity: O(2^n). Because there are 2^n combinations in The Worst Case.\n",
    "\n",
    "Auxiliary Space: O(n^2)"
   ]
  },
  {
   "cell_type": "code",
   "execution_count": 46,
   "metadata": {},
   "outputs": [
    {
     "name": "stdout",
     "output_type": "stream",
     "text": [
      "['i', 'love', 'ice', 'cream', 'and', 'man', 'go']\n",
      "['i', 'love', 'ice', 'cream', 'and', 'mango']\n",
      "['i', 'love', 'icecream', 'and', 'man', 'go']\n",
      "['i', 'love', 'icecream', 'and', 'mango']\n"
     ]
    }
   ],
   "source": [
    "dictionary = {\n",
    "    \"mobile\",\n",
    "    \"samsung\",\n",
    "    \"sam\",\n",
    "    \"sung\",\n",
    "    \"man\",\n",
    "    \"mango\",\n",
    "    \"icecream\",\n",
    "    \"and\",\n",
    "    \"go\",\n",
    "    \"i\",\n",
    "    \"love\",\n",
    "    \"ice\",\n",
    "    \"cream\",\n",
    "}\n",
    "pat = \"iloveicecreamandmango\"\n",
    "\n",
    "\n",
    "def solve(pat, d, path):\n",
    "    if len(pat) <= 0:\n",
    "        print(path)\n",
    "        return\n",
    "    for j in range(1, len(pat) + 1):\n",
    "        curr = pat[:j]\n",
    "        if curr in d:\n",
    "            path.append(curr)\n",
    "            solve(pat[j:], d, path)\n",
    "            path.pop()\n",
    "\n",
    "\n",
    "solve(pat, dictionary, [])"
   ]
  },
  {
   "cell_type": "code",
   "execution_count": 47,
   "metadata": {},
   "outputs": [
    {
     "name": "stdout",
     "output_type": "stream",
     "text": [
      "i love ice cream and man go \n",
      "i love ice cream and mango \n",
      "i love icecream and man go \n",
      "i love icecream and mango \n"
     ]
    }
   ],
   "source": [
    "pat = \"iloveicecreamandmango\"\n",
    "\n",
    "\n",
    "def solve(pat, d, path):\n",
    "    if len(pat) <= 0:\n",
    "        print(path)\n",
    "        return\n",
    "    for j in range(1, len(pat) + 1):\n",
    "        curr = pat[:j]\n",
    "        if curr in d:\n",
    "            solve(pat[j:], d, path + curr + \" \")\n",
    "\n",
    "\n",
    "solve(pat, dictionary, \"\")"
   ]
  },
  {
   "cell_type": "code",
   "execution_count": 48,
   "metadata": {},
   "outputs": [
    {
     "data": {
      "text/plain": [
       "True"
      ]
     },
     "execution_count": 48,
     "metadata": {},
     "output_type": "execute_result"
    }
   ],
   "source": [
    "pat = \"iloveicecreamandmango\"\n",
    "\n",
    "\n",
    "def solve(pat, d):\n",
    "    if len(pat) <= 0:\n",
    "        return True\n",
    "    for j in range(1, len(pat) + 1):\n",
    "        curr = pat[:j]\n",
    "        if curr in d and solve(pat[j:], d):\n",
    "            return True\n",
    "    return False\n",
    "\n",
    "\n",
    "solve(pat, dictionary)"
   ]
  },
  {
   "cell_type": "code",
   "execution_count": 49,
   "metadata": {},
   "outputs": [
    {
     "name": "stdout",
     "output_type": "stream",
     "text": [
      "i love ice cream and man go \n",
      "i love ice cream and mango \n",
      "i love icecream and man go \n",
      "i love icecream and mango \n"
     ]
    }
   ],
   "source": [
    "pat = \"iloveicecreamandmango\"\n",
    "\n",
    "\n",
    "def solve(i, pat, d, path):\n",
    "    if i >= len(pat):\n",
    "        print(path)\n",
    "        return\n",
    "\n",
    "    for j in range(i + 1, len(pat) + 1):\n",
    "        curr = pat[i:j]\n",
    "        if curr in d:\n",
    "            solve(j, pat, d, path + curr + \" \")\n",
    "\n",
    "\n",
    "solve(0, pat, dictionary, \"\")"
   ]
  },
  {
   "cell_type": "markdown",
   "metadata": {},
   "source": [
    "**Print all Palindromic Partitions of a String**"
   ]
  },
  {
   "cell_type": "code",
   "execution_count": 50,
   "metadata": {},
   "outputs": [
    {
     "name": "stdout",
     "output_type": "stream",
     "text": [
      "n i t i n \n",
      "n iti n \n",
      "nitin \n"
     ]
    }
   ],
   "source": [
    "def is_polindrom(x):\n",
    "    return x == x[::-1]\n",
    "\n",
    "\n",
    "def solve(pat, path):\n",
    "    if len(pat) <= 0:\n",
    "        print(path)\n",
    "        return\n",
    "    for j in range(1, len(pat) + 1):\n",
    "        curr = pat[:j]\n",
    "        if is_polindrom(curr):\n",
    "            solve(pat[j:], path + curr + \" \")\n",
    "\n",
    "\n",
    "pat = \"nitin\"\n",
    "solve(pat, \"\")"
   ]
  },
  {
   "cell_type": "code",
   "execution_count": 51,
   "metadata": {},
   "outputs": [
    {
     "name": "stdout",
     "output_type": "stream",
     "text": [
      "n i t i n \n",
      "n iti n \n",
      "nitin \n"
     ]
    }
   ],
   "source": [
    "def is_polindrom(x):\n",
    "    return x == x[::-1]\n",
    "\n",
    "\n",
    "def solve(i, pat, path):\n",
    "    if i >= len(pat):\n",
    "        print(path)\n",
    "        return\n",
    "    for j in range(i + 1, len(pat) + 1):\n",
    "        curr = pat[i:j]\n",
    "        if is_polindrom(curr):\n",
    "            solve(j, pat, path + curr + \" \")\n",
    "\n",
    "\n",
    "pat = \"nitin\"\n",
    "solve(0, pat, \"\")"
   ]
  },
  {
   "cell_type": "code",
   "execution_count": 52,
   "metadata": {},
   "outputs": [
    {
     "name": "stdout",
     "output_type": "stream",
     "text": [
      "aat\n",
      "abt\n",
      "act\n",
      "adt\n",
      "bat\n",
      "bbt\n",
      "bct\n",
      "bdt\n",
      "cat\n",
      "cbt\n",
      "cct\n",
      "cdt\n",
      "dat\n",
      "dbt\n",
      "dct\n",
      "ddt\n"
     ]
    }
   ],
   "source": [
    "s = \"??t\"\n",
    "\n",
    "\n",
    "def solve(i, s, curr):\n",
    "    if len(curr) == len(s):\n",
    "        print(curr)\n",
    "        return\n",
    "    if s[i] == \"?\":\n",
    "        for c in \"abcd\":\n",
    "            solve(i + 1, s, curr + c)\n",
    "    else:\n",
    "        solve(i + 1, s, curr + s[i])\n",
    "\n",
    "\n",
    "solve(0, s, \"\")"
   ]
  },
  {
   "cell_type": "markdown",
   "metadata": {},
   "source": [
    "**Remove minimum number of parentheses to make the input string valid**\n",
    "\n",
    "Time Complexity: O(2^n). Because there are 2^n combinations in The Worst Case.\n",
    "\n",
    "Auxiliary Space: O(n^2)"
   ]
  },
  {
   "cell_type": "code",
   "execution_count": 53,
   "metadata": {},
   "outputs": [
    {
     "name": "stdout",
     "output_type": "stream",
     "text": [
      "(())()\n",
      "()()()\n",
      "(v)\n",
      "()v\n"
     ]
    }
   ],
   "source": [
    "from collections import deque\n",
    "\n",
    "\n",
    "# Method checks if character is parenthesis(open\n",
    "# or closed)\n",
    "def isParenthesis(c):\n",
    "    return (c == \"(\") or (c == \")\")\n",
    "\n",
    "\n",
    "# method returns true if contains valid\n",
    "# parenthesis\n",
    "def isValidString(str):\n",
    "    cnt = 0\n",
    "    for i in range(len(str)):\n",
    "        if str[i] == \"(\":\n",
    "            cnt += 1\n",
    "        elif str[i] == \")\":\n",
    "            cnt -= 1\n",
    "        if cnt < 0:\n",
    "            return False\n",
    "    return cnt == 0\n",
    "\n",
    "\n",
    "# method to remove invalid parenthesis\n",
    "def removeInvalidParenthesis(str):\n",
    "    if len(str) == 0:\n",
    "        return\n",
    "\n",
    "    # visit set to ignore already visited\n",
    "    visit = set()\n",
    "\n",
    "    # queue to maintain BFS\n",
    "    q = deque([])\n",
    "    temp = 0\n",
    "    level = 0\n",
    "\n",
    "    # pushing given as starting node into queue\n",
    "    q.append(str)\n",
    "    visit.add(str)\n",
    "    while len(q):\n",
    "        str = q[0]\n",
    "        q.popleft()\n",
    "        if isValidString(str):\n",
    "            print(str)\n",
    "\n",
    "            # If answer is found, make level true\n",
    "            # so that valid of only that level\n",
    "            # are processed.\n",
    "            level = True\n",
    "        if level:\n",
    "            continue\n",
    "        for i in range(len(str)):\n",
    "            if not isParenthesis(str[i]):\n",
    "                continue\n",
    "\n",
    "            # Removing parenthesis from str and\n",
    "            # pushing into queue,if not visited already\n",
    "            temp = str[0:i] + str[i + 1 :]\n",
    "            if temp not in visit:\n",
    "                q.append(temp)\n",
    "                visit.add(temp)\n",
    "\n",
    "\n",
    "# Driver Code\n",
    "expression = \"()())()\"\n",
    "removeInvalidParenthesis(expression)\n",
    "expression = \"()v)\"\n",
    "removeInvalidParenthesis(expression)\n",
    "\n",
    "# This code is contributed by SHUBHAMSINGH10"
   ]
  },
  {
   "cell_type": "markdown",
   "metadata": {},
   "source": [
    "**string follows a given pattern or no**\n",
    "\n",
    "Time complexity of this code is O(2^m), where m is the length of the pattern. This is because in the worst case, the algorithm may have to try all possible combinations of substrings of the string to find a match with the pattern. \n",
    "\n",
    "Space complexity is O(m), where m is the length of the pattern, as the mapping between the pattern and the string is stored in a hash map with m characters."
   ]
  },
  {
   "cell_type": "code",
   "execution_count": 54,
   "metadata": {},
   "outputs": [
    {
     "name": "stdout",
     "output_type": "stream",
     "text": [
      "{'G': 'Geeks', 'f': 'for'}\n"
     ]
    }
   ],
   "source": [
    "# Function to determine if given pattern matches with a string or not\n",
    "def match(str, pat, dict, i=0, j=0):\n",
    "\n",
    "    n = len(str)\n",
    "    m = len(pat)\n",
    "\n",
    "    # base condition\n",
    "    if n < m:\n",
    "        return False\n",
    "\n",
    "    # if both pattern and the string reaches end\n",
    "    if i == n and j == m:\n",
    "        return True\n",
    "\n",
    "    # if either string or pattern reaches end\n",
    "    if i == n or j == m:\n",
    "        return False\n",
    "\n",
    "    # consider next character from the pattern\n",
    "    curr = pat[j]\n",
    "\n",
    "    # if the character is seen before\n",
    "    if curr in dict:\n",
    "\n",
    "        s = dict[curr]\n",
    "        k = len(s)\n",
    "\n",
    "        # ss stores next k characters of the given string\n",
    "        if i + k < len(str):\n",
    "            ss = str[i : i + k]\n",
    "        else:\n",
    "            ss = str[i:]\n",
    "\n",
    "        # return false if next k characters doesn't match with s\n",
    "        if ss != s:\n",
    "            return False\n",
    "\n",
    "        # recur for remaining characters if next k characters matches\n",
    "        return match(str, pat, dict, i + k, j + 1)\n",
    "\n",
    "    # process all remaining characters in the string if current\n",
    "    # character is never seen before\n",
    "    for k in range(1, n - i + 1):\n",
    "\n",
    "        # insert substring formed by next k characters of the string\n",
    "        # into the dictionary\n",
    "        dict[curr] = str[i : i + k]\n",
    "\n",
    "        # check if it leads to the solution\n",
    "        if match(str, pat, dict, i + k, j + 1):\n",
    "            return True\n",
    "\n",
    "        # else backtrack - remove current character from the dictionary\n",
    "        dict.pop(curr)\n",
    "\n",
    "    return False\n",
    "\n",
    "\n",
    "if __name__ == \"__main__\":\n",
    "\n",
    "    # input string and pattern\n",
    "    str = \"GeeksforGeeks\"\n",
    "    pat = \"GfG\"\n",
    "\n",
    "    # create a dictionary to store mappings between the pattern and string\n",
    "    dict = {}\n",
    "\n",
    "    # check for solution\n",
    "    if match(str, pat, dict):\n",
    "        print(dict)\n",
    "    else:\n",
    "        print(\"Solution doesn't exist\")\n",
    "\n",
    "# This code is contributed by Priyadarshini Kumari"
   ]
  },
  {
   "cell_type": "markdown",
   "metadata": {},
   "source": [
    "**Hamiltonian cycle**"
   ]
  },
  {
   "cell_type": "markdown",
   "metadata": {},
   "source": []
  },
  {
   "cell_type": "code",
   "execution_count": null,
   "metadata": {},
   "outputs": [],
   "source": []
  },
  {
   "cell_type": "markdown",
   "metadata": {},
   "source": [
    "**Sudoku Solver**"
   ]
  },
  {
   "cell_type": "code",
   "execution_count": 55,
   "metadata": {},
   "outputs": [],
   "source": [
    "# the given number.\n",
    "def used_in_row(arr, row, num):\n",
    "    for i in range(9):\n",
    "        if arr[row][i] == num:\n",
    "            return True\n",
    "    return False\n",
    "\n",
    "\n",
    "def used_in_col(arr, col, num):\n",
    "    for i in range(9):\n",
    "        if arr[i][col] == num:\n",
    "            return True\n",
    "    return False\n",
    "\n",
    "\n",
    "def used_in_box(arr, row, col, num):\n",
    "    for i in range(3):\n",
    "        for j in range(3):\n",
    "            if arr[i + row][j + col] == num:\n",
    "                return True\n",
    "    return False\n",
    "\n",
    "\n",
    "def check_location_is_safe(arr, row, col, num):\n",
    "\n",
    "    # Check if 'num' is not already\n",
    "    # placed in current row,\n",
    "    # current column and current 3x3 box\n",
    "    return not used_in_row(arr, row, num) and (\n",
    "        not used_in_col(arr, col, num)\n",
    "        and (not used_in_box(arr, row - row % 3, col - col % 3, num))\n",
    "    )\n",
    "\n",
    "\n",
    "def isValid(board, row: int, col: int, c: str) -> bool:\n",
    "    for i in range(9):\n",
    "        if board[i][col] == c:\n",
    "            return False\n",
    "        if board[row][i] == c:\n",
    "            return False\n",
    "        if board[3 * (row // 3) + i // 3][3 * (col // 3) + i % 3] == c:\n",
    "            return False\n",
    "    return True"
   ]
  },
  {
   "cell_type": "code",
   "execution_count": 56,
   "metadata": {},
   "outputs": [
    {
     "name": "stdout",
     "output_type": "stream",
     "text": [
      "3 1 6 5 7 8 4 9 2 \n",
      "5 2 9 1 3 4 7 6 8 \n",
      "4 8 7 6 2 9 5 3 1 \n",
      "2 6 3 4 1 5 9 8 7 \n",
      "9 7 4 8 6 3 1 2 5 \n",
      "8 5 1 7 9 2 6 4 3 \n",
      "1 3 8 9 4 7 2 5 6 \n",
      "6 9 2 3 5 1 8 7 4 \n",
      "7 4 5 2 8 6 3 1 9 \n"
     ]
    }
   ],
   "source": [
    "grid = [\n",
    "    [3, 0, 6, 5, 0, 8, 4, 0, 0],\n",
    "    [5, 2, 0, 0, 0, 0, 0, 0, 0],\n",
    "    [0, 8, 7, 0, 0, 0, 0, 3, 1],\n",
    "    [0, 0, 3, 0, 1, 0, 0, 8, 0],\n",
    "    [9, 0, 0, 8, 6, 3, 0, 0, 5],\n",
    "    [0, 5, 0, 0, 9, 0, 6, 0, 0],\n",
    "    [1, 3, 0, 0, 0, 0, 2, 5, 0],\n",
    "    [0, 0, 0, 0, 0, 0, 0, 7, 4],\n",
    "    [0, 0, 5, 2, 0, 6, 3, 0, 0],\n",
    "]\n",
    "\n",
    "\n",
    "def solveSudoku(board) -> bool:\n",
    "    for i in range(len(board)):\n",
    "        for j in range(len(board[0])):\n",
    "            if board[i][j] == 0:\n",
    "                for c in range(1, 10):\n",
    "                    if check_location_is_safe(board, i, j, c):\n",
    "                        board[i][j] = c\n",
    "                        if solveSudoku(board):\n",
    "                            return True\n",
    "                        else:\n",
    "                            board[i][j] = 0\n",
    "                return False\n",
    "    return True\n",
    "\n",
    "\n",
    "if solveSudoku(grid):\n",
    "    for i in range(9):\n",
    "        for j in range(9):\n",
    "            print(grid[i][j], end=\" \")\n",
    "        print()\n",
    "    # print_grid(grid)\n",
    "else:\n",
    "    print(\"No solution exists\")"
   ]
  },
  {
   "cell_type": "markdown",
   "metadata": {},
   "source": [
    "**M-coloring**"
   ]
  },
  {
   "cell_type": "code",
   "execution_count": 57,
   "metadata": {},
   "outputs": [
    {
     "name": "stdout",
     "output_type": "stream",
     "text": [
      "[1, 2, 3, 2]\n"
     ]
    }
   ],
   "source": [
    "from collections import defaultdict\n",
    "\n",
    "\n",
    "def safe(node, col, graph, color):\n",
    "    for k in graph[node]:\n",
    "        if color[k] == col:\n",
    "            return False\n",
    "    return True\n",
    "\n",
    "\n",
    "def solve(node, n, m, graph, color):\n",
    "    if node == n:\n",
    "        return True\n",
    "    for i in range(1, m + 1):\n",
    "        if safe(node, i, graph, color):\n",
    "            color[node] = i\n",
    "            if solve(node + 1, n, m, graph, color):\n",
    "                return True\n",
    "            color[node] = 0\n",
    "    return False\n",
    "\n",
    "\n",
    "paths = [(0, 1), (1, 2), (2, 3), (3, 0), (0, 2)]\n",
    "graph = defaultdict(list)\n",
    "for u, v in paths:\n",
    "    graph[u].append(v)\n",
    "    graph[v].append(u)\n",
    "m = 3\n",
    "n = 4\n",
    "color = [0] * (n)\n",
    "if solve(0, n, m, graph, color):\n",
    "    print(color)"
   ]
  },
  {
   "cell_type": "markdown",
   "metadata": {},
   "source": [
    "**Rat in a Maze**"
   ]
  },
  {
   "cell_type": "code",
   "execution_count": 58,
   "metadata": {},
   "outputs": [
    {
     "name": "stdout",
     "output_type": "stream",
     "text": [
      "DDRDRR DRDDRR\n"
     ]
    }
   ],
   "source": [
    "# Initialize a string direction which represents all the directions.\n",
    "direction = \"DLRU\"\n",
    "\n",
    "# Arrays to represent change in rows and columns\n",
    "dr = [1, 0, 0, -1]\n",
    "dc = [0, -1, 1, 0]\n",
    "\n",
    "# Function to check if cell(row, col) is inside the maze\n",
    "# and unblocked\n",
    "\n",
    "\n",
    "def is_valid(row, col, n, maze):\n",
    "    return 0 <= row < n and 0 <= col < n and maze[row][col] == 1\n",
    "\n",
    "\n",
    "# Function to get all valid paths\n",
    "\n",
    "\n",
    "def find_path(row, col, maze, n, ans, current_path):\n",
    "    # If we reach the bottom right cell of the matrix, add\n",
    "    # the current path to ans and return\n",
    "    if row == n - 1 and col == n - 1:\n",
    "        ans.append(current_path)\n",
    "        return\n",
    "    # Mark the current cell as blocked\n",
    "    maze[row][col] = 0\n",
    "\n",
    "    for i in range(4):\n",
    "        # Find the next row based on the current row (row)\n",
    "        # and the dr[] array\n",
    "        next_row = row + dr[i]\n",
    "        # Find the next column based on the current column\n",
    "        # (col) and the dc[] array\n",
    "        next_col = col + dc[i]\n",
    "\n",
    "        # Check if the next cell is valid or not\n",
    "        if is_valid(next_row, next_col, n, maze):\n",
    "            current_path += direction[i]\n",
    "            # Recursively call the find_path function for\n",
    "            # the next cell\n",
    "            find_path(next_row, next_col, maze, n, ans, current_path)\n",
    "            # Remove the last direction when backtracking\n",
    "            current_path = current_path[:-1]\n",
    "\n",
    "    # Mark the current cell as unblocked\n",
    "    maze[row][col] = 1\n",
    "\n",
    "\n",
    "# Driver code\n",
    "maze = [[1, 0, 0, 0], [1, 1, 0, 1], [1, 1, 0, 0], [0, 1, 1, 1]]\n",
    "\n",
    "n = len(maze)\n",
    "# List to store all the valid paths\n",
    "result = []\n",
    "# Store current path\n",
    "current_path = \"\"\n",
    "\n",
    "if maze[0][0] != 0 and maze[n - 1][n - 1] != 0:\n",
    "    # Function call to get all valid paths\n",
    "    find_path(0, 0, maze, n, result, current_path)\n",
    "\n",
    "if not result:\n",
    "    print(-1)\n",
    "else:\n",
    "    print(\" \".join(result))"
   ]
  },
  {
   "cell_type": "markdown",
   "metadata": {},
   "source": [
    "**All permutation**"
   ]
  },
  {
   "cell_type": "code",
   "execution_count": 59,
   "metadata": {},
   "outputs": [
    {
     "name": "stdout",
     "output_type": "stream",
     "text": [
      "['a', 'b', 'c']\n",
      "['a', 'c', 'b']\n",
      "['b', 'a', 'c']\n",
      "['b', 'c', 'a']\n",
      "['c', 'b', 'a']\n",
      "['c', 'a', 'b']\n"
     ]
    }
   ],
   "source": [
    "def permuteRec(s, idx):\n",
    "\n",
    "    # Base case\n",
    "    if idx == len(s) - 1:\n",
    "        print(s)\n",
    "        return\n",
    "\n",
    "    for i in range(idx, len(s)):\n",
    "\n",
    "        # Swapping\n",
    "        s[i], s[idx] = s[idx], s[i]\n",
    "\n",
    "        # First idx+1 characters fixed\n",
    "        permuteRec(s, idx + 1)\n",
    "\n",
    "        # Backtrack\n",
    "        s[i], s[idx] = s[idx], s[i]\n",
    "\n",
    "\n",
    "s = \"abc\"\n",
    "permuteRec(list(s), 0)"
   ]
  },
  {
   "cell_type": "markdown",
   "metadata": {},
   "source": [
    "**a source vertex in the graph and a number k, find if there is a simple path (without any cycle) starting from given source and ending at any other vertex such that the distance  is atleast ‘k’ length.**"
   ]
  },
  {
   "attachments": {
    "image.png": {
     "image/png": "[encoded data removed]"
    }
   },
   "cell_type": "markdown",
   "metadata": {},
   "source": [
    "![image.png](attachment:image.png)"
   ]
  },
  {
   "cell_type": "code",
   "execution_count": 60,
   "metadata": {},
   "outputs": [
    {
     "name": "stdout",
     "output_type": "stream",
     "text": [
      "[0, 7, 1, 2, 3, 4, 5, 6, 8]\n"
     ]
    },
    {
     "data": {
      "text/plain": [
       "True"
      ]
     },
     "execution_count": 60,
     "metadata": {},
     "output_type": "execute_result"
    }
   ],
   "source": [
    "from typing import List, Tuple\n",
    "\n",
    "\n",
    "class Graph:\n",
    "    # Allocates memory for adjacency list\n",
    "    def __init__(self, V):\n",
    "        self.V = V\n",
    "        self.adj = [[] for i in range(V)]\n",
    "\n",
    "    def addEdge(self, u, v, w):\n",
    "        self.adj[u].append([v, w])\n",
    "        self.adj[v].append([u, w])\n",
    "\n",
    "\n",
    "V = 9\n",
    "g = Graph(V)\n",
    "g.addEdge(0, 1, 4)\n",
    "g.addEdge(0, 7, 8)\n",
    "g.addEdge(1, 2, 8)\n",
    "g.addEdge(1, 7, 11)\n",
    "g.addEdge(2, 3, 7)\n",
    "g.addEdge(2, 8, 2)\n",
    "g.addEdge(2, 5, 4)\n",
    "g.addEdge(3, 4, 9)\n",
    "g.addEdge(3, 5, 14)\n",
    "g.addEdge(4, 5, 10)\n",
    "g.addEdge(5, 6, 2)\n",
    "g.addEdge(6, 7, 1)\n",
    "g.addEdge(6, 8, 6)\n",
    "g.addEdge(7, 8, 7)\n",
    "\n",
    "\n",
    "def dfs(\n",
    "    i: int,\n",
    "    adj: List[List[Tuple[int, int]]],\n",
    "    visited: List[bool],\n",
    "    k: int,\n",
    "    cost: int,\n",
    "    path: List[int],\n",
    ") -> bool:\n",
    "    visited[i] = True\n",
    "    path.append(i)\n",
    "    if cost >= k:\n",
    "        print(path)\n",
    "        return True\n",
    "    for v, wt in adj[i]:\n",
    "        if not visited[v]:\n",
    "            # path.append(v)\n",
    "            if dfs(v, adj, visited, k, cost + wt, path):\n",
    "                return True\n",
    "    path.pop()\n",
    "    visited[i] = False\n",
    "    return False\n",
    "\n",
    "\n",
    "visited = [False] * V\n",
    "k = 58\n",
    "dfs(0, g.adj, visited, k, 0, [])"
   ]
  },
  {
   "cell_type": "code",
   "execution_count": null,
   "metadata": {},
   "outputs": [],
   "source": []
  },
  {
   "cell_type": "markdown",
   "metadata": {},
   "source": [
    "**calculate length of the shortest safe route possible from any cell in the first column to any cell in the last column of the matrix**"
   ]
  },
  {
   "cell_type": "code",
   "execution_count": 61,
   "metadata": {},
   "outputs": [
    {
     "data": {
      "text/plain": [
       "-1"
      ]
     },
     "execution_count": 61,
     "metadata": {},
     "output_type": "execute_result"
    }
   ],
   "source": [
    "import sys\n",
    "from collections import deque\n",
    "\n",
    "\n",
    "def isValid(x, y, R, C):\n",
    "\n",
    "    if x < R and y < C and x >= 0 and y >= 0:\n",
    "        return True\n",
    "\n",
    "    return False\n",
    "\n",
    "\n",
    "def findPath(mat):\n",
    "    R = len(mat)\n",
    "    C = len(mat[0])\n",
    "\n",
    "    rowNum = [-1, 0, 0, 1]\n",
    "    colNum = [0, -1, 1, 0]\n",
    "\n",
    "    for i in range(R):\n",
    "        for j in range(C):\n",
    "            # if a landmines is found\n",
    "            if mat[i][j] == 0:\n",
    "                # mark all adjacent cells\n",
    "                for k in range(4):\n",
    "                    x = i + rowNum[k]\n",
    "                    y = j + colNum[k]\n",
    "                    if isValid(x, y, R, C) and mat[x][y] != 0:\n",
    "                        mat[x][y] = -1\n",
    "\n",
    "    # mark all found adjacent cells as unsafe\n",
    "    for i in range(R):\n",
    "        for j in range(C):\n",
    "            if mat[i][j] == -1:\n",
    "                mat[i][j] = 0\n",
    "\n",
    "    dist = [[-1 for i in range(C)] for j in range(R)]\n",
    "\n",
    "    q = deque([])\n",
    "\n",
    "    for i in range(R):\n",
    "        if mat[i][0] == 1:\n",
    "            q.append((i, 0))\n",
    "            dist[i][0] = 0\n",
    "\n",
    "    while len(q) != 0:\n",
    "        k = q[0]\n",
    "        q.popleft()\n",
    "\n",
    "        x = k[0]\n",
    "        y = k[1]\n",
    "\n",
    "        d = dist[x][y]\n",
    "\n",
    "        for k in range(4):\n",
    "            xp = x + rowNum[k]\n",
    "            yp = y + colNum[k]\n",
    "            if isValid(xp, yp, R, C) and dist[xp][yp] == -1 and mat[xp][yp] == 1:\n",
    "                dist[xp][yp] = d + 1\n",
    "                q.append((xp, yp))\n",
    "\n",
    "    # stores minimum cost of shortest path so far\n",
    "    ans = sys.maxsize\n",
    "\n",
    "    # start from first column and take minimum\n",
    "    for i in range(R):\n",
    "        if mat[i][C - 1] == 1 and dist[i][C - 1] != -1:\n",
    "            ans = min(ans, dist[i][C - 1])\n",
    "    if ans != sys.maxsize:\n",
    "        return ans + 1\n",
    "    return -1\n",
    "\n",
    "\n",
    "mat = [\n",
    "    [1, 1, 1, 1, 1, 1, 1, 1, 1, 1],\n",
    "    [1, 0, 1, 1, 1, 1, 1, 1, 1, 1],\n",
    "    [1, 1, 1, 0, 1, 1, 1, 1, 1, 1],\n",
    "    [1, 1, 1, 1, 0, 1, 1, 1, 1, 1],\n",
    "    [1, 1, 1, 1, 1, 1, 1, 1, 1, 1],\n",
    "    [1, 1, 1, 1, 1, 0, 1, 1, 1, 1],\n",
    "    [1, 0, 1, 1, 1, 1, 1, 1, 0, 1],\n",
    "    [1, 1, 1, 1, 1, 1, 1, 1, 1, 1],\n",
    "    [1, 1, 1, 1, 1, 1, 1, 1, 1, 1],\n",
    "    [0, 1, 1, 1, 1, 0, 1, 1, 1, 1],\n",
    "    [1, 1, 1, 1, 1, 1, 1, 1, 1, 1],\n",
    "    [1, 1, 1, 0, 1, 1, 1, 1, 1, 1],\n",
    "]\n",
    "mat1 = [\n",
    "    [1, 0, 1, 1, 1],\n",
    "    [1, 0, 1, 1, 1],\n",
    "    [1, 1, 1, 1, 1],\n",
    "    [1, 1, 1, 0, 1],\n",
    "    [1, 1, 1, 1, 0],\n",
    "]\n",
    "\n",
    "# Find shortest path\n",
    "findPath(mat1)"
   ]
  },
  {
   "cell_type": "code",
   "execution_count": 62,
   "metadata": {},
   "outputs": [
    {
     "data": {
      "text/plain": [
       "25"
      ]
     },
     "execution_count": 62,
     "metadata": {},
     "output_type": "execute_result"
    }
   ],
   "source": [
    "mat = [\n",
    "    [1, 1, 1, 1, 1, 1, 1, 1, 1, 1],\n",
    "    [1, 1, 0, 1, 1, 0, 1, 1, 0, 1],\n",
    "    [1, 1, 1, 1, 1, 1, 1, 1, 1, 1],\n",
    "]\n",
    "\n",
    "\n",
    "def isValid(x, y, R, C):\n",
    "\n",
    "    if x < R and y < C and x >= 0 and y >= 0:\n",
    "        return True\n",
    "\n",
    "    return False\n",
    "\n",
    "\n",
    "R = len(mat)\n",
    "C = len(mat[0])\n",
    "visited = [[False for i in range(C)] for j in range(R)]\n",
    "\n",
    "\n",
    "def findPath(i, j, mat, x, y):\n",
    "    R = len(mat)\n",
    "    C = len(mat[0])\n",
    "    if i == x and y == j:\n",
    "        return 0\n",
    "\n",
    "    rowNum = [-1, 0, 0, 1]\n",
    "    colNum = [0, -1, 1, 0]\n",
    "    visited[i][j] = True\n",
    "    path = 1\n",
    "    for k in range(4):\n",
    "        xp = i + rowNum[k]\n",
    "        yp = j + colNum[k]\n",
    "        if isValid(xp, yp, R, C) and mat[xp][yp] == 1 and visited[xp][yp] == False:\n",
    "            path = max(path, 1 + findPath(xp, yp, mat, x, y))\n",
    "    visited[i][j] = False\n",
    "    return path\n",
    "\n",
    "\n",
    "findPath(0, 0, mat, 1, 7)"
   ]
  },
  {
   "cell_type": "markdown",
   "metadata": {},
   "source": [
    "**subsets of a given Set or Array**"
   ]
  },
  {
   "cell_type": "code",
   "execution_count": 63,
   "metadata": {},
   "outputs": [
    {
     "name": "stdout",
     "output_type": "stream",
     "text": [
      "[]\n",
      "[3]\n",
      "[2]\n",
      "[2, 3]\n",
      "[1]\n",
      "[1, 3]\n",
      "[1, 2]\n",
      "[1, 2, 3]\n"
     ]
    }
   ],
   "source": [
    "def solve(index, a, path):\n",
    "    if index >= len(a):\n",
    "        print(path)\n",
    "        return\n",
    "\n",
    "    solve(index + 1, a, path)\n",
    "    path.append(a[index])\n",
    "    solve(index + 1, a, path)\n",
    "    path.pop()\n",
    "\n",
    "\n",
    "solve(0, [1, 2, 3], [])"
   ]
  },
  {
   "cell_type": "code",
   "execution_count": 64,
   "metadata": {},
   "outputs": [
    {
     "name": "stdout",
     "output_type": "stream",
     "text": [
      "\n",
      "1\n",
      "1 2\n",
      "1 2 3\n",
      "1 3\n",
      "2\n",
      "2 3\n",
      "3\n"
     ]
    }
   ],
   "source": [
    "def calcSubset(A, res, subset, index):\n",
    "    # Add the current subset to the result list\n",
    "    res.append(subset[:])\n",
    "\n",
    "    # Generate subsets by recursively including and excluding elements\n",
    "    for i in range(index, len(A)):\n",
    "        # Include the current element in the subset\n",
    "        subset.append(A[i])\n",
    "\n",
    "        # Recursively generate subsets with the current element included\n",
    "        calcSubset(A, res, subset, i + 1)\n",
    "\n",
    "        # Exclude the current element from the subset (backtracking)\n",
    "        subset.pop()\n",
    "\n",
    "\n",
    "def subsets(A):\n",
    "    subset = []\n",
    "    res = []\n",
    "    index = 0\n",
    "    calcSubset(A, res, subset, index)\n",
    "    return res\n",
    "\n",
    "\n",
    "# Driver code\n",
    "if __name__ == \"__main__\":\n",
    "    array = [1, 2, 3]\n",
    "    res = subsets(array)\n",
    "\n",
    "    # Print the generated subsets\n",
    "    for subset in res:\n",
    "        print(*subset)"
   ]
  },
  {
   "cell_type": "markdown",
   "metadata": {},
   "source": [
    "**find all its subsets. The subset can not contain duplicate elements, so any repeated subset should be considered only once in the output**\n",
    "\n",
    "O(2^n * n)"
   ]
  },
  {
   "cell_type": "code",
   "execution_count": 65,
   "metadata": {},
   "outputs": [
    {
     "name": "stdout",
     "output_type": "stream",
     "text": [
      "[1, 3, 3]\n",
      "[1, 3]\n",
      "[1]\n",
      "[3, 3]\n",
      "[3]\n",
      "[]\n"
     ]
    }
   ],
   "source": [
    "def solve(index, a, path):\n",
    "    if index >= len(a):\n",
    "        print(path)\n",
    "        return\n",
    "\n",
    "    path.append(a[index])\n",
    "    solve(index + 1, a, path)\n",
    "    path.pop()\n",
    "\n",
    "    while index + 1 < len(a) and a[index] == a[index + 1]:\n",
    "        index += 1\n",
    "    solve(index + 1, a, path)\n",
    "\n",
    "\n",
    "a = [1, 3, 3]\n",
    "a.sort()\n",
    "solve(0, a, [])"
   ]
  },
  {
   "cell_type": "markdown",
   "metadata": {},
   "source": []
  },
  {
   "cell_type": "code",
   "execution_count": 66,
   "metadata": {},
   "outputs": [
    {
     "name": "stdout",
     "output_type": "stream",
     "text": [
      "4 ways\n"
     ]
    }
   ],
   "source": [
    "# Count ways to calculate a target from elements of a specified list\n",
    "def countWays(nums, i, target):\n",
    "\n",
    "    # base case: if a target is found\n",
    "    if target == 0 and i == len(nums):\n",
    "        return 1\n",
    "\n",
    "    # base case: no elements are left\n",
    "    if i == len(nums):\n",
    "        return 0\n",
    "\n",
    "    # 1. ignore the current element\n",
    "    exclude = countWays(nums, i + 1, target)\n",
    "\n",
    "    # 2. Consider the current element\n",
    "    #    2.1. Subtract the current element from the target\n",
    "    #    2.2. Add the current element to the target\n",
    "    include = countWays(nums, i + 1, target - nums[i]) + countWays(\n",
    "        nums, i + 1, target + nums[i]\n",
    "    )\n",
    "\n",
    "    # Return total count\n",
    "    return exclude + include\n",
    "\n",
    "\n",
    "if __name__ == \"__main__\":\n",
    "\n",
    "    # input list and target number\n",
    "    nums = [5, 3, -6, 2]\n",
    "    target = 6\n",
    "\n",
    "    print(countWays(nums, 0, target), \"ways\")"
   ]
  },
  {
   "cell_type": "code",
   "execution_count": 67,
   "metadata": {},
   "outputs": [
    {
     "name": "stdout",
     "output_type": "stream",
     "text": [
      "(-)-6  \n",
      "(+)5  (+)3  (-)2  \n",
      "(+)5  (-)3  (-)-6  (-)2  \n",
      "(-)5  (+)3  (-)-6  (+)2  \n"
     ]
    }
   ],
   "source": [
    "def printList(list):\n",
    "    for num, sign in list:\n",
    "        print(f\"({sign}){num} \", end=\" \")\n",
    "    print()\n",
    "\n",
    "\n",
    "# Print all ways to calculate a target from elements of a specified list\n",
    "def printWays(nums, i, target, auxlist):\n",
    "    # base case: if a target is found, print the result list.\n",
    "    if target == 0 and i == len(nums):\n",
    "        printList(auxlist)\n",
    "\n",
    "    # base case: no elements are left\n",
    "    if i == len(nums):\n",
    "        return\n",
    "\n",
    "    # ignore the current element\n",
    "    printWays(nums, i + 1, target, auxlist)\n",
    "\n",
    "    # consider the current element and subtract it from the target\n",
    "    auxlist.append((nums[i], \"+\"))\n",
    "    printWays(nums, i + 1, target - nums[i], auxlist)\n",
    "    auxlist.pop()  # backtrack\n",
    "\n",
    "    # consider the current element and add it to the target\n",
    "    auxlist.append((nums[i], \"-\"))\n",
    "    printWays(nums, i + 1, target + nums[i], auxlist)\n",
    "    auxlist.pop()  # backtrack\n",
    "\n",
    "\n",
    "if __name__ == \"__main__\":\n",
    "    # input list and target number\n",
    "    nums = [5, 3, -6, 2]\n",
    "    target = 6\n",
    "\n",
    "    printWays(nums, 0, target, [])"
   ]
  },
  {
   "cell_type": "markdown",
   "metadata": {},
   "source": [
    "**Possible strings that can be made by placing spaces**"
   ]
  },
  {
   "cell_type": "code",
   "execution_count": 68,
   "metadata": {},
   "outputs": [
    {
     "data": {
      "text/plain": [
       "['A B C', 'A BC', 'AB C', 'ABC']"
      ]
     },
     "execution_count": 68,
     "metadata": {},
     "output_type": "execute_result"
    }
   ],
   "source": [
    "s = \"ABC\"\n",
    "# st = list(s)\n",
    "\n",
    "\n",
    "def solve(i, op, res, ip):\n",
    "    if i == len(ip) - 1:\n",
    "        op += ip[i]\n",
    "        res.append(op)\n",
    "        return\n",
    "    # if i>=len(ip):\n",
    "    #     res.append(op)\n",
    "    #     return\n",
    "    solve(i + 1, op + ip[i] + \" \", res, ip)\n",
    "    solve(i + 1, op + ip[i], res, ip)\n",
    "\n",
    "\n",
    "def permutation(s):\n",
    "    res = []\n",
    "    op = \"\"\n",
    "    solve(0, op, res, s)\n",
    "    return res\n",
    "\n",
    "\n",
    "permutation(s)"
   ]
  },
  {
   "cell_type": "markdown",
   "metadata": {},
   "source": [
    "**Combination sum**"
   ]
  },
  {
   "cell_type": "code",
   "execution_count": 69,
   "metadata": {},
   "outputs": [
    {
     "name": "stdout",
     "output_type": "stream",
     "text": [
      "[2, 2, 2, 2]\n",
      "[2, 2, 4]\n",
      "[2, 6]\n",
      "[4, 4]\n",
      "[8]\n"
     ]
    }
   ],
   "source": [
    "a = [2, 4, 6, 8]\n",
    "x = 8\n",
    "\n",
    "\n",
    "def solve(index, a, x, p):\n",
    "    if index >= len(a):\n",
    "        return\n",
    "    if x == 0:\n",
    "        print(p)\n",
    "        return\n",
    "    if a[index] <= x:\n",
    "        p.append(a[index])\n",
    "        solve(index, a, x - a[index], p)\n",
    "        p.pop()\n",
    "\n",
    "    solve(index + 1, a, x, p)\n",
    "\n",
    "\n",
    "solve(0, a, x, [])"
   ]
  },
  {
   "cell_type": "markdown",
   "metadata": {},
   "source": [
    "**Maximum number possible by doing at-most K swaps**"
   ]
  },
  {
   "cell_type": "code",
   "execution_count": 70,
   "metadata": {},
   "outputs": [],
   "source": [
    "def solve(index, m, k, org):\n",
    "\n",
    "    if k == 0:\n",
    "        return \"\".join(c for c in m)\n",
    "\n",
    "    ans = org\n",
    "    for i in range(len(org) - 1):\n",
    "        for j in range(i + 1, len(org)):\n",
    "            if org[i] < org[j]:\n",
    "                m[i], m[j] = m[j], m[i]\n",
    "                ans = max(ans, solve(index, m, k - 1, org))\n",
    "                m[i], m[j] = m[j], m[i]\n",
    "    return ans\n",
    "\n",
    "\n",
    "# Time Complexity: O((N^2)*k)"
   ]
  },
  {
   "cell_type": "code",
   "execution_count": 71,
   "metadata": {},
   "outputs": [
    {
     "data": {
      "text/plain": [
       "'999984211'"
      ]
     },
     "execution_count": 71,
     "metadata": {},
     "output_type": "execute_result"
    }
   ],
   "source": [
    "m = \"129814999\"\n",
    "k = 4\n",
    "solve(0, list(m), k, m)"
   ]
  },
  {
   "cell_type": "code",
   "execution_count": 72,
   "metadata": {},
   "outputs": [
    {
     "name": "stdout",
     "output_type": "stream",
     "text": [
      "999984211\n"
     ]
    }
   ],
   "source": [
    "# Python3 program to find maximum\n",
    "# integer possible by doing at-most\n",
    "# K swap operations on its digits.\n",
    "\n",
    "\n",
    "# function to find maximum integer\n",
    "# possible by doing at-most K swap\n",
    "# operations on its digits\n",
    "def findMaximumNum(string, k, maxm, ctr):\n",
    "\n",
    "    # return if no swaps left\n",
    "    if k == 0:\n",
    "        return\n",
    "\n",
    "    n = len(string)\n",
    "    # Consider every digit after\n",
    "    # the cur position\n",
    "    mx = string[ctr]\n",
    "\n",
    "    for i in range(ctr + 1, n):\n",
    "        # Find maximum digit greater\n",
    "        # than at ctr among rest\n",
    "        if int(string[i]) > int(mx):\n",
    "            mx = string[i]\n",
    "\n",
    "    # If maxm is not equal to str[ctr],\n",
    "    # decrement k\n",
    "    if mx != string[ctr]:\n",
    "        k = k - 1\n",
    "\n",
    "    # search this maximum among the rest from behind\n",
    "    # first swap the last maximum digit if it occurs more than 1 time\n",
    "    # example str= 1293498 and k=1 then max string is 9293418 instead of 9213498\n",
    "    for i in range(ctr, n):\n",
    "        # If digit equals maxm swap\n",
    "        # the digit with current\n",
    "        # digit and recurse for the rest\n",
    "        if string[i] == mx:\n",
    "            # swap str[ctr] with str[j]\n",
    "            string[ctr], string[i] = string[i], string[ctr]\n",
    "            new_str = \"\".join(string)\n",
    "            # If current num is more than\n",
    "            # maximum so far\n",
    "            if int(new_str) > int(maxm[0]):\n",
    "                maxm[0] = new_str\n",
    "\n",
    "            # recurse of the other k - 1 swaps\n",
    "            findMaximumNum(string, k, maxm, ctr + 1)\n",
    "\n",
    "            # backtrack\n",
    "            string[ctr], string[i] = string[i], string[ctr]\n",
    "\n",
    "\n",
    "# Driver Code\n",
    "if __name__ == \"__main__\":\n",
    "    string = \"129814999\"\n",
    "    k = 4\n",
    "    maxm = [string]\n",
    "    string = [char for char in string]\n",
    "    findMaximumNum(string, k, maxm, 0)\n",
    "    print(maxm[0])\n",
    "# Time Complexity: O(Nk),"
   ]
  },
  {
   "cell_type": "markdown",
   "metadata": {},
   "source": []
  },
  {
   "cell_type": "code",
   "execution_count": 73,
   "metadata": {},
   "outputs": [
    {
     "name": "stdout",
     "output_type": "stream",
     "text": [
      "[(0, 1), (0, 2), (0, 3), (1, 3), (2, 3), (3, 3)]\n",
      "[(0, 1), (1, 1), (2, 1), (3, 1), (3, 2), (3, 3)]\n",
      "[(1, 0), (1, 1), (0, 1), (0, 2), (0, 3), (1, 3), (2, 3), (3, 3)]\n",
      "[(1, 0), (1, 1), (2, 1), (3, 1), (3, 2), (3, 3)]\n"
     ]
    },
    {
     "data": {
      "text/plain": [
       "4"
      ]
     },
     "execution_count": 73,
     "metadata": {},
     "output_type": "execute_result"
    }
   ],
   "source": [
    "maze = [[1, 1, 1, 1], [1, 1, 0, 1], [0, 1, 0, 1], [1, 1, 1, 1]]\n",
    "\n",
    "# source cell\n",
    "src = (0, 0)\n",
    "\n",
    "# destination cell\n",
    "dest = (3, 3)\n",
    "\n",
    "r = len(maze)\n",
    "c = len(maze[0])\n",
    "visited = [[False for i in range(c)] for j in range(r)]\n",
    "\n",
    "\n",
    "def solve(src, dest, maze, visited, path):\n",
    "\n",
    "    if src == dest:\n",
    "        print(path)\n",
    "        return 1\n",
    "\n",
    "    rowNum = [-1, 0, 0, 1]\n",
    "    colNum = [0, -1, 1, 0]\n",
    "\n",
    "    visited[src[0]][src[1]] = True\n",
    "    count = 0\n",
    "    r = len(maze)\n",
    "    c = len(maze[0])\n",
    "    for k in range(4):\n",
    "        xp = src[0] + rowNum[k]\n",
    "        yp = src[1] + colNum[k]\n",
    "        if (\n",
    "            0 <= xp < r\n",
    "            and 0 <= yp < c\n",
    "            and maze[xp][yp] == 1\n",
    "            and visited[xp][yp] == False\n",
    "        ):\n",
    "            path.append((xp, yp))\n",
    "            count = count + solve((xp, yp), dest, maze, visited, path)\n",
    "            path.pop()\n",
    "\n",
    "    visited[src[0]][src[1]] = False\n",
    "    return count\n",
    "\n",
    "\n",
    "solve(src, dest, maze, visited, [])"
   ]
  },
  {
   "cell_type": "markdown",
   "metadata": {},
   "source": [
    "Given a positive number n, find all combinations of 2×n elements such that every element from 1 to n appears exactly twice and \n",
    "\n",
    "the distance between its two appearances is exactly equal to the value of the element."
   ]
  },
  {
   "cell_type": "code",
   "execution_count": 74,
   "metadata": {},
   "outputs": [
    {
     "name": "stdout",
     "output_type": "stream",
     "text": [
      "[4, 1, 3, 1, 2, 4, 3, 2]\n",
      "[2, 3, 4, 2, 1, 3, 1, 4]\n"
     ]
    }
   ],
   "source": [
    "# Find all combinations that satisfy the given constraints\n",
    "def findAllCombinations(A, x, n):\n",
    "\n",
    "    # if all elements are filled, print the solution\n",
    "    if x > n:\n",
    "        print(A)\n",
    "        return\n",
    "\n",
    "    # try all possible combinations for element `x`\n",
    "    for i in range(2 * n):\n",
    "\n",
    "        # if position `i` and `i+x+1` are not occupied in the input\n",
    "        if A[i] == -1 and (i + x + 1) < 2 * n and A[i + x + 1] == -1:\n",
    "\n",
    "            # place `x` at position `i` and `i+x+1`\n",
    "            A[i] = x\n",
    "            A[i + x + 1] = x\n",
    "\n",
    "            # recur for the next element\n",
    "            findAllCombinations(A, x + 1, n)\n",
    "\n",
    "            # backtrack (remove `x` from position `i` and `i+x+1`)\n",
    "            A[i] = -1\n",
    "            A[i + x + 1] = -1\n",
    "\n",
    "\n",
    "if __name__ == \"__main__\":\n",
    "\n",
    "    # given number\n",
    "    n = 4\n",
    "\n",
    "    # create an input list of the size of a given number with\n",
    "    # all its elements initialized by -1\n",
    "    A = [-1] * (2 * n)\n",
    "\n",
    "    # start from element 1\n",
    "    x = 1\n",
    "    findAllCombinations(A, x, n)"
   ]
  },
  {
   "cell_type": "code",
   "execution_count": 75,
   "metadata": {},
   "outputs": [
    {
     "name": "stdout",
     "output_type": "stream",
     "text": [
      "[5, 2, 4, 2, 3, 5, 4, 3, 1]\n",
      "[5, 3, 1, 4, 3, 5, 2, 4, 2]\n",
      "[2, 5, 2, 4, 1, 3, 5, 4, 3]\n",
      "[1, 5, 2, 4, 2, 3, 5, 4, 3]\n",
      "[3, 5, 1, 3, 4, 2, 5, 2, 4]\n",
      "[4, 2, 5, 2, 4, 3, 1, 5, 3]\n",
      "[3, 4, 5, 3, 2, 4, 2, 5, 1]\n",
      "[3, 4, 5, 3, 1, 4, 2, 5, 2]\n",
      "[2, 4, 2, 5, 3, 4, 1, 3, 5]\n",
      "[1, 3, 4, 5, 3, 2, 4, 2, 5]\n"
     ]
    }
   ],
   "source": [
    "# Find all combinations that satisfy the given constraints\n",
    "def findAllCombinations(A, x, n):\n",
    "\n",
    "    # if all elements are filled, print the solution\n",
    "    if x <= 0:\n",
    "        print(A)\n",
    "        return\n",
    "\n",
    "    # try all possible combinations for element `x`\n",
    "    for i in range(2 * n - 1):\n",
    "        sec = i + x\n",
    "        if x == 1:\n",
    "            sec = i\n",
    "\n",
    "        # if position `i` and `i+x+1` are not occupied in the input\n",
    "        if A[i] == -1 and sec < len(A) and A[sec] == -1:\n",
    "\n",
    "            # place `x` at position `i` and `i+x+1`\n",
    "            A[i] = x\n",
    "            A[sec] = x\n",
    "\n",
    "            # recur for the next element\n",
    "            findAllCombinations(A, x - 1, n)\n",
    "\n",
    "            # backtrack (remove `x` from position `i` and `i+x+1`)\n",
    "            A[i] = -1\n",
    "            A[sec] = -1\n",
    "\n",
    "\n",
    "if __name__ == \"__main__\":\n",
    "\n",
    "    # given number\n",
    "    n = 5\n",
    "\n",
    "    # create an input list of the size of a given number with\n",
    "    # all its elements initialized by -1\n",
    "    A = [-1] * ((2 * n) - 1)\n",
    "\n",
    "    # start from element 1\n",
    "    x = 5\n",
    "    findAllCombinations(A, x, n)"
   ]
  },
  {
   "cell_type": "code",
   "execution_count": null,
   "metadata": {},
   "outputs": [],
   "source": []
  },
  {
   "cell_type": "code",
   "execution_count": 76,
   "metadata": {},
   "outputs": [],
   "source": [
    "def solve(x, res, n):\n",
    "    if x > n:\n",
    "        print(res)\n",
    "        return\n",
    "\n",
    "    for i in range(n, -1, -1):\n",
    "        sec = x + i\n",
    "        if x == 1:\n",
    "            sec = x\n",
    "        if res[i] == -1 and sec < len(res) and res[sec] == -1:\n",
    "            res[i] = res[sec] = x\n",
    "            solve(x + 1, res, n)\n",
    "            res[i] = res[sec] = -1\n",
    "\n",
    "\n",
    "n = 3\n",
    "A = [-1] * (2 * (n - 1))\n",
    "solve(1, A, n)"
   ]
  },
  {
   "cell_type": "markdown",
   "metadata": {},
   "source": [
    "**k–partition problem**"
   ]
  },
  {
   "cell_type": "code",
   "execution_count": 77,
   "metadata": {},
   "outputs": [
    {
     "name": "stdout",
     "output_type": "stream",
     "text": [
      "Partition 0 is [6, 3, 2, 1]\n",
      "Partition 1 is [5, 4, 3]\n",
      "Partition 2 is [8, 4]\n",
      "Partition 3 is [7, 5]\n",
      "Partition 4 is [12]\n"
     ]
    }
   ],
   "source": [
    "# Function to check if all subsets are filled or not\n",
    "def checkSum(sumLeft, k):\n",
    "\n",
    "    r = True\n",
    "    for i in range(k):\n",
    "        if sumLeft[i]:\n",
    "            r = False\n",
    "\n",
    "    return r\n",
    "\n",
    "\n",
    "# Helper function for solving `k` partition problem.\n",
    "# It returns true if there exist `k` subsets with the given sum\n",
    "def subsetSum(S, n, sumLeft, A, k):\n",
    "\n",
    "    # return true if a subset is found\n",
    "    if checkSum(sumLeft, k):\n",
    "        return True\n",
    "\n",
    "    # base case: no items left\n",
    "    if n < 0:\n",
    "        return False\n",
    "\n",
    "    result = False\n",
    "\n",
    "    # consider current item `S[n]` and explore all possibilities\n",
    "    # using backtracking\n",
    "    for i in range(k):\n",
    "        if not result and (sumLeft[i] - S[n]) >= 0:\n",
    "\n",
    "            # mark the current element subset\n",
    "            A[n] = i + 1\n",
    "\n",
    "            # add the current item to the i'th subset\n",
    "            sumLeft[i] = sumLeft[i] - S[n]\n",
    "\n",
    "            # recur for remaining items\n",
    "            result = subsetSum(S, n - 1, sumLeft, A, k)\n",
    "\n",
    "            # backtrack: remove the current item from the i'th subset\n",
    "            sumLeft[i] = sumLeft[i] + S[n]\n",
    "\n",
    "    # return true if we get a solution\n",
    "    return result\n",
    "\n",
    "\n",
    "# Function for solving k–partition problem. It prints the subsets if\n",
    "# set `S[0…n-1]` can be divided into `k` subsets with equal sum\n",
    "def partition(S, k):\n",
    "\n",
    "    # get the total number of items in `S`\n",
    "    n = len(S)\n",
    "\n",
    "    # base case\n",
    "    if n < k:\n",
    "        print(\"k-partition of set S is not possible\")\n",
    "        return\n",
    "\n",
    "    # get the sum of all elements in the set\n",
    "    total = sum(S)\n",
    "    A = [None] * n\n",
    "\n",
    "    # create a list of size `k` for each subset and initialize it\n",
    "    # by their expected sum, i.e., `sum/k`\n",
    "    sumLeft = [total // k] * k\n",
    "\n",
    "    # return true if the sum is divisible by `k` and set `S` can\n",
    "    # be divided into `k` subsets with equal sum\n",
    "    S.sort(reverse=True)\n",
    "    result = (total % k) == 0 and subsetSum(S, n - 1, sumLeft, A, k)\n",
    "\n",
    "    if not result:\n",
    "        print(\"k-partition of set S is not possible\")\n",
    "        return\n",
    "\n",
    "    # print all k–partitions\n",
    "    for i in range(k):\n",
    "        print(f\"Partition {i} is\", [S[j] for j in range(n) if A[j] == i + 1])\n",
    "\n",
    "\n",
    "if __name__ == \"__main__\":\n",
    "\n",
    "    # Input: a set of integers\n",
    "    S = [7, 3, 5, 12, 2, 1, 5, 3, 8, 4, 6, 4]\n",
    "    k = 5\n",
    "\n",
    "    partition(S, k)"
   ]
  },
  {
   "cell_type": "markdown",
   "metadata": {},
   "source": [
    "Given a positive integer n, print all combinations of numbers between 1 and n having sum n."
   ]
  },
  {
   "cell_type": "code",
   "execution_count": 78,
   "metadata": {},
   "outputs": [
    {
     "name": "stdout",
     "output_type": "stream",
     "text": [
      "[1, 1, 1, 1, 1]\n",
      "[1, 1, 1, 2]\n",
      "[1, 1, 3]\n",
      "[1, 2, 2]\n",
      "[1, 4]\n",
      "[2, 3]\n",
      "[5]\n"
     ]
    }
   ],
   "source": [
    "def solve(index, n, p):\n",
    "    if n == 0:\n",
    "        print(p)\n",
    "        return\n",
    "    if index > n:\n",
    "        return\n",
    "    if index <= n:\n",
    "        p.append(index)\n",
    "        solve(index, n - index, p)\n",
    "        p.pop()\n",
    "    solve(index + 1, n, p)\n",
    "\n",
    "\n",
    "solve(1, 5, [])"
   ]
  },
  {
   "cell_type": "code",
   "execution_count": 79,
   "metadata": {},
   "outputs": [
    {
     "name": "stdout",
     "output_type": "stream",
     "text": [
      "AEL\n",
      "AEM\n",
      "AEN\n",
      "AEO\n",
      "AEP\n",
      "AEQ\n",
      "AFL\n",
      "AFM\n",
      "AFN\n",
      "AFO\n",
      "AFP\n",
      "AFQ\n",
      "AGL\n",
      "AGM\n",
      "AGN\n",
      "AGO\n",
      "AGP\n",
      "AGQ\n",
      "AHL\n",
      "AHM\n",
      "AHN\n",
      "AHO\n",
      "AHP\n",
      "AHQ\n",
      "AIL\n",
      "AIM\n",
      "AIN\n",
      "AIO\n",
      "AIP\n",
      "AIQ\n",
      "AJL\n",
      "AJM\n",
      "AJN\n",
      "AJO\n",
      "AJP\n",
      "AJQ\n",
      "AKL\n",
      "AKM\n",
      "AKN\n",
      "AKO\n",
      "AKP\n",
      "AKQ\n",
      "BEL\n",
      "BEM\n",
      "BEN\n",
      "BEO\n",
      "BEP\n",
      "BEQ\n",
      "BFL\n",
      "BFM\n",
      "BFN\n",
      "BFO\n",
      "BFP\n",
      "BFQ\n",
      "BGL\n",
      "BGM\n",
      "BGN\n",
      "BGO\n",
      "BGP\n",
      "BGQ\n",
      "BHL\n",
      "BHM\n",
      "BHN\n",
      "BHO\n",
      "BHP\n",
      "BHQ\n",
      "BIL\n",
      "BIM\n",
      "BIN\n",
      "BIO\n",
      "BIP\n",
      "BIQ\n",
      "BJL\n",
      "BJM\n",
      "BJN\n",
      "BJO\n",
      "BJP\n",
      "BJQ\n",
      "BKL\n",
      "BKM\n",
      "BKN\n",
      "BKO\n",
      "BKP\n",
      "BKQ\n",
      "CEL\n",
      "CEM\n",
      "CEN\n",
      "CEO\n",
      "CEP\n",
      "CEQ\n",
      "CFL\n",
      "CFM\n",
      "CFN\n",
      "CFO\n",
      "CFP\n",
      "CFQ\n",
      "CGL\n",
      "CGM\n",
      "CGN\n",
      "CGO\n",
      "CGP\n",
      "CGQ\n",
      "CHL\n",
      "CHM\n",
      "CHN\n",
      "CHO\n",
      "CHP\n",
      "CHQ\n",
      "CIL\n",
      "CIM\n",
      "CIN\n",
      "CIO\n",
      "CIP\n",
      "CIQ\n",
      "CJL\n",
      "CJM\n",
      "CJN\n",
      "CJO\n",
      "CJP\n",
      "CJQ\n",
      "CKL\n",
      "CKM\n",
      "CKN\n",
      "CKO\n",
      "CKP\n",
      "CKQ\n",
      "DEL\n",
      "DEM\n",
      "DEN\n",
      "DEO\n",
      "DEP\n",
      "DEQ\n",
      "DFL\n",
      "DFM\n",
      "DFN\n",
      "DFO\n",
      "DFP\n",
      "DFQ\n",
      "DGL\n",
      "DGM\n",
      "DGN\n",
      "DGO\n",
      "DGP\n",
      "DGQ\n",
      "DHL\n",
      "DHM\n",
      "DHN\n",
      "DHO\n",
      "DHP\n",
      "DHQ\n",
      "DIL\n",
      "DIM\n",
      "DIN\n",
      "DIO\n",
      "DIP\n",
      "DIQ\n",
      "DJL\n",
      "DJM\n",
      "DJN\n",
      "DJO\n",
      "DJP\n",
      "DJQ\n",
      "DKL\n",
      "DKM\n",
      "DKN\n",
      "DKO\n",
      "DKP\n",
      "DKQ\n"
     ]
    }
   ],
   "source": [
    "# `N` lists of characters\n",
    "lists = [\n",
    "    [\"A\", \"B\", \"C\", \"D\"],\n",
    "    [\"E\", \"F\", \"G\", \"H\", \"I\", \"J\", \"K\"],\n",
    "    [\"L\", \"M\", \"N\", \"O\", \"P\", \"Q\"],\n",
    "    [\"R\", \"S\", \"T\"],\n",
    "    [\"U\", \"V\", \"W\", \"X\", \"Y\", \"Z\"],\n",
    "]\n",
    "\n",
    "# input number in the form of a list\n",
    "keys = [0, 2, 0]\n",
    "\n",
    "\n",
    "def solve(index, keys, lists, curr):\n",
    "    if index >= len(keys):\n",
    "        print(curr)\n",
    "        return\n",
    "\n",
    "    l = lists[index]\n",
    "    for c in l:\n",
    "        solve(index + 1, keys, lists, curr + c)\n",
    "\n",
    "\n",
    "solve(0, keys, lists, \"\")"
   ]
  },
  {
   "cell_type": "code",
   "execution_count": 80,
   "metadata": {},
   "outputs": [
    {
     "name": "stdout",
     "output_type": "stream",
     "text": [
      "['a', 'b', 'c']\n",
      "['a', 'bc']\n",
      "['ab', 'c']\n",
      "['abc']\n"
     ]
    }
   ],
   "source": [
    "s = \"abc\"\n",
    "\n",
    "\n",
    "def solve(s, path):\n",
    "    if not s:\n",
    "        print(path)\n",
    "        return\n",
    "\n",
    "    for j in range(len(s)):\n",
    "        path.append(s[: j + 1])\n",
    "        solve(s[j + 1 :], path)\n",
    "        path.pop()\n",
    "\n",
    "\n",
    "solve(s, [])"
   ]
  },
  {
   "cell_type": "code",
   "execution_count": 81,
   "metadata": {},
   "outputs": [
    {
     "name": "stdout",
     "output_type": "stream",
     "text": [
      "['a', 'b', 'c']\n",
      "['a', 'bc']\n",
      "['ab', 'c']\n",
      "['abc']\n"
     ]
    }
   ],
   "source": [
    "def solve(i, s, path):\n",
    "    if i >= len(s):\n",
    "        print(path)\n",
    "        return\n",
    "\n",
    "    for j in range(i, len(s)):\n",
    "        path.append(s[i : j + 1])\n",
    "        solve(j + 1, s, path)\n",
    "        path.pop()\n",
    "\n",
    "\n",
    "solve(0, s, [])"
   ]
  },
  {
   "cell_type": "code",
   "execution_count": 82,
   "metadata": {},
   "outputs": [
    {
     "name": "stdout",
     "output_type": "stream",
     "text": [
      "[2, 0, 1, 3]\n",
      "[2, 0, 3]\n",
      "[2, 1, 3]\n"
     ]
    }
   ],
   "source": [
    "class Graph:\n",
    "\n",
    "    def __init__(self, V):\n",
    "        self.V = V\n",
    "        self.adj = [[] for i in range(V)]\n",
    "\n",
    "    def addEdge(self, u, v):\n",
    "\n",
    "        # Add v to u’s list.\n",
    "        self.adj[u].append(v)\n",
    "\n",
    "\n",
    "def solve(u, d, adj, path, visited):\n",
    "\n",
    "    visited[u] = True\n",
    "    path.append(u)\n",
    "\n",
    "    if u == d:\n",
    "        print(path)\n",
    "        # return\n",
    "\n",
    "    for v in adj[u]:\n",
    "        if not visited[v]:\n",
    "            solve(v, d, adj, path, visited)\n",
    "\n",
    "    path.pop()\n",
    "    visited[u] = False\n",
    "\n",
    "\n",
    "g = Graph(4)\n",
    "g.addEdge(0, 1)\n",
    "g.addEdge(0, 2)\n",
    "g.addEdge(0, 3)\n",
    "g.addEdge(2, 0)\n",
    "g.addEdge(2, 1)\n",
    "g.addEdge(1, 3)\n",
    "\n",
    "s = 2\n",
    "d = 3\n",
    "visited = [False] * 4\n",
    "\n",
    "solve(s, d, g.adj, [], visited)"
   ]
  },
  {
   "cell_type": "code",
   "execution_count": 83,
   "metadata": {},
   "outputs": [],
   "source": [
    "# A class to represent a graph object\n",
    "class Graph:\n",
    "\n",
    "    # Constructor\n",
    "    def __init__(self, edges, n):\n",
    "\n",
    "        # A list of lists to represent an adjacency list\n",
    "        self.adjList = [[] for _ in range(n)]\n",
    "\n",
    "        # stores in-degree of a vertex\n",
    "        # initialize in-degree of each vertex by 0\n",
    "        self.indegree = [0] * n\n",
    "\n",
    "        # add edges to the directed graph\n",
    "        for src, dest in edges:\n",
    "\n",
    "            # add an edge from source to destination\n",
    "            self.adjList[src].append(dest)\n",
    "\n",
    "            # increment in-degree of destination vertex by 1\n",
    "            self.indegree[dest] = self.indegree[dest] + 1\n",
    "\n",
    "\n",
    "# Recursive function to find all topological orderings of a given DAG\n",
    "def findAllTopologicalOrderings(graph, path, discovered, n):\n",
    "\n",
    "    # do for every vertex\n",
    "    for v in range(n):\n",
    "\n",
    "        # proceed only if the current node's in-degree is 0 and\n",
    "        # the current node is not processed yet\n",
    "        if graph.indegree[v] == 0 and not discovered[v]:\n",
    "\n",
    "            # for every adjacent vertex `u` of `v`, reduce the in-degree of `u` by 1\n",
    "            for u in graph.adjList[v]:\n",
    "                graph.indegree[u] = graph.indegree[u] - 1\n",
    "\n",
    "            # include the current node in the path and mark it as discovered\n",
    "            path.append(v)\n",
    "            discovered[v] = True\n",
    "\n",
    "            # recur\n",
    "            findAllTopologicalOrderings(graph, path, discovered, n)\n",
    "\n",
    "            # backtrack: reset in-degree information for the current node\n",
    "            for u in graph.adjList[v]:\n",
    "                graph.indegree[u] = graph.indegree[u] + 1\n",
    "\n",
    "            # backtrack: remove the current node from the path and\n",
    "            # mark it as undiscovered\n",
    "            path.pop()\n",
    "            discovered[v] = False\n",
    "\n",
    "    # print the topological order if all vertices are included in the path\n",
    "    if len(path) == n:\n",
    "        print(path)\n",
    "\n",
    "\n",
    "# Print all topological orderings of a given DAG\n",
    "def printAllTopologicalOrders(graph):\n",
    "\n",
    "    # get the total number of nodes in the graph\n",
    "    n = len(graph.adjList)\n",
    "\n",
    "    # create an auxiliary space to keep track of whether the vertex is discovered\n",
    "    discovered = [False] * n\n",
    "\n",
    "    # list to store the topological order\n",
    "    path = []\n",
    "\n",
    "    # find all topological ordering and print them\n",
    "    findAllTopologicalOrderings(graph, path, discovered, n)\n",
    "\n",
    "\n",
    "if __name__ == \"__main__\":\n",
    "\n",
    "    # List of graph edges as per the above diagram\n",
    "    edges = [(0, 6), (1, 2), (1, 4), (1, 6)]\n",
    "\n",
    "    # total number of nodes in the graph (labelled from 0 to 7)\n",
    "    n = 8\n",
    "\n",
    "    # build a graph from the given edges\n",
    "    graph = Graph(edges, n)\n",
    "\n",
    "    # print all topological ordering of the graph\n",
    "    # printAllTopologicalOrders(graph)"
   ]
  },
  {
   "cell_type": "markdown",
   "metadata": {},
   "source": [
    "The Hamiltonian path in an undirected or directed graph is a path that visits each vertex exactly once."
   ]
  },
  {
   "cell_type": "code",
   "execution_count": 84,
   "metadata": {},
   "outputs": [
    {
     "name": "stdout",
     "output_type": "stream",
     "text": [
      "[0, 1, 2, 3]\n",
      "[0, 1, 3, 2]\n",
      "[0, 2, 1, 3]\n",
      "[0, 2, 3, 1]\n",
      "[0, 3, 1, 2]\n",
      "[0, 3, 2, 1]\n",
      "[1, 0, 2, 3]\n",
      "[1, 0, 3, 2]\n",
      "[1, 2, 0, 3]\n",
      "[1, 2, 3, 0]\n",
      "[1, 3, 0, 2]\n",
      "[1, 3, 2, 0]\n",
      "[2, 0, 1, 3]\n",
      "[2, 0, 3, 1]\n",
      "[2, 1, 0, 3]\n",
      "[2, 1, 3, 0]\n",
      "[2, 3, 0, 1]\n",
      "[2, 3, 1, 0]\n",
      "[3, 0, 1, 2]\n",
      "[3, 0, 2, 1]\n",
      "[3, 1, 0, 2]\n",
      "[3, 1, 2, 0]\n",
      "[3, 2, 0, 1]\n",
      "[3, 2, 1, 0]\n"
     ]
    }
   ],
   "source": [
    "# A class to represent a graph object\n",
    "class Graph:\n",
    "\n",
    "    # Constructor\n",
    "    def __init__(self, edges, n):\n",
    "\n",
    "        # A list of lists to represent an adjacency list\n",
    "        self.adjList = [[] for _ in range(n)]\n",
    "\n",
    "        # add edges to the undirected graph\n",
    "        for src, dest in edges:\n",
    "            self.adjList[src].append(dest)\n",
    "            self.adjList[dest].append(src)\n",
    "\n",
    "\n",
    "def hamiltonianPaths(graph, v, visited, path, n):\n",
    "\n",
    "    # if all the vertices are visited, then the Hamiltonian path exists\n",
    "    if len(path) == n:\n",
    "        # print the Hamiltonian path\n",
    "        print(path)\n",
    "        return\n",
    "\n",
    "    # Check if every edge starting from vertex `v` leads to a solution or not\n",
    "    for w in graph.adjList[v]:\n",
    "\n",
    "        # process only unvisited vertices as the Hamiltonian\n",
    "        # path visit each vertex exactly once\n",
    "        if not visited[w]:\n",
    "            visited[w] = True\n",
    "            path.append(w)\n",
    "\n",
    "            # check if adding vertex `w` to the path leads to the solution or not\n",
    "            hamiltonianPaths(graph, w, visited, path, n)\n",
    "\n",
    "            # backtrack\n",
    "            visited[w] = False\n",
    "            path.pop()\n",
    "\n",
    "\n",
    "def findHamiltonianPaths(graph, n):\n",
    "\n",
    "    # start with every node\n",
    "    for start in range(n):\n",
    "\n",
    "        # add starting node to the path\n",
    "        path = [start]\n",
    "\n",
    "        # mark the start node as visited\n",
    "        visited = [False] * n\n",
    "        visited[start] = True\n",
    "\n",
    "        hamiltonianPaths(graph, start, visited, path, n)\n",
    "\n",
    "\n",
    "if __name__ == \"__main__\":\n",
    "\n",
    "    # consider a complete graph having 4 vertices\n",
    "    edges = [(0, 1), (0, 2), (0, 3), (1, 2), (1, 3), (2, 3)]\n",
    "\n",
    "    # total number of nodes in the graph (labelled from 0 to 3)\n",
    "    n = 4\n",
    "\n",
    "    # build a graph from the given edges\n",
    "    graph = Graph(edges, n)\n",
    "\n",
    "    findHamiltonianPaths(graph, n)"
   ]
  },
  {
   "cell_type": "code",
   "execution_count": 85,
   "metadata": {},
   "outputs": [],
   "source": [
    "del str"
   ]
  },
  {
   "cell_type": "code",
   "execution_count": 86,
   "metadata": {},
   "outputs": [
    {
     "name": "stdout",
     "output_type": "stream",
     "text": [
      "110\n",
      "121\n",
      "132\n",
      "143\n",
      "154\n",
      "165\n",
      "176\n",
      "187\n",
      "198\n",
      "220\n",
      "231\n",
      "242\n",
      "253\n",
      "264\n",
      "275\n",
      "286\n",
      "297\n",
      "330\n",
      "341\n",
      "352\n",
      "363\n",
      "374\n",
      "385\n",
      "396\n",
      "440\n",
      "451\n",
      "462\n",
      "473\n",
      "484\n",
      "495\n",
      "550\n",
      "561\n",
      "572\n",
      "583\n",
      "594\n",
      "660\n",
      "671\n",
      "682\n",
      "693\n",
      "770\n",
      "781\n",
      "792\n",
      "880\n",
      "891\n",
      "990\n"
     ]
    }
   ],
   "source": [
    "def solve(n, diff, curr):\n",
    "    if n < 0:\n",
    "        # print(curr)\n",
    "        return\n",
    "\n",
    "    if n == 0 and diff == 0:\n",
    "        print(curr)\n",
    "        return\n",
    "\n",
    "    if curr == \"\":\n",
    "        start = 1\n",
    "    else:\n",
    "        start = 0\n",
    "\n",
    "    for i in range(start, 10):\n",
    "        if n % 2 == 0:\n",
    "            cdiff = diff + i\n",
    "        else:\n",
    "            cdiff = diff - i\n",
    "        solve(n - 1, cdiff, curr + str(i))\n",
    "\n",
    "\n",
    "solve(3, 0, \"\")"
   ]
  },
  {
   "cell_type": "code",
   "execution_count": 87,
   "metadata": {},
   "outputs": [
    {
     "name": "stdout",
     "output_type": "stream",
     "text": [
      "[1, 2, 6]\n",
      "[1, 3, 5]\n",
      "[2, 3, 4]\n"
     ]
    }
   ],
   "source": [
    "k = 3\n",
    "n = 9\n",
    "\n",
    "\n",
    "def solve(start, k, n, path):\n",
    "    if n == 0 and k == 0:\n",
    "        print(path)\n",
    "        return\n",
    "    if k == 0 or n == 0:\n",
    "        return\n",
    "\n",
    "    for i in range(start, 10):\n",
    "        if n >= i:\n",
    "            path.append(i)\n",
    "            solve(i + 1, k - 1, n - i, path)\n",
    "            path.pop()\n",
    "\n",
    "\n",
    "solve(1, k, n, [])"
   ]
  },
  {
   "cell_type": "code",
   "execution_count": 88,
   "metadata": {},
   "outputs": [
    {
     "name": "stdout",
     "output_type": "stream",
     "text": [
      "[1, 1, 7]\n",
      "[1, 2, 6]\n",
      "[1, 3, 5]\n",
      "[1, 4, 4]\n",
      "[1, 5, 3]\n",
      "[1, 6, 2]\n",
      "[1, 7, 1]\n",
      "[2, 1, 6]\n",
      "[2, 2, 5]\n",
      "[2, 3, 4]\n",
      "[2, 4, 3]\n",
      "[2, 5, 2]\n",
      "[2, 6, 1]\n",
      "[3, 1, 5]\n",
      "[3, 2, 4]\n",
      "[3, 3, 3]\n",
      "[3, 4, 2]\n",
      "[3, 5, 1]\n",
      "[4, 1, 4]\n",
      "[4, 2, 3]\n",
      "[4, 3, 2]\n",
      "[4, 4, 1]\n",
      "[5, 1, 3]\n",
      "[5, 2, 2]\n",
      "[5, 3, 1]\n",
      "[6, 1, 2]\n",
      "[6, 2, 1]\n",
      "[7, 1, 1]\n"
     ]
    }
   ],
   "source": [
    "def solve(k, n, path):\n",
    "    if n == 0 and k == 0:\n",
    "        print(path)\n",
    "        return\n",
    "    if k == 0 or n == 0:\n",
    "        return\n",
    "\n",
    "    for i in range(1, 10):\n",
    "        if n >= i:\n",
    "            path.append(i)\n",
    "            solve(k - 1, n - i, path)\n",
    "            path.pop()\n",
    "\n",
    "\n",
    "solve(k, n, [])"
   ]
  },
  {
   "cell_type": "code",
   "execution_count": 89,
   "metadata": {},
   "outputs": [
    {
     "name": "stdout",
     "output_type": "stream",
     "text": [
      "[2, 2, 2, 2]\n"
     ]
    }
   ],
   "source": [
    "a = [1, 1, 2, 2, 2]\n",
    "\n",
    "# a = [3, 3, 3, 3, 4]\n",
    "\n",
    "\n",
    "def solve(index, a, path):\n",
    "    if len(path) == 4 and index >= len(a) and all(path[0] == x for x in path):\n",
    "        print(path)\n",
    "\n",
    "    if index >= len(a):\n",
    "        return\n",
    "\n",
    "    for i in range(index, len(a)):\n",
    "        s = sum(a[index : i + 1])\n",
    "        path.append(s)\n",
    "        solve(i + 1, a, path)\n",
    "        path.pop()\n",
    "\n",
    "\n",
    "solve(0, a, [])"
   ]
  },
  {
   "cell_type": "code",
   "execution_count": 90,
   "metadata": {},
   "outputs": [
    {
     "name": "stdout",
     "output_type": "stream",
     "text": [
      "10\n",
      "12\n",
      "21\n",
      "23\n",
      "32\n",
      "34\n",
      "43\n",
      "45\n",
      "54\n",
      "56\n",
      "65\n",
      "67\n",
      "76\n",
      "78\n",
      "87\n",
      "89\n",
      "98\n"
     ]
    }
   ],
   "source": [
    "n = 2\n",
    "k = 1\n",
    "\n",
    "\n",
    "def solve(n, k, path, prev):\n",
    "\n",
    "    if n == 0:\n",
    "        print(path)\n",
    "        return\n",
    "\n",
    "    if prev == -1:\n",
    "        start = 1\n",
    "    else:\n",
    "        start = 0\n",
    "\n",
    "    for i in range(start, 10):\n",
    "        if prev == -1 or abs(prev - i) == k:\n",
    "            # path.append(i)\n",
    "            solve(n - 1, k, path + str(i), i)\n",
    "            # path.pop()\n",
    "\n",
    "\n",
    "solve(n, k, \"\", -1)"
   ]
  },
  {
   "cell_type": "code",
   "execution_count": 91,
   "metadata": {},
   "outputs": [
    {
     "data": {
      "text/plain": [
       "5"
      ]
     },
     "execution_count": 91,
     "metadata": {},
     "output_type": "execute_result"
    }
   ],
   "source": [
    "s = \"ababccc\"\n",
    "\n",
    "\n",
    "def solve(s, path):\n",
    "    if len(s) <= 0:\n",
    "        return len(path)\n",
    "\n",
    "    ans = 1\n",
    "    for i in range(1, len(s) + 1):\n",
    "        curr = s[:i]\n",
    "        if curr not in path:\n",
    "            path.add(curr)\n",
    "            ans = max(ans, solve(s[i:], path))\n",
    "            path.discard(curr)\n",
    "    return ans\n",
    "\n",
    "\n",
    "solve(s, set())"
   ]
  },
  {
   "cell_type": "markdown",
   "metadata": {},
   "source": [
    "A string is beautiful if:\n",
    "\n",
    "It doesn't contain leading zeros.\n",
    "\n",
    "It's the binary representation of a number that is a power of 5."
   ]
  },
  {
   "cell_type": "code",
   "execution_count": 92,
   "metadata": {},
   "outputs": [],
   "source": [
    "s = \"0\"\n",
    "\n",
    "s = \"1011\"\n",
    "\n",
    "\n",
    "def good(s):\n",
    "    # s = int(string, 2)\n",
    "\n",
    "    i = 1\n",
    "    while i <= s:\n",
    "        if i == s:\n",
    "            return True\n",
    "        i *= 5\n",
    "    return False\n",
    "\n",
    "\n",
    "def solve(s):\n",
    "    if not s:\n",
    "        return 0\n",
    "\n",
    "    cost = float(\"inf\")\n",
    "    for i in range(1, len(s) + 1):\n",
    "        curr = s[:i]\n",
    "        if curr[0] == \"0\":\n",
    "            return float(\"inf\")\n",
    "            # cost = min(cost, 1 + solve(s[1:]))\n",
    "        num = int(curr, 2)\n",
    "        if num != 0 and good(num):  # int(curr, 2) == 1 or int(curr, 2) % 5 == 0:\n",
    "            cost = min(cost, 1 + solve(s[i:]))\n",
    "\n",
    "    return cost"
   ]
  },
  {
   "cell_type": "code",
   "execution_count": 93,
   "metadata": {},
   "outputs": [
    {
     "data": {
      "text/plain": [
       "2"
      ]
     },
     "execution_count": 93,
     "metadata": {},
     "output_type": "execute_result"
    }
   ],
   "source": [
    "solve(s)"
   ]
  },
  {
   "cell_type": "markdown",
   "metadata": {},
   "source": [
    "There are k workers that you can assign jobs to. Each job should be assigned to exactly one worker.\n",
    "\n",
    "The working time of a worker is the sum of the time it takes to complete all jobs assigned to them.\n",
    " \n",
    "Your goal is to devise an optimal assignment such that the maximum working time of any worker is minimized.\n",
    "\n",
    "Return the minimum possible maximum working time of any assignment.\n",
    "\n",
    "Input: jobs = [3,2,3], k = 3\n",
    "Output: 3\n",
    "Explanation: By assigning each person one job, the maximum time is 3.\n",
    "Example 2:\n",
    "\n",
    "Input: jobs = [1,2,4,7,8], k = 2\n",
    "Output: 11\n",
    "Explanation: Assign the jobs the following way:\n",
    "Worker 1: 1, 2, 8 (working time = 1 + 2 + 8 = 11)\n",
    "Worker 2: 4, 7 (working time = 4 + 7 = 11)\n",
    "The maximum working time is 11."
   ]
  },
  {
   "cell_type": "code",
   "execution_count": 94,
   "metadata": {},
   "outputs": [],
   "source": [
    "def dfs(pos: int, jobs: List[int], workers: List[int]) -> int:\n",
    "    if pos >= len(jobs):\n",
    "        return max(workers)\n",
    "\n",
    "    mn = float(\"inf\")\n",
    "    # we keep track of visited here to skip workers\n",
    "    # with the same current value of assigned work\n",
    "    # this is an important step in pruning the number\n",
    "    # of workers to explore\n",
    "    visited = set()\n",
    "    for widx in range(len(workers)):\n",
    "\n",
    "        if workers[widx] in visited:\n",
    "            continue\n",
    "        visited.add(workers[widx])\n",
    "\n",
    "        # try this worker\n",
    "        workers[widx] += jobs[pos]\n",
    "\n",
    "        if max(workers) < mn:\n",
    "            # if it's better than our previous proceed\n",
    "            res = dfs(pos + 1, jobs, workers)\n",
    "            mn = min(mn, res)\n",
    "\n",
    "        # backtrack\n",
    "        workers[widx] -= jobs[pos]\n",
    "\n",
    "    return mn\n",
    "\n",
    "\n",
    "def minimumTimeRequired(jobs: List[int], k: int) -> int:\n",
    "    # sorting the jobs means that highest value jobs are assigned first\n",
    "    # and more computations can be skipped by pruning\n",
    "    jobs.sort(reverse=True)\n",
    "    return dfs(0, jobs, [0] * k)\n",
    "\n",
    "\n",
    "class Solution:\n",
    "    def minimumTimeRequired(self, jobs: List[int], k: int) -> int:\n",
    "        # Sort the jobs in descending order\n",
    "        jobs.sort(reverse=True)\n",
    "\n",
    "        # Define binary search boundaries\n",
    "        left, right = max(jobs), sum(jobs)\n",
    "        ans = right\n",
    "\n",
    "        def canDistribute(maxWorkload):\n",
    "            # Track how many workers are used and their current workloads\n",
    "            workers = [0] * k\n",
    "\n",
    "            def assignJob(jobIndex):\n",
    "                if jobIndex == len(jobs):\n",
    "                    return True\n",
    "                for i in range(k):\n",
    "                    if workers[i] + jobs[jobIndex] <= maxWorkload:\n",
    "                        workers[i] += jobs[jobIndex]\n",
    "                        if assignJob(jobIndex + 1):\n",
    "                            return True\n",
    "                        workers[i] -= jobs[jobIndex]\n",
    "                    # If this worker has no jobs assigned yet, break to avoid duplicates\n",
    "                    if workers[i] == 0:\n",
    "                        break\n",
    "                return False\n",
    "\n",
    "            return assignJob(0)\n",
    "\n",
    "        # Binary search to find the minimum possible maximum workload\n",
    "        while left <= right:\n",
    "            mid = (left + right) // 2\n",
    "            if canDistribute(mid):\n",
    "                ans = min(ans, mid)\n",
    "                right = mid - 1\n",
    "            else:\n",
    "                left = mid + 1\n",
    "\n",
    "        return ans"
   ]
  },
  {
   "cell_type": "code",
   "execution_count": 95,
   "metadata": {},
   "outputs": [
    {
     "name": "stdout",
     "output_type": "stream",
     "text": [
      "[1, 2, 1]\n",
      "[1, 1, 2]\n",
      "[2, 1, 1]\n"
     ]
    }
   ],
   "source": [
    "def permuteRec(s, idx, ans, key):\n",
    "\n",
    "    # Base case\n",
    "    if idx == len(s) - 1:\n",
    "        key_ = \"_\".join(str(c) for c in s)\n",
    "        if key_ not in key:\n",
    "            key.add(key_)\n",
    "            print(s)\n",
    "        return\n",
    "\n",
    "    for i in range(idx, len(s)):\n",
    "\n",
    "        # Swapping\n",
    "        s[i], s[idx] = s[idx], s[i]\n",
    "\n",
    "        # First idx+1 characters fixed\n",
    "        permuteRec(s, idx + 1, ans, key)\n",
    "\n",
    "        # Backtrack\n",
    "        s[i], s[idx] = s[idx], s[i]\n",
    "\n",
    "\n",
    "s = [1, 2, 1]\n",
    "ans = []\n",
    "key = set()\n",
    "permuteRec(s, 0, ans, key)"
   ]
  },
  {
   "cell_type": "code",
   "execution_count": 96,
   "metadata": {},
   "outputs": [
    {
     "name": "stdout",
     "output_type": "stream",
     "text": [
      "[1, 1, 2]\n",
      "[1, 2, 1]\n",
      "[2, 1, 1]\n"
     ]
    }
   ],
   "source": [
    "from typing import List\n",
    "from collections import Counter\n",
    "\n",
    "\n",
    "def recurPermute(nums, freq, ds):\n",
    "    if len(ds) == len(nums):\n",
    "        print(ds)\n",
    "        return\n",
    "    for k in freq:\n",
    "        if freq[k] != 0:\n",
    "            ds.append(k)\n",
    "            freq[k] -= 1\n",
    "            recurPermute(nums, freq, ds)\n",
    "            freq[k] += 1\n",
    "            ds.pop()\n",
    "\n",
    "\n",
    "ds = []\n",
    "nums = [1, 2, 1]\n",
    "freq = Counter(nums)\n",
    "recurPermute(nums, freq, ds)"
   ]
  },
  {
   "cell_type": "code",
   "execution_count": 97,
   "metadata": {},
   "outputs": [
    {
     "name": "stdout",
     "output_type": "stream",
     "text": [
      "[1, 2, 3]\n",
      "[1, 3, 2]\n",
      "[2, 1, 3]\n",
      "[2, 3, 1]\n",
      "[3, 1, 2]\n",
      "[3, 2, 1]\n"
     ]
    }
   ],
   "source": [
    "def recurPermute(nums, freq, ds):\n",
    "    if len(ds) == len(nums):\n",
    "        print(ds)\n",
    "        return\n",
    "    for k in freq:\n",
    "        if freq[k] != 0:\n",
    "            ds.append(k)\n",
    "            freq[k] -= 1\n",
    "            recurPermute(nums, freq, ds)\n",
    "            freq[k] += 1\n",
    "            ds.pop()\n",
    "\n",
    "\n",
    "ds = []\n",
    "nums = [1, 2, 3]\n",
    "freq = Counter(nums)\n",
    "recurPermute(nums, freq, ds)"
   ]
  },
  {
   "cell_type": "code",
   "execution_count": 98,
   "metadata": {},
   "outputs": [
    {
     "name": "stdout",
     "output_type": "stream",
     "text": [
      "[1, 2, 1]\n",
      "[1, 1, 2]\n",
      "[2, 1, 1]\n"
     ]
    }
   ],
   "source": [
    "def permuteRec(s, idx, ans):\n",
    "\n",
    "    # Base case\n",
    "    if idx == len(s) - 1:\n",
    "        # key_ = \"_\".join(str(c) for c in s)\n",
    "        # if key_ not in key:\n",
    "        #     key.add(key_)\n",
    "        print(s)\n",
    "        return\n",
    "    key = set()\n",
    "    for i in range(idx, len(s)):\n",
    "        if s[i] not in key:\n",
    "            key.add(s[i])\n",
    "\n",
    "            # Swapping\n",
    "            s[i], s[idx] = s[idx], s[i]\n",
    "\n",
    "            # First idx+1 characters fixed\n",
    "            permuteRec(s, idx + 1, ans)\n",
    "\n",
    "            # Backtrack\n",
    "            s[i], s[idx] = s[idx], s[i]\n",
    "\n",
    "\n",
    "s = [1, 2, 1]\n",
    "ans = []\n",
    "# key = set()\n",
    "permuteRec(s, 0, ans)"
   ]
  },
  {
   "cell_type": "code",
   "execution_count": 99,
   "metadata": {},
   "outputs": [
    {
     "name": "stdout",
     "output_type": "stream",
     "text": [
      "[1, 8, 17]\n",
      "[17, 8, 1]\n"
     ]
    }
   ],
   "source": [
    "def is_num_square(num):\n",
    "    return int(num**0.5) == num**0.5\n",
    "\n",
    "\n",
    "def is_square(s):\n",
    "    for j in range(1, len(s)):\n",
    "        if is_num_square(s[j] + s[j - 1]) == False:\n",
    "            return False\n",
    "    return True\n",
    "\n",
    "\n",
    "def permuteRec(s, idx, ans):\n",
    "\n",
    "    # Base case\n",
    "    if idx == len(s) - 1:\n",
    "        if is_square(s):\n",
    "            print(s)\n",
    "        return\n",
    "    key = set()\n",
    "    for i in range(idx, len(s)):\n",
    "        if s[i] not in key:\n",
    "            key.add(s[i])\n",
    "\n",
    "            # Swapping\n",
    "            s[i], s[idx] = s[idx], s[i]\n",
    "\n",
    "            # First idx+1 characters fixed\n",
    "            permuteRec(s, idx + 1, ans)\n",
    "\n",
    "            # Backtrack\n",
    "            s[i], s[idx] = s[idx], s[i]\n",
    "\n",
    "\n",
    "s = [1, 17, 8]\n",
    "ans = []\n",
    "# key = set()\n",
    "permuteRec(s, 0, ans)"
   ]
  },
  {
   "cell_type": "markdown",
   "metadata": {},
   "source": [
    "The unfairness of a distribution is defined as the maximum total cookies obtained by a single child in the distribution.\n",
    "\n",
    "Return the minimum unfairness of all distributions.\n",
    "\n",
    "cookies = [8,15,10,20,8], k = 2\n",
    "Output: 31\n",
    "Explanation: One optimal distribution is [8,15,8] and [10,20]\n",
    "- The 1st child receives [8,15,8] which has a total of 8 + 15 + 8 = 31 cookies.\n",
    "- The 2nd child receives [10,20] which has a total of 10 + 20 = 30 cookies.\n",
    "The unfairness of the distribution is max(31,30) = 31.\n",
    "It can be shown that there is no distribution with an unfairness less than 31."
   ]
  },
  {
   "cell_type": "code",
   "execution_count": 100,
   "metadata": {},
   "outputs": [],
   "source": [
    "class Solution:\n",
    "    def distributeCookies(self, cookies: List[int], k: int) -> int:\n",
    "        minimum = float(\"inf\")\n",
    "\n",
    "        def dfs(i, arr):\n",
    "            if i == len(cookies):\n",
    "                return max(arr)\n",
    "\n",
    "            minimum = float(\"inf\")\n",
    "            for idx in range(len(arr)):\n",
    "                if arr[idx] + cookies[i] >= minimum:\n",
    "                    continue\n",
    "                arr[idx] += cookies[i]\n",
    "                minimum = min(minimum, dfs(i + 1, arr))\n",
    "                arr[idx] -= cookies[i]\n",
    "            return minimum\n",
    "\n",
    "        arr = [0 for _ in range(k)]\n",
    "        return dfs(0, arr)"
   ]
  },
  {
   "cell_type": "code",
   "execution_count": 101,
   "metadata": {},
   "outputs": [],
   "source": [
    "def optimalStrategyOfGame(arr, n):\n",
    "    memo = {}\n",
    "\n",
    "    # recursive top down memoized solution\n",
    "    def solve(i, j):\n",
    "        if i > j or i >= n or j < 0:\n",
    "            return 0\n",
    "\n",
    "        k = (i, j)\n",
    "        if k in memo:\n",
    "            return memo[k]\n",
    "\n",
    "        # if the user chooses ith coin, the opponent can choose from i+1th or jth coin.\n",
    "        # if he chooses i+1th coin, user is left with [i+2,j] range.\n",
    "        # if opp chooses jth coin, then user is left with [i+1,j-1] range to choose from.\n",
    "        # Also opponent tries to choose\n",
    "        # in such a way that the user has minimum value left.\n",
    "        option1 = arr[i] + min(solve(i + 2, j), solve(i + 1, j - 1))\n",
    "\n",
    "        # if user chooses jth coin, opponent can choose ith coin or j-1th coin.\n",
    "        # if opp chooses ith coin,user can choose in range [i+1,j-1].\n",
    "        # if opp chooses j-1th coin, user can choose in range [i,j-2].\n",
    "        option2 = arr[j] + min(solve(i + 1, j - 1), solve(i, j - 2))\n",
    "\n",
    "        # since the user wants to get maximum money\n",
    "        memo[k] = max(option1, option2)\n",
    "        return memo[k]\n",
    "\n",
    "    return solve(0, n - 1)"
   ]
  },
  {
   "cell_type": "code",
   "execution_count": 102,
   "metadata": {},
   "outputs": [
    {
     "data": {
      "text/plain": [
       "234"
      ]
     },
     "execution_count": 102,
     "metadata": {},
     "output_type": "execute_result"
    }
   ],
   "source": [
    "a = [1, 5, 233, 7]\n",
    "optimalStrategyOfGame(a, len(a))"
   ]
  },
  {
   "cell_type": "code",
   "execution_count": 103,
   "metadata": {},
   "outputs": [
    {
     "data": {
      "text/plain": [
       "13"
      ]
     },
     "execution_count": 103,
     "metadata": {},
     "output_type": "execute_result"
    }
   ],
   "source": [
    "a = [1, 5, 233, 7]\n",
    "sum(a) - 233"
   ]
  },
  {
   "cell_type": "code",
   "execution_count": 104,
   "metadata": {},
   "outputs": [],
   "source": [
    "n = 3\n",
    "from collections import deque\n",
    "\n",
    "q = deque([\"0\", \"1\"])"
   ]
  },
  {
   "cell_type": "code",
   "execution_count": 105,
   "metadata": {},
   "outputs": [
    {
     "name": "stdout",
     "output_type": "stream",
     "text": [
      "011\n",
      "010\n",
      "111\n",
      "110\n",
      "101\n"
     ]
    }
   ],
   "source": [
    "k = 1\n",
    "while q:\n",
    "    curr = q.popleft()\n",
    "    if len(curr) == n:\n",
    "        print(curr)\n",
    "        continue\n",
    "\n",
    "    if curr[-1] == \"0\":\n",
    "        q.append(curr + \"1\")\n",
    "\n",
    "    else:\n",
    "        q.append(curr + \"1\")\n",
    "        q.append(curr + \"0\")"
   ]
  },
  {
   "cell_type": "code",
   "execution_count": 106,
   "metadata": {},
   "outputs": [
    {
     "data": {
      "text/plain": [
       "23"
      ]
     },
     "execution_count": 106,
     "metadata": {},
     "output_type": "execute_result"
    }
   ],
   "source": [
    "def calculate(s) -> int:\n",
    "    number = 0\n",
    "    sign_value = 1\n",
    "    result = 0\n",
    "    operations_stack = []\n",
    "\n",
    "    for c in s:\n",
    "        if c.isdigit():\n",
    "            number = number * 10 + int(c)\n",
    "        elif c in \"+-\":\n",
    "            result += number * sign_value\n",
    "            sign_value = -1 if c == \"-\" else 1\n",
    "            number = 0\n",
    "        elif c == \"(\":\n",
    "            operations_stack.append(result)\n",
    "            operations_stack.append(sign_value)\n",
    "            result = 0\n",
    "            sign_value = 1\n",
    "        elif c == \")\":\n",
    "            result += sign_value * number\n",
    "            result *= operations_stack.pop()\n",
    "            result += operations_stack.pop()\n",
    "            number = 0\n",
    "\n",
    "    return result + number * sign_value\n",
    "\n",
    "\n",
    "s = \"(1+(4+5+2)-3)+(6+8)\"\n",
    "calculate(s)"
   ]
  },
  {
   "cell_type": "code",
   "execution_count": null,
   "metadata": {},
   "outputs": [],
   "source": []
  },
  {
   "cell_type": "code",
   "execution_count": 107,
   "metadata": {},
   "outputs": [
    {
     "name": "stdout",
     "output_type": "stream",
     "text": [
      "1+2+3\n",
      "1*2*3\n"
     ]
    }
   ],
   "source": [
    "def dfs(index, prev_operand, current_operand, value, expression):\n",
    "    if index == n:\n",
    "        if value == target and current_operand == 0:\n",
    "            print(\"\".join(expression))\n",
    "        return\n",
    "\n",
    "    current_operand = current_operand * 10 + int(num[index])\n",
    "    str_op = str(current_operand)\n",
    "\n",
    "    if current_operand > 0:\n",
    "        dfs(index + 1, prev_operand, current_operand, value, expression)\n",
    "\n",
    "    if expression:\n",
    "        expression.append(\"+\")\n",
    "        expression.append(str_op)\n",
    "        dfs(index + 1, current_operand, 0, value + current_operand, expression)\n",
    "        expression.pop()\n",
    "        expression.pop()\n",
    "\n",
    "        expression.append(\"-\")\n",
    "        expression.append(str_op)\n",
    "        dfs(index + 1, -current_operand, 0, value - current_operand, expression)\n",
    "        expression.pop()\n",
    "        expression.pop()\n",
    "\n",
    "        expression.append(\"*\")\n",
    "        expression.append(str_op)\n",
    "        dfs(\n",
    "            index + 1,\n",
    "            current_operand * prev_operand,\n",
    "            0,\n",
    "            value - prev_operand + (current_operand * prev_operand),\n",
    "            expression,\n",
    "        )\n",
    "        expression.pop()\n",
    "        expression.pop()\n",
    "    else:\n",
    "        expression.append(str_op)\n",
    "        dfs(index + 1, current_operand, 0, current_operand, expression)\n",
    "        expression.pop()\n",
    "\n",
    "\n",
    "num = \"123\"\n",
    "target = 6\n",
    "n = len(num)\n",
    "results = []\n",
    "dfs(0, 0, 0, 0, [])"
   ]
  },
  {
   "cell_type": "code",
   "execution_count": 108,
   "metadata": {},
   "outputs": [
    {
     "data": {
      "text/plain": [
       "[2, 0]"
      ]
     },
     "execution_count": 108,
     "metadata": {},
     "output_type": "execute_result"
    }
   ],
   "source": [
    "def diffWaysToCompute(expression):\n",
    "    # Memoization to store results of sub-expressions\n",
    "    memo = {}\n",
    "\n",
    "    # Helper function to compute the result recursively\n",
    "    def compute(expr):\n",
    "        # If the expression has already been computed, return the cached result\n",
    "        if expr in memo:\n",
    "            return memo[expr]\n",
    "\n",
    "        # Result list for this sub-expression\n",
    "        res = []\n",
    "\n",
    "        # Iterate through the expression\n",
    "        for i in range(len(expr)):\n",
    "            if expr[i] in \"+-*\":  # If the character is an operator\n",
    "                # Split the expression into two parts and recursively compute their results\n",
    "                left = compute(expr[:i])\n",
    "                right = compute(expr[i + 1 :])\n",
    "\n",
    "                # Apply the operator to every combination of results from left and right parts\n",
    "                for l in left:\n",
    "                    for r in right:\n",
    "                        if expr[i] == \"+\":\n",
    "                            res.append(l + r)\n",
    "                        elif expr[i] == \"-\":\n",
    "                            res.append(l - r)\n",
    "                        elif expr[i] == \"*\":\n",
    "                            res.append(l * r)\n",
    "\n",
    "        # If no operator is found, it means the expression is a single number\n",
    "        if not res:\n",
    "            res.append(int(expr))\n",
    "\n",
    "        # Cache the result for this sub-expression\n",
    "        memo[expr] = res\n",
    "        return res\n",
    "\n",
    "    # Call the helper function on the full expression\n",
    "    return compute(expression)\n",
    "\n",
    "\n",
    "expression = \"2-1-1\"\n",
    "diffWaysToCompute(expression)"
   ]
  },
  {
   "cell_type": "code",
   "execution_count": 109,
   "metadata": {},
   "outputs": [
    {
     "name": "stdout",
     "output_type": "stream",
     "text": [
      "Original stack is deque([1, 2, 3, 4, 5])\n",
      "Reversed stack is deque([5, 4, 3, 2, 1])\n"
     ]
    }
   ],
   "source": [
    "from collections import deque\n",
    "\n",
    "\n",
    "# Recursive function to insert an item at the bottom of a given stack\n",
    "def insertAtBottom(s, item):\n",
    "\n",
    "    # base case: if the stack is empty, insert the given item at the bottom\n",
    "    if not s:\n",
    "        s.append(item)\n",
    "        return\n",
    "\n",
    "    # Pop all items from the stack and hold them in the call stack\n",
    "    top = s.pop()\n",
    "    insertAtBottom(s, item)\n",
    "\n",
    "    # After the recursion unfolds, push each item in the call stack\n",
    "    # at the top of the stack\n",
    "    s.append(top)\n",
    "\n",
    "\n",
    "# Recursive function to reverse a given stack\n",
    "def reverseStack(s):\n",
    "\n",
    "    # base case: stack is empty\n",
    "    if not s:\n",
    "        return\n",
    "\n",
    "    # Pop all items from the stack and hold them in the call stack\n",
    "    item = s.pop()\n",
    "    reverseStack(s)\n",
    "\n",
    "    # After the recursion unfolds, insert each item in the call stack\n",
    "    # at the bottom of the stack\n",
    "    insertAtBottom(s, item)\n",
    "\n",
    "\n",
    "if __name__ == \"__main__\":\n",
    "\n",
    "    s = deque(range(1, 6))\n",
    "    print(\"Original stack is\", s)\n",
    "    reverseStack(s)\n",
    "    print(\"Reversed stack is\", s)"
   ]
  },
  {
   "cell_type": "code",
   "execution_count": 110,
   "metadata": {},
   "outputs": [
    {
     "name": "stdout",
     "output_type": "stream",
     "text": [
      "Stack before sorting: [5, -2, 9, -7, 3]\n",
      "Stack after sorting: [-7, -2, 3, 5, 9]\n"
     ]
    }
   ],
   "source": [
    "from collections import deque\n",
    "\n",
    "\n",
    "# Insert the given key into the sorted stack while maintaining its sorted order.\n",
    "# This is similar to the recursive insertion sort routine\n",
    "def sortedInsert(stack, key):\n",
    "\n",
    "    # base case: if the stack is empty or\n",
    "    # the key is greater than all elements in the stack\n",
    "    if not stack or key > stack[-1]:\n",
    "        stack.append(key)\n",
    "        return\n",
    "\n",
    "    \"\"\" We reach here when the key is smaller than the top element \"\"\"\n",
    "\n",
    "    # remove the top element\n",
    "    top = stack.pop()\n",
    "\n",
    "    # recur for the remaining elements in the stack\n",
    "    sortedInsert(stack, key)\n",
    "\n",
    "    # insert the popped element back into the stack\n",
    "    stack.append(top)\n",
    "\n",
    "\n",
    "# Recursive method to sort a stack\n",
    "def sortStack(stack):\n",
    "\n",
    "    # base case: stack is empty\n",
    "    if not stack:\n",
    "        return\n",
    "\n",
    "    # remove the top element\n",
    "    top = stack.pop()\n",
    "\n",
    "    # recur for the remaining elements in the stack\n",
    "    sortStack(stack)\n",
    "\n",
    "    # insert the popped element back into the sorted stack\n",
    "    sortedInsert(stack, top)\n",
    "\n",
    "\n",
    "if __name__ == \"__main__\":\n",
    "\n",
    "    A = [5, -2, 9, -7, 3]\n",
    "\n",
    "    stack = deque(A)\n",
    "\n",
    "    print(\"Stack before sorting:\", list(stack))\n",
    "    sortStack(stack)\n",
    "    print(\"Stack after sorting:\", list(stack))"
   ]
  },
  {
   "cell_type": "code",
   "execution_count": 111,
   "metadata": {},
   "outputs": [
    {
     "data": {
      "text/plain": [
       "True"
      ]
     },
     "execution_count": 111,
     "metadata": {},
     "output_type": "execute_result"
    }
   ],
   "source": [
    "s = \"malayalam\"\n",
    "\n",
    "\n",
    "def check(l, r, s):\n",
    "    if l == r:\n",
    "        return True\n",
    "    if l > r:\n",
    "        return False\n",
    "    return (s[l] == s[r]) and check(l + 1, r - 1, s)\n",
    "\n",
    "\n",
    "check(0, len(s) - 1, s)"
   ]
  },
  {
   "cell_type": "code",
   "execution_count": 112,
   "metadata": {},
   "outputs": [
    {
     "name": "stdout",
     "output_type": "stream",
     "text": [
      "7.0\n"
     ]
    }
   ],
   "source": [
    "#  Most efficient Python program to count all\n",
    "# substrings with same first and last characters.\n",
    "\n",
    "MAX_CHAR = 26\n",
    "# assuming lower case only\n",
    "\n",
    "\n",
    "def countSubstringWithEqualEnds(s):\n",
    "    result = 0\n",
    "    n = len(s)\n",
    "\n",
    "    # Calculating frequency of each character\n",
    "    # in the string.\n",
    "    count = [0] * MAX_CHAR\n",
    "    for i in range(n):\n",
    "        count[ord(s[i]) - ord(\"a\")] += 1\n",
    "\n",
    "    # Computing result using counts\n",
    "    for i in range(MAX_CHAR):\n",
    "        result += count[i] * (count[i] + 1) / 2\n",
    "\n",
    "    return result\n",
    "\n",
    "\n",
    "# Driver code\n",
    "s = \"abcab\"\n",
    "print(countSubstringWithEqualEnds(s))"
   ]
  },
  {
   "cell_type": "code",
   "execution_count": 113,
   "metadata": {},
   "outputs": [
    {
     "name": "stdout",
     "output_type": "stream",
     "text": [
      "00000 00100 01001 01101 01010 01110 10001 10101 10010 10110 11011 11111 "
     ]
    }
   ],
   "source": [
    "# Python program to generate all binary strings with\n",
    "# equal sums in left and right halves.\n",
    "\n",
    "\n",
    "# n is number of bits remaining to be filled\n",
    "# di is current difference between sums of\n",
    "# left and right halves.\n",
    "# left and right are current half substrings.\n",
    "def equal(n: int, left=\"\", right=\"\", di=0):\n",
    "\n",
    "    # TWO BASE CASES\n",
    "    # If there are no more characters to add (n is 0)\n",
    "    if n == 0:\n",
    "\n",
    "        # If difference between counts of 1s and\n",
    "        # 0s is 0 (di is 0)\n",
    "        if di == 0:\n",
    "            print(left + right, end=\" \")\n",
    "        return\n",
    "\n",
    "    # If 1 remains than string length was odd\n",
    "    if n == 1:\n",
    "\n",
    "        # If difference is 0, we can put remaining\n",
    "        # bit in middle.\n",
    "        if di == 0:\n",
    "            print(left + \"0\" + right, end=\" \")\n",
    "            print(left + \"1\" + right, end=\" \")\n",
    "        return\n",
    "\n",
    "    # If difference is more than what can be\n",
    "    # be covered with remaining n digits\n",
    "    # (Note that lengths of left and right\n",
    "    # must be same)\n",
    "    if 2 * abs(di) <= n:\n",
    "\n",
    "        # add 0 to end in both left and right\n",
    "        # half. Sum in both half will not\n",
    "        # change\n",
    "        equal(n - 2, left + \"0\", right + \"0\", di)\n",
    "\n",
    "        # add 0 to end in both left and right\n",
    "        # half* subtract 1 from di as right\n",
    "        # sum is increased by 1\n",
    "        equal(n - 2, left + \"0\", right + \"1\", di - 1)\n",
    "\n",
    "        # add 1 in end in left half and 0 to the\n",
    "        # right half. Add 1 to di as left sum is\n",
    "        # increased by 1\n",
    "        equal(n - 2, left + \"1\", right + \"0\", di + 1)\n",
    "\n",
    "        # add 1 in end to both left and right\n",
    "        # half the sum will not change\n",
    "        equal(n - 2, left + \"1\", right + \"1\", di)\n",
    "\n",
    "\n",
    "# Driver Code\n",
    "if __name__ == \"__main__\":\n",
    "    n = 5  # n-bits\n",
    "    equal(5)"
   ]
  },
  {
   "cell_type": "code",
   "execution_count": 114,
   "metadata": {},
   "outputs": [],
   "source": [
    "k = 3\n",
    "n = 5\n",
    "\n",
    "\n",
    "#  two positive integers n and k, print all increasing sequences of length k such that the elements in every sequence are from the first n natural numbers.\n",
    "def solve(index, k, n, path, prev):\n",
    "\n",
    "    if k <= 0:\n",
    "        print(path)\n",
    "        return\n",
    "\n",
    "    if index > n:\n",
    "        return\n",
    "    for i in range(index, n + 1):\n",
    "        if prev != -1 or i > prev:\n",
    "            path.append(i)\n",
    "            solve(i + 1, k - 1, n, path, i)\n",
    "            path.pop()"
   ]
  },
  {
   "cell_type": "code",
   "execution_count": 115,
   "metadata": {},
   "outputs": [
    {
     "name": "stdout",
     "output_type": "stream",
     "text": [
      "[1, 2, 3]\n",
      "[1, 2, 4]\n",
      "[1, 2, 5]\n",
      "[1, 3, 4]\n",
      "[1, 3, 5]\n",
      "[1, 4, 5]\n",
      "[2, 3, 4]\n",
      "[2, 3, 5]\n",
      "[2, 4, 5]\n",
      "[3, 4, 5]\n"
     ]
    }
   ],
   "source": [
    "solve(1, k, n, [], -1)"
   ]
  },
  {
   "cell_type": "code",
   "execution_count": 116,
   "metadata": {},
   "outputs": [
    {
     "data": {
      "text/plain": [
       "['((()))', '(()())', '(())()', '()(())', '()()()']"
      ]
     },
     "execution_count": 116,
     "metadata": {},
     "output_type": "execute_result"
    }
   ],
   "source": [
    "def solve(open, close, curr, ans):\n",
    "    if open == 0 and close == 0:\n",
    "        ans.append(curr)\n",
    "        return\n",
    "    if open < 0 or close < 0 or open > close:\n",
    "        return\n",
    "    curr += \"(\"\n",
    "    solve(open - 1, close, curr, ans)\n",
    "    curr = curr[:-1]\n",
    "    curr += \")\"\n",
    "    solve(open, close - 1, curr, ans)\n",
    "    curr = curr[:-1]\n",
    "\n",
    "\n",
    "ans = []\n",
    "solve(3, 3, \"\", ans)\n",
    "ans"
   ]
  },
  {
   "cell_type": "code",
   "execution_count": 117,
   "metadata": {},
   "outputs": [
    {
     "name": "stdout",
     "output_type": "stream",
     "text": [
      " cat sand dog\n",
      " cats and dog\n"
     ]
    }
   ],
   "source": [
    "s = \"catsanddog\"\n",
    "n = 5\n",
    "d = {\"cats\", \"cat\", \"and\", \"sand\", \"dog\"}\n",
    "\n",
    "\n",
    "def solve(s, path, d):\n",
    "    if not s:\n",
    "        print(path)\n",
    "        return\n",
    "    for i in range(1, len(s) + 1):\n",
    "        curr = s[:i]\n",
    "        if curr in d:\n",
    "            solve(s[i:], path + \" \" + curr, d)\n",
    "\n",
    "\n",
    "solve(s, \"\", d)"
   ]
  },
  {
   "cell_type": "code",
   "execution_count": 118,
   "metadata": {},
   "outputs": [
    {
     "name": "stdout",
     "output_type": "stream",
     "text": [
      "[1, 1, 1, 1]\n",
      "[1, 1, 2]\n",
      "[1, 3]\n",
      "[2, 2]\n",
      "[4]\n"
     ]
    }
   ],
   "source": [
    "def solve(index, n, path):\n",
    "    if n == 0:\n",
    "        print(path)\n",
    "        return\n",
    "    if index > n:\n",
    "        return\n",
    "    if index <= n:\n",
    "        path.append(index)\n",
    "        solve(index, n - index, path)\n",
    "        path.pop()\n",
    "\n",
    "    solve(index + 1, n, path)\n",
    "\n",
    "\n",
    "solve(1, 4, [])"
   ]
  },
  {
   "cell_type": "code",
   "execution_count": 119,
   "metadata": {},
   "outputs": [
    {
     "name": "stdout",
     "output_type": "stream",
     "text": [
      "[1, 3]\n",
      "[4]\n"
     ]
    }
   ],
   "source": [
    "def solve(index, n, path):\n",
    "    if n == 0:\n",
    "        print(path)\n",
    "        return\n",
    "    if index > n:\n",
    "        return\n",
    "    if index <= n:\n",
    "        path.append(index)\n",
    "        solve(index + 1, n - index, path)\n",
    "        path.pop()\n",
    "\n",
    "    solve(index + 1, n, path)\n",
    "\n",
    "\n",
    "solve(1, 4, [])"
   ]
  },
  {
   "cell_type": "code",
   "execution_count": 120,
   "metadata": {},
   "outputs": [
    {
     "name": "stdout",
     "output_type": "stream",
     "text": [
      "[1, 1, 1, 1]\n",
      "[1, 1, 2]\n",
      "[1, 2, 1]\n",
      "[1, 3]\n",
      "[2, 1, 1]\n",
      "[2, 2]\n",
      "[3, 1]\n",
      "[4]\n"
     ]
    }
   ],
   "source": [
    "def solve(index, s, n, path):\n",
    "    if s == 0:\n",
    "        print(path)\n",
    "        return\n",
    "    if s < 0:\n",
    "        return\n",
    "    for i in range(1, n + 1):\n",
    "        if i <= s:\n",
    "            path.append(i)\n",
    "            solve(i, s - i, n, path)\n",
    "            path.pop()\n",
    "\n",
    "\n",
    "n = 4\n",
    "solve(1, n, n, [])"
   ]
  },
  {
   "cell_type": "code",
   "execution_count": 121,
   "metadata": {},
   "outputs": [
    {
     "name": "stdout",
     "output_type": "stream",
     "text": [
      "[1, 1, 1, 1]\n",
      "[1, 1, 2]\n",
      "[1, 3]\n",
      "[2, 2]\n",
      "[4]\n"
     ]
    }
   ],
   "source": [
    "def solve(index, s, n, path):\n",
    "    if s == 0:\n",
    "        print(path)\n",
    "        return\n",
    "    if s < 0:\n",
    "        return\n",
    "    for i in range(index, n + 1):\n",
    "        if i <= s:\n",
    "            path.append(i)\n",
    "            solve(i, s - i, n, path)\n",
    "            path.pop()\n",
    "\n",
    "\n",
    "n = 4\n",
    "solve(1, n, n, [])"
   ]
  },
  {
   "cell_type": "code",
   "execution_count": 122,
   "metadata": {},
   "outputs": [
    {
     "name": "stdout",
     "output_type": "stream",
     "text": [
      "[1, 3]\n",
      "[4]\n"
     ]
    }
   ],
   "source": [
    "def solve(index, s, n, path):\n",
    "    if s == 0:\n",
    "        print(path)\n",
    "        return\n",
    "    if s < 0:\n",
    "        return\n",
    "    for i in range(index, n + 1):\n",
    "        if i <= s:\n",
    "            path.append(i)\n",
    "            solve(i + 1, s - i, n, path)\n",
    "            path.pop()\n",
    "\n",
    "\n",
    "n = 4\n",
    "solve(1, n, n, [])"
   ]
  },
  {
   "cell_type": "markdown",
   "metadata": {},
   "source": [
    "Given the total number of persons N and a number k which indicates that k-1 persons are skipped and the kth person is killed in a circle.\n",
    "\n",
    " The task is to choose the person in the initial circle that survives."
   ]
  },
  {
   "cell_type": "code",
   "execution_count": 123,
   "metadata": {},
   "outputs": [
    {
     "name": "stdout",
     "output_type": "stream",
     "text": [
      "13\n"
     ]
    }
   ],
   "source": [
    "# Josephus function which will take\n",
    "# two parameter N and K, number of people and positions respectively\n",
    "# return the position of person survives\n",
    "def Josephus(n, k):\n",
    "\n",
    "    # initialize two variables i and ans\n",
    "    i = 1\n",
    "    ans = 0\n",
    "    while i <= n:\n",
    "\n",
    "        # update the value of ans\n",
    "        ans = (ans + k) % i\n",
    "        i += 1\n",
    "\n",
    "    # returning the required answer\n",
    "    return ans + 1\n",
    "\n",
    "\n",
    "# driver code\n",
    "# let\n",
    "n = 14\n",
    "k = 2\n",
    "\n",
    "result = Josephus(n, k)\n",
    "print(result)"
   ]
  },
  {
   "cell_type": "markdown",
   "metadata": {},
   "source": [
    "he above sequences are Gray Codes of different widths. Following is an interesting pattern in Gray Codes.\n",
    "\n",
    "n-bit Gray Codes can be generated from list of (n-1)-bit Gray codes using following steps.\n",
    "\n",
    "Let the list of (n-1)-bit Gray codes be L1. Create another list L2 which is reverse of L1.\n",
    "\n",
    "Modify the list L1 by prefixing a ‘0’ in all codes of L1.\n",
    "\n",
    "Modify the list L2 by prefixing a ‘1’ in all codes of L2.\n",
    "\n",
    "Concatenate L1 and L2. The concatenated list is required list of n-bit Gray codes"
   ]
  },
  {
   "cell_type": "code",
   "execution_count": 124,
   "metadata": {},
   "outputs": [
    {
     "name": "stdout",
     "output_type": "stream",
     "text": [
      "000\n",
      "001\n",
      "011\n",
      "010\n",
      "110\n",
      "111\n",
      "101\n",
      "100\n"
     ]
    }
   ],
   "source": [
    "def generateGray(n):\n",
    "\n",
    "    # Base case\n",
    "    if n <= 0:\n",
    "        return [\"0\"]\n",
    "    if n == 1:\n",
    "        return [\"0\", \"1\"]\n",
    "\n",
    "    # Recursive case\n",
    "    recAns = generateGray(n - 1)\n",
    "\n",
    "    mainAns = []\n",
    "\n",
    "    # Append 0 to the first half\n",
    "    for i in range(len(recAns)):\n",
    "        s = recAns[i]\n",
    "        mainAns.append(\"0\" + s)\n",
    "\n",
    "    # Append 1 to the second half\n",
    "    for i in range(len(recAns) - 1, -1, -1):\n",
    "        s = recAns[i]\n",
    "        mainAns.append(\"1\" + s)\n",
    "\n",
    "    return mainAns\n",
    "\n",
    "\n",
    "# Function to generate the\n",
    "# Gray code of N bits\n",
    "def generateGrayarr(n):\n",
    "\n",
    "    arr = generateGray(n)\n",
    "\n",
    "    # Print contents of arr\n",
    "    print(*arr, sep=\"\\n\")\n",
    "\n",
    "\n",
    "# Driver Code\n",
    "generateGrayarr(3)"
   ]
  },
  {
   "cell_type": "code",
   "execution_count": 125,
   "metadata": {},
   "outputs": [
    {
     "name": "stdout",
     "output_type": "stream",
     "text": [
      "111\n",
      "110\n",
      "101\n"
     ]
    }
   ],
   "source": [
    "#  n-bit binary numbers where, for any prefix of the number, there are more or an equal number of 1's than 0's\n",
    "def solve(n, curr, ones, zeroes, s):\n",
    "    if zeroes <= ones and n == ones + zeroes:\n",
    "        print(curr)\n",
    "        # s.append(curr)\n",
    "        return\n",
    "    else:\n",
    "        if ones + zeroes < n:\n",
    "            solve(n, curr + \"1\", ones + 1, zeroes, s)\n",
    "        if ones > zeroes:\n",
    "            solve(n, curr + \"0\", ones, zeroes + 1, s)\n",
    "\n",
    "\n",
    "ones = 0\n",
    "zeroes = 0\n",
    "S = []\n",
    "solve(3, \"\", ones, zeroes, S)"
   ]
  },
  {
   "cell_type": "code",
   "execution_count": null,
   "metadata": {},
   "outputs": [],
   "source": []
  }
 ],
 "metadata": {
  "kernelspec": {
   "display_name": "Python 3",
   "language": "python",
   "name": "python3"
  },
  "language_info": {
   "codemirror_mode": {
    "name": "ipython",
    "version": 3
   },
   "file_extension": ".py",
   "mimetype": "text/x-python",
   "name": "python",
   "nbconvert_exporter": "python",
   "pygments_lexer": "ipython3",
   "version": "3.11.6"
  }
 },
 "nbformat": 4,
 "nbformat_minor": 2
}
